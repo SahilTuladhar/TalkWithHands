{
 "cells": [
  {
   "cell_type": "markdown",
   "metadata": {},
   "source": [
    "### Creating a LSTM Model"
   ]
  },
  {
   "cell_type": "code",
   "execution_count": 65,
   "metadata": {},
   "outputs": [],
   "source": [
    "from pymongo import MongoClient\n",
    "import numpy as np\n",
    "import os\n",
    "import random\n",
    "import tensorflow as tf\n",
    "import pandas as pd\n",
    "import pickle\n",
    "from tqdm import tqdm \n",
    "import matplotlib.pyplot as plt\n",
    "%matplotlib inline\n",
    "tqdm.pandas()"
   ]
  },
  {
   "cell_type": "code",
   "execution_count": 26,
   "metadata": {},
   "outputs": [],
   "source": [
    "from tensorflow.keras.models import Model , Sequential\n",
    "from tensorflow.keras.layers import LSTM , Dense , Flatten , Dropout , Input\n",
    "from tensorflow.keras.callbacks import TensorBoard , EarlyStopping"
   ]
  },
  {
   "cell_type": "code",
   "execution_count": 67,
   "metadata": {},
   "outputs": [],
   "source": [
    "\n",
    "from tensorflow.keras.utils import to_categorical\n",
    "from sklearn.model_selection import train_test_split\n",
    "from sklearn.metrics import multilabel_confusion_matrix , accuracy_score"
   ]
  },
  {
   "cell_type": "code",
   "execution_count": 28,
   "metadata": {},
   "outputs": [],
   "source": [
    "actions = np.array(['hello' , 'thankyou' , 'iloveyou'])\n",
    "\n",
    "# Creating Label Map \n",
    "\n",
    "label_map = {label:num for num , label in enumerate(actions)}"
   ]
  },
  {
   "cell_type": "code",
   "execution_count": 29,
   "metadata": {},
   "outputs": [
    {
     "data": {
      "text/plain": [
       "{'hello': 0, 'thankyou': 1, 'iloveyou': 2}"
      ]
     },
     "execution_count": 29,
     "metadata": {},
     "output_type": "execute_result"
    }
   ],
   "source": [
    "label_map"
   ]
  },
  {
   "cell_type": "code",
   "execution_count": 30,
   "metadata": {},
   "outputs": [],
   "source": [
    "tf.random.set_seed(17)\n",
    "np.random.seed(17)\n",
    "random.seed(17)"
   ]
  },
  {
   "cell_type": "markdown",
   "metadata": {},
   "source": [
    "#### 1. Extracting Data from MongoDB"
   ]
  },
  {
   "cell_type": "code",
   "execution_count": 31,
   "metadata": {},
   "outputs": [],
   "source": [
    "connection = MongoClient('localhost' , 27017)\n",
    "db = connection['mydb']\n",
    "collection = db['Preprocessed_Landmark_Data']"
   ]
  },
  {
   "cell_type": "code",
   "execution_count": 32,
   "metadata": {},
   "outputs": [],
   "source": [
    "cursor = collection.find({})\n",
    "df = pd.DataFrame(list(cursor))"
   ]
  },
  {
   "cell_type": "code",
   "execution_count": 33,
   "metadata": {},
   "outputs": [
    {
     "name": "stderr",
     "output_type": "stream",
     "text": [
      "100%|██████████| 300/300 [00:00<00:00, 378.98it/s]\n"
     ]
    }
   ],
   "source": [
    "df['Landmarks'] = df['Landmarks'].progress_apply(lambda landmarks : [np.array(x) if isinstance(x , list) else x for x in landmarks])"
   ]
  },
  {
   "cell_type": "code",
   "execution_count": 34,
   "metadata": {},
   "outputs": [
    {
     "data": {
      "text/plain": [
       "[array([ 0.5282082 ,  0.69970912, -0.78407443, ...,  0.        ,\n",
       "         0.        ,  0.        ]),\n",
       " array([ 0.55254889,  0.63023722, -0.78952068, ...,  0.        ,\n",
       "         0.        ,  0.        ]),\n",
       " array([ 0.55559933,  0.61130732, -0.7708981 , ...,  0.        ,\n",
       "         0.        ,  0.        ]),\n",
       " array([ 0.56082523,  0.60821176, -0.77176523, ...,  0.        ,\n",
       "         0.        ,  0.        ]),\n",
       " array([ 0.56795919,  0.6058867 , -0.81826133, ...,  0.        ,\n",
       "         0.        ,  0.        ]),\n",
       " array([ 0.56992733,  0.60519606, -0.77989995, ...,  0.        ,\n",
       "         0.        ,  0.        ]),\n",
       " array([ 0.57354176,  0.60459828, -0.86566448, ...,  0.        ,\n",
       "         0.        ,  0.        ]),\n",
       " array([ 0.57485545,  0.60356939, -0.90603018, ...,  0.        ,\n",
       "         0.        ,  0.        ]),\n",
       " array([ 0.5737077 ,  0.60355467, -0.84255922, ...,  0.        ,\n",
       "         0.        ,  0.        ]),\n",
       " array([ 0.57421315,  0.60291201, -1.03197324, ...,  0.        ,\n",
       "         0.        ,  0.        ]),\n",
       " array([ 0.57612699,  0.59880996, -0.95076627, ...,  0.        ,\n",
       "         0.        ,  0.        ]),\n",
       " array([ 0.57765853,  0.59665817, -0.96124876, ...,  0.        ,\n",
       "         0.        ,  0.        ]),\n",
       " array([ 0.57946944,  0.59515929, -1.01350951, ...,  0.        ,\n",
       "         0.        ,  0.        ]),\n",
       " array([ 0.58123791,  0.59634674, -0.87142837, ...,  0.        ,\n",
       "         0.        ,  0.        ]),\n",
       " array([ 0.58245838,  0.59721482, -0.84090328, ...,  0.        ,\n",
       "         0.        ,  0.        ]),\n",
       " array([ 0.58302134,  0.59736323, -1.41158223, ...,  0.        ,\n",
       "         0.        ,  0.        ]),\n",
       " array([ 0.58308804,  0.59367764, -1.15769935, ...,  0.        ,\n",
       "         0.        ,  0.        ]),\n",
       " array([ 0.58543319,  0.59079015, -1.15255666, ...,  0.32469523,\n",
       "         0.53043759, -0.0604482 ]),\n",
       " array([ 0.59133387,  0.58822852, -1.1819073 , ...,  0.35877639,\n",
       "         0.44099116, -0.05839831]),\n",
       " array([ 0.59425759,  0.58687133, -1.22358322, ...,  0.35205361,\n",
       "         0.4496069 , -0.07346023]),\n",
       " array([ 0.59764898,  0.5858869 , -1.21802545, ...,  0.38095182,\n",
       "         0.38583922, -0.06434334]),\n",
       " array([ 0.60630673,  0.58276725, -1.53612745, ...,  0.42643964,\n",
       "         0.37336785, -0.05723398]),\n",
       " array([ 0.61234152,  0.58732921, -1.43537724, ...,  0.44587821,\n",
       "         0.38366035, -0.04207228]),\n",
       " array([ 0.61835557,  0.59006709, -1.60216904, ...,  0.46497464,\n",
       "         0.40168113, -0.02685432]),\n",
       " array([ 0.62424028,  0.59551674, -1.45537078, ...,  0.47581685,\n",
       "         0.40645689, -0.02828608]),\n",
       " array([ 0.62650144,  0.59644467, -1.40118027, ...,  0.47839987,\n",
       "         0.40769464, -0.02960931]),\n",
       " array([ 0.62759769,  0.59704441, -1.38639665, ...,  0.47750059,\n",
       "         0.40863937, -0.03259028]),\n",
       " array([ 0.62980717,  0.59732503, -1.28325009, ...,  0.47731709,\n",
       "         0.40780509, -0.02713273]),\n",
       " array([ 0.63064581,  0.59841526, -1.25939536, ...,  0.48286542,\n",
       "         0.40332043, -0.03363072]),\n",
       " array([ 0.62974828,  0.59842288, -1.20764422, ...,  0.44305485,\n",
       "         0.3869282 , -0.03627616])]"
      ]
     },
     "execution_count": 34,
     "metadata": {},
     "output_type": "execute_result"
    }
   ],
   "source": [
    "df['Landmarks'][0]"
   ]
  },
  {
   "cell_type": "code",
   "execution_count": 35,
   "metadata": {},
   "outputs": [],
   "source": [
    "X = np.array(df['Landmarks'].tolist())\n",
    "labels_list = (df['Labels'].tolist())\n",
    "y = to_categorical(labels_list).astype(int)\n"
   ]
  },
  {
   "cell_type": "code",
   "execution_count": 36,
   "metadata": {},
   "outputs": [
    {
     "data": {
      "text/plain": [
       "(300, 30, 1662)"
      ]
     },
     "execution_count": 36,
     "metadata": {},
     "output_type": "execute_result"
    }
   ],
   "source": [
    "X.shape"
   ]
  },
  {
   "cell_type": "code",
   "execution_count": 37,
   "metadata": {},
   "outputs": [
    {
     "data": {
      "text/plain": [
       "(300, 3)"
      ]
     },
     "execution_count": 37,
     "metadata": {},
     "output_type": "execute_result"
    }
   ],
   "source": [
    "y.shape"
   ]
  },
  {
   "cell_type": "code",
   "execution_count": 38,
   "metadata": {},
   "outputs": [
    {
     "data": {
      "text/plain": [
       "array([[[ 0.5282082 ,  0.69970912, -0.78407443, ...,  0.        ,\n",
       "          0.        ,  0.        ],\n",
       "        [ 0.55254889,  0.63023722, -0.78952068, ...,  0.        ,\n",
       "          0.        ,  0.        ],\n",
       "        [ 0.55559933,  0.61130732, -0.7708981 , ...,  0.        ,\n",
       "          0.        ,  0.        ],\n",
       "        ...,\n",
       "        [ 0.62980717,  0.59732503, -1.28325009, ...,  0.47731709,\n",
       "          0.40780509, -0.02713273],\n",
       "        [ 0.63064581,  0.59841526, -1.25939536, ...,  0.48286542,\n",
       "          0.40332043, -0.03363072],\n",
       "        [ 0.62974828,  0.59842288, -1.20764422, ...,  0.44305485,\n",
       "          0.3869282 , -0.03627616]],\n",
       "\n",
       "       [[ 0.62721896,  0.59237534, -1.21063435, ...,  0.39933065,\n",
       "          0.32641381, -0.06619024],\n",
       "        [ 0.62298107,  0.5921942 , -1.05823302, ...,  0.        ,\n",
       "          0.        ,  0.        ],\n",
       "        [ 0.62047112,  0.59255719, -1.09682631, ...,  0.        ,\n",
       "          0.        ,  0.        ],\n",
       "        ...,\n",
       "        [ 0.53934711,  0.60268617, -0.99255943, ...,  0.        ,\n",
       "          0.        ,  0.        ],\n",
       "        [ 0.53713977,  0.59948379, -0.99198598, ...,  0.        ,\n",
       "          0.        ,  0.        ],\n",
       "        [ 0.53574347,  0.59820884, -0.99174815, ...,  0.        ,\n",
       "          0.        ,  0.        ]],\n",
       "\n",
       "       [[ 0.53495872,  0.59803945, -0.98964483, ...,  0.        ,\n",
       "          0.        ,  0.        ],\n",
       "        [ 0.65650558,  0.59768802, -1.00060713, ...,  0.        ,\n",
       "          0.        ,  0.        ],\n",
       "        [ 0.67017198,  0.59772658, -1.00561166, ...,  0.        ,\n",
       "          0.        ,  0.        ],\n",
       "        ...,\n",
       "        [ 0.69332659,  0.60596728, -0.86235654, ...,  0.24189496,\n",
       "          0.32449535, -0.09353311],\n",
       "        [ 0.69302285,  0.6054405 , -0.82964694, ...,  0.239979  ,\n",
       "          0.32673767, -0.08855049],\n",
       "        [ 0.69279081,  0.60494262, -0.81082135, ...,  0.23920672,\n",
       "          0.32688555, -0.08754171]],\n",
       "\n",
       "       ...,\n",
       "\n",
       "       [[ 0.59715176,  0.44914728, -0.6816017 , ...,  0.        ,\n",
       "          0.        ,  0.        ],\n",
       "        [ 0.59023857,  0.4494285 , -0.94661522, ...,  0.36396196,\n",
       "          0.47184122, -0.03010851],\n",
       "        [ 0.58149898,  0.44984761, -0.87376565, ...,  0.34421921,\n",
       "          0.41979626, -0.02889903],\n",
       "        ...,\n",
       "        [ 0.58421242,  0.45683172, -0.86365402, ...,  0.24273226,\n",
       "          0.40061364, -0.05038797],\n",
       "        [ 0.58546418,  0.45675233, -0.86251289, ...,  0.24156922,\n",
       "          0.39757538, -0.0525958 ],\n",
       "        [ 0.58734906,  0.45676944, -0.86326587, ...,  0.24209151,\n",
       "          0.3999466 , -0.05221322]],\n",
       "\n",
       "       [[ 0.58769053,  0.45571625, -0.8662349 , ...,  0.24376428,\n",
       "          0.39909929, -0.05128795],\n",
       "        [ 0.58771861,  0.45430037, -0.80148536, ...,  0.        ,\n",
       "          0.        ,  0.        ],\n",
       "        [ 0.5877105 ,  0.45414817, -0.73229349, ...,  0.        ,\n",
       "          0.        ,  0.        ],\n",
       "        ...,\n",
       "        [ 0.59037888,  0.45100015, -0.65949947, ...,  0.        ,\n",
       "          0.        ,  0.        ],\n",
       "        [ 0.59063131,  0.45106822, -0.65050828, ...,  0.        ,\n",
       "          0.        ,  0.        ],\n",
       "        [ 0.59061956,  0.45107597, -0.65437382, ...,  0.        ,\n",
       "          0.        ,  0.        ]],\n",
       "\n",
       "       [[ 0.5916146 ,  0.45075414, -0.64485419, ...,  0.        ,\n",
       "          0.        ,  0.        ],\n",
       "        [ 0.59289724,  0.45135358, -1.08557558, ...,  0.27726996,\n",
       "          0.41614652, -0.0454196 ],\n",
       "        [ 0.59458274,  0.45379654, -1.02394938, ...,  0.27695188,\n",
       "          0.41642657, -0.04761476],\n",
       "        ...,\n",
       "        [ 0.5965901 ,  0.41034272, -0.85870743, ...,  0.24950707,\n",
       "          0.40515631, -0.05334454],\n",
       "        [ 0.59618741,  0.40982443, -0.85617417, ...,  0.24940407,\n",
       "          0.40498704, -0.05428174],\n",
       "        [ 0.59554201,  0.41019458, -0.83502567, ...,  0.25255451,\n",
       "          0.40650076, -0.05381342]]])"
      ]
     },
     "execution_count": 38,
     "metadata": {},
     "output_type": "execute_result"
    }
   ],
   "source": [
    "X"
   ]
  },
  {
   "cell_type": "markdown",
   "metadata": {},
   "source": [
    "#### 2. Performing Train-test split\n",
    "- using 95-5  percent train-test split"
   ]
  },
  {
   "cell_type": "code",
   "execution_count": 39,
   "metadata": {},
   "outputs": [],
   "source": [
    "X_train , X_test , y_train , y_test = train_test_split(X , y , test_size=0.05)"
   ]
  },
  {
   "cell_type": "code",
   "execution_count": 40,
   "metadata": {},
   "outputs": [
    {
     "name": "stdout",
     "output_type": "stream",
     "text": [
      "X-train shape: (285, 30, 1662)\n",
      "X-test shape: (15, 30, 1662)\n",
      "y-train shape: (285, 3)\n",
      "y-test shape: (15, 30, 1662)\n"
     ]
    }
   ],
   "source": [
    "print(\"X-train shape:\" , X_train.shape)\n",
    "print(\"X-test shape:\" , X_test.shape)\n",
    "print(\"y-train shape:\" , y_train.shape)\n",
    "print(\"y-test shape:\" , X_test.shape)"
   ]
  },
  {
   "cell_type": "markdown",
   "metadata": {},
   "source": [
    "Creating LSTM Model Architecture"
   ]
  },
  {
   "cell_type": "code",
   "execution_count": 41,
   "metadata": {},
   "outputs": [],
   "source": [
    "# Creating a Instance of Early Stopping\n",
    "\n",
    "early_stopping_callback = EarlyStopping(\n",
    " monitor = 'val_loss',\n",
    " patience = 5,\n",
    " mode = 'min',\n",
    " restore_best_weights = True\n",
    ")"
   ]
  },
  {
   "cell_type": "code",
   "execution_count": 42,
   "metadata": {},
   "outputs": [
    {
     "data": {
      "text/plain": [
       "(285, 30, 1662)"
      ]
     },
     "execution_count": 42,
     "metadata": {},
     "output_type": "execute_result"
    }
   ],
   "source": [
    "X_train.shape"
   ]
  },
  {
   "cell_type": "code",
   "execution_count": 43,
   "metadata": {},
   "outputs": [],
   "source": [
    "log_dir = os.path.join('Logs')\n",
    "tb_callback = TensorBoard(log_dir = log_dir)"
   ]
  },
  {
   "cell_type": "code",
   "execution_count": 44,
   "metadata": {},
   "outputs": [
    {
     "name": "stderr",
     "output_type": "stream",
     "text": [
      "c:\\Users\\Sahil\\AppData\\Local\\Programs\\Python\\Python312\\Lib\\site-packages\\keras\\src\\layers\\rnn\\rnn.py:204: UserWarning: Do not pass an `input_shape`/`input_dim` argument to a layer. When using Sequential models, prefer using an `Input(shape)` object as the first layer in the model instead.\n",
      "  super().__init__(**kwargs)\n"
     ]
    }
   ],
   "source": [
    "# Constructing LSTM Model\n",
    "\n",
    "LSTM_model = Sequential()\n",
    "LSTM_model.add(LSTM(64, return_sequences= True , activation = 'relu' , input_shape = (30 , 1662)))\n",
    "LSTM_model.add(LSTM(128 , return_sequences= True , activation = 'relu'))\n",
    "# model.add(LSTM(128 , return_sequences= True , activation = 'relu'))\n",
    "LSTM_model.add(LSTM(64 , return_sequences= False , activation='relu'))\n",
    "# model.add(Dense(128 , activation ='relu'))\n",
    "# model.add(Dense(64 , activation ='relu'))\n",
    "LSTM_model.add(Dense(64 , activation ='relu'))\n",
    "LSTM_model.add(Dense(32 , activation = 'relu'))\n",
    "LSTM_model.add(Dense(actions.shape[0] , activation='softmax'))"
   ]
  },
  {
   "cell_type": "code",
   "execution_count": 45,
   "metadata": {},
   "outputs": [
    {
     "data": {
      "text/html": [
       "<pre style=\"white-space:pre;overflow-x:auto;line-height:normal;font-family:Menlo,'DejaVu Sans Mono',consolas,'Courier New',monospace\"><span style=\"font-weight: bold\">Model: \"sequential_1\"</span>\n",
       "</pre>\n"
      ],
      "text/plain": [
       "\u001b[1mModel: \"sequential_1\"\u001b[0m\n"
      ]
     },
     "metadata": {},
     "output_type": "display_data"
    },
    {
     "data": {
      "text/html": [
       "<pre style=\"white-space:pre;overflow-x:auto;line-height:normal;font-family:Menlo,'DejaVu Sans Mono',consolas,'Courier New',monospace\">┏━━━━━━━━━━━━━━━━━━━━━━━━━━━━━━━━━┳━━━━━━━━━━━━━━━━━━━━━━━━┳━━━━━━━━━━━━━━━┓\n",
       "┃<span style=\"font-weight: bold\"> Layer (type)                    </span>┃<span style=\"font-weight: bold\"> Output Shape           </span>┃<span style=\"font-weight: bold\">       Param # </span>┃\n",
       "┡━━━━━━━━━━━━━━━━━━━━━━━━━━━━━━━━━╇━━━━━━━━━━━━━━━━━━━━━━━━╇━━━━━━━━━━━━━━━┩\n",
       "│ lstm_3 (<span style=\"color: #0087ff; text-decoration-color: #0087ff\">LSTM</span>)                   │ (<span style=\"color: #00d7ff; text-decoration-color: #00d7ff\">None</span>, <span style=\"color: #00af00; text-decoration-color: #00af00\">30</span>, <span style=\"color: #00af00; text-decoration-color: #00af00\">64</span>)         │       <span style=\"color: #00af00; text-decoration-color: #00af00\">442,112</span> │\n",
       "├─────────────────────────────────┼────────────────────────┼───────────────┤\n",
       "│ lstm_4 (<span style=\"color: #0087ff; text-decoration-color: #0087ff\">LSTM</span>)                   │ (<span style=\"color: #00d7ff; text-decoration-color: #00d7ff\">None</span>, <span style=\"color: #00af00; text-decoration-color: #00af00\">30</span>, <span style=\"color: #00af00; text-decoration-color: #00af00\">128</span>)        │        <span style=\"color: #00af00; text-decoration-color: #00af00\">98,816</span> │\n",
       "├─────────────────────────────────┼────────────────────────┼───────────────┤\n",
       "│ lstm_5 (<span style=\"color: #0087ff; text-decoration-color: #0087ff\">LSTM</span>)                   │ (<span style=\"color: #00d7ff; text-decoration-color: #00d7ff\">None</span>, <span style=\"color: #00af00; text-decoration-color: #00af00\">64</span>)             │        <span style=\"color: #00af00; text-decoration-color: #00af00\">49,408</span> │\n",
       "├─────────────────────────────────┼────────────────────────┼───────────────┤\n",
       "│ dense_3 (<span style=\"color: #0087ff; text-decoration-color: #0087ff\">Dense</span>)                 │ (<span style=\"color: #00d7ff; text-decoration-color: #00d7ff\">None</span>, <span style=\"color: #00af00; text-decoration-color: #00af00\">64</span>)             │         <span style=\"color: #00af00; text-decoration-color: #00af00\">4,160</span> │\n",
       "├─────────────────────────────────┼────────────────────────┼───────────────┤\n",
       "│ dense_4 (<span style=\"color: #0087ff; text-decoration-color: #0087ff\">Dense</span>)                 │ (<span style=\"color: #00d7ff; text-decoration-color: #00d7ff\">None</span>, <span style=\"color: #00af00; text-decoration-color: #00af00\">32</span>)             │         <span style=\"color: #00af00; text-decoration-color: #00af00\">2,080</span> │\n",
       "├─────────────────────────────────┼────────────────────────┼───────────────┤\n",
       "│ dense_5 (<span style=\"color: #0087ff; text-decoration-color: #0087ff\">Dense</span>)                 │ (<span style=\"color: #00d7ff; text-decoration-color: #00d7ff\">None</span>, <span style=\"color: #00af00; text-decoration-color: #00af00\">3</span>)              │            <span style=\"color: #00af00; text-decoration-color: #00af00\">99</span> │\n",
       "└─────────────────────────────────┴────────────────────────┴───────────────┘\n",
       "</pre>\n"
      ],
      "text/plain": [
       "┏━━━━━━━━━━━━━━━━━━━━━━━━━━━━━━━━━┳━━━━━━━━━━━━━━━━━━━━━━━━┳━━━━━━━━━━━━━━━┓\n",
       "┃\u001b[1m \u001b[0m\u001b[1mLayer (type)                   \u001b[0m\u001b[1m \u001b[0m┃\u001b[1m \u001b[0m\u001b[1mOutput Shape          \u001b[0m\u001b[1m \u001b[0m┃\u001b[1m \u001b[0m\u001b[1m      Param #\u001b[0m\u001b[1m \u001b[0m┃\n",
       "┡━━━━━━━━━━━━━━━━━━━━━━━━━━━━━━━━━╇━━━━━━━━━━━━━━━━━━━━━━━━╇━━━━━━━━━━━━━━━┩\n",
       "│ lstm_3 (\u001b[38;5;33mLSTM\u001b[0m)                   │ (\u001b[38;5;45mNone\u001b[0m, \u001b[38;5;34m30\u001b[0m, \u001b[38;5;34m64\u001b[0m)         │       \u001b[38;5;34m442,112\u001b[0m │\n",
       "├─────────────────────────────────┼────────────────────────┼───────────────┤\n",
       "│ lstm_4 (\u001b[38;5;33mLSTM\u001b[0m)                   │ (\u001b[38;5;45mNone\u001b[0m, \u001b[38;5;34m30\u001b[0m, \u001b[38;5;34m128\u001b[0m)        │        \u001b[38;5;34m98,816\u001b[0m │\n",
       "├─────────────────────────────────┼────────────────────────┼───────────────┤\n",
       "│ lstm_5 (\u001b[38;5;33mLSTM\u001b[0m)                   │ (\u001b[38;5;45mNone\u001b[0m, \u001b[38;5;34m64\u001b[0m)             │        \u001b[38;5;34m49,408\u001b[0m │\n",
       "├─────────────────────────────────┼────────────────────────┼───────────────┤\n",
       "│ dense_3 (\u001b[38;5;33mDense\u001b[0m)                 │ (\u001b[38;5;45mNone\u001b[0m, \u001b[38;5;34m64\u001b[0m)             │         \u001b[38;5;34m4,160\u001b[0m │\n",
       "├─────────────────────────────────┼────────────────────────┼───────────────┤\n",
       "│ dense_4 (\u001b[38;5;33mDense\u001b[0m)                 │ (\u001b[38;5;45mNone\u001b[0m, \u001b[38;5;34m32\u001b[0m)             │         \u001b[38;5;34m2,080\u001b[0m │\n",
       "├─────────────────────────────────┼────────────────────────┼───────────────┤\n",
       "│ dense_5 (\u001b[38;5;33mDense\u001b[0m)                 │ (\u001b[38;5;45mNone\u001b[0m, \u001b[38;5;34m3\u001b[0m)              │            \u001b[38;5;34m99\u001b[0m │\n",
       "└─────────────────────────────────┴────────────────────────┴───────────────┘\n"
      ]
     },
     "metadata": {},
     "output_type": "display_data"
    },
    {
     "data": {
      "text/html": [
       "<pre style=\"white-space:pre;overflow-x:auto;line-height:normal;font-family:Menlo,'DejaVu Sans Mono',consolas,'Courier New',monospace\"><span style=\"font-weight: bold\"> Total params: </span><span style=\"color: #00af00; text-decoration-color: #00af00\">596,675</span> (2.28 MB)\n",
       "</pre>\n"
      ],
      "text/plain": [
       "\u001b[1m Total params: \u001b[0m\u001b[38;5;34m596,675\u001b[0m (2.28 MB)\n"
      ]
     },
     "metadata": {},
     "output_type": "display_data"
    },
    {
     "data": {
      "text/html": [
       "<pre style=\"white-space:pre;overflow-x:auto;line-height:normal;font-family:Menlo,'DejaVu Sans Mono',consolas,'Courier New',monospace\"><span style=\"font-weight: bold\"> Trainable params: </span><span style=\"color: #00af00; text-decoration-color: #00af00\">596,675</span> (2.28 MB)\n",
       "</pre>\n"
      ],
      "text/plain": [
       "\u001b[1m Trainable params: \u001b[0m\u001b[38;5;34m596,675\u001b[0m (2.28 MB)\n"
      ]
     },
     "metadata": {},
     "output_type": "display_data"
    },
    {
     "data": {
      "text/html": [
       "<pre style=\"white-space:pre;overflow-x:auto;line-height:normal;font-family:Menlo,'DejaVu Sans Mono',consolas,'Courier New',monospace\"><span style=\"font-weight: bold\"> Non-trainable params: </span><span style=\"color: #00af00; text-decoration-color: #00af00\">0</span> (0.00 B)\n",
       "</pre>\n"
      ],
      "text/plain": [
       "\u001b[1m Non-trainable params: \u001b[0m\u001b[38;5;34m0\u001b[0m (0.00 B)\n"
      ]
     },
     "metadata": {},
     "output_type": "display_data"
    }
   ],
   "source": [
    "LSTM_model.summary()"
   ]
  },
  {
   "cell_type": "code",
   "execution_count": 46,
   "metadata": {},
   "outputs": [],
   "source": [
    "# Compiling the Model \n",
    "\n",
    "LSTM_model.compile(optimizer='Adam' , loss = 'categorical_crossentropy' , metrics = ['categorical_accuracy'])"
   ]
  },
  {
   "cell_type": "code",
   "execution_count": 47,
   "metadata": {},
   "outputs": [
    {
     "name": "stdout",
     "output_type": "stream",
     "text": [
      "Epoch 1/500\n",
      "\u001b[1m8/8\u001b[0m \u001b[32m━━━━━━━━━━━━━━━━━━━━\u001b[0m\u001b[37m\u001b[0m \u001b[1m5s\u001b[0m 115ms/step - categorical_accuracy: 0.2158 - loss: 1.8102 - val_categorical_accuracy: 0.1228 - val_loss: 2.5829\n",
      "Epoch 2/500\n",
      "\u001b[1m8/8\u001b[0m \u001b[32m━━━━━━━━━━━━━━━━━━━━\u001b[0m\u001b[37m\u001b[0m \u001b[1m0s\u001b[0m 52ms/step - categorical_accuracy: 0.2173 - loss: 1.9612 - val_categorical_accuracy: 0.4386 - val_loss: 1.0511\n",
      "Epoch 3/500\n",
      "\u001b[1m8/8\u001b[0m \u001b[32m━━━━━━━━━━━━━━━━━━━━\u001b[0m\u001b[37m\u001b[0m \u001b[1m0s\u001b[0m 53ms/step - categorical_accuracy: 0.4707 - loss: 1.0707 - val_categorical_accuracy: 0.4912 - val_loss: 1.0462\n",
      "Epoch 4/500\n",
      "\u001b[1m8/8\u001b[0m \u001b[32m━━━━━━━━━━━━━━━━━━━━\u001b[0m\u001b[37m\u001b[0m \u001b[1m0s\u001b[0m 51ms/step - categorical_accuracy: 0.5535 - loss: 1.0319 - val_categorical_accuracy: 0.6667 - val_loss: 0.7830\n",
      "Epoch 5/500\n",
      "\u001b[1m8/8\u001b[0m \u001b[32m━━━━━━━━━━━━━━━━━━━━\u001b[0m\u001b[37m\u001b[0m \u001b[1m0s\u001b[0m 52ms/step - categorical_accuracy: 0.5968 - loss: 0.7875 - val_categorical_accuracy: 0.5965 - val_loss: 0.8499\n",
      "Epoch 6/500\n",
      "\u001b[1m8/8\u001b[0m \u001b[32m━━━━━━━━━━━━━━━━━━━━\u001b[0m\u001b[37m\u001b[0m \u001b[1m0s\u001b[0m 51ms/step - categorical_accuracy: 0.5122 - loss: 0.7013 - val_categorical_accuracy: 0.7544 - val_loss: 0.5091\n",
      "Epoch 7/500\n",
      "\u001b[1m8/8\u001b[0m \u001b[32m━━━━━━━━━━━━━━━━━━━━\u001b[0m\u001b[37m\u001b[0m \u001b[1m0s\u001b[0m 51ms/step - categorical_accuracy: 0.6444 - loss: 0.5510 - val_categorical_accuracy: 0.7018 - val_loss: 0.5948\n",
      "Epoch 8/500\n",
      "\u001b[1m8/8\u001b[0m \u001b[32m━━━━━━━━━━━━━━━━━━━━\u001b[0m\u001b[37m\u001b[0m \u001b[1m0s\u001b[0m 52ms/step - categorical_accuracy: 0.6714 - loss: 0.6828 - val_categorical_accuracy: 0.7895 - val_loss: 0.5511\n",
      "Epoch 9/500\n",
      "\u001b[1m8/8\u001b[0m \u001b[32m━━━━━━━━━━━━━━━━━━━━\u001b[0m\u001b[37m\u001b[0m \u001b[1m0s\u001b[0m 51ms/step - categorical_accuracy: 0.7039 - loss: 0.5754 - val_categorical_accuracy: 0.9123 - val_loss: 0.3443\n",
      "Epoch 10/500\n",
      "\u001b[1m8/8\u001b[0m \u001b[32m━━━━━━━━━━━━━━━━━━━━\u001b[0m\u001b[37m\u001b[0m \u001b[1m0s\u001b[0m 52ms/step - categorical_accuracy: 0.8229 - loss: 0.4012 - val_categorical_accuracy: 0.8246 - val_loss: 0.4648\n",
      "Epoch 11/500\n",
      "\u001b[1m8/8\u001b[0m \u001b[32m━━━━━━━━━━━━━━━━━━━━\u001b[0m\u001b[37m\u001b[0m \u001b[1m0s\u001b[0m 51ms/step - categorical_accuracy: 0.8656 - loss: 0.4508 - val_categorical_accuracy: 0.2982 - val_loss: 1.2849\n",
      "Epoch 12/500\n",
      "\u001b[1m8/8\u001b[0m \u001b[32m━━━━━━━━━━━━━━━━━━━━\u001b[0m\u001b[37m\u001b[0m \u001b[1m0s\u001b[0m 54ms/step - categorical_accuracy: 0.3606 - loss: 1.0894 - val_categorical_accuracy: 0.4386 - val_loss: 1.0569\n",
      "Epoch 13/500\n",
      "\u001b[1m8/8\u001b[0m \u001b[32m━━━━━━━━━━━━━━━━━━━━\u001b[0m\u001b[37m\u001b[0m \u001b[1m0s\u001b[0m 52ms/step - categorical_accuracy: 0.4071 - loss: 0.9606 - val_categorical_accuracy: 0.2982 - val_loss: 0.9110\n",
      "Epoch 14/500\n",
      "\u001b[1m8/8\u001b[0m \u001b[32m━━━━━━━━━━━━━━━━━━━━\u001b[0m\u001b[37m\u001b[0m \u001b[1m0s\u001b[0m 57ms/step - categorical_accuracy: 0.4129 - loss: 0.7694 - val_categorical_accuracy: 0.5789 - val_loss: 0.7770\n",
      "Epoch 15/500\n",
      "\u001b[1m8/8\u001b[0m \u001b[32m━━━━━━━━━━━━━━━━━━━━\u001b[0m\u001b[37m\u001b[0m \u001b[1m0s\u001b[0m 53ms/step - categorical_accuracy: 0.6099 - loss: 1.0828 - val_categorical_accuracy: 0.2982 - val_loss: 1.0969\n",
      "Epoch 16/500\n",
      "\u001b[1m8/8\u001b[0m \u001b[32m━━━━━━━━━━━━━━━━━━━━\u001b[0m\u001b[37m\u001b[0m \u001b[1m0s\u001b[0m 55ms/step - categorical_accuracy: 0.3235 - loss: 1.0855 - val_categorical_accuracy: 0.4737 - val_loss: 1.0627\n",
      "Epoch 17/500\n",
      "\u001b[1m8/8\u001b[0m \u001b[32m━━━━━━━━━━━━━━━━━━━━\u001b[0m\u001b[37m\u001b[0m \u001b[1m0s\u001b[0m 53ms/step - categorical_accuracy: 0.6039 - loss: 1.0494 - val_categorical_accuracy: 0.7368 - val_loss: 0.9320\n",
      "Epoch 18/500\n",
      "\u001b[1m8/8\u001b[0m \u001b[32m━━━━━━━━━━━━━━━━━━━━\u001b[0m\u001b[37m\u001b[0m \u001b[1m0s\u001b[0m 54ms/step - categorical_accuracy: 0.5930 - loss: 0.8334 - val_categorical_accuracy: 0.3509 - val_loss: 55.9862\n",
      "Epoch 19/500\n",
      "\u001b[1m8/8\u001b[0m \u001b[32m━━━━━━━━━━━━━━━━━━━━\u001b[0m\u001b[37m\u001b[0m \u001b[1m0s\u001b[0m 54ms/step - categorical_accuracy: 0.3494 - loss: 25.6049 - val_categorical_accuracy: 0.5965 - val_loss: 0.9367\n",
      "Epoch 20/500\n",
      "\u001b[1m8/8\u001b[0m \u001b[32m━━━━━━━━━━━━━━━━━━━━\u001b[0m\u001b[37m\u001b[0m \u001b[1m0s\u001b[0m 54ms/step - categorical_accuracy: 0.4911 - loss: 1.0099 - val_categorical_accuracy: 0.7018 - val_loss: 1.0260\n",
      "Epoch 21/500\n",
      "\u001b[1m8/8\u001b[0m \u001b[32m━━━━━━━━━━━━━━━━━━━━\u001b[0m\u001b[37m\u001b[0m \u001b[1m0s\u001b[0m 55ms/step - categorical_accuracy: 0.5618 - loss: 1.0256 - val_categorical_accuracy: 0.6667 - val_loss: 0.8585\n",
      "Epoch 22/500\n",
      "\u001b[1m8/8\u001b[0m \u001b[32m━━━━━━━━━━━━━━━━━━━━\u001b[0m\u001b[37m\u001b[0m \u001b[1m0s\u001b[0m 54ms/step - categorical_accuracy: 0.6120 - loss: 0.8657 - val_categorical_accuracy: 0.5439 - val_loss: 0.8723\n",
      "Epoch 23/500\n",
      "\u001b[1m8/8\u001b[0m \u001b[32m━━━━━━━━━━━━━━━━━━━━\u001b[0m\u001b[37m\u001b[0m \u001b[1m0s\u001b[0m 52ms/step - categorical_accuracy: 0.5967 - loss: 1.0399 - val_categorical_accuracy: 0.2807 - val_loss: 1.2557\n",
      "Epoch 24/500\n",
      "\u001b[1m8/8\u001b[0m \u001b[32m━━━━━━━━━━━━━━━━━━━━\u001b[0m\u001b[37m\u001b[0m \u001b[1m0s\u001b[0m 51ms/step - categorical_accuracy: 0.3442 - loss: 1.1674 - val_categorical_accuracy: 0.2807 - val_loss: 1.2190\n",
      "Epoch 25/500\n",
      "\u001b[1m8/8\u001b[0m \u001b[32m━━━━━━━━━━━━━━━━━━━━\u001b[0m\u001b[37m\u001b[0m \u001b[1m0s\u001b[0m 51ms/step - categorical_accuracy: 0.3442 - loss: 1.1526 - val_categorical_accuracy: 0.2807 - val_loss: 1.1628\n",
      "Epoch 26/500\n",
      "\u001b[1m8/8\u001b[0m \u001b[32m━━━━━━━━━━━━━━━━━━━━\u001b[0m\u001b[37m\u001b[0m \u001b[1m0s\u001b[0m 51ms/step - categorical_accuracy: 0.3442 - loss: 1.1220 - val_categorical_accuracy: 0.2807 - val_loss: 1.1360\n",
      "Epoch 27/500\n",
      "\u001b[1m8/8\u001b[0m \u001b[32m━━━━━━━━━━━━━━━━━━━━\u001b[0m\u001b[37m\u001b[0m \u001b[1m0s\u001b[0m 49ms/step - categorical_accuracy: 0.3442 - loss: 1.1091 - val_categorical_accuracy: 0.2807 - val_loss: 1.1267\n",
      "Epoch 28/500\n",
      "\u001b[1m8/8\u001b[0m \u001b[32m━━━━━━━━━━━━━━━━━━━━\u001b[0m\u001b[37m\u001b[0m \u001b[1m0s\u001b[0m 52ms/step - categorical_accuracy: 0.3442 - loss: 1.1039 - val_categorical_accuracy: 0.2807 - val_loss: 1.1216\n",
      "Epoch 29/500\n",
      "\u001b[1m8/8\u001b[0m \u001b[32m━━━━━━━━━━━━━━━━━━━━\u001b[0m\u001b[37m\u001b[0m \u001b[1m0s\u001b[0m 50ms/step - categorical_accuracy: 0.3442 - loss: 1.0996 - val_categorical_accuracy: 0.2807 - val_loss: 1.1135\n",
      "Epoch 30/500\n",
      "\u001b[1m8/8\u001b[0m \u001b[32m━━━━━━━━━━━━━━━━━━━━\u001b[0m\u001b[37m\u001b[0m \u001b[1m0s\u001b[0m 50ms/step - categorical_accuracy: 0.3442 - loss: 1.0938 - val_categorical_accuracy: 0.2807 - val_loss: 1.1081\n",
      "Epoch 31/500\n",
      "\u001b[1m8/8\u001b[0m \u001b[32m━━━━━━━━━━━━━━━━━━━━\u001b[0m\u001b[37m\u001b[0m \u001b[1m0s\u001b[0m 51ms/step - categorical_accuracy: 0.3442 - loss: 1.0903 - val_categorical_accuracy: 0.2807 - val_loss: 1.1041\n",
      "Epoch 32/500\n",
      "\u001b[1m8/8\u001b[0m \u001b[32m━━━━━━━━━━━━━━━━━━━━\u001b[0m\u001b[37m\u001b[0m \u001b[1m0s\u001b[0m 54ms/step - categorical_accuracy: 0.3442 - loss: 1.0875 - val_categorical_accuracy: 0.2807 - val_loss: 1.1002\n",
      "Epoch 33/500\n",
      "\u001b[1m8/8\u001b[0m \u001b[32m━━━━━━━━━━━━━━━━━━━━\u001b[0m\u001b[37m\u001b[0m \u001b[1m0s\u001b[0m 50ms/step - categorical_accuracy: 0.3442 - loss: 1.0849 - val_categorical_accuracy: 0.2807 - val_loss: 1.0979\n",
      "Epoch 34/500\n",
      "\u001b[1m8/8\u001b[0m \u001b[32m━━━━━━━━━━━━━━━━━━━━\u001b[0m\u001b[37m\u001b[0m \u001b[1m0s\u001b[0m 50ms/step - categorical_accuracy: 0.3442 - loss: 1.0826 - val_categorical_accuracy: 0.2807 - val_loss: 1.0949\n",
      "Epoch 35/500\n",
      "\u001b[1m8/8\u001b[0m \u001b[32m━━━━━━━━━━━━━━━━━━━━\u001b[0m\u001b[37m\u001b[0m \u001b[1m0s\u001b[0m 53ms/step - categorical_accuracy: 0.3442 - loss: 1.0797 - val_categorical_accuracy: 0.2807 - val_loss: 1.0910\n",
      "Epoch 36/500\n",
      "\u001b[1m8/8\u001b[0m \u001b[32m━━━━━━━━━━━━━━━━━━━━\u001b[0m\u001b[37m\u001b[0m \u001b[1m0s\u001b[0m 51ms/step - categorical_accuracy: 0.3442 - loss: 1.0760 - val_categorical_accuracy: 0.2807 - val_loss: 1.0867\n",
      "Epoch 37/500\n",
      "\u001b[1m8/8\u001b[0m \u001b[32m━━━━━━━━━━━━━━━━━━━━\u001b[0m\u001b[37m\u001b[0m \u001b[1m0s\u001b[0m 52ms/step - categorical_accuracy: 0.3442 - loss: 1.0714 - val_categorical_accuracy: 0.2807 - val_loss: 1.0808\n",
      "Epoch 38/500\n",
      "\u001b[1m8/8\u001b[0m \u001b[32m━━━━━━━━━━━━━━━━━━━━\u001b[0m\u001b[37m\u001b[0m \u001b[1m0s\u001b[0m 51ms/step - categorical_accuracy: 0.3442 - loss: 1.0653 - val_categorical_accuracy: 0.2807 - val_loss: 1.0707\n",
      "Epoch 39/500\n",
      "\u001b[1m8/8\u001b[0m \u001b[32m━━━━━━━━━━━━━━━━━━━━\u001b[0m\u001b[37m\u001b[0m \u001b[1m0s\u001b[0m 52ms/step - categorical_accuracy: 0.3442 - loss: 1.0543 - val_categorical_accuracy: 0.2807 - val_loss: 1.0533\n",
      "Epoch 40/500\n",
      "\u001b[1m8/8\u001b[0m \u001b[32m━━━━━━━━━━━━━━━━━━━━\u001b[0m\u001b[37m\u001b[0m \u001b[1m0s\u001b[0m 54ms/step - categorical_accuracy: 0.3656 - loss: 1.0358 - val_categorical_accuracy: 0.5088 - val_loss: 1.0136\n",
      "Epoch 41/500\n",
      "\u001b[1m8/8\u001b[0m \u001b[32m━━━━━━━━━━━━━━━━━━━━\u001b[0m\u001b[37m\u001b[0m \u001b[1m0s\u001b[0m 55ms/step - categorical_accuracy: 0.5484 - loss: 0.9929 - val_categorical_accuracy: 0.5263 - val_loss: 0.9382\n",
      "Epoch 42/500\n",
      "\u001b[1m8/8\u001b[0m \u001b[32m━━━━━━━━━━━━━━━━━━━━\u001b[0m\u001b[37m\u001b[0m \u001b[1m0s\u001b[0m 53ms/step - categorical_accuracy: 0.6552 - loss: 0.8460 - val_categorical_accuracy: 0.4737 - val_loss: 1.9042\n",
      "Epoch 43/500\n",
      "\u001b[1m8/8\u001b[0m \u001b[32m━━━━━━━━━━━━━━━━━━━━\u001b[0m\u001b[37m\u001b[0m \u001b[1m0s\u001b[0m 52ms/step - categorical_accuracy: 0.4732 - loss: 2.4361 - val_categorical_accuracy: 0.6491 - val_loss: 0.9240\n",
      "Epoch 44/500\n",
      "\u001b[1m8/8\u001b[0m \u001b[32m━━━━━━━━━━━━━━━━━━━━\u001b[0m\u001b[37m\u001b[0m \u001b[1m0s\u001b[0m 51ms/step - categorical_accuracy: 0.4490 - loss: 1.0128 - val_categorical_accuracy: 0.2982 - val_loss: 1.0946\n",
      "Epoch 45/500\n",
      "\u001b[1m8/8\u001b[0m \u001b[32m━━━━━━━━━━━━━━━━━━━━\u001b[0m\u001b[37m\u001b[0m \u001b[1m0s\u001b[0m 51ms/step - categorical_accuracy: 0.3193 - loss: 1.0763 - val_categorical_accuracy: 0.2982 - val_loss: 1.0822\n",
      "Epoch 46/500\n",
      "\u001b[1m8/8\u001b[0m \u001b[32m━━━━━━━━━━━━━━━━━━━━\u001b[0m\u001b[37m\u001b[0m \u001b[1m0s\u001b[0m 51ms/step - categorical_accuracy: 0.3193 - loss: 1.0619 - val_categorical_accuracy: 0.2982 - val_loss: 1.0625\n",
      "Epoch 47/500\n",
      "\u001b[1m8/8\u001b[0m \u001b[32m━━━━━━━━━━━━━━━━━━━━\u001b[0m\u001b[37m\u001b[0m \u001b[1m0s\u001b[0m 49ms/step - categorical_accuracy: 0.3305 - loss: 1.0454 - val_categorical_accuracy: 0.4561 - val_loss: 1.0414\n",
      "Epoch 48/500\n",
      "\u001b[1m8/8\u001b[0m \u001b[32m━━━━━━━━━━━━━━━━━━━━\u001b[0m\u001b[37m\u001b[0m \u001b[1m0s\u001b[0m 53ms/step - categorical_accuracy: 0.5334 - loss: 1.0279 - val_categorical_accuracy: 0.6667 - val_loss: 1.0207\n",
      "Epoch 49/500\n",
      "\u001b[1m8/8\u001b[0m \u001b[32m━━━━━━━━━━━━━━━━━━━━\u001b[0m\u001b[37m\u001b[0m \u001b[1m0s\u001b[0m 56ms/step - categorical_accuracy: 0.6909 - loss: 1.0100 - val_categorical_accuracy: 0.9649 - val_loss: 0.9989\n",
      "Epoch 50/500\n",
      "\u001b[1m8/8\u001b[0m \u001b[32m━━━━━━━━━━━━━━━━━━━━\u001b[0m\u001b[37m\u001b[0m \u001b[1m0s\u001b[0m 51ms/step - categorical_accuracy: 0.9415 - loss: 0.9899 - val_categorical_accuracy: 0.9649 - val_loss: 0.9730\n",
      "Epoch 51/500\n",
      "\u001b[1m8/8\u001b[0m \u001b[32m━━━━━━━━━━━━━━━━━━━━\u001b[0m\u001b[37m\u001b[0m \u001b[1m0s\u001b[0m 51ms/step - categorical_accuracy: 0.8355 - loss: 0.9669 - val_categorical_accuracy: 0.9298 - val_loss: 0.9438\n",
      "Epoch 52/500\n",
      "\u001b[1m8/8\u001b[0m \u001b[32m━━━━━━━━━━━━━━━━━━━━\u001b[0m\u001b[37m\u001b[0m \u001b[1m0s\u001b[0m 50ms/step - categorical_accuracy: 0.8278 - loss: 0.9407 - val_categorical_accuracy: 0.9649 - val_loss: 0.9026\n",
      "Epoch 53/500\n",
      "\u001b[1m8/8\u001b[0m \u001b[32m━━━━━━━━━━━━━━━━━━━━\u001b[0m\u001b[37m\u001b[0m \u001b[1m0s\u001b[0m 50ms/step - categorical_accuracy: 0.8904 - loss: 0.9025 - val_categorical_accuracy: 0.9825 - val_loss: 0.8250\n",
      "Epoch 54/500\n",
      "\u001b[1m8/8\u001b[0m \u001b[32m━━━━━━━━━━━━━━━━━━━━\u001b[0m\u001b[37m\u001b[0m \u001b[1m0s\u001b[0m 50ms/step - categorical_accuracy: 0.8924 - loss: 0.8254 - val_categorical_accuracy: 0.6140 - val_loss: 0.6605\n",
      "Epoch 55/500\n",
      "\u001b[1m8/8\u001b[0m \u001b[32m━━━━━━━━━━━━━━━━━━━━\u001b[0m\u001b[37m\u001b[0m \u001b[1m0s\u001b[0m 51ms/step - categorical_accuracy: 0.6221 - loss: 0.7074 - val_categorical_accuracy: 1.0000 - val_loss: 0.5906\n",
      "Epoch 56/500\n",
      "\u001b[1m8/8\u001b[0m \u001b[32m━━━━━━━━━━━━━━━━━━━━\u001b[0m\u001b[37m\u001b[0m \u001b[1m0s\u001b[0m 51ms/step - categorical_accuracy: 0.9315 - loss: 0.6362 - val_categorical_accuracy: 1.0000 - val_loss: 0.5439\n",
      "Epoch 57/500\n",
      "\u001b[1m8/8\u001b[0m \u001b[32m━━━━━━━━━━━━━━━━━━━━\u001b[0m\u001b[37m\u001b[0m \u001b[1m0s\u001b[0m 51ms/step - categorical_accuracy: 0.9180 - loss: 0.5902 - val_categorical_accuracy: 0.8246 - val_loss: 0.5052\n",
      "Epoch 58/500\n",
      "\u001b[1m8/8\u001b[0m \u001b[32m━━━━━━━━━━━━━━━━━━━━\u001b[0m\u001b[37m\u001b[0m \u001b[1m0s\u001b[0m 51ms/step - categorical_accuracy: 0.7532 - loss: 0.5643 - val_categorical_accuracy: 0.9123 - val_loss: 0.4793\n",
      "Epoch 59/500\n",
      "\u001b[1m8/8\u001b[0m \u001b[32m━━━━━━━━━━━━━━━━━━━━\u001b[0m\u001b[37m\u001b[0m \u001b[1m0s\u001b[0m 51ms/step - categorical_accuracy: 0.8721 - loss: 0.5372 - val_categorical_accuracy: 0.8772 - val_loss: 0.4341\n",
      "Epoch 60/500\n",
      "\u001b[1m8/8\u001b[0m \u001b[32m━━━━━━━━━━━━━━━━━━━━\u001b[0m\u001b[37m\u001b[0m \u001b[1m0s\u001b[0m 56ms/step - categorical_accuracy: 0.8347 - loss: 0.4958 - val_categorical_accuracy: 0.8947 - val_loss: 0.3431\n",
      "Epoch 61/500\n",
      "\u001b[1m8/8\u001b[0m \u001b[32m━━━━━━━━━━━━━━━━━━━━\u001b[0m\u001b[37m\u001b[0m \u001b[1m0s\u001b[0m 53ms/step - categorical_accuracy: 0.8479 - loss: 0.4348 - val_categorical_accuracy: 0.6491 - val_loss: 0.6275\n",
      "Epoch 62/500\n",
      "\u001b[1m8/8\u001b[0m \u001b[32m━━━━━━━━━━━━━━━━━━━━\u001b[0m\u001b[37m\u001b[0m \u001b[1m0s\u001b[0m 51ms/step - categorical_accuracy: 0.6610 - loss: 0.6052 - val_categorical_accuracy: 0.9298 - val_loss: 0.3255\n",
      "Epoch 63/500\n",
      "\u001b[1m8/8\u001b[0m \u001b[32m━━━━━━━━━━━━━━━━━━━━\u001b[0m\u001b[37m\u001b[0m \u001b[1m0s\u001b[0m 54ms/step - categorical_accuracy: 0.8707 - loss: 0.4601 - val_categorical_accuracy: 1.0000 - val_loss: 0.3530\n",
      "Epoch 64/500\n",
      "\u001b[1m8/8\u001b[0m \u001b[32m━━━━━━━━━━━━━━━━━━━━\u001b[0m\u001b[37m\u001b[0m \u001b[1m0s\u001b[0m 52ms/step - categorical_accuracy: 0.9404 - loss: 0.3992 - val_categorical_accuracy: 0.8421 - val_loss: 0.2626\n",
      "Epoch 65/500\n",
      "\u001b[1m8/8\u001b[0m \u001b[32m━━━━━━━━━━━━━━━━━━━━\u001b[0m\u001b[37m\u001b[0m \u001b[1m0s\u001b[0m 58ms/step - categorical_accuracy: 0.8845 - loss: 0.3515 - val_categorical_accuracy: 1.0000 - val_loss: 0.1713\n",
      "Epoch 66/500\n",
      "\u001b[1m8/8\u001b[0m \u001b[32m━━━━━━━━━━━━━━━━━━━━\u001b[0m\u001b[37m\u001b[0m \u001b[1m0s\u001b[0m 49ms/step - categorical_accuracy: 0.8935 - loss: 0.2963 - val_categorical_accuracy: 0.8772 - val_loss: 0.2537\n",
      "Epoch 67/500\n",
      "\u001b[1m8/8\u001b[0m \u001b[32m━━━━━━━━━━━━━━━━━━━━\u001b[0m\u001b[37m\u001b[0m \u001b[1m0s\u001b[0m 50ms/step - categorical_accuracy: 0.8450 - loss: 0.3477 - val_categorical_accuracy: 0.8772 - val_loss: 0.2219\n",
      "Epoch 68/500\n",
      "\u001b[1m8/8\u001b[0m \u001b[32m━━━━━━━━━━━━━━━━━━━━\u001b[0m\u001b[37m\u001b[0m \u001b[1m0s\u001b[0m 51ms/step - categorical_accuracy: 0.9132 - loss: 0.2377 - val_categorical_accuracy: 0.8772 - val_loss: 0.2298\n",
      "Epoch 69/500\n",
      "\u001b[1m8/8\u001b[0m \u001b[32m━━━━━━━━━━━━━━━━━━━━\u001b[0m\u001b[37m\u001b[0m \u001b[1m0s\u001b[0m 54ms/step - categorical_accuracy: 0.8589 - loss: 0.2708 - val_categorical_accuracy: 1.0000 - val_loss: 0.1161\n",
      "Epoch 70/500\n",
      "\u001b[1m8/8\u001b[0m \u001b[32m━━━━━━━━━━━━━━━━━━━━\u001b[0m\u001b[37m\u001b[0m \u001b[1m0s\u001b[0m 51ms/step - categorical_accuracy: 0.8145 - loss: 0.3688 - val_categorical_accuracy: 0.9474 - val_loss: 0.1603\n",
      "Epoch 71/500\n",
      "\u001b[1m8/8\u001b[0m \u001b[32m━━━━━━━━━━━━━━━━━━━━\u001b[0m\u001b[37m\u001b[0m \u001b[1m0s\u001b[0m 51ms/step - categorical_accuracy: 0.8683 - loss: 0.3357 - val_categorical_accuracy: 1.0000 - val_loss: 0.1726\n",
      "Epoch 72/500\n",
      "\u001b[1m8/8\u001b[0m \u001b[32m━━━━━━━━━━━━━━━━━━━━\u001b[0m\u001b[37m\u001b[0m \u001b[1m0s\u001b[0m 52ms/step - categorical_accuracy: 0.9682 - loss: 0.2362 - val_categorical_accuracy: 1.0000 - val_loss: 0.1480\n",
      "Epoch 73/500\n",
      "\u001b[1m8/8\u001b[0m \u001b[32m━━━━━━━━━━━━━━━━━━━━\u001b[0m\u001b[37m\u001b[0m \u001b[1m0s\u001b[0m 51ms/step - categorical_accuracy: 0.9851 - loss: 0.2020 - val_categorical_accuracy: 0.9825 - val_loss: 0.1130\n",
      "Epoch 74/500\n",
      "\u001b[1m8/8\u001b[0m \u001b[32m━━━━━━━━━━━━━━━━━━━━\u001b[0m\u001b[37m\u001b[0m \u001b[1m0s\u001b[0m 51ms/step - categorical_accuracy: 0.9487 - loss: 0.1794 - val_categorical_accuracy: 1.0000 - val_loss: 0.0493\n",
      "Epoch 75/500\n",
      "\u001b[1m8/8\u001b[0m \u001b[32m━━━━━━━━━━━━━━━━━━━━\u001b[0m\u001b[37m\u001b[0m \u001b[1m0s\u001b[0m 53ms/step - categorical_accuracy: 0.9887 - loss: 0.0911 - val_categorical_accuracy: 1.0000 - val_loss: 0.0248\n",
      "Epoch 76/500\n",
      "\u001b[1m8/8\u001b[0m \u001b[32m━━━━━━━━━━━━━━━━━━━━\u001b[0m\u001b[37m\u001b[0m \u001b[1m1s\u001b[0m 65ms/step - categorical_accuracy: 0.9831 - loss: 0.0688 - val_categorical_accuracy: 1.0000 - val_loss: 0.0144\n",
      "Epoch 77/500\n",
      "\u001b[1m8/8\u001b[0m \u001b[32m━━━━━━━━━━━━━━━━━━━━\u001b[0m\u001b[37m\u001b[0m \u001b[1m1s\u001b[0m 63ms/step - categorical_accuracy: 0.9667 - loss: 0.0635 - val_categorical_accuracy: 0.8947 - val_loss: 0.2266\n",
      "Epoch 78/500\n",
      "\u001b[1m8/8\u001b[0m \u001b[32m━━━━━━━━━━━━━━━━━━━━\u001b[0m\u001b[37m\u001b[0m \u001b[1m0s\u001b[0m 51ms/step - categorical_accuracy: 0.9325 - loss: 0.1826 - val_categorical_accuracy: 1.0000 - val_loss: 0.0488\n",
      "Epoch 79/500\n",
      "\u001b[1m8/8\u001b[0m \u001b[32m━━━━━━━━━━━━━━━━━━━━\u001b[0m\u001b[37m\u001b[0m \u001b[1m0s\u001b[0m 58ms/step - categorical_accuracy: 0.9408 - loss: 0.1252 - val_categorical_accuracy: 0.9825 - val_loss: 0.0674\n",
      "Epoch 80/500\n",
      "\u001b[1m8/8\u001b[0m \u001b[32m━━━━━━━━━━━━━━━━━━━━\u001b[0m\u001b[37m\u001b[0m \u001b[1m0s\u001b[0m 49ms/step - categorical_accuracy: 0.9123 - loss: 0.1981 - val_categorical_accuracy: 0.9649 - val_loss: 0.1346\n",
      "Epoch 81/500\n",
      "\u001b[1m8/8\u001b[0m \u001b[32m━━━━━━━━━━━━━━━━━━━━\u001b[0m\u001b[37m\u001b[0m \u001b[1m0s\u001b[0m 54ms/step - categorical_accuracy: 0.9571 - loss: 0.1659 - val_categorical_accuracy: 1.0000 - val_loss: 0.0717\n",
      "Epoch 82/500\n",
      "\u001b[1m8/8\u001b[0m \u001b[32m━━━━━━━━━━━━━━━━━━━━\u001b[0m\u001b[37m\u001b[0m \u001b[1m0s\u001b[0m 49ms/step - categorical_accuracy: 0.9925 - loss: 0.0724 - val_categorical_accuracy: 0.9825 - val_loss: 0.0614\n",
      "Epoch 83/500\n",
      "\u001b[1m8/8\u001b[0m \u001b[32m━━━━━━━━━━━━━━━━━━━━\u001b[0m\u001b[37m\u001b[0m \u001b[1m0s\u001b[0m 50ms/step - categorical_accuracy: 0.9528 - loss: 0.1240 - val_categorical_accuracy: 1.0000 - val_loss: 0.0239\n",
      "Epoch 84/500\n",
      "\u001b[1m8/8\u001b[0m \u001b[32m━━━━━━━━━━━━━━━━━━━━\u001b[0m\u001b[37m\u001b[0m \u001b[1m0s\u001b[0m 49ms/step - categorical_accuracy: 0.9952 - loss: 0.0321 - val_categorical_accuracy: 1.0000 - val_loss: 0.0252\n",
      "Epoch 85/500\n",
      "\u001b[1m8/8\u001b[0m \u001b[32m━━━━━━━━━━━━━━━━━━━━\u001b[0m\u001b[37m\u001b[0m \u001b[1m0s\u001b[0m 54ms/step - categorical_accuracy: 0.9873 - loss: 0.0481 - val_categorical_accuracy: 1.0000 - val_loss: 0.0092\n",
      "Epoch 86/500\n",
      "\u001b[1m8/8\u001b[0m \u001b[32m━━━━━━━━━━━━━━━━━━━━\u001b[0m\u001b[37m\u001b[0m \u001b[1m0s\u001b[0m 50ms/step - categorical_accuracy: 0.9952 - loss: 0.0147 - val_categorical_accuracy: 0.9825 - val_loss: 0.0223\n",
      "Epoch 87/500\n",
      "\u001b[1m8/8\u001b[0m \u001b[32m━━━━━━━━━━━━━━━━━━━━\u001b[0m\u001b[37m\u001b[0m \u001b[1m0s\u001b[0m 54ms/step - categorical_accuracy: 0.9588 - loss: 0.0797 - val_categorical_accuracy: 0.9649 - val_loss: 0.1260\n",
      "Epoch 88/500\n",
      "\u001b[1m8/8\u001b[0m \u001b[32m━━━━━━━━━━━━━━━━━━━━\u001b[0m\u001b[37m\u001b[0m \u001b[1m0s\u001b[0m 54ms/step - categorical_accuracy: 0.9289 - loss: 0.1727 - val_categorical_accuracy: 0.9649 - val_loss: 0.0682\n",
      "Epoch 89/500\n",
      "\u001b[1m8/8\u001b[0m \u001b[32m━━━━━━━━━━━━━━━━━━━━\u001b[0m\u001b[37m\u001b[0m \u001b[1m0s\u001b[0m 53ms/step - categorical_accuracy: 0.9656 - loss: 0.1077 - val_categorical_accuracy: 0.9474 - val_loss: 0.1050\n",
      "Epoch 90/500\n",
      "\u001b[1m8/8\u001b[0m \u001b[32m━━━━━━━━━━━━━━━━━━━━\u001b[0m\u001b[37m\u001b[0m \u001b[1m0s\u001b[0m 59ms/step - categorical_accuracy: 0.9952 - loss: 0.0535 - val_categorical_accuracy: 0.9825 - val_loss: 0.0541\n",
      "Epoch 91/500\n",
      "\u001b[1m8/8\u001b[0m \u001b[32m━━━━━━━━━━━━━━━━━━━━\u001b[0m\u001b[37m\u001b[0m \u001b[1m0s\u001b[0m 53ms/step - categorical_accuracy: 0.9621 - loss: 0.1024 - val_categorical_accuracy: 1.0000 - val_loss: 0.0510\n",
      "Epoch 92/500\n",
      "\u001b[1m8/8\u001b[0m \u001b[32m━━━━━━━━━━━━━━━━━━━━\u001b[0m\u001b[37m\u001b[0m \u001b[1m0s\u001b[0m 49ms/step - categorical_accuracy: 0.9952 - loss: 0.0431 - val_categorical_accuracy: 0.9825 - val_loss: 0.0216\n",
      "Epoch 93/500\n",
      "\u001b[1m8/8\u001b[0m \u001b[32m━━━━━━━━━━━━━━━━━━━━\u001b[0m\u001b[37m\u001b[0m \u001b[1m0s\u001b[0m 51ms/step - categorical_accuracy: 0.9935 - loss: 0.0501 - val_categorical_accuracy: 1.0000 - val_loss: 0.0108\n",
      "Epoch 94/500\n",
      "\u001b[1m8/8\u001b[0m \u001b[32m━━━━━━━━━━━━━━━━━━━━\u001b[0m\u001b[37m\u001b[0m \u001b[1m0s\u001b[0m 52ms/step - categorical_accuracy: 0.9925 - loss: 0.0235 - val_categorical_accuracy: 1.0000 - val_loss: 0.0098\n",
      "Epoch 95/500\n",
      "\u001b[1m8/8\u001b[0m \u001b[32m━━━━━━━━━━━━━━━━━━━━\u001b[0m\u001b[37m\u001b[0m \u001b[1m0s\u001b[0m 54ms/step - categorical_accuracy: 0.9884 - loss: 0.0388 - val_categorical_accuracy: 1.0000 - val_loss: 0.0245\n",
      "Epoch 96/500\n",
      "\u001b[1m8/8\u001b[0m \u001b[32m━━━━━━━━━━━━━━━━━━━━\u001b[0m\u001b[37m\u001b[0m \u001b[1m0s\u001b[0m 53ms/step - categorical_accuracy: 0.9952 - loss: 0.0328 - val_categorical_accuracy: 0.9825 - val_loss: 0.0654\n",
      "Epoch 97/500\n",
      "\u001b[1m8/8\u001b[0m \u001b[32m━━━━━━━━━━━━━━━━━━━━\u001b[0m\u001b[37m\u001b[0m \u001b[1m0s\u001b[0m 51ms/step - categorical_accuracy: 0.9693 - loss: 0.1043 - val_categorical_accuracy: 1.0000 - val_loss: 0.0154\n",
      "Epoch 98/500\n",
      "\u001b[1m8/8\u001b[0m \u001b[32m━━━━━━━━━━━━━━━━━━━━\u001b[0m\u001b[37m\u001b[0m \u001b[1m0s\u001b[0m 59ms/step - categorical_accuracy: 0.9952 - loss: 0.0213 - val_categorical_accuracy: 0.9825 - val_loss: 0.0341\n",
      "Epoch 99/500\n",
      "\u001b[1m8/8\u001b[0m \u001b[32m━━━━━━━━━━━━━━━━━━━━\u001b[0m\u001b[37m\u001b[0m \u001b[1m0s\u001b[0m 53ms/step - categorical_accuracy: 0.9920 - loss: 0.0323 - val_categorical_accuracy: 1.0000 - val_loss: 0.0155\n",
      "Epoch 100/500\n",
      "\u001b[1m8/8\u001b[0m \u001b[32m━━━━━━━━━━━━━━━━━━━━\u001b[0m\u001b[37m\u001b[0m \u001b[1m0s\u001b[0m 58ms/step - categorical_accuracy: 0.9952 - loss: 0.0182 - val_categorical_accuracy: 1.0000 - val_loss: 0.0088\n",
      "Epoch 101/500\n",
      "\u001b[1m8/8\u001b[0m \u001b[32m━━━━━━━━━━━━━━━━━━━━\u001b[0m\u001b[37m\u001b[0m \u001b[1m1s\u001b[0m 61ms/step - categorical_accuracy: 0.9935 - loss: 0.0258 - val_categorical_accuracy: 1.0000 - val_loss: 0.0035\n",
      "Epoch 102/500\n",
      "\u001b[1m8/8\u001b[0m \u001b[32m━━━━━━━━━━━━━━━━━━━━\u001b[0m\u001b[37m\u001b[0m \u001b[1m1s\u001b[0m 68ms/step - categorical_accuracy: 1.0000 - loss: 0.0064 - val_categorical_accuracy: 1.0000 - val_loss: 0.0034\n",
      "Epoch 103/500\n",
      "\u001b[1m8/8\u001b[0m \u001b[32m━━━━━━━━━━━━━━━━━━━━\u001b[0m\u001b[37m\u001b[0m \u001b[1m1s\u001b[0m 72ms/step - categorical_accuracy: 1.0000 - loss: 0.0041 - val_categorical_accuracy: 1.0000 - val_loss: 0.0024\n",
      "Epoch 104/500\n",
      "\u001b[1m8/8\u001b[0m \u001b[32m━━━━━━━━━━━━━━━━━━━━\u001b[0m\u001b[37m\u001b[0m \u001b[1m1s\u001b[0m 63ms/step - categorical_accuracy: 1.0000 - loss: 0.0030 - val_categorical_accuracy: 1.0000 - val_loss: 0.0018\n",
      "Epoch 105/500\n",
      "\u001b[1m8/8\u001b[0m \u001b[32m━━━━━━━━━━━━━━━━━━━━\u001b[0m\u001b[37m\u001b[0m \u001b[1m1s\u001b[0m 77ms/step - categorical_accuracy: 1.0000 - loss: 0.0032 - val_categorical_accuracy: 1.0000 - val_loss: 0.0015\n",
      "Epoch 106/500\n",
      "\u001b[1m8/8\u001b[0m \u001b[32m━━━━━━━━━━━━━━━━━━━━\u001b[0m\u001b[37m\u001b[0m \u001b[1m1s\u001b[0m 77ms/step - categorical_accuracy: 1.0000 - loss: 0.0021 - val_categorical_accuracy: 1.0000 - val_loss: 0.0012\n",
      "Epoch 107/500\n",
      "\u001b[1m8/8\u001b[0m \u001b[32m━━━━━━━━━━━━━━━━━━━━\u001b[0m\u001b[37m\u001b[0m \u001b[1m1s\u001b[0m 64ms/step - categorical_accuracy: 1.0000 - loss: 0.0016 - val_categorical_accuracy: 1.0000 - val_loss: 0.0010\n",
      "Epoch 108/500\n",
      "\u001b[1m8/8\u001b[0m \u001b[32m━━━━━━━━━━━━━━━━━━━━\u001b[0m\u001b[37m\u001b[0m \u001b[1m1s\u001b[0m 70ms/step - categorical_accuracy: 1.0000 - loss: 0.0013 - val_categorical_accuracy: 1.0000 - val_loss: 8.4340e-04\n",
      "Epoch 109/500\n",
      "\u001b[1m8/8\u001b[0m \u001b[32m━━━━━━━━━━━━━━━━━━━━\u001b[0m\u001b[37m\u001b[0m \u001b[1m1s\u001b[0m 62ms/step - categorical_accuracy: 1.0000 - loss: 0.0012 - val_categorical_accuracy: 1.0000 - val_loss: 7.1634e-04\n",
      "Epoch 110/500\n",
      "\u001b[1m8/8\u001b[0m \u001b[32m━━━━━━━━━━━━━━━━━━━━\u001b[0m\u001b[37m\u001b[0m \u001b[1m1s\u001b[0m 65ms/step - categorical_accuracy: 1.0000 - loss: 9.9966e-04 - val_categorical_accuracy: 1.0000 - val_loss: 6.1941e-04\n",
      "Epoch 111/500\n",
      "\u001b[1m8/8\u001b[0m \u001b[32m━━━━━━━━━━━━━━━━━━━━\u001b[0m\u001b[37m\u001b[0m \u001b[1m1s\u001b[0m 61ms/step - categorical_accuracy: 1.0000 - loss: 8.4962e-04 - val_categorical_accuracy: 1.0000 - val_loss: 5.4136e-04\n",
      "Epoch 112/500\n",
      "\u001b[1m8/8\u001b[0m \u001b[32m━━━━━━━━━━━━━━━━━━━━\u001b[0m\u001b[37m\u001b[0m \u001b[1m1s\u001b[0m 63ms/step - categorical_accuracy: 1.0000 - loss: 7.3098e-04 - val_categorical_accuracy: 1.0000 - val_loss: 4.7588e-04\n",
      "Epoch 113/500\n",
      "\u001b[1m8/8\u001b[0m \u001b[32m━━━━━━━━━━━━━━━━━━━━\u001b[0m\u001b[37m\u001b[0m \u001b[1m1s\u001b[0m 68ms/step - categorical_accuracy: 1.0000 - loss: 6.4370e-04 - val_categorical_accuracy: 1.0000 - val_loss: 4.2137e-04\n",
      "Epoch 114/500\n",
      "\u001b[1m8/8\u001b[0m \u001b[32m━━━━━━━━━━━━━━━━━━━━\u001b[0m\u001b[37m\u001b[0m \u001b[1m1s\u001b[0m 62ms/step - categorical_accuracy: 1.0000 - loss: 5.7409e-04 - val_categorical_accuracy: 1.0000 - val_loss: 3.7527e-04\n",
      "Epoch 115/500\n",
      "\u001b[1m8/8\u001b[0m \u001b[32m━━━━━━━━━━━━━━━━━━━━\u001b[0m\u001b[37m\u001b[0m \u001b[1m1s\u001b[0m 62ms/step - categorical_accuracy: 1.0000 - loss: 5.1052e-04 - val_categorical_accuracy: 1.0000 - val_loss: 3.3594e-04\n",
      "Epoch 116/500\n",
      "\u001b[1m8/8\u001b[0m \u001b[32m━━━━━━━━━━━━━━━━━━━━\u001b[0m\u001b[37m\u001b[0m \u001b[1m0s\u001b[0m 60ms/step - categorical_accuracy: 1.0000 - loss: 4.5565e-04 - val_categorical_accuracy: 1.0000 - val_loss: 3.0249e-04\n",
      "Epoch 117/500\n",
      "\u001b[1m8/8\u001b[0m \u001b[32m━━━━━━━━━━━━━━━━━━━━\u001b[0m\u001b[37m\u001b[0m \u001b[1m0s\u001b[0m 58ms/step - categorical_accuracy: 1.0000 - loss: 4.1187e-04 - val_categorical_accuracy: 1.0000 - val_loss: 2.7392e-04\n",
      "Epoch 118/500\n",
      "\u001b[1m8/8\u001b[0m \u001b[32m━━━━━━━━━━━━━━━━━━━━\u001b[0m\u001b[37m\u001b[0m \u001b[1m0s\u001b[0m 53ms/step - categorical_accuracy: 1.0000 - loss: 3.7391e-04 - val_categorical_accuracy: 1.0000 - val_loss: 2.4926e-04\n",
      "Epoch 119/500\n",
      "\u001b[1m8/8\u001b[0m \u001b[32m━━━━━━━━━━━━━━━━━━━━\u001b[0m\u001b[37m\u001b[0m \u001b[1m0s\u001b[0m 52ms/step - categorical_accuracy: 1.0000 - loss: 3.3983e-04 - val_categorical_accuracy: 1.0000 - val_loss: 2.2788e-04\n",
      "Epoch 120/500\n",
      "\u001b[1m8/8\u001b[0m \u001b[32m━━━━━━━━━━━━━━━━━━━━\u001b[0m\u001b[37m\u001b[0m \u001b[1m0s\u001b[0m 52ms/step - categorical_accuracy: 1.0000 - loss: 3.0941e-04 - val_categorical_accuracy: 1.0000 - val_loss: 2.0914e-04\n",
      "Epoch 121/500\n",
      "\u001b[1m8/8\u001b[0m \u001b[32m━━━━━━━━━━━━━━━━━━━━\u001b[0m\u001b[37m\u001b[0m \u001b[1m0s\u001b[0m 52ms/step - categorical_accuracy: 1.0000 - loss: 2.8337e-04 - val_categorical_accuracy: 1.0000 - val_loss: 1.9288e-04\n",
      "Epoch 122/500\n",
      "\u001b[1m8/8\u001b[0m \u001b[32m━━━━━━━━━━━━━━━━━━━━\u001b[0m\u001b[37m\u001b[0m \u001b[1m0s\u001b[0m 57ms/step - categorical_accuracy: 1.0000 - loss: 2.6129e-04 - val_categorical_accuracy: 1.0000 - val_loss: 1.7870e-04\n",
      "Epoch 123/500\n",
      "\u001b[1m8/8\u001b[0m \u001b[32m━━━━━━━━━━━━━━━━━━━━\u001b[0m\u001b[37m\u001b[0m \u001b[1m1s\u001b[0m 60ms/step - categorical_accuracy: 1.0000 - loss: 2.4171e-04 - val_categorical_accuracy: 1.0000 - val_loss: 1.6613e-04\n",
      "Epoch 124/500\n",
      "\u001b[1m8/8\u001b[0m \u001b[32m━━━━━━━━━━━━━━━━━━━━\u001b[0m\u001b[37m\u001b[0m \u001b[1m0s\u001b[0m 58ms/step - categorical_accuracy: 1.0000 - loss: 2.2453e-04 - val_categorical_accuracy: 1.0000 - val_loss: 1.5491e-04\n",
      "Epoch 125/500\n",
      "\u001b[1m8/8\u001b[0m \u001b[32m━━━━━━━━━━━━━━━━━━━━\u001b[0m\u001b[37m\u001b[0m \u001b[1m0s\u001b[0m 51ms/step - categorical_accuracy: 1.0000 - loss: 2.0936e-04 - val_categorical_accuracy: 1.0000 - val_loss: 1.4486e-04\n",
      "Epoch 126/500\n",
      "\u001b[1m8/8\u001b[0m \u001b[32m━━━━━━━━━━━━━━━━━━━━\u001b[0m\u001b[37m\u001b[0m \u001b[1m0s\u001b[0m 50ms/step - categorical_accuracy: 1.0000 - loss: 1.9579e-04 - val_categorical_accuracy: 1.0000 - val_loss: 1.3575e-04\n",
      "Epoch 127/500\n",
      "\u001b[1m8/8\u001b[0m \u001b[32m━━━━━━━━━━━━━━━━━━━━\u001b[0m\u001b[37m\u001b[0m \u001b[1m0s\u001b[0m 51ms/step - categorical_accuracy: 1.0000 - loss: 1.8345e-04 - val_categorical_accuracy: 1.0000 - val_loss: 1.2756e-04\n",
      "Epoch 128/500\n",
      "\u001b[1m8/8\u001b[0m \u001b[32m━━━━━━━━━━━━━━━━━━━━\u001b[0m\u001b[37m\u001b[0m \u001b[1m0s\u001b[0m 51ms/step - categorical_accuracy: 1.0000 - loss: 1.7256e-04 - val_categorical_accuracy: 1.0000 - val_loss: 1.2011e-04\n",
      "Epoch 129/500\n",
      "\u001b[1m8/8\u001b[0m \u001b[32m━━━━━━━━━━━━━━━━━━━━\u001b[0m\u001b[37m\u001b[0m \u001b[1m0s\u001b[0m 60ms/step - categorical_accuracy: 1.0000 - loss: 1.6251e-04 - val_categorical_accuracy: 1.0000 - val_loss: 1.1330e-04\n",
      "Epoch 130/500\n",
      "\u001b[1m8/8\u001b[0m \u001b[32m━━━━━━━━━━━━━━━━━━━━\u001b[0m\u001b[37m\u001b[0m \u001b[1m0s\u001b[0m 57ms/step - categorical_accuracy: 1.0000 - loss: 1.5320e-04 - val_categorical_accuracy: 1.0000 - val_loss: 1.0708e-04\n",
      "Epoch 131/500\n",
      "\u001b[1m8/8\u001b[0m \u001b[32m━━━━━━━━━━━━━━━━━━━━\u001b[0m\u001b[37m\u001b[0m \u001b[1m0s\u001b[0m 59ms/step - categorical_accuracy: 1.0000 - loss: 1.4464e-04 - val_categorical_accuracy: 1.0000 - val_loss: 1.0135e-04\n",
      "Epoch 132/500\n",
      "\u001b[1m8/8\u001b[0m \u001b[32m━━━━━━━━━━━━━━━━━━━━\u001b[0m\u001b[37m\u001b[0m \u001b[1m0s\u001b[0m 53ms/step - categorical_accuracy: 1.0000 - loss: 1.3683e-04 - val_categorical_accuracy: 1.0000 - val_loss: 9.6066e-05\n",
      "Epoch 133/500\n",
      "\u001b[1m8/8\u001b[0m \u001b[32m━━━━━━━━━━━━━━━━━━━━\u001b[0m\u001b[37m\u001b[0m \u001b[1m0s\u001b[0m 52ms/step - categorical_accuracy: 1.0000 - loss: 1.2971e-04 - val_categorical_accuracy: 1.0000 - val_loss: 9.1201e-05\n",
      "Epoch 134/500\n",
      "\u001b[1m8/8\u001b[0m \u001b[32m━━━━━━━━━━━━━━━━━━━━\u001b[0m\u001b[37m\u001b[0m \u001b[1m0s\u001b[0m 60ms/step - categorical_accuracy: 1.0000 - loss: 1.2313e-04 - val_categorical_accuracy: 1.0000 - val_loss: 8.6709e-05\n",
      "Epoch 135/500\n",
      "\u001b[1m8/8\u001b[0m \u001b[32m━━━━━━━━━━━━━━━━━━━━\u001b[0m\u001b[37m\u001b[0m \u001b[1m0s\u001b[0m 57ms/step - categorical_accuracy: 1.0000 - loss: 1.1702e-04 - val_categorical_accuracy: 1.0000 - val_loss: 8.2591e-05\n",
      "Epoch 136/500\n",
      "\u001b[1m8/8\u001b[0m \u001b[32m━━━━━━━━━━━━━━━━━━━━\u001b[0m\u001b[37m\u001b[0m \u001b[1m0s\u001b[0m 54ms/step - categorical_accuracy: 1.0000 - loss: 1.1134e-04 - val_categorical_accuracy: 1.0000 - val_loss: 7.8753e-05\n",
      "Epoch 137/500\n",
      "\u001b[1m8/8\u001b[0m \u001b[32m━━━━━━━━━━━━━━━━━━━━\u001b[0m\u001b[37m\u001b[0m \u001b[1m0s\u001b[0m 55ms/step - categorical_accuracy: 1.0000 - loss: 1.0607e-04 - val_categorical_accuracy: 1.0000 - val_loss: 7.5185e-05\n",
      "Epoch 138/500\n",
      "\u001b[1m8/8\u001b[0m \u001b[32m━━━━━━━━━━━━━━━━━━━━\u001b[0m\u001b[37m\u001b[0m \u001b[1m0s\u001b[0m 53ms/step - categorical_accuracy: 1.0000 - loss: 1.0126e-04 - val_categorical_accuracy: 1.0000 - val_loss: 7.1885e-05\n",
      "Epoch 139/500\n",
      "\u001b[1m8/8\u001b[0m \u001b[32m━━━━━━━━━━━━━━━━━━━━\u001b[0m\u001b[37m\u001b[0m \u001b[1m0s\u001b[0m 49ms/step - categorical_accuracy: 1.0000 - loss: 9.6704e-05 - val_categorical_accuracy: 1.0000 - val_loss: 6.8798e-05\n",
      "Epoch 140/500\n",
      "\u001b[1m8/8\u001b[0m \u001b[32m━━━━━━━━━━━━━━━━━━━━\u001b[0m\u001b[37m\u001b[0m \u001b[1m0s\u001b[0m 51ms/step - categorical_accuracy: 1.0000 - loss: 9.2447e-05 - val_categorical_accuracy: 1.0000 - val_loss: 6.5939e-05\n",
      "Epoch 141/500\n",
      "\u001b[1m8/8\u001b[0m \u001b[32m━━━━━━━━━━━━━━━━━━━━\u001b[0m\u001b[37m\u001b[0m \u001b[1m0s\u001b[0m 56ms/step - categorical_accuracy: 1.0000 - loss: 8.8446e-05 - val_categorical_accuracy: 1.0000 - val_loss: 6.3250e-05\n",
      "Epoch 142/500\n",
      "\u001b[1m8/8\u001b[0m \u001b[32m━━━━━━━━━━━━━━━━━━━━\u001b[0m\u001b[37m\u001b[0m \u001b[1m0s\u001b[0m 50ms/step - categorical_accuracy: 1.0000 - loss: 8.4722e-05 - val_categorical_accuracy: 1.0000 - val_loss: 6.0754e-05\n",
      "Epoch 143/500\n",
      "\u001b[1m8/8\u001b[0m \u001b[32m━━━━━━━━━━━━━━━━━━━━\u001b[0m\u001b[37m\u001b[0m \u001b[1m0s\u001b[0m 51ms/step - categorical_accuracy: 1.0000 - loss: 8.1252e-05 - val_categorical_accuracy: 1.0000 - val_loss: 5.8397e-05\n",
      "Epoch 144/500\n",
      "\u001b[1m8/8\u001b[0m \u001b[32m━━━━━━━━━━━━━━━━━━━━\u001b[0m\u001b[37m\u001b[0m \u001b[1m0s\u001b[0m 52ms/step - categorical_accuracy: 1.0000 - loss: 7.7999e-05 - val_categorical_accuracy: 1.0000 - val_loss: 5.6189e-05\n",
      "Epoch 145/500\n",
      "\u001b[1m8/8\u001b[0m \u001b[32m━━━━━━━━━━━━━━━━━━━━\u001b[0m\u001b[37m\u001b[0m \u001b[1m0s\u001b[0m 53ms/step - categorical_accuracy: 1.0000 - loss: 7.4961e-05 - val_categorical_accuracy: 1.0000 - val_loss: 5.4129e-05\n",
      "Epoch 146/500\n",
      "\u001b[1m8/8\u001b[0m \u001b[32m━━━━━━━━━━━━━━━━━━━━\u001b[0m\u001b[37m\u001b[0m \u001b[1m0s\u001b[0m 50ms/step - categorical_accuracy: 1.0000 - loss: 7.2140e-05 - val_categorical_accuracy: 1.0000 - val_loss: 5.2171e-05\n",
      "Epoch 147/500\n",
      "\u001b[1m8/8\u001b[0m \u001b[32m━━━━━━━━━━━━━━━━━━━━\u001b[0m\u001b[37m\u001b[0m \u001b[1m0s\u001b[0m 49ms/step - categorical_accuracy: 1.0000 - loss: 6.9487e-05 - val_categorical_accuracy: 1.0000 - val_loss: 5.0335e-05\n",
      "Epoch 148/500\n",
      "\u001b[1m8/8\u001b[0m \u001b[32m━━━━━━━━━━━━━━━━━━━━\u001b[0m\u001b[37m\u001b[0m \u001b[1m0s\u001b[0m 51ms/step - categorical_accuracy: 1.0000 - loss: 6.6985e-05 - val_categorical_accuracy: 1.0000 - val_loss: 4.8601e-05\n",
      "Epoch 149/500\n",
      "\u001b[1m8/8\u001b[0m \u001b[32m━━━━━━━━━━━━━━━━━━━━\u001b[0m\u001b[37m\u001b[0m \u001b[1m0s\u001b[0m 50ms/step - categorical_accuracy: 1.0000 - loss: 6.4622e-05 - val_categorical_accuracy: 1.0000 - val_loss: 4.6986e-05\n",
      "Epoch 150/500\n",
      "\u001b[1m8/8\u001b[0m \u001b[32m━━━━━━━━━━━━━━━━━━━━\u001b[0m\u001b[37m\u001b[0m \u001b[1m0s\u001b[0m 50ms/step - categorical_accuracy: 1.0000 - loss: 6.2371e-05 - val_categorical_accuracy: 1.0000 - val_loss: 4.5454e-05\n",
      "Epoch 151/500\n",
      "\u001b[1m8/8\u001b[0m \u001b[32m━━━━━━━━━━━━━━━━━━━━\u001b[0m\u001b[37m\u001b[0m \u001b[1m0s\u001b[0m 54ms/step - categorical_accuracy: 1.0000 - loss: 6.0213e-05 - val_categorical_accuracy: 1.0000 - val_loss: 4.3998e-05\n",
      "Epoch 152/500\n",
      "\u001b[1m8/8\u001b[0m \u001b[32m━━━━━━━━━━━━━━━━━━━━\u001b[0m\u001b[37m\u001b[0m \u001b[1m0s\u001b[0m 51ms/step - categorical_accuracy: 1.0000 - loss: 5.8196e-05 - val_categorical_accuracy: 1.0000 - val_loss: 4.2610e-05\n",
      "Epoch 153/500\n",
      "\u001b[1m8/8\u001b[0m \u001b[32m━━━━━━━━━━━━━━━━━━━━\u001b[0m\u001b[37m\u001b[0m \u001b[1m0s\u001b[0m 52ms/step - categorical_accuracy: 1.0000 - loss: 5.6307e-05 - val_categorical_accuracy: 1.0000 - val_loss: 4.1306e-05\n",
      "Epoch 154/500\n",
      "\u001b[1m8/8\u001b[0m \u001b[32m━━━━━━━━━━━━━━━━━━━━\u001b[0m\u001b[37m\u001b[0m \u001b[1m0s\u001b[0m 50ms/step - categorical_accuracy: 1.0000 - loss: 5.4509e-05 - val_categorical_accuracy: 1.0000 - val_loss: 4.0050e-05\n",
      "Epoch 155/500\n",
      "\u001b[1m8/8\u001b[0m \u001b[32m━━━━━━━━━━━━━━━━━━━━\u001b[0m\u001b[37m\u001b[0m \u001b[1m0s\u001b[0m 51ms/step - categorical_accuracy: 1.0000 - loss: 5.2809e-05 - val_categorical_accuracy: 1.0000 - val_loss: 3.8863e-05\n",
      "Epoch 156/500\n",
      "\u001b[1m8/8\u001b[0m \u001b[32m━━━━━━━━━━━━━━━━━━━━\u001b[0m\u001b[37m\u001b[0m \u001b[1m0s\u001b[0m 53ms/step - categorical_accuracy: 1.0000 - loss: 5.1176e-05 - val_categorical_accuracy: 1.0000 - val_loss: 3.7728e-05\n",
      "Epoch 157/500\n",
      "\u001b[1m8/8\u001b[0m \u001b[32m━━━━━━━━━━━━━━━━━━━━\u001b[0m\u001b[37m\u001b[0m \u001b[1m0s\u001b[0m 51ms/step - categorical_accuracy: 1.0000 - loss: 4.9620e-05 - val_categorical_accuracy: 1.0000 - val_loss: 3.6652e-05\n",
      "Epoch 158/500\n",
      "\u001b[1m8/8\u001b[0m \u001b[32m━━━━━━━━━━━━━━━━━━━━\u001b[0m\u001b[37m\u001b[0m \u001b[1m0s\u001b[0m 50ms/step - categorical_accuracy: 1.0000 - loss: 4.8137e-05 - val_categorical_accuracy: 1.0000 - val_loss: 3.5622e-05\n",
      "Epoch 159/500\n",
      "\u001b[1m8/8\u001b[0m \u001b[32m━━━━━━━━━━━━━━━━━━━━\u001b[0m\u001b[37m\u001b[0m \u001b[1m0s\u001b[0m 50ms/step - categorical_accuracy: 1.0000 - loss: 4.6719e-05 - val_categorical_accuracy: 1.0000 - val_loss: 3.4633e-05\n",
      "Epoch 160/500\n",
      "\u001b[1m8/8\u001b[0m \u001b[32m━━━━━━━━━━━━━━━━━━━━\u001b[0m\u001b[37m\u001b[0m \u001b[1m0s\u001b[0m 54ms/step - categorical_accuracy: 1.0000 - loss: 4.5371e-05 - val_categorical_accuracy: 1.0000 - val_loss: 3.3691e-05\n",
      "Epoch 161/500\n",
      "\u001b[1m8/8\u001b[0m \u001b[32m━━━━━━━━━━━━━━━━━━━━\u001b[0m\u001b[37m\u001b[0m \u001b[1m0s\u001b[0m 50ms/step - categorical_accuracy: 1.0000 - loss: 4.4080e-05 - val_categorical_accuracy: 1.0000 - val_loss: 3.2788e-05\n",
      "Epoch 162/500\n",
      "\u001b[1m8/8\u001b[0m \u001b[32m━━━━━━━━━━━━━━━━━━━━\u001b[0m\u001b[37m\u001b[0m \u001b[1m0s\u001b[0m 50ms/step - categorical_accuracy: 1.0000 - loss: 4.2833e-05 - val_categorical_accuracy: 1.0000 - val_loss: 3.1923e-05\n",
      "Epoch 163/500\n",
      "\u001b[1m8/8\u001b[0m \u001b[32m━━━━━━━━━━━━━━━━━━━━\u001b[0m\u001b[37m\u001b[0m \u001b[1m0s\u001b[0m 50ms/step - categorical_accuracy: 1.0000 - loss: 4.1635e-05 - val_categorical_accuracy: 1.0000 - val_loss: 3.1080e-05\n",
      "Epoch 164/500\n",
      "\u001b[1m8/8\u001b[0m \u001b[32m━━━━━━━━━━━━━━━━━━━━\u001b[0m\u001b[37m\u001b[0m \u001b[1m0s\u001b[0m 49ms/step - categorical_accuracy: 1.0000 - loss: 4.0490e-05 - val_categorical_accuracy: 1.0000 - val_loss: 3.0276e-05\n",
      "Epoch 165/500\n",
      "\u001b[1m8/8\u001b[0m \u001b[32m━━━━━━━━━━━━━━━━━━━━\u001b[0m\u001b[37m\u001b[0m \u001b[1m0s\u001b[0m 50ms/step - categorical_accuracy: 1.0000 - loss: 3.9387e-05 - val_categorical_accuracy: 1.0000 - val_loss: 2.9511e-05\n",
      "Epoch 166/500\n",
      "\u001b[1m8/8\u001b[0m \u001b[32m━━━━━━━━━━━━━━━━━━━━\u001b[0m\u001b[37m\u001b[0m \u001b[1m0s\u001b[0m 49ms/step - categorical_accuracy: 1.0000 - loss: 3.8336e-05 - val_categorical_accuracy: 1.0000 - val_loss: 2.8777e-05\n",
      "Epoch 167/500\n",
      "\u001b[1m8/8\u001b[0m \u001b[32m━━━━━━━━━━━━━━━━━━━━\u001b[0m\u001b[37m\u001b[0m \u001b[1m0s\u001b[0m 49ms/step - categorical_accuracy: 1.0000 - loss: 3.7310e-05 - val_categorical_accuracy: 1.0000 - val_loss: 2.8075e-05\n",
      "Epoch 168/500\n",
      "\u001b[1m8/8\u001b[0m \u001b[32m━━━━━━━━━━━━━━━━━━━━\u001b[0m\u001b[37m\u001b[0m \u001b[1m0s\u001b[0m 52ms/step - categorical_accuracy: 1.0000 - loss: 3.6331e-05 - val_categorical_accuracy: 1.0000 - val_loss: 2.7406e-05\n",
      "Epoch 169/500\n",
      "\u001b[1m8/8\u001b[0m \u001b[32m━━━━━━━━━━━━━━━━━━━━\u001b[0m\u001b[37m\u001b[0m \u001b[1m0s\u001b[0m 50ms/step - categorical_accuracy: 1.0000 - loss: 3.5392e-05 - val_categorical_accuracy: 1.0000 - val_loss: 2.6760e-05\n",
      "Epoch 170/500\n",
      "\u001b[1m8/8\u001b[0m \u001b[32m━━━━━━━━━━━━━━━━━━━━\u001b[0m\u001b[37m\u001b[0m \u001b[1m0s\u001b[0m 52ms/step - categorical_accuracy: 1.0000 - loss: 3.4495e-05 - val_categorical_accuracy: 1.0000 - val_loss: 2.6141e-05\n",
      "Epoch 171/500\n",
      "\u001b[1m8/8\u001b[0m \u001b[32m━━━━━━━━━━━━━━━━━━━━\u001b[0m\u001b[37m\u001b[0m \u001b[1m0s\u001b[0m 49ms/step - categorical_accuracy: 1.0000 - loss: 3.3664e-05 - val_categorical_accuracy: 1.0000 - val_loss: 2.5550e-05\n",
      "Epoch 172/500\n",
      "\u001b[1m8/8\u001b[0m \u001b[32m━━━━━━━━━━━━━━━━━━━━\u001b[0m\u001b[37m\u001b[0m \u001b[1m0s\u001b[0m 50ms/step - categorical_accuracy: 1.0000 - loss: 3.2859e-05 - val_categorical_accuracy: 1.0000 - val_loss: 2.4973e-05\n",
      "Epoch 173/500\n",
      "\u001b[1m8/8\u001b[0m \u001b[32m━━━━━━━━━━━━━━━━━━━━\u001b[0m\u001b[37m\u001b[0m \u001b[1m0s\u001b[0m 52ms/step - categorical_accuracy: 1.0000 - loss: 3.2098e-05 - val_categorical_accuracy: 1.0000 - val_loss: 2.4421e-05\n",
      "Epoch 174/500\n",
      "\u001b[1m8/8\u001b[0m \u001b[32m━━━━━━━━━━━━━━━━━━━━\u001b[0m\u001b[37m\u001b[0m \u001b[1m0s\u001b[0m 50ms/step - categorical_accuracy: 1.0000 - loss: 3.1368e-05 - val_categorical_accuracy: 1.0000 - val_loss: 2.3882e-05\n",
      "Epoch 175/500\n",
      "\u001b[1m8/8\u001b[0m \u001b[32m━━━━━━━━━━━━━━━━━━━━\u001b[0m\u001b[37m\u001b[0m \u001b[1m0s\u001b[0m 51ms/step - categorical_accuracy: 1.0000 - loss: 3.0658e-05 - val_categorical_accuracy: 1.0000 - val_loss: 2.3359e-05\n",
      "Epoch 176/500\n",
      "\u001b[1m8/8\u001b[0m \u001b[32m━━━━━━━━━━━━━━━━━━━━\u001b[0m\u001b[37m\u001b[0m \u001b[1m0s\u001b[0m 50ms/step - categorical_accuracy: 1.0000 - loss: 2.9961e-05 - val_categorical_accuracy: 1.0000 - val_loss: 2.2860e-05\n",
      "Epoch 177/500\n",
      "\u001b[1m8/8\u001b[0m \u001b[32m━━━━━━━━━━━━━━━━━━━━\u001b[0m\u001b[37m\u001b[0m \u001b[1m0s\u001b[0m 50ms/step - categorical_accuracy: 1.0000 - loss: 2.9274e-05 - val_categorical_accuracy: 1.0000 - val_loss: 2.2377e-05\n",
      "Epoch 178/500\n",
      "\u001b[1m8/8\u001b[0m \u001b[32m━━━━━━━━━━━━━━━━━━━━\u001b[0m\u001b[37m\u001b[0m \u001b[1m0s\u001b[0m 55ms/step - categorical_accuracy: 1.0000 - loss: 2.8608e-05 - val_categorical_accuracy: 1.0000 - val_loss: 2.1906e-05\n",
      "Epoch 179/500\n",
      "\u001b[1m8/8\u001b[0m \u001b[32m━━━━━━━━━━━━━━━━━━━━\u001b[0m\u001b[37m\u001b[0m \u001b[1m0s\u001b[0m 52ms/step - categorical_accuracy: 1.0000 - loss: 2.7959e-05 - val_categorical_accuracy: 1.0000 - val_loss: 2.1453e-05\n",
      "Epoch 180/500\n",
      "\u001b[1m8/8\u001b[0m \u001b[32m━━━━━━━━━━━━━━━━━━━━\u001b[0m\u001b[37m\u001b[0m \u001b[1m0s\u001b[0m 50ms/step - categorical_accuracy: 1.0000 - loss: 2.7332e-05 - val_categorical_accuracy: 1.0000 - val_loss: 2.1018e-05\n",
      "Epoch 181/500\n",
      "\u001b[1m8/8\u001b[0m \u001b[32m━━━━━━━━━━━━━━━━━━━━\u001b[0m\u001b[37m\u001b[0m \u001b[1m0s\u001b[0m 55ms/step - categorical_accuracy: 1.0000 - loss: 2.6727e-05 - val_categorical_accuracy: 1.0000 - val_loss: 2.0587e-05\n",
      "Epoch 182/500\n",
      "\u001b[1m8/8\u001b[0m \u001b[32m━━━━━━━━━━━━━━━━━━━━\u001b[0m\u001b[37m\u001b[0m \u001b[1m0s\u001b[0m 52ms/step - categorical_accuracy: 1.0000 - loss: 2.6142e-05 - val_categorical_accuracy: 1.0000 - val_loss: 2.0178e-05\n",
      "Epoch 183/500\n",
      "\u001b[1m8/8\u001b[0m \u001b[32m━━━━━━━━━━━━━━━━━━━━\u001b[0m\u001b[37m\u001b[0m \u001b[1m0s\u001b[0m 51ms/step - categorical_accuracy: 1.0000 - loss: 2.5578e-05 - val_categorical_accuracy: 1.0000 - val_loss: 1.9778e-05\n",
      "Epoch 184/500\n",
      "\u001b[1m8/8\u001b[0m \u001b[32m━━━━━━━━━━━━━━━━━━━━\u001b[0m\u001b[37m\u001b[0m \u001b[1m0s\u001b[0m 50ms/step - categorical_accuracy: 1.0000 - loss: 2.5032e-05 - val_categorical_accuracy: 1.0000 - val_loss: 1.9398e-05\n",
      "Epoch 185/500\n",
      "\u001b[1m8/8\u001b[0m \u001b[32m━━━━━━━━━━━━━━━━━━━━\u001b[0m\u001b[37m\u001b[0m \u001b[1m0s\u001b[0m 51ms/step - categorical_accuracy: 1.0000 - loss: 2.4506e-05 - val_categorical_accuracy: 1.0000 - val_loss: 1.9022e-05\n",
      "Epoch 186/500\n",
      "\u001b[1m8/8\u001b[0m \u001b[32m━━━━━━━━━━━━━━━━━━━━\u001b[0m\u001b[37m\u001b[0m \u001b[1m0s\u001b[0m 49ms/step - categorical_accuracy: 1.0000 - loss: 2.3996e-05 - val_categorical_accuracy: 1.0000 - val_loss: 1.8652e-05\n",
      "Epoch 187/500\n",
      "\u001b[1m8/8\u001b[0m \u001b[32m━━━━━━━━━━━━━━━━━━━━\u001b[0m\u001b[37m\u001b[0m \u001b[1m0s\u001b[0m 50ms/step - categorical_accuracy: 1.0000 - loss: 2.3504e-05 - val_categorical_accuracy: 1.0000 - val_loss: 1.8296e-05\n",
      "Epoch 188/500\n",
      "\u001b[1m8/8\u001b[0m \u001b[32m━━━━━━━━━━━━━━━━━━━━\u001b[0m\u001b[37m\u001b[0m \u001b[1m0s\u001b[0m 52ms/step - categorical_accuracy: 1.0000 - loss: 2.3029e-05 - val_categorical_accuracy: 1.0000 - val_loss: 1.7951e-05\n",
      "Epoch 189/500\n",
      "\u001b[1m8/8\u001b[0m \u001b[32m━━━━━━━━━━━━━━━━━━━━\u001b[0m\u001b[37m\u001b[0m \u001b[1m0s\u001b[0m 49ms/step - categorical_accuracy: 1.0000 - loss: 2.2564e-05 - val_categorical_accuracy: 1.0000 - val_loss: 1.7621e-05\n",
      "Epoch 190/500\n",
      "\u001b[1m8/8\u001b[0m \u001b[32m━━━━━━━━━━━━━━━━━━━━\u001b[0m\u001b[37m\u001b[0m \u001b[1m0s\u001b[0m 50ms/step - categorical_accuracy: 1.0000 - loss: 2.2109e-05 - val_categorical_accuracy: 1.0000 - val_loss: 1.7301e-05\n",
      "Epoch 191/500\n",
      "\u001b[1m8/8\u001b[0m \u001b[32m━━━━━━━━━━━━━━━━━━━━\u001b[0m\u001b[37m\u001b[0m \u001b[1m0s\u001b[0m 49ms/step - categorical_accuracy: 1.0000 - loss: 2.1673e-05 - val_categorical_accuracy: 1.0000 - val_loss: 1.6979e-05\n",
      "Epoch 192/500\n",
      "\u001b[1m8/8\u001b[0m \u001b[32m━━━━━━━━━━━━━━━━━━━━\u001b[0m\u001b[37m\u001b[0m \u001b[1m0s\u001b[0m 50ms/step - categorical_accuracy: 1.0000 - loss: 2.1252e-05 - val_categorical_accuracy: 1.0000 - val_loss: 1.6678e-05\n",
      "Epoch 193/500\n",
      "\u001b[1m8/8\u001b[0m \u001b[32m━━━━━━━━━━━━━━━━━━━━\u001b[0m\u001b[37m\u001b[0m \u001b[1m0s\u001b[0m 52ms/step - categorical_accuracy: 1.0000 - loss: 2.0839e-05 - val_categorical_accuracy: 1.0000 - val_loss: 1.6381e-05\n",
      "Epoch 194/500\n",
      "\u001b[1m8/8\u001b[0m \u001b[32m━━━━━━━━━━━━━━━━━━━━\u001b[0m\u001b[37m\u001b[0m \u001b[1m0s\u001b[0m 50ms/step - categorical_accuracy: 1.0000 - loss: 2.0436e-05 - val_categorical_accuracy: 1.0000 - val_loss: 1.6093e-05\n",
      "Epoch 195/500\n",
      "\u001b[1m8/8\u001b[0m \u001b[32m━━━━━━━━━━━━━━━━━━━━\u001b[0m\u001b[37m\u001b[0m \u001b[1m0s\u001b[0m 50ms/step - categorical_accuracy: 1.0000 - loss: 2.0045e-05 - val_categorical_accuracy: 1.0000 - val_loss: 1.5810e-05\n",
      "Epoch 196/500\n",
      "\u001b[1m8/8\u001b[0m \u001b[32m━━━━━━━━━━━━━━━━━━━━\u001b[0m\u001b[37m\u001b[0m \u001b[1m0s\u001b[0m 50ms/step - categorical_accuracy: 1.0000 - loss: 1.9667e-05 - val_categorical_accuracy: 1.0000 - val_loss: 1.5534e-05\n",
      "Epoch 197/500\n",
      "\u001b[1m8/8\u001b[0m \u001b[32m━━━━━━━━━━━━━━━━━━━━\u001b[0m\u001b[37m\u001b[0m \u001b[1m0s\u001b[0m 53ms/step - categorical_accuracy: 1.0000 - loss: 1.9296e-05 - val_categorical_accuracy: 1.0000 - val_loss: 1.5265e-05\n",
      "Epoch 198/500\n",
      "\u001b[1m8/8\u001b[0m \u001b[32m━━━━━━━━━━━━━━━━━━━━\u001b[0m\u001b[37m\u001b[0m \u001b[1m0s\u001b[0m 59ms/step - categorical_accuracy: 1.0000 - loss: 1.8938e-05 - val_categorical_accuracy: 1.0000 - val_loss: 1.5008e-05\n",
      "Epoch 199/500\n",
      "\u001b[1m8/8\u001b[0m \u001b[32m━━━━━━━━━━━━━━━━━━━━\u001b[0m\u001b[37m\u001b[0m \u001b[1m0s\u001b[0m 55ms/step - categorical_accuracy: 1.0000 - loss: 1.8587e-05 - val_categorical_accuracy: 1.0000 - val_loss: 1.4759e-05\n",
      "Epoch 200/500\n",
      "\u001b[1m8/8\u001b[0m \u001b[32m━━━━━━━━━━━━━━━━━━━━\u001b[0m\u001b[37m\u001b[0m \u001b[1m0s\u001b[0m 52ms/step - categorical_accuracy: 1.0000 - loss: 1.8245e-05 - val_categorical_accuracy: 1.0000 - val_loss: 1.4514e-05\n",
      "Epoch 201/500\n",
      "\u001b[1m8/8\u001b[0m \u001b[32m━━━━━━━━━━━━━━━━━━━━\u001b[0m\u001b[37m\u001b[0m \u001b[1m0s\u001b[0m 52ms/step - categorical_accuracy: 1.0000 - loss: 1.7915e-05 - val_categorical_accuracy: 1.0000 - val_loss: 1.4272e-05\n",
      "Epoch 202/500\n",
      "\u001b[1m8/8\u001b[0m \u001b[32m━━━━━━━━━━━━━━━━━━━━\u001b[0m\u001b[37m\u001b[0m \u001b[1m1s\u001b[0m 61ms/step - categorical_accuracy: 1.0000 - loss: 1.7590e-05 - val_categorical_accuracy: 1.0000 - val_loss: 1.4037e-05\n",
      "Epoch 203/500\n",
      "\u001b[1m8/8\u001b[0m \u001b[32m━━━━━━━━━━━━━━━━━━━━\u001b[0m\u001b[37m\u001b[0m \u001b[1m0s\u001b[0m 53ms/step - categorical_accuracy: 1.0000 - loss: 1.7273e-05 - val_categorical_accuracy: 1.0000 - val_loss: 1.3805e-05\n",
      "Epoch 204/500\n",
      "\u001b[1m8/8\u001b[0m \u001b[32m━━━━━━━━━━━━━━━━━━━━\u001b[0m\u001b[37m\u001b[0m \u001b[1m1s\u001b[0m 63ms/step - categorical_accuracy: 1.0000 - loss: 1.6966e-05 - val_categorical_accuracy: 1.0000 - val_loss: 1.3584e-05\n",
      "Epoch 205/500\n",
      "\u001b[1m8/8\u001b[0m \u001b[32m━━━━━━━━━━━━━━━━━━━━\u001b[0m\u001b[37m\u001b[0m \u001b[1m0s\u001b[0m 51ms/step - categorical_accuracy: 1.0000 - loss: 1.6662e-05 - val_categorical_accuracy: 1.0000 - val_loss: 1.3373e-05\n",
      "Epoch 206/500\n",
      "\u001b[1m8/8\u001b[0m \u001b[32m━━━━━━━━━━━━━━━━━━━━\u001b[0m\u001b[37m\u001b[0m \u001b[1m0s\u001b[0m 51ms/step - categorical_accuracy: 1.0000 - loss: 1.6370e-05 - val_categorical_accuracy: 1.0000 - val_loss: 1.3159e-05\n",
      "Epoch 207/500\n",
      "\u001b[1m8/8\u001b[0m \u001b[32m━━━━━━━━━━━━━━━━━━━━\u001b[0m\u001b[37m\u001b[0m \u001b[1m0s\u001b[0m 55ms/step - categorical_accuracy: 1.0000 - loss: 1.6088e-05 - val_categorical_accuracy: 1.0000 - val_loss: 1.2956e-05\n",
      "Epoch 208/500\n",
      "\u001b[1m8/8\u001b[0m \u001b[32m━━━━━━━━━━━━━━━━━━━━\u001b[0m\u001b[37m\u001b[0m \u001b[1m0s\u001b[0m 56ms/step - categorical_accuracy: 1.0000 - loss: 1.5814e-05 - val_categorical_accuracy: 1.0000 - val_loss: 1.2749e-05\n",
      "Epoch 209/500\n",
      "\u001b[1m8/8\u001b[0m \u001b[32m━━━━━━━━━━━━━━━━━━━━\u001b[0m\u001b[37m\u001b[0m \u001b[1m0s\u001b[0m 50ms/step - categorical_accuracy: 1.0000 - loss: 1.5545e-05 - val_categorical_accuracy: 1.0000 - val_loss: 1.2557e-05\n",
      "Epoch 210/500\n",
      "\u001b[1m8/8\u001b[0m \u001b[32m━━━━━━━━━━━━━━━━━━━━\u001b[0m\u001b[37m\u001b[0m \u001b[1m0s\u001b[0m 51ms/step - categorical_accuracy: 1.0000 - loss: 1.5281e-05 - val_categorical_accuracy: 1.0000 - val_loss: 1.2363e-05\n",
      "Epoch 211/500\n",
      "\u001b[1m8/8\u001b[0m \u001b[32m━━━━━━━━━━━━━━━━━━━━\u001b[0m\u001b[37m\u001b[0m \u001b[1m0s\u001b[0m 54ms/step - categorical_accuracy: 1.0000 - loss: 1.5024e-05 - val_categorical_accuracy: 1.0000 - val_loss: 1.2172e-05\n",
      "Epoch 212/500\n",
      "\u001b[1m8/8\u001b[0m \u001b[32m━━━━━━━━━━━━━━━━━━━━\u001b[0m\u001b[37m\u001b[0m \u001b[1m0s\u001b[0m 53ms/step - categorical_accuracy: 1.0000 - loss: 1.4781e-05 - val_categorical_accuracy: 1.0000 - val_loss: 1.1991e-05\n",
      "Epoch 213/500\n",
      "\u001b[1m8/8\u001b[0m \u001b[32m━━━━━━━━━━━━━━━━━━━━\u001b[0m\u001b[37m\u001b[0m \u001b[1m0s\u001b[0m 51ms/step - categorical_accuracy: 1.0000 - loss: 1.4535e-05 - val_categorical_accuracy: 1.0000 - val_loss: 1.1815e-05\n",
      "Epoch 214/500\n",
      "\u001b[1m8/8\u001b[0m \u001b[32m━━━━━━━━━━━━━━━━━━━━\u001b[0m\u001b[37m\u001b[0m \u001b[1m0s\u001b[0m 49ms/step - categorical_accuracy: 1.0000 - loss: 1.4297e-05 - val_categorical_accuracy: 1.0000 - val_loss: 1.1641e-05\n",
      "Epoch 215/500\n",
      "\u001b[1m8/8\u001b[0m \u001b[32m━━━━━━━━━━━━━━━━━━━━\u001b[0m\u001b[37m\u001b[0m \u001b[1m0s\u001b[0m 49ms/step - categorical_accuracy: 1.0000 - loss: 1.4064e-05 - val_categorical_accuracy: 1.0000 - val_loss: 1.1468e-05\n",
      "Epoch 216/500\n",
      "\u001b[1m8/8\u001b[0m \u001b[32m━━━━━━━━━━━━━━━━━━━━\u001b[0m\u001b[37m\u001b[0m \u001b[1m0s\u001b[0m 53ms/step - categorical_accuracy: 1.0000 - loss: 1.3839e-05 - val_categorical_accuracy: 1.0000 - val_loss: 1.1309e-05\n",
      "Epoch 217/500\n",
      "\u001b[1m8/8\u001b[0m \u001b[32m━━━━━━━━━━━━━━━━━━━━\u001b[0m\u001b[37m\u001b[0m \u001b[1m0s\u001b[0m 55ms/step - categorical_accuracy: 1.0000 - loss: 1.3613e-05 - val_categorical_accuracy: 1.0000 - val_loss: 1.1150e-05\n",
      "Epoch 218/500\n",
      "\u001b[1m8/8\u001b[0m \u001b[32m━━━━━━━━━━━━━━━━━━━━\u001b[0m\u001b[37m\u001b[0m \u001b[1m0s\u001b[0m 50ms/step - categorical_accuracy: 1.0000 - loss: 1.3398e-05 - val_categorical_accuracy: 1.0000 - val_loss: 1.0991e-05\n",
      "Epoch 219/500\n",
      "\u001b[1m8/8\u001b[0m \u001b[32m━━━━━━━━━━━━━━━━━━━━\u001b[0m\u001b[37m\u001b[0m \u001b[1m0s\u001b[0m 50ms/step - categorical_accuracy: 1.0000 - loss: 1.3185e-05 - val_categorical_accuracy: 1.0000 - val_loss: 1.0834e-05\n",
      "Epoch 220/500\n",
      "\u001b[1m8/8\u001b[0m \u001b[32m━━━━━━━━━━━━━━━━━━━━\u001b[0m\u001b[37m\u001b[0m \u001b[1m0s\u001b[0m 51ms/step - categorical_accuracy: 1.0000 - loss: 1.2976e-05 - val_categorical_accuracy: 1.0000 - val_loss: 1.0688e-05\n",
      "Epoch 221/500\n",
      "\u001b[1m8/8\u001b[0m \u001b[32m━━━━━━━━━━━━━━━━━━━━\u001b[0m\u001b[37m\u001b[0m \u001b[1m0s\u001b[0m 51ms/step - categorical_accuracy: 1.0000 - loss: 1.2775e-05 - val_categorical_accuracy: 1.0000 - val_loss: 1.0539e-05\n",
      "Epoch 222/500\n",
      "\u001b[1m8/8\u001b[0m \u001b[32m━━━━━━━━━━━━━━━━━━━━\u001b[0m\u001b[37m\u001b[0m \u001b[1m0s\u001b[0m 51ms/step - categorical_accuracy: 1.0000 - loss: 1.2577e-05 - val_categorical_accuracy: 1.0000 - val_loss: 1.0399e-05\n",
      "Epoch 223/500\n",
      "\u001b[1m8/8\u001b[0m \u001b[32m━━━━━━━━━━━━━━━━━━━━\u001b[0m\u001b[37m\u001b[0m \u001b[1m0s\u001b[0m 52ms/step - categorical_accuracy: 1.0000 - loss: 1.2385e-05 - val_categorical_accuracy: 1.0000 - val_loss: 1.0259e-05\n",
      "Epoch 224/500\n",
      "\u001b[1m8/8\u001b[0m \u001b[32m━━━━━━━━━━━━━━━━━━━━\u001b[0m\u001b[37m\u001b[0m \u001b[1m0s\u001b[0m 52ms/step - categorical_accuracy: 1.0000 - loss: 1.2195e-05 - val_categorical_accuracy: 1.0000 - val_loss: 1.0123e-05\n",
      "Epoch 225/500\n",
      "\u001b[1m8/8\u001b[0m \u001b[32m━━━━━━━━━━━━━━━━━━━━\u001b[0m\u001b[37m\u001b[0m \u001b[1m0s\u001b[0m 51ms/step - categorical_accuracy: 1.0000 - loss: 1.2009e-05 - val_categorical_accuracy: 1.0000 - val_loss: 9.9895e-06\n",
      "Epoch 226/500\n",
      "\u001b[1m8/8\u001b[0m \u001b[32m━━━━━━━━━━━━━━━━━━━━\u001b[0m\u001b[37m\u001b[0m \u001b[1m0s\u001b[0m 54ms/step - categorical_accuracy: 1.0000 - loss: 1.1830e-05 - val_categorical_accuracy: 1.0000 - val_loss: 9.8578e-06\n",
      "Epoch 227/500\n",
      "\u001b[1m8/8\u001b[0m \u001b[32m━━━━━━━━━━━━━━━━━━━━\u001b[0m\u001b[37m\u001b[0m \u001b[1m0s\u001b[0m 50ms/step - categorical_accuracy: 1.0000 - loss: 1.1651e-05 - val_categorical_accuracy: 1.0000 - val_loss: 9.7303e-06\n",
      "Epoch 228/500\n",
      "\u001b[1m8/8\u001b[0m \u001b[32m━━━━━━━━━━━━━━━━━━━━\u001b[0m\u001b[37m\u001b[0m \u001b[1m0s\u001b[0m 52ms/step - categorical_accuracy: 1.0000 - loss: 1.1476e-05 - val_categorical_accuracy: 1.0000 - val_loss: 9.5985e-06\n",
      "Epoch 229/500\n",
      "\u001b[1m8/8\u001b[0m \u001b[32m━━━━━━━━━━━━━━━━━━━━\u001b[0m\u001b[37m\u001b[0m \u001b[1m0s\u001b[0m 52ms/step - categorical_accuracy: 1.0000 - loss: 1.1306e-05 - val_categorical_accuracy: 1.0000 - val_loss: 9.4793e-06\n",
      "Epoch 230/500\n",
      "\u001b[1m8/8\u001b[0m \u001b[32m━━━━━━━━━━━━━━━━━━━━\u001b[0m\u001b[37m\u001b[0m \u001b[1m0s\u001b[0m 52ms/step - categorical_accuracy: 1.0000 - loss: 1.1140e-05 - val_categorical_accuracy: 1.0000 - val_loss: 9.3581e-06\n",
      "Epoch 231/500\n",
      "\u001b[1m8/8\u001b[0m \u001b[32m━━━━━━━━━━━━━━━━━━━━\u001b[0m\u001b[37m\u001b[0m \u001b[1m0s\u001b[0m 50ms/step - categorical_accuracy: 1.0000 - loss: 1.0975e-05 - val_categorical_accuracy: 1.0000 - val_loss: 9.2368e-06\n",
      "Epoch 232/500\n",
      "\u001b[1m8/8\u001b[0m \u001b[32m━━━━━━━━━━━━━━━━━━━━\u001b[0m\u001b[37m\u001b[0m \u001b[1m0s\u001b[0m 51ms/step - categorical_accuracy: 1.0000 - loss: 1.0816e-05 - val_categorical_accuracy: 1.0000 - val_loss: 9.1155e-06\n",
      "Epoch 233/500\n",
      "\u001b[1m8/8\u001b[0m \u001b[32m━━━━━━━━━━━━━━━━━━━━\u001b[0m\u001b[37m\u001b[0m \u001b[1m0s\u001b[0m 50ms/step - categorical_accuracy: 1.0000 - loss: 1.0658e-05 - val_categorical_accuracy: 1.0000 - val_loss: 9.0026e-06\n",
      "Epoch 234/500\n",
      "\u001b[1m8/8\u001b[0m \u001b[32m━━━━━━━━━━━━━━━━━━━━\u001b[0m\u001b[37m\u001b[0m \u001b[1m0s\u001b[0m 54ms/step - categorical_accuracy: 1.0000 - loss: 1.0506e-05 - val_categorical_accuracy: 1.0000 - val_loss: 8.8897e-06\n",
      "Epoch 235/500\n",
      "\u001b[1m8/8\u001b[0m \u001b[32m━━━━━━━━━━━━━━━━━━━━\u001b[0m\u001b[37m\u001b[0m \u001b[1m0s\u001b[0m 51ms/step - categorical_accuracy: 1.0000 - loss: 1.0353e-05 - val_categorical_accuracy: 1.0000 - val_loss: 8.7830e-06\n",
      "Epoch 236/500\n",
      "\u001b[1m8/8\u001b[0m \u001b[32m━━━━━━━━━━━━━━━━━━━━\u001b[0m\u001b[37m\u001b[0m \u001b[1m0s\u001b[0m 50ms/step - categorical_accuracy: 1.0000 - loss: 1.0207e-05 - val_categorical_accuracy: 1.0000 - val_loss: 8.6743e-06\n",
      "Epoch 237/500\n",
      "\u001b[1m8/8\u001b[0m \u001b[32m━━━━━━━━━━━━━━━━━━━━\u001b[0m\u001b[37m\u001b[0m \u001b[1m0s\u001b[0m 49ms/step - categorical_accuracy: 1.0000 - loss: 1.0064e-05 - val_categorical_accuracy: 1.0000 - val_loss: 8.5698e-06\n",
      "Epoch 238/500\n",
      "\u001b[1m8/8\u001b[0m \u001b[32m━━━━━━━━━━━━━━━━━━━━\u001b[0m\u001b[37m\u001b[0m \u001b[1m0s\u001b[0m 49ms/step - categorical_accuracy: 1.0000 - loss: 9.9225e-06 - val_categorical_accuracy: 1.0000 - val_loss: 8.4673e-06\n",
      "Epoch 239/500\n",
      "\u001b[1m8/8\u001b[0m \u001b[32m━━━━━━━━━━━━━━━━━━━━\u001b[0m\u001b[37m\u001b[0m \u001b[1m0s\u001b[0m 51ms/step - categorical_accuracy: 1.0000 - loss: 9.7886e-06 - val_categorical_accuracy: 1.0000 - val_loss: 8.3648e-06\n",
      "Epoch 240/500\n",
      "\u001b[1m8/8\u001b[0m \u001b[32m━━━━━━━━━━━━━━━━━━━━\u001b[0m\u001b[37m\u001b[0m \u001b[1m0s\u001b[0m 55ms/step - categorical_accuracy: 1.0000 - loss: 9.6498e-06 - val_categorical_accuracy: 1.0000 - val_loss: 8.2624e-06\n",
      "Epoch 241/500\n",
      "\u001b[1m8/8\u001b[0m \u001b[32m━━━━━━━━━━━━━━━━━━━━\u001b[0m\u001b[37m\u001b[0m \u001b[1m0s\u001b[0m 48ms/step - categorical_accuracy: 1.0000 - loss: 9.5182e-06 - val_categorical_accuracy: 1.0000 - val_loss: 8.1662e-06\n",
      "Epoch 242/500\n",
      "\u001b[1m8/8\u001b[0m \u001b[32m━━━━━━━━━━━━━━━━━━━━\u001b[0m\u001b[37m\u001b[0m \u001b[1m0s\u001b[0m 52ms/step - categorical_accuracy: 1.0000 - loss: 9.3885e-06 - val_categorical_accuracy: 1.0000 - val_loss: 8.0637e-06\n",
      "Epoch 243/500\n",
      "\u001b[1m8/8\u001b[0m \u001b[32m━━━━━━━━━━━━━━━━━━━━\u001b[0m\u001b[37m\u001b[0m \u001b[1m0s\u001b[0m 52ms/step - categorical_accuracy: 1.0000 - loss: 9.2603e-06 - val_categorical_accuracy: 1.0000 - val_loss: 7.9696e-06\n",
      "Epoch 244/500\n",
      "\u001b[1m8/8\u001b[0m \u001b[32m━━━━━━━━━━━━━━━━━━━━\u001b[0m\u001b[37m\u001b[0m \u001b[1m0s\u001b[0m 53ms/step - categorical_accuracy: 1.0000 - loss: 9.1353e-06 - val_categorical_accuracy: 1.0000 - val_loss: 7.8776e-06\n",
      "Epoch 245/500\n",
      "\u001b[1m8/8\u001b[0m \u001b[32m━━━━━━━━━━━━━━━━━━━━\u001b[0m\u001b[37m\u001b[0m \u001b[1m0s\u001b[0m 51ms/step - categorical_accuracy: 1.0000 - loss: 9.0082e-06 - val_categorical_accuracy: 1.0000 - val_loss: 7.7794e-06\n",
      "Epoch 246/500\n",
      "\u001b[1m8/8\u001b[0m \u001b[32m━━━━━━━━━━━━━━━━━━━━\u001b[0m\u001b[37m\u001b[0m \u001b[1m0s\u001b[0m 51ms/step - categorical_accuracy: 1.0000 - loss: 8.8912e-06 - val_categorical_accuracy: 1.0000 - val_loss: 7.6853e-06\n",
      "Epoch 247/500\n",
      "\u001b[1m8/8\u001b[0m \u001b[32m━━━━━━━━━━━━━━━━━━━━\u001b[0m\u001b[37m\u001b[0m \u001b[1m0s\u001b[0m 51ms/step - categorical_accuracy: 1.0000 - loss: 8.7718e-06 - val_categorical_accuracy: 1.0000 - val_loss: 7.5932e-06\n",
      "Epoch 248/500\n",
      "\u001b[1m8/8\u001b[0m \u001b[32m━━━━━━━━━━━━━━━━━━━━\u001b[0m\u001b[37m\u001b[0m \u001b[1m0s\u001b[0m 54ms/step - categorical_accuracy: 1.0000 - loss: 8.6548e-06 - val_categorical_accuracy: 1.0000 - val_loss: 7.5012e-06\n",
      "Epoch 249/500\n",
      "\u001b[1m8/8\u001b[0m \u001b[32m━━━━━━━━━━━━━━━━━━━━\u001b[0m\u001b[37m\u001b[0m \u001b[1m0s\u001b[0m 52ms/step - categorical_accuracy: 1.0000 - loss: 8.5432e-06 - val_categorical_accuracy: 1.0000 - val_loss: 7.4176e-06\n",
      "Epoch 250/500\n",
      "\u001b[1m8/8\u001b[0m \u001b[32m━━━━━━━━━━━━━━━━━━━━\u001b[0m\u001b[37m\u001b[0m \u001b[1m0s\u001b[0m 51ms/step - categorical_accuracy: 1.0000 - loss: 8.4312e-06 - val_categorical_accuracy: 1.0000 - val_loss: 7.3360e-06\n",
      "Epoch 251/500\n",
      "\u001b[1m8/8\u001b[0m \u001b[32m━━━━━━━━━━━━━━━━━━━━\u001b[0m\u001b[37m\u001b[0m \u001b[1m0s\u001b[0m 52ms/step - categorical_accuracy: 1.0000 - loss: 8.3208e-06 - val_categorical_accuracy: 1.0000 - val_loss: 7.2524e-06\n",
      "Epoch 252/500\n",
      "\u001b[1m8/8\u001b[0m \u001b[32m━━━━━━━━━━━━━━━━━━━━\u001b[0m\u001b[37m\u001b[0m \u001b[1m0s\u001b[0m 53ms/step - categorical_accuracy: 1.0000 - loss: 8.2101e-06 - val_categorical_accuracy: 1.0000 - val_loss: 7.1688e-06\n",
      "Epoch 253/500\n",
      "\u001b[1m8/8\u001b[0m \u001b[32m━━━━━━━━━━━━━━━━━━━━\u001b[0m\u001b[37m\u001b[0m \u001b[1m0s\u001b[0m 51ms/step - categorical_accuracy: 1.0000 - loss: 8.0970e-06 - val_categorical_accuracy: 1.0000 - val_loss: 7.0914e-06\n",
      "Epoch 254/500\n",
      "\u001b[1m8/8\u001b[0m \u001b[32m━━━━━━━━━━━━━━━━━━━━\u001b[0m\u001b[37m\u001b[0m \u001b[1m0s\u001b[0m 55ms/step - categorical_accuracy: 1.0000 - loss: 7.9915e-06 - val_categorical_accuracy: 1.0000 - val_loss: 7.0182e-06\n",
      "Epoch 255/500\n",
      "\u001b[1m8/8\u001b[0m \u001b[32m━━━━━━━━━━━━━━━━━━━━\u001b[0m\u001b[37m\u001b[0m \u001b[1m1s\u001b[0m 61ms/step - categorical_accuracy: 1.0000 - loss: 7.8881e-06 - val_categorical_accuracy: 1.0000 - val_loss: 6.9387e-06\n",
      "Epoch 256/500\n",
      "\u001b[1m8/8\u001b[0m \u001b[32m━━━━━━━━━━━━━━━━━━━━\u001b[0m\u001b[37m\u001b[0m \u001b[1m0s\u001b[0m 51ms/step - categorical_accuracy: 1.0000 - loss: 7.7837e-06 - val_categorical_accuracy: 1.0000 - val_loss: 6.8635e-06\n",
      "Epoch 257/500\n",
      "\u001b[1m8/8\u001b[0m \u001b[32m━━━━━━━━━━━━━━━━━━━━\u001b[0m\u001b[37m\u001b[0m \u001b[1m0s\u001b[0m 51ms/step - categorical_accuracy: 1.0000 - loss: 7.6874e-06 - val_categorical_accuracy: 1.0000 - val_loss: 6.7861e-06\n",
      "Epoch 258/500\n",
      "\u001b[1m8/8\u001b[0m \u001b[32m━━━━━━━━━━━━━━━━━━━━\u001b[0m\u001b[37m\u001b[0m \u001b[1m0s\u001b[0m 52ms/step - categorical_accuracy: 1.0000 - loss: 7.5862e-06 - val_categorical_accuracy: 1.0000 - val_loss: 6.7087e-06\n",
      "Epoch 259/500\n",
      "\u001b[1m8/8\u001b[0m \u001b[32m━━━━━━━━━━━━━━━━━━━━\u001b[0m\u001b[37m\u001b[0m \u001b[1m0s\u001b[0m 50ms/step - categorical_accuracy: 1.0000 - loss: 7.4905e-06 - val_categorical_accuracy: 1.0000 - val_loss: 6.6397e-06\n",
      "Epoch 260/500\n",
      "\u001b[1m8/8\u001b[0m \u001b[32m━━━━━━━━━━━━━━━━━━━━\u001b[0m\u001b[37m\u001b[0m \u001b[1m0s\u001b[0m 54ms/step - categorical_accuracy: 1.0000 - loss: 7.3963e-06 - val_categorical_accuracy: 1.0000 - val_loss: 6.5665e-06\n",
      "Epoch 261/500\n",
      "\u001b[1m8/8\u001b[0m \u001b[32m━━━━━━━━━━━━━━━━━━━━\u001b[0m\u001b[37m\u001b[0m \u001b[1m0s\u001b[0m 52ms/step - categorical_accuracy: 1.0000 - loss: 7.3027e-06 - val_categorical_accuracy: 1.0000 - val_loss: 6.4933e-06\n",
      "Epoch 262/500\n",
      "\u001b[1m8/8\u001b[0m \u001b[32m━━━━━━━━━━━━━━━━━━━━\u001b[0m\u001b[37m\u001b[0m \u001b[1m0s\u001b[0m 52ms/step - categorical_accuracy: 1.0000 - loss: 7.2136e-06 - val_categorical_accuracy: 1.0000 - val_loss: 6.4243e-06\n",
      "Epoch 263/500\n",
      "\u001b[1m8/8\u001b[0m \u001b[32m━━━━━━━━━━━━━━━━━━━━\u001b[0m\u001b[37m\u001b[0m \u001b[1m0s\u001b[0m 52ms/step - categorical_accuracy: 1.0000 - loss: 7.1271e-06 - val_categorical_accuracy: 1.0000 - val_loss: 6.3616e-06\n",
      "Epoch 264/500\n",
      "\u001b[1m8/8\u001b[0m \u001b[32m━━━━━━━━━━━━━━━━━━━━\u001b[0m\u001b[37m\u001b[0m \u001b[1m0s\u001b[0m 55ms/step - categorical_accuracy: 1.0000 - loss: 7.0345e-06 - val_categorical_accuracy: 1.0000 - val_loss: 6.2863e-06\n",
      "Epoch 265/500\n",
      "\u001b[1m8/8\u001b[0m \u001b[32m━━━━━━━━━━━━━━━━━━━━\u001b[0m\u001b[37m\u001b[0m \u001b[1m0s\u001b[0m 55ms/step - categorical_accuracy: 1.0000 - loss: 6.9498e-06 - val_categorical_accuracy: 1.0000 - val_loss: 6.2257e-06\n",
      "Epoch 266/500\n",
      "\u001b[1m8/8\u001b[0m \u001b[32m━━━━━━━━━━━━━━━━━━━━\u001b[0m\u001b[37m\u001b[0m \u001b[1m1s\u001b[0m 61ms/step - categorical_accuracy: 1.0000 - loss: 6.8659e-06 - val_categorical_accuracy: 1.0000 - val_loss: 6.1629e-06\n",
      "Epoch 267/500\n",
      "\u001b[1m8/8\u001b[0m \u001b[32m━━━━━━━━━━━━━━━━━━━━\u001b[0m\u001b[37m\u001b[0m \u001b[1m0s\u001b[0m 55ms/step - categorical_accuracy: 1.0000 - loss: 6.7843e-06 - val_categorical_accuracy: 1.0000 - val_loss: 6.0918e-06\n",
      "Epoch 268/500\n",
      "\u001b[1m8/8\u001b[0m \u001b[32m━━━━━━━━━━━━━━━━━━━━\u001b[0m\u001b[37m\u001b[0m \u001b[1m0s\u001b[0m 53ms/step - categorical_accuracy: 1.0000 - loss: 6.7021e-06 - val_categorical_accuracy: 1.0000 - val_loss: 6.0291e-06\n",
      "Epoch 269/500\n",
      "\u001b[1m8/8\u001b[0m \u001b[32m━━━━━━━━━━━━━━━━━━━━\u001b[0m\u001b[37m\u001b[0m \u001b[1m0s\u001b[0m 53ms/step - categorical_accuracy: 1.0000 - loss: 6.6206e-06 - val_categorical_accuracy: 1.0000 - val_loss: 5.9664e-06\n",
      "Epoch 270/500\n",
      "\u001b[1m8/8\u001b[0m \u001b[32m━━━━━━━━━━━━━━━━━━━━\u001b[0m\u001b[37m\u001b[0m \u001b[1m0s\u001b[0m 53ms/step - categorical_accuracy: 1.0000 - loss: 6.5400e-06 - val_categorical_accuracy: 1.0000 - val_loss: 5.9057e-06\n",
      "Epoch 271/500\n",
      "\u001b[1m8/8\u001b[0m \u001b[32m━━━━━━━━━━━━━━━━━━━━\u001b[0m\u001b[37m\u001b[0m \u001b[1m0s\u001b[0m 57ms/step - categorical_accuracy: 1.0000 - loss: 6.4612e-06 - val_categorical_accuracy: 1.0000 - val_loss: 5.8451e-06\n",
      "Epoch 272/500\n",
      "\u001b[1m8/8\u001b[0m \u001b[32m━━━━━━━━━━━━━━━━━━━━\u001b[0m\u001b[37m\u001b[0m \u001b[1m0s\u001b[0m 54ms/step - categorical_accuracy: 1.0000 - loss: 6.3835e-06 - val_categorical_accuracy: 1.0000 - val_loss: 5.7886e-06\n",
      "Epoch 273/500\n",
      "\u001b[1m8/8\u001b[0m \u001b[32m━━━━━━━━━━━━━━━━━━━━\u001b[0m\u001b[37m\u001b[0m \u001b[1m0s\u001b[0m 57ms/step - categorical_accuracy: 1.0000 - loss: 6.3108e-06 - val_categorical_accuracy: 1.0000 - val_loss: 5.7280e-06\n",
      "Epoch 274/500\n",
      "\u001b[1m8/8\u001b[0m \u001b[32m━━━━━━━━━━━━━━━━━━━━\u001b[0m\u001b[37m\u001b[0m \u001b[1m0s\u001b[0m 51ms/step - categorical_accuracy: 1.0000 - loss: 6.2346e-06 - val_categorical_accuracy: 1.0000 - val_loss: 5.6736e-06\n",
      "Epoch 275/500\n",
      "\u001b[1m8/8\u001b[0m \u001b[32m━━━━━━━━━━━━━━━━━━━━\u001b[0m\u001b[37m\u001b[0m \u001b[1m0s\u001b[0m 51ms/step - categorical_accuracy: 1.0000 - loss: 6.1627e-06 - val_categorical_accuracy: 1.0000 - val_loss: 5.6151e-06\n",
      "Epoch 276/500\n",
      "\u001b[1m8/8\u001b[0m \u001b[32m━━━━━━━━━━━━━━━━━━━━\u001b[0m\u001b[37m\u001b[0m \u001b[1m0s\u001b[0m 52ms/step - categorical_accuracy: 1.0000 - loss: 6.0897e-06 - val_categorical_accuracy: 1.0000 - val_loss: 5.5586e-06\n",
      "Epoch 277/500\n",
      "\u001b[1m8/8\u001b[0m \u001b[32m━━━━━━━━━━━━━━━━━━━━\u001b[0m\u001b[37m\u001b[0m \u001b[1m0s\u001b[0m 55ms/step - categorical_accuracy: 1.0000 - loss: 6.0184e-06 - val_categorical_accuracy: 1.0000 - val_loss: 5.5063e-06\n",
      "Epoch 278/500\n",
      "\u001b[1m8/8\u001b[0m \u001b[32m━━━━━━━━━━━━━━━━━━━━\u001b[0m\u001b[37m\u001b[0m \u001b[1m0s\u001b[0m 50ms/step - categorical_accuracy: 1.0000 - loss: 5.9509e-06 - val_categorical_accuracy: 1.0000 - val_loss: 5.4540e-06\n",
      "Epoch 279/500\n",
      "\u001b[1m8/8\u001b[0m \u001b[32m━━━━━━━━━━━━━━━━━━━━\u001b[0m\u001b[37m\u001b[0m \u001b[1m0s\u001b[0m 54ms/step - categorical_accuracy: 1.0000 - loss: 5.8808e-06 - val_categorical_accuracy: 1.0000 - val_loss: 5.3997e-06\n",
      "Epoch 280/500\n",
      "\u001b[1m8/8\u001b[0m \u001b[32m━━━━━━━━━━━━━━━━━━━━\u001b[0m\u001b[37m\u001b[0m \u001b[1m0s\u001b[0m 52ms/step - categorical_accuracy: 1.0000 - loss: 5.8132e-06 - val_categorical_accuracy: 1.0000 - val_loss: 5.3453e-06\n",
      "Epoch 281/500\n",
      "\u001b[1m8/8\u001b[0m \u001b[32m━━━━━━━━━━━━━━━━━━━━\u001b[0m\u001b[37m\u001b[0m \u001b[1m0s\u001b[0m 53ms/step - categorical_accuracy: 1.0000 - loss: 5.7469e-06 - val_categorical_accuracy: 1.0000 - val_loss: 5.2930e-06\n",
      "Epoch 282/500\n",
      "\u001b[1m8/8\u001b[0m \u001b[32m━━━━━━━━━━━━━━━━━━━━\u001b[0m\u001b[37m\u001b[0m \u001b[1m0s\u001b[0m 52ms/step - categorical_accuracy: 1.0000 - loss: 5.6827e-06 - val_categorical_accuracy: 1.0000 - val_loss: 5.2428e-06\n",
      "Epoch 283/500\n",
      "\u001b[1m8/8\u001b[0m \u001b[32m━━━━━━━━━━━━━━━━━━━━\u001b[0m\u001b[37m\u001b[0m \u001b[1m0s\u001b[0m 53ms/step - categorical_accuracy: 1.0000 - loss: 5.6196e-06 - val_categorical_accuracy: 1.0000 - val_loss: 5.1906e-06\n",
      "Epoch 284/500\n",
      "\u001b[1m8/8\u001b[0m \u001b[32m━━━━━━━━━━━━━━━━━━━━\u001b[0m\u001b[37m\u001b[0m \u001b[1m0s\u001b[0m 52ms/step - categorical_accuracy: 1.0000 - loss: 5.5543e-06 - val_categorical_accuracy: 1.0000 - val_loss: 5.1425e-06\n",
      "Epoch 285/500\n",
      "\u001b[1m8/8\u001b[0m \u001b[32m━━━━━━━━━━━━━━━━━━━━\u001b[0m\u001b[37m\u001b[0m \u001b[1m0s\u001b[0m 56ms/step - categorical_accuracy: 1.0000 - loss: 5.4947e-06 - val_categorical_accuracy: 1.0000 - val_loss: 5.0944e-06\n",
      "Epoch 286/500\n",
      "\u001b[1m8/8\u001b[0m \u001b[32m━━━━━━━━━━━━━━━━━━━━\u001b[0m\u001b[37m\u001b[0m \u001b[1m0s\u001b[0m 52ms/step - categorical_accuracy: 1.0000 - loss: 5.4308e-06 - val_categorical_accuracy: 1.0000 - val_loss: 5.0442e-06\n",
      "Epoch 287/500\n",
      "\u001b[1m8/8\u001b[0m \u001b[32m━━━━━━━━━━━━━━━━━━━━\u001b[0m\u001b[37m\u001b[0m \u001b[1m0s\u001b[0m 50ms/step - categorical_accuracy: 1.0000 - loss: 5.3710e-06 - val_categorical_accuracy: 1.0000 - val_loss: 4.9982e-06\n",
      "Epoch 288/500\n",
      "\u001b[1m8/8\u001b[0m \u001b[32m━━━━━━━━━━━━━━━━━━━━\u001b[0m\u001b[37m\u001b[0m \u001b[1m0s\u001b[0m 50ms/step - categorical_accuracy: 1.0000 - loss: 5.3102e-06 - val_categorical_accuracy: 1.0000 - val_loss: 4.9543e-06\n",
      "Epoch 289/500\n",
      "\u001b[1m8/8\u001b[0m \u001b[32m━━━━━━━━━━━━━━━━━━━━\u001b[0m\u001b[37m\u001b[0m \u001b[1m0s\u001b[0m 54ms/step - categorical_accuracy: 1.0000 - loss: 5.2517e-06 - val_categorical_accuracy: 1.0000 - val_loss: 4.9062e-06\n",
      "Epoch 290/500\n",
      "\u001b[1m8/8\u001b[0m \u001b[32m━━━━━━━━━━━━━━━━━━━━\u001b[0m\u001b[37m\u001b[0m \u001b[1m0s\u001b[0m 56ms/step - categorical_accuracy: 1.0000 - loss: 5.1929e-06 - val_categorical_accuracy: 1.0000 - val_loss: 4.8622e-06\n",
      "Epoch 291/500\n",
      "\u001b[1m8/8\u001b[0m \u001b[32m━━━━━━━━━━━━━━━━━━━━\u001b[0m\u001b[37m\u001b[0m \u001b[1m0s\u001b[0m 53ms/step - categorical_accuracy: 1.0000 - loss: 5.1348e-06 - val_categorical_accuracy: 1.0000 - val_loss: 4.8162e-06\n",
      "Epoch 292/500\n",
      "\u001b[1m8/8\u001b[0m \u001b[32m━━━━━━━━━━━━━━━━━━━━\u001b[0m\u001b[37m\u001b[0m \u001b[1m0s\u001b[0m 53ms/step - categorical_accuracy: 1.0000 - loss: 5.0782e-06 - val_categorical_accuracy: 1.0000 - val_loss: 4.7723e-06\n",
      "Epoch 293/500\n",
      "\u001b[1m8/8\u001b[0m \u001b[32m━━━━━━━━━━━━━━━━━━━━\u001b[0m\u001b[37m\u001b[0m \u001b[1m0s\u001b[0m 51ms/step - categorical_accuracy: 1.0000 - loss: 5.0185e-06 - val_categorical_accuracy: 1.0000 - val_loss: 4.7263e-06\n",
      "Epoch 294/500\n",
      "\u001b[1m8/8\u001b[0m \u001b[32m━━━━━━━━━━━━━━━━━━━━\u001b[0m\u001b[37m\u001b[0m \u001b[1m0s\u001b[0m 55ms/step - categorical_accuracy: 1.0000 - loss: 4.9637e-06 - val_categorical_accuracy: 1.0000 - val_loss: 4.6845e-06\n",
      "Epoch 295/500\n",
      "\u001b[1m8/8\u001b[0m \u001b[32m━━━━━━━━━━━━━━━━━━━━\u001b[0m\u001b[37m\u001b[0m \u001b[1m0s\u001b[0m 51ms/step - categorical_accuracy: 1.0000 - loss: 4.9082e-06 - val_categorical_accuracy: 1.0000 - val_loss: 4.6448e-06\n",
      "Epoch 296/500\n",
      "\u001b[1m8/8\u001b[0m \u001b[32m━━━━━━━━━━━━━━━━━━━━\u001b[0m\u001b[37m\u001b[0m \u001b[1m0s\u001b[0m 50ms/step - categorical_accuracy: 1.0000 - loss: 4.8520e-06 - val_categorical_accuracy: 1.0000 - val_loss: 4.6029e-06\n",
      "Epoch 297/500\n",
      "\u001b[1m8/8\u001b[0m \u001b[32m━━━━━━━━━━━━━━━━━━━━\u001b[0m\u001b[37m\u001b[0m \u001b[1m0s\u001b[0m 51ms/step - categorical_accuracy: 1.0000 - loss: 4.7998e-06 - val_categorical_accuracy: 1.0000 - val_loss: 4.5590e-06\n",
      "Epoch 298/500\n",
      "\u001b[1m8/8\u001b[0m \u001b[32m━━━━━━━━━━━━━━━━━━━━\u001b[0m\u001b[37m\u001b[0m \u001b[1m0s\u001b[0m 52ms/step - categorical_accuracy: 1.0000 - loss: 4.7467e-06 - val_categorical_accuracy: 1.0000 - val_loss: 4.5172e-06\n",
      "Epoch 299/500\n",
      "\u001b[1m8/8\u001b[0m \u001b[32m━━━━━━━━━━━━━━━━━━━━\u001b[0m\u001b[37m\u001b[0m \u001b[1m0s\u001b[0m 51ms/step - categorical_accuracy: 1.0000 - loss: 4.6965e-06 - val_categorical_accuracy: 1.0000 - val_loss: 4.4796e-06\n",
      "Epoch 300/500\n",
      "\u001b[1m8/8\u001b[0m \u001b[32m━━━━━━━━━━━━━━━━━━━━\u001b[0m\u001b[37m\u001b[0m \u001b[1m0s\u001b[0m 54ms/step - categorical_accuracy: 1.0000 - loss: 4.6412e-06 - val_categorical_accuracy: 1.0000 - val_loss: 4.4356e-06\n",
      "Epoch 301/500\n",
      "\u001b[1m8/8\u001b[0m \u001b[32m━━━━━━━━━━━━━━━━━━━━\u001b[0m\u001b[37m\u001b[0m \u001b[1m0s\u001b[0m 51ms/step - categorical_accuracy: 1.0000 - loss: 4.5920e-06 - val_categorical_accuracy: 1.0000 - val_loss: 4.3980e-06\n",
      "Epoch 302/500\n",
      "\u001b[1m8/8\u001b[0m \u001b[32m━━━━━━━━━━━━━━━━━━━━\u001b[0m\u001b[37m\u001b[0m \u001b[1m0s\u001b[0m 50ms/step - categorical_accuracy: 1.0000 - loss: 4.5430e-06 - val_categorical_accuracy: 1.0000 - val_loss: 4.3562e-06\n",
      "Epoch 303/500\n",
      "\u001b[1m8/8\u001b[0m \u001b[32m━━━━━━━━━━━━━━━━━━━━\u001b[0m\u001b[37m\u001b[0m \u001b[1m0s\u001b[0m 50ms/step - categorical_accuracy: 1.0000 - loss: 4.4926e-06 - val_categorical_accuracy: 1.0000 - val_loss: 4.3185e-06\n",
      "Epoch 304/500\n",
      "\u001b[1m8/8\u001b[0m \u001b[32m━━━━━━━━━━━━━━━━━━━━\u001b[0m\u001b[37m\u001b[0m \u001b[1m0s\u001b[0m 50ms/step - categorical_accuracy: 1.0000 - loss: 4.4436e-06 - val_categorical_accuracy: 1.0000 - val_loss: 4.2830e-06\n",
      "Epoch 305/500\n",
      "\u001b[1m8/8\u001b[0m \u001b[32m━━━━━━━━━━━━━━━━━━━━\u001b[0m\u001b[37m\u001b[0m \u001b[1m0s\u001b[0m 51ms/step - categorical_accuracy: 1.0000 - loss: 4.3964e-06 - val_categorical_accuracy: 1.0000 - val_loss: 4.2474e-06\n",
      "Epoch 306/500\n",
      "\u001b[1m8/8\u001b[0m \u001b[32m━━━━━━━━━━━━━━━━━━━━\u001b[0m\u001b[37m\u001b[0m \u001b[1m0s\u001b[0m 51ms/step - categorical_accuracy: 1.0000 - loss: 4.3500e-06 - val_categorical_accuracy: 1.0000 - val_loss: 4.2098e-06\n",
      "Epoch 307/500\n",
      "\u001b[1m8/8\u001b[0m \u001b[32m━━━━━━━━━━━━━━━━━━━━\u001b[0m\u001b[37m\u001b[0m \u001b[1m0s\u001b[0m 49ms/step - categorical_accuracy: 1.0000 - loss: 4.3037e-06 - val_categorical_accuracy: 1.0000 - val_loss: 4.1722e-06\n",
      "Epoch 308/500\n",
      "\u001b[1m8/8\u001b[0m \u001b[32m━━━━━━━━━━━━━━━━━━━━\u001b[0m\u001b[37m\u001b[0m \u001b[1m0s\u001b[0m 51ms/step - categorical_accuracy: 1.0000 - loss: 4.2602e-06 - val_categorical_accuracy: 1.0000 - val_loss: 4.1366e-06\n",
      "Epoch 309/500\n",
      "\u001b[1m8/8\u001b[0m \u001b[32m━━━━━━━━━━━━━━━━━━━━\u001b[0m\u001b[37m\u001b[0m \u001b[1m0s\u001b[0m 53ms/step - categorical_accuracy: 1.0000 - loss: 4.2149e-06 - val_categorical_accuracy: 1.0000 - val_loss: 4.1011e-06\n",
      "Epoch 310/500\n",
      "\u001b[1m8/8\u001b[0m \u001b[32m━━━━━━━━━━━━━━━━━━━━\u001b[0m\u001b[37m\u001b[0m \u001b[1m0s\u001b[0m 51ms/step - categorical_accuracy: 1.0000 - loss: 4.1693e-06 - val_categorical_accuracy: 1.0000 - val_loss: 4.0655e-06\n",
      "Epoch 311/500\n",
      "\u001b[1m8/8\u001b[0m \u001b[32m━━━━━━━━━━━━━━━━━━━━\u001b[0m\u001b[37m\u001b[0m \u001b[1m0s\u001b[0m 55ms/step - categorical_accuracy: 1.0000 - loss: 4.1268e-06 - val_categorical_accuracy: 1.0000 - val_loss: 4.0341e-06\n",
      "Epoch 312/500\n",
      "\u001b[1m8/8\u001b[0m \u001b[32m━━━━━━━━━━━━━━━━━━━━\u001b[0m\u001b[37m\u001b[0m \u001b[1m0s\u001b[0m 51ms/step - categorical_accuracy: 1.0000 - loss: 4.0846e-06 - val_categorical_accuracy: 1.0000 - val_loss: 3.9986e-06\n",
      "Epoch 313/500\n",
      "\u001b[1m8/8\u001b[0m \u001b[32m━━━━━━━━━━━━━━━━━━━━\u001b[0m\u001b[37m\u001b[0m \u001b[1m0s\u001b[0m 54ms/step - categorical_accuracy: 1.0000 - loss: 4.0419e-06 - val_categorical_accuracy: 1.0000 - val_loss: 3.9672e-06\n",
      "Epoch 314/500\n",
      "\u001b[1m8/8\u001b[0m \u001b[32m━━━━━━━━━━━━━━━━━━━━\u001b[0m\u001b[37m\u001b[0m \u001b[1m0s\u001b[0m 52ms/step - categorical_accuracy: 1.0000 - loss: 4.0009e-06 - val_categorical_accuracy: 1.0000 - val_loss: 3.9338e-06\n",
      "Epoch 315/500\n",
      "\u001b[1m8/8\u001b[0m \u001b[32m━━━━━━━━━━━━━━━━━━━━\u001b[0m\u001b[37m\u001b[0m \u001b[1m0s\u001b[0m 51ms/step - categorical_accuracy: 1.0000 - loss: 3.9575e-06 - val_categorical_accuracy: 1.0000 - val_loss: 3.9003e-06\n",
      "Epoch 316/500\n",
      "\u001b[1m8/8\u001b[0m \u001b[32m━━━━━━━━━━━━━━━━━━━━\u001b[0m\u001b[37m\u001b[0m \u001b[1m0s\u001b[0m 51ms/step - categorical_accuracy: 1.0000 - loss: 3.9211e-06 - val_categorical_accuracy: 1.0000 - val_loss: 3.8689e-06\n",
      "Epoch 317/500\n",
      "\u001b[1m8/8\u001b[0m \u001b[32m━━━━━━━━━━━━━━━━━━━━\u001b[0m\u001b[37m\u001b[0m \u001b[1m0s\u001b[0m 54ms/step - categorical_accuracy: 1.0000 - loss: 3.8809e-06 - val_categorical_accuracy: 1.0000 - val_loss: 3.8417e-06\n",
      "Epoch 318/500\n",
      "\u001b[1m8/8\u001b[0m \u001b[32m━━━━━━━━━━━━━━━━━━━━\u001b[0m\u001b[37m\u001b[0m \u001b[1m0s\u001b[0m 52ms/step - categorical_accuracy: 1.0000 - loss: 3.8420e-06 - val_categorical_accuracy: 1.0000 - val_loss: 3.8083e-06\n",
      "Epoch 319/500\n",
      "\u001b[1m8/8\u001b[0m \u001b[32m━━━━━━━━━━━━━━━━━━━━\u001b[0m\u001b[37m\u001b[0m \u001b[1m0s\u001b[0m 52ms/step - categorical_accuracy: 1.0000 - loss: 3.8044e-06 - val_categorical_accuracy: 1.0000 - val_loss: 3.7769e-06\n",
      "Epoch 320/500\n",
      "\u001b[1m8/8\u001b[0m \u001b[32m━━━━━━━━━━━━━━━━━━━━\u001b[0m\u001b[37m\u001b[0m \u001b[1m0s\u001b[0m 52ms/step - categorical_accuracy: 1.0000 - loss: 3.7673e-06 - val_categorical_accuracy: 1.0000 - val_loss: 3.7497e-06\n",
      "Epoch 321/500\n",
      "\u001b[1m8/8\u001b[0m \u001b[32m━━━━━━━━━━━━━━━━━━━━\u001b[0m\u001b[37m\u001b[0m \u001b[1m0s\u001b[0m 51ms/step - categorical_accuracy: 1.0000 - loss: 3.7302e-06 - val_categorical_accuracy: 1.0000 - val_loss: 3.7204e-06\n",
      "Epoch 322/500\n",
      "\u001b[1m8/8\u001b[0m \u001b[32m━━━━━━━━━━━━━━━━━━━━\u001b[0m\u001b[37m\u001b[0m \u001b[1m0s\u001b[0m 53ms/step - categorical_accuracy: 1.0000 - loss: 3.6924e-06 - val_categorical_accuracy: 1.0000 - val_loss: 3.6849e-06\n",
      "Epoch 323/500\n",
      "\u001b[1m8/8\u001b[0m \u001b[32m━━━━━━━━━━━━━━━━━━━━\u001b[0m\u001b[37m\u001b[0m \u001b[1m0s\u001b[0m 50ms/step - categorical_accuracy: 1.0000 - loss: 3.6566e-06 - val_categorical_accuracy: 1.0000 - val_loss: 3.6598e-06\n",
      "Epoch 324/500\n",
      "\u001b[1m8/8\u001b[0m \u001b[32m━━━━━━━━━━━━━━━━━━━━\u001b[0m\u001b[37m\u001b[0m \u001b[1m0s\u001b[0m 51ms/step - categorical_accuracy: 1.0000 - loss: 3.6210e-06 - val_categorical_accuracy: 1.0000 - val_loss: 3.6347e-06\n",
      "Epoch 325/500\n",
      "\u001b[1m8/8\u001b[0m \u001b[32m━━━━━━━━━━━━━━━━━━━━\u001b[0m\u001b[37m\u001b[0m \u001b[1m0s\u001b[0m 50ms/step - categorical_accuracy: 1.0000 - loss: 3.5849e-06 - val_categorical_accuracy: 1.0000 - val_loss: 3.6054e-06\n",
      "Epoch 326/500\n",
      "\u001b[1m8/8\u001b[0m \u001b[32m━━━━━━━━━━━━━━━━━━━━\u001b[0m\u001b[37m\u001b[0m \u001b[1m0s\u001b[0m 50ms/step - categorical_accuracy: 1.0000 - loss: 3.5519e-06 - val_categorical_accuracy: 1.0000 - val_loss: 3.5782e-06\n",
      "Epoch 327/500\n",
      "\u001b[1m8/8\u001b[0m \u001b[32m━━━━━━━━━━━━━━━━━━━━\u001b[0m\u001b[37m\u001b[0m \u001b[1m0s\u001b[0m 48ms/step - categorical_accuracy: 1.0000 - loss: 3.5158e-06 - val_categorical_accuracy: 1.0000 - val_loss: 3.5531e-06\n",
      "Epoch 328/500\n",
      "\u001b[1m8/8\u001b[0m \u001b[32m━━━━━━━━━━━━━━━━━━━━\u001b[0m\u001b[37m\u001b[0m \u001b[1m0s\u001b[0m 54ms/step - categorical_accuracy: 1.0000 - loss: 3.4827e-06 - val_categorical_accuracy: 1.0000 - val_loss: 3.5218e-06\n",
      "Epoch 329/500\n",
      "\u001b[1m8/8\u001b[0m \u001b[32m━━━━━━━━━━━━━━━━━━━━\u001b[0m\u001b[37m\u001b[0m \u001b[1m0s\u001b[0m 52ms/step - categorical_accuracy: 1.0000 - loss: 3.4499e-06 - val_categorical_accuracy: 1.0000 - val_loss: 3.5009e-06\n",
      "Epoch 330/500\n",
      "\u001b[1m8/8\u001b[0m \u001b[32m━━━━━━━━━━━━━━━━━━━━\u001b[0m\u001b[37m\u001b[0m \u001b[1m0s\u001b[0m 51ms/step - categorical_accuracy: 1.0000 - loss: 3.4154e-06 - val_categorical_accuracy: 1.0000 - val_loss: 3.4716e-06\n",
      "Epoch 331/500\n",
      "\u001b[1m8/8\u001b[0m \u001b[32m━━━━━━━━━━━━━━━━━━━━\u001b[0m\u001b[37m\u001b[0m \u001b[1m0s\u001b[0m 52ms/step - categorical_accuracy: 1.0000 - loss: 3.3827e-06 - val_categorical_accuracy: 1.0000 - val_loss: 3.4423e-06\n",
      "Epoch 332/500\n",
      "\u001b[1m8/8\u001b[0m \u001b[32m━━━━━━━━━━━━━━━━━━━━\u001b[0m\u001b[37m\u001b[0m \u001b[1m0s\u001b[0m 51ms/step - categorical_accuracy: 1.0000 - loss: 3.3533e-06 - val_categorical_accuracy: 1.0000 - val_loss: 3.4235e-06\n",
      "Epoch 333/500\n",
      "\u001b[1m8/8\u001b[0m \u001b[32m━━━━━━━━━━━━━━━━━━━━\u001b[0m\u001b[37m\u001b[0m \u001b[1m0s\u001b[0m 51ms/step - categorical_accuracy: 1.0000 - loss: 3.3188e-06 - val_categorical_accuracy: 1.0000 - val_loss: 3.3921e-06\n",
      "Epoch 334/500\n",
      "\u001b[1m8/8\u001b[0m \u001b[32m━━━━━━━━━━━━━━━━━━━━\u001b[0m\u001b[37m\u001b[0m \u001b[1m0s\u001b[0m 55ms/step - categorical_accuracy: 1.0000 - loss: 3.2888e-06 - val_categorical_accuracy: 1.0000 - val_loss: 3.3649e-06\n",
      "Epoch 335/500\n",
      "\u001b[1m8/8\u001b[0m \u001b[32m━━━━━━━━━━━━━━━━━━━━\u001b[0m\u001b[37m\u001b[0m \u001b[1m0s\u001b[0m 53ms/step - categorical_accuracy: 1.0000 - loss: 3.2578e-06 - val_categorical_accuracy: 1.0000 - val_loss: 3.3419e-06\n",
      "Epoch 336/500\n",
      "\u001b[1m8/8\u001b[0m \u001b[32m━━━━━━━━━━━━━━━━━━━━\u001b[0m\u001b[37m\u001b[0m \u001b[1m0s\u001b[0m 52ms/step - categorical_accuracy: 1.0000 - loss: 3.2269e-06 - val_categorical_accuracy: 1.0000 - val_loss: 3.3189e-06\n",
      "Epoch 337/500\n",
      "\u001b[1m8/8\u001b[0m \u001b[32m━━━━━━━━━━━━━━━━━━━━\u001b[0m\u001b[37m\u001b[0m \u001b[1m0s\u001b[0m 52ms/step - categorical_accuracy: 1.0000 - loss: 3.1967e-06 - val_categorical_accuracy: 1.0000 - val_loss: 3.2959e-06\n",
      "Epoch 338/500\n",
      "\u001b[1m8/8\u001b[0m \u001b[32m━━━━━━━━━━━━━━━━━━━━\u001b[0m\u001b[37m\u001b[0m \u001b[1m0s\u001b[0m 52ms/step - categorical_accuracy: 1.0000 - loss: 3.1689e-06 - val_categorical_accuracy: 1.0000 - val_loss: 3.2708e-06\n",
      "Epoch 339/500\n",
      "\u001b[1m8/8\u001b[0m \u001b[32m━━━━━━━━━━━━━━━━━━━━\u001b[0m\u001b[37m\u001b[0m \u001b[1m0s\u001b[0m 55ms/step - categorical_accuracy: 1.0000 - loss: 3.1394e-06 - val_categorical_accuracy: 1.0000 - val_loss: 3.2457e-06\n",
      "Epoch 340/500\n",
      "\u001b[1m8/8\u001b[0m \u001b[32m━━━━━━━━━━━━━━━━━━━━\u001b[0m\u001b[37m\u001b[0m \u001b[1m0s\u001b[0m 51ms/step - categorical_accuracy: 1.0000 - loss: 3.1106e-06 - val_categorical_accuracy: 1.0000 - val_loss: 3.2248e-06\n",
      "Epoch 341/500\n",
      "\u001b[1m8/8\u001b[0m \u001b[32m━━━━━━━━━━━━━━━━━━━━\u001b[0m\u001b[37m\u001b[0m \u001b[1m0s\u001b[0m 58ms/step - categorical_accuracy: 1.0000 - loss: 3.0838e-06 - val_categorical_accuracy: 1.0000 - val_loss: 3.2039e-06\n",
      "Epoch 342/500\n",
      "\u001b[1m8/8\u001b[0m \u001b[32m━━━━━━━━━━━━━━━━━━━━\u001b[0m\u001b[37m\u001b[0m \u001b[1m1s\u001b[0m 67ms/step - categorical_accuracy: 1.0000 - loss: 3.0538e-06 - val_categorical_accuracy: 1.0000 - val_loss: 3.1809e-06\n",
      "Epoch 343/500\n",
      "\u001b[1m8/8\u001b[0m \u001b[32m━━━━━━━━━━━━━━━━━━━━\u001b[0m\u001b[37m\u001b[0m \u001b[1m1s\u001b[0m 61ms/step - categorical_accuracy: 1.0000 - loss: 3.0248e-06 - val_categorical_accuracy: 1.0000 - val_loss: 3.1558e-06\n",
      "Epoch 344/500\n",
      "\u001b[1m8/8\u001b[0m \u001b[32m━━━━━━━━━━━━━━━━━━━━\u001b[0m\u001b[37m\u001b[0m \u001b[1m0s\u001b[0m 51ms/step - categorical_accuracy: 1.0000 - loss: 2.9975e-06 - val_categorical_accuracy: 1.0000 - val_loss: 3.1349e-06\n",
      "Epoch 345/500\n",
      "\u001b[1m8/8\u001b[0m \u001b[32m━━━━━━━━━━━━━━━━━━━━\u001b[0m\u001b[37m\u001b[0m \u001b[1m0s\u001b[0m 50ms/step - categorical_accuracy: 1.0000 - loss: 2.9719e-06 - val_categorical_accuracy: 1.0000 - val_loss: 3.1140e-06\n",
      "Epoch 346/500\n",
      "\u001b[1m8/8\u001b[0m \u001b[32m━━━━━━━━━━━━━━━━━━━━\u001b[0m\u001b[37m\u001b[0m \u001b[1m0s\u001b[0m 49ms/step - categorical_accuracy: 1.0000 - loss: 2.9440e-06 - val_categorical_accuracy: 1.0000 - val_loss: 3.0931e-06\n",
      "Epoch 347/500\n",
      "\u001b[1m8/8\u001b[0m \u001b[32m━━━━━━━━━━━━━━━━━━━━\u001b[0m\u001b[37m\u001b[0m \u001b[1m0s\u001b[0m 49ms/step - categorical_accuracy: 1.0000 - loss: 2.9175e-06 - val_categorical_accuracy: 1.0000 - val_loss: 3.0701e-06\n",
      "Epoch 348/500\n",
      "\u001b[1m8/8\u001b[0m \u001b[32m━━━━━━━━━━━━━━━━━━━━\u001b[0m\u001b[37m\u001b[0m \u001b[1m0s\u001b[0m 48ms/step - categorical_accuracy: 1.0000 - loss: 2.8917e-06 - val_categorical_accuracy: 1.0000 - val_loss: 3.0492e-06\n",
      "Epoch 349/500\n",
      "\u001b[1m8/8\u001b[0m \u001b[32m━━━━━━━━━━━━━━━━━━━━\u001b[0m\u001b[37m\u001b[0m \u001b[1m0s\u001b[0m 53ms/step - categorical_accuracy: 1.0000 - loss: 2.8650e-06 - val_categorical_accuracy: 1.0000 - val_loss: 3.0303e-06\n",
      "Epoch 350/500\n",
      "\u001b[1m8/8\u001b[0m \u001b[32m━━━━━━━━━━━━━━━━━━━━\u001b[0m\u001b[37m\u001b[0m \u001b[1m0s\u001b[0m 50ms/step - categorical_accuracy: 1.0000 - loss: 2.8410e-06 - val_categorical_accuracy: 1.0000 - val_loss: 3.0052e-06\n",
      "Epoch 351/500\n",
      "\u001b[1m8/8\u001b[0m \u001b[32m━━━━━━━━━━━━━━━━━━━━\u001b[0m\u001b[37m\u001b[0m \u001b[1m0s\u001b[0m 49ms/step - categorical_accuracy: 1.0000 - loss: 2.8153e-06 - val_categorical_accuracy: 1.0000 - val_loss: 2.9843e-06\n",
      "Epoch 352/500\n",
      "\u001b[1m8/8\u001b[0m \u001b[32m━━━━━━━━━━━━━━━━━━━━\u001b[0m\u001b[37m\u001b[0m \u001b[1m0s\u001b[0m 52ms/step - categorical_accuracy: 1.0000 - loss: 2.7901e-06 - val_categorical_accuracy: 1.0000 - val_loss: 2.9655e-06\n",
      "Epoch 353/500\n",
      "\u001b[1m8/8\u001b[0m \u001b[32m━━━━━━━━━━━━━━━━━━━━\u001b[0m\u001b[37m\u001b[0m \u001b[1m0s\u001b[0m 51ms/step - categorical_accuracy: 1.0000 - loss: 2.7637e-06 - val_categorical_accuracy: 1.0000 - val_loss: 2.9383e-06\n",
      "Epoch 354/500\n",
      "\u001b[1m8/8\u001b[0m \u001b[32m━━━━━━━━━━━━━━━━━━━━\u001b[0m\u001b[37m\u001b[0m \u001b[1m1s\u001b[0m 71ms/step - categorical_accuracy: 1.0000 - loss: 2.7419e-06 - val_categorical_accuracy: 1.0000 - val_loss: 2.9195e-06\n",
      "Epoch 355/500\n",
      "\u001b[1m8/8\u001b[0m \u001b[32m━━━━━━━━━━━━━━━━━━━━\u001b[0m\u001b[37m\u001b[0m \u001b[1m0s\u001b[0m 54ms/step - categorical_accuracy: 1.0000 - loss: 2.7193e-06 - val_categorical_accuracy: 1.0000 - val_loss: 2.9007e-06\n",
      "Epoch 356/500\n",
      "\u001b[1m8/8\u001b[0m \u001b[32m━━━━━━━━━━━━━━━━━━━━\u001b[0m\u001b[37m\u001b[0m \u001b[1m0s\u001b[0m 59ms/step - categorical_accuracy: 1.0000 - loss: 2.6943e-06 - val_categorical_accuracy: 1.0000 - val_loss: 2.8798e-06\n",
      "Epoch 357/500\n",
      "\u001b[1m8/8\u001b[0m \u001b[32m━━━━━━━━━━━━━━━━━━━━\u001b[0m\u001b[37m\u001b[0m \u001b[1m0s\u001b[0m 53ms/step - categorical_accuracy: 1.0000 - loss: 2.6723e-06 - val_categorical_accuracy: 1.0000 - val_loss: 2.8588e-06\n",
      "Epoch 358/500\n",
      "\u001b[1m8/8\u001b[0m \u001b[32m━━━━━━━━━━━━━━━━━━━━\u001b[0m\u001b[37m\u001b[0m \u001b[1m1s\u001b[0m 61ms/step - categorical_accuracy: 1.0000 - loss: 2.6500e-06 - val_categorical_accuracy: 1.0000 - val_loss: 2.8421e-06\n",
      "Epoch 359/500\n",
      "\u001b[1m8/8\u001b[0m \u001b[32m━━━━━━━━━━━━━━━━━━━━\u001b[0m\u001b[37m\u001b[0m \u001b[1m0s\u001b[0m 60ms/step - categorical_accuracy: 1.0000 - loss: 2.6259e-06 - val_categorical_accuracy: 1.0000 - val_loss: 2.8212e-06\n",
      "Epoch 360/500\n",
      "\u001b[1m8/8\u001b[0m \u001b[32m━━━━━━━━━━━━━━━━━━━━\u001b[0m\u001b[37m\u001b[0m \u001b[1m0s\u001b[0m 56ms/step - categorical_accuracy: 1.0000 - loss: 2.6018e-06 - val_categorical_accuracy: 1.0000 - val_loss: 2.8045e-06\n",
      "Epoch 361/500\n",
      "\u001b[1m8/8\u001b[0m \u001b[32m━━━━━━━━━━━━━━━━━━━━\u001b[0m\u001b[37m\u001b[0m \u001b[1m0s\u001b[0m 56ms/step - categorical_accuracy: 1.0000 - loss: 2.5796e-06 - val_categorical_accuracy: 1.0000 - val_loss: 2.7836e-06\n",
      "Epoch 362/500\n",
      "\u001b[1m8/8\u001b[0m \u001b[32m━━━━━━━━━━━━━━━━━━━━\u001b[0m\u001b[37m\u001b[0m \u001b[1m1s\u001b[0m 68ms/step - categorical_accuracy: 1.0000 - loss: 2.5597e-06 - val_categorical_accuracy: 1.0000 - val_loss: 2.7668e-06\n",
      "Epoch 363/500\n",
      "\u001b[1m8/8\u001b[0m \u001b[32m━━━━━━━━━━━━━━━━━━━━\u001b[0m\u001b[37m\u001b[0m \u001b[1m1s\u001b[0m 64ms/step - categorical_accuracy: 1.0000 - loss: 2.5344e-06 - val_categorical_accuracy: 1.0000 - val_loss: 2.7459e-06\n",
      "Epoch 364/500\n",
      "\u001b[1m8/8\u001b[0m \u001b[32m━━━━━━━━━━━━━━━━━━━━\u001b[0m\u001b[37m\u001b[0m \u001b[1m0s\u001b[0m 57ms/step - categorical_accuracy: 1.0000 - loss: 2.5129e-06 - val_categorical_accuracy: 1.0000 - val_loss: 2.7271e-06\n",
      "Epoch 365/500\n",
      "\u001b[1m8/8\u001b[0m \u001b[32m━━━━━━━━━━━━━━━━━━━━\u001b[0m\u001b[37m\u001b[0m \u001b[1m0s\u001b[0m 56ms/step - categorical_accuracy: 1.0000 - loss: 2.4928e-06 - val_categorical_accuracy: 1.0000 - val_loss: 2.7083e-06\n",
      "Epoch 366/500\n",
      "\u001b[1m8/8\u001b[0m \u001b[32m━━━━━━━━━━━━━━━━━━━━\u001b[0m\u001b[37m\u001b[0m \u001b[1m1s\u001b[0m 59ms/step - categorical_accuracy: 1.0000 - loss: 2.4729e-06 - val_categorical_accuracy: 1.0000 - val_loss: 2.6915e-06\n",
      "Epoch 367/500\n",
      "\u001b[1m8/8\u001b[0m \u001b[32m━━━━━━━━━━━━━━━━━━━━\u001b[0m\u001b[37m\u001b[0m \u001b[1m0s\u001b[0m 55ms/step - categorical_accuracy: 1.0000 - loss: 2.4490e-06 - val_categorical_accuracy: 1.0000 - val_loss: 2.6727e-06\n",
      "Epoch 368/500\n",
      "\u001b[1m8/8\u001b[0m \u001b[32m━━━━━━━━━━━━━━━━━━━━\u001b[0m\u001b[37m\u001b[0m \u001b[1m1s\u001b[0m 66ms/step - categorical_accuracy: 1.0000 - loss: 2.4294e-06 - val_categorical_accuracy: 1.0000 - val_loss: 2.6581e-06\n",
      "Epoch 369/500\n",
      "\u001b[1m8/8\u001b[0m \u001b[32m━━━━━━━━━━━━━━━━━━━━\u001b[0m\u001b[37m\u001b[0m \u001b[1m1s\u001b[0m 68ms/step - categorical_accuracy: 1.0000 - loss: 2.4076e-06 - val_categorical_accuracy: 1.0000 - val_loss: 2.6393e-06\n",
      "Epoch 370/500\n",
      "\u001b[1m8/8\u001b[0m \u001b[32m━━━━━━━━━━━━━━━━━━━━\u001b[0m\u001b[37m\u001b[0m \u001b[1m0s\u001b[0m 54ms/step - categorical_accuracy: 1.0000 - loss: 2.3904e-06 - val_categorical_accuracy: 1.0000 - val_loss: 2.6204e-06\n",
      "Epoch 371/500\n",
      "\u001b[1m8/8\u001b[0m \u001b[32m━━━━━━━━━━━━━━━━━━━━\u001b[0m\u001b[37m\u001b[0m \u001b[1m0s\u001b[0m 53ms/step - categorical_accuracy: 1.0000 - loss: 2.3721e-06 - val_categorical_accuracy: 1.0000 - val_loss: 2.6058e-06\n",
      "Epoch 372/500\n",
      "\u001b[1m8/8\u001b[0m \u001b[32m━━━━━━━━━━━━━━━━━━━━\u001b[0m\u001b[37m\u001b[0m \u001b[1m0s\u001b[0m 54ms/step - categorical_accuracy: 1.0000 - loss: 2.3537e-06 - val_categorical_accuracy: 1.0000 - val_loss: 2.5891e-06\n",
      "Epoch 373/500\n",
      "\u001b[1m8/8\u001b[0m \u001b[32m━━━━━━━━━━━━━━━━━━━━\u001b[0m\u001b[37m\u001b[0m \u001b[1m0s\u001b[0m 54ms/step - categorical_accuracy: 1.0000 - loss: 2.3352e-06 - val_categorical_accuracy: 1.0000 - val_loss: 2.5723e-06\n",
      "Epoch 374/500\n",
      "\u001b[1m8/8\u001b[0m \u001b[32m━━━━━━━━━━━━━━━━━━━━\u001b[0m\u001b[37m\u001b[0m \u001b[1m0s\u001b[0m 55ms/step - categorical_accuracy: 1.0000 - loss: 2.3170e-06 - val_categorical_accuracy: 1.0000 - val_loss: 2.5556e-06\n",
      "Epoch 375/500\n",
      "\u001b[1m8/8\u001b[0m \u001b[32m━━━━━━━━━━━━━━━━━━━━\u001b[0m\u001b[37m\u001b[0m \u001b[1m0s\u001b[0m 55ms/step - categorical_accuracy: 1.0000 - loss: 2.2961e-06 - val_categorical_accuracy: 1.0000 - val_loss: 2.5389e-06\n",
      "Epoch 376/500\n",
      "\u001b[1m8/8\u001b[0m \u001b[32m━━━━━━━━━━━━━━━━━━━━\u001b[0m\u001b[37m\u001b[0m \u001b[1m0s\u001b[0m 57ms/step - categorical_accuracy: 1.0000 - loss: 2.2767e-06 - val_categorical_accuracy: 1.0000 - val_loss: 2.5263e-06\n",
      "Epoch 377/500\n",
      "\u001b[1m8/8\u001b[0m \u001b[32m━━━━━━━━━━━━━━━━━━━━\u001b[0m\u001b[37m\u001b[0m \u001b[1m0s\u001b[0m 55ms/step - categorical_accuracy: 1.0000 - loss: 2.2587e-06 - val_categorical_accuracy: 1.0000 - val_loss: 2.5075e-06\n",
      "Epoch 378/500\n",
      "\u001b[1m8/8\u001b[0m \u001b[32m━━━━━━━━━━━━━━━━━━━━\u001b[0m\u001b[37m\u001b[0m \u001b[1m0s\u001b[0m 57ms/step - categorical_accuracy: 1.0000 - loss: 2.2404e-06 - val_categorical_accuracy: 1.0000 - val_loss: 2.4908e-06\n",
      "Epoch 379/500\n",
      "\u001b[1m8/8\u001b[0m \u001b[32m━━━━━━━━━━━━━━━━━━━━\u001b[0m\u001b[37m\u001b[0m \u001b[1m0s\u001b[0m 58ms/step - categorical_accuracy: 1.0000 - loss: 2.2245e-06 - val_categorical_accuracy: 1.0000 - val_loss: 2.4761e-06\n",
      "Epoch 380/500\n",
      "\u001b[1m8/8\u001b[0m \u001b[32m━━━━━━━━━━━━━━━━━━━━\u001b[0m\u001b[37m\u001b[0m \u001b[1m1s\u001b[0m 64ms/step - categorical_accuracy: 1.0000 - loss: 2.2074e-06 - val_categorical_accuracy: 1.0000 - val_loss: 2.4615e-06\n",
      "Epoch 381/500\n",
      "\u001b[1m8/8\u001b[0m \u001b[32m━━━━━━━━━━━━━━━━━━━━\u001b[0m\u001b[37m\u001b[0m \u001b[1m1s\u001b[0m 67ms/step - categorical_accuracy: 1.0000 - loss: 2.1893e-06 - val_categorical_accuracy: 1.0000 - val_loss: 2.4469e-06\n",
      "Epoch 382/500\n",
      "\u001b[1m8/8\u001b[0m \u001b[32m━━━━━━━━━━━━━━━━━━━━\u001b[0m\u001b[37m\u001b[0m \u001b[1m1s\u001b[0m 60ms/step - categorical_accuracy: 1.0000 - loss: 2.1729e-06 - val_categorical_accuracy: 1.0000 - val_loss: 2.4343e-06\n",
      "Epoch 383/500\n",
      "\u001b[1m8/8\u001b[0m \u001b[32m━━━━━━━━━━━━━━━━━━━━\u001b[0m\u001b[37m\u001b[0m \u001b[1m1s\u001b[0m 62ms/step - categorical_accuracy: 1.0000 - loss: 2.1549e-06 - val_categorical_accuracy: 1.0000 - val_loss: 2.4176e-06\n",
      "Epoch 384/500\n",
      "\u001b[1m8/8\u001b[0m \u001b[32m━━━━━━━━━━━━━━━━━━━━\u001b[0m\u001b[37m\u001b[0m \u001b[1m1s\u001b[0m 63ms/step - categorical_accuracy: 1.0000 - loss: 2.1366e-06 - val_categorical_accuracy: 1.0000 - val_loss: 2.4050e-06\n",
      "Epoch 385/500\n",
      "\u001b[1m8/8\u001b[0m \u001b[32m━━━━━━━━━━━━━━━━━━━━\u001b[0m\u001b[37m\u001b[0m \u001b[1m1s\u001b[0m 60ms/step - categorical_accuracy: 1.0000 - loss: 2.1206e-06 - val_categorical_accuracy: 1.0000 - val_loss: 2.3883e-06\n",
      "Epoch 386/500\n",
      "\u001b[1m8/8\u001b[0m \u001b[32m━━━━━━━━━━━━━━━━━━━━\u001b[0m\u001b[37m\u001b[0m \u001b[1m0s\u001b[0m 57ms/step - categorical_accuracy: 1.0000 - loss: 2.1024e-06 - val_categorical_accuracy: 1.0000 - val_loss: 2.3758e-06\n",
      "Epoch 387/500\n",
      "\u001b[1m8/8\u001b[0m \u001b[32m━━━━━━━━━━━━━━━━━━━━\u001b[0m\u001b[37m\u001b[0m \u001b[1m1s\u001b[0m 61ms/step - categorical_accuracy: 1.0000 - loss: 2.0865e-06 - val_categorical_accuracy: 1.0000 - val_loss: 2.3569e-06\n",
      "Epoch 388/500\n",
      "\u001b[1m8/8\u001b[0m \u001b[32m━━━━━━━━━━━━━━━━━━━━\u001b[0m\u001b[37m\u001b[0m \u001b[1m0s\u001b[0m 57ms/step - categorical_accuracy: 1.0000 - loss: 2.0692e-06 - val_categorical_accuracy: 1.0000 - val_loss: 2.3402e-06\n",
      "Epoch 389/500\n",
      "\u001b[1m8/8\u001b[0m \u001b[32m━━━━━━━━━━━━━━━━━━━━\u001b[0m\u001b[37m\u001b[0m \u001b[1m0s\u001b[0m 55ms/step - categorical_accuracy: 1.0000 - loss: 2.0520e-06 - val_categorical_accuracy: 1.0000 - val_loss: 2.3277e-06\n",
      "Epoch 390/500\n",
      "\u001b[1m8/8\u001b[0m \u001b[32m━━━━━━━━━━━━━━━━━━━━\u001b[0m\u001b[37m\u001b[0m \u001b[1m0s\u001b[0m 55ms/step - categorical_accuracy: 1.0000 - loss: 2.0369e-06 - val_categorical_accuracy: 1.0000 - val_loss: 2.3109e-06\n",
      "Epoch 391/500\n",
      "\u001b[1m8/8\u001b[0m \u001b[32m━━━━━━━━━━━━━━━━━━━━\u001b[0m\u001b[37m\u001b[0m \u001b[1m0s\u001b[0m 53ms/step - categorical_accuracy: 1.0000 - loss: 2.0204e-06 - val_categorical_accuracy: 1.0000 - val_loss: 2.2984e-06\n",
      "Epoch 392/500\n",
      "\u001b[1m8/8\u001b[0m \u001b[32m━━━━━━━━━━━━━━━━━━━━\u001b[0m\u001b[37m\u001b[0m \u001b[1m0s\u001b[0m 56ms/step - categorical_accuracy: 1.0000 - loss: 2.0058e-06 - val_categorical_accuracy: 1.0000 - val_loss: 2.2837e-06\n",
      "Epoch 393/500\n",
      "\u001b[1m8/8\u001b[0m \u001b[32m━━━━━━━━━━━━━━━━━━━━\u001b[0m\u001b[37m\u001b[0m \u001b[1m0s\u001b[0m 54ms/step - categorical_accuracy: 1.0000 - loss: 1.9905e-06 - val_categorical_accuracy: 1.0000 - val_loss: 2.2691e-06\n",
      "Epoch 394/500\n",
      "\u001b[1m8/8\u001b[0m \u001b[32m━━━━━━━━━━━━━━━━━━━━\u001b[0m\u001b[37m\u001b[0m \u001b[1m0s\u001b[0m 55ms/step - categorical_accuracy: 1.0000 - loss: 1.9738e-06 - val_categorical_accuracy: 1.0000 - val_loss: 2.2545e-06\n",
      "Epoch 395/500\n",
      "\u001b[1m8/8\u001b[0m \u001b[32m━━━━━━━━━━━━━━━━━━━━\u001b[0m\u001b[37m\u001b[0m \u001b[1m0s\u001b[0m 55ms/step - categorical_accuracy: 1.0000 - loss: 1.9586e-06 - val_categorical_accuracy: 1.0000 - val_loss: 2.2440e-06\n",
      "Epoch 396/500\n",
      "\u001b[1m8/8\u001b[0m \u001b[32m━━━━━━━━━━━━━━━━━━━━\u001b[0m\u001b[37m\u001b[0m \u001b[1m0s\u001b[0m 59ms/step - categorical_accuracy: 1.0000 - loss: 1.9442e-06 - val_categorical_accuracy: 1.0000 - val_loss: 2.2273e-06\n",
      "Epoch 397/500\n",
      "\u001b[1m8/8\u001b[0m \u001b[32m━━━━━━━━━━━━━━━━━━━━\u001b[0m\u001b[37m\u001b[0m \u001b[1m0s\u001b[0m 58ms/step - categorical_accuracy: 1.0000 - loss: 1.9280e-06 - val_categorical_accuracy: 1.0000 - val_loss: 2.2126e-06\n",
      "Epoch 398/500\n",
      "\u001b[1m8/8\u001b[0m \u001b[32m━━━━━━━━━━━━━━━━━━━━\u001b[0m\u001b[37m\u001b[0m \u001b[1m0s\u001b[0m 56ms/step - categorical_accuracy: 1.0000 - loss: 1.9119e-06 - val_categorical_accuracy: 1.0000 - val_loss: 2.1980e-06\n",
      "Epoch 399/500\n",
      "\u001b[1m8/8\u001b[0m \u001b[32m━━━━━━━━━━━━━━━━━━━━\u001b[0m\u001b[37m\u001b[0m \u001b[1m0s\u001b[0m 56ms/step - categorical_accuracy: 1.0000 - loss: 1.8977e-06 - val_categorical_accuracy: 1.0000 - val_loss: 2.1875e-06\n",
      "Epoch 400/500\n",
      "\u001b[1m8/8\u001b[0m \u001b[32m━━━━━━━━━━━━━━━━━━━━\u001b[0m\u001b[37m\u001b[0m \u001b[1m1s\u001b[0m 62ms/step - categorical_accuracy: 1.0000 - loss: 1.8839e-06 - val_categorical_accuracy: 1.0000 - val_loss: 2.1729e-06\n",
      "Epoch 401/500\n",
      "\u001b[1m8/8\u001b[0m \u001b[32m━━━━━━━━━━━━━━━━━━━━\u001b[0m\u001b[37m\u001b[0m \u001b[1m0s\u001b[0m 57ms/step - categorical_accuracy: 1.0000 - loss: 1.8678e-06 - val_categorical_accuracy: 1.0000 - val_loss: 2.1604e-06\n",
      "Epoch 402/500\n",
      "\u001b[1m8/8\u001b[0m \u001b[32m━━━━━━━━━━━━━━━━━━━━\u001b[0m\u001b[37m\u001b[0m \u001b[1m0s\u001b[0m 58ms/step - categorical_accuracy: 1.0000 - loss: 1.8544e-06 - val_categorical_accuracy: 1.0000 - val_loss: 2.1499e-06\n",
      "Epoch 403/500\n",
      "\u001b[1m8/8\u001b[0m \u001b[32m━━━━━━━━━━━━━━━━━━━━\u001b[0m\u001b[37m\u001b[0m \u001b[1m1s\u001b[0m 62ms/step - categorical_accuracy: 1.0000 - loss: 1.8381e-06 - val_categorical_accuracy: 1.0000 - val_loss: 2.1374e-06\n",
      "Epoch 404/500\n",
      "\u001b[1m8/8\u001b[0m \u001b[32m━━━━━━━━━━━━━━━━━━━━\u001b[0m\u001b[37m\u001b[0m \u001b[1m0s\u001b[0m 57ms/step - categorical_accuracy: 1.0000 - loss: 1.8256e-06 - val_categorical_accuracy: 1.0000 - val_loss: 2.1227e-06\n",
      "Epoch 405/500\n",
      "\u001b[1m8/8\u001b[0m \u001b[32m━━━━━━━━━━━━━━━━━━━━\u001b[0m\u001b[37m\u001b[0m \u001b[1m0s\u001b[0m 56ms/step - categorical_accuracy: 1.0000 - loss: 1.8114e-06 - val_categorical_accuracy: 1.0000 - val_loss: 2.1102e-06\n",
      "Epoch 406/500\n",
      "\u001b[1m8/8\u001b[0m \u001b[32m━━━━━━━━━━━━━━━━━━━━\u001b[0m\u001b[37m\u001b[0m \u001b[1m0s\u001b[0m 54ms/step - categorical_accuracy: 1.0000 - loss: 1.7995e-06 - val_categorical_accuracy: 1.0000 - val_loss: 2.0997e-06\n",
      "Epoch 407/500\n",
      "\u001b[1m8/8\u001b[0m \u001b[32m━━━━━━━━━━━━━━━━━━━━\u001b[0m\u001b[37m\u001b[0m \u001b[1m1s\u001b[0m 61ms/step - categorical_accuracy: 1.0000 - loss: 1.7879e-06 - val_categorical_accuracy: 1.0000 - val_loss: 2.0872e-06\n",
      "Epoch 408/500\n",
      "\u001b[1m8/8\u001b[0m \u001b[32m━━━━━━━━━━━━━━━━━━━━\u001b[0m\u001b[37m\u001b[0m \u001b[1m0s\u001b[0m 55ms/step - categorical_accuracy: 1.0000 - loss: 1.7747e-06 - val_categorical_accuracy: 1.0000 - val_loss: 2.0725e-06\n",
      "Epoch 409/500\n",
      "\u001b[1m8/8\u001b[0m \u001b[32m━━━━━━━━━━━━━━━━━━━━\u001b[0m\u001b[37m\u001b[0m \u001b[1m0s\u001b[0m 57ms/step - categorical_accuracy: 1.0000 - loss: 1.7606e-06 - val_categorical_accuracy: 1.0000 - val_loss: 2.0621e-06\n",
      "Epoch 410/500\n",
      "\u001b[1m8/8\u001b[0m \u001b[32m━━━━━━━━━━━━━━━━━━━━\u001b[0m\u001b[37m\u001b[0m \u001b[1m0s\u001b[0m 55ms/step - categorical_accuracy: 1.0000 - loss: 1.7478e-06 - val_categorical_accuracy: 1.0000 - val_loss: 2.0495e-06\n",
      "Epoch 411/500\n",
      "\u001b[1m8/8\u001b[0m \u001b[32m━━━━━━━━━━━━━━━━━━━━\u001b[0m\u001b[37m\u001b[0m \u001b[1m0s\u001b[0m 58ms/step - categorical_accuracy: 1.0000 - loss: 1.7359e-06 - val_categorical_accuracy: 1.0000 - val_loss: 2.0391e-06\n",
      "Epoch 412/500\n",
      "\u001b[1m8/8\u001b[0m \u001b[32m━━━━━━━━━━━━━━━━━━━━\u001b[0m\u001b[37m\u001b[0m \u001b[1m0s\u001b[0m 54ms/step - categorical_accuracy: 1.0000 - loss: 1.7220e-06 - val_categorical_accuracy: 1.0000 - val_loss: 2.0244e-06\n",
      "Epoch 413/500\n",
      "\u001b[1m8/8\u001b[0m \u001b[32m━━━━━━━━━━━━━━━━━━━━\u001b[0m\u001b[37m\u001b[0m \u001b[1m0s\u001b[0m 55ms/step - categorical_accuracy: 1.0000 - loss: 1.7112e-06 - val_categorical_accuracy: 1.0000 - val_loss: 2.0119e-06\n",
      "Epoch 414/500\n",
      "\u001b[1m8/8\u001b[0m \u001b[32m━━━━━━━━━━━━━━━━━━━━\u001b[0m\u001b[37m\u001b[0m \u001b[1m0s\u001b[0m 55ms/step - categorical_accuracy: 1.0000 - loss: 1.6993e-06 - val_categorical_accuracy: 1.0000 - val_loss: 2.0014e-06\n",
      "Epoch 415/500\n",
      "\u001b[1m8/8\u001b[0m \u001b[32m━━━━━━━━━━━━━━━━━━━━\u001b[0m\u001b[37m\u001b[0m \u001b[1m0s\u001b[0m 60ms/step - categorical_accuracy: 1.0000 - loss: 1.6872e-06 - val_categorical_accuracy: 1.0000 - val_loss: 1.9889e-06\n",
      "Epoch 416/500\n",
      "\u001b[1m8/8\u001b[0m \u001b[32m━━━━━━━━━━━━━━━━━━━━\u001b[0m\u001b[37m\u001b[0m \u001b[1m0s\u001b[0m 57ms/step - categorical_accuracy: 1.0000 - loss: 1.6746e-06 - val_categorical_accuracy: 1.0000 - val_loss: 1.9784e-06\n",
      "Epoch 417/500\n",
      "\u001b[1m8/8\u001b[0m \u001b[32m━━━━━━━━━━━━━━━━━━━━\u001b[0m\u001b[37m\u001b[0m \u001b[1m0s\u001b[0m 53ms/step - categorical_accuracy: 1.0000 - loss: 1.6635e-06 - val_categorical_accuracy: 1.0000 - val_loss: 1.9680e-06\n",
      "Epoch 418/500\n",
      "\u001b[1m8/8\u001b[0m \u001b[32m━━━━━━━━━━━━━━━━━━━━\u001b[0m\u001b[37m\u001b[0m \u001b[1m1s\u001b[0m 64ms/step - categorical_accuracy: 1.0000 - loss: 1.6511e-06 - val_categorical_accuracy: 1.0000 - val_loss: 1.9554e-06\n",
      "Epoch 419/500\n",
      "\u001b[1m8/8\u001b[0m \u001b[32m━━━━━━━━━━━━━━━━━━━━\u001b[0m\u001b[37m\u001b[0m \u001b[1m1s\u001b[0m 69ms/step - categorical_accuracy: 1.0000 - loss: 1.6376e-06 - val_categorical_accuracy: 1.0000 - val_loss: 1.9450e-06\n",
      "Epoch 420/500\n",
      "\u001b[1m8/8\u001b[0m \u001b[32m━━━━━━━━━━━━━━━━━━━━\u001b[0m\u001b[37m\u001b[0m \u001b[1m1s\u001b[0m 64ms/step - categorical_accuracy: 1.0000 - loss: 1.6249e-06 - val_categorical_accuracy: 1.0000 - val_loss: 1.9345e-06\n",
      "Epoch 421/500\n",
      "\u001b[1m8/8\u001b[0m \u001b[32m━━━━━━━━━━━━━━━━━━━━\u001b[0m\u001b[37m\u001b[0m \u001b[1m1s\u001b[0m 60ms/step - categorical_accuracy: 1.0000 - loss: 1.6125e-06 - val_categorical_accuracy: 1.0000 - val_loss: 1.9219e-06\n",
      "Epoch 422/500\n",
      "\u001b[1m8/8\u001b[0m \u001b[32m━━━━━━━━━━━━━━━━━━━━\u001b[0m\u001b[37m\u001b[0m \u001b[1m0s\u001b[0m 56ms/step - categorical_accuracy: 1.0000 - loss: 1.6014e-06 - val_categorical_accuracy: 1.0000 - val_loss: 1.9157e-06\n",
      "Epoch 423/500\n",
      "\u001b[1m8/8\u001b[0m \u001b[32m━━━━━━━━━━━━━━━━━━━━\u001b[0m\u001b[37m\u001b[0m \u001b[1m0s\u001b[0m 58ms/step - categorical_accuracy: 1.0000 - loss: 1.5926e-06 - val_categorical_accuracy: 1.0000 - val_loss: 1.9031e-06\n",
      "Epoch 424/500\n",
      "\u001b[1m8/8\u001b[0m \u001b[32m━━━━━━━━━━━━━━━━━━━━\u001b[0m\u001b[37m\u001b[0m \u001b[1m0s\u001b[0m 55ms/step - categorical_accuracy: 1.0000 - loss: 1.5773e-06 - val_categorical_accuracy: 1.0000 - val_loss: 1.8948e-06\n",
      "Epoch 425/500\n",
      "\u001b[1m8/8\u001b[0m \u001b[32m━━━━━━━━━━━━━━━━━━━━\u001b[0m\u001b[37m\u001b[0m \u001b[1m1s\u001b[0m 69ms/step - categorical_accuracy: 1.0000 - loss: 1.5659e-06 - val_categorical_accuracy: 1.0000 - val_loss: 1.8822e-06\n",
      "Epoch 426/500\n",
      "\u001b[1m8/8\u001b[0m \u001b[32m━━━━━━━━━━━━━━━━━━━━\u001b[0m\u001b[37m\u001b[0m \u001b[1m1s\u001b[0m 65ms/step - categorical_accuracy: 1.0000 - loss: 1.5571e-06 - val_categorical_accuracy: 1.0000 - val_loss: 1.8718e-06\n",
      "Epoch 427/500\n",
      "\u001b[1m8/8\u001b[0m \u001b[32m━━━━━━━━━━━━━━━━━━━━\u001b[0m\u001b[37m\u001b[0m \u001b[1m0s\u001b[0m 54ms/step - categorical_accuracy: 1.0000 - loss: 1.5456e-06 - val_categorical_accuracy: 1.0000 - val_loss: 1.8592e-06\n",
      "Epoch 428/500\n",
      "\u001b[1m8/8\u001b[0m \u001b[32m━━━━━━━━━━━━━━━━━━━━\u001b[0m\u001b[37m\u001b[0m \u001b[1m1s\u001b[0m 67ms/step - categorical_accuracy: 1.0000 - loss: 1.5353e-06 - val_categorical_accuracy: 1.0000 - val_loss: 1.8508e-06\n",
      "Epoch 429/500\n",
      "\u001b[1m8/8\u001b[0m \u001b[32m━━━━━━━━━━━━━━━━━━━━\u001b[0m\u001b[37m\u001b[0m \u001b[1m1s\u001b[0m 68ms/step - categorical_accuracy: 1.0000 - loss: 1.5247e-06 - val_categorical_accuracy: 1.0000 - val_loss: 1.8404e-06\n",
      "Epoch 430/500\n",
      "\u001b[1m8/8\u001b[0m \u001b[32m━━━━━━━━━━━━━━━━━━━━\u001b[0m\u001b[37m\u001b[0m \u001b[1m1s\u001b[0m 67ms/step - categorical_accuracy: 1.0000 - loss: 1.5116e-06 - val_categorical_accuracy: 1.0000 - val_loss: 1.8299e-06\n",
      "Epoch 431/500\n",
      "\u001b[1m8/8\u001b[0m \u001b[32m━━━━━━━━━━━━━━━━━━━━\u001b[0m\u001b[37m\u001b[0m \u001b[1m0s\u001b[0m 58ms/step - categorical_accuracy: 1.0000 - loss: 1.5021e-06 - val_categorical_accuracy: 1.0000 - val_loss: 1.8237e-06\n",
      "Epoch 432/500\n",
      "\u001b[1m8/8\u001b[0m \u001b[32m━━━━━━━━━━━━━━━━━━━━\u001b[0m\u001b[37m\u001b[0m \u001b[1m0s\u001b[0m 58ms/step - categorical_accuracy: 1.0000 - loss: 1.4919e-06 - val_categorical_accuracy: 1.0000 - val_loss: 1.8132e-06\n",
      "Epoch 433/500\n",
      "\u001b[1m8/8\u001b[0m \u001b[32m━━━━━━━━━━━━━━━━━━━━\u001b[0m\u001b[37m\u001b[0m \u001b[1m1s\u001b[0m 59ms/step - categorical_accuracy: 1.0000 - loss: 1.4821e-06 - val_categorical_accuracy: 1.0000 - val_loss: 1.8027e-06\n",
      "Epoch 434/500\n",
      "\u001b[1m8/8\u001b[0m \u001b[32m━━━━━━━━━━━━━━━━━━━━\u001b[0m\u001b[37m\u001b[0m \u001b[1m0s\u001b[0m 52ms/step - categorical_accuracy: 1.0000 - loss: 1.4722e-06 - val_categorical_accuracy: 1.0000 - val_loss: 1.7923e-06\n",
      "Epoch 435/500\n",
      "\u001b[1m8/8\u001b[0m \u001b[32m━━━━━━━━━━━━━━━━━━━━\u001b[0m\u001b[37m\u001b[0m \u001b[1m0s\u001b[0m 52ms/step - categorical_accuracy: 1.0000 - loss: 1.4639e-06 - val_categorical_accuracy: 1.0000 - val_loss: 1.7797e-06\n",
      "Epoch 436/500\n",
      "\u001b[1m8/8\u001b[0m \u001b[32m━━━━━━━━━━━━━━━━━━━━\u001b[0m\u001b[37m\u001b[0m \u001b[1m0s\u001b[0m 54ms/step - categorical_accuracy: 1.0000 - loss: 1.4533e-06 - val_categorical_accuracy: 1.0000 - val_loss: 1.7714e-06\n",
      "Epoch 437/500\n",
      "\u001b[1m8/8\u001b[0m \u001b[32m━━━━━━━━━━━━━━━━━━━━\u001b[0m\u001b[37m\u001b[0m \u001b[1m0s\u001b[0m 53ms/step - categorical_accuracy: 1.0000 - loss: 1.4438e-06 - val_categorical_accuracy: 1.0000 - val_loss: 1.7609e-06\n",
      "Epoch 438/500\n",
      "\u001b[1m8/8\u001b[0m \u001b[32m━━━━━━━━━━━━━━━━━━━━\u001b[0m\u001b[37m\u001b[0m \u001b[1m0s\u001b[0m 55ms/step - categorical_accuracy: 1.0000 - loss: 1.4356e-06 - val_categorical_accuracy: 1.0000 - val_loss: 1.7526e-06\n",
      "Epoch 439/500\n",
      "\u001b[1m8/8\u001b[0m \u001b[32m━━━━━━━━━━━━━━━━━━━━\u001b[0m\u001b[37m\u001b[0m \u001b[1m0s\u001b[0m 52ms/step - categorical_accuracy: 1.0000 - loss: 1.4247e-06 - val_categorical_accuracy: 1.0000 - val_loss: 1.7442e-06\n",
      "Epoch 440/500\n",
      "\u001b[1m8/8\u001b[0m \u001b[32m━━━━━━━━━━━━━━━━━━━━\u001b[0m\u001b[37m\u001b[0m \u001b[1m0s\u001b[0m 52ms/step - categorical_accuracy: 1.0000 - loss: 1.4115e-06 - val_categorical_accuracy: 1.0000 - val_loss: 1.7337e-06\n",
      "Epoch 441/500\n",
      "\u001b[1m8/8\u001b[0m \u001b[32m━━━━━━━━━━━━━━━━━━━━\u001b[0m\u001b[37m\u001b[0m \u001b[1m0s\u001b[0m 55ms/step - categorical_accuracy: 1.0000 - loss: 1.4021e-06 - val_categorical_accuracy: 1.0000 - val_loss: 1.7275e-06\n",
      "Epoch 442/500\n",
      "\u001b[1m8/8\u001b[0m \u001b[32m━━━━━━━━━━━━━━━━━━━━\u001b[0m\u001b[37m\u001b[0m \u001b[1m0s\u001b[0m 58ms/step - categorical_accuracy: 1.0000 - loss: 1.3931e-06 - val_categorical_accuracy: 1.0000 - val_loss: 1.7170e-06\n",
      "Epoch 443/500\n",
      "\u001b[1m8/8\u001b[0m \u001b[32m━━━━━━━━━━━━━━━━━━━━\u001b[0m\u001b[37m\u001b[0m \u001b[1m0s\u001b[0m 54ms/step - categorical_accuracy: 1.0000 - loss: 1.3823e-06 - val_categorical_accuracy: 1.0000 - val_loss: 1.7086e-06\n",
      "Epoch 444/500\n",
      "\u001b[1m8/8\u001b[0m \u001b[32m━━━━━━━━━━━━━━━━━━━━\u001b[0m\u001b[37m\u001b[0m \u001b[1m0s\u001b[0m 55ms/step - categorical_accuracy: 1.0000 - loss: 1.3742e-06 - val_categorical_accuracy: 1.0000 - val_loss: 1.6982e-06\n",
      "Epoch 445/500\n",
      "\u001b[1m8/8\u001b[0m \u001b[32m━━━━━━━━━━━━━━━━━━━━\u001b[0m\u001b[37m\u001b[0m \u001b[1m0s\u001b[0m 55ms/step - categorical_accuracy: 1.0000 - loss: 1.3649e-06 - val_categorical_accuracy: 1.0000 - val_loss: 1.6877e-06\n",
      "Epoch 446/500\n",
      "\u001b[1m8/8\u001b[0m \u001b[32m━━━━━━━━━━━━━━━━━━━━\u001b[0m\u001b[37m\u001b[0m \u001b[1m0s\u001b[0m 54ms/step - categorical_accuracy: 1.0000 - loss: 1.3553e-06 - val_categorical_accuracy: 1.0000 - val_loss: 1.6794e-06\n",
      "Epoch 447/500\n",
      "\u001b[1m8/8\u001b[0m \u001b[32m━━━━━━━━━━━━━━━━━━━━\u001b[0m\u001b[37m\u001b[0m \u001b[1m1s\u001b[0m 61ms/step - categorical_accuracy: 1.0000 - loss: 1.3439e-06 - val_categorical_accuracy: 1.0000 - val_loss: 1.6731e-06\n",
      "Epoch 448/500\n",
      "\u001b[1m8/8\u001b[0m \u001b[32m━━━━━━━━━━━━━━━━━━━━\u001b[0m\u001b[37m\u001b[0m \u001b[1m0s\u001b[0m 57ms/step - categorical_accuracy: 1.0000 - loss: 1.3356e-06 - val_categorical_accuracy: 1.0000 - val_loss: 1.6626e-06\n",
      "Epoch 449/500\n",
      "\u001b[1m8/8\u001b[0m \u001b[32m━━━━━━━━━━━━━━━━━━━━\u001b[0m\u001b[37m\u001b[0m \u001b[1m0s\u001b[0m 50ms/step - categorical_accuracy: 1.0000 - loss: 1.3274e-06 - val_categorical_accuracy: 1.0000 - val_loss: 1.6543e-06\n",
      "Epoch 450/500\n",
      "\u001b[1m8/8\u001b[0m \u001b[32m━━━━━━━━━━━━━━━━━━━━\u001b[0m\u001b[37m\u001b[0m \u001b[1m0s\u001b[0m 53ms/step - categorical_accuracy: 1.0000 - loss: 1.3174e-06 - val_categorical_accuracy: 1.0000 - val_loss: 1.6438e-06\n",
      "Epoch 451/500\n",
      "\u001b[1m8/8\u001b[0m \u001b[32m━━━━━━━━━━━━━━━━━━━━\u001b[0m\u001b[37m\u001b[0m \u001b[1m0s\u001b[0m 51ms/step - categorical_accuracy: 1.0000 - loss: 1.3085e-06 - val_categorical_accuracy: 1.0000 - val_loss: 1.6354e-06\n",
      "Epoch 452/500\n",
      "\u001b[1m8/8\u001b[0m \u001b[32m━━━━━━━━━━━━━━━━━━━━\u001b[0m\u001b[37m\u001b[0m \u001b[1m0s\u001b[0m 51ms/step - categorical_accuracy: 1.0000 - loss: 1.2984e-06 - val_categorical_accuracy: 1.0000 - val_loss: 1.6271e-06\n",
      "Epoch 453/500\n",
      "\u001b[1m8/8\u001b[0m \u001b[32m━━━━━━━━━━━━━━━━━━━━\u001b[0m\u001b[37m\u001b[0m \u001b[1m0s\u001b[0m 51ms/step - categorical_accuracy: 1.0000 - loss: 1.2891e-06 - val_categorical_accuracy: 1.0000 - val_loss: 1.6187e-06\n",
      "Epoch 454/500\n",
      "\u001b[1m8/8\u001b[0m \u001b[32m━━━━━━━━━━━━━━━━━━━━\u001b[0m\u001b[37m\u001b[0m \u001b[1m0s\u001b[0m 53ms/step - categorical_accuracy: 1.0000 - loss: 1.2810e-06 - val_categorical_accuracy: 1.0000 - val_loss: 1.6124e-06\n",
      "Epoch 455/500\n",
      "\u001b[1m8/8\u001b[0m \u001b[32m━━━━━━━━━━━━━━━━━━━━\u001b[0m\u001b[37m\u001b[0m \u001b[1m0s\u001b[0m 48ms/step - categorical_accuracy: 1.0000 - loss: 1.2720e-06 - val_categorical_accuracy: 1.0000 - val_loss: 1.6041e-06\n",
      "Epoch 456/500\n",
      "\u001b[1m8/8\u001b[0m \u001b[32m━━━━━━━━━━━━━━━━━━━━\u001b[0m\u001b[37m\u001b[0m \u001b[1m0s\u001b[0m 48ms/step - categorical_accuracy: 1.0000 - loss: 1.2625e-06 - val_categorical_accuracy: 1.0000 - val_loss: 1.5936e-06\n",
      "Epoch 457/500\n",
      "\u001b[1m8/8\u001b[0m \u001b[32m━━━━━━━━━━━━━━━━━━━━\u001b[0m\u001b[37m\u001b[0m \u001b[1m0s\u001b[0m 49ms/step - categorical_accuracy: 1.0000 - loss: 1.2544e-06 - val_categorical_accuracy: 1.0000 - val_loss: 1.5832e-06\n",
      "Epoch 458/500\n",
      "\u001b[1m8/8\u001b[0m \u001b[32m━━━━━━━━━━━━━━━━━━━━\u001b[0m\u001b[37m\u001b[0m \u001b[1m0s\u001b[0m 56ms/step - categorical_accuracy: 1.0000 - loss: 1.2468e-06 - val_categorical_accuracy: 1.0000 - val_loss: 1.5748e-06\n",
      "Epoch 459/500\n",
      "\u001b[1m8/8\u001b[0m \u001b[32m━━━━━━━━━━━━━━━━━━━━\u001b[0m\u001b[37m\u001b[0m \u001b[1m0s\u001b[0m 47ms/step - categorical_accuracy: 1.0000 - loss: 1.2372e-06 - val_categorical_accuracy: 1.0000 - val_loss: 1.5664e-06\n",
      "Epoch 460/500\n",
      "\u001b[1m8/8\u001b[0m \u001b[32m━━━━━━━━━━━━━━━━━━━━\u001b[0m\u001b[37m\u001b[0m \u001b[1m0s\u001b[0m 49ms/step - categorical_accuracy: 1.0000 - loss: 1.2293e-06 - val_categorical_accuracy: 1.0000 - val_loss: 1.5602e-06\n",
      "Epoch 461/500\n",
      "\u001b[1m8/8\u001b[0m \u001b[32m━━━━━━━━━━━━━━━━━━━━\u001b[0m\u001b[37m\u001b[0m \u001b[1m0s\u001b[0m 48ms/step - categorical_accuracy: 1.0000 - loss: 1.2193e-06 - val_categorical_accuracy: 1.0000 - val_loss: 1.5518e-06\n",
      "Epoch 462/500\n",
      "\u001b[1m8/8\u001b[0m \u001b[32m━━━━━━━━━━━━━━━━━━━━\u001b[0m\u001b[37m\u001b[0m \u001b[1m0s\u001b[0m 50ms/step - categorical_accuracy: 1.0000 - loss: 1.2106e-06 - val_categorical_accuracy: 1.0000 - val_loss: 1.5455e-06\n",
      "Epoch 463/500\n",
      "\u001b[1m8/8\u001b[0m \u001b[32m━━━━━━━━━━━━━━━━━━━━\u001b[0m\u001b[37m\u001b[0m \u001b[1m0s\u001b[0m 48ms/step - categorical_accuracy: 1.0000 - loss: 1.2044e-06 - val_categorical_accuracy: 1.0000 - val_loss: 1.5371e-06\n",
      "Epoch 464/500\n",
      "\u001b[1m8/8\u001b[0m \u001b[32m━━━━━━━━━━━━━━━━━━━━\u001b[0m\u001b[37m\u001b[0m \u001b[1m0s\u001b[0m 47ms/step - categorical_accuracy: 1.0000 - loss: 1.1982e-06 - val_categorical_accuracy: 1.0000 - val_loss: 1.5267e-06\n",
      "Epoch 465/500\n",
      "\u001b[1m8/8\u001b[0m \u001b[32m━━━━━━━━━━━━━━━━━━━━\u001b[0m\u001b[37m\u001b[0m \u001b[1m0s\u001b[0m 47ms/step - categorical_accuracy: 1.0000 - loss: 1.1888e-06 - val_categorical_accuracy: 1.0000 - val_loss: 1.5183e-06\n",
      "Epoch 466/500\n",
      "\u001b[1m8/8\u001b[0m \u001b[32m━━━━━━━━━━━━━━━━━━━━\u001b[0m\u001b[37m\u001b[0m \u001b[1m0s\u001b[0m 47ms/step - categorical_accuracy: 1.0000 - loss: 1.1800e-06 - val_categorical_accuracy: 1.0000 - val_loss: 1.5121e-06\n",
      "Epoch 467/500\n",
      "\u001b[1m8/8\u001b[0m \u001b[32m━━━━━━━━━━━━━━━━━━━━\u001b[0m\u001b[37m\u001b[0m \u001b[1m0s\u001b[0m 46ms/step - categorical_accuracy: 1.0000 - loss: 1.1739e-06 - val_categorical_accuracy: 1.0000 - val_loss: 1.5058e-06\n",
      "Epoch 468/500\n",
      "\u001b[1m8/8\u001b[0m \u001b[32m━━━━━━━━━━━━━━━━━━━━\u001b[0m\u001b[37m\u001b[0m \u001b[1m0s\u001b[0m 47ms/step - categorical_accuracy: 1.0000 - loss: 1.1663e-06 - val_categorical_accuracy: 1.0000 - val_loss: 1.4974e-06\n",
      "Epoch 469/500\n",
      "\u001b[1m8/8\u001b[0m \u001b[32m━━━━━━━━━━━━━━━━━━━━\u001b[0m\u001b[37m\u001b[0m \u001b[1m0s\u001b[0m 48ms/step - categorical_accuracy: 1.0000 - loss: 1.1585e-06 - val_categorical_accuracy: 1.0000 - val_loss: 1.4911e-06\n",
      "Epoch 470/500\n",
      "\u001b[1m8/8\u001b[0m \u001b[32m━━━━━━━━━━━━━━━━━━━━\u001b[0m\u001b[37m\u001b[0m \u001b[1m0s\u001b[0m 48ms/step - categorical_accuracy: 1.0000 - loss: 1.1480e-06 - val_categorical_accuracy: 1.0000 - val_loss: 1.4765e-06\n",
      "Epoch 471/500\n",
      "\u001b[1m8/8\u001b[0m \u001b[32m━━━━━━━━━━━━━━━━━━━━\u001b[0m\u001b[37m\u001b[0m \u001b[1m0s\u001b[0m 59ms/step - categorical_accuracy: 1.0000 - loss: 1.1412e-06 - val_categorical_accuracy: 1.0000 - val_loss: 1.4702e-06\n",
      "Epoch 472/500\n",
      "\u001b[1m8/8\u001b[0m \u001b[32m━━━━━━━━━━━━━━━━━━━━\u001b[0m\u001b[37m\u001b[0m \u001b[1m0s\u001b[0m 54ms/step - categorical_accuracy: 1.0000 - loss: 1.1341e-06 - val_categorical_accuracy: 1.0000 - val_loss: 1.4598e-06\n",
      "Epoch 473/500\n",
      "\u001b[1m8/8\u001b[0m \u001b[32m━━━━━━━━━━━━━━━━━━━━\u001b[0m\u001b[37m\u001b[0m \u001b[1m0s\u001b[0m 47ms/step - categorical_accuracy: 1.0000 - loss: 1.1288e-06 - val_categorical_accuracy: 1.0000 - val_loss: 1.4514e-06\n",
      "Epoch 474/500\n",
      "\u001b[1m8/8\u001b[0m \u001b[32m━━━━━━━━━━━━━━━━━━━━\u001b[0m\u001b[37m\u001b[0m \u001b[1m0s\u001b[0m 46ms/step - categorical_accuracy: 1.0000 - loss: 1.1213e-06 - val_categorical_accuracy: 1.0000 - val_loss: 1.4430e-06\n",
      "Epoch 475/500\n",
      "\u001b[1m8/8\u001b[0m \u001b[32m━━━━━━━━━━━━━━━━━━━━\u001b[0m\u001b[37m\u001b[0m \u001b[1m0s\u001b[0m 46ms/step - categorical_accuracy: 1.0000 - loss: 1.1151e-06 - val_categorical_accuracy: 1.0000 - val_loss: 1.4347e-06\n",
      "Epoch 476/500\n",
      "\u001b[1m8/8\u001b[0m \u001b[32m━━━━━━━━━━━━━━━━━━━━\u001b[0m\u001b[37m\u001b[0m \u001b[1m0s\u001b[0m 47ms/step - categorical_accuracy: 1.0000 - loss: 1.1104e-06 - val_categorical_accuracy: 1.0000 - val_loss: 1.4284e-06\n",
      "Epoch 477/500\n",
      "\u001b[1m8/8\u001b[0m \u001b[32m━━━━━━━━━━━━━━━━━━━━\u001b[0m\u001b[37m\u001b[0m \u001b[1m0s\u001b[0m 47ms/step - categorical_accuracy: 1.0000 - loss: 1.1008e-06 - val_categorical_accuracy: 1.0000 - val_loss: 1.4200e-06\n",
      "Epoch 478/500\n",
      "\u001b[1m8/8\u001b[0m \u001b[32m━━━━━━━━━━━━━━━━━━━━\u001b[0m\u001b[37m\u001b[0m \u001b[1m0s\u001b[0m 47ms/step - categorical_accuracy: 1.0000 - loss: 1.0958e-06 - val_categorical_accuracy: 1.0000 - val_loss: 1.4117e-06\n",
      "Epoch 479/500\n",
      "\u001b[1m8/8\u001b[0m \u001b[32m━━━━━━━━━━━━━━━━━━━━\u001b[0m\u001b[37m\u001b[0m \u001b[1m0s\u001b[0m 47ms/step - categorical_accuracy: 1.0000 - loss: 1.0881e-06 - val_categorical_accuracy: 1.0000 - val_loss: 1.4033e-06\n",
      "Epoch 480/500\n",
      "\u001b[1m8/8\u001b[0m \u001b[32m━━━━━━━━━━━━━━━━━━━━\u001b[0m\u001b[37m\u001b[0m \u001b[1m0s\u001b[0m 47ms/step - categorical_accuracy: 1.0000 - loss: 1.0809e-06 - val_categorical_accuracy: 1.0000 - val_loss: 1.3991e-06\n",
      "Epoch 481/500\n",
      "\u001b[1m8/8\u001b[0m \u001b[32m━━━━━━━━━━━━━━━━━━━━\u001b[0m\u001b[37m\u001b[0m \u001b[1m0s\u001b[0m 47ms/step - categorical_accuracy: 1.0000 - loss: 1.0738e-06 - val_categorical_accuracy: 1.0000 - val_loss: 1.3928e-06\n",
      "Epoch 482/500\n",
      "\u001b[1m8/8\u001b[0m \u001b[32m━━━━━━━━━━━━━━━━━━━━\u001b[0m\u001b[37m\u001b[0m \u001b[1m0s\u001b[0m 47ms/step - categorical_accuracy: 1.0000 - loss: 1.0690e-06 - val_categorical_accuracy: 1.0000 - val_loss: 1.3866e-06\n",
      "Epoch 483/500\n",
      "\u001b[1m8/8\u001b[0m \u001b[32m━━━━━━━━━━━━━━━━━━━━\u001b[0m\u001b[37m\u001b[0m \u001b[1m0s\u001b[0m 47ms/step - categorical_accuracy: 1.0000 - loss: 1.0615e-06 - val_categorical_accuracy: 1.0000 - val_loss: 1.3803e-06\n",
      "Epoch 484/500\n",
      "\u001b[1m8/8\u001b[0m \u001b[32m━━━━━━━━━━━━━━━━━━━━\u001b[0m\u001b[37m\u001b[0m \u001b[1m0s\u001b[0m 49ms/step - categorical_accuracy: 1.0000 - loss: 1.0555e-06 - val_categorical_accuracy: 1.0000 - val_loss: 1.3719e-06\n",
      "Epoch 485/500\n",
      "\u001b[1m8/8\u001b[0m \u001b[32m━━━━━━━━━━━━━━━━━━━━\u001b[0m\u001b[37m\u001b[0m \u001b[1m0s\u001b[0m 46ms/step - categorical_accuracy: 1.0000 - loss: 1.0483e-06 - val_categorical_accuracy: 1.0000 - val_loss: 1.3636e-06\n",
      "Epoch 486/500\n",
      "\u001b[1m8/8\u001b[0m \u001b[32m━━━━━━━━━━━━━━━━━━━━\u001b[0m\u001b[37m\u001b[0m \u001b[1m0s\u001b[0m 46ms/step - categorical_accuracy: 1.0000 - loss: 1.0428e-06 - val_categorical_accuracy: 1.0000 - val_loss: 1.3531e-06\n",
      "Epoch 487/500\n",
      "\u001b[1m8/8\u001b[0m \u001b[32m━━━━━━━━━━━━━━━━━━━━\u001b[0m\u001b[37m\u001b[0m \u001b[1m0s\u001b[0m 47ms/step - categorical_accuracy: 1.0000 - loss: 1.0358e-06 - val_categorical_accuracy: 1.0000 - val_loss: 1.3489e-06\n",
      "Epoch 488/500\n",
      "\u001b[1m8/8\u001b[0m \u001b[32m━━━━━━━━━━━━━━━━━━━━\u001b[0m\u001b[37m\u001b[0m \u001b[1m0s\u001b[0m 46ms/step - categorical_accuracy: 1.0000 - loss: 1.0275e-06 - val_categorical_accuracy: 1.0000 - val_loss: 1.3427e-06\n",
      "Epoch 489/500\n",
      "\u001b[1m8/8\u001b[0m \u001b[32m━━━━━━━━━━━━━━━━━━━━\u001b[0m\u001b[37m\u001b[0m \u001b[1m0s\u001b[0m 47ms/step - categorical_accuracy: 1.0000 - loss: 1.0200e-06 - val_categorical_accuracy: 1.0000 - val_loss: 1.3364e-06\n",
      "Epoch 490/500\n",
      "\u001b[1m8/8\u001b[0m \u001b[32m━━━━━━━━━━━━━━━━━━━━\u001b[0m\u001b[37m\u001b[0m \u001b[1m0s\u001b[0m 53ms/step - categorical_accuracy: 1.0000 - loss: 1.0137e-06 - val_categorical_accuracy: 1.0000 - val_loss: 1.3301e-06\n",
      "Epoch 491/500\n",
      "\u001b[1m8/8\u001b[0m \u001b[32m━━━━━━━━━━━━━━━━━━━━\u001b[0m\u001b[37m\u001b[0m \u001b[1m0s\u001b[0m 51ms/step - categorical_accuracy: 1.0000 - loss: 1.0052e-06 - val_categorical_accuracy: 1.0000 - val_loss: 1.3259e-06\n",
      "Epoch 492/500\n",
      "\u001b[1m8/8\u001b[0m \u001b[32m━━━━━━━━━━━━━━━━━━━━\u001b[0m\u001b[37m\u001b[0m \u001b[1m1s\u001b[0m 62ms/step - categorical_accuracy: 1.0000 - loss: 9.9996e-07 - val_categorical_accuracy: 1.0000 - val_loss: 1.3217e-06\n",
      "Epoch 493/500\n",
      "\u001b[1m8/8\u001b[0m \u001b[32m━━━━━━━━━━━━━━━━━━━━\u001b[0m\u001b[37m\u001b[0m \u001b[1m0s\u001b[0m 52ms/step - categorical_accuracy: 1.0000 - loss: 9.9274e-07 - val_categorical_accuracy: 1.0000 - val_loss: 1.3134e-06\n",
      "Epoch 494/500\n",
      "\u001b[1m8/8\u001b[0m \u001b[32m━━━━━━━━━━━━━━━━━━━━\u001b[0m\u001b[37m\u001b[0m \u001b[1m0s\u001b[0m 53ms/step - categorical_accuracy: 1.0000 - loss: 9.8572e-07 - val_categorical_accuracy: 1.0000 - val_loss: 1.3071e-06\n",
      "Epoch 495/500\n",
      "\u001b[1m8/8\u001b[0m \u001b[32m━━━━━━━━━━━━━━━━━━━━\u001b[0m\u001b[37m\u001b[0m \u001b[1m0s\u001b[0m 60ms/step - categorical_accuracy: 1.0000 - loss: 9.8003e-07 - val_categorical_accuracy: 1.0000 - val_loss: 1.3008e-06\n",
      "Epoch 496/500\n",
      "\u001b[1m8/8\u001b[0m \u001b[32m━━━━━━━━━━━━━━━━━━━━\u001b[0m\u001b[37m\u001b[0m \u001b[1m0s\u001b[0m 48ms/step - categorical_accuracy: 1.0000 - loss: 9.7461e-07 - val_categorical_accuracy: 1.0000 - val_loss: 1.2946e-06\n",
      "Epoch 497/500\n",
      "\u001b[1m8/8\u001b[0m \u001b[32m━━━━━━━━━━━━━━━━━━━━\u001b[0m\u001b[37m\u001b[0m \u001b[1m0s\u001b[0m 48ms/step - categorical_accuracy: 1.0000 - loss: 9.6778e-07 - val_categorical_accuracy: 1.0000 - val_loss: 1.2841e-06\n",
      "Epoch 498/500\n",
      "\u001b[1m8/8\u001b[0m \u001b[32m━━━━━━━━━━━━━━━━━━━━\u001b[0m\u001b[37m\u001b[0m \u001b[1m0s\u001b[0m 47ms/step - categorical_accuracy: 1.0000 - loss: 9.6039e-07 - val_categorical_accuracy: 1.0000 - val_loss: 1.2799e-06\n",
      "Epoch 499/500\n",
      "\u001b[1m8/8\u001b[0m \u001b[32m━━━━━━━━━━━━━━━━━━━━\u001b[0m\u001b[37m\u001b[0m \u001b[1m0s\u001b[0m 50ms/step - categorical_accuracy: 1.0000 - loss: 9.5513e-07 - val_categorical_accuracy: 1.0000 - val_loss: 1.2757e-06\n",
      "Epoch 500/500\n",
      "\u001b[1m8/8\u001b[0m \u001b[32m━━━━━━━━━━━━━━━━━━━━\u001b[0m\u001b[37m\u001b[0m \u001b[1m0s\u001b[0m 46ms/step - categorical_accuracy: 1.0000 - loss: 9.5054e-07 - val_categorical_accuracy: 1.0000 - val_loss: 1.2674e-06\n"
     ]
    }
   ],
   "source": [
    "LSTM_model_history = LSTM_model.fit(X_train , y_train , epochs = 500 , validation_split= 0.2)"
   ]
  },
  {
   "cell_type": "markdown",
   "metadata": {},
   "source": [
    "Visualizing the outcomes"
   ]
  },
  {
   "cell_type": "code",
   "execution_count": 48,
   "metadata": {},
   "outputs": [
    {
     "data": {
      "text/plain": [
       "<matplotlib.legend.Legend at 0x1b9882b44d0>"
      ]
     },
     "execution_count": 48,
     "metadata": {},
     "output_type": "execute_result"
    },
    {
     "data": {
      "image/png": "[encoded data removed]",
      "text/plain": [
       "<Figure size 640x480 with 1 Axes>"
      ]
     },
     "metadata": {},
     "output_type": "display_data"
    }
   ],
   "source": [
    "plt.plot(LSTM_model_history.history['categorical_accuracy'] , label = 'training accuracy')\n",
    "plt.plot(LSTM_model_history.history['val_categorical_accuracy'] , label = 'Validation accuracy')\n",
    "plt.legend(loc ='lower right')"
   ]
  },
  {
   "cell_type": "code",
   "execution_count": 49,
   "metadata": {},
   "outputs": [
    {
     "data": {
      "text/plain": [
       "<matplotlib.legend.Legend at 0x1b910d7cd10>"
      ]
     },
     "execution_count": 49,
     "metadata": {},
     "output_type": "execute_result"
    },
    {
     "data": {
      "image/png": "[encoded data removed]",
      "text/plain": [
       "<Figure size 640x480 with 1 Axes>"
      ]
     },
     "metadata": {},
     "output_type": "display_data"
    }
   ],
   "source": [
    "plt.plot(LSTM_model_history.history['loss'] , label = 'Training Loss')\n",
    "plt.plot(LSTM_model_history.history['val_loss'] , label = 'Validation Loss')\n",
    "plt.legend(loc = 'upper right')"
   ]
  },
  {
   "cell_type": "code",
   "execution_count": 50,
   "metadata": {},
   "outputs": [
    {
     "name": "stdout",
     "output_type": "stream",
     "text": [
      "\u001b[1m1/1\u001b[0m \u001b[32m━━━━━━━━━━━━━━━━━━━━\u001b[0m\u001b[37m\u001b[0m \u001b[1m0s\u001b[0m 43ms/step - categorical_accuracy: 1.0000 - loss: 3.8147e-07\n"
     ]
    },
    {
     "data": {
      "text/plain": [
       "[3.814694480297476e-07, 1.0]"
      ]
     },
     "execution_count": 50,
     "metadata": {},
     "output_type": "execute_result"
    }
   ],
   "source": [
    "LSTM_model.evaluate(X_test , y_test , verbose = 1)"
   ]
  },
  {
   "cell_type": "markdown",
   "metadata": {},
   "source": [
    "#### 3. Predicting Results"
   ]
  },
  {
   "cell_type": "code",
   "execution_count": 51,
   "metadata": {},
   "outputs": [
    {
     "name": "stdout",
     "output_type": "stream",
     "text": [
      "\u001b[1m1/1\u001b[0m \u001b[32m━━━━━━━━━━━━━━━━━━━━\u001b[0m\u001b[37m\u001b[0m \u001b[1m0s\u001b[0m 287ms/step\n"
     ]
    }
   ],
   "source": [
    "predictions = LSTM_model.predict(X_test)"
   ]
  },
  {
   "cell_type": "code",
   "execution_count": 52,
   "metadata": {},
   "outputs": [
    {
     "data": {
      "text/plain": [
       "array([4.053888e-17, 1.000000e+00, 4.534054e-10], dtype=float32)"
      ]
     },
     "execution_count": 52,
     "metadata": {},
     "output_type": "execute_result"
    }
   ],
   "source": [
    "predictions[0]"
   ]
  },
  {
   "cell_type": "code",
   "execution_count": 53,
   "metadata": {},
   "outputs": [
    {
     "data": {
      "text/plain": [
       "'thankyou'"
      ]
     },
     "execution_count": 53,
     "metadata": {},
     "output_type": "execute_result"
    }
   ],
   "source": [
    "actions[np.argmax(predictions[0])]"
   ]
  },
  {
   "cell_type": "code",
   "execution_count": 54,
   "metadata": {},
   "outputs": [
    {
     "data": {
      "text/plain": [
       "'thankyou'"
      ]
     },
     "execution_count": 54,
     "metadata": {},
     "output_type": "execute_result"
    }
   ],
   "source": [
    "actions[np.argmax(y_test[0])]"
   ]
  },
  {
   "cell_type": "code",
   "execution_count": 55,
   "metadata": {},
   "outputs": [],
   "source": [
    "results , actual = [] , []\n",
    "\n",
    "for result in predictions:\n",
    "  \n",
    "  outcome = actions[np.argmax(result)]\n",
    "\n",
    "  results.append(outcome)\n",
    "  \n",
    "\n",
    "for i in range(len(y_test)):\n",
    "\n",
    "  act_out = actions[np.argmax(y_test[i])] \n",
    "\n",
    "  actual.append(act_out)\n"
   ]
  },
  {
   "cell_type": "code",
   "execution_count": 56,
   "metadata": {},
   "outputs": [
    {
     "data": {
      "text/plain": [
       "['thankyou',\n",
       " 'hello',\n",
       " 'thankyou',\n",
       " 'thankyou',\n",
       " 'iloveyou',\n",
       " 'iloveyou',\n",
       " 'iloveyou',\n",
       " 'thankyou',\n",
       " 'thankyou',\n",
       " 'iloveyou',\n",
       " 'hello',\n",
       " 'thankyou',\n",
       " 'thankyou',\n",
       " 'thankyou',\n",
       " 'hello']"
      ]
     },
     "execution_count": 56,
     "metadata": {},
     "output_type": "execute_result"
    }
   ],
   "source": [
    "results"
   ]
  },
  {
   "cell_type": "code",
   "execution_count": 57,
   "metadata": {},
   "outputs": [
    {
     "data": {
      "text/plain": [
       "['thankyou',\n",
       " 'hello',\n",
       " 'thankyou',\n",
       " 'thankyou',\n",
       " 'iloveyou',\n",
       " 'iloveyou',\n",
       " 'iloveyou',\n",
       " 'thankyou',\n",
       " 'thankyou',\n",
       " 'iloveyou',\n",
       " 'hello',\n",
       " 'thankyou',\n",
       " 'thankyou',\n",
       " 'thankyou',\n",
       " 'hello']"
      ]
     },
     "execution_count": 57,
     "metadata": {},
     "output_type": "execute_result"
    }
   ],
   "source": [
    "actual"
   ]
  },
  {
   "cell_type": "code",
   "execution_count": 58,
   "metadata": {},
   "outputs": [
    {
     "data": {
      "text/plain": [
       "list"
      ]
     },
     "execution_count": 58,
     "metadata": {},
     "output_type": "execute_result"
    }
   ],
   "source": [
    "type(results)"
   ]
  },
  {
   "cell_type": "code",
   "execution_count": 62,
   "metadata": {},
   "outputs": [],
   "source": [
    "comparision_df = pd.DataFrame({'y_true' : actual , 'y_pred': results})"
   ]
  },
  {
   "cell_type": "code",
   "execution_count": 63,
   "metadata": {},
   "outputs": [
    {
     "data": {
      "text/html": [
       "<div>\n",
       "<style scoped>\n",
       "    .dataframe tbody tr th:only-of-type {\n",
       "        vertical-align: middle;\n",
       "    }\n",
       "\n",
       "    .dataframe tbody tr th {\n",
       "        vertical-align: top;\n",
       "    }\n",
       "\n",
       "    .dataframe thead th {\n",
       "        text-align: right;\n",
       "    }\n",
       "</style>\n",
       "<table border=\"1\" class=\"dataframe\">\n",
       "  <thead>\n",
       "    <tr style=\"text-align: right;\">\n",
       "      <th></th>\n",
       "      <th>y_true</th>\n",
       "      <th>y_pred</th>\n",
       "    </tr>\n",
       "  </thead>\n",
       "  <tbody>\n",
       "    <tr>\n",
       "      <th>0</th>\n",
       "      <td>thankyou</td>\n",
       "      <td>thankyou</td>\n",
       "    </tr>\n",
       "    <tr>\n",
       "      <th>1</th>\n",
       "      <td>hello</td>\n",
       "      <td>hello</td>\n",
       "    </tr>\n",
       "    <tr>\n",
       "      <th>2</th>\n",
       "      <td>thankyou</td>\n",
       "      <td>thankyou</td>\n",
       "    </tr>\n",
       "    <tr>\n",
       "      <th>3</th>\n",
       "      <td>thankyou</td>\n",
       "      <td>thankyou</td>\n",
       "    </tr>\n",
       "    <tr>\n",
       "      <th>4</th>\n",
       "      <td>iloveyou</td>\n",
       "      <td>iloveyou</td>\n",
       "    </tr>\n",
       "    <tr>\n",
       "      <th>5</th>\n",
       "      <td>iloveyou</td>\n",
       "      <td>iloveyou</td>\n",
       "    </tr>\n",
       "    <tr>\n",
       "      <th>6</th>\n",
       "      <td>iloveyou</td>\n",
       "      <td>iloveyou</td>\n",
       "    </tr>\n",
       "    <tr>\n",
       "      <th>7</th>\n",
       "      <td>thankyou</td>\n",
       "      <td>thankyou</td>\n",
       "    </tr>\n",
       "    <tr>\n",
       "      <th>8</th>\n",
       "      <td>thankyou</td>\n",
       "      <td>thankyou</td>\n",
       "    </tr>\n",
       "    <tr>\n",
       "      <th>9</th>\n",
       "      <td>iloveyou</td>\n",
       "      <td>iloveyou</td>\n",
       "    </tr>\n",
       "    <tr>\n",
       "      <th>10</th>\n",
       "      <td>hello</td>\n",
       "      <td>hello</td>\n",
       "    </tr>\n",
       "    <tr>\n",
       "      <th>11</th>\n",
       "      <td>thankyou</td>\n",
       "      <td>thankyou</td>\n",
       "    </tr>\n",
       "    <tr>\n",
       "      <th>12</th>\n",
       "      <td>thankyou</td>\n",
       "      <td>thankyou</td>\n",
       "    </tr>\n",
       "    <tr>\n",
       "      <th>13</th>\n",
       "      <td>thankyou</td>\n",
       "      <td>thankyou</td>\n",
       "    </tr>\n",
       "    <tr>\n",
       "      <th>14</th>\n",
       "      <td>hello</td>\n",
       "      <td>hello</td>\n",
       "    </tr>\n",
       "  </tbody>\n",
       "</table>\n",
       "</div>"
      ],
      "text/plain": [
       "      y_true    y_pred\n",
       "0   thankyou  thankyou\n",
       "1      hello     hello\n",
       "2   thankyou  thankyou\n",
       "3   thankyou  thankyou\n",
       "4   iloveyou  iloveyou\n",
       "5   iloveyou  iloveyou\n",
       "6   iloveyou  iloveyou\n",
       "7   thankyou  thankyou\n",
       "8   thankyou  thankyou\n",
       "9   iloveyou  iloveyou\n",
       "10     hello     hello\n",
       "11  thankyou  thankyou\n",
       "12  thankyou  thankyou\n",
       "13  thankyou  thankyou\n",
       "14     hello     hello"
      ]
     },
     "execution_count": 63,
     "metadata": {},
     "output_type": "execute_result"
    }
   ],
   "source": [
    "comparision_df"
   ]
  },
  {
   "cell_type": "markdown",
   "metadata": {},
   "source": [
    "#### 4. Saving the model Weights"
   ]
  },
  {
   "cell_type": "code",
   "execution_count": 66,
   "metadata": {},
   "outputs": [],
   "source": [
    "with open('LSTM_model' , 'wb') as file:\n",
    "  pickle.dump(LSTM_model , file)"
   ]
  },
  {
   "cell_type": "markdown",
   "metadata": {},
   "source": [
    "#### 5.Evaluation using Confusion Matrix and accuracy"
   ]
  },
  {
   "cell_type": "code",
   "execution_count": 86,
   "metadata": {},
   "outputs": [
    {
     "name": "stdout",
     "output_type": "stream",
     "text": [
      "\u001b[1m1/1\u001b[0m \u001b[32m━━━━━━━━━━━━━━━━━━━━\u001b[0m\u001b[37m\u001b[0m \u001b[1m0s\u001b[0m 29ms/step\n"
     ]
    }
   ],
   "source": [
    "y_hat = LSTM_model.predict(X_test)"
   ]
  },
  {
   "cell_type": "code",
   "execution_count": 87,
   "metadata": {},
   "outputs": [
    {
     "data": {
      "text/plain": [
       "array([[4.0538881e-17, 1.0000000e+00, 4.5340540e-10],\n",
       "       [1.0000000e+00, 3.7686180e-33, 2.2697011e-24],\n",
       "       [4.4739082e-19, 1.0000000e+00, 1.1189851e-09],\n",
       "       [3.7478406e-20, 1.0000000e+00, 1.1702784e-08],\n",
       "       [2.4523897e-10, 6.9709847e-09, 1.0000000e+00],\n",
       "       [9.1841085e-10, 3.3152316e-09, 1.0000000e+00],\n",
       "       [1.4536185e-07, 1.5993656e-10, 9.9999988e-01],\n",
       "       [5.4713717e-10, 9.9999905e-01, 9.5344512e-07],\n",
       "       [1.8733500e-21, 1.0000000e+00, 5.1815267e-11],\n",
       "       [1.3151116e-06, 2.2924501e-11, 9.9999869e-01],\n",
       "       [1.0000000e+00, 1.8195046e-30, 8.7272831e-23],\n",
       "       [1.4989818e-18, 9.9999857e-01, 1.3725794e-06],\n",
       "       [5.2364304e-22, 1.0000000e+00, 2.0931878e-10],\n",
       "       [2.1822948e-18, 9.9999809e-01, 1.8882230e-06],\n",
       "       [1.0000000e+00, 3.9958764e-35, 8.2560395e-26]], dtype=float32)"
      ]
     },
     "execution_count": 87,
     "metadata": {},
     "output_type": "execute_result"
    }
   ],
   "source": [
    "y_hat"
   ]
  },
  {
   "cell_type": "code",
   "execution_count": 88,
   "metadata": {},
   "outputs": [],
   "source": [
    "y_hat =  np.argmax(y_hat , axis = 1).tolist()\n",
    "y_true = np.argmax(y_test , axis = 1).tolist()"
   ]
  },
  {
   "cell_type": "code",
   "execution_count": 90,
   "metadata": {},
   "outputs": [
    {
     "name": "stdout",
     "output_type": "stream",
     "text": [
      "[1, 0, 1, 1, 2, 2, 2, 1, 1, 2, 0, 1, 1, 1, 0]\n",
      "[1, 0, 1, 1, 2, 2, 2, 1, 1, 2, 0, 1, 1, 1, 0]\n"
     ]
    }
   ],
   "source": [
    "print(y_true)\n",
    "print(y_hat)"
   ]
  },
  {
   "cell_type": "code",
   "execution_count": 92,
   "metadata": {},
   "outputs": [
    {
     "data": {
      "text/plain": [
       "array([[[12,  0],\n",
       "        [ 0,  3]],\n",
       "\n",
       "       [[ 7,  0],\n",
       "        [ 0,  8]],\n",
       "\n",
       "       [[11,  0],\n",
       "        [ 0,  4]]], dtype=int64)"
      ]
     },
     "execution_count": 92,
     "metadata": {},
     "output_type": "execute_result"
    }
   ],
   "source": [
    "multilabel_confusion_matrix(y_true , y_hat)\n",
    "\n",
    "# This confusion matrix shows TP and TN for each and every class"
   ]
  },
  {
   "cell_type": "code",
   "execution_count": 93,
   "metadata": {},
   "outputs": [
    {
     "data": {
      "text/plain": [
       "1.0"
      ]
     },
     "execution_count": 93,
     "metadata": {},
     "output_type": "execute_result"
    }
   ],
   "source": [
    "accuracy_score(y_true , y_hat)"
   ]
  },
  {
   "cell_type": "code",
   "execution_count": null,
   "metadata": {},
   "outputs": [],
   "source": []
  }
 ],
 "metadata": {
  "kernelspec": {
   "display_name": "Python 3",
   "language": "python",
   "name": "python3"
  },
  "language_info": {
   "codemirror_mode": {
    "name": "ipython",
    "version": 3
   },
   "file_extension": ".py",
   "mimetype": "text/x-python",
   "name": "python",
   "nbconvert_exporter": "python",
   "pygments_lexer": "ipython3",
   "version": "3.12.5"
  }
 },
 "nbformat": 4,
 "nbformat_minor": 2
}
