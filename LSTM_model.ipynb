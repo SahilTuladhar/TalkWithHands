{
 "cells": [
  {
   "cell_type": "markdown",
   "metadata": {},
   "source": [
    "### Creating a LSTM Model"
   ]
  },
  {
   "cell_type": "code",
   "execution_count": 1,
   "metadata": {},
   "outputs": [],
   "source": [
    "from pymongo import MongoClient\n",
    "import numpy as np\n",
    "import os\n",
    "import random\n",
    "import tensorflow as tf\n",
    "import pandas as pd\n",
    "import pickle\n",
    "from tqdm import tqdm \n",
    "import matplotlib.pyplot as plt\n",
    "%matplotlib inline\n",
    "tqdm.pandas()"
   ]
  },
  {
   "cell_type": "code",
   "execution_count": 2,
   "metadata": {},
   "outputs": [],
   "source": [
    "from tensorflow.keras.models import Model , Sequential\n",
    "from tensorflow.keras.layers import LSTM , Dense , Flatten , Dropout , Input\n",
    "from tensorflow.keras.callbacks import TensorBoard , EarlyStopping"
   ]
  },
  {
   "cell_type": "code",
   "execution_count": 3,
   "metadata": {},
   "outputs": [],
   "source": [
    "\n",
    "from tensorflow.keras.utils import to_categorical\n",
    "from sklearn.model_selection import train_test_split\n",
    "from sklearn.metrics import multilabel_confusion_matrix , accuracy_score"
   ]
  },
  {
   "cell_type": "code",
   "execution_count": 4,
   "metadata": {},
   "outputs": [
    {
     "name": "stdout",
     "output_type": "stream",
     "text": [
      "c:\\Users\\Sahil\\AppData\\Local\\Programs\\Python\\Python312\\python.exe\n",
      "2.17.0\n",
      "0.10.18\n"
     ]
    }
   ],
   "source": [
    "from Create_dataset import actions"
   ]
  },
  {
   "cell_type": "code",
   "execution_count": 5,
   "metadata": {},
   "outputs": [],
   "source": [
    "# File Path to store the landmark data\n",
    "\n",
    "DATA_PATH = os.path.join(\"LANDMARK_DATA\")\n",
    "\n",
    "# Defining the actions \n",
    "\n",
    "actions = np.array(['hello' , 'thankyou' , 'iloveyou' , 'sorry' ,'A' , 'B' , 'C' , 'D' , 'E' , 'F'])\n",
    "# Defining the number of videos per action\n",
    "\n",
    "no_of_videos = 100\n",
    "\n",
    "# Defining the number of frames per video\n",
    "\n",
    "no_of_frames = 30"
   ]
  },
  {
   "cell_type": "code",
   "execution_count": 6,
   "metadata": {},
   "outputs": [],
   "source": [
    "\n",
    "# Creating Label Map \n",
    "\n",
    "label_map = {label:num for num , label in enumerate(actions)}"
   ]
  },
  {
   "cell_type": "code",
   "execution_count": 7,
   "metadata": {},
   "outputs": [
    {
     "data": {
      "text/plain": [
       "{'hello': 0,\n",
       " 'thankyou': 1,\n",
       " 'iloveyou': 2,\n",
       " 'sorry': 3,\n",
       " 'A': 4,\n",
       " 'B': 5,\n",
       " 'C': 6,\n",
       " 'D': 7,\n",
       " 'E': 8,\n",
       " 'F': 9}"
      ]
     },
     "execution_count": 7,
     "metadata": {},
     "output_type": "execute_result"
    }
   ],
   "source": [
    "label_map"
   ]
  },
  {
   "cell_type": "code",
   "execution_count": 8,
   "metadata": {},
   "outputs": [],
   "source": [
    "tf.random.set_seed(17)\n",
    "np.random.seed(17)\n",
    "random.seed(17)"
   ]
  },
  {
   "cell_type": "markdown",
   "metadata": {},
   "source": [
    "#### 1. Extracting Data from MongoDB"
   ]
  },
  {
   "cell_type": "code",
   "execution_count": 9,
   "metadata": {},
   "outputs": [],
   "source": [
    "connection = MongoClient('localhost' , 27017)\n",
    "db = connection['mydb']\n",
    "collection = db['Preprocessed_Landmark_Data']"
   ]
  },
  {
   "cell_type": "code",
   "execution_count": 10,
   "metadata": {},
   "outputs": [],
   "source": [
    "cursor = collection.find({})\n",
    "df = pd.DataFrame(list(cursor))"
   ]
  },
  {
   "cell_type": "code",
   "execution_count": 11,
   "metadata": {},
   "outputs": [
    {
     "name": "stderr",
     "output_type": "stream",
     "text": [
      "100%|██████████| 1600/1600 [00:14<00:00, 112.74it/s]\n"
     ]
    }
   ],
   "source": [
    "df['Landmarks'] = df['Landmarks'].progress_apply(lambda landmarks : [np.array(x) if isinstance(x , list) else x for x in landmarks])"
   ]
  },
  {
   "cell_type": "code",
   "execution_count": 12,
   "metadata": {},
   "outputs": [
    {
     "data": {
      "text/plain": [
       "[array([ 0.5282082 ,  0.69970912, -0.78407443, ...,  0.        ,\n",
       "         0.        ,  0.        ]),\n",
       " array([ 0.55254889,  0.63023722, -0.78952068, ...,  0.        ,\n",
       "         0.        ,  0.        ]),\n",
       " array([ 0.55559933,  0.61130732, -0.7708981 , ...,  0.        ,\n",
       "         0.        ,  0.        ]),\n",
       " array([ 0.56082523,  0.60821176, -0.77176523, ...,  0.        ,\n",
       "         0.        ,  0.        ]),\n",
       " array([ 0.56795919,  0.6058867 , -0.81826133, ...,  0.        ,\n",
       "         0.        ,  0.        ]),\n",
       " array([ 0.56992733,  0.60519606, -0.77989995, ...,  0.        ,\n",
       "         0.        ,  0.        ]),\n",
       " array([ 0.57354176,  0.60459828, -0.86566448, ...,  0.        ,\n",
       "         0.        ,  0.        ]),\n",
       " array([ 0.57485545,  0.60356939, -0.90603018, ...,  0.        ,\n",
       "         0.        ,  0.        ]),\n",
       " array([ 0.5737077 ,  0.60355467, -0.84255922, ...,  0.        ,\n",
       "         0.        ,  0.        ]),\n",
       " array([ 0.57421315,  0.60291201, -1.03197324, ...,  0.        ,\n",
       "         0.        ,  0.        ]),\n",
       " array([ 0.57612699,  0.59880996, -0.95076627, ...,  0.        ,\n",
       "         0.        ,  0.        ]),\n",
       " array([ 0.57765853,  0.59665817, -0.96124876, ...,  0.        ,\n",
       "         0.        ,  0.        ]),\n",
       " array([ 0.57946944,  0.59515929, -1.01350951, ...,  0.        ,\n",
       "         0.        ,  0.        ]),\n",
       " array([ 0.58123791,  0.59634674, -0.87142837, ...,  0.        ,\n",
       "         0.        ,  0.        ]),\n",
       " array([ 0.58245838,  0.59721482, -0.84090328, ...,  0.        ,\n",
       "         0.        ,  0.        ]),\n",
       " array([ 0.58302134,  0.59736323, -1.41158223, ...,  0.        ,\n",
       "         0.        ,  0.        ]),\n",
       " array([ 0.58308804,  0.59367764, -1.15769935, ...,  0.        ,\n",
       "         0.        ,  0.        ]),\n",
       " array([ 0.58543319,  0.59079015, -1.15255666, ...,  0.32469523,\n",
       "         0.53043759, -0.0604482 ]),\n",
       " array([ 0.59133387,  0.58822852, -1.1819073 , ...,  0.35877639,\n",
       "         0.44099116, -0.05839831]),\n",
       " array([ 0.59425759,  0.58687133, -1.22358322, ...,  0.35205361,\n",
       "         0.4496069 , -0.07346023]),\n",
       " array([ 0.59764898,  0.5858869 , -1.21802545, ...,  0.38095182,\n",
       "         0.38583922, -0.06434334]),\n",
       " array([ 0.60630673,  0.58276725, -1.53612745, ...,  0.42643964,\n",
       "         0.37336785, -0.05723398]),\n",
       " array([ 0.61234152,  0.58732921, -1.43537724, ...,  0.44587821,\n",
       "         0.38366035, -0.04207228]),\n",
       " array([ 0.61835557,  0.59006709, -1.60216904, ...,  0.46497464,\n",
       "         0.40168113, -0.02685432]),\n",
       " array([ 0.62424028,  0.59551674, -1.45537078, ...,  0.47581685,\n",
       "         0.40645689, -0.02828608]),\n",
       " array([ 0.62650144,  0.59644467, -1.40118027, ...,  0.47839987,\n",
       "         0.40769464, -0.02960931]),\n",
       " array([ 0.62759769,  0.59704441, -1.38639665, ...,  0.47750059,\n",
       "         0.40863937, -0.03259028]),\n",
       " array([ 0.62980717,  0.59732503, -1.28325009, ...,  0.47731709,\n",
       "         0.40780509, -0.02713273]),\n",
       " array([ 0.63064581,  0.59841526, -1.25939536, ...,  0.48286542,\n",
       "         0.40332043, -0.03363072]),\n",
       " array([ 0.62974828,  0.59842288, -1.20764422, ...,  0.44305485,\n",
       "         0.3869282 , -0.03627616])]"
      ]
     },
     "execution_count": 12,
     "metadata": {},
     "output_type": "execute_result"
    }
   ],
   "source": [
    "df['Landmarks'][0]"
   ]
  },
  {
   "cell_type": "code",
   "execution_count": 13,
   "metadata": {},
   "outputs": [],
   "source": [
    "X = np.array(df['Landmarks'].tolist())\n",
    "labels_list = (df['Labels'].tolist())\n",
    "y = to_categorical(labels_list).astype(int)\n"
   ]
  },
  {
   "cell_type": "code",
   "execution_count": 14,
   "metadata": {},
   "outputs": [
    {
     "data": {
      "text/plain": [
       "(1600, 30, 1662)"
      ]
     },
     "execution_count": 14,
     "metadata": {},
     "output_type": "execute_result"
    }
   ],
   "source": [
    "X.shape"
   ]
  },
  {
   "cell_type": "code",
   "execution_count": 15,
   "metadata": {},
   "outputs": [
    {
     "data": {
      "text/plain": [
       "(1600, 10)"
      ]
     },
     "execution_count": 15,
     "metadata": {},
     "output_type": "execute_result"
    }
   ],
   "source": [
    "y.shape"
   ]
  },
  {
   "cell_type": "code",
   "execution_count": 16,
   "metadata": {},
   "outputs": [
    {
     "data": {
      "text/plain": [
       "array([[[ 0.5282082 ,  0.69970912, -0.78407443, ...,  0.        ,\n",
       "          0.        ,  0.        ],\n",
       "        [ 0.55254889,  0.63023722, -0.78952068, ...,  0.        ,\n",
       "          0.        ,  0.        ],\n",
       "        [ 0.55559933,  0.61130732, -0.7708981 , ...,  0.        ,\n",
       "          0.        ,  0.        ],\n",
       "        ...,\n",
       "        [ 0.62980717,  0.59732503, -1.28325009, ...,  0.47731709,\n",
       "          0.40780509, -0.02713273],\n",
       "        [ 0.63064581,  0.59841526, -1.25939536, ...,  0.48286542,\n",
       "          0.40332043, -0.03363072],\n",
       "        [ 0.62974828,  0.59842288, -1.20764422, ...,  0.44305485,\n",
       "          0.3869282 , -0.03627616]],\n",
       "\n",
       "       [[ 0.62721896,  0.59237534, -1.21063435, ...,  0.39933065,\n",
       "          0.32641381, -0.06619024],\n",
       "        [ 0.62298107,  0.5921942 , -1.05823302, ...,  0.        ,\n",
       "          0.        ,  0.        ],\n",
       "        [ 0.62047112,  0.59255719, -1.09682631, ...,  0.        ,\n",
       "          0.        ,  0.        ],\n",
       "        ...,\n",
       "        [ 0.53934711,  0.60268617, -0.99255943, ...,  0.        ,\n",
       "          0.        ,  0.        ],\n",
       "        [ 0.53713977,  0.59948379, -0.99198598, ...,  0.        ,\n",
       "          0.        ,  0.        ],\n",
       "        [ 0.53574347,  0.59820884, -0.99174815, ...,  0.        ,\n",
       "          0.        ,  0.        ]],\n",
       "\n",
       "       [[ 0.53495872,  0.59803945, -0.98964483, ...,  0.        ,\n",
       "          0.        ,  0.        ],\n",
       "        [ 0.65650558,  0.59768802, -1.00060713, ...,  0.        ,\n",
       "          0.        ,  0.        ],\n",
       "        [ 0.67017198,  0.59772658, -1.00561166, ...,  0.        ,\n",
       "          0.        ,  0.        ],\n",
       "        ...,\n",
       "        [ 0.69332659,  0.60596728, -0.86235654, ...,  0.24189496,\n",
       "          0.32449535, -0.09353311],\n",
       "        [ 0.69302285,  0.6054405 , -0.82964694, ...,  0.239979  ,\n",
       "          0.32673767, -0.08855049],\n",
       "        [ 0.69279081,  0.60494262, -0.81082135, ...,  0.23920672,\n",
       "          0.32688555, -0.08754171]],\n",
       "\n",
       "       ...,\n",
       "\n",
       "       [[ 0.52143472,  0.38076702, -0.57565415, ...,  0.2562882 ,\n",
       "          0.47579688, -0.03256693],\n",
       "        [ 0.52657759,  0.37901348, -0.84569025, ...,  0.        ,\n",
       "          0.        ,  0.        ],\n",
       "        [ 0.5270611 ,  0.37894258, -0.83955634, ...,  0.        ,\n",
       "          0.        ,  0.        ],\n",
       "        ...,\n",
       "        [ 0.53638268,  0.38104349, -0.60267961, ...,  0.        ,\n",
       "          0.        ,  0.        ],\n",
       "        [ 0.53616351,  0.37972489, -0.60318255, ...,  0.        ,\n",
       "          0.        ,  0.        ],\n",
       "        [ 0.53648031,  0.38008818, -0.75571728, ...,  0.        ,\n",
       "          0.        ,  0.        ]],\n",
       "\n",
       "       [[ 0.53650761,  0.38004556, -0.70666134, ...,  0.        ,\n",
       "          0.        ,  0.        ],\n",
       "        [ 0.53149599,  0.3797951 , -0.78612018, ...,  0.        ,\n",
       "          0.        ,  0.        ],\n",
       "        [ 0.53063929,  0.37960932, -0.84227782, ...,  0.        ,\n",
       "          0.        ,  0.        ],\n",
       "        ...,\n",
       "        [ 0.52362102,  0.37779802, -0.59225112, ...,  0.22592419,\n",
       "          0.53125632, -0.04306139],\n",
       "        [ 0.52332109,  0.37752837, -0.61316681, ...,  0.2320935 ,\n",
       "          0.533216  , -0.04440114],\n",
       "        [ 0.5231396 ,  0.3770093 , -0.58832937, ...,  0.23167402,\n",
       "          0.53237927, -0.04175811]],\n",
       "\n",
       "       [[ 0.52266896,  0.3767598 , -0.58934426, ...,  0.23151766,\n",
       "          0.53283042, -0.0429269 ],\n",
       "        [ 0.52655435,  0.37841251, -0.82452106, ...,  0.        ,\n",
       "          0.        ,  0.        ],\n",
       "        [ 0.52804708,  0.37942129, -0.92931652, ...,  0.        ,\n",
       "          0.        ,  0.        ],\n",
       "        ...,\n",
       "        [ 0.52808231,  0.37470287, -0.61587632, ...,  0.        ,\n",
       "          0.        ,  0.        ],\n",
       "        [ 0.52811819,  0.37661594, -0.60344797, ...,  0.        ,\n",
       "          0.        ,  0.        ],\n",
       "        [ 0.52835888,  0.37726957, -0.60543352, ...,  0.        ,\n",
       "          0.        ,  0.        ]]])"
      ]
     },
     "execution_count": 16,
     "metadata": {},
     "output_type": "execute_result"
    }
   ],
   "source": [
    "X"
   ]
  },
  {
   "cell_type": "markdown",
   "metadata": {},
   "source": [
    "#### 2. Performing Train-test split\n",
    "- using 95-5  percent train-test split"
   ]
  },
  {
   "cell_type": "code",
   "execution_count": 17,
   "metadata": {},
   "outputs": [],
   "source": [
    "X_train , X_test , y_train , y_test = train_test_split(X , y , test_size=0.05)"
   ]
  },
  {
   "cell_type": "code",
   "execution_count": 18,
   "metadata": {},
   "outputs": [
    {
     "name": "stdout",
     "output_type": "stream",
     "text": [
      "X-train shape: (1520, 30, 1662)\n",
      "X-test shape: (80, 30, 1662)\n",
      "y-train shape: (1520, 10)\n",
      "y-test shape: (80, 10)\n"
     ]
    }
   ],
   "source": [
    "print(\"X-train shape:\" , X_train.shape)\n",
    "print(\"X-test shape:\" , X_test.shape)\n",
    "print(\"y-train shape:\" , y_train.shape)\n",
    "print(\"y-test shape:\" , y_test.shape)"
   ]
  },
  {
   "cell_type": "markdown",
   "metadata": {},
   "source": [
    "Creating LSTM Model Architecture"
   ]
  },
  {
   "cell_type": "code",
   "execution_count": 19,
   "metadata": {},
   "outputs": [],
   "source": [
    "# Creating a Instance of Early Stopping\n",
    "\n",
    "early_stopping_callback = EarlyStopping(\n",
    " monitor = 'val_loss',\n",
    " patience = 5,\n",
    " mode = 'min',\n",
    " restore_best_weights = True\n",
    ")"
   ]
  },
  {
   "cell_type": "code",
   "execution_count": 20,
   "metadata": {},
   "outputs": [
    {
     "data": {
      "text/plain": [
       "(1520, 30, 1662)"
      ]
     },
     "execution_count": 20,
     "metadata": {},
     "output_type": "execute_result"
    }
   ],
   "source": [
    "X_train.shape"
   ]
  },
  {
   "cell_type": "code",
   "execution_count": 21,
   "metadata": {},
   "outputs": [],
   "source": [
    "log_dir = os.path.join('Logs')\n",
    "tb_callback = TensorBoard(log_dir = log_dir)"
   ]
  },
  {
   "cell_type": "code",
   "execution_count": 22,
   "metadata": {},
   "outputs": [
    {
     "name": "stderr",
     "output_type": "stream",
     "text": [
      "c:\\Users\\Sahil\\AppData\\Local\\Programs\\Python\\Python312\\Lib\\site-packages\\keras\\src\\layers\\rnn\\rnn.py:204: UserWarning: Do not pass an `input_shape`/`input_dim` argument to a layer. When using Sequential models, prefer using an `Input(shape)` object as the first layer in the model instead.\n",
      "  super().__init__(**kwargs)\n"
     ]
    }
   ],
   "source": [
    "# Constructing LSTM Model\n",
    "\n",
    "LSTM_model = Sequential()\n",
    "LSTM_model.add(LSTM(64, return_sequences= True , activation = 'relu' , input_shape = (30 , 1662)))\n",
    "LSTM_model.add(LSTM(128 , return_sequences= True , activation = 'relu'))\n",
    "# model.add(LSTM(128 , return_sequences= True , activation = 'relu'))\n",
    "LSTM_model.add(LSTM(64 , return_sequences= False , activation='relu'))\n",
    "# model.add(Dense(128 , activation ='relu'))\n",
    "# model.add(Dense(64 , activation ='relu'))\n",
    "LSTM_model.add(Dense(64 , activation ='relu'))\n",
    "LSTM_model.add(Dense(32 , activation = 'relu'))\n",
    "LSTM_model.add(Dense(actions.shape[0] , activation='softmax'))"
   ]
  },
  {
   "cell_type": "code",
   "execution_count": 23,
   "metadata": {},
   "outputs": [
    {
     "data": {
      "text/html": [
       "<pre style=\"white-space:pre;overflow-x:auto;line-height:normal;font-family:Menlo,'DejaVu Sans Mono',consolas,'Courier New',monospace\"><span style=\"font-weight: bold\">Model: \"sequential\"</span>\n",
       "</pre>\n"
      ],
      "text/plain": [
       "\u001b[1mModel: \"sequential\"\u001b[0m\n"
      ]
     },
     "metadata": {},
     "output_type": "display_data"
    },
    {
     "data": {
      "text/html": [
       "<pre style=\"white-space:pre;overflow-x:auto;line-height:normal;font-family:Menlo,'DejaVu Sans Mono',consolas,'Courier New',monospace\">┏━━━━━━━━━━━━━━━━━━━━━━━━━━━━━━━━━┳━━━━━━━━━━━━━━━━━━━━━━━━┳━━━━━━━━━━━━━━━┓\n",
       "┃<span style=\"font-weight: bold\"> Layer (type)                    </span>┃<span style=\"font-weight: bold\"> Output Shape           </span>┃<span style=\"font-weight: bold\">       Param # </span>┃\n",
       "┡━━━━━━━━━━━━━━━━━━━━━━━━━━━━━━━━━╇━━━━━━━━━━━━━━━━━━━━━━━━╇━━━━━━━━━━━━━━━┩\n",
       "│ lstm (<span style=\"color: #0087ff; text-decoration-color: #0087ff\">LSTM</span>)                     │ (<span style=\"color: #00d7ff; text-decoration-color: #00d7ff\">None</span>, <span style=\"color: #00af00; text-decoration-color: #00af00\">30</span>, <span style=\"color: #00af00; text-decoration-color: #00af00\">64</span>)         │       <span style=\"color: #00af00; text-decoration-color: #00af00\">442,112</span> │\n",
       "├─────────────────────────────────┼────────────────────────┼───────────────┤\n",
       "│ lstm_1 (<span style=\"color: #0087ff; text-decoration-color: #0087ff\">LSTM</span>)                   │ (<span style=\"color: #00d7ff; text-decoration-color: #00d7ff\">None</span>, <span style=\"color: #00af00; text-decoration-color: #00af00\">30</span>, <span style=\"color: #00af00; text-decoration-color: #00af00\">128</span>)        │        <span style=\"color: #00af00; text-decoration-color: #00af00\">98,816</span> │\n",
       "├─────────────────────────────────┼────────────────────────┼───────────────┤\n",
       "│ lstm_2 (<span style=\"color: #0087ff; text-decoration-color: #0087ff\">LSTM</span>)                   │ (<span style=\"color: #00d7ff; text-decoration-color: #00d7ff\">None</span>, <span style=\"color: #00af00; text-decoration-color: #00af00\">64</span>)             │        <span style=\"color: #00af00; text-decoration-color: #00af00\">49,408</span> │\n",
       "├─────────────────────────────────┼────────────────────────┼───────────────┤\n",
       "│ dense (<span style=\"color: #0087ff; text-decoration-color: #0087ff\">Dense</span>)                   │ (<span style=\"color: #00d7ff; text-decoration-color: #00d7ff\">None</span>, <span style=\"color: #00af00; text-decoration-color: #00af00\">64</span>)             │         <span style=\"color: #00af00; text-decoration-color: #00af00\">4,160</span> │\n",
       "├─────────────────────────────────┼────────────────────────┼───────────────┤\n",
       "│ dense_1 (<span style=\"color: #0087ff; text-decoration-color: #0087ff\">Dense</span>)                 │ (<span style=\"color: #00d7ff; text-decoration-color: #00d7ff\">None</span>, <span style=\"color: #00af00; text-decoration-color: #00af00\">32</span>)             │         <span style=\"color: #00af00; text-decoration-color: #00af00\">2,080</span> │\n",
       "├─────────────────────────────────┼────────────────────────┼───────────────┤\n",
       "│ dense_2 (<span style=\"color: #0087ff; text-decoration-color: #0087ff\">Dense</span>)                 │ (<span style=\"color: #00d7ff; text-decoration-color: #00d7ff\">None</span>, <span style=\"color: #00af00; text-decoration-color: #00af00\">10</span>)             │           <span style=\"color: #00af00; text-decoration-color: #00af00\">330</span> │\n",
       "└─────────────────────────────────┴────────────────────────┴───────────────┘\n",
       "</pre>\n"
      ],
      "text/plain": [
       "┏━━━━━━━━━━━━━━━━━━━━━━━━━━━━━━━━━┳━━━━━━━━━━━━━━━━━━━━━━━━┳━━━━━━━━━━━━━━━┓\n",
       "┃\u001b[1m \u001b[0m\u001b[1mLayer (type)                   \u001b[0m\u001b[1m \u001b[0m┃\u001b[1m \u001b[0m\u001b[1mOutput Shape          \u001b[0m\u001b[1m \u001b[0m┃\u001b[1m \u001b[0m\u001b[1m      Param #\u001b[0m\u001b[1m \u001b[0m┃\n",
       "┡━━━━━━━━━━━━━━━━━━━━━━━━━━━━━━━━━╇━━━━━━━━━━━━━━━━━━━━━━━━╇━━━━━━━━━━━━━━━┩\n",
       "│ lstm (\u001b[38;5;33mLSTM\u001b[0m)                     │ (\u001b[38;5;45mNone\u001b[0m, \u001b[38;5;34m30\u001b[0m, \u001b[38;5;34m64\u001b[0m)         │       \u001b[38;5;34m442,112\u001b[0m │\n",
       "├─────────────────────────────────┼────────────────────────┼───────────────┤\n",
       "│ lstm_1 (\u001b[38;5;33mLSTM\u001b[0m)                   │ (\u001b[38;5;45mNone\u001b[0m, \u001b[38;5;34m30\u001b[0m, \u001b[38;5;34m128\u001b[0m)        │        \u001b[38;5;34m98,816\u001b[0m │\n",
       "├─────────────────────────────────┼────────────────────────┼───────────────┤\n",
       "│ lstm_2 (\u001b[38;5;33mLSTM\u001b[0m)                   │ (\u001b[38;5;45mNone\u001b[0m, \u001b[38;5;34m64\u001b[0m)             │        \u001b[38;5;34m49,408\u001b[0m │\n",
       "├─────────────────────────────────┼────────────────────────┼───────────────┤\n",
       "│ dense (\u001b[38;5;33mDense\u001b[0m)                   │ (\u001b[38;5;45mNone\u001b[0m, \u001b[38;5;34m64\u001b[0m)             │         \u001b[38;5;34m4,160\u001b[0m │\n",
       "├─────────────────────────────────┼────────────────────────┼───────────────┤\n",
       "│ dense_1 (\u001b[38;5;33mDense\u001b[0m)                 │ (\u001b[38;5;45mNone\u001b[0m, \u001b[38;5;34m32\u001b[0m)             │         \u001b[38;5;34m2,080\u001b[0m │\n",
       "├─────────────────────────────────┼────────────────────────┼───────────────┤\n",
       "│ dense_2 (\u001b[38;5;33mDense\u001b[0m)                 │ (\u001b[38;5;45mNone\u001b[0m, \u001b[38;5;34m10\u001b[0m)             │           \u001b[38;5;34m330\u001b[0m │\n",
       "└─────────────────────────────────┴────────────────────────┴───────────────┘\n"
      ]
     },
     "metadata": {},
     "output_type": "display_data"
    },
    {
     "data": {
      "text/html": [
       "<pre style=\"white-space:pre;overflow-x:auto;line-height:normal;font-family:Menlo,'DejaVu Sans Mono',consolas,'Courier New',monospace\"><span style=\"font-weight: bold\"> Total params: </span><span style=\"color: #00af00; text-decoration-color: #00af00\">596,906</span> (2.28 MB)\n",
       "</pre>\n"
      ],
      "text/plain": [
       "\u001b[1m Total params: \u001b[0m\u001b[38;5;34m596,906\u001b[0m (2.28 MB)\n"
      ]
     },
     "metadata": {},
     "output_type": "display_data"
    },
    {
     "data": {
      "text/html": [
       "<pre style=\"white-space:pre;overflow-x:auto;line-height:normal;font-family:Menlo,'DejaVu Sans Mono',consolas,'Courier New',monospace\"><span style=\"font-weight: bold\"> Trainable params: </span><span style=\"color: #00af00; text-decoration-color: #00af00\">596,906</span> (2.28 MB)\n",
       "</pre>\n"
      ],
      "text/plain": [
       "\u001b[1m Trainable params: \u001b[0m\u001b[38;5;34m596,906\u001b[0m (2.28 MB)\n"
      ]
     },
     "metadata": {},
     "output_type": "display_data"
    },
    {
     "data": {
      "text/html": [
       "<pre style=\"white-space:pre;overflow-x:auto;line-height:normal;font-family:Menlo,'DejaVu Sans Mono',consolas,'Courier New',monospace\"><span style=\"font-weight: bold\"> Non-trainable params: </span><span style=\"color: #00af00; text-decoration-color: #00af00\">0</span> (0.00 B)\n",
       "</pre>\n"
      ],
      "text/plain": [
       "\u001b[1m Non-trainable params: \u001b[0m\u001b[38;5;34m0\u001b[0m (0.00 B)\n"
      ]
     },
     "metadata": {},
     "output_type": "display_data"
    }
   ],
   "source": [
    "LSTM_model.summary()"
   ]
  },
  {
   "cell_type": "code",
   "execution_count": 24,
   "metadata": {},
   "outputs": [],
   "source": [
    "# Compiling the Model \n",
    "\n",
    "LSTM_model.compile(optimizer='Adam' , loss = 'categorical_crossentropy' , metrics = ['categorical_accuracy'])"
   ]
  },
  {
   "cell_type": "code",
   "execution_count": 25,
   "metadata": {},
   "outputs": [
    {
     "name": "stdout",
     "output_type": "stream",
     "text": [
      "Epoch 1/300\n",
      "\u001b[1m38/38\u001b[0m \u001b[32m━━━━━━━━━━━━━━━━━━━━\u001b[0m\u001b[37m\u001b[0m \u001b[1m21s\u001b[0m 486ms/step - categorical_accuracy: 0.2088 - loss: 4.3379 - val_categorical_accuracy: 0.2171 - val_loss: 2.1431\n",
      "Epoch 2/300\n",
      "\u001b[1m38/38\u001b[0m \u001b[32m━━━━━━━━━━━━━━━━━━━━\u001b[0m\u001b[37m\u001b[0m \u001b[1m2s\u001b[0m 50ms/step - categorical_accuracy: 0.2390 - loss: 2.0181 - val_categorical_accuracy: 0.2961 - val_loss: 2.0850\n",
      "Epoch 3/300\n",
      "\u001b[1m38/38\u001b[0m \u001b[32m━━━━━━━━━━━━━━━━━━━━\u001b[0m\u001b[37m\u001b[0m \u001b[1m2s\u001b[0m 46ms/step - categorical_accuracy: 0.3146 - loss: 1.9511 - val_categorical_accuracy: 0.1974 - val_loss: 2.4124\n",
      "Epoch 4/300\n",
      "\u001b[1m38/38\u001b[0m \u001b[32m━━━━━━━━━━━━━━━━━━━━\u001b[0m\u001b[37m\u001b[0m \u001b[1m2s\u001b[0m 45ms/step - categorical_accuracy: 0.2242 - loss: 2.2807 - val_categorical_accuracy: 0.1612 - val_loss: 2.2994\n",
      "Epoch 5/300\n",
      "\u001b[1m38/38\u001b[0m \u001b[32m━━━━━━━━━━━━━━━━━━━━\u001b[0m\u001b[37m\u001b[0m \u001b[1m2s\u001b[0m 45ms/step - categorical_accuracy: 0.2461 - loss: 2.1461 - val_categorical_accuracy: 0.2566 - val_loss: 2.1477\n",
      "Epoch 6/300\n",
      "\u001b[1m38/38\u001b[0m \u001b[32m━━━━━━━━━━━━━━━━━━━━\u001b[0m\u001b[37m\u001b[0m \u001b[1m2s\u001b[0m 45ms/step - categorical_accuracy: 0.3111 - loss: 2.0358 - val_categorical_accuracy: 0.3026 - val_loss: 1.9956\n",
      "Epoch 7/300\n",
      "\u001b[1m38/38\u001b[0m \u001b[32m━━━━━━━━━━━━━━━━━━━━\u001b[0m\u001b[37m\u001b[0m \u001b[1m2s\u001b[0m 46ms/step - categorical_accuracy: 0.3405 - loss: 1.8696 - val_categorical_accuracy: 0.3553 - val_loss: 1.9095\n",
      "Epoch 8/300\n",
      "\u001b[1m38/38\u001b[0m \u001b[32m━━━━━━━━━━━━━━━━━━━━\u001b[0m\u001b[37m\u001b[0m \u001b[1m2s\u001b[0m 45ms/step - categorical_accuracy: 0.3672 - loss: 1.8192 - val_categorical_accuracy: 0.3125 - val_loss: 2.1004\n",
      "Epoch 9/300\n",
      "\u001b[1m38/38\u001b[0m \u001b[32m━━━━━━━━━━━━━━━━━━━━\u001b[0m\u001b[37m\u001b[0m \u001b[1m2s\u001b[0m 45ms/step - categorical_accuracy: 0.3447 - loss: 1.7921 - val_categorical_accuracy: 0.4079 - val_loss: 1.7526\n",
      "Epoch 10/300\n",
      "\u001b[1m38/38\u001b[0m \u001b[32m━━━━━━━━━━━━━━━━━━━━\u001b[0m\u001b[37m\u001b[0m \u001b[1m2s\u001b[0m 44ms/step - categorical_accuracy: 0.4093 - loss: 1.6160 - val_categorical_accuracy: 0.4671 - val_loss: 1.5693\n",
      "Epoch 11/300\n",
      "\u001b[1m38/38\u001b[0m \u001b[32m━━━━━━━━━━━━━━━━━━━━\u001b[0m\u001b[37m\u001b[0m \u001b[1m2s\u001b[0m 44ms/step - categorical_accuracy: 0.5076 - loss: 1.4274 - val_categorical_accuracy: 0.4178 - val_loss: 1.6180\n",
      "Epoch 12/300\n",
      "\u001b[1m38/38\u001b[0m \u001b[32m━━━━━━━━━━━━━━━━━━━━\u001b[0m\u001b[37m\u001b[0m \u001b[1m2s\u001b[0m 44ms/step - categorical_accuracy: 0.4698 - loss: 1.4491 - val_categorical_accuracy: 0.4013 - val_loss: 1.6388\n",
      "Epoch 13/300\n",
      "\u001b[1m38/38\u001b[0m \u001b[32m━━━━━━━━━━━━━━━━━━━━\u001b[0m\u001b[37m\u001b[0m \u001b[1m2s\u001b[0m 44ms/step - categorical_accuracy: 0.4854 - loss: 1.5864 - val_categorical_accuracy: 0.4276 - val_loss: 1.7813\n",
      "Epoch 14/300\n",
      "\u001b[1m38/38\u001b[0m \u001b[32m━━━━━━━━━━━━━━━━━━━━\u001b[0m\u001b[37m\u001b[0m \u001b[1m2s\u001b[0m 43ms/step - categorical_accuracy: 0.4223 - loss: 1.5362 - val_categorical_accuracy: 0.4441 - val_loss: 1.5958\n",
      "Epoch 15/300\n",
      "\u001b[1m38/38\u001b[0m \u001b[32m━━━━━━━━━━━━━━━━━━━━\u001b[0m\u001b[37m\u001b[0m \u001b[1m2s\u001b[0m 43ms/step - categorical_accuracy: 0.4576 - loss: 1.4521 - val_categorical_accuracy: 0.4112 - val_loss: 1.6379\n",
      "Epoch 16/300\n",
      "\u001b[1m38/38\u001b[0m \u001b[32m━━━━━━━━━━━━━━━━━━━━\u001b[0m\u001b[37m\u001b[0m \u001b[1m2s\u001b[0m 44ms/step - categorical_accuracy: 0.5058 - loss: 1.3388 - val_categorical_accuracy: 0.5197 - val_loss: 1.4693\n",
      "Epoch 17/300\n",
      "\u001b[1m38/38\u001b[0m \u001b[32m━━━━━━━━━━━━━━━━━━━━\u001b[0m\u001b[37m\u001b[0m \u001b[1m2s\u001b[0m 44ms/step - categorical_accuracy: 0.5327 - loss: 1.2704 - val_categorical_accuracy: 0.5395 - val_loss: 1.4052\n",
      "Epoch 18/300\n",
      "\u001b[1m38/38\u001b[0m \u001b[32m━━━━━━━━━━━━━━━━━━━━\u001b[0m\u001b[37m\u001b[0m \u001b[1m2s\u001b[0m 44ms/step - categorical_accuracy: 0.5967 - loss: 1.1311 - val_categorical_accuracy: 0.5526 - val_loss: 1.2668\n",
      "Epoch 19/300\n",
      "\u001b[1m38/38\u001b[0m \u001b[32m━━━━━━━━━━━━━━━━━━━━\u001b[0m\u001b[37m\u001b[0m \u001b[1m2s\u001b[0m 43ms/step - categorical_accuracy: 0.6081 - loss: 1.0373 - val_categorical_accuracy: 0.5362 - val_loss: 1.2843\n",
      "Epoch 20/300\n",
      "\u001b[1m38/38\u001b[0m \u001b[32m━━━━━━━━━━━━━━━━━━━━\u001b[0m\u001b[37m\u001b[0m \u001b[1m2s\u001b[0m 45ms/step - categorical_accuracy: 0.6140 - loss: 1.0061 - val_categorical_accuracy: 0.5493 - val_loss: 1.2494\n",
      "Epoch 21/300\n",
      "\u001b[1m38/38\u001b[0m \u001b[32m━━━━━━━━━━━━━━━━━━━━\u001b[0m\u001b[37m\u001b[0m \u001b[1m2s\u001b[0m 44ms/step - categorical_accuracy: 0.6075 - loss: 0.9765 - val_categorical_accuracy: 0.5888 - val_loss: 1.2778\n",
      "Epoch 22/300\n",
      "\u001b[1m38/38\u001b[0m \u001b[32m━━━━━━━━━━━━━━━━━━━━\u001b[0m\u001b[37m\u001b[0m \u001b[1m2s\u001b[0m 44ms/step - categorical_accuracy: 0.6101 - loss: 1.2298 - val_categorical_accuracy: 0.1776 - val_loss: 2.1083\n",
      "Epoch 23/300\n",
      "\u001b[1m38/38\u001b[0m \u001b[32m━━━━━━━━━━━━━━━━━━━━\u001b[0m\u001b[37m\u001b[0m \u001b[1m2s\u001b[0m 44ms/step - categorical_accuracy: 0.2012 - loss: 2.0546 - val_categorical_accuracy: 0.3158 - val_loss: 1.9028\n",
      "Epoch 24/300\n",
      "\u001b[1m38/38\u001b[0m \u001b[32m━━━━━━━━━━━━━━━━━━━━\u001b[0m\u001b[37m\u001b[0m \u001b[1m2s\u001b[0m 44ms/step - categorical_accuracy: 0.3559 - loss: 1.8696 - val_categorical_accuracy: 0.3717 - val_loss: 1.8356\n",
      "Epoch 25/300\n",
      "\u001b[1m38/38\u001b[0m \u001b[32m━━━━━━━━━━━━━━━━━━━━\u001b[0m\u001b[37m\u001b[0m \u001b[1m2s\u001b[0m 44ms/step - categorical_accuracy: 0.4136 - loss: 1.8058 - val_categorical_accuracy: 0.3355 - val_loss: 1.8438\n",
      "Epoch 26/300\n",
      "\u001b[1m38/38\u001b[0m \u001b[32m━━━━━━━━━━━━━━━━━━━━\u001b[0m\u001b[37m\u001b[0m \u001b[1m2s\u001b[0m 44ms/step - categorical_accuracy: 0.4606 - loss: 1.6685 - val_categorical_accuracy: 0.3520 - val_loss: 2.0651\n",
      "Epoch 27/300\n",
      "\u001b[1m38/38\u001b[0m \u001b[32m━━━━━━━━━━━━━━━━━━━━\u001b[0m\u001b[37m\u001b[0m \u001b[1m2s\u001b[0m 44ms/step - categorical_accuracy: 0.3121 - loss: 1.9960 - val_categorical_accuracy: 0.1612 - val_loss: 2.2431\n",
      "Epoch 28/300\n",
      "\u001b[1m38/38\u001b[0m \u001b[32m━━━━━━━━━━━━━━━━━━━━\u001b[0m\u001b[37m\u001b[0m \u001b[1m2s\u001b[0m 45ms/step - categorical_accuracy: 0.2026 - loss: 2.2276 - val_categorical_accuracy: 0.1382 - val_loss: 2.2116\n",
      "Epoch 29/300\n",
      "\u001b[1m38/38\u001b[0m \u001b[32m━━━━━━━━━━━━━━━━━━━━\u001b[0m\u001b[37m\u001b[0m \u001b[1m2s\u001b[0m 45ms/step - categorical_accuracy: 0.2056 - loss: 2.1235 - val_categorical_accuracy: 0.1842 - val_loss: 10.8323\n",
      "Epoch 30/300\n",
      "\u001b[1m38/38\u001b[0m \u001b[32m━━━━━━━━━━━━━━━━━━━━\u001b[0m\u001b[37m\u001b[0m \u001b[1m2s\u001b[0m 44ms/step - categorical_accuracy: 0.2194 - loss: 7.2814 - val_categorical_accuracy: 0.3388 - val_loss: 1.9769\n",
      "Epoch 31/300\n",
      "\u001b[1m38/38\u001b[0m \u001b[32m━━━━━━━━━━━━━━━━━━━━\u001b[0m\u001b[37m\u001b[0m \u001b[1m2s\u001b[0m 44ms/step - categorical_accuracy: 0.3865 - loss: 1.7645 - val_categorical_accuracy: 0.3421 - val_loss: 1.6922\n",
      "Epoch 32/300\n",
      "\u001b[1m38/38\u001b[0m \u001b[32m━━━━━━━━━━━━━━━━━━━━\u001b[0m\u001b[37m\u001b[0m \u001b[1m2s\u001b[0m 44ms/step - categorical_accuracy: 0.4078 - loss: 1.5519 - val_categorical_accuracy: 0.3947 - val_loss: 1.5832\n",
      "Epoch 33/300\n",
      "\u001b[1m38/38\u001b[0m \u001b[32m━━━━━━━━━━━━━━━━━━━━\u001b[0m\u001b[37m\u001b[0m \u001b[1m2s\u001b[0m 44ms/step - categorical_accuracy: 0.4188 - loss: 1.4556 - val_categorical_accuracy: 0.4276 - val_loss: 1.5146\n",
      "Epoch 34/300\n",
      "\u001b[1m38/38\u001b[0m \u001b[32m━━━━━━━━━━━━━━━━━━━━\u001b[0m\u001b[37m\u001b[0m \u001b[1m2s\u001b[0m 44ms/step - categorical_accuracy: 0.4556 - loss: 1.3809 - val_categorical_accuracy: 0.4836 - val_loss: 1.4999\n",
      "Epoch 35/300\n",
      "\u001b[1m38/38\u001b[0m \u001b[32m━━━━━━━━━━━━━━━━━━━━\u001b[0m\u001b[37m\u001b[0m \u001b[1m2s\u001b[0m 44ms/step - categorical_accuracy: 0.5056 - loss: 1.3342 - val_categorical_accuracy: 0.3158 - val_loss: 2.0472\n",
      "Epoch 36/300\n",
      "\u001b[1m38/38\u001b[0m \u001b[32m━━━━━━━━━━━━━━━━━━━━\u001b[0m\u001b[37m\u001b[0m \u001b[1m2s\u001b[0m 44ms/step - categorical_accuracy: 0.3616 - loss: 1.8956 - val_categorical_accuracy: 0.4013 - val_loss: 1.6053\n",
      "Epoch 37/300\n",
      "\u001b[1m38/38\u001b[0m \u001b[32m━━━━━━━━━━━━━━━━━━━━\u001b[0m\u001b[37m\u001b[0m \u001b[1m2s\u001b[0m 44ms/step - categorical_accuracy: 0.4817 - loss: 1.4318 - val_categorical_accuracy: 0.5263 - val_loss: 1.4083\n",
      "Epoch 38/300\n",
      "\u001b[1m38/38\u001b[0m \u001b[32m━━━━━━━━━━━━━━━━━━━━\u001b[0m\u001b[37m\u001b[0m \u001b[1m2s\u001b[0m 45ms/step - categorical_accuracy: 0.5458 - loss: 1.4058 - val_categorical_accuracy: 0.4934 - val_loss: 1.4174\n",
      "Epoch 39/300\n",
      "\u001b[1m38/38\u001b[0m \u001b[32m━━━━━━━━━━━━━━━━━━━━\u001b[0m\u001b[37m\u001b[0m \u001b[1m2s\u001b[0m 47ms/step - categorical_accuracy: 0.5776 - loss: 1.1850 - val_categorical_accuracy: 0.5493 - val_loss: 1.3061\n",
      "Epoch 40/300\n",
      "\u001b[1m38/38\u001b[0m \u001b[32m━━━━━━━━━━━━━━━━━━━━\u001b[0m\u001b[37m\u001b[0m \u001b[1m2s\u001b[0m 45ms/step - categorical_accuracy: 0.6030 - loss: 1.1021 - val_categorical_accuracy: 0.5461 - val_loss: 1.2905\n",
      "Epoch 41/300\n",
      "\u001b[1m38/38\u001b[0m \u001b[32m━━━━━━━━━━━━━━━━━━━━\u001b[0m\u001b[37m\u001b[0m \u001b[1m2s\u001b[0m 44ms/step - categorical_accuracy: 0.6047 - loss: 1.0744 - val_categorical_accuracy: 0.5526 - val_loss: 1.2819\n",
      "Epoch 42/300\n",
      "\u001b[1m38/38\u001b[0m \u001b[32m━━━━━━━━━━━━━━━━━━━━\u001b[0m\u001b[37m\u001b[0m \u001b[1m2s\u001b[0m 44ms/step - categorical_accuracy: 0.6084 - loss: 1.0518 - val_categorical_accuracy: 0.5395 - val_loss: 1.2635\n",
      "Epoch 43/300\n",
      "\u001b[1m38/38\u001b[0m \u001b[32m━━━━━━━━━━━━━━━━━━━━\u001b[0m\u001b[37m\u001b[0m \u001b[1m2s\u001b[0m 44ms/step - categorical_accuracy: 0.6117 - loss: 0.9942 - val_categorical_accuracy: 0.5526 - val_loss: 1.2237\n",
      "Epoch 44/300\n",
      "\u001b[1m38/38\u001b[0m \u001b[32m━━━━━━━━━━━━━━━━━━━━\u001b[0m\u001b[37m\u001b[0m \u001b[1m2s\u001b[0m 44ms/step - categorical_accuracy: 0.6180 - loss: 0.9836 - val_categorical_accuracy: 0.5329 - val_loss: 1.2245\n",
      "Epoch 45/300\n",
      "\u001b[1m38/38\u001b[0m \u001b[32m━━━━━━━━━━━━━━━━━━━━\u001b[0m\u001b[37m\u001b[0m \u001b[1m2s\u001b[0m 44ms/step - categorical_accuracy: 0.6245 - loss: 0.9625 - val_categorical_accuracy: 0.5428 - val_loss: 1.2319\n",
      "Epoch 46/300\n",
      "\u001b[1m38/38\u001b[0m \u001b[32m━━━━━━━━━━━━━━━━━━━━\u001b[0m\u001b[37m\u001b[0m \u001b[1m2s\u001b[0m 44ms/step - categorical_accuracy: 0.6106 - loss: 0.9639 - val_categorical_accuracy: 0.5625 - val_loss: 1.2086\n",
      "Epoch 47/300\n",
      "\u001b[1m38/38\u001b[0m \u001b[32m━━━━━━━━━━━━━━━━━━━━\u001b[0m\u001b[37m\u001b[0m \u001b[1m2s\u001b[0m 44ms/step - categorical_accuracy: 0.6281 - loss: 0.9513 - val_categorical_accuracy: 0.5263 - val_loss: 1.2966\n",
      "Epoch 48/300\n",
      "\u001b[1m38/38\u001b[0m \u001b[32m━━━━━━━━━━━━━━━━━━━━\u001b[0m\u001b[37m\u001b[0m \u001b[1m2s\u001b[0m 44ms/step - categorical_accuracy: 0.6020 - loss: 1.0374 - val_categorical_accuracy: 0.5855 - val_loss: 1.2766\n",
      "Epoch 49/300\n",
      "\u001b[1m38/38\u001b[0m \u001b[32m━━━━━━━━━━━━━━━━━━━━\u001b[0m\u001b[37m\u001b[0m \u001b[1m2s\u001b[0m 44ms/step - categorical_accuracy: 0.5838 - loss: 1.0865 - val_categorical_accuracy: 0.5329 - val_loss: 1.3400\n",
      "Epoch 50/300\n",
      "\u001b[1m38/38\u001b[0m \u001b[32m━━━━━━━━━━━━━━━━━━━━\u001b[0m\u001b[37m\u001b[0m \u001b[1m2s\u001b[0m 44ms/step - categorical_accuracy: 0.6272 - loss: 0.9967 - val_categorical_accuracy: 0.5789 - val_loss: 1.1706\n",
      "Epoch 51/300\n",
      "\u001b[1m38/38\u001b[0m \u001b[32m━━━━━━━━━━━━━━━━━━━━\u001b[0m\u001b[37m\u001b[0m \u001b[1m2s\u001b[0m 44ms/step - categorical_accuracy: 0.6253 - loss: 0.9546 - val_categorical_accuracy: 0.5461 - val_loss: 1.3245\n",
      "Epoch 52/300\n",
      "\u001b[1m38/38\u001b[0m \u001b[32m━━━━━━━━━━━━━━━━━━━━\u001b[0m\u001b[37m\u001b[0m \u001b[1m2s\u001b[0m 45ms/step - categorical_accuracy: 0.6257 - loss: 0.9912 - val_categorical_accuracy: 0.5757 - val_loss: 1.1980\n",
      "Epoch 53/300\n",
      "\u001b[1m38/38\u001b[0m \u001b[32m━━━━━━━━━━━━━━━━━━━━\u001b[0m\u001b[37m\u001b[0m \u001b[1m2s\u001b[0m 45ms/step - categorical_accuracy: 0.6400 - loss: 0.9405 - val_categorical_accuracy: 0.6053 - val_loss: 1.1146\n",
      "Epoch 54/300\n",
      "\u001b[1m38/38\u001b[0m \u001b[32m━━━━━━━━━━━━━━━━━━━━\u001b[0m\u001b[37m\u001b[0m \u001b[1m2s\u001b[0m 44ms/step - categorical_accuracy: 0.6417 - loss: 0.9121 - val_categorical_accuracy: 0.6184 - val_loss: 1.1538\n",
      "Epoch 55/300\n",
      "\u001b[1m38/38\u001b[0m \u001b[32m━━━━━━━━━━━━━━━━━━━━\u001b[0m\u001b[37m\u001b[0m \u001b[1m2s\u001b[0m 44ms/step - categorical_accuracy: 0.6638 - loss: 0.8782 - val_categorical_accuracy: 0.6349 - val_loss: 1.1202\n",
      "Epoch 56/300\n",
      "\u001b[1m38/38\u001b[0m \u001b[32m━━━━━━━━━━━━━━━━━━━━\u001b[0m\u001b[37m\u001b[0m \u001b[1m2s\u001b[0m 44ms/step - categorical_accuracy: 0.6561 - loss: 0.8961 - val_categorical_accuracy: 0.6875 - val_loss: 1.0847\n",
      "Epoch 57/300\n",
      "\u001b[1m38/38\u001b[0m \u001b[32m━━━━━━━━━━━━━━━━━━━━\u001b[0m\u001b[37m\u001b[0m \u001b[1m2s\u001b[0m 44ms/step - categorical_accuracy: 0.6677 - loss: 0.8706 - val_categorical_accuracy: 0.5592 - val_loss: 1.2477\n",
      "Epoch 58/300\n",
      "\u001b[1m38/38\u001b[0m \u001b[32m━━━━━━━━━━━━━━━━━━━━\u001b[0m\u001b[37m\u001b[0m \u001b[1m2s\u001b[0m 44ms/step - categorical_accuracy: 0.6066 - loss: 1.0441 - val_categorical_accuracy: 0.5658 - val_loss: 1.2960\n",
      "Epoch 59/300\n",
      "\u001b[1m38/38\u001b[0m \u001b[32m━━━━━━━━━━━━━━━━━━━━\u001b[0m\u001b[37m\u001b[0m \u001b[1m2s\u001b[0m 44ms/step - categorical_accuracy: 0.6375 - loss: 0.9679 - val_categorical_accuracy: 0.6217 - val_loss: 1.1210\n",
      "Epoch 60/300\n",
      "\u001b[1m38/38\u001b[0m \u001b[32m━━━━━━━━━━━━━━━━━━━━\u001b[0m\u001b[37m\u001b[0m \u001b[1m2s\u001b[0m 44ms/step - categorical_accuracy: 0.6450 - loss: 0.9038 - val_categorical_accuracy: 0.6546 - val_loss: 1.1318\n",
      "Epoch 61/300\n",
      "\u001b[1m38/38\u001b[0m \u001b[32m━━━━━━━━━━━━━━━━━━━━\u001b[0m\u001b[37m\u001b[0m \u001b[1m2s\u001b[0m 44ms/step - categorical_accuracy: 0.6671 - loss: 0.8909 - val_categorical_accuracy: 0.6217 - val_loss: 1.0927\n",
      "Epoch 62/300\n",
      "\u001b[1m38/38\u001b[0m \u001b[32m━━━━━━━━━━━━━━━━━━━━\u001b[0m\u001b[37m\u001b[0m \u001b[1m2s\u001b[0m 44ms/step - categorical_accuracy: 0.6669 - loss: 0.8589 - val_categorical_accuracy: 0.6283 - val_loss: 1.1380\n",
      "Epoch 63/300\n",
      "\u001b[1m38/38\u001b[0m \u001b[32m━━━━━━━━━━━━━━━━━━━━\u001b[0m\u001b[37m\u001b[0m \u001b[1m2s\u001b[0m 44ms/step - categorical_accuracy: 0.6714 - loss: 0.8560 - val_categorical_accuracy: 0.5757 - val_loss: 1.1644\n",
      "Epoch 64/300\n",
      "\u001b[1m38/38\u001b[0m \u001b[32m━━━━━━━━━━━━━━━━━━━━\u001b[0m\u001b[37m\u001b[0m \u001b[1m2s\u001b[0m 44ms/step - categorical_accuracy: 0.6805 - loss: 0.8069 - val_categorical_accuracy: 0.5691 - val_loss: 1.1069\n",
      "Epoch 65/300\n",
      "\u001b[1m38/38\u001b[0m \u001b[32m━━━━━━━━━━━━━━━━━━━━\u001b[0m\u001b[37m\u001b[0m \u001b[1m2s\u001b[0m 44ms/step - categorical_accuracy: 0.7155 - loss: 0.7475 - val_categorical_accuracy: 0.6118 - val_loss: 1.0726\n",
      "Epoch 66/300\n",
      "\u001b[1m38/38\u001b[0m \u001b[32m━━━━━━━━━━━━━━━━━━━━\u001b[0m\u001b[37m\u001b[0m \u001b[1m2s\u001b[0m 44ms/step - categorical_accuracy: 0.6775 - loss: 0.8229 - val_categorical_accuracy: 0.6086 - val_loss: 1.3007\n",
      "Epoch 67/300\n",
      "\u001b[1m38/38\u001b[0m \u001b[32m━━━━━━━━━━━━━━━━━━━━\u001b[0m\u001b[37m\u001b[0m \u001b[1m2s\u001b[0m 44ms/step - categorical_accuracy: 0.7384 - loss: 0.7296 - val_categorical_accuracy: 0.6316 - val_loss: 1.0727\n",
      "Epoch 68/300\n",
      "\u001b[1m38/38\u001b[0m \u001b[32m━━━━━━━━━━━━━━━━━━━━\u001b[0m\u001b[37m\u001b[0m \u001b[1m2s\u001b[0m 44ms/step - categorical_accuracy: 0.7581 - loss: 0.6546 - val_categorical_accuracy: 0.5855 - val_loss: 1.1383\n",
      "Epoch 69/300\n",
      "\u001b[1m38/38\u001b[0m \u001b[32m━━━━━━━━━━━━━━━━━━━━\u001b[0m\u001b[37m\u001b[0m \u001b[1m2s\u001b[0m 45ms/step - categorical_accuracy: 0.7400 - loss: 0.7036 - val_categorical_accuracy: 0.6480 - val_loss: 1.0323\n",
      "Epoch 70/300\n",
      "\u001b[1m38/38\u001b[0m \u001b[32m━━━━━━━━━━━━━━━━━━━━\u001b[0m\u001b[37m\u001b[0m \u001b[1m2s\u001b[0m 44ms/step - categorical_accuracy: 0.7272 - loss: 0.7034 - val_categorical_accuracy: 0.6711 - val_loss: 1.0763\n",
      "Epoch 71/300\n",
      "\u001b[1m38/38\u001b[0m \u001b[32m━━━━━━━━━━━━━━━━━━━━\u001b[0m\u001b[37m\u001b[0m \u001b[1m2s\u001b[0m 44ms/step - categorical_accuracy: 0.7416 - loss: 0.6941 - val_categorical_accuracy: 0.3454 - val_loss: 2.4837\n",
      "Epoch 72/300\n",
      "\u001b[1m38/38\u001b[0m \u001b[32m━━━━━━━━━━━━━━━━━━━━\u001b[0m\u001b[37m\u001b[0m \u001b[1m2s\u001b[0m 44ms/step - categorical_accuracy: 0.4574 - loss: 1.5116 - val_categorical_accuracy: 0.5691 - val_loss: 1.2169\n",
      "Epoch 73/300\n",
      "\u001b[1m38/38\u001b[0m \u001b[32m━━━━━━━━━━━━━━━━━━━━\u001b[0m\u001b[37m\u001b[0m \u001b[1m2s\u001b[0m 44ms/step - categorical_accuracy: 0.6489 - loss: 0.9493 - val_categorical_accuracy: 0.6118 - val_loss: 1.2181\n",
      "Epoch 74/300\n",
      "\u001b[1m38/38\u001b[0m \u001b[32m━━━━━━━━━━━━━━━━━━━━\u001b[0m\u001b[37m\u001b[0m \u001b[1m2s\u001b[0m 44ms/step - categorical_accuracy: 0.7126 - loss: 0.8044 - val_categorical_accuracy: 0.6414 - val_loss: 1.0339\n",
      "Epoch 75/300\n",
      "\u001b[1m38/38\u001b[0m \u001b[32m━━━━━━━━━━━━━━━━━━━━\u001b[0m\u001b[37m\u001b[0m \u001b[1m2s\u001b[0m 44ms/step - categorical_accuracy: 0.7485 - loss: 0.7123 - val_categorical_accuracy: 0.6875 - val_loss: 0.9413\n",
      "Epoch 76/300\n",
      "\u001b[1m38/38\u001b[0m \u001b[32m━━━━━━━━━━━━━━━━━━━━\u001b[0m\u001b[37m\u001b[0m \u001b[1m2s\u001b[0m 44ms/step - categorical_accuracy: 0.7460 - loss: 0.6810 - val_categorical_accuracy: 0.7171 - val_loss: 0.9267\n",
      "Epoch 77/300\n",
      "\u001b[1m38/38\u001b[0m \u001b[32m━━━━━━━━━━━━━━━━━━━━\u001b[0m\u001b[37m\u001b[0m \u001b[1m2s\u001b[0m 44ms/step - categorical_accuracy: 0.7109 - loss: 0.7418 - val_categorical_accuracy: 0.6414 - val_loss: 1.0567\n",
      "Epoch 78/300\n",
      "\u001b[1m38/38\u001b[0m \u001b[32m━━━━━━━━━━━━━━━━━━━━\u001b[0m\u001b[37m\u001b[0m \u001b[1m2s\u001b[0m 44ms/step - categorical_accuracy: 0.7376 - loss: 0.6667 - val_categorical_accuracy: 0.7533 - val_loss: 0.8511\n",
      "Epoch 79/300\n",
      "\u001b[1m38/38\u001b[0m \u001b[32m━━━━━━━━━━━━━━━━━━━━\u001b[0m\u001b[37m\u001b[0m \u001b[1m2s\u001b[0m 46ms/step - categorical_accuracy: 0.7731 - loss: 0.6134 - val_categorical_accuracy: 0.6382 - val_loss: 1.0695\n",
      "Epoch 80/300\n",
      "\u001b[1m38/38\u001b[0m \u001b[32m━━━━━━━━━━━━━━━━━━━━\u001b[0m\u001b[37m\u001b[0m \u001b[1m2s\u001b[0m 44ms/step - categorical_accuracy: 0.7713 - loss: 0.6134 - val_categorical_accuracy: 0.6678 - val_loss: 0.9238\n",
      "Epoch 81/300\n",
      "\u001b[1m38/38\u001b[0m \u001b[32m━━━━━━━━━━━━━━━━━━━━\u001b[0m\u001b[37m\u001b[0m \u001b[1m2s\u001b[0m 44ms/step - categorical_accuracy: 0.7873 - loss: 0.5825 - val_categorical_accuracy: 0.7599 - val_loss: 0.8089\n",
      "Epoch 82/300\n",
      "\u001b[1m38/38\u001b[0m \u001b[32m━━━━━━━━━━━━━━━━━━━━\u001b[0m\u001b[37m\u001b[0m \u001b[1m2s\u001b[0m 43ms/step - categorical_accuracy: 0.7580 - loss: 0.6325 - val_categorical_accuracy: 0.6217 - val_loss: 1.0329\n",
      "Epoch 83/300\n",
      "\u001b[1m38/38\u001b[0m \u001b[32m━━━━━━━━━━━━━━━━━━━━\u001b[0m\u001b[37m\u001b[0m \u001b[1m2s\u001b[0m 44ms/step - categorical_accuracy: 0.7531 - loss: 0.6469 - val_categorical_accuracy: 0.7500 - val_loss: 0.7988\n",
      "Epoch 84/300\n",
      "\u001b[1m38/38\u001b[0m \u001b[32m━━━━━━━━━━━━━━━━━━━━\u001b[0m\u001b[37m\u001b[0m \u001b[1m2s\u001b[0m 44ms/step - categorical_accuracy: 0.7856 - loss: 0.5738 - val_categorical_accuracy: 0.6283 - val_loss: 1.0626\n",
      "Epoch 85/300\n",
      "\u001b[1m38/38\u001b[0m \u001b[32m━━━━━━━━━━━━━━━━━━━━\u001b[0m\u001b[37m\u001b[0m \u001b[1m2s\u001b[0m 47ms/step - categorical_accuracy: 0.8009 - loss: 0.5584 - val_categorical_accuracy: 0.7204 - val_loss: 0.9594\n",
      "Epoch 86/300\n",
      "\u001b[1m38/38\u001b[0m \u001b[32m━━━━━━━━━━━━━━━━━━━━\u001b[0m\u001b[37m\u001b[0m \u001b[1m2s\u001b[0m 44ms/step - categorical_accuracy: 0.8011 - loss: 0.5178 - val_categorical_accuracy: 0.6974 - val_loss: 0.9417\n",
      "Epoch 87/300\n",
      "\u001b[1m38/38\u001b[0m \u001b[32m━━━━━━━━━━━━━━━━━━━━\u001b[0m\u001b[37m\u001b[0m \u001b[1m2s\u001b[0m 44ms/step - categorical_accuracy: 0.8043 - loss: 0.5666 - val_categorical_accuracy: 0.5789 - val_loss: 1.4036\n",
      "Epoch 88/300\n",
      "\u001b[1m38/38\u001b[0m \u001b[32m━━━━━━━━━━━━━━━━━━━━\u001b[0m\u001b[37m\u001b[0m \u001b[1m2s\u001b[0m 44ms/step - categorical_accuracy: 0.7658 - loss: 0.6490 - val_categorical_accuracy: 0.6678 - val_loss: 0.9538\n",
      "Epoch 89/300\n",
      "\u001b[1m38/38\u001b[0m \u001b[32m━━━━━━━━━━━━━━━━━━━━\u001b[0m\u001b[37m\u001b[0m \u001b[1m2s\u001b[0m 44ms/step - categorical_accuracy: 0.8051 - loss: 0.5409 - val_categorical_accuracy: 0.6908 - val_loss: 0.8372\n",
      "Epoch 90/300\n",
      "\u001b[1m38/38\u001b[0m \u001b[32m━━━━━━━━━━━━━━━━━━━━\u001b[0m\u001b[37m\u001b[0m \u001b[1m2s\u001b[0m 45ms/step - categorical_accuracy: 0.8220 - loss: 0.5157 - val_categorical_accuracy: 0.6711 - val_loss: 0.9498\n",
      "Epoch 91/300\n",
      "\u001b[1m38/38\u001b[0m \u001b[32m━━━━━━━━━━━━━━━━━━━━\u001b[0m\u001b[37m\u001b[0m \u001b[1m2s\u001b[0m 44ms/step - categorical_accuracy: 0.8247 - loss: 0.5074 - val_categorical_accuracy: 0.6743 - val_loss: 0.9605\n",
      "Epoch 92/300\n",
      "\u001b[1m38/38\u001b[0m \u001b[32m━━━━━━━━━━━━━━━━━━━━\u001b[0m\u001b[37m\u001b[0m \u001b[1m2s\u001b[0m 44ms/step - categorical_accuracy: 0.8272 - loss: 0.5089 - val_categorical_accuracy: 0.6776 - val_loss: 0.9230\n",
      "Epoch 93/300\n",
      "\u001b[1m38/38\u001b[0m \u001b[32m━━━━━━━━━━━━━━━━━━━━\u001b[0m\u001b[37m\u001b[0m \u001b[1m2s\u001b[0m 43ms/step - categorical_accuracy: 0.8215 - loss: 0.5049 - val_categorical_accuracy: 0.6217 - val_loss: 1.2191\n",
      "Epoch 94/300\n",
      "\u001b[1m38/38\u001b[0m \u001b[32m━━━━━━━━━━━━━━━━━━━━\u001b[0m\u001b[37m\u001b[0m \u001b[1m2s\u001b[0m 44ms/step - categorical_accuracy: 0.7896 - loss: 0.5434 - val_categorical_accuracy: 0.6678 - val_loss: 0.9588\n",
      "Epoch 95/300\n",
      "\u001b[1m38/38\u001b[0m \u001b[32m━━━━━━━━━━━━━━━━━━━━\u001b[0m\u001b[37m\u001b[0m \u001b[1m2s\u001b[0m 43ms/step - categorical_accuracy: 0.8324 - loss: 0.4715 - val_categorical_accuracy: 0.7007 - val_loss: 0.9413\n",
      "Epoch 96/300\n",
      "\u001b[1m38/38\u001b[0m \u001b[32m━━━━━━━━━━━━━━━━━━━━\u001b[0m\u001b[37m\u001b[0m \u001b[1m2s\u001b[0m 44ms/step - categorical_accuracy: 0.8319 - loss: 0.4847 - val_categorical_accuracy: 0.7204 - val_loss: 0.9247\n",
      "Epoch 97/300\n",
      "\u001b[1m38/38\u001b[0m \u001b[32m━━━━━━━━━━━━━━━━━━━━\u001b[0m\u001b[37m\u001b[0m \u001b[1m2s\u001b[0m 44ms/step - categorical_accuracy: 0.8264 - loss: 0.4715 - val_categorical_accuracy: 0.6414 - val_loss: 1.1063\n",
      "Epoch 98/300\n",
      "\u001b[1m38/38\u001b[0m \u001b[32m━━━━━━━━━━━━━━━━━━━━\u001b[0m\u001b[37m\u001b[0m \u001b[1m2s\u001b[0m 44ms/step - categorical_accuracy: 0.8343 - loss: 0.4892 - val_categorical_accuracy: 0.5592 - val_loss: 1.7340\n",
      "Epoch 99/300\n",
      "\u001b[1m38/38\u001b[0m \u001b[32m━━━━━━━━━━━━━━━━━━━━\u001b[0m\u001b[37m\u001b[0m \u001b[1m2s\u001b[0m 44ms/step - categorical_accuracy: 0.7320 - loss: 0.7408 - val_categorical_accuracy: 0.7928 - val_loss: 0.7392\n",
      "Epoch 100/300\n",
      "\u001b[1m38/38\u001b[0m \u001b[32m━━━━━━━━━━━━━━━━━━━━\u001b[0m\u001b[37m\u001b[0m \u001b[1m2s\u001b[0m 44ms/step - categorical_accuracy: 0.7813 - loss: 0.5376 - val_categorical_accuracy: 0.7204 - val_loss: 0.8604\n",
      "Epoch 101/300\n",
      "\u001b[1m38/38\u001b[0m \u001b[32m━━━━━━━━━━━━━━━━━━━━\u001b[0m\u001b[37m\u001b[0m \u001b[1m2s\u001b[0m 44ms/step - categorical_accuracy: 0.7823 - loss: 0.5468 - val_categorical_accuracy: 0.7664 - val_loss: 0.7856\n",
      "Epoch 102/300\n",
      "\u001b[1m38/38\u001b[0m \u001b[32m━━━━━━━━━━━━━━━━━━━━\u001b[0m\u001b[37m\u001b[0m \u001b[1m2s\u001b[0m 44ms/step - categorical_accuracy: 0.8005 - loss: 0.5058 - val_categorical_accuracy: 0.7829 - val_loss: 0.7594\n",
      "Epoch 103/300\n",
      "\u001b[1m38/38\u001b[0m \u001b[32m━━━━━━━━━━━━━━━━━━━━\u001b[0m\u001b[37m\u001b[0m \u001b[1m2s\u001b[0m 44ms/step - categorical_accuracy: 0.8258 - loss: 0.4652 - val_categorical_accuracy: 0.7993 - val_loss: 0.7430\n",
      "Epoch 104/300\n",
      "\u001b[1m38/38\u001b[0m \u001b[32m━━━━━━━━━━━━━━━━━━━━\u001b[0m\u001b[37m\u001b[0m \u001b[1m2s\u001b[0m 45ms/step - categorical_accuracy: 0.8318 - loss: 0.4369 - val_categorical_accuracy: 0.7467 - val_loss: 0.8665\n",
      "Epoch 105/300\n",
      "\u001b[1m38/38\u001b[0m \u001b[32m━━━━━━━━━━━━━━━━━━━━\u001b[0m\u001b[37m\u001b[0m \u001b[1m2s\u001b[0m 44ms/step - categorical_accuracy: 0.8324 - loss: 0.4357 - val_categorical_accuracy: 0.7500 - val_loss: 0.8180\n",
      "Epoch 106/300\n",
      "\u001b[1m38/38\u001b[0m \u001b[32m━━━━━━━━━━━━━━━━━━━━\u001b[0m\u001b[37m\u001b[0m \u001b[1m2s\u001b[0m 44ms/step - categorical_accuracy: 0.8512 - loss: 0.4039 - val_categorical_accuracy: 0.7599 - val_loss: 0.7848\n",
      "Epoch 107/300\n",
      "\u001b[1m38/38\u001b[0m \u001b[32m━━━━━━━━━━━━━━━━━━━━\u001b[0m\u001b[37m\u001b[0m \u001b[1m2s\u001b[0m 44ms/step - categorical_accuracy: 0.8545 - loss: 0.3967 - val_categorical_accuracy: 0.6974 - val_loss: 0.9066\n",
      "Epoch 108/300\n",
      "\u001b[1m38/38\u001b[0m \u001b[32m━━━━━━━━━━━━━━━━━━━━\u001b[0m\u001b[37m\u001b[0m \u001b[1m2s\u001b[0m 44ms/step - categorical_accuracy: 0.8509 - loss: 0.4036 - val_categorical_accuracy: 0.7467 - val_loss: 0.8915\n",
      "Epoch 109/300\n",
      "\u001b[1m38/38\u001b[0m \u001b[32m━━━━━━━━━━━━━━━━━━━━\u001b[0m\u001b[37m\u001b[0m \u001b[1m2s\u001b[0m 44ms/step - categorical_accuracy: 0.8516 - loss: 0.3954 - val_categorical_accuracy: 0.7039 - val_loss: 0.9496\n",
      "Epoch 110/300\n",
      "\u001b[1m38/38\u001b[0m \u001b[32m━━━━━━━━━━━━━━━━━━━━\u001b[0m\u001b[37m\u001b[0m \u001b[1m2s\u001b[0m 44ms/step - categorical_accuracy: 0.8464 - loss: 0.4009 - val_categorical_accuracy: 0.6711 - val_loss: 1.0849\n",
      "Epoch 111/300\n",
      "\u001b[1m38/38\u001b[0m \u001b[32m━━━━━━━━━━━━━━━━━━━━\u001b[0m\u001b[37m\u001b[0m \u001b[1m2s\u001b[0m 44ms/step - categorical_accuracy: 0.8281 - loss: 0.4315 - val_categorical_accuracy: 0.7039 - val_loss: 0.9593\n",
      "Epoch 112/300\n",
      "\u001b[1m38/38\u001b[0m \u001b[32m━━━━━━━━━━━━━━━━━━━━\u001b[0m\u001b[37m\u001b[0m \u001b[1m2s\u001b[0m 44ms/step - categorical_accuracy: 0.8054 - loss: 0.4749 - val_categorical_accuracy: 0.7829 - val_loss: 0.7761\n",
      "Epoch 113/300\n",
      "\u001b[1m38/38\u001b[0m \u001b[32m━━━━━━━━━━━━━━━━━━━━\u001b[0m\u001b[37m\u001b[0m \u001b[1m2s\u001b[0m 45ms/step - categorical_accuracy: 0.8327 - loss: 0.4680 - val_categorical_accuracy: 0.7368 - val_loss: 0.9460\n",
      "Epoch 114/300\n",
      "\u001b[1m38/38\u001b[0m \u001b[32m━━━━━━━━━━━━━━━━━━━━\u001b[0m\u001b[37m\u001b[0m \u001b[1m2s\u001b[0m 44ms/step - categorical_accuracy: 0.8185 - loss: 0.4804 - val_categorical_accuracy: 0.7895 - val_loss: 0.7170\n",
      "Epoch 115/300\n",
      "\u001b[1m38/38\u001b[0m \u001b[32m━━━━━━━━━━━━━━━━━━━━\u001b[0m\u001b[37m\u001b[0m \u001b[1m2s\u001b[0m 44ms/step - categorical_accuracy: 0.8328 - loss: 0.4391 - val_categorical_accuracy: 0.7993 - val_loss: 0.7814\n",
      "Epoch 116/300\n",
      "\u001b[1m38/38\u001b[0m \u001b[32m━━━━━━━━━━━━━━━━━━━━\u001b[0m\u001b[37m\u001b[0m \u001b[1m2s\u001b[0m 44ms/step - categorical_accuracy: 0.8450 - loss: 0.3966 - val_categorical_accuracy: 0.7961 - val_loss: 0.7900\n",
      "Epoch 117/300\n",
      "\u001b[1m38/38\u001b[0m \u001b[32m━━━━━━━━━━━━━━━━━━━━\u001b[0m\u001b[37m\u001b[0m \u001b[1m2s\u001b[0m 44ms/step - categorical_accuracy: 0.8401 - loss: 0.3672 - val_categorical_accuracy: 0.7993 - val_loss: 0.8273\n",
      "Epoch 118/300\n",
      "\u001b[1m38/38\u001b[0m \u001b[32m━━━━━━━━━━━━━━━━━━━━\u001b[0m\u001b[37m\u001b[0m \u001b[1m2s\u001b[0m 44ms/step - categorical_accuracy: 0.8675 - loss: 0.3635 - val_categorical_accuracy: 0.7796 - val_loss: 0.8540\n",
      "Epoch 119/300\n",
      "\u001b[1m38/38\u001b[0m \u001b[32m━━━━━━━━━━━━━━━━━━━━\u001b[0m\u001b[37m\u001b[0m \u001b[1m2s\u001b[0m 44ms/step - categorical_accuracy: 0.8485 - loss: 0.3613 - val_categorical_accuracy: 0.7763 - val_loss: 0.8879\n",
      "Epoch 120/300\n",
      "\u001b[1m38/38\u001b[0m \u001b[32m━━━━━━━━━━━━━━━━━━━━\u001b[0m\u001b[37m\u001b[0m \u001b[1m2s\u001b[0m 44ms/step - categorical_accuracy: 0.8528 - loss: 0.3781 - val_categorical_accuracy: 0.7829 - val_loss: 0.8847\n",
      "Epoch 121/300\n",
      "\u001b[1m38/38\u001b[0m \u001b[32m━━━━━━━━━━━━━━━━━━━━\u001b[0m\u001b[37m\u001b[0m \u001b[1m2s\u001b[0m 44ms/step - categorical_accuracy: 0.8655 - loss: 0.3479 - val_categorical_accuracy: 0.8092 - val_loss: 0.8236\n",
      "Epoch 122/300\n",
      "\u001b[1m38/38\u001b[0m \u001b[32m━━━━━━━━━━━━━━━━━━━━\u001b[0m\u001b[37m\u001b[0m \u001b[1m2s\u001b[0m 44ms/step - categorical_accuracy: 0.8676 - loss: 0.3454 - val_categorical_accuracy: 0.7401 - val_loss: 0.9260\n",
      "Epoch 123/300\n",
      "\u001b[1m38/38\u001b[0m \u001b[32m━━━━━━━━━━━━━━━━━━━━\u001b[0m\u001b[37m\u001b[0m \u001b[1m2s\u001b[0m 44ms/step - categorical_accuracy: 0.8643 - loss: 0.3639 - val_categorical_accuracy: 0.8026 - val_loss: 0.6816\n",
      "Epoch 124/300\n",
      "\u001b[1m38/38\u001b[0m \u001b[32m━━━━━━━━━━━━━━━━━━━━\u001b[0m\u001b[37m\u001b[0m \u001b[1m2s\u001b[0m 44ms/step - categorical_accuracy: 0.8459 - loss: 0.4146 - val_categorical_accuracy: 0.7566 - val_loss: 0.7773\n",
      "Epoch 125/300\n",
      "\u001b[1m38/38\u001b[0m \u001b[32m━━━━━━━━━━━━━━━━━━━━\u001b[0m\u001b[37m\u001b[0m \u001b[1m2s\u001b[0m 45ms/step - categorical_accuracy: 0.8422 - loss: 0.4173 - val_categorical_accuracy: 0.7796 - val_loss: 0.7619\n",
      "Epoch 126/300\n",
      "\u001b[1m38/38\u001b[0m \u001b[32m━━━━━━━━━━━━━━━━━━━━\u001b[0m\u001b[37m\u001b[0m \u001b[1m2s\u001b[0m 45ms/step - categorical_accuracy: 0.8657 - loss: 0.3555 - val_categorical_accuracy: 0.8026 - val_loss: 0.7841\n",
      "Epoch 127/300\n",
      "\u001b[1m38/38\u001b[0m \u001b[32m━━━━━━━━━━━━━━━━━━━━\u001b[0m\u001b[37m\u001b[0m \u001b[1m2s\u001b[0m 44ms/step - categorical_accuracy: 0.8615 - loss: 0.3646 - val_categorical_accuracy: 0.7401 - val_loss: 0.9330\n",
      "Epoch 128/300\n",
      "\u001b[1m38/38\u001b[0m \u001b[32m━━━━━━━━━━━━━━━━━━━━\u001b[0m\u001b[37m\u001b[0m \u001b[1m2s\u001b[0m 44ms/step - categorical_accuracy: 0.8723 - loss: 0.3458 - val_categorical_accuracy: 0.8125 - val_loss: 0.7350\n",
      "Epoch 129/300\n",
      "\u001b[1m38/38\u001b[0m \u001b[32m━━━━━━━━━━━━━━━━━━━━\u001b[0m\u001b[37m\u001b[0m \u001b[1m2s\u001b[0m 45ms/step - categorical_accuracy: 0.8912 - loss: 0.3086 - val_categorical_accuracy: 0.7961 - val_loss: 0.8130\n",
      "Epoch 130/300\n",
      "\u001b[1m38/38\u001b[0m \u001b[32m━━━━━━━━━━━━━━━━━━━━\u001b[0m\u001b[37m\u001b[0m \u001b[1m2s\u001b[0m 44ms/step - categorical_accuracy: 0.8549 - loss: 0.3479 - val_categorical_accuracy: 0.6941 - val_loss: 1.0993\n",
      "Epoch 131/300\n",
      "\u001b[1m38/38\u001b[0m \u001b[32m━━━━━━━━━━━━━━━━━━━━\u001b[0m\u001b[37m\u001b[0m \u001b[1m2s\u001b[0m 47ms/step - categorical_accuracy: 0.8373 - loss: 0.4563 - val_categorical_accuracy: 0.7961 - val_loss: 0.7591\n",
      "Epoch 132/300\n",
      "\u001b[1m38/38\u001b[0m \u001b[32m━━━━━━━━━━━━━━━━━━━━\u001b[0m\u001b[37m\u001b[0m \u001b[1m2s\u001b[0m 46ms/step - categorical_accuracy: 0.8713 - loss: 0.3570 - val_categorical_accuracy: 0.7632 - val_loss: 0.8984\n",
      "Epoch 133/300\n",
      "\u001b[1m38/38\u001b[0m \u001b[32m━━━━━━━━━━━━━━━━━━━━\u001b[0m\u001b[37m\u001b[0m \u001b[1m2s\u001b[0m 44ms/step - categorical_accuracy: 0.8565 - loss: 0.3653 - val_categorical_accuracy: 0.8026 - val_loss: 0.7440\n",
      "Epoch 134/300\n",
      "\u001b[1m38/38\u001b[0m \u001b[32m━━━━━━━━━━━━━━━━━━━━\u001b[0m\u001b[37m\u001b[0m \u001b[1m2s\u001b[0m 44ms/step - categorical_accuracy: 0.8664 - loss: 0.3462 - val_categorical_accuracy: 0.8026 - val_loss: 0.7370\n",
      "Epoch 135/300\n",
      "\u001b[1m38/38\u001b[0m \u001b[32m━━━━━━━━━━━━━━━━━━━━\u001b[0m\u001b[37m\u001b[0m \u001b[1m2s\u001b[0m 44ms/step - categorical_accuracy: 0.7653 - loss: 1.5966 - val_categorical_accuracy: 0.1546 - val_loss: 2.3591\n",
      "Epoch 136/300\n",
      "\u001b[1m38/38\u001b[0m \u001b[32m━━━━━━━━━━━━━━━━━━━━\u001b[0m\u001b[37m\u001b[0m \u001b[1m2s\u001b[0m 44ms/step - categorical_accuracy: 0.1879 - loss: 2.4027 - val_categorical_accuracy: 0.1809 - val_loss: 2.1512\n",
      "Epoch 137/300\n",
      "\u001b[1m38/38\u001b[0m \u001b[32m━━━━━━━━━━━━━━━━━━━━\u001b[0m\u001b[37m\u001b[0m \u001b[1m2s\u001b[0m 44ms/step - categorical_accuracy: 0.1613 - loss: 2.1999 - val_categorical_accuracy: 0.1875 - val_loss: 2.0331\n",
      "Epoch 138/300\n",
      "\u001b[1m38/38\u001b[0m \u001b[32m━━━━━━━━━━━━━━━━━━━━\u001b[0m\u001b[37m\u001b[0m \u001b[1m2s\u001b[0m 45ms/step - categorical_accuracy: 0.2699 - loss: 1.8765 - val_categorical_accuracy: 0.2632 - val_loss: 1.9985\n",
      "Epoch 139/300\n",
      "\u001b[1m38/38\u001b[0m \u001b[32m━━━━━━━━━━━━━━━━━━━━\u001b[0m\u001b[37m\u001b[0m \u001b[1m2s\u001b[0m 44ms/step - categorical_accuracy: 0.3058 - loss: 1.7490 - val_categorical_accuracy: 0.2961 - val_loss: 1.8853\n",
      "Epoch 140/300\n",
      "\u001b[1m38/38\u001b[0m \u001b[32m━━━━━━━━━━━━━━━━━━━━\u001b[0m\u001b[37m\u001b[0m \u001b[1m2s\u001b[0m 44ms/step - categorical_accuracy: 0.4431 - loss: 1.6031 - val_categorical_accuracy: 0.4967 - val_loss: 1.5769\n",
      "Epoch 141/300\n",
      "\u001b[1m38/38\u001b[0m \u001b[32m━━━━━━━━━━━━━━━━━━━━\u001b[0m\u001b[37m\u001b[0m \u001b[1m2s\u001b[0m 45ms/step - categorical_accuracy: 0.5009 - loss: 1.4636 - val_categorical_accuracy: 0.5164 - val_loss: 1.4703\n",
      "Epoch 142/300\n",
      "\u001b[1m38/38\u001b[0m \u001b[32m━━━━━━━━━━━━━━━━━━━━\u001b[0m\u001b[37m\u001b[0m \u001b[1m2s\u001b[0m 45ms/step - categorical_accuracy: 0.5573 - loss: 1.3317 - val_categorical_accuracy: 0.4638 - val_loss: 1.4872\n",
      "Epoch 143/300\n",
      "\u001b[1m38/38\u001b[0m \u001b[32m━━━━━━━━━━━━━━━━━━━━\u001b[0m\u001b[37m\u001b[0m \u001b[1m2s\u001b[0m 44ms/step - categorical_accuracy: 0.5755 - loss: 1.2715 - val_categorical_accuracy: 0.5822 - val_loss: 1.2806\n",
      "Epoch 144/300\n",
      "\u001b[1m38/38\u001b[0m \u001b[32m━━━━━━━━━━━━━━━━━━━━\u001b[0m\u001b[37m\u001b[0m \u001b[1m2s\u001b[0m 47ms/step - categorical_accuracy: 0.6041 - loss: 1.1331 - val_categorical_accuracy: 0.5526 - val_loss: 1.3081\n",
      "Epoch 145/300\n",
      "\u001b[1m38/38\u001b[0m \u001b[32m━━━━━━━━━━━━━━━━━━━━\u001b[0m\u001b[37m\u001b[0m \u001b[1m2s\u001b[0m 47ms/step - categorical_accuracy: 0.6069 - loss: 1.1021 - val_categorical_accuracy: 0.5559 - val_loss: 1.1944\n",
      "Epoch 146/300\n",
      "\u001b[1m38/38\u001b[0m \u001b[32m━━━━━━━━━━━━━━━━━━━━\u001b[0m\u001b[37m\u001b[0m \u001b[1m2s\u001b[0m 49ms/step - categorical_accuracy: 0.6505 - loss: 0.9876 - val_categorical_accuracy: 0.5526 - val_loss: 1.1858\n",
      "Epoch 147/300\n",
      "\u001b[1m38/38\u001b[0m \u001b[32m━━━━━━━━━━━━━━━━━━━━\u001b[0m\u001b[37m\u001b[0m \u001b[1m2s\u001b[0m 47ms/step - categorical_accuracy: 0.6618 - loss: 0.9194 - val_categorical_accuracy: 0.5921 - val_loss: 1.0948\n",
      "Epoch 148/300\n",
      "\u001b[1m38/38\u001b[0m \u001b[32m━━━━━━━━━━━━━━━━━━━━\u001b[0m\u001b[37m\u001b[0m \u001b[1m2s\u001b[0m 47ms/step - categorical_accuracy: 0.6861 - loss: 0.8707 - val_categorical_accuracy: 0.5033 - val_loss: 1.3705\n",
      "Epoch 149/300\n",
      "\u001b[1m38/38\u001b[0m \u001b[32m━━━━━━━━━━━━━━━━━━━━\u001b[0m\u001b[37m\u001b[0m \u001b[1m2s\u001b[0m 45ms/step - categorical_accuracy: 0.6384 - loss: 0.9948 - val_categorical_accuracy: 0.6382 - val_loss: 1.1189\n",
      "Epoch 150/300\n",
      "\u001b[1m38/38\u001b[0m \u001b[32m━━━━━━━━━━━━━━━━━━━━\u001b[0m\u001b[37m\u001b[0m \u001b[1m2s\u001b[0m 44ms/step - categorical_accuracy: 0.6846 - loss: 0.8804 - val_categorical_accuracy: 0.4441 - val_loss: 1.6369\n",
      "Epoch 151/300\n",
      "\u001b[1m38/38\u001b[0m \u001b[32m━━━━━━━━━━━━━━━━━━━━\u001b[0m\u001b[37m\u001b[0m \u001b[1m2s\u001b[0m 44ms/step - categorical_accuracy: 0.4670 - loss: 1.4788 - val_categorical_accuracy: 0.5493 - val_loss: 1.2515\n",
      "Epoch 152/300\n",
      "\u001b[1m38/38\u001b[0m \u001b[32m━━━━━━━━━━━━━━━━━━━━\u001b[0m\u001b[37m\u001b[0m \u001b[1m2s\u001b[0m 44ms/step - categorical_accuracy: 0.6402 - loss: 1.0194 - val_categorical_accuracy: 0.5493 - val_loss: 1.1940\n",
      "Epoch 153/300\n",
      "\u001b[1m38/38\u001b[0m \u001b[32m━━━━━━━━━━━━━━━━━━━━\u001b[0m\u001b[37m\u001b[0m \u001b[1m2s\u001b[0m 44ms/step - categorical_accuracy: 0.6907 - loss: 0.8885 - val_categorical_accuracy: 0.5855 - val_loss: 1.1730\n",
      "Epoch 154/300\n",
      "\u001b[1m38/38\u001b[0m \u001b[32m━━━━━━━━━━━━━━━━━━━━\u001b[0m\u001b[37m\u001b[0m \u001b[1m2s\u001b[0m 43ms/step - categorical_accuracy: 0.7125 - loss: 0.8261 - val_categorical_accuracy: 0.6776 - val_loss: 1.0028\n",
      "Epoch 155/300\n",
      "\u001b[1m38/38\u001b[0m \u001b[32m━━━━━━━━━━━━━━━━━━━━\u001b[0m\u001b[37m\u001b[0m \u001b[1m2s\u001b[0m 44ms/step - categorical_accuracy: 0.7208 - loss: 0.7612 - val_categorical_accuracy: 0.5987 - val_loss: 1.1371\n",
      "Epoch 156/300\n",
      "\u001b[1m38/38\u001b[0m \u001b[32m━━━━━━━━━━━━━━━━━━━━\u001b[0m\u001b[37m\u001b[0m \u001b[1m2s\u001b[0m 45ms/step - categorical_accuracy: 0.7233 - loss: 0.7858 - val_categorical_accuracy: 0.6875 - val_loss: 0.9246\n",
      "Epoch 157/300\n",
      "\u001b[1m38/38\u001b[0m \u001b[32m━━━━━━━━━━━━━━━━━━━━\u001b[0m\u001b[37m\u001b[0m \u001b[1m2s\u001b[0m 44ms/step - categorical_accuracy: 0.7441 - loss: 0.7226 - val_categorical_accuracy: 0.6743 - val_loss: 0.9400\n",
      "Epoch 158/300\n",
      "\u001b[1m38/38\u001b[0m \u001b[32m━━━━━━━━━━━━━━━━━━━━\u001b[0m\u001b[37m\u001b[0m \u001b[1m2s\u001b[0m 44ms/step - categorical_accuracy: 0.7267 - loss: 0.7307 - val_categorical_accuracy: 0.6974 - val_loss: 0.9078\n",
      "Epoch 159/300\n",
      "\u001b[1m38/38\u001b[0m \u001b[32m━━━━━━━━━━━━━━━━━━━━\u001b[0m\u001b[37m\u001b[0m \u001b[1m2s\u001b[0m 44ms/step - categorical_accuracy: 0.7458 - loss: 0.6903 - val_categorical_accuracy: 0.6480 - val_loss: 0.9649\n",
      "Epoch 160/300\n",
      "\u001b[1m38/38\u001b[0m \u001b[32m━━━━━━━━━━━━━━━━━━━━\u001b[0m\u001b[37m\u001b[0m \u001b[1m2s\u001b[0m 46ms/step - categorical_accuracy: 0.7352 - loss: 0.7725 - val_categorical_accuracy: 0.6283 - val_loss: 1.1358\n",
      "Epoch 161/300\n",
      "\u001b[1m38/38\u001b[0m \u001b[32m━━━━━━━━━━━━━━━━━━━━\u001b[0m\u001b[37m\u001b[0m \u001b[1m2s\u001b[0m 46ms/step - categorical_accuracy: 0.7045 - loss: 0.7756 - val_categorical_accuracy: 0.6941 - val_loss: 0.8383\n",
      "Epoch 162/300\n",
      "\u001b[1m38/38\u001b[0m \u001b[32m━━━━━━━━━━━━━━━━━━━━\u001b[0m\u001b[37m\u001b[0m \u001b[1m2s\u001b[0m 44ms/step - categorical_accuracy: 0.7595 - loss: 0.6685 - val_categorical_accuracy: 0.6908 - val_loss: 0.9065\n",
      "Epoch 163/300\n",
      "\u001b[1m38/38\u001b[0m \u001b[32m━━━━━━━━━━━━━━━━━━━━\u001b[0m\u001b[37m\u001b[0m \u001b[1m2s\u001b[0m 44ms/step - categorical_accuracy: 0.7645 - loss: 0.6629 - val_categorical_accuracy: 0.6711 - val_loss: 0.8898\n",
      "Epoch 164/300\n",
      "\u001b[1m38/38\u001b[0m \u001b[32m━━━━━━━━━━━━━━━━━━━━\u001b[0m\u001b[37m\u001b[0m \u001b[1m2s\u001b[0m 44ms/step - categorical_accuracy: 0.7671 - loss: 0.6904 - val_categorical_accuracy: 0.6414 - val_loss: 0.9760\n",
      "Epoch 165/300\n",
      "\u001b[1m38/38\u001b[0m \u001b[32m━━━━━━━━━━━━━━━━━━━━\u001b[0m\u001b[37m\u001b[0m \u001b[1m2s\u001b[0m 44ms/step - categorical_accuracy: 0.7540 - loss: 0.7011 - val_categorical_accuracy: 0.6776 - val_loss: 0.8991\n",
      "Epoch 166/300\n",
      "\u001b[1m38/38\u001b[0m \u001b[32m━━━━━━━━━━━━━━━━━━━━\u001b[0m\u001b[37m\u001b[0m \u001b[1m2s\u001b[0m 45ms/step - categorical_accuracy: 0.7784 - loss: 0.6405 - val_categorical_accuracy: 0.7303 - val_loss: 0.7828\n",
      "Epoch 167/300\n",
      "\u001b[1m38/38\u001b[0m \u001b[32m━━━━━━━━━━━━━━━━━━━━\u001b[0m\u001b[37m\u001b[0m \u001b[1m2s\u001b[0m 44ms/step - categorical_accuracy: 0.8071 - loss: 0.5686 - val_categorical_accuracy: 0.7467 - val_loss: 0.7336\n",
      "Epoch 168/300\n",
      "\u001b[1m38/38\u001b[0m \u001b[32m━━━━━━━━━━━━━━━━━━━━\u001b[0m\u001b[37m\u001b[0m \u001b[1m2s\u001b[0m 44ms/step - categorical_accuracy: 0.8203 - loss: 0.5413 - val_categorical_accuracy: 0.7401 - val_loss: 0.7510\n",
      "Epoch 169/300\n",
      "\u001b[1m38/38\u001b[0m \u001b[32m━━━━━━━━━━━━━━━━━━━━\u001b[0m\u001b[37m\u001b[0m \u001b[1m2s\u001b[0m 45ms/step - categorical_accuracy: 0.8101 - loss: 0.5532 - val_categorical_accuracy: 0.7336 - val_loss: 0.7555\n",
      "Epoch 170/300\n",
      "\u001b[1m38/38\u001b[0m \u001b[32m━━━━━━━━━━━━━━━━━━━━\u001b[0m\u001b[37m\u001b[0m \u001b[1m2s\u001b[0m 44ms/step - categorical_accuracy: 0.7933 - loss: 0.5866 - val_categorical_accuracy: 0.7138 - val_loss: 0.8743\n",
      "Epoch 171/300\n",
      "\u001b[1m38/38\u001b[0m \u001b[32m━━━━━━━━━━━━━━━━━━━━\u001b[0m\u001b[37m\u001b[0m \u001b[1m2s\u001b[0m 44ms/step - categorical_accuracy: 0.7929 - loss: 0.5636 - val_categorical_accuracy: 0.6382 - val_loss: 1.1043\n",
      "Epoch 172/300\n",
      "\u001b[1m38/38\u001b[0m \u001b[32m━━━━━━━━━━━━━━━━━━━━\u001b[0m\u001b[37m\u001b[0m \u001b[1m2s\u001b[0m 44ms/step - categorical_accuracy: 0.7818 - loss: 0.6174 - val_categorical_accuracy: 0.6776 - val_loss: 0.8756\n",
      "Epoch 173/300\n",
      "\u001b[1m38/38\u001b[0m \u001b[32m━━━━━━━━━━━━━━━━━━━━\u001b[0m\u001b[37m\u001b[0m \u001b[1m2s\u001b[0m 44ms/step - categorical_accuracy: 0.8085 - loss: 0.5419 - val_categorical_accuracy: 0.6776 - val_loss: 0.8883\n",
      "Epoch 174/300\n",
      "\u001b[1m38/38\u001b[0m \u001b[32m━━━━━━━━━━━━━━━━━━━━\u001b[0m\u001b[37m\u001b[0m \u001b[1m2s\u001b[0m 45ms/step - categorical_accuracy: 0.8079 - loss: 0.5072 - val_categorical_accuracy: 0.7007 - val_loss: 0.8444\n",
      "Epoch 175/300\n",
      "\u001b[1m38/38\u001b[0m \u001b[32m━━━━━━━━━━━━━━━━━━━━\u001b[0m\u001b[37m\u001b[0m \u001b[1m2s\u001b[0m 44ms/step - categorical_accuracy: 0.8110 - loss: 0.5313 - val_categorical_accuracy: 0.7171 - val_loss: 0.8686\n",
      "Epoch 176/300\n",
      "\u001b[1m38/38\u001b[0m \u001b[32m━━━━━━━━━━━━━━━━━━━━\u001b[0m\u001b[37m\u001b[0m \u001b[1m2s\u001b[0m 44ms/step - categorical_accuracy: 0.8216 - loss: 0.5071 - val_categorical_accuracy: 0.7138 - val_loss: 0.8190\n",
      "Epoch 177/300\n",
      "\u001b[1m38/38\u001b[0m \u001b[32m━━━━━━━━━━━━━━━━━━━━\u001b[0m\u001b[37m\u001b[0m \u001b[1m2s\u001b[0m 44ms/step - categorical_accuracy: 0.8293 - loss: 0.5318 - val_categorical_accuracy: 0.7961 - val_loss: 0.6612\n",
      "Epoch 178/300\n",
      "\u001b[1m38/38\u001b[0m \u001b[32m━━━━━━━━━━━━━━━━━━━━\u001b[0m\u001b[37m\u001b[0m \u001b[1m2s\u001b[0m 44ms/step - categorical_accuracy: 0.8508 - loss: 0.4398 - val_categorical_accuracy: 0.7336 - val_loss: 0.7457\n",
      "Epoch 179/300\n",
      "\u001b[1m38/38\u001b[0m \u001b[32m━━━━━━━━━━━━━━━━━━━━\u001b[0m\u001b[37m\u001b[0m \u001b[1m2s\u001b[0m 44ms/step - categorical_accuracy: 0.8442 - loss: 0.4542 - val_categorical_accuracy: 0.6678 - val_loss: 1.0183\n",
      "Epoch 180/300\n",
      "\u001b[1m38/38\u001b[0m \u001b[32m━━━━━━━━━━━━━━━━━━━━\u001b[0m\u001b[37m\u001b[0m \u001b[1m2s\u001b[0m 44ms/step - categorical_accuracy: 0.7721 - loss: 0.6847 - val_categorical_accuracy: 0.7303 - val_loss: 0.8642\n",
      "Epoch 181/300\n",
      "\u001b[1m38/38\u001b[0m \u001b[32m━━━━━━━━━━━━━━━━━━━━\u001b[0m\u001b[37m\u001b[0m \u001b[1m2s\u001b[0m 45ms/step - categorical_accuracy: 0.8277 - loss: 0.4751 - val_categorical_accuracy: 0.7664 - val_loss: 0.7464\n",
      "Epoch 182/300\n",
      "\u001b[1m38/38\u001b[0m \u001b[32m━━━━━━━━━━━━━━━━━━━━\u001b[0m\u001b[37m\u001b[0m \u001b[1m2s\u001b[0m 44ms/step - categorical_accuracy: 0.8517 - loss: 0.4359 - val_categorical_accuracy: 0.7270 - val_loss: 0.7819\n",
      "Epoch 183/300\n",
      "\u001b[1m38/38\u001b[0m \u001b[32m━━━━━━━━━━━━━━━━━━━━\u001b[0m\u001b[37m\u001b[0m \u001b[1m2s\u001b[0m 45ms/step - categorical_accuracy: 0.8315 - loss: 0.4403 - val_categorical_accuracy: 0.7204 - val_loss: 0.7844\n",
      "Epoch 184/300\n",
      "\u001b[1m38/38\u001b[0m \u001b[32m━━━━━━━━━━━━━━━━━━━━\u001b[0m\u001b[37m\u001b[0m \u001b[1m2s\u001b[0m 44ms/step - categorical_accuracy: 0.8446 - loss: 0.4290 - val_categorical_accuracy: 0.7204 - val_loss: 0.8470\n",
      "Epoch 185/300\n",
      "\u001b[1m38/38\u001b[0m \u001b[32m━━━━━━━━━━━━━━━━━━━━\u001b[0m\u001b[37m\u001b[0m \u001b[1m2s\u001b[0m 44ms/step - categorical_accuracy: 0.8177 - loss: 0.4634 - val_categorical_accuracy: 0.8026 - val_loss: 0.7009\n",
      "Epoch 186/300\n",
      "\u001b[1m38/38\u001b[0m \u001b[32m━━━━━━━━━━━━━━━━━━━━\u001b[0m\u001b[37m\u001b[0m \u001b[1m2s\u001b[0m 45ms/step - categorical_accuracy: 0.8608 - loss: 0.4101 - val_categorical_accuracy: 0.8355 - val_loss: 0.5528\n",
      "Epoch 187/300\n",
      "\u001b[1m38/38\u001b[0m \u001b[32m━━━━━━━━━━━━━━━━━━━━\u001b[0m\u001b[37m\u001b[0m \u001b[1m2s\u001b[0m 44ms/step - categorical_accuracy: 0.8649 - loss: 0.3922 - val_categorical_accuracy: 0.7566 - val_loss: 0.7040\n",
      "Epoch 188/300\n",
      "\u001b[1m38/38\u001b[0m \u001b[32m━━━━━━━━━━━━━━━━━━━━\u001b[0m\u001b[37m\u001b[0m \u001b[1m2s\u001b[0m 44ms/step - categorical_accuracy: 0.8266 - loss: 0.4886 - val_categorical_accuracy: 0.7961 - val_loss: 0.6713\n",
      "Epoch 189/300\n",
      "\u001b[1m38/38\u001b[0m \u001b[32m━━━━━━━━━━━━━━━━━━━━\u001b[0m\u001b[37m\u001b[0m \u001b[1m2s\u001b[0m 44ms/step - categorical_accuracy: 0.8679 - loss: 0.3774 - val_categorical_accuracy: 0.7467 - val_loss: 0.7427\n",
      "Epoch 190/300\n",
      "\u001b[1m38/38\u001b[0m \u001b[32m━━━━━━━━━━━━━━━━━━━━\u001b[0m\u001b[37m\u001b[0m \u001b[1m2s\u001b[0m 45ms/step - categorical_accuracy: 0.8651 - loss: 0.4109 - val_categorical_accuracy: 0.8224 - val_loss: 0.6422\n",
      "Epoch 191/300\n",
      "\u001b[1m38/38\u001b[0m \u001b[32m━━━━━━━━━━━━━━━━━━━━\u001b[0m\u001b[37m\u001b[0m \u001b[1m2s\u001b[0m 44ms/step - categorical_accuracy: 0.8699 - loss: 0.3817 - val_categorical_accuracy: 0.8125 - val_loss: 0.6524\n",
      "Epoch 192/300\n",
      "\u001b[1m38/38\u001b[0m \u001b[32m━━━━━━━━━━━━━━━━━━━━\u001b[0m\u001b[37m\u001b[0m \u001b[1m2s\u001b[0m 44ms/step - categorical_accuracy: 0.8784 - loss: 0.3631 - val_categorical_accuracy: 0.7796 - val_loss: 0.6979\n",
      "Epoch 193/300\n",
      "\u001b[1m38/38\u001b[0m \u001b[32m━━━━━━━━━━━━━━━━━━━━\u001b[0m\u001b[37m\u001b[0m \u001b[1m2s\u001b[0m 45ms/step - categorical_accuracy: 0.8667 - loss: 0.3742 - val_categorical_accuracy: 0.8092 - val_loss: 0.6663\n",
      "Epoch 194/300\n",
      "\u001b[1m38/38\u001b[0m \u001b[32m━━━━━━━━━━━━━━━━━━━━\u001b[0m\u001b[37m\u001b[0m \u001b[1m2s\u001b[0m 44ms/step - categorical_accuracy: 0.8746 - loss: 0.3608 - val_categorical_accuracy: 0.8289 - val_loss: 0.5533\n",
      "Epoch 195/300\n",
      "\u001b[1m38/38\u001b[0m \u001b[32m━━━━━━━━━━━━━━━━━━━━\u001b[0m\u001b[37m\u001b[0m \u001b[1m2s\u001b[0m 44ms/step - categorical_accuracy: 0.8723 - loss: 0.3418 - val_categorical_accuracy: 0.7993 - val_loss: 0.7176\n",
      "Epoch 196/300\n",
      "\u001b[1m38/38\u001b[0m \u001b[32m━━━━━━━━━━━━━━━━━━━━\u001b[0m\u001b[37m\u001b[0m \u001b[1m2s\u001b[0m 44ms/step - categorical_accuracy: 0.8584 - loss: 0.3831 - val_categorical_accuracy: 0.7533 - val_loss: 0.8401\n",
      "Epoch 197/300\n",
      "\u001b[1m38/38\u001b[0m \u001b[32m━━━━━━━━━━━━━━━━━━━━\u001b[0m\u001b[37m\u001b[0m \u001b[1m2s\u001b[0m 45ms/step - categorical_accuracy: 0.8457 - loss: 0.3968 - val_categorical_accuracy: 0.7829 - val_loss: 0.6809\n",
      "Epoch 198/300\n",
      "\u001b[1m38/38\u001b[0m \u001b[32m━━━━━━━━━━━━━━━━━━━━\u001b[0m\u001b[37m\u001b[0m \u001b[1m2s\u001b[0m 44ms/step - categorical_accuracy: 0.8690 - loss: 0.3634 - val_categorical_accuracy: 0.8059 - val_loss: 0.6605\n",
      "Epoch 199/300\n",
      "\u001b[1m38/38\u001b[0m \u001b[32m━━━━━━━━━━━━━━━━━━━━\u001b[0m\u001b[37m\u001b[0m \u001b[1m2s\u001b[0m 44ms/step - categorical_accuracy: 0.8812 - loss: 0.3385 - val_categorical_accuracy: 0.7368 - val_loss: 0.8444\n",
      "Epoch 200/300\n",
      "\u001b[1m38/38\u001b[0m \u001b[32m━━━━━━━━━━━━━━━━━━━━\u001b[0m\u001b[37m\u001b[0m \u001b[1m2s\u001b[0m 44ms/step - categorical_accuracy: 0.8634 - loss: 0.3765 - val_categorical_accuracy: 0.7204 - val_loss: 0.9310\n",
      "Epoch 201/300\n",
      "\u001b[1m38/38\u001b[0m \u001b[32m━━━━━━━━━━━━━━━━━━━━\u001b[0m\u001b[37m\u001b[0m \u001b[1m2s\u001b[0m 44ms/step - categorical_accuracy: 0.8316 - loss: 0.4261 - val_categorical_accuracy: 0.7730 - val_loss: 0.7128\n",
      "Epoch 202/300\n",
      "\u001b[1m38/38\u001b[0m \u001b[32m━━━━━━━━━━━━━━━━━━━━\u001b[0m\u001b[37m\u001b[0m \u001b[1m2s\u001b[0m 46ms/step - categorical_accuracy: 0.8289 - loss: 0.4259 - val_categorical_accuracy: 0.7566 - val_loss: 0.7756\n",
      "Epoch 203/300\n",
      "\u001b[1m38/38\u001b[0m \u001b[32m━━━━━━━━━━━━━━━━━━━━\u001b[0m\u001b[37m\u001b[0m \u001b[1m2s\u001b[0m 44ms/step - categorical_accuracy: 0.8247 - loss: 0.4463 - val_categorical_accuracy: 0.8257 - val_loss: 0.6567\n",
      "Epoch 204/300\n",
      "\u001b[1m38/38\u001b[0m \u001b[32m━━━━━━━━━━━━━━━━━━━━\u001b[0m\u001b[37m\u001b[0m \u001b[1m2s\u001b[0m 45ms/step - categorical_accuracy: 0.8533 - loss: 0.4644 - val_categorical_accuracy: 0.7730 - val_loss: 0.7452\n",
      "Epoch 205/300\n",
      "\u001b[1m38/38\u001b[0m \u001b[32m━━━━━━━━━━━━━━━━━━━━\u001b[0m\u001b[37m\u001b[0m \u001b[1m2s\u001b[0m 44ms/step - categorical_accuracy: 0.8388 - loss: 0.4777 - val_categorical_accuracy: 0.8092 - val_loss: 0.7346\n",
      "Epoch 206/300\n",
      "\u001b[1m38/38\u001b[0m \u001b[32m━━━━━━━━━━━━━━━━━━━━\u001b[0m\u001b[37m\u001b[0m \u001b[1m2s\u001b[0m 44ms/step - categorical_accuracy: 0.8610 - loss: 0.4225 - val_categorical_accuracy: 0.8355 - val_loss: 0.6186\n",
      "Epoch 207/300\n",
      "\u001b[1m38/38\u001b[0m \u001b[32m━━━━━━━━━━━━━━━━━━━━\u001b[0m\u001b[37m\u001b[0m \u001b[1m2s\u001b[0m 44ms/step - categorical_accuracy: 0.8690 - loss: 0.3702 - val_categorical_accuracy: 0.7697 - val_loss: 0.8211\n",
      "Epoch 208/300\n",
      "\u001b[1m38/38\u001b[0m \u001b[32m━━━━━━━━━━━━━━━━━━━━\u001b[0m\u001b[37m\u001b[0m \u001b[1m2s\u001b[0m 45ms/step - categorical_accuracy: 0.8475 - loss: 0.4374 - val_categorical_accuracy: 0.8059 - val_loss: 0.7888\n",
      "Epoch 209/300\n",
      "\u001b[1m38/38\u001b[0m \u001b[32m━━━━━━━━━━━━━━━━━━━━\u001b[0m\u001b[37m\u001b[0m \u001b[1m2s\u001b[0m 44ms/step - categorical_accuracy: 0.8750 - loss: 0.3427 - val_categorical_accuracy: 0.8553 - val_loss: 0.6759\n",
      "Epoch 210/300\n",
      "\u001b[1m38/38\u001b[0m \u001b[32m━━━━━━━━━━━━━━━━━━━━\u001b[0m\u001b[37m\u001b[0m \u001b[1m2s\u001b[0m 44ms/step - categorical_accuracy: 0.8803 - loss: 0.3404 - val_categorical_accuracy: 0.7928 - val_loss: 0.7158\n",
      "Epoch 211/300\n",
      "\u001b[1m38/38\u001b[0m \u001b[32m━━━━━━━━━━━━━━━━━━━━\u001b[0m\u001b[37m\u001b[0m \u001b[1m2s\u001b[0m 44ms/step - categorical_accuracy: 0.8539 - loss: 0.3802 - val_categorical_accuracy: 0.8454 - val_loss: 0.6591\n",
      "Epoch 212/300\n",
      "\u001b[1m38/38\u001b[0m \u001b[32m━━━━━━━━━━━━━━━━━━━━\u001b[0m\u001b[37m\u001b[0m \u001b[1m2s\u001b[0m 44ms/step - categorical_accuracy: 0.8973 - loss: 0.3049 - val_categorical_accuracy: 0.8191 - val_loss: 0.7084\n",
      "Epoch 213/300\n",
      "\u001b[1m38/38\u001b[0m \u001b[32m━━━━━━━━━━━━━━━━━━━━\u001b[0m\u001b[37m\u001b[0m \u001b[1m2s\u001b[0m 44ms/step - categorical_accuracy: 0.8896 - loss: 0.2920 - val_categorical_accuracy: 0.8454 - val_loss: 0.6897\n",
      "Epoch 214/300\n",
      "\u001b[1m38/38\u001b[0m \u001b[32m━━━━━━━━━━━━━━━━━━━━\u001b[0m\u001b[37m\u001b[0m \u001b[1m2s\u001b[0m 44ms/step - categorical_accuracy: 0.8919 - loss: 0.3041 - val_categorical_accuracy: 0.8224 - val_loss: 0.7486\n",
      "Epoch 215/300\n",
      "\u001b[1m38/38\u001b[0m \u001b[32m━━━━━━━━━━━━━━━━━━━━\u001b[0m\u001b[37m\u001b[0m \u001b[1m2s\u001b[0m 44ms/step - categorical_accuracy: 0.8956 - loss: 0.3093 - val_categorical_accuracy: 0.8421 - val_loss: 0.6853\n",
      "Epoch 216/300\n",
      "\u001b[1m38/38\u001b[0m \u001b[32m━━━━━━━━━━━━━━━━━━━━\u001b[0m\u001b[37m\u001b[0m \u001b[1m2s\u001b[0m 44ms/step - categorical_accuracy: 0.9009 - loss: 0.2694 - val_categorical_accuracy: 0.7862 - val_loss: 0.8149\n",
      "Epoch 217/300\n",
      "\u001b[1m38/38\u001b[0m \u001b[32m━━━━━━━━━━━━━━━━━━━━\u001b[0m\u001b[37m\u001b[0m \u001b[1m2s\u001b[0m 44ms/step - categorical_accuracy: 0.8972 - loss: 0.3024 - val_categorical_accuracy: 0.8322 - val_loss: 0.6801\n",
      "Epoch 218/300\n",
      "\u001b[1m38/38\u001b[0m \u001b[32m━━━━━━━━━━━━━━━━━━━━\u001b[0m\u001b[37m\u001b[0m \u001b[1m2s\u001b[0m 44ms/step - categorical_accuracy: 0.9069 - loss: 0.2568 - val_categorical_accuracy: 0.8487 - val_loss: 0.6767\n",
      "Epoch 219/300\n",
      "\u001b[1m38/38\u001b[0m \u001b[32m━━━━━━━━━━━━━━━━━━━━\u001b[0m\u001b[37m\u001b[0m \u001b[1m2s\u001b[0m 44ms/step - categorical_accuracy: 0.9022 - loss: 0.2834 - val_categorical_accuracy: 0.8257 - val_loss: 0.7217\n",
      "Epoch 220/300\n",
      "\u001b[1m38/38\u001b[0m \u001b[32m━━━━━━━━━━━━━━━━━━━━\u001b[0m\u001b[37m\u001b[0m \u001b[1m2s\u001b[0m 45ms/step - categorical_accuracy: 0.8928 - loss: 0.2896 - val_categorical_accuracy: 0.7796 - val_loss: 0.7620\n",
      "Epoch 221/300\n",
      "\u001b[1m38/38\u001b[0m \u001b[32m━━━━━━━━━━━━━━━━━━━━\u001b[0m\u001b[37m\u001b[0m \u001b[1m2s\u001b[0m 45ms/step - categorical_accuracy: 0.8904 - loss: 0.2797 - val_categorical_accuracy: 0.8487 - val_loss: 0.6690\n",
      "Epoch 222/300\n",
      "\u001b[1m38/38\u001b[0m \u001b[32m━━━━━━━━━━━━━━━━━━━━\u001b[0m\u001b[37m\u001b[0m \u001b[1m2s\u001b[0m 44ms/step - categorical_accuracy: 0.8920 - loss: 0.3097 - val_categorical_accuracy: 0.8158 - val_loss: 0.7173\n",
      "Epoch 223/300\n",
      "\u001b[1m38/38\u001b[0m \u001b[32m━━━━━━━━━━━━━━━━━━━━\u001b[0m\u001b[37m\u001b[0m \u001b[1m2s\u001b[0m 45ms/step - categorical_accuracy: 0.8506 - loss: 0.4009 - val_categorical_accuracy: 0.7566 - val_loss: 0.9374\n",
      "Epoch 224/300\n",
      "\u001b[1m38/38\u001b[0m \u001b[32m━━━━━━━━━━━━━━━━━━━━\u001b[0m\u001b[37m\u001b[0m \u001b[1m2s\u001b[0m 44ms/step - categorical_accuracy: 0.8696 - loss: 0.3566 - val_categorical_accuracy: 0.7895 - val_loss: 0.8859\n",
      "Epoch 225/300\n",
      "\u001b[1m38/38\u001b[0m \u001b[32m━━━━━━━━━━━━━━━━━━━━\u001b[0m\u001b[37m\u001b[0m \u001b[1m2s\u001b[0m 44ms/step - categorical_accuracy: 0.8592 - loss: 0.3963 - val_categorical_accuracy: 0.8388 - val_loss: 5.9119\n",
      "Epoch 226/300\n",
      "\u001b[1m38/38\u001b[0m \u001b[32m━━━━━━━━━━━━━━━━━━━━\u001b[0m\u001b[37m\u001b[0m \u001b[1m2s\u001b[0m 44ms/step - categorical_accuracy: 0.8685 - loss: 0.5678 - val_categorical_accuracy: 0.8454 - val_loss: 0.6780\n",
      "Epoch 227/300\n",
      "\u001b[1m38/38\u001b[0m \u001b[32m━━━━━━━━━━━━━━━━━━━━\u001b[0m\u001b[37m\u001b[0m \u001b[1m2s\u001b[0m 44ms/step - categorical_accuracy: 0.8856 - loss: 0.3323 - val_categorical_accuracy: 0.7928 - val_loss: 0.8252\n",
      "Epoch 228/300\n",
      "\u001b[1m38/38\u001b[0m \u001b[32m━━━━━━━━━━━━━━━━━━━━\u001b[0m\u001b[37m\u001b[0m \u001b[1m2s\u001b[0m 43ms/step - categorical_accuracy: 0.8794 - loss: 0.3460 - val_categorical_accuracy: 0.7961 - val_loss: 0.7983\n",
      "Epoch 229/300\n",
      "\u001b[1m38/38\u001b[0m \u001b[32m━━━━━━━━━━━━━━━━━━━━\u001b[0m\u001b[37m\u001b[0m \u001b[1m2s\u001b[0m 44ms/step - categorical_accuracy: 0.8719 - loss: 0.3370 - val_categorical_accuracy: 0.7270 - val_loss: 0.8837\n",
      "Epoch 230/300\n",
      "\u001b[1m38/38\u001b[0m \u001b[32m━━━━━━━━━━━━━━━━━━━━\u001b[0m\u001b[37m\u001b[0m \u001b[1m2s\u001b[0m 44ms/step - categorical_accuracy: 0.8649 - loss: 0.3718 - val_categorical_accuracy: 0.8191 - val_loss: 0.7581\n",
      "Epoch 231/300\n",
      "\u001b[1m38/38\u001b[0m \u001b[32m━━━━━━━━━━━━━━━━━━━━\u001b[0m\u001b[37m\u001b[0m \u001b[1m2s\u001b[0m 45ms/step - categorical_accuracy: 0.8442 - loss: 0.3880 - val_categorical_accuracy: 0.8586 - val_loss: 0.6247\n",
      "Epoch 232/300\n",
      "\u001b[1m38/38\u001b[0m \u001b[32m━━━━━━━━━━━━━━━━━━━━\u001b[0m\u001b[37m\u001b[0m \u001b[1m2s\u001b[0m 44ms/step - categorical_accuracy: 0.8844 - loss: 0.3025 - val_categorical_accuracy: 0.7829 - val_loss: 0.8285\n",
      "Epoch 233/300\n",
      "\u001b[1m38/38\u001b[0m \u001b[32m━━━━━━━━━━━━━━━━━━━━\u001b[0m\u001b[37m\u001b[0m \u001b[1m2s\u001b[0m 45ms/step - categorical_accuracy: 0.8883 - loss: 0.3083 - val_categorical_accuracy: 0.7928 - val_loss: 0.7871\n",
      "Epoch 234/300\n",
      "\u001b[1m38/38\u001b[0m \u001b[32m━━━━━━━━━━━━━━━━━━━━\u001b[0m\u001b[37m\u001b[0m \u001b[1m2s\u001b[0m 44ms/step - categorical_accuracy: 0.8813 - loss: 0.3163 - val_categorical_accuracy: 0.7434 - val_loss: 1.0110\n",
      "Epoch 235/300\n",
      "\u001b[1m38/38\u001b[0m \u001b[32m━━━━━━━━━━━━━━━━━━━━\u001b[0m\u001b[37m\u001b[0m \u001b[1m2s\u001b[0m 44ms/step - categorical_accuracy: 0.8770 - loss: 0.3224 - val_categorical_accuracy: 0.7730 - val_loss: 0.9260\n",
      "Epoch 236/300\n",
      "\u001b[1m38/38\u001b[0m \u001b[32m━━━━━━━━━━━━━━━━━━━━\u001b[0m\u001b[37m\u001b[0m \u001b[1m2s\u001b[0m 44ms/step - categorical_accuracy: 0.8930 - loss: 0.2969 - val_categorical_accuracy: 0.7993 - val_loss: 0.8348\n",
      "Epoch 237/300\n",
      "\u001b[1m38/38\u001b[0m \u001b[32m━━━━━━━━━━━━━━━━━━━━\u001b[0m\u001b[37m\u001b[0m \u001b[1m2s\u001b[0m 44ms/step - categorical_accuracy: 0.8879 - loss: 0.3199 - val_categorical_accuracy: 0.8322 - val_loss: 0.7186\n",
      "Epoch 238/300\n",
      "\u001b[1m38/38\u001b[0m \u001b[32m━━━━━━━━━━━━━━━━━━━━\u001b[0m\u001b[37m\u001b[0m \u001b[1m2s\u001b[0m 44ms/step - categorical_accuracy: 0.8908 - loss: 0.2938 - val_categorical_accuracy: 0.8618 - val_loss: 0.6651\n",
      "Epoch 239/300\n",
      "\u001b[1m38/38\u001b[0m \u001b[32m━━━━━━━━━━━━━━━━━━━━\u001b[0m\u001b[37m\u001b[0m \u001b[1m2s\u001b[0m 45ms/step - categorical_accuracy: 0.8842 - loss: 0.2925 - val_categorical_accuracy: 0.8421 - val_loss: 0.7174\n",
      "Epoch 240/300\n",
      "\u001b[1m38/38\u001b[0m \u001b[32m━━━━━━━━━━━━━━━━━━━━\u001b[0m\u001b[37m\u001b[0m \u001b[1m2s\u001b[0m 44ms/step - categorical_accuracy: 0.8955 - loss: 0.2935 - val_categorical_accuracy: 0.8750 - val_loss: 0.7313\n",
      "Epoch 241/300\n",
      "\u001b[1m38/38\u001b[0m \u001b[32m━━━━━━━━━━━━━━━━━━━━\u001b[0m\u001b[37m\u001b[0m \u001b[1m2s\u001b[0m 44ms/step - categorical_accuracy: 0.8865 - loss: 0.3060 - val_categorical_accuracy: 0.8586 - val_loss: 0.7815\n",
      "Epoch 242/300\n",
      "\u001b[1m38/38\u001b[0m \u001b[32m━━━━━━━━━━━━━━━━━━━━\u001b[0m\u001b[37m\u001b[0m \u001b[1m2s\u001b[0m 44ms/step - categorical_accuracy: 0.8993 - loss: 0.2630 - val_categorical_accuracy: 0.8388 - val_loss: 0.9501\n",
      "Epoch 243/300\n",
      "\u001b[1m38/38\u001b[0m \u001b[32m━━━━━━━━━━━━━━━━━━━━\u001b[0m\u001b[37m\u001b[0m \u001b[1m2s\u001b[0m 45ms/step - categorical_accuracy: 0.8928 - loss: 0.2643 - val_categorical_accuracy: 0.7566 - val_loss: 1.3094\n",
      "Epoch 244/300\n",
      "\u001b[1m38/38\u001b[0m \u001b[32m━━━━━━━━━━━━━━━━━━━━\u001b[0m\u001b[37m\u001b[0m \u001b[1m2s\u001b[0m 45ms/step - categorical_accuracy: 0.8786 - loss: 0.3284 - val_categorical_accuracy: 0.7204 - val_loss: 0.8716\n",
      "Epoch 245/300\n",
      "\u001b[1m38/38\u001b[0m \u001b[32m━━━━━━━━━━━━━━━━━━━━\u001b[0m\u001b[37m\u001b[0m \u001b[1m2s\u001b[0m 44ms/step - categorical_accuracy: 0.8335 - loss: 0.4630 - val_categorical_accuracy: 0.8684 - val_loss: 0.5813\n",
      "Epoch 246/300\n",
      "\u001b[1m38/38\u001b[0m \u001b[32m━━━━━━━━━━━━━━━━━━━━\u001b[0m\u001b[37m\u001b[0m \u001b[1m2s\u001b[0m 44ms/step - categorical_accuracy: 0.8918 - loss: 0.3082 - val_categorical_accuracy: 0.8618 - val_loss: 0.5533\n",
      "Epoch 247/300\n",
      "\u001b[1m38/38\u001b[0m \u001b[32m━━━━━━━━━━━━━━━━━━━━\u001b[0m\u001b[37m\u001b[0m \u001b[1m2s\u001b[0m 44ms/step - categorical_accuracy: 0.9042 - loss: 0.2507 - val_categorical_accuracy: 0.8355 - val_loss: 0.5827\n",
      "Epoch 248/300\n",
      "\u001b[1m38/38\u001b[0m \u001b[32m━━━━━━━━━━━━━━━━━━━━\u001b[0m\u001b[37m\u001b[0m \u001b[1m2s\u001b[0m 44ms/step - categorical_accuracy: 0.9121 - loss: 0.2199 - val_categorical_accuracy: 0.8257 - val_loss: 0.6182\n",
      "Epoch 249/300\n",
      "\u001b[1m38/38\u001b[0m \u001b[32m━━━━━━━━━━━━━━━━━━━━\u001b[0m\u001b[37m\u001b[0m \u001b[1m2s\u001b[0m 44ms/step - categorical_accuracy: 0.9234 - loss: 0.2029 - val_categorical_accuracy: 0.8388 - val_loss: 0.6550\n",
      "Epoch 250/300\n",
      "\u001b[1m38/38\u001b[0m \u001b[32m━━━━━━━━━━━━━━━━━━━━\u001b[0m\u001b[37m\u001b[0m \u001b[1m2s\u001b[0m 44ms/step - categorical_accuracy: 0.9226 - loss: 0.2149 - val_categorical_accuracy: 0.8421 - val_loss: 0.6648\n",
      "Epoch 251/300\n",
      "\u001b[1m38/38\u001b[0m \u001b[32m━━━━━━━━━━━━━━━━━━━━\u001b[0m\u001b[37m\u001b[0m \u001b[1m2s\u001b[0m 44ms/step - categorical_accuracy: 0.9345 - loss: 0.1986 - val_categorical_accuracy: 0.8059 - val_loss: 0.7781\n",
      "Epoch 252/300\n",
      "\u001b[1m38/38\u001b[0m \u001b[32m━━━━━━━━━━━━━━━━━━━━\u001b[0m\u001b[37m\u001b[0m \u001b[1m2s\u001b[0m 45ms/step - categorical_accuracy: 0.9125 - loss: 0.2277 - val_categorical_accuracy: 0.8289 - val_loss: 0.6964\n",
      "Epoch 253/300\n",
      "\u001b[1m38/38\u001b[0m \u001b[32m━━━━━━━━━━━━━━━━━━━━\u001b[0m\u001b[37m\u001b[0m \u001b[1m2s\u001b[0m 44ms/step - categorical_accuracy: 0.8974 - loss: 0.2650 - val_categorical_accuracy: 0.7632 - val_loss: 0.9936\n",
      "Epoch 254/300\n",
      "\u001b[1m38/38\u001b[0m \u001b[32m━━━━━━━━━━━━━━━━━━━━\u001b[0m\u001b[37m\u001b[0m \u001b[1m2s\u001b[0m 44ms/step - categorical_accuracy: 0.8703 - loss: 0.3582 - val_categorical_accuracy: 0.8553 - val_loss: 0.6558\n",
      "Epoch 255/300\n",
      "\u001b[1m38/38\u001b[0m \u001b[32m━━━━━━━━━━━━━━━━━━━━\u001b[0m\u001b[37m\u001b[0m \u001b[1m2s\u001b[0m 44ms/step - categorical_accuracy: 0.8905 - loss: 0.2917 - val_categorical_accuracy: 0.8651 - val_loss: 0.7089\n",
      "Epoch 256/300\n",
      "\u001b[1m38/38\u001b[0m \u001b[32m━━━━━━━━━━━━━━━━━━━━\u001b[0m\u001b[37m\u001b[0m \u001b[1m2s\u001b[0m 45ms/step - categorical_accuracy: 0.9045 - loss: 0.2422 - val_categorical_accuracy: 0.8355 - val_loss: 0.6761\n",
      "Epoch 257/300\n",
      "\u001b[1m38/38\u001b[0m \u001b[32m━━━━━━━━━━━━━━━━━━━━\u001b[0m\u001b[37m\u001b[0m \u001b[1m2s\u001b[0m 44ms/step - categorical_accuracy: 0.9194 - loss: 0.2185 - val_categorical_accuracy: 0.7928 - val_loss: 0.8163\n",
      "Epoch 258/300\n",
      "\u001b[1m38/38\u001b[0m \u001b[32m━━━━━━━━━━━━━━━━━━━━\u001b[0m\u001b[37m\u001b[0m \u001b[1m2s\u001b[0m 44ms/step - categorical_accuracy: 0.9197 - loss: 0.2213 - val_categorical_accuracy: 0.7862 - val_loss: 0.8497\n",
      "Epoch 259/300\n",
      "\u001b[1m38/38\u001b[0m \u001b[32m━━━━━━━━━━━━━━━━━━━━\u001b[0m\u001b[37m\u001b[0m \u001b[1m2s\u001b[0m 44ms/step - categorical_accuracy: 0.8817 - loss: 0.3008 - val_categorical_accuracy: 0.8553 - val_loss: 0.7004\n",
      "Epoch 260/300\n",
      "\u001b[1m38/38\u001b[0m \u001b[32m━━━━━━━━━━━━━━━━━━━━\u001b[0m\u001b[37m\u001b[0m \u001b[1m2s\u001b[0m 45ms/step - categorical_accuracy: 0.8954 - loss: 0.2819 - val_categorical_accuracy: 0.8257 - val_loss: 0.6617\n",
      "Epoch 261/300\n",
      "\u001b[1m38/38\u001b[0m \u001b[32m━━━━━━━━━━━━━━━━━━━━\u001b[0m\u001b[37m\u001b[0m \u001b[1m2s\u001b[0m 44ms/step - categorical_accuracy: 0.9302 - loss: 0.1885 - val_categorical_accuracy: 0.7829 - val_loss: 0.9037\n",
      "Epoch 262/300\n",
      "\u001b[1m38/38\u001b[0m \u001b[32m━━━━━━━━━━━━━━━━━━━━\u001b[0m\u001b[37m\u001b[0m \u001b[1m2s\u001b[0m 44ms/step - categorical_accuracy: 0.9148 - loss: 0.2276 - val_categorical_accuracy: 0.7862 - val_loss: 0.8743\n",
      "Epoch 263/300\n",
      "\u001b[1m38/38\u001b[0m \u001b[32m━━━━━━━━━━━━━━━━━━━━\u001b[0m\u001b[37m\u001b[0m \u001b[1m2s\u001b[0m 44ms/step - categorical_accuracy: 0.9027 - loss: 0.2365 - val_categorical_accuracy: 0.7007 - val_loss: 1.2041\n",
      "Epoch 264/300\n",
      "\u001b[1m38/38\u001b[0m \u001b[32m━━━━━━━━━━━━━━━━━━━━\u001b[0m\u001b[37m\u001b[0m \u001b[1m2s\u001b[0m 44ms/step - categorical_accuracy: 0.8277 - loss: 0.5237 - val_categorical_accuracy: 0.8191 - val_loss: 0.7797\n",
      "Epoch 265/300\n",
      "\u001b[1m38/38\u001b[0m \u001b[32m━━━━━━━━━━━━━━━━━━━━\u001b[0m\u001b[37m\u001b[0m \u001b[1m2s\u001b[0m 45ms/step - categorical_accuracy: 0.9081 - loss: 0.2901 - val_categorical_accuracy: 0.8750 - val_loss: 0.6880\n",
      "Epoch 266/300\n",
      "\u001b[1m38/38\u001b[0m \u001b[32m━━━━━━━━━━━━━━━━━━━━\u001b[0m\u001b[37m\u001b[0m \u001b[1m2s\u001b[0m 44ms/step - categorical_accuracy: 0.9068 - loss: 0.2392 - val_categorical_accuracy: 0.8322 - val_loss: 0.6849\n",
      "Epoch 267/300\n",
      "\u001b[1m38/38\u001b[0m \u001b[32m━━━━━━━━━━━━━━━━━━━━\u001b[0m\u001b[37m\u001b[0m \u001b[1m2s\u001b[0m 44ms/step - categorical_accuracy: 0.9112 - loss: 0.2323 - val_categorical_accuracy: 0.8553 - val_loss: 0.8801\n",
      "Epoch 268/300\n",
      "\u001b[1m38/38\u001b[0m \u001b[32m━━━━━━━━━━━━━━━━━━━━\u001b[0m\u001b[37m\u001b[0m \u001b[1m2s\u001b[0m 44ms/step - categorical_accuracy: 0.9308 - loss: 0.1955 - val_categorical_accuracy: 0.7862 - val_loss: 0.8303\n",
      "Epoch 269/300\n",
      "\u001b[1m38/38\u001b[0m \u001b[32m━━━━━━━━━━━━━━━━━━━━\u001b[0m\u001b[37m\u001b[0m \u001b[1m2s\u001b[0m 44ms/step - categorical_accuracy: 0.9217 - loss: 0.2081 - val_categorical_accuracy: 0.7993 - val_loss: 0.8323\n",
      "Epoch 270/300\n",
      "\u001b[1m38/38\u001b[0m \u001b[32m━━━━━━━━━━━━━━━━━━━━\u001b[0m\u001b[37m\u001b[0m \u001b[1m2s\u001b[0m 44ms/step - categorical_accuracy: 0.9241 - loss: 0.2286 - val_categorical_accuracy: 0.7862 - val_loss: 1.0177\n",
      "Epoch 271/300\n",
      "\u001b[1m38/38\u001b[0m \u001b[32m━━━━━━━━━━━━━━━━━━━━\u001b[0m\u001b[37m\u001b[0m \u001b[1m2s\u001b[0m 44ms/step - categorical_accuracy: 0.6901 - loss: 1.3427 - val_categorical_accuracy: 0.7204 - val_loss: 0.7604\n",
      "Epoch 272/300\n",
      "\u001b[1m38/38\u001b[0m \u001b[32m━━━━━━━━━━━━━━━━━━━━\u001b[0m\u001b[37m\u001b[0m \u001b[1m2s\u001b[0m 45ms/step - categorical_accuracy: 0.8728 - loss: 0.4034 - val_categorical_accuracy: 0.8586 - val_loss: 0.5873\n",
      "Epoch 273/300\n",
      "\u001b[1m38/38\u001b[0m \u001b[32m━━━━━━━━━━━━━━━━━━━━\u001b[0m\u001b[37m\u001b[0m \u001b[1m2s\u001b[0m 44ms/step - categorical_accuracy: 0.8981 - loss: 0.3035 - val_categorical_accuracy: 0.8454 - val_loss: 0.5784\n",
      "Epoch 274/300\n",
      "\u001b[1m38/38\u001b[0m \u001b[32m━━━━━━━━━━━━━━━━━━━━\u001b[0m\u001b[37m\u001b[0m \u001b[1m2s\u001b[0m 44ms/step - categorical_accuracy: 0.9146 - loss: 0.2467 - val_categorical_accuracy: 0.8191 - val_loss: 0.5440\n",
      "Epoch 275/300\n",
      "\u001b[1m38/38\u001b[0m \u001b[32m━━━━━━━━━━━━━━━━━━━━\u001b[0m\u001b[37m\u001b[0m \u001b[1m2s\u001b[0m 45ms/step - categorical_accuracy: 0.9259 - loss: 0.2168 - val_categorical_accuracy: 0.7961 - val_loss: 0.6134\n",
      "Epoch 276/300\n",
      "\u001b[1m38/38\u001b[0m \u001b[32m━━━━━━━━━━━━━━━━━━━━\u001b[0m\u001b[37m\u001b[0m \u001b[1m2s\u001b[0m 44ms/step - categorical_accuracy: 0.9204 - loss: 0.2198 - val_categorical_accuracy: 0.8158 - val_loss: 0.5816\n",
      "Epoch 277/300\n",
      "\u001b[1m38/38\u001b[0m \u001b[32m━━━━━━━━━━━━━━━━━━━━\u001b[0m\u001b[37m\u001b[0m \u001b[1m2s\u001b[0m 45ms/step - categorical_accuracy: 0.9172 - loss: 0.2019 - val_categorical_accuracy: 0.8618 - val_loss: 0.5498\n",
      "Epoch 278/300\n",
      "\u001b[1m38/38\u001b[0m \u001b[32m━━━━━━━━━━━━━━━━━━━━\u001b[0m\u001b[37m\u001b[0m \u001b[1m2s\u001b[0m 45ms/step - categorical_accuracy: 0.9287 - loss: 0.2024 - val_categorical_accuracy: 0.8586 - val_loss: 0.5362\n",
      "Epoch 279/300\n",
      "\u001b[1m38/38\u001b[0m \u001b[32m━━━━━━━━━━━━━━━━━━━━\u001b[0m\u001b[37m\u001b[0m \u001b[1m2s\u001b[0m 45ms/step - categorical_accuracy: 0.9364 - loss: 0.1964 - val_categorical_accuracy: 0.8750 - val_loss: 0.5552\n",
      "Epoch 280/300\n",
      "\u001b[1m38/38\u001b[0m \u001b[32m━━━━━━━━━━━━━━━━━━━━\u001b[0m\u001b[37m\u001b[0m \u001b[1m2s\u001b[0m 44ms/step - categorical_accuracy: 0.9252 - loss: 0.2103 - val_categorical_accuracy: 0.8618 - val_loss: 0.5989\n",
      "Epoch 281/300\n",
      "\u001b[1m38/38\u001b[0m \u001b[32m━━━━━━━━━━━━━━━━━━━━\u001b[0m\u001b[37m\u001b[0m \u001b[1m2s\u001b[0m 44ms/step - categorical_accuracy: 0.9179 - loss: 0.2416 - val_categorical_accuracy: 0.8388 - val_loss: 0.7665\n",
      "Epoch 282/300\n",
      "\u001b[1m38/38\u001b[0m \u001b[32m━━━━━━━━━━━━━━━━━━━━\u001b[0m\u001b[37m\u001b[0m \u001b[1m2s\u001b[0m 44ms/step - categorical_accuracy: 0.8748 - loss: 0.3234 - val_categorical_accuracy: 0.8322 - val_loss: 0.6721\n",
      "Epoch 283/300\n",
      "\u001b[1m38/38\u001b[0m \u001b[32m━━━━━━━━━━━━━━━━━━━━\u001b[0m\u001b[37m\u001b[0m \u001b[1m2s\u001b[0m 44ms/step - categorical_accuracy: 0.8771 - loss: 0.3118 - val_categorical_accuracy: 0.7664 - val_loss: 0.8175\n",
      "Epoch 284/300\n",
      "\u001b[1m38/38\u001b[0m \u001b[32m━━━━━━━━━━━━━━━━━━━━\u001b[0m\u001b[37m\u001b[0m \u001b[1m2s\u001b[0m 44ms/step - categorical_accuracy: 0.9230 - loss: 0.2344 - val_categorical_accuracy: 0.8783 - val_loss: 0.5958\n",
      "Epoch 285/300\n",
      "\u001b[1m38/38\u001b[0m \u001b[32m━━━━━━━━━━━━━━━━━━━━\u001b[0m\u001b[37m\u001b[0m \u001b[1m2s\u001b[0m 44ms/step - categorical_accuracy: 0.9394 - loss: 0.1765 - val_categorical_accuracy: 0.8586 - val_loss: 0.6052\n",
      "Epoch 286/300\n",
      "\u001b[1m38/38\u001b[0m \u001b[32m━━━━━━━━━━━━━━━━━━━━\u001b[0m\u001b[37m\u001b[0m \u001b[1m2s\u001b[0m 44ms/step - categorical_accuracy: 0.9368 - loss: 0.1808 - val_categorical_accuracy: 0.8816 - val_loss: 0.5216\n",
      "Epoch 287/300\n",
      "\u001b[1m38/38\u001b[0m \u001b[32m━━━━━━━━━━━━━━━━━━━━\u001b[0m\u001b[37m\u001b[0m \u001b[1m2s\u001b[0m 45ms/step - categorical_accuracy: 0.9451 - loss: 0.1729 - val_categorical_accuracy: 0.8882 - val_loss: 0.5731\n",
      "Epoch 288/300\n",
      "\u001b[1m38/38\u001b[0m \u001b[32m━━━━━━━━━━━━━━━━━━━━\u001b[0m\u001b[37m\u001b[0m \u001b[1m2s\u001b[0m 44ms/step - categorical_accuracy: 0.9422 - loss: 0.1795 - val_categorical_accuracy: 0.8618 - val_loss: 0.6634\n",
      "Epoch 289/300\n",
      "\u001b[1m38/38\u001b[0m \u001b[32m━━━━━━━━━━━━━━━━━━━━\u001b[0m\u001b[37m\u001b[0m \u001b[1m2s\u001b[0m 44ms/step - categorical_accuracy: 0.9327 - loss: 0.1918 - val_categorical_accuracy: 0.8816 - val_loss: 0.6389\n",
      "Epoch 290/300\n",
      "\u001b[1m38/38\u001b[0m \u001b[32m━━━━━━━━━━━━━━━━━━━━\u001b[0m\u001b[37m\u001b[0m \u001b[1m2s\u001b[0m 44ms/step - categorical_accuracy: 0.9352 - loss: 0.1837 - val_categorical_accuracy: 0.8717 - val_loss: 0.6237\n",
      "Epoch 291/300\n",
      "\u001b[1m38/38\u001b[0m \u001b[32m━━━━━━━━━━━━━━━━━━━━\u001b[0m\u001b[37m\u001b[0m \u001b[1m2s\u001b[0m 44ms/step - categorical_accuracy: 0.9349 - loss: 0.1918 - val_categorical_accuracy: 0.8191 - val_loss: 0.8116\n",
      "Epoch 292/300\n",
      "\u001b[1m38/38\u001b[0m \u001b[32m━━━━━━━━━━━━━━━━━━━━\u001b[0m\u001b[37m\u001b[0m \u001b[1m2s\u001b[0m 44ms/step - categorical_accuracy: 0.9325 - loss: 0.2013 - val_categorical_accuracy: 0.8651 - val_loss: 0.7047\n",
      "Epoch 293/300\n",
      "\u001b[1m38/38\u001b[0m \u001b[32m━━━━━━━━━━━━━━━━━━━━\u001b[0m\u001b[37m\u001b[0m \u001b[1m2s\u001b[0m 44ms/step - categorical_accuracy: 0.9383 - loss: 0.1847 - val_categorical_accuracy: 0.8059 - val_loss: 0.8532\n",
      "Epoch 294/300\n",
      "\u001b[1m38/38\u001b[0m \u001b[32m━━━━━━━━━━━━━━━━━━━━\u001b[0m\u001b[37m\u001b[0m \u001b[1m2s\u001b[0m 45ms/step - categorical_accuracy: 0.9290 - loss: 0.2010 - val_categorical_accuracy: 0.8322 - val_loss: 0.8659\n",
      "Epoch 295/300\n",
      "\u001b[1m38/38\u001b[0m \u001b[32m━━━━━━━━━━━━━━━━━━━━\u001b[0m\u001b[37m\u001b[0m \u001b[1m2s\u001b[0m 45ms/step - categorical_accuracy: 0.9140 - loss: 0.2407 - val_categorical_accuracy: 0.8618 - val_loss: 0.8709\n",
      "Epoch 296/300\n",
      "\u001b[1m38/38\u001b[0m \u001b[32m━━━━━━━━━━━━━━━━━━━━\u001b[0m\u001b[37m\u001b[0m \u001b[1m2s\u001b[0m 44ms/step - categorical_accuracy: 0.9235 - loss: 0.2128 - val_categorical_accuracy: 0.8158 - val_loss: 0.9179\n",
      "Epoch 297/300\n",
      "\u001b[1m38/38\u001b[0m \u001b[32m━━━━━━━━━━━━━━━━━━━━\u001b[0m\u001b[37m\u001b[0m \u001b[1m2s\u001b[0m 44ms/step - categorical_accuracy: 0.9053 - loss: 0.2550 - val_categorical_accuracy: 0.8322 - val_loss: 0.6054\n",
      "Epoch 298/300\n",
      "\u001b[1m38/38\u001b[0m \u001b[32m━━━━━━━━━━━━━━━━━━━━\u001b[0m\u001b[37m\u001b[0m \u001b[1m2s\u001b[0m 45ms/step - categorical_accuracy: 0.9207 - loss: 0.2174 - val_categorical_accuracy: 0.8520 - val_loss: 0.6123\n",
      "Epoch 299/300\n",
      "\u001b[1m38/38\u001b[0m \u001b[32m━━━━━━━━━━━━━━━━━━━━\u001b[0m\u001b[37m\u001b[0m \u001b[1m2s\u001b[0m 44ms/step - categorical_accuracy: 0.9204 - loss: 0.1960 - val_categorical_accuracy: 0.8816 - val_loss: 0.5619\n",
      "Epoch 300/300\n",
      "\u001b[1m38/38\u001b[0m \u001b[32m━━━━━━━━━━━━━━━━━━━━\u001b[0m\u001b[37m\u001b[0m \u001b[1m2s\u001b[0m 44ms/step - categorical_accuracy: 0.9385 - loss: 0.1662 - val_categorical_accuracy: 0.8717 - val_loss: 0.5680\n"
     ]
    }
   ],
   "source": [
    "LSTM_model_history = LSTM_model.fit(X_train , y_train , epochs = 300 , validation_split= 0.2)"
   ]
  },
  {
   "cell_type": "markdown",
   "metadata": {},
   "source": [
    "Visualizing the outcomes"
   ]
  },
  {
   "cell_type": "code",
   "execution_count": 26,
   "metadata": {},
   "outputs": [
    {
     "data": {
      "text/plain": [
       "<matplotlib.legend.Legend at 0x22ea9e0da00>"
      ]
     },
     "execution_count": 26,
     "metadata": {},
     "output_type": "execute_result"
    },
    {
     "data": {
      "image/png": "[encoded data removed]",
      "text/plain": [
       "<Figure size 640x480 with 1 Axes>"
      ]
     },
     "metadata": {},
     "output_type": "display_data"
    }
   ],
   "source": [
    "plt.plot(LSTM_model_history.history['categorical_accuracy'] , label = 'training accuracy')\n",
    "plt.plot(LSTM_model_history.history['val_categorical_accuracy'] , label = 'Validation accuracy')\n",
    "plt.legend(loc ='lower right')"
   ]
  },
  {
   "cell_type": "code",
   "execution_count": 27,
   "metadata": {},
   "outputs": [
    {
     "data": {
      "text/plain": [
       "<matplotlib.legend.Legend at 0x22fa1c923c0>"
      ]
     },
     "execution_count": 27,
     "metadata": {},
     "output_type": "execute_result"
    },
    {
     "data": {
      "image/png": "[encoded data removed]",
      "text/plain": [
       "<Figure size 640x480 with 1 Axes>"
      ]
     },
     "metadata": {},
     "output_type": "display_data"
    }
   ],
   "source": [
    "plt.plot(LSTM_model_history.history['loss'] , label = 'Training Loss')\n",
    "plt.plot(LSTM_model_history.history['val_loss'] , label = 'Validation Loss')\n",
    "plt.legend(loc = 'upper right')"
   ]
  },
  {
   "cell_type": "code",
   "execution_count": 28,
   "metadata": {},
   "outputs": [
    {
     "name": "stdout",
     "output_type": "stream",
     "text": [
      "\u001b[1m3/3\u001b[0m \u001b[32m━━━━━━━━━━━━━━━━━━━━\u001b[0m\u001b[37m\u001b[0m \u001b[1m0s\u001b[0m 10ms/step - categorical_accuracy: 0.9297 - loss: 0.3090\n"
     ]
    },
    {
     "data": {
      "text/plain": [
       "[0.24840405583381653, 0.9375]"
      ]
     },
     "execution_count": 28,
     "metadata": {},
     "output_type": "execute_result"
    }
   ],
   "source": [
    "LSTM_model.evaluate(X_test , y_test , verbose = 1)"
   ]
  },
  {
   "cell_type": "markdown",
   "metadata": {},
   "source": [
    "#### 3. Predicting Results"
   ]
  },
  {
   "cell_type": "code",
   "execution_count": 29,
   "metadata": {},
   "outputs": [
    {
     "name": "stdout",
     "output_type": "stream",
     "text": [
      "\u001b[1m3/3\u001b[0m \u001b[32m━━━━━━━━━━━━━━━━━━━━\u001b[0m\u001b[37m\u001b[0m \u001b[1m1s\u001b[0m 147ms/step\n"
     ]
    }
   ],
   "source": [
    "predictions = LSTM_model.predict(X_test)"
   ]
  },
  {
   "cell_type": "code",
   "execution_count": 30,
   "metadata": {},
   "outputs": [
    {
     "data": {
      "text/plain": [
       "array([2.1412611e-22, 1.0000000e+00, 3.1647439e-13, 3.0113085e-16,\n",
       "       8.5664508e-31, 2.0767603e-21, 6.0554071e-33, 3.1324997e-21,\n",
       "       1.9341354e-15, 2.0738038e-32], dtype=float32)"
      ]
     },
     "execution_count": 30,
     "metadata": {},
     "output_type": "execute_result"
    }
   ],
   "source": [
    "predictions[0]"
   ]
  },
  {
   "cell_type": "code",
   "execution_count": 31,
   "metadata": {},
   "outputs": [
    {
     "data": {
      "text/plain": [
       "'thankyou'"
      ]
     },
     "execution_count": 31,
     "metadata": {},
     "output_type": "execute_result"
    }
   ],
   "source": [
    "actions[np.argmax(predictions[0])]"
   ]
  },
  {
   "cell_type": "code",
   "execution_count": 32,
   "metadata": {},
   "outputs": [
    {
     "data": {
      "text/plain": [
       "'thankyou'"
      ]
     },
     "execution_count": 32,
     "metadata": {},
     "output_type": "execute_result"
    }
   ],
   "source": [
    "actions[np.argmax(y_test[0])]"
   ]
  },
  {
   "cell_type": "code",
   "execution_count": 33,
   "metadata": {},
   "outputs": [],
   "source": [
    "results , actual = [] , []\n",
    "\n",
    "for result in predictions:\n",
    "  \n",
    "  outcome = actions[np.argmax(result)]\n",
    "\n",
    "  results.append(outcome)\n",
    "  \n",
    "\n",
    "for i in range(len(y_test)):\n",
    "\n",
    "  act_out = actions[np.argmax(y_test[i])] \n",
    "\n",
    "  actual.append(act_out)\n"
   ]
  },
  {
   "cell_type": "code",
   "execution_count": 34,
   "metadata": {},
   "outputs": [
    {
     "data": {
      "text/plain": [
       "['thankyou',\n",
       " 'hello',\n",
       " 'C',\n",
       " 'hello',\n",
       " 'sorry',\n",
       " 'hello',\n",
       " 'thankyou',\n",
       " 'hello',\n",
       " 'thankyou',\n",
       " 'A',\n",
       " 'B',\n",
       " 'sorry',\n",
       " 'B',\n",
       " 'thankyou',\n",
       " 'sorry',\n",
       " 'sorry',\n",
       " 'thankyou',\n",
       " 'hello',\n",
       " 'hello',\n",
       " 'thankyou',\n",
       " 'E',\n",
       " 'hello',\n",
       " 'C',\n",
       " 'hello',\n",
       " 'sorry',\n",
       " 'C',\n",
       " 'iloveyou',\n",
       " 'iloveyou',\n",
       " 'E',\n",
       " 'iloveyou',\n",
       " 'hello',\n",
       " 'B',\n",
       " 'sorry',\n",
       " 'thankyou',\n",
       " 'hello',\n",
       " 'hello',\n",
       " 'iloveyou',\n",
       " 'C',\n",
       " 'hello',\n",
       " 'iloveyou',\n",
       " 'E',\n",
       " 'A',\n",
       " 'thankyou',\n",
       " 'hello',\n",
       " 'thankyou',\n",
       " 'F',\n",
       " 'A',\n",
       " 'iloveyou',\n",
       " 'iloveyou',\n",
       " 'thankyou',\n",
       " 'hello',\n",
       " 'D',\n",
       " 'thankyou',\n",
       " 'sorry',\n",
       " 'iloveyou',\n",
       " 'thankyou',\n",
       " 'iloveyou',\n",
       " 'iloveyou',\n",
       " 'iloveyou',\n",
       " 'iloveyou',\n",
       " 'B',\n",
       " 'iloveyou',\n",
       " 'E',\n",
       " 'iloveyou',\n",
       " 'F',\n",
       " 'hello',\n",
       " 'sorry',\n",
       " 'hello',\n",
       " 'thankyou',\n",
       " 'hello',\n",
       " 'hello',\n",
       " 'hello',\n",
       " 'hello',\n",
       " 'B',\n",
       " 'hello',\n",
       " 'thankyou',\n",
       " 'iloveyou',\n",
       " 'thankyou',\n",
       " 'hello',\n",
       " 'thankyou']"
      ]
     },
     "execution_count": 34,
     "metadata": {},
     "output_type": "execute_result"
    }
   ],
   "source": [
    "results"
   ]
  },
  {
   "cell_type": "code",
   "execution_count": 35,
   "metadata": {},
   "outputs": [
    {
     "data": {
      "text/plain": [
       "['thankyou',\n",
       " 'hello',\n",
       " 'C',\n",
       " 'hello',\n",
       " 'sorry',\n",
       " 'hello',\n",
       " 'thankyou',\n",
       " 'hello',\n",
       " 'thankyou',\n",
       " 'A',\n",
       " 'B',\n",
       " 'sorry',\n",
       " 'F',\n",
       " 'thankyou',\n",
       " 'sorry',\n",
       " 'sorry',\n",
       " 'thankyou',\n",
       " 'hello',\n",
       " 'iloveyou',\n",
       " 'thankyou',\n",
       " 'E',\n",
       " 'hello',\n",
       " 'C',\n",
       " 'hello',\n",
       " 'sorry',\n",
       " 'C',\n",
       " 'iloveyou',\n",
       " 'iloveyou',\n",
       " 'E',\n",
       " 'iloveyou',\n",
       " 'A',\n",
       " 'B',\n",
       " 'sorry',\n",
       " 'thankyou',\n",
       " 'hello',\n",
       " 'hello',\n",
       " 'iloveyou',\n",
       " 'C',\n",
       " 'hello',\n",
       " 'iloveyou',\n",
       " 'E',\n",
       " 'A',\n",
       " 'thankyou',\n",
       " 'hello',\n",
       " 'thankyou',\n",
       " 'F',\n",
       " 'A',\n",
       " 'iloveyou',\n",
       " 'iloveyou',\n",
       " 'thankyou',\n",
       " 'hello',\n",
       " 'D',\n",
       " 'thankyou',\n",
       " 'sorry',\n",
       " 'iloveyou',\n",
       " 'thankyou',\n",
       " 'iloveyou',\n",
       " 'iloveyou',\n",
       " 'iloveyou',\n",
       " 'iloveyou',\n",
       " 'C',\n",
       " 'iloveyou',\n",
       " 'E',\n",
       " 'iloveyou',\n",
       " 'F',\n",
       " 'hello',\n",
       " 'sorry',\n",
       " 'hello',\n",
       " 'thankyou',\n",
       " 'hello',\n",
       " 'hello',\n",
       " 'hello',\n",
       " 'hello',\n",
       " 'F',\n",
       " 'hello',\n",
       " 'thankyou',\n",
       " 'iloveyou',\n",
       " 'thankyou',\n",
       " 'hello',\n",
       " 'thankyou']"
      ]
     },
     "execution_count": 35,
     "metadata": {},
     "output_type": "execute_result"
    }
   ],
   "source": [
    "actual"
   ]
  },
  {
   "cell_type": "code",
   "execution_count": 36,
   "metadata": {},
   "outputs": [
    {
     "data": {
      "text/plain": [
       "list"
      ]
     },
     "execution_count": 36,
     "metadata": {},
     "output_type": "execute_result"
    }
   ],
   "source": [
    "type(results)"
   ]
  },
  {
   "cell_type": "code",
   "execution_count": 37,
   "metadata": {},
   "outputs": [],
   "source": [
    "comparision_df = pd.DataFrame({'y_true' : actual , 'y_pred': results})"
   ]
  },
  {
   "cell_type": "code",
   "execution_count": 38,
   "metadata": {},
   "outputs": [
    {
     "data": {
      "text/html": [
       "<div>\n",
       "<style scoped>\n",
       "    .dataframe tbody tr th:only-of-type {\n",
       "        vertical-align: middle;\n",
       "    }\n",
       "\n",
       "    .dataframe tbody tr th {\n",
       "        vertical-align: top;\n",
       "    }\n",
       "\n",
       "    .dataframe thead th {\n",
       "        text-align: right;\n",
       "    }\n",
       "</style>\n",
       "<table border=\"1\" class=\"dataframe\">\n",
       "  <thead>\n",
       "    <tr style=\"text-align: right;\">\n",
       "      <th></th>\n",
       "      <th>y_true</th>\n",
       "      <th>y_pred</th>\n",
       "    </tr>\n",
       "  </thead>\n",
       "  <tbody>\n",
       "    <tr>\n",
       "      <th>0</th>\n",
       "      <td>thankyou</td>\n",
       "      <td>thankyou</td>\n",
       "    </tr>\n",
       "    <tr>\n",
       "      <th>1</th>\n",
       "      <td>hello</td>\n",
       "      <td>hello</td>\n",
       "    </tr>\n",
       "    <tr>\n",
       "      <th>2</th>\n",
       "      <td>C</td>\n",
       "      <td>C</td>\n",
       "    </tr>\n",
       "    <tr>\n",
       "      <th>3</th>\n",
       "      <td>hello</td>\n",
       "      <td>hello</td>\n",
       "    </tr>\n",
       "    <tr>\n",
       "      <th>4</th>\n",
       "      <td>sorry</td>\n",
       "      <td>sorry</td>\n",
       "    </tr>\n",
       "    <tr>\n",
       "      <th>...</th>\n",
       "      <td>...</td>\n",
       "      <td>...</td>\n",
       "    </tr>\n",
       "    <tr>\n",
       "      <th>75</th>\n",
       "      <td>thankyou</td>\n",
       "      <td>thankyou</td>\n",
       "    </tr>\n",
       "    <tr>\n",
       "      <th>76</th>\n",
       "      <td>iloveyou</td>\n",
       "      <td>iloveyou</td>\n",
       "    </tr>\n",
       "    <tr>\n",
       "      <th>77</th>\n",
       "      <td>thankyou</td>\n",
       "      <td>thankyou</td>\n",
       "    </tr>\n",
       "    <tr>\n",
       "      <th>78</th>\n",
       "      <td>hello</td>\n",
       "      <td>hello</td>\n",
       "    </tr>\n",
       "    <tr>\n",
       "      <th>79</th>\n",
       "      <td>thankyou</td>\n",
       "      <td>thankyou</td>\n",
       "    </tr>\n",
       "  </tbody>\n",
       "</table>\n",
       "<p>80 rows × 2 columns</p>\n",
       "</div>"
      ],
      "text/plain": [
       "      y_true    y_pred\n",
       "0   thankyou  thankyou\n",
       "1      hello     hello\n",
       "2          C         C\n",
       "3      hello     hello\n",
       "4      sorry     sorry\n",
       "..       ...       ...\n",
       "75  thankyou  thankyou\n",
       "76  iloveyou  iloveyou\n",
       "77  thankyou  thankyou\n",
       "78     hello     hello\n",
       "79  thankyou  thankyou\n",
       "\n",
       "[80 rows x 2 columns]"
      ]
     },
     "execution_count": 38,
     "metadata": {},
     "output_type": "execute_result"
    }
   ],
   "source": [
    "comparision_df"
   ]
  },
  {
   "cell_type": "markdown",
   "metadata": {},
   "source": [
    "#### 4. Saving the model Weights"
   ]
  },
  {
   "cell_type": "code",
   "execution_count": 39,
   "metadata": {},
   "outputs": [],
   "source": [
    "with open('LSTM_model' , 'wb') as file:\n",
    "  pickle.dump(LSTM_model , file)"
   ]
  },
  {
   "cell_type": "markdown",
   "metadata": {},
   "source": [
    "#### 5.Evaluation using Confusion Matrix and accuracy"
   ]
  },
  {
   "cell_type": "code",
   "execution_count": 40,
   "metadata": {},
   "outputs": [
    {
     "name": "stdout",
     "output_type": "stream",
     "text": [
      "\u001b[1m3/3\u001b[0m \u001b[32m━━━━━━━━━━━━━━━━━━━━\u001b[0m\u001b[37m\u001b[0m \u001b[1m0s\u001b[0m 11ms/step\n"
     ]
    }
   ],
   "source": [
    "y_hat = LSTM_model.predict(X_test)"
   ]
  },
  {
   "cell_type": "code",
   "execution_count": 41,
   "metadata": {},
   "outputs": [
    {
     "data": {
      "text/plain": [
       "array([[2.14126107e-22, 1.00000000e+00, 3.16474386e-13, 3.01130854e-16,\n",
       "        8.56645082e-31, 2.07676032e-21, 6.05540707e-33, 3.13249966e-21,\n",
       "        1.93413536e-15, 2.07380375e-32],\n",
       "       [9.99991894e-01, 1.72179626e-09, 4.74084132e-08, 2.27489083e-10,\n",
       "        5.64909988e-06, 3.86236252e-07, 2.10858229e-06, 2.42964160e-09,\n",
       "        9.04480935e-09, 9.37629085e-10],\n",
       "       [7.54620633e-05, 6.48915659e-07, 1.10355252e-02, 2.05491446e-07,\n",
       "        3.28541792e-04, 3.47298414e-01, 5.97559035e-01, 1.63884405e-02,\n",
       "        7.41103780e-04, 2.65725609e-02],\n",
       "       [9.99825299e-01, 2.81092767e-08, 4.51527626e-07, 1.48236277e-08,\n",
       "        2.82541278e-05, 6.32998217e-06, 1.39401789e-04, 1.37375494e-07,\n",
       "        1.27729706e-07, 1.13228058e-08],\n",
       "       [5.19943644e-09, 3.54110525e-05, 8.93600110e-04, 9.98988688e-01,\n",
       "        2.07923332e-08, 9.18816523e-10, 5.44501527e-05, 2.15643795e-05,\n",
       "        6.08172331e-06, 1.71447638e-07],\n",
       "       [9.99737680e-01, 3.70809730e-08, 1.39075723e-07, 1.96866488e-08,\n",
       "        1.75658657e-04, 1.33876720e-05, 7.21976903e-05, 8.01992428e-08,\n",
       "        7.28422037e-07, 2.39223308e-08],\n",
       "       [9.23072057e-13, 1.00000000e+00, 1.34465123e-08, 2.43321224e-10,\n",
       "        1.45019684e-17, 3.11978937e-12, 1.42714608e-19, 6.32572499e-13,\n",
       "        3.65133501e-09, 1.27372437e-19],\n",
       "       [9.99947667e-01, 6.68922624e-08, 4.22428138e-06, 5.65151126e-08,\n",
       "        3.64181551e-06, 4.36846790e-07, 4.35210131e-05, 2.53854353e-07,\n",
       "        1.28859226e-08, 5.90463767e-09],\n",
       "       [1.93955298e-13, 1.00000000e+00, 1.71150365e-08, 5.38702104e-11,\n",
       "        1.50566041e-18, 8.22993149e-13, 1.25005537e-20, 1.54833001e-13,\n",
       "        3.14169712e-09, 3.69675223e-20],\n",
       "       [2.46073341e-05, 1.29289788e-08, 3.98986408e-08, 3.04549874e-09,\n",
       "        8.56514871e-01, 5.16773164e-02, 7.47184095e-04, 9.46099681e-06,\n",
       "        8.72069225e-02, 3.81956343e-03],\n",
       "       [4.19879541e-07, 8.10798451e-09, 1.81886950e-04, 9.54173296e-10,\n",
       "        8.50503915e-04, 8.23469341e-01, 8.32631141e-02, 1.54007552e-03,\n",
       "        2.78793857e-03, 8.79067332e-02],\n",
       "       [1.74933310e-13, 1.08382963e-07, 3.06923152e-06, 9.99987483e-01,\n",
       "        5.23379708e-11, 5.49734683e-13, 1.10267058e-06, 2.54486451e-07,\n",
       "        7.99556256e-06, 6.17118412e-10],\n",
       "       [3.91405905e-07, 9.23923071e-09, 6.40141359e-03, 4.68546624e-09,\n",
       "        3.88021044e-06, 5.18496513e-01, 4.38071132e-01, 2.01121494e-02,\n",
       "        5.67837087e-05, 1.68576650e-02],\n",
       "       [5.86701347e-12, 9.99999881e-01, 4.92947976e-08, 1.35881006e-09,\n",
       "        3.20955871e-16, 2.70856757e-11, 3.94354511e-18, 6.75132042e-12,\n",
       "        2.30519799e-08, 3.93403418e-18],\n",
       "       [3.70289660e-10, 3.69719464e-06, 1.70528219e-04, 9.99706566e-01,\n",
       "        1.56543241e-08, 3.37328221e-10, 6.77623830e-05, 2.64956980e-05,\n",
       "        2.48789638e-05, 1.73738030e-07],\n",
       "       [7.11119441e-10, 2.66520306e-06, 2.04557422e-04, 9.99456108e-01,\n",
       "        1.40948826e-08, 2.71245737e-09, 2.82371067e-04, 2.38909433e-05,\n",
       "        3.02102289e-05, 5.83942601e-08],\n",
       "       [2.59714694e-13, 1.00000000e+00, 9.24012866e-09, 1.57596103e-10,\n",
       "        2.76628201e-18, 9.65268230e-13, 2.73174717e-20, 1.95756334e-13,\n",
       "        2.81691936e-09, 3.34196703e-20],\n",
       "       [9.99997377e-01, 5.62468572e-10, 2.63188902e-08, 7.08280240e-11,\n",
       "        1.85564761e-06, 8.10125655e-08, 5.79626146e-07, 7.46368856e-10,\n",
       "        1.66568304e-09, 2.40523879e-10],\n",
       "       [9.74208355e-01, 2.18484115e-06, 2.54661329e-02, 6.21588072e-07,\n",
       "        1.23424213e-08, 5.11384633e-06, 2.04097363e-04, 1.13554517e-04,\n",
       "        1.34576933e-10, 1.08459002e-08],\n",
       "       [1.68091888e-15, 1.00000000e+00, 4.15857099e-10, 9.71285899e-12,\n",
       "        3.46951780e-21, 1.02671074e-14, 2.81098467e-23, 2.23669744e-15,\n",
       "        1.15493233e-10, 2.88720031e-23],\n",
       "       [7.98328892e-15, 4.21517530e-13, 6.94403476e-12, 1.43640255e-09,\n",
       "        2.63270813e-05, 2.47299314e-09, 3.41341524e-06, 4.24814061e-06,\n",
       "        9.99801576e-01, 1.64346697e-04],\n",
       "       [9.99992371e-01, 1.99431409e-11, 5.28771898e-06, 1.61556532e-11,\n",
       "        5.80202509e-12, 7.40611669e-11, 2.28292447e-06, 1.05010969e-08,\n",
       "        1.17917323e-16, 6.80016481e-14],\n",
       "       [1.72145359e-04, 1.28521162e-04, 3.24671686e-01, 3.38947983e-04,\n",
       "        5.48668067e-05, 4.29829396e-02, 4.11368698e-01, 2.01475978e-01,\n",
       "        1.87920977e-03, 1.69270020e-02],\n",
       "       [9.92975831e-01, 4.04954392e-07, 6.97196042e-03, 1.37121020e-07,\n",
       "        5.46437517e-09, 6.30553103e-08, 4.63660472e-05, 5.33222419e-06,\n",
       "        1.50594242e-11, 1.76563086e-09],\n",
       "       [5.38491328e-15, 7.06271175e-09, 3.40320294e-05, 9.99911904e-01,\n",
       "        2.78820391e-12, 8.05418503e-13, 2.78343396e-05, 4.24588325e-06,\n",
       "        2.19685007e-05, 1.35279006e-08],\n",
       "       [3.63175313e-05, 5.89979798e-09, 3.52307179e-05, 2.58755950e-08,\n",
       "        1.28233456e-03, 5.04776016e-02, 9.45331395e-01, 1.66274328e-03,\n",
       "        2.96882557e-04, 8.77417508e-04],\n",
       "       [1.10007559e-09, 9.49455716e-06, 9.82973576e-01, 2.27140138e-08,\n",
       "        2.02460878e-11, 9.17096622e-05, 1.02707781e-06, 1.69078484e-02,\n",
       "        1.28082934e-06, 1.50519190e-05],\n",
       "       [1.44895898e-06, 4.56775197e-05, 9.64688599e-01, 5.47453624e-07,\n",
       "        2.88935897e-08, 1.31323305e-03, 2.87230068e-04, 3.34252156e-02,\n",
       "        3.89722709e-06, 2.34094361e-04],\n",
       "       [4.53924565e-10, 4.65490063e-10, 6.94936886e-10, 2.29740706e-08,\n",
       "        3.87258716e-02, 1.00786556e-05, 1.06194719e-04, 1.05341942e-05,\n",
       "        9.60158348e-01, 9.88885527e-04],\n",
       "       [1.21444458e-07, 5.61442448e-06, 9.93680239e-01, 3.00054048e-09,\n",
       "        3.73492799e-11, 6.17340847e-05, 9.24999711e-07, 6.25116611e-03,\n",
       "        1.38013547e-08, 2.11835413e-07],\n",
       "       [9.65417683e-01, 3.10039979e-07, 2.64414075e-06, 1.26589455e-07,\n",
       "        1.01420097e-02, 8.37296341e-03, 1.59113389e-02, 7.88102170e-06,\n",
       "        1.38959018e-04, 6.12716076e-06],\n",
       "       [9.77109949e-07, 4.35749854e-08, 1.19545823e-02, 1.22047332e-08,\n",
       "        2.59790395e-05, 5.72988689e-01, 3.14433604e-01, 2.81414408e-02,\n",
       "        3.78152705e-04, 7.20765963e-02],\n",
       "       [2.41561938e-16, 4.19864676e-09, 1.44344278e-06, 9.99998212e-01,\n",
       "        3.35260723e-14, 1.09923468e-15, 7.40488488e-08, 3.35514927e-09,\n",
       "        2.17489173e-07, 8.38846440e-12],\n",
       "       [3.06042680e-13, 1.00000000e+00, 6.22570617e-09, 1.78248666e-10,\n",
       "        4.34702809e-18, 1.20724502e-12, 3.61181952e-20, 2.71389139e-13,\n",
       "        2.60704858e-09, 3.08281878e-20],\n",
       "       [9.99942780e-01, 5.58282798e-09, 2.23268913e-07, 1.17170718e-09,\n",
       "        1.58280163e-05, 3.70637963e-06, 3.74437841e-05, 3.29929293e-08,\n",
       "        4.82267914e-08, 6.82626400e-09],\n",
       "       [9.99950647e-01, 6.47243992e-09, 1.31416755e-07, 6.44306342e-09,\n",
       "        7.55849260e-06, 7.50026913e-07, 4.08546730e-05, 3.45368179e-08,\n",
       "        1.38818246e-08, 1.24210076e-09],\n",
       "       [6.10962747e-09, 2.31316744e-06, 9.67861235e-01, 1.23400916e-08,\n",
       "        6.02321248e-11, 3.28221679e-04, 8.74979742e-06, 3.17879207e-02,\n",
       "        1.66045950e-07, 1.14689601e-05],\n",
       "       [5.33486600e-04, 8.30345215e-08, 2.37140892e-04, 3.80493589e-07,\n",
       "        1.19018182e-03, 2.51149815e-02, 9.68153298e-01, 3.80322221e-03,\n",
       "        2.41542875e-04, 7.25590973e-04],\n",
       "       [9.99971747e-01, 2.94635677e-10, 1.56434999e-05, 2.28580543e-10,\n",
       "        9.18338877e-11, 5.89753135e-09, 1.24682674e-05, 1.55561125e-07,\n",
       "        8.51324270e-15, 1.49953509e-12],\n",
       "       [1.12309015e-08, 3.90635058e-03, 9.86615896e-01, 7.44120371e-07,\n",
       "        4.20435409e-10, 1.56775459e-05, 1.34122075e-07, 5.59138553e-03,\n",
       "        3.82154854e-03, 4.82860487e-05],\n",
       "       [1.87361824e-08, 2.01089279e-08, 3.42853741e-06, 1.49968882e-05,\n",
       "        9.51359980e-03, 4.21630284e-05, 3.34331882e-03, 1.71679165e-02,\n",
       "        9.27244842e-01, 4.26696800e-02],\n",
       "       [3.09328652e-06, 1.61772995e-09, 1.13563374e-07, 6.39373265e-09,\n",
       "        7.68928468e-01, 1.58860475e-01, 3.08718663e-02, 8.27158074e-05,\n",
       "        3.77094522e-02, 3.54388426e-03],\n",
       "       [9.38202147e-17, 1.00000000e+00, 2.77879442e-10, 6.08306591e-13,\n",
       "        1.93930018e-22, 2.57089979e-15, 1.10205752e-24, 1.06772357e-15,\n",
       "        5.79988141e-11, 5.16199140e-24],\n",
       "       [9.99888301e-01, 8.97926267e-09, 1.71563073e-07, 2.10929785e-09,\n",
       "        4.50146326e-05, 9.34845502e-06, 5.68891119e-05, 4.34391261e-08,\n",
       "        1.53726859e-07, 1.28309328e-08],\n",
       "       [1.96941937e-14, 1.00000000e+00, 5.40981349e-09, 4.56056581e-11,\n",
       "        8.72253684e-20, 9.32435959e-14, 9.80419658e-22, 2.43061898e-14,\n",
       "        1.18096910e-09, 2.56434936e-21],\n",
       "       [1.08749065e-10, 3.06232345e-10, 2.12341896e-03, 1.26114286e-10,\n",
       "        6.42416012e-07, 2.96253115e-01, 3.31767313e-02, 3.35629731e-02,\n",
       "        3.22480308e-04, 6.34560704e-01],\n",
       "       [8.18528747e-07, 2.92412233e-10, 6.04014483e-09, 1.40338974e-09,\n",
       "        9.49538231e-01, 1.38825020e-02, 2.13033985e-03, 1.22374558e-05,\n",
       "        3.30780372e-02, 1.35786645e-03],\n",
       "       [2.75281423e-06, 2.12242885e-05, 9.50028062e-01, 2.27952782e-07,\n",
       "        4.00176337e-09, 9.20797791e-03, 5.64002403e-05, 4.06753607e-02,\n",
       "        9.42956603e-07, 7.00239161e-06],\n",
       "       [1.05426852e-06, 1.40609764e-05, 9.12349164e-01, 4.34768452e-07,\n",
       "        1.07559224e-08, 4.66329372e-03, 2.10623504e-04, 8.26856196e-02,\n",
       "        2.09023460e-06, 7.36038201e-05],\n",
       "       [1.33559541e-19, 1.00000000e+00, 6.35092196e-12, 6.40869126e-14,\n",
       "        5.83830371e-27, 1.22144384e-18, 1.06000584e-28, 4.89585199e-19,\n",
       "        1.16488606e-13, 1.16731047e-28],\n",
       "       [9.99975324e-01, 9.49419299e-09, 1.20489247e-07, 1.00734532e-08,\n",
       "        1.11485060e-05, 3.81817131e-07, 1.29296168e-05, 2.10404565e-08,\n",
       "        2.48268748e-08, 1.57907898e-09],\n",
       "       [4.03341999e-10, 9.11744347e-10, 1.32017897e-03, 1.06509660e-07,\n",
       "        1.18733863e-06, 7.59353787e-02, 9.52182040e-02, 7.58427858e-01,\n",
       "        1.15895171e-04, 6.89811558e-02],\n",
       "       [1.62547628e-13, 1.00000000e+00, 9.35249034e-09, 8.35535044e-11,\n",
       "        9.67517697e-19, 4.83303610e-13, 1.09170772e-20, 9.55027005e-14,\n",
       "        1.31181432e-09, 1.46240524e-20],\n",
       "       [7.00921119e-14, 1.05393774e-07, 2.16840999e-06, 9.99997139e-01,\n",
       "        6.69954240e-12, 3.16860423e-14, 1.96730682e-07, 2.98860705e-08,\n",
       "        4.10504782e-07, 1.04317645e-10],\n",
       "       [4.46772992e-06, 3.32802701e-05, 9.83822644e-01, 4.99794226e-07,\n",
       "        1.15377548e-08, 5.72272867e-04, 1.90872364e-04, 1.53331943e-02,\n",
       "        1.21387893e-06, 4.15018294e-05],\n",
       "       [2.37334791e-19, 1.00000000e+00, 2.67220673e-11, 5.09401386e-13,\n",
       "        1.88900386e-26, 2.82705766e-18, 1.03964289e-27, 2.04973577e-18,\n",
       "        3.46951200e-13, 1.33316193e-27],\n",
       "       [1.61219589e-06, 3.86957836e-04, 9.90748703e-01, 1.33315837e-06,\n",
       "        1.38332954e-08, 4.68606799e-04, 3.32809359e-05, 8.30941554e-03,\n",
       "        1.21053272e-05, 3.79718331e-05],\n",
       "       [5.68943328e-08, 4.68437465e-05, 9.90600824e-01, 1.38598367e-07,\n",
       "        4.07295059e-10, 1.72615109e-04, 7.01933141e-06, 9.15437099e-03,\n",
       "        1.97982172e-06, 1.62384913e-05],\n",
       "       [2.31001536e-07, 4.83153155e-04, 9.96856213e-01, 2.60992522e-07,\n",
       "        1.50335766e-09, 1.62061158e-04, 2.08780580e-06, 2.47689313e-03,\n",
       "        1.04360042e-05, 8.57629584e-06],\n",
       "       [2.39549787e-04, 8.72035103e-04, 9.93373752e-01, 1.15804346e-06,\n",
       "        6.74818494e-08, 5.06620796e-04, 2.49505429e-05, 4.97529097e-03,\n",
       "        2.62729645e-06, 3.86944384e-06],\n",
       "       [1.61786897e-06, 6.60112448e-07, 8.03640410e-02, 9.17663215e-07,\n",
       "        7.70340466e-06, 3.22440207e-01, 2.81651407e-01, 2.53567457e-01,\n",
       "        5.71831071e-04, 6.13941699e-02],\n",
       "       [1.05426852e-06, 1.40609764e-05, 9.12349164e-01, 4.34768452e-07,\n",
       "        1.07559224e-08, 4.66329372e-03, 2.10623504e-04, 8.26856196e-02,\n",
       "        2.09023460e-06, 7.36038201e-05],\n",
       "       [8.74712303e-09, 3.25995653e-09, 5.32028421e-09, 8.32847036e-08,\n",
       "        8.52815509e-02, 1.52338835e-04, 7.45205209e-04, 4.24119135e-05,\n",
       "        9.12013412e-01, 1.76508049e-03],\n",
       "       [3.88270186e-04, 9.32870607e-05, 9.89369869e-01, 2.37781728e-06,\n",
       "        3.38241819e-07, 5.60352288e-04, 1.01410050e-03, 8.51928722e-03,\n",
       "        2.04280059e-06, 5.00891110e-05],\n",
       "       [4.69237025e-15, 2.07009513e-13, 2.02799001e-05, 6.69569042e-14,\n",
       "        8.16696932e-09, 2.87199393e-03, 6.36795667e-05, 8.70795862e-04,\n",
       "        8.60956934e-05, 9.96087193e-01],\n",
       "       [9.99989390e-01, 1.86000448e-09, 6.71156428e-08, 4.72249517e-10,\n",
       "        3.26559734e-06, 3.81818126e-07, 6.96982397e-06, 5.70160452e-09,\n",
       "        4.86012652e-09, 6.19010454e-10],\n",
       "       [5.68172733e-13, 2.19770477e-08, 9.90344779e-06, 9.99972463e-01,\n",
       "        3.08112529e-11, 5.20105617e-12, 1.64892481e-05, 3.13024088e-07,\n",
       "        8.17360842e-07, 1.37322154e-10],\n",
       "       [9.99999642e-01, 1.31879989e-14, 2.68788245e-08, 2.58148910e-14,\n",
       "        3.23383288e-14, 9.20060794e-13, 2.96078611e-07, 1.13966656e-10,\n",
       "        2.05399124e-20, 2.28725647e-17],\n",
       "       [1.67518519e-13, 1.00000000e+00, 3.81039023e-09, 9.22808982e-11,\n",
       "        1.56306716e-18, 6.64165554e-13, 1.23876694e-20, 1.21232993e-13,\n",
       "        1.33950295e-09, 9.72556797e-21],\n",
       "       [9.99952197e-01, 2.46751402e-08, 6.40343558e-07, 2.08585664e-08,\n",
       "        8.24147355e-06, 7.62740001e-07, 3.79729427e-05, 8.64942891e-08,\n",
       "        2.37991582e-08, 3.73211728e-09],\n",
       "       [9.99999881e-01, 7.67859242e-16, 3.74737485e-09, 2.05572906e-15,\n",
       "        5.47553861e-15, 9.21848657e-14, 1.50214049e-07, 1.44707336e-11,\n",
       "        8.09195341e-22, 1.33637563e-18],\n",
       "       [9.99995232e-01, 1.86993346e-12, 4.58943674e-07, 3.24564290e-12,\n",
       "        2.80618172e-12, 2.94234304e-10, 4.27822670e-06, 8.91601637e-09,\n",
       "        2.21672311e-17, 6.15555656e-15],\n",
       "       [9.99999523e-01, 3.70270119e-15, 9.40873868e-09, 1.06617308e-14,\n",
       "        2.39176185e-14, 9.62339366e-13, 4.74134993e-07, 8.21688551e-11,\n",
       "        7.48223557e-21, 8.07543758e-18],\n",
       "       [5.03860100e-08, 6.53011467e-09, 2.58226693e-03, 2.47771026e-09,\n",
       "        3.73230068e-05, 6.51126027e-01, 2.06012025e-01, 1.56151997e-02,\n",
       "        7.07397412e-04, 1.23919696e-01],\n",
       "       [9.98963475e-01, 1.35043052e-07, 8.34683760e-06, 1.69525435e-07,\n",
       "        1.47309165e-05, 9.72281850e-06, 1.00073370e-03, 2.61295577e-06,\n",
       "        4.74614765e-08, 3.08635748e-08],\n",
       "       [3.72173801e-21, 1.00000000e+00, 2.36867004e-13, 2.43300076e-16,\n",
       "        2.33442947e-29, 2.35048848e-20, 4.52193869e-32, 7.54354145e-21,\n",
       "        7.67558133e-15, 9.19063079e-32],\n",
       "       [1.17882095e-07, 7.26386061e-05, 8.95949721e-01, 4.24607924e-06,\n",
       "        1.00913553e-08, 2.19107885e-03, 1.57500705e-04, 1.01205245e-01,\n",
       "        2.73704554e-05, 3.92025744e-04],\n",
       "       [4.63322099e-16, 1.00000000e+00, 2.35985315e-10, 4.37467207e-12,\n",
       "        7.42417824e-22, 4.00111810e-15, 4.60694256e-24, 7.04065856e-16,\n",
       "        1.16953849e-10, 7.37398617e-24],\n",
       "       [9.99989271e-01, 3.50684863e-11, 3.87133423e-06, 4.07428952e-11,\n",
       "        1.38034471e-11, 2.63820410e-09, 6.77544358e-06, 6.87967940e-08,\n",
       "        4.94679470e-16, 1.01747136e-13],\n",
       "       [7.11542192e-16, 1.00000000e+00, 1.52636709e-10, 2.82656494e-12,\n",
       "        7.98149622e-22, 3.66887408e-15, 4.63025182e-24, 6.49103529e-16,\n",
       "        3.15275132e-11, 3.54856614e-24]], dtype=float32)"
      ]
     },
     "execution_count": 41,
     "metadata": {},
     "output_type": "execute_result"
    }
   ],
   "source": [
    "y_hat"
   ]
  },
  {
   "cell_type": "code",
   "execution_count": 42,
   "metadata": {},
   "outputs": [],
   "source": [
    "y_hat =  np.argmax(y_hat , axis = 1).tolist()\n",
    "y_true = np.argmax(y_test , axis = 1).tolist()"
   ]
  },
  {
   "cell_type": "code",
   "execution_count": 43,
   "metadata": {},
   "outputs": [
    {
     "name": "stdout",
     "output_type": "stream",
     "text": [
      "[1, 0, 6, 0, 3, 0, 1, 0, 1, 4, 5, 3, 9, 1, 3, 3, 1, 0, 2, 1, 8, 0, 6, 0, 3, 6, 2, 2, 8, 2, 4, 5, 3, 1, 0, 0, 2, 6, 0, 2, 8, 4, 1, 0, 1, 9, 4, 2, 2, 1, 0, 7, 1, 3, 2, 1, 2, 2, 2, 2, 6, 2, 8, 2, 9, 0, 3, 0, 1, 0, 0, 0, 0, 9, 0, 1, 2, 1, 0, 1]\n",
      "[1, 0, 6, 0, 3, 0, 1, 0, 1, 4, 5, 3, 5, 1, 3, 3, 1, 0, 0, 1, 8, 0, 6, 0, 3, 6, 2, 2, 8, 2, 0, 5, 3, 1, 0, 0, 2, 6, 0, 2, 8, 4, 1, 0, 1, 9, 4, 2, 2, 1, 0, 7, 1, 3, 2, 1, 2, 2, 2, 2, 5, 2, 8, 2, 9, 0, 3, 0, 1, 0, 0, 0, 0, 5, 0, 1, 2, 1, 0, 1]\n"
     ]
    }
   ],
   "source": [
    "print(y_true)\n",
    "print(y_hat)"
   ]
  },
  {
   "cell_type": "code",
   "execution_count": 44,
   "metadata": {},
   "outputs": [
    {
     "data": {
      "text/plain": [
       "array([[[58,  2],\n",
       "        [ 0, 20]],\n",
       "\n",
       "       [[64,  0],\n",
       "        [ 0, 16]],\n",
       "\n",
       "       [[64,  0],\n",
       "        [ 1, 15]],\n",
       "\n",
       "       [[72,  0],\n",
       "        [ 0,  8]],\n",
       "\n",
       "       [[76,  0],\n",
       "        [ 1,  3]],\n",
       "\n",
       "       [[75,  3],\n",
       "        [ 0,  2]],\n",
       "\n",
       "       [[75,  0],\n",
       "        [ 1,  4]],\n",
       "\n",
       "       [[79,  0],\n",
       "        [ 0,  1]],\n",
       "\n",
       "       [[76,  0],\n",
       "        [ 0,  4]],\n",
       "\n",
       "       [[76,  0],\n",
       "        [ 2,  2]]], dtype=int64)"
      ]
     },
     "execution_count": 44,
     "metadata": {},
     "output_type": "execute_result"
    }
   ],
   "source": [
    "multilabel_confusion_matrix(y_true , y_hat)\n",
    "\n",
    "# This confusion matrix shows TP and TN for each and every class"
   ]
  },
  {
   "cell_type": "code",
   "execution_count": 45,
   "metadata": {},
   "outputs": [
    {
     "data": {
      "text/plain": [
       "0.9375"
      ]
     },
     "execution_count": 45,
     "metadata": {},
     "output_type": "execute_result"
    }
   ],
   "source": [
    "accuracy_score(y_true , y_hat)"
   ]
  },
  {
   "cell_type": "code",
   "execution_count": null,
   "metadata": {},
   "outputs": [],
   "source": []
  }
 ],
 "metadata": {
  "kernelspec": {
   "display_name": "Python 3",
   "language": "python",
   "name": "python3"
  },
  "language_info": {
   "codemirror_mode": {
    "name": "ipython",
    "version": 3
   },
   "file_extension": ".py",
   "mimetype": "text/x-python",
   "name": "python",
   "nbconvert_exporter": "python",
   "pygments_lexer": "ipython3",
   "version": "3.12.5"
  }
 },
 "nbformat": 4,
 "nbformat_minor": 2
}
