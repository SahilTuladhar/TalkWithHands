{
 "cells": [
  {
   "cell_type": "markdown",
   "metadata": {},
   "source": [
    "### Creating a LSTM Model"
   ]
  },
  {
   "cell_type": "code",
   "execution_count": 1,
   "metadata": {},
   "outputs": [],
   "source": [
    "from pymongo import MongoClient\n",
    "import numpy as np\n",
    "import os\n",
    "import random\n",
    "import tensorflow as tf\n",
    "import pandas as pd\n",
    "import pickle\n",
    "from tqdm import tqdm \n",
    "import matplotlib.pyplot as plt\n",
    "%matplotlib inline\n",
    "tqdm.pandas()"
   ]
  },
  {
   "cell_type": "code",
   "execution_count": 2,
   "metadata": {},
   "outputs": [],
   "source": [
    "from tensorflow.keras.models import Model , Sequential\n",
    "from tensorflow.keras.layers import LSTM , Dense , Flatten , Dropout , Input\n",
    "from tensorflow.keras.callbacks import TensorBoard , EarlyStopping"
   ]
  },
  {
   "cell_type": "code",
   "execution_count": 3,
   "metadata": {},
   "outputs": [],
   "source": [
    "\n",
    "from tensorflow.keras.utils import to_categorical\n",
    "from sklearn.model_selection import train_test_split\n",
    "from sklearn.metrics import multilabel_confusion_matrix , accuracy_score"
   ]
  },
  {
   "cell_type": "code",
   "execution_count": 4,
   "metadata": {},
   "outputs": [
    {
     "name": "stdout",
     "output_type": "stream",
     "text": [
      "c:\\Users\\Sahil\\AppData\\Local\\Programs\\Python\\Python312\\python.exe\n",
      "2.18.0\n",
      "0.10.18\n"
     ]
    }
   ],
   "source": [
    "from Create_dataset import actions"
   ]
  },
  {
   "cell_type": "code",
   "execution_count": 5,
   "metadata": {},
   "outputs": [],
   "source": [
    "# File Path to store the landmark data\n",
    "\n",
    "DATA_PATH = os.path.join(\"LANDMARK_DATA\")\n",
    "\n",
    "# Defining the actions \n",
    "actions = np.array(['hello' , 'thankyou' , 'My' , 'sorry', 'Name' , 'You' , 'I am' , 'Nice' ,'Meet' , 'Fine', 'I'])\n",
    "# Defining the number of videos per action\n",
    "\n",
    "no_of_videos = 100\n",
    "\n",
    "# Defining the number of frames per video\n",
    "\n",
    "no_of_frames = 30"
   ]
  },
  {
   "cell_type": "code",
   "execution_count": 6,
   "metadata": {},
   "outputs": [],
   "source": [
    "\n",
    "# Creating Label Map \n",
    "\n",
    "label_map = {label:num for num , label in enumerate(actions)}"
   ]
  },
  {
   "cell_type": "code",
   "execution_count": 7,
   "metadata": {},
   "outputs": [
    {
     "data": {
      "text/plain": [
       "{'hello': 0,\n",
       " 'thankyou': 1,\n",
       " 'My': 2,\n",
       " 'sorry': 3,\n",
       " 'Name': 4,\n",
       " 'You': 5,\n",
       " 'I am': 6,\n",
       " 'Nice': 7,\n",
       " 'Meet': 8,\n",
       " 'Fine': 9,\n",
       " 'I': 10}"
      ]
     },
     "execution_count": 7,
     "metadata": {},
     "output_type": "execute_result"
    }
   ],
   "source": [
    "label_map"
   ]
  },
  {
   "cell_type": "code",
   "execution_count": 8,
   "metadata": {},
   "outputs": [],
   "source": [
    "tf.random.set_seed(17)\n",
    "np.random.seed(17)\n",
    "random.seed(17)"
   ]
  },
  {
   "cell_type": "markdown",
   "metadata": {},
   "source": [
    "#### 1. Extracting Data from MongoDB"
   ]
  },
  {
   "cell_type": "code",
   "execution_count": 9,
   "metadata": {},
   "outputs": [],
   "source": [
    "connection = MongoClient('localhost' , 27017)\n",
    "db = connection['mydb']\n",
    "collection = db['Preprocessed_Landmark_Data']"
   ]
  },
  {
   "cell_type": "code",
   "execution_count": 10,
   "metadata": {},
   "outputs": [],
   "source": [
    "cursor = collection.find({})\n",
    "df = pd.DataFrame(list(cursor))"
   ]
  },
  {
   "cell_type": "code",
   "execution_count": 11,
   "metadata": {},
   "outputs": [
    {
     "name": "stderr",
     "output_type": "stream",
     "text": [
      "100%|██████████| 1100/1100 [00:07<00:00, 143.66it/s]\n"
     ]
    }
   ],
   "source": [
    "df['Landmarks'] = df['Landmarks'].progress_apply(lambda landmarks : [np.array(x) if isinstance(x , list) else x for x in landmarks])"
   ]
  },
  {
   "cell_type": "code",
   "execution_count": 12,
   "metadata": {},
   "outputs": [
    {
     "data": {
      "text/plain": [
       "[array([ 0.48907107,  0.31065953, -1.52472782, ...,  0.        ,\n",
       "         0.        ,  0.        ]),\n",
       " array([ 0.50588286,  0.43122151, -1.3196938 , ...,  0.        ,\n",
       "         0.        ,  0.        ]),\n",
       " array([ 0.51067424,  0.43701315, -1.17469358, ...,  0.        ,\n",
       "         0.        ,  0.        ]),\n",
       " array([ 0.52083284,  0.44172639, -1.05210757, ...,  0.        ,\n",
       "         0.        ,  0.        ]),\n",
       " array([ 0.51937109,  0.44772437, -1.02967119, ...,  0.        ,\n",
       "         0.        ,  0.        ]),\n",
       " array([ 0.51915282,  0.45715916, -0.74745756, ...,  0.        ,\n",
       "         0.        ,  0.        ]),\n",
       " array([ 0.51843125,  0.46929976, -0.87260878, ...,  0.        ,\n",
       "         0.        ,  0.        ]),\n",
       " array([ 0.51749331,  0.46095556, -0.70599127, ...,  0.        ,\n",
       "         0.        ,  0.        ]),\n",
       " array([ 0.51346844,  0.45430243, -0.86979645, ...,  0.        ,\n",
       "         0.        ,  0.        ]),\n",
       " array([ 0.51234734,  0.45008966, -0.7774955 , ...,  0.2658312 ,\n",
       "         0.63843787, -0.03109534]),\n",
       " array([ 0.51212871,  0.44887435, -0.85361803, ...,  0.33772585,\n",
       "         0.46450543, -0.03207284]),\n",
       " array([ 0.50867832,  0.44668978, -0.80469942, ...,  0.35319185,\n",
       "         0.42255282, -0.01252077]),\n",
       " array([ 0.50344378,  0.44466624, -0.82464617, ...,  0.38555408,\n",
       "         0.35049063, -0.02053679]),\n",
       " array([ 0.50344813,  0.43701658, -0.85424149, ...,  0.38529563,\n",
       "         0.34141111, -0.02238828]),\n",
       " array([ 0.50341082,  0.43713304, -0.86200154, ...,  0.39435139,\n",
       "         0.34060687, -0.01376653]),\n",
       " array([ 0.50337827,  0.43727082, -0.83545512, ...,  0.39295304,\n",
       "         0.34160227, -0.02108821]),\n",
       " array([ 0.5033921 ,  0.4368301 , -0.84372348, ...,  0.39226806,\n",
       "         0.34032011, -0.01539275]),\n",
       " array([ 0.50421244,  0.4388518 , -0.84747058, ...,  0.3845011 ,\n",
       "         0.33970091, -0.01766314]),\n",
       " array([ 0.5045377 ,  0.43691829, -0.85955161, ...,  0.38099688,\n",
       "         0.33305356, -0.01411838]),\n",
       " array([ 0.50677156,  0.43678248, -0.87914801, ...,  0.3734045 ,\n",
       "         0.32579508, -0.01641986]),\n",
       " array([ 0.50389397,  0.43513271, -0.85863096, ...,  0.28899515,\n",
       "         0.26439166, -0.03832317]),\n",
       " array([ 0.49887213,  0.43487051, -0.77055752, ...,  0.22838274,\n",
       "         0.17121109, -0.04179138]),\n",
       " array([ 0.49414   ,  0.43476781, -0.78489619, ...,  0.20760581,\n",
       "         0.16184597, -0.04089605]),\n",
       " array([ 0.49012414,  0.43305984, -0.80328369, ...,  0.16934681,\n",
       "         0.14995436, -0.05871451]),\n",
       " array([ 0.49047002,  0.43257579, -0.7820524 , ...,  0.16756818,\n",
       "         0.1529664 , -0.05712125]),\n",
       " array([ 0.49033314,  0.43244427, -0.75671881, ...,  0.16414647,\n",
       "         0.15417428, -0.05516456]),\n",
       " array([ 0.49162111,  0.43236405, -0.76253307, ...,  0.16426605,\n",
       "         0.15997811, -0.0561163 ]),\n",
       " array([ 0.4926661 ,  0.43284616, -0.76935244, ...,  0.16717376,\n",
       "         0.15810913, -0.05844192]),\n",
       " array([ 0.49296832,  0.43348545, -0.77340305, ...,  0.16804329,\n",
       "         0.16028863, -0.05659148]),\n",
       " array([ 0.49369201,  0.43327758, -0.77868259, ...,  0.1671429 ,\n",
       "         0.16293401, -0.05479354])]"
      ]
     },
     "execution_count": 12,
     "metadata": {},
     "output_type": "execute_result"
    }
   ],
   "source": [
    "df['Landmarks'][0]"
   ]
  },
  {
   "cell_type": "code",
   "execution_count": 13,
   "metadata": {},
   "outputs": [],
   "source": [
    "X = np.array(df['Landmarks'].tolist())\n",
    "labels_list = (df['Labels'].tolist())\n",
    "y = to_categorical(labels_list).astype(int)\n"
   ]
  },
  {
   "cell_type": "code",
   "execution_count": 14,
   "metadata": {},
   "outputs": [
    {
     "data": {
      "text/plain": [
       "(1100, 30, 1662)"
      ]
     },
     "execution_count": 14,
     "metadata": {},
     "output_type": "execute_result"
    }
   ],
   "source": [
    "X.shape"
   ]
  },
  {
   "cell_type": "code",
   "execution_count": 15,
   "metadata": {},
   "outputs": [
    {
     "data": {
      "text/plain": [
       "(1100, 11)"
      ]
     },
     "execution_count": 15,
     "metadata": {},
     "output_type": "execute_result"
    }
   ],
   "source": [
    "y.shape"
   ]
  },
  {
   "cell_type": "code",
   "execution_count": 16,
   "metadata": {},
   "outputs": [
    {
     "data": {
      "text/plain": [
       "array([[[ 0.48907107,  0.31065953, -1.52472782, ...,  0.        ,\n",
       "          0.        ,  0.        ],\n",
       "        [ 0.50588286,  0.43122151, -1.3196938 , ...,  0.        ,\n",
       "          0.        ,  0.        ],\n",
       "        [ 0.51067424,  0.43701315, -1.17469358, ...,  0.        ,\n",
       "          0.        ,  0.        ],\n",
       "        ...,\n",
       "        [ 0.4926661 ,  0.43284616, -0.76935244, ...,  0.16717376,\n",
       "          0.15810913, -0.05844192],\n",
       "        [ 0.49296832,  0.43348545, -0.77340305, ...,  0.16804329,\n",
       "          0.16028863, -0.05659148],\n",
       "        [ 0.49369201,  0.43327758, -0.77868259, ...,  0.1671429 ,\n",
       "          0.16293401, -0.05479354]],\n",
       "\n",
       "       [[ 0.49377102,  0.43369636, -0.78066176, ...,  0.16670072,\n",
       "          0.16406117, -0.05632574],\n",
       "        [ 0.47779107,  0.43192369, -0.75557107, ...,  0.        ,\n",
       "          0.        ,  0.        ],\n",
       "        [ 0.47237068,  0.43091211, -0.74847233, ...,  0.        ,\n",
       "          0.        ,  0.        ],\n",
       "        ...,\n",
       "        [ 0.46164799,  0.45209727, -0.84796935, ...,  0.        ,\n",
       "          0.        ,  0.        ],\n",
       "        [ 0.46428689,  0.4498722 , -0.82539862, ...,  0.        ,\n",
       "          0.        ,  0.        ],\n",
       "        [ 0.47742948,  0.44877407, -0.81576234, ...,  0.        ,\n",
       "          0.        ,  0.        ]],\n",
       "\n",
       "       [[ 0.48355398,  0.44761306, -0.80837214, ...,  0.        ,\n",
       "          0.        ,  0.        ],\n",
       "        [ 0.48781523,  0.44514817, -1.09916377, ...,  0.3784962 ,\n",
       "          0.34700382, -0.01218292],\n",
       "        [ 0.48840103,  0.44509652, -1.16784668, ...,  0.38576493,\n",
       "          0.34095442, -0.0159448 ],\n",
       "        ...,\n",
       "        [ 0.483527  ,  0.45057005, -0.8834793 , ...,  0.16827801,\n",
       "          0.16983922, -0.05109491],\n",
       "        [ 0.48597106,  0.45011848, -0.87904328, ...,  0.17775305,\n",
       "          0.16605666, -0.04678062],\n",
       "        [ 0.48672047,  0.45011494, -0.93356025, ...,  0.17694263,\n",
       "          0.1654589 , -0.04639618]],\n",
       "\n",
       "       ...,\n",
       "\n",
       "       [[ 0.48886687,  0.35091999, -0.73646224, ...,  0.15681575,\n",
       "          0.40420592, -0.02380695],\n",
       "        [ 0.47854167,  0.33581352, -0.83610547, ...,  0.        ,\n",
       "          0.        ,  0.        ],\n",
       "        [ 0.47022504,  0.32677534, -0.89760655, ...,  0.        ,\n",
       "          0.        ,  0.        ],\n",
       "        ...,\n",
       "        [ 0.4649469 ,  0.32845199, -0.7753973 , ...,  0.        ,\n",
       "          0.        ,  0.        ],\n",
       "        [ 0.46554342,  0.32846981, -0.77407485, ...,  0.        ,\n",
       "          0.        ,  0.        ],\n",
       "        [ 0.46556106,  0.32855108, -0.76717192, ...,  0.        ,\n",
       "          0.        ,  0.        ]],\n",
       "\n",
       "       [[ 0.46573871,  0.3281278 , -0.71922696, ...,  0.        ,\n",
       "          0.        ,  0.        ],\n",
       "        [ 0.43609244,  0.31973889, -1.1288892 , ...,  0.        ,\n",
       "          0.        ,  0.        ],\n",
       "        [ 0.42959809,  0.31499699, -1.13232863, ...,  0.        ,\n",
       "          0.        ,  0.        ],\n",
       "        ...,\n",
       "        [ 0.48307031,  0.33410788, -0.66283178, ...,  0.13913786,\n",
       "          0.39436489, -0.03855847],\n",
       "        [ 0.48230457,  0.33423626, -0.66998339, ...,  0.13820651,\n",
       "          0.39548516, -0.0385441 ],\n",
       "        [ 0.4811067 ,  0.33451709, -0.68243682, ...,  0.13688493,\n",
       "          0.39423084, -0.04009066]],\n",
       "\n",
       "       [[ 0.47943172,  0.33449763, -0.68832666, ...,  0.13742651,\n",
       "          0.39090121, -0.03840435],\n",
       "        [ 0.46118999,  0.33454961, -0.88375235, ...,  0.        ,\n",
       "          0.        ,  0.        ],\n",
       "        [ 0.45702314,  0.33504373, -0.84480822, ...,  0.        ,\n",
       "          0.        ,  0.        ],\n",
       "        ...,\n",
       "        [ 0.44162822,  0.33006033, -0.8123762 , ...,  0.        ,\n",
       "          0.        ,  0.        ],\n",
       "        [ 0.44151777,  0.33073029, -0.80016315, ...,  0.        ,\n",
       "          0.        ,  0.        ],\n",
       "        [ 0.44169092,  0.33074337, -0.82361537, ...,  0.        ,\n",
       "          0.        ,  0.        ]]])"
      ]
     },
     "execution_count": 16,
     "metadata": {},
     "output_type": "execute_result"
    }
   ],
   "source": [
    "X"
   ]
  },
  {
   "cell_type": "markdown",
   "metadata": {},
   "source": [
    "#### 2. Performing Train-test split\n",
    "- using 95-5  percent train-test split"
   ]
  },
  {
   "cell_type": "code",
   "execution_count": 17,
   "metadata": {},
   "outputs": [],
   "source": [
    "X_train , X_test , y_train , y_test = train_test_split(X , y , test_size=0.05)"
   ]
  },
  {
   "cell_type": "code",
   "execution_count": 18,
   "metadata": {},
   "outputs": [
    {
     "name": "stdout",
     "output_type": "stream",
     "text": [
      "X-train shape: (1045, 30, 1662)\n",
      "X-test shape: (55, 30, 1662)\n",
      "y-train shape: (1045, 11)\n",
      "y-test shape: (55, 11)\n"
     ]
    }
   ],
   "source": [
    "print(\"X-train shape:\" , X_train.shape)\n",
    "print(\"X-test shape:\" , X_test.shape)\n",
    "print(\"y-train shape:\" , y_train.shape)\n",
    "print(\"y-test shape:\" , y_test.shape)"
   ]
  },
  {
   "cell_type": "markdown",
   "metadata": {},
   "source": [
    "Creating LSTM Model Architecture"
   ]
  },
  {
   "cell_type": "code",
   "execution_count": 19,
   "metadata": {},
   "outputs": [],
   "source": [
    "# Creating a Instance of Early Stopping\n",
    "\n",
    "early_stopping_callback = EarlyStopping(\n",
    " monitor = 'val_loss',\n",
    " patience = 5,\n",
    " mode = 'min',\n",
    " restore_best_weights = True\n",
    ")"
   ]
  },
  {
   "cell_type": "code",
   "execution_count": 20,
   "metadata": {},
   "outputs": [
    {
     "data": {
      "text/plain": [
       "(1045, 30, 1662)"
      ]
     },
     "execution_count": 20,
     "metadata": {},
     "output_type": "execute_result"
    }
   ],
   "source": [
    "X_train.shape"
   ]
  },
  {
   "cell_type": "code",
   "execution_count": 21,
   "metadata": {},
   "outputs": [],
   "source": [
    "log_dir = os.path.join('Logs')\n",
    "tb_callback = TensorBoard(log_dir = log_dir)"
   ]
  },
  {
   "cell_type": "code",
   "execution_count": 22,
   "metadata": {},
   "outputs": [
    {
     "name": "stderr",
     "output_type": "stream",
     "text": [
      "c:\\Users\\Sahil\\AppData\\Local\\Programs\\Python\\Python312\\Lib\\site-packages\\keras\\src\\layers\\rnn\\rnn.py:204: UserWarning: Do not pass an `input_shape`/`input_dim` argument to a layer. When using Sequential models, prefer using an `Input(shape)` object as the first layer in the model instead.\n",
      "  super().__init__(**kwargs)\n"
     ]
    }
   ],
   "source": [
    "# Constructing LSTM Model\n",
    "\n",
    "LSTM_model = Sequential()\n",
    "LSTM_model.add(LSTM(64, return_sequences= True , activation = 'relu' , input_shape = (30 , 1662)))\n",
    "LSTM_model.add(LSTM(128 , return_sequences= True , activation = 'relu'))\n",
    "# model.add(LSTM(128 , return_sequences= True , activation = 'relu'))\n",
    "LSTM_model.add(LSTM(64 , return_sequences= False , activation='relu'))\n",
    "# model.add(Dense(128 , activation ='relu'))\n",
    "# model.add(Dense(64 , activation ='relu'))\n",
    "LSTM_model.add(Dense(64 , activation ='relu'))\n",
    "LSTM_model.add(Dense(32 , activation = 'relu'))\n",
    "LSTM_model.add(Dense(actions.shape[0] , activation='softmax'))"
   ]
  },
  {
   "cell_type": "code",
   "execution_count": 23,
   "metadata": {},
   "outputs": [
    {
     "data": {
      "text/html": [
       "<pre style=\"white-space:pre;overflow-x:auto;line-height:normal;font-family:Menlo,'DejaVu Sans Mono',consolas,'Courier New',monospace\"><span style=\"font-weight: bold\">Model: \"sequential\"</span>\n",
       "</pre>\n"
      ],
      "text/plain": [
       "\u001b[1mModel: \"sequential\"\u001b[0m\n"
      ]
     },
     "metadata": {},
     "output_type": "display_data"
    },
    {
     "data": {
      "text/html": [
       "<pre style=\"white-space:pre;overflow-x:auto;line-height:normal;font-family:Menlo,'DejaVu Sans Mono',consolas,'Courier New',monospace\">┏━━━━━━━━━━━━━━━━━━━━━━━━━━━━━━━━━┳━━━━━━━━━━━━━━━━━━━━━━━━┳━━━━━━━━━━━━━━━┓\n",
       "┃<span style=\"font-weight: bold\"> Layer (type)                    </span>┃<span style=\"font-weight: bold\"> Output Shape           </span>┃<span style=\"font-weight: bold\">       Param # </span>┃\n",
       "┡━━━━━━━━━━━━━━━━━━━━━━━━━━━━━━━━━╇━━━━━━━━━━━━━━━━━━━━━━━━╇━━━━━━━━━━━━━━━┩\n",
       "│ lstm (<span style=\"color: #0087ff; text-decoration-color: #0087ff\">LSTM</span>)                     │ (<span style=\"color: #00d7ff; text-decoration-color: #00d7ff\">None</span>, <span style=\"color: #00af00; text-decoration-color: #00af00\">30</span>, <span style=\"color: #00af00; text-decoration-color: #00af00\">64</span>)         │       <span style=\"color: #00af00; text-decoration-color: #00af00\">442,112</span> │\n",
       "├─────────────────────────────────┼────────────────────────┼───────────────┤\n",
       "│ lstm_1 (<span style=\"color: #0087ff; text-decoration-color: #0087ff\">LSTM</span>)                   │ (<span style=\"color: #00d7ff; text-decoration-color: #00d7ff\">None</span>, <span style=\"color: #00af00; text-decoration-color: #00af00\">30</span>, <span style=\"color: #00af00; text-decoration-color: #00af00\">128</span>)        │        <span style=\"color: #00af00; text-decoration-color: #00af00\">98,816</span> │\n",
       "├─────────────────────────────────┼────────────────────────┼───────────────┤\n",
       "│ lstm_2 (<span style=\"color: #0087ff; text-decoration-color: #0087ff\">LSTM</span>)                   │ (<span style=\"color: #00d7ff; text-decoration-color: #00d7ff\">None</span>, <span style=\"color: #00af00; text-decoration-color: #00af00\">64</span>)             │        <span style=\"color: #00af00; text-decoration-color: #00af00\">49,408</span> │\n",
       "├─────────────────────────────────┼────────────────────────┼───────────────┤\n",
       "│ dense (<span style=\"color: #0087ff; text-decoration-color: #0087ff\">Dense</span>)                   │ (<span style=\"color: #00d7ff; text-decoration-color: #00d7ff\">None</span>, <span style=\"color: #00af00; text-decoration-color: #00af00\">64</span>)             │         <span style=\"color: #00af00; text-decoration-color: #00af00\">4,160</span> │\n",
       "├─────────────────────────────────┼────────────────────────┼───────────────┤\n",
       "│ dense_1 (<span style=\"color: #0087ff; text-decoration-color: #0087ff\">Dense</span>)                 │ (<span style=\"color: #00d7ff; text-decoration-color: #00d7ff\">None</span>, <span style=\"color: #00af00; text-decoration-color: #00af00\">32</span>)             │         <span style=\"color: #00af00; text-decoration-color: #00af00\">2,080</span> │\n",
       "├─────────────────────────────────┼────────────────────────┼───────────────┤\n",
       "│ dense_2 (<span style=\"color: #0087ff; text-decoration-color: #0087ff\">Dense</span>)                 │ (<span style=\"color: #00d7ff; text-decoration-color: #00d7ff\">None</span>, <span style=\"color: #00af00; text-decoration-color: #00af00\">11</span>)             │           <span style=\"color: #00af00; text-decoration-color: #00af00\">363</span> │\n",
       "└─────────────────────────────────┴────────────────────────┴───────────────┘\n",
       "</pre>\n"
      ],
      "text/plain": [
       "┏━━━━━━━━━━━━━━━━━━━━━━━━━━━━━━━━━┳━━━━━━━━━━━━━━━━━━━━━━━━┳━━━━━━━━━━━━━━━┓\n",
       "┃\u001b[1m \u001b[0m\u001b[1mLayer (type)                   \u001b[0m\u001b[1m \u001b[0m┃\u001b[1m \u001b[0m\u001b[1mOutput Shape          \u001b[0m\u001b[1m \u001b[0m┃\u001b[1m \u001b[0m\u001b[1m      Param #\u001b[0m\u001b[1m \u001b[0m┃\n",
       "┡━━━━━━━━━━━━━━━━━━━━━━━━━━━━━━━━━╇━━━━━━━━━━━━━━━━━━━━━━━━╇━━━━━━━━━━━━━━━┩\n",
       "│ lstm (\u001b[38;5;33mLSTM\u001b[0m)                     │ (\u001b[38;5;45mNone\u001b[0m, \u001b[38;5;34m30\u001b[0m, \u001b[38;5;34m64\u001b[0m)         │       \u001b[38;5;34m442,112\u001b[0m │\n",
       "├─────────────────────────────────┼────────────────────────┼───────────────┤\n",
       "│ lstm_1 (\u001b[38;5;33mLSTM\u001b[0m)                   │ (\u001b[38;5;45mNone\u001b[0m, \u001b[38;5;34m30\u001b[0m, \u001b[38;5;34m128\u001b[0m)        │        \u001b[38;5;34m98,816\u001b[0m │\n",
       "├─────────────────────────────────┼────────────────────────┼───────────────┤\n",
       "│ lstm_2 (\u001b[38;5;33mLSTM\u001b[0m)                   │ (\u001b[38;5;45mNone\u001b[0m, \u001b[38;5;34m64\u001b[0m)             │        \u001b[38;5;34m49,408\u001b[0m │\n",
       "├─────────────────────────────────┼────────────────────────┼───────────────┤\n",
       "│ dense (\u001b[38;5;33mDense\u001b[0m)                   │ (\u001b[38;5;45mNone\u001b[0m, \u001b[38;5;34m64\u001b[0m)             │         \u001b[38;5;34m4,160\u001b[0m │\n",
       "├─────────────────────────────────┼────────────────────────┼───────────────┤\n",
       "│ dense_1 (\u001b[38;5;33mDense\u001b[0m)                 │ (\u001b[38;5;45mNone\u001b[0m, \u001b[38;5;34m32\u001b[0m)             │         \u001b[38;5;34m2,080\u001b[0m │\n",
       "├─────────────────────────────────┼────────────────────────┼───────────────┤\n",
       "│ dense_2 (\u001b[38;5;33mDense\u001b[0m)                 │ (\u001b[38;5;45mNone\u001b[0m, \u001b[38;5;34m11\u001b[0m)             │           \u001b[38;5;34m363\u001b[0m │\n",
       "└─────────────────────────────────┴────────────────────────┴───────────────┘\n"
      ]
     },
     "metadata": {},
     "output_type": "display_data"
    },
    {
     "data": {
      "text/html": [
       "<pre style=\"white-space:pre;overflow-x:auto;line-height:normal;font-family:Menlo,'DejaVu Sans Mono',consolas,'Courier New',monospace\"><span style=\"font-weight: bold\"> Total params: </span><span style=\"color: #00af00; text-decoration-color: #00af00\">596,939</span> (2.28 MB)\n",
       "</pre>\n"
      ],
      "text/plain": [
       "\u001b[1m Total params: \u001b[0m\u001b[38;5;34m596,939\u001b[0m (2.28 MB)\n"
      ]
     },
     "metadata": {},
     "output_type": "display_data"
    },
    {
     "data": {
      "text/html": [
       "<pre style=\"white-space:pre;overflow-x:auto;line-height:normal;font-family:Menlo,'DejaVu Sans Mono',consolas,'Courier New',monospace\"><span style=\"font-weight: bold\"> Trainable params: </span><span style=\"color: #00af00; text-decoration-color: #00af00\">596,939</span> (2.28 MB)\n",
       "</pre>\n"
      ],
      "text/plain": [
       "\u001b[1m Trainable params: \u001b[0m\u001b[38;5;34m596,939\u001b[0m (2.28 MB)\n"
      ]
     },
     "metadata": {},
     "output_type": "display_data"
    },
    {
     "data": {
      "text/html": [
       "<pre style=\"white-space:pre;overflow-x:auto;line-height:normal;font-family:Menlo,'DejaVu Sans Mono',consolas,'Courier New',monospace\"><span style=\"font-weight: bold\"> Non-trainable params: </span><span style=\"color: #00af00; text-decoration-color: #00af00\">0</span> (0.00 B)\n",
       "</pre>\n"
      ],
      "text/plain": [
       "\u001b[1m Non-trainable params: \u001b[0m\u001b[38;5;34m0\u001b[0m (0.00 B)\n"
      ]
     },
     "metadata": {},
     "output_type": "display_data"
    }
   ],
   "source": [
    "LSTM_model.summary()"
   ]
  },
  {
   "cell_type": "code",
   "execution_count": 24,
   "metadata": {},
   "outputs": [],
   "source": [
    "# Compiling the Model \n",
    "\n",
    "LSTM_model.compile(optimizer='Adam' , loss = 'categorical_crossentropy' , metrics = ['categorical_accuracy'])"
   ]
  },
  {
   "cell_type": "code",
   "execution_count": 25,
   "metadata": {},
   "outputs": [
    {
     "name": "stdout",
     "output_type": "stream",
     "text": [
      "Epoch 1/300\n",
      "\u001b[1m27/27\u001b[0m \u001b[32m━━━━━━━━━━━━━━━━━━━━\u001b[0m\u001b[37m\u001b[0m \u001b[1m6s\u001b[0m 64ms/step - categorical_accuracy: 0.0906 - loss: 2.9642 - val_categorical_accuracy: 0.0957 - val_loss: 2.4099\n",
      "Epoch 2/300\n",
      "\u001b[1m27/27\u001b[0m \u001b[32m━━━━━━━━━━━━━━━━━━━━\u001b[0m\u001b[37m\u001b[0m \u001b[1m1s\u001b[0m 44ms/step - categorical_accuracy: 0.1108 - loss: 2.3900 - val_categorical_accuracy: 0.1148 - val_loss: 2.7482\n",
      "Epoch 3/300\n",
      "\u001b[1m27/27\u001b[0m \u001b[32m━━━━━━━━━━━━━━━━━━━━\u001b[0m\u001b[37m\u001b[0m \u001b[1m1s\u001b[0m 44ms/step - categorical_accuracy: 0.0861 - loss: 2.4537 - val_categorical_accuracy: 0.0957 - val_loss: 2.4514\n",
      "Epoch 4/300\n",
      "\u001b[1m27/27\u001b[0m \u001b[32m━━━━━━━━━━━━━━━━━━━━\u001b[0m\u001b[37m\u001b[0m \u001b[1m1s\u001b[0m 44ms/step - categorical_accuracy: 0.1095 - loss: 2.4105 - val_categorical_accuracy: 0.0718 - val_loss: 2.3687\n",
      "Epoch 5/300\n",
      "\u001b[1m27/27\u001b[0m \u001b[32m━━━━━━━━━━━━━━━━━━━━\u001b[0m\u001b[37m\u001b[0m \u001b[1m1s\u001b[0m 44ms/step - categorical_accuracy: 0.1357 - loss: 2.5624 - val_categorical_accuracy: 0.0813 - val_loss: 2.3851\n",
      "Epoch 6/300\n",
      "\u001b[1m27/27\u001b[0m \u001b[32m━━━━━━━━━━━━━━━━━━━━\u001b[0m\u001b[37m\u001b[0m \u001b[1m1s\u001b[0m 47ms/step - categorical_accuracy: 0.1212 - loss: 2.4061 - val_categorical_accuracy: 0.0670 - val_loss: 2.3823\n",
      "Epoch 7/300\n",
      "\u001b[1m27/27\u001b[0m \u001b[32m━━━━━━━━━━━━━━━━━━━━\u001b[0m\u001b[37m\u001b[0m \u001b[1m1s\u001b[0m 47ms/step - categorical_accuracy: 0.1206 - loss: 2.6342 - val_categorical_accuracy: 0.0526 - val_loss: 2.4029\n",
      "Epoch 8/300\n",
      "\u001b[1m27/27\u001b[0m \u001b[32m━━━━━━━━━━━━━━━━━━━━\u001b[0m\u001b[37m\u001b[0m \u001b[1m1s\u001b[0m 49ms/step - categorical_accuracy: 0.1095 - loss: 2.3945 - val_categorical_accuracy: 0.0526 - val_loss: 2.4008\n",
      "Epoch 9/300\n",
      "\u001b[1m27/27\u001b[0m \u001b[32m━━━━━━━━━━━━━━━━━━━━\u001b[0m\u001b[37m\u001b[0m \u001b[1m1s\u001b[0m 46ms/step - categorical_accuracy: 0.1116 - loss: 2.3883 - val_categorical_accuracy: 0.1005 - val_loss: 2.4008\n",
      "Epoch 10/300\n",
      "\u001b[1m27/27\u001b[0m \u001b[32m━━━━━━━━━━━━━━━━━━━━\u001b[0m\u001b[37m\u001b[0m \u001b[1m1s\u001b[0m 50ms/step - categorical_accuracy: 0.1245 - loss: 2.3451 - val_categorical_accuracy: 0.1100 - val_loss: 2.3754\n",
      "Epoch 11/300\n",
      "\u001b[1m27/27\u001b[0m \u001b[32m━━━━━━━━━━━━━━━━━━━━\u001b[0m\u001b[37m\u001b[0m \u001b[1m1s\u001b[0m 45ms/step - categorical_accuracy: 0.0844 - loss: 2.3900 - val_categorical_accuracy: 0.0957 - val_loss: 2.3790\n",
      "Epoch 12/300\n",
      "\u001b[1m27/27\u001b[0m \u001b[32m━━━━━━━━━━━━━━━━━━━━\u001b[0m\u001b[37m\u001b[0m \u001b[1m1s\u001b[0m 44ms/step - categorical_accuracy: 0.1041 - loss: 36.1759 - val_categorical_accuracy: 0.0861 - val_loss: 2.4313\n",
      "Epoch 13/300\n",
      "\u001b[1m27/27\u001b[0m \u001b[32m━━━━━━━━━━━━━━━━━━━━\u001b[0m\u001b[37m\u001b[0m \u001b[1m1s\u001b[0m 44ms/step - categorical_accuracy: 0.1441 - loss: 2.3134 - val_categorical_accuracy: 0.0622 - val_loss: 2.4044\n",
      "Epoch 14/300\n",
      "\u001b[1m27/27\u001b[0m \u001b[32m━━━━━━━━━━━━━━━━━━━━\u001b[0m\u001b[37m\u001b[0m \u001b[1m1s\u001b[0m 44ms/step - categorical_accuracy: 0.1123 - loss: 2.4103 - val_categorical_accuracy: 0.0813 - val_loss: 2.3604\n",
      "Epoch 15/300\n",
      "\u001b[1m27/27\u001b[0m \u001b[32m━━━━━━━━━━━━━━━━━━━━\u001b[0m\u001b[37m\u001b[0m \u001b[1m1s\u001b[0m 45ms/step - categorical_accuracy: 0.1176 - loss: 2.3738 - val_categorical_accuracy: 0.1388 - val_loss: 2.3465\n",
      "Epoch 16/300\n",
      "\u001b[1m27/27\u001b[0m \u001b[32m━━━━━━━━━━━━━━━━━━━━\u001b[0m\u001b[37m\u001b[0m \u001b[1m1s\u001b[0m 45ms/step - categorical_accuracy: 0.1478 - loss: 2.3032 - val_categorical_accuracy: 0.0478 - val_loss: 2.4245\n",
      "Epoch 17/300\n",
      "\u001b[1m27/27\u001b[0m \u001b[32m━━━━━━━━━━━━━━━━━━━━\u001b[0m\u001b[37m\u001b[0m \u001b[1m1s\u001b[0m 46ms/step - categorical_accuracy: 0.1129 - loss: 2.3955 - val_categorical_accuracy: 0.1244 - val_loss: 2.2175\n",
      "Epoch 18/300\n",
      "\u001b[1m27/27\u001b[0m \u001b[32m━━━━━━━━━━━━━━━━━━━━\u001b[0m\u001b[37m\u001b[0m \u001b[1m1s\u001b[0m 52ms/step - categorical_accuracy: 0.1888 - loss: 2.2077 - val_categorical_accuracy: 0.1866 - val_loss: 2.1020\n",
      "Epoch 19/300\n",
      "\u001b[1m27/27\u001b[0m \u001b[32m━━━━━━━━━━━━━━━━━━━━\u001b[0m\u001b[37m\u001b[0m \u001b[1m2s\u001b[0m 64ms/step - categorical_accuracy: 0.1651 - loss: 2.2177 - val_categorical_accuracy: 0.1483 - val_loss: 2.0626\n",
      "Epoch 20/300\n",
      "\u001b[1m27/27\u001b[0m \u001b[32m━━━━━━━━━━━━━━━━━━━━\u001b[0m\u001b[37m\u001b[0m \u001b[1m2s\u001b[0m 63ms/step - categorical_accuracy: 0.2075 - loss: 2.0687 - val_categorical_accuracy: 0.2344 - val_loss: 1.9644\n",
      "Epoch 21/300\n",
      "\u001b[1m27/27\u001b[0m \u001b[32m━━━━━━━━━━━━━━━━━━━━\u001b[0m\u001b[37m\u001b[0m \u001b[1m2s\u001b[0m 66ms/step - categorical_accuracy: 0.1979 - loss: 2.0577 - val_categorical_accuracy: 0.2679 - val_loss: 1.9499\n",
      "Epoch 22/300\n",
      "\u001b[1m27/27\u001b[0m \u001b[32m━━━━━━━━━━━━━━━━━━━━\u001b[0m\u001b[37m\u001b[0m \u001b[1m2s\u001b[0m 62ms/step - categorical_accuracy: 0.2730 - loss: 1.9238 - val_categorical_accuracy: 0.3062 - val_loss: 1.8806\n",
      "Epoch 23/300\n",
      "\u001b[1m27/27\u001b[0m \u001b[32m━━━━━━━━━━━━━━━━━━━━\u001b[0m\u001b[37m\u001b[0m \u001b[1m1s\u001b[0m 48ms/step - categorical_accuracy: 0.2102 - loss: 2.0010 - val_categorical_accuracy: 0.2297 - val_loss: 1.9297\n",
      "Epoch 24/300\n",
      "\u001b[1m27/27\u001b[0m \u001b[32m━━━━━━━━━━━━━━━━━━━━\u001b[0m\u001b[37m\u001b[0m \u001b[1m1s\u001b[0m 48ms/step - categorical_accuracy: 0.2460 - loss: 1.9028 - val_categorical_accuracy: 0.3206 - val_loss: 1.7113\n",
      "Epoch 25/300\n",
      "\u001b[1m27/27\u001b[0m \u001b[32m━━━━━━━━━━━━━━━━━━━━\u001b[0m\u001b[37m\u001b[0m \u001b[1m2s\u001b[0m 57ms/step - categorical_accuracy: 0.3267 - loss: 1.7313 - val_categorical_accuracy: 0.3062 - val_loss: 1.6816\n",
      "Epoch 26/300\n",
      "\u001b[1m27/27\u001b[0m \u001b[32m━━━━━━━━━━━━━━━━━━━━\u001b[0m\u001b[37m\u001b[0m \u001b[1m2s\u001b[0m 59ms/step - categorical_accuracy: 0.2970 - loss: 1.7151 - val_categorical_accuracy: 0.3110 - val_loss: 1.6159\n",
      "Epoch 27/300\n",
      "\u001b[1m27/27\u001b[0m \u001b[32m━━━━━━━━━━━━━━━━━━━━\u001b[0m\u001b[37m\u001b[0m \u001b[1m2s\u001b[0m 56ms/step - categorical_accuracy: 0.2305 - loss: 1.9180 - val_categorical_accuracy: 0.2536 - val_loss: 1.8167\n",
      "Epoch 28/300\n",
      "\u001b[1m27/27\u001b[0m \u001b[32m━━━━━━━━━━━━━━━━━━━━\u001b[0m\u001b[37m\u001b[0m \u001b[1m1s\u001b[0m 54ms/step - categorical_accuracy: 0.3352 - loss: 1.6851 - val_categorical_accuracy: 0.3254 - val_loss: 1.5564\n",
      "Epoch 29/300\n",
      "\u001b[1m27/27\u001b[0m \u001b[32m━━━━━━━━━━━━━━━━━━━━\u001b[0m\u001b[37m\u001b[0m \u001b[1m1s\u001b[0m 51ms/step - categorical_accuracy: 0.3694 - loss: 1.5844 - val_categorical_accuracy: 0.3110 - val_loss: 1.9811\n",
      "Epoch 30/300\n",
      "\u001b[1m27/27\u001b[0m \u001b[32m━━━━━━━━━━━━━━━━━━━━\u001b[0m\u001b[37m\u001b[0m \u001b[1m1s\u001b[0m 52ms/step - categorical_accuracy: 0.2944 - loss: 1.7817 - val_categorical_accuracy: 0.3254 - val_loss: 1.5665\n",
      "Epoch 31/300\n",
      "\u001b[1m27/27\u001b[0m \u001b[32m━━━━━━━━━━━━━━━━━━━━\u001b[0m\u001b[37m\u001b[0m \u001b[1m1s\u001b[0m 46ms/step - categorical_accuracy: 0.3910 - loss: 1.5529 - val_categorical_accuracy: 0.4211 - val_loss: 1.4533\n",
      "Epoch 32/300\n",
      "\u001b[1m27/27\u001b[0m \u001b[32m━━━━━━━━━━━━━━━━━━━━\u001b[0m\u001b[37m\u001b[0m \u001b[1m1s\u001b[0m 46ms/step - categorical_accuracy: 0.4128 - loss: 1.4923 - val_categorical_accuracy: 0.3780 - val_loss: 1.4903\n",
      "Epoch 33/300\n",
      "\u001b[1m27/27\u001b[0m \u001b[32m━━━━━━━━━━━━━━━━━━━━\u001b[0m\u001b[37m\u001b[0m \u001b[1m1s\u001b[0m 45ms/step - categorical_accuracy: 0.4133 - loss: 1.5113 - val_categorical_accuracy: 0.3397 - val_loss: 1.6913\n",
      "Epoch 34/300\n",
      "\u001b[1m27/27\u001b[0m \u001b[32m━━━━━━━━━━━━━━━━━━━━\u001b[0m\u001b[37m\u001b[0m \u001b[1m1s\u001b[0m 44ms/step - categorical_accuracy: 0.4125 - loss: 1.5691 - val_categorical_accuracy: 0.4593 - val_loss: 1.3882\n",
      "Epoch 35/300\n",
      "\u001b[1m27/27\u001b[0m \u001b[32m━━━━━━━━━━━━━━━━━━━━\u001b[0m\u001b[37m\u001b[0m \u001b[1m1s\u001b[0m 46ms/step - categorical_accuracy: 0.4389 - loss: 1.4301 - val_categorical_accuracy: 0.4211 - val_loss: 1.4699\n",
      "Epoch 36/300\n",
      "\u001b[1m27/27\u001b[0m \u001b[32m━━━━━━━━━━━━━━━━━━━━\u001b[0m\u001b[37m\u001b[0m \u001b[1m1s\u001b[0m 50ms/step - categorical_accuracy: 0.4916 - loss: 1.3440 - val_categorical_accuracy: 0.4880 - val_loss: 1.3030\n",
      "Epoch 37/300\n",
      "\u001b[1m27/27\u001b[0m \u001b[32m━━━━━━━━━━━━━━━━━━━━\u001b[0m\u001b[37m\u001b[0m \u001b[1m1s\u001b[0m 45ms/step - categorical_accuracy: 0.5521 - loss: 1.2163 - val_categorical_accuracy: 0.4258 - val_loss: 1.2999\n",
      "Epoch 38/300\n",
      "\u001b[1m27/27\u001b[0m \u001b[32m━━━━━━━━━━━━━━━━━━━━\u001b[0m\u001b[37m\u001b[0m \u001b[1m1s\u001b[0m 44ms/step - categorical_accuracy: 0.5037 - loss: 1.2884 - val_categorical_accuracy: 0.5885 - val_loss: 1.1186\n",
      "Epoch 39/300\n",
      "\u001b[1m27/27\u001b[0m \u001b[32m━━━━━━━━━━━━━━━━━━━━\u001b[0m\u001b[37m\u001b[0m \u001b[1m1s\u001b[0m 44ms/step - categorical_accuracy: 0.6063 - loss: 1.1879 - val_categorical_accuracy: 0.5837 - val_loss: 1.1651\n",
      "Epoch 40/300\n",
      "\u001b[1m27/27\u001b[0m \u001b[32m━━━━━━━━━━━━━━━━━━━━\u001b[0m\u001b[37m\u001b[0m \u001b[1m1s\u001b[0m 45ms/step - categorical_accuracy: 0.5844 - loss: 1.1105 - val_categorical_accuracy: 0.6411 - val_loss: 0.9224\n",
      "Epoch 41/300\n",
      "\u001b[1m27/27\u001b[0m \u001b[32m━━━━━━━━━━━━━━━━━━━━\u001b[0m\u001b[37m\u001b[0m \u001b[1m1s\u001b[0m 45ms/step - categorical_accuracy: 0.6716 - loss: 0.8494 - val_categorical_accuracy: 0.6459 - val_loss: 0.9868\n",
      "Epoch 42/300\n",
      "\u001b[1m27/27\u001b[0m \u001b[32m━━━━━━━━━━━━━━━━━━━━\u001b[0m\u001b[37m\u001b[0m \u001b[1m1s\u001b[0m 45ms/step - categorical_accuracy: 0.6302 - loss: 0.9281 - val_categorical_accuracy: 0.6603 - val_loss: 0.8814\n",
      "Epoch 43/300\n",
      "\u001b[1m27/27\u001b[0m \u001b[32m━━━━━━━━━━━━━━━━━━━━\u001b[0m\u001b[37m\u001b[0m \u001b[1m1s\u001b[0m 46ms/step - categorical_accuracy: 0.6557 - loss: 0.8288 - val_categorical_accuracy: 0.7177 - val_loss: 0.8148\n",
      "Epoch 44/300\n",
      "\u001b[1m27/27\u001b[0m \u001b[32m━━━━━━━━━━━━━━━━━━━━\u001b[0m\u001b[37m\u001b[0m \u001b[1m1s\u001b[0m 44ms/step - categorical_accuracy: 0.6980 - loss: 0.7629 - val_categorical_accuracy: 0.7177 - val_loss: 0.7332\n",
      "Epoch 45/300\n",
      "\u001b[1m27/27\u001b[0m \u001b[32m━━━━━━━━━━━━━━━━━━━━\u001b[0m\u001b[37m\u001b[0m \u001b[1m1s\u001b[0m 44ms/step - categorical_accuracy: 0.7203 - loss: 0.7012 - val_categorical_accuracy: 0.6986 - val_loss: 0.7397\n",
      "Epoch 46/300\n",
      "\u001b[1m27/27\u001b[0m \u001b[32m━━━━━━━━━━━━━━━━━━━━\u001b[0m\u001b[37m\u001b[0m \u001b[1m1s\u001b[0m 44ms/step - categorical_accuracy: 0.6992 - loss: 0.7436 - val_categorical_accuracy: 0.6268 - val_loss: 0.9375\n",
      "Epoch 47/300\n",
      "\u001b[1m27/27\u001b[0m \u001b[32m━━━━━━━━━━━━━━━━━━━━\u001b[0m\u001b[37m\u001b[0m \u001b[1m1s\u001b[0m 44ms/step - categorical_accuracy: 0.5972 - loss: 1.0342 - val_categorical_accuracy: 0.7033 - val_loss: 0.8241\n",
      "Epoch 48/300\n",
      "\u001b[1m27/27\u001b[0m \u001b[32m━━━━━━━━━━━━━━━━━━━━\u001b[0m\u001b[37m\u001b[0m \u001b[1m1s\u001b[0m 44ms/step - categorical_accuracy: 0.6879 - loss: 0.8132 - val_categorical_accuracy: 0.7177 - val_loss: 0.7374\n",
      "Epoch 49/300\n",
      "\u001b[1m27/27\u001b[0m \u001b[32m━━━━━━━━━━━━━━━━━━━━\u001b[0m\u001b[37m\u001b[0m \u001b[1m1s\u001b[0m 45ms/step - categorical_accuracy: 0.6939 - loss: 0.7186 - val_categorical_accuracy: 0.7177 - val_loss: 0.6883\n",
      "Epoch 50/300\n",
      "\u001b[1m27/27\u001b[0m \u001b[32m━━━━━━━━━━━━━━━━━━━━\u001b[0m\u001b[37m\u001b[0m \u001b[1m1s\u001b[0m 44ms/step - categorical_accuracy: 0.7359 - loss: 0.6558 - val_categorical_accuracy: 0.6890 - val_loss: 0.6908\n",
      "Epoch 51/300\n",
      "\u001b[1m27/27\u001b[0m \u001b[32m━━━━━━━━━━━━━━━━━━━━\u001b[0m\u001b[37m\u001b[0m \u001b[1m1s\u001b[0m 44ms/step - categorical_accuracy: 0.7330 - loss: 0.6472 - val_categorical_accuracy: 0.7512 - val_loss: 0.6769\n",
      "Epoch 52/300\n",
      "\u001b[1m27/27\u001b[0m \u001b[32m━━━━━━━━━━━━━━━━━━━━\u001b[0m\u001b[37m\u001b[0m \u001b[1m1s\u001b[0m 44ms/step - categorical_accuracy: 0.7445 - loss: 0.6381 - val_categorical_accuracy: 0.7703 - val_loss: 0.6431\n",
      "Epoch 53/300\n",
      "\u001b[1m27/27\u001b[0m \u001b[32m━━━━━━━━━━━━━━━━━━━━\u001b[0m\u001b[37m\u001b[0m \u001b[1m1s\u001b[0m 45ms/step - categorical_accuracy: 0.7436 - loss: 0.6496 - val_categorical_accuracy: 0.6890 - val_loss: 0.7171\n",
      "Epoch 54/300\n",
      "\u001b[1m27/27\u001b[0m \u001b[32m━━━━━━━━━━━━━━━━━━━━\u001b[0m\u001b[37m\u001b[0m \u001b[1m1s\u001b[0m 45ms/step - categorical_accuracy: 0.7373 - loss: 0.6924 - val_categorical_accuracy: 0.6794 - val_loss: 0.7019\n",
      "Epoch 55/300\n",
      "\u001b[1m27/27\u001b[0m \u001b[32m━━━━━━━━━━━━━━━━━━━━\u001b[0m\u001b[37m\u001b[0m \u001b[1m1s\u001b[0m 44ms/step - categorical_accuracy: 0.7660 - loss: 0.5897 - val_categorical_accuracy: 0.7990 - val_loss: 0.5296\n",
      "Epoch 56/300\n",
      "\u001b[1m27/27\u001b[0m \u001b[32m━━━━━━━━━━━━━━━━━━━━\u001b[0m\u001b[37m\u001b[0m \u001b[1m1s\u001b[0m 44ms/step - categorical_accuracy: 0.7747 - loss: 0.5764 - val_categorical_accuracy: 0.7416 - val_loss: 0.6794\n",
      "Epoch 57/300\n",
      "\u001b[1m27/27\u001b[0m \u001b[32m━━━━━━━━━━━━━━━━━━━━\u001b[0m\u001b[37m\u001b[0m \u001b[1m1s\u001b[0m 44ms/step - categorical_accuracy: 0.7502 - loss: 0.6215 - val_categorical_accuracy: 0.7895 - val_loss: 0.6204\n",
      "Epoch 58/300\n",
      "\u001b[1m27/27\u001b[0m \u001b[32m━━━━━━━━━━━━━━━━━━━━\u001b[0m\u001b[37m\u001b[0m \u001b[1m1s\u001b[0m 44ms/step - categorical_accuracy: 0.7755 - loss: 0.5476 - val_categorical_accuracy: 0.8230 - val_loss: 0.4935\n",
      "Epoch 59/300\n",
      "\u001b[1m27/27\u001b[0m \u001b[32m━━━━━━━━━━━━━━━━━━━━\u001b[0m\u001b[37m\u001b[0m \u001b[1m1s\u001b[0m 44ms/step - categorical_accuracy: 0.7939 - loss: 0.5382 - val_categorical_accuracy: 0.7177 - val_loss: 0.6393\n",
      "Epoch 60/300\n",
      "\u001b[1m27/27\u001b[0m \u001b[32m━━━━━━━━━━━━━━━━━━━━\u001b[0m\u001b[37m\u001b[0m \u001b[1m1s\u001b[0m 44ms/step - categorical_accuracy: 0.7165 - loss: 0.6931 - val_categorical_accuracy: 0.8278 - val_loss: 0.4935\n",
      "Epoch 61/300\n",
      "\u001b[1m27/27\u001b[0m \u001b[32m━━━━━━━━━━━━━━━━━━━━\u001b[0m\u001b[37m\u001b[0m \u001b[1m1s\u001b[0m 44ms/step - categorical_accuracy: 0.7862 - loss: 0.5248 - val_categorical_accuracy: 0.6651 - val_loss: 0.9385\n",
      "Epoch 62/300\n",
      "\u001b[1m27/27\u001b[0m \u001b[32m━━━━━━━━━━━━━━━━━━━━\u001b[0m\u001b[37m\u001b[0m \u001b[1m1s\u001b[0m 44ms/step - categorical_accuracy: 0.6961 - loss: 0.9159 - val_categorical_accuracy: 0.6316 - val_loss: 0.8377\n",
      "Epoch 63/300\n",
      "\u001b[1m27/27\u001b[0m \u001b[32m━━━━━━━━━━━━━━━━━━━━\u001b[0m\u001b[37m\u001b[0m \u001b[1m1s\u001b[0m 44ms/step - categorical_accuracy: 0.7557 - loss: 0.6689 - val_categorical_accuracy: 0.7225 - val_loss: 0.6580\n",
      "Epoch 64/300\n",
      "\u001b[1m27/27\u001b[0m \u001b[32m━━━━━━━━━━━━━━━━━━━━\u001b[0m\u001b[37m\u001b[0m \u001b[1m1s\u001b[0m 44ms/step - categorical_accuracy: 0.8117 - loss: 0.5102 - val_categorical_accuracy: 0.7416 - val_loss: 0.6786\n",
      "Epoch 65/300\n",
      "\u001b[1m27/27\u001b[0m \u001b[32m━━━━━━━━━━━━━━━━━━━━\u001b[0m\u001b[37m\u001b[0m \u001b[1m1s\u001b[0m 44ms/step - categorical_accuracy: 0.8151 - loss: 0.5074 - val_categorical_accuracy: 0.6794 - val_loss: 0.8052\n",
      "Epoch 66/300\n",
      "\u001b[1m27/27\u001b[0m \u001b[32m━━━━━━━━━━━━━━━━━━━━\u001b[0m\u001b[37m\u001b[0m \u001b[1m1s\u001b[0m 44ms/step - categorical_accuracy: 0.7750 - loss: 0.5773 - val_categorical_accuracy: 0.8325 - val_loss: 0.4354\n",
      "Epoch 67/300\n",
      "\u001b[1m27/27\u001b[0m \u001b[32m━━━━━━━━━━━━━━━━━━━━\u001b[0m\u001b[37m\u001b[0m \u001b[1m1s\u001b[0m 44ms/step - categorical_accuracy: 0.8467 - loss: 0.4032 - val_categorical_accuracy: 0.8756 - val_loss: 0.4016\n",
      "Epoch 68/300\n",
      "\u001b[1m27/27\u001b[0m \u001b[32m━━━━━━━━━━━━━━━━━━━━\u001b[0m\u001b[37m\u001b[0m \u001b[1m1s\u001b[0m 44ms/step - categorical_accuracy: 0.8769 - loss: 0.3712 - val_categorical_accuracy: 0.8038 - val_loss: 0.5277\n",
      "Epoch 69/300\n",
      "\u001b[1m27/27\u001b[0m \u001b[32m━━━━━━━━━━━━━━━━━━━━\u001b[0m\u001b[37m\u001b[0m \u001b[1m1s\u001b[0m 44ms/step - categorical_accuracy: 0.8316 - loss: 0.4652 - val_categorical_accuracy: 0.6938 - val_loss: 0.6310\n",
      "Epoch 70/300\n",
      "\u001b[1m27/27\u001b[0m \u001b[32m━━━━━━━━━━━━━━━━━━━━\u001b[0m\u001b[37m\u001b[0m \u001b[1m1s\u001b[0m 44ms/step - categorical_accuracy: 0.8238 - loss: 0.5092 - val_categorical_accuracy: 0.8660 - val_loss: 0.4390\n",
      "Epoch 71/300\n",
      "\u001b[1m27/27\u001b[0m \u001b[32m━━━━━━━━━━━━━━━━━━━━\u001b[0m\u001b[37m\u001b[0m \u001b[1m1s\u001b[0m 44ms/step - categorical_accuracy: 0.8596 - loss: 0.3709 - val_categorical_accuracy: 0.7464 - val_loss: 0.6360\n",
      "Epoch 72/300\n",
      "\u001b[1m27/27\u001b[0m \u001b[32m━━━━━━━━━━━━━━━━━━━━\u001b[0m\u001b[37m\u001b[0m \u001b[1m1s\u001b[0m 44ms/step - categorical_accuracy: 0.8451 - loss: 0.4332 - val_categorical_accuracy: 0.9139 - val_loss: 0.3137\n",
      "Epoch 73/300\n",
      "\u001b[1m27/27\u001b[0m \u001b[32m━━━━━━━━━━━━━━━━━━━━\u001b[0m\u001b[37m\u001b[0m \u001b[1m1s\u001b[0m 48ms/step - categorical_accuracy: 0.9076 - loss: 0.2968 - val_categorical_accuracy: 0.9378 - val_loss: 0.2525\n",
      "Epoch 74/300\n",
      "\u001b[1m27/27\u001b[0m \u001b[32m━━━━━━━━━━━━━━━━━━━━\u001b[0m\u001b[37m\u001b[0m \u001b[1m1s\u001b[0m 44ms/step - categorical_accuracy: 0.8878 - loss: 0.3248 - val_categorical_accuracy: 0.7895 - val_loss: 0.6257\n",
      "Epoch 75/300\n",
      "\u001b[1m27/27\u001b[0m \u001b[32m━━━━━━━━━━━━━━━━━━━━\u001b[0m\u001b[37m\u001b[0m \u001b[1m1s\u001b[0m 44ms/step - categorical_accuracy: 0.8426 - loss: 0.4302 - val_categorical_accuracy: 0.6938 - val_loss: 0.8385\n",
      "Epoch 76/300\n",
      "\u001b[1m27/27\u001b[0m \u001b[32m━━━━━━━━━━━━━━━━━━━━\u001b[0m\u001b[37m\u001b[0m \u001b[1m1s\u001b[0m 44ms/step - categorical_accuracy: 0.8304 - loss: 0.4919 - val_categorical_accuracy: 0.9282 - val_loss: 0.2596\n",
      "Epoch 77/300\n",
      "\u001b[1m27/27\u001b[0m \u001b[32m━━━━━━━━━━━━━━━━━━━━\u001b[0m\u001b[37m\u001b[0m \u001b[1m1s\u001b[0m 44ms/step - categorical_accuracy: 0.8960 - loss: 0.2963 - val_categorical_accuracy: 0.7321 - val_loss: 0.7313\n",
      "Epoch 78/300\n",
      "\u001b[1m27/27\u001b[0m \u001b[32m━━━━━━━━━━━━━━━━━━━━\u001b[0m\u001b[37m\u001b[0m \u001b[1m1s\u001b[0m 45ms/step - categorical_accuracy: 0.8420 - loss: 0.4181 - val_categorical_accuracy: 0.8852 - val_loss: 0.3517\n",
      "Epoch 79/300\n",
      "\u001b[1m27/27\u001b[0m \u001b[32m━━━━━━━━━━━━━━━━━━━━\u001b[0m\u001b[37m\u001b[0m \u001b[1m1s\u001b[0m 44ms/step - categorical_accuracy: 0.8988 - loss: 0.2814 - val_categorical_accuracy: 0.9091 - val_loss: 0.3150\n",
      "Epoch 80/300\n",
      "\u001b[1m27/27\u001b[0m \u001b[32m━━━━━━━━━━━━━━━━━━━━\u001b[0m\u001b[37m\u001b[0m \u001b[1m1s\u001b[0m 44ms/step - categorical_accuracy: 0.9037 - loss: 0.2915 - val_categorical_accuracy: 0.9091 - val_loss: 0.2931\n",
      "Epoch 81/300\n",
      "\u001b[1m27/27\u001b[0m \u001b[32m━━━━━━━━━━━━━━━━━━━━\u001b[0m\u001b[37m\u001b[0m \u001b[1m1s\u001b[0m 44ms/step - categorical_accuracy: 0.8455 - loss: 0.3853 - val_categorical_accuracy: 0.8995 - val_loss: 0.2849\n",
      "Epoch 82/300\n",
      "\u001b[1m27/27\u001b[0m \u001b[32m━━━━━━━━━━━━━━━━━━━━\u001b[0m\u001b[37m\u001b[0m \u001b[1m1s\u001b[0m 45ms/step - categorical_accuracy: 0.8807 - loss: 0.3591 - val_categorical_accuracy: 0.7895 - val_loss: 0.5110\n",
      "Epoch 83/300\n",
      "\u001b[1m27/27\u001b[0m \u001b[32m━━━━━━━━━━━━━━━━━━━━\u001b[0m\u001b[37m\u001b[0m \u001b[1m1s\u001b[0m 44ms/step - categorical_accuracy: 0.8504 - loss: 0.4167 - val_categorical_accuracy: 0.8995 - val_loss: 0.2949\n",
      "Epoch 84/300\n",
      "\u001b[1m27/27\u001b[0m \u001b[32m━━━━━━━━━━━━━━━━━━━━\u001b[0m\u001b[37m\u001b[0m \u001b[1m1s\u001b[0m 46ms/step - categorical_accuracy: 0.9176 - loss: 0.2449 - val_categorical_accuracy: 0.9282 - val_loss: 0.2267\n",
      "Epoch 85/300\n",
      "\u001b[1m27/27\u001b[0m \u001b[32m━━━━━━━━━━━━━━━━━━━━\u001b[0m\u001b[37m\u001b[0m \u001b[1m1s\u001b[0m 44ms/step - categorical_accuracy: 0.9028 - loss: 0.2637 - val_categorical_accuracy: 0.8708 - val_loss: 0.3842\n",
      "Epoch 86/300\n",
      "\u001b[1m27/27\u001b[0m \u001b[32m━━━━━━━━━━━━━━━━━━━━\u001b[0m\u001b[37m\u001b[0m \u001b[1m1s\u001b[0m 44ms/step - categorical_accuracy: 0.8857 - loss: 0.3482 - val_categorical_accuracy: 0.8804 - val_loss: 0.3189\n",
      "Epoch 87/300\n",
      "\u001b[1m27/27\u001b[0m \u001b[32m━━━━━━━━━━━━━━━━━━━━\u001b[0m\u001b[37m\u001b[0m \u001b[1m1s\u001b[0m 44ms/step - categorical_accuracy: 0.9218 - loss: 0.2250 - val_categorical_accuracy: 0.9282 - val_loss: 0.2248\n",
      "Epoch 88/300\n",
      "\u001b[1m27/27\u001b[0m \u001b[32m━━━━━━━━━━━━━━━━━━━━\u001b[0m\u001b[37m\u001b[0m \u001b[1m1s\u001b[0m 46ms/step - categorical_accuracy: 0.8953 - loss: 0.2689 - val_categorical_accuracy: 0.9091 - val_loss: 0.2670\n",
      "Epoch 89/300\n",
      "\u001b[1m27/27\u001b[0m \u001b[32m━━━━━━━━━━━━━━━━━━━━\u001b[0m\u001b[37m\u001b[0m \u001b[1m2s\u001b[0m 55ms/step - categorical_accuracy: 0.9162 - loss: 0.2409 - val_categorical_accuracy: 0.9139 - val_loss: 0.2758\n",
      "Epoch 90/300\n",
      "\u001b[1m27/27\u001b[0m \u001b[32m━━━━━━━━━━━━━━━━━━━━\u001b[0m\u001b[37m\u001b[0m \u001b[1m2s\u001b[0m 63ms/step - categorical_accuracy: 0.9298 - loss: 0.2126 - val_categorical_accuracy: 0.9139 - val_loss: 0.2596\n",
      "Epoch 91/300\n",
      "\u001b[1m27/27\u001b[0m \u001b[32m━━━━━━━━━━━━━━━━━━━━\u001b[0m\u001b[37m\u001b[0m \u001b[1m2s\u001b[0m 56ms/step - categorical_accuracy: 0.9103 - loss: 0.2142 - val_categorical_accuracy: 0.8708 - val_loss: 0.3827\n",
      "Epoch 92/300\n",
      "\u001b[1m27/27\u001b[0m \u001b[32m━━━━━━━━━━━━━━━━━━━━\u001b[0m\u001b[37m\u001b[0m \u001b[1m1s\u001b[0m 50ms/step - categorical_accuracy: 0.8973 - loss: 0.2797 - val_categorical_accuracy: 0.9378 - val_loss: 0.2530\n",
      "Epoch 93/300\n",
      "\u001b[1m27/27\u001b[0m \u001b[32m━━━━━━━━━━━━━━━━━━━━\u001b[0m\u001b[37m\u001b[0m \u001b[1m1s\u001b[0m 50ms/step - categorical_accuracy: 0.9266 - loss: 0.2056 - val_categorical_accuracy: 0.9426 - val_loss: 0.1832\n",
      "Epoch 94/300\n",
      "\u001b[1m27/27\u001b[0m \u001b[32m━━━━━━━━━━━━━━━━━━━━\u001b[0m\u001b[37m\u001b[0m \u001b[1m1s\u001b[0m 53ms/step - categorical_accuracy: 0.9348 - loss: 0.2095 - val_categorical_accuracy: 0.8947 - val_loss: 0.2644\n",
      "Epoch 95/300\n",
      "\u001b[1m27/27\u001b[0m \u001b[32m━━━━━━━━━━━━━━━━━━━━\u001b[0m\u001b[37m\u001b[0m \u001b[1m1s\u001b[0m 53ms/step - categorical_accuracy: 0.8831 - loss: 0.3514 - val_categorical_accuracy: 0.9474 - val_loss: 0.2120\n",
      "Epoch 96/300\n",
      "\u001b[1m27/27\u001b[0m \u001b[32m━━━━━━━━━━━━━━━━━━━━\u001b[0m\u001b[37m\u001b[0m \u001b[1m1s\u001b[0m 52ms/step - categorical_accuracy: 0.9377 - loss: 0.2044 - val_categorical_accuracy: 0.9043 - val_loss: 0.2380\n",
      "Epoch 97/300\n",
      "\u001b[1m27/27\u001b[0m \u001b[32m━━━━━━━━━━━━━━━━━━━━\u001b[0m\u001b[37m\u001b[0m \u001b[1m1s\u001b[0m 50ms/step - categorical_accuracy: 0.9270 - loss: 0.1957 - val_categorical_accuracy: 0.9330 - val_loss: 0.2293\n",
      "Epoch 98/300\n",
      "\u001b[1m27/27\u001b[0m \u001b[32m━━━━━━━━━━━━━━━━━━━━\u001b[0m\u001b[37m\u001b[0m \u001b[1m2s\u001b[0m 55ms/step - categorical_accuracy: 0.9292 - loss: 0.2141 - val_categorical_accuracy: 0.9234 - val_loss: 0.2649\n",
      "Epoch 99/300\n",
      "\u001b[1m27/27\u001b[0m \u001b[32m━━━━━━━━━━━━━━━━━━━━\u001b[0m\u001b[37m\u001b[0m \u001b[1m2s\u001b[0m 64ms/step - categorical_accuracy: 0.9115 - loss: 0.2415 - val_categorical_accuracy: 0.9282 - val_loss: 0.2138\n",
      "Epoch 100/300\n",
      "\u001b[1m27/27\u001b[0m \u001b[32m━━━━━━━━━━━━━━━━━━━━\u001b[0m\u001b[37m\u001b[0m \u001b[1m1s\u001b[0m 54ms/step - categorical_accuracy: 0.9233 - loss: 0.2025 - val_categorical_accuracy: 0.8804 - val_loss: 0.2602\n",
      "Epoch 101/300\n",
      "\u001b[1m27/27\u001b[0m \u001b[32m━━━━━━━━━━━━━━━━━━━━\u001b[0m\u001b[37m\u001b[0m \u001b[1m2s\u001b[0m 62ms/step - categorical_accuracy: 0.9069 - loss: 0.2597 - val_categorical_accuracy: 0.9139 - val_loss: 0.2394\n",
      "Epoch 102/300\n",
      "\u001b[1m27/27\u001b[0m \u001b[32m━━━━━━━━━━━━━━━━━━━━\u001b[0m\u001b[37m\u001b[0m \u001b[1m1s\u001b[0m 52ms/step - categorical_accuracy: 0.9220 - loss: 0.2218 - val_categorical_accuracy: 0.9043 - val_loss: 0.3359\n",
      "Epoch 103/300\n",
      "\u001b[1m27/27\u001b[0m \u001b[32m━━━━━━━━━━━━━━━━━━━━\u001b[0m\u001b[37m\u001b[0m \u001b[1m1s\u001b[0m 53ms/step - categorical_accuracy: 0.9384 - loss: 0.1938 - val_categorical_accuracy: 0.9282 - val_loss: 0.1887\n",
      "Epoch 104/300\n",
      "\u001b[1m27/27\u001b[0m \u001b[32m━━━━━━━━━━━━━━━━━━━━\u001b[0m\u001b[37m\u001b[0m \u001b[1m1s\u001b[0m 50ms/step - categorical_accuracy: 0.9129 - loss: 0.2569 - val_categorical_accuracy: 0.3014 - val_loss: 4.9847\n",
      "Epoch 105/300\n",
      "\u001b[1m27/27\u001b[0m \u001b[32m━━━━━━━━━━━━━━━━━━━━\u001b[0m\u001b[37m\u001b[0m \u001b[1m1s\u001b[0m 50ms/step - categorical_accuracy: 0.4961 - loss: 1.9669 - val_categorical_accuracy: 0.7033 - val_loss: 0.8048\n",
      "Epoch 106/300\n",
      "\u001b[1m27/27\u001b[0m \u001b[32m━━━━━━━━━━━━━━━━━━━━\u001b[0m\u001b[37m\u001b[0m \u001b[1m1s\u001b[0m 50ms/step - categorical_accuracy: 0.8029 - loss: 0.6778 - val_categorical_accuracy: 0.8660 - val_loss: 0.4101\n",
      "Epoch 107/300\n",
      "\u001b[1m27/27\u001b[0m \u001b[32m━━━━━━━━━━━━━━━━━━━━\u001b[0m\u001b[37m\u001b[0m \u001b[1m1s\u001b[0m 50ms/step - categorical_accuracy: 0.8898 - loss: 0.3752 - val_categorical_accuracy: 0.8804 - val_loss: 0.3079\n",
      "Epoch 108/300\n",
      "\u001b[1m27/27\u001b[0m \u001b[32m━━━━━━━━━━━━━━━━━━━━\u001b[0m\u001b[37m\u001b[0m \u001b[1m1s\u001b[0m 51ms/step - categorical_accuracy: 0.8955 - loss: 0.2965 - val_categorical_accuracy: 0.8517 - val_loss: 0.3364\n",
      "Epoch 109/300\n",
      "\u001b[1m27/27\u001b[0m \u001b[32m━━━━━━━━━━━━━━━━━━━━\u001b[0m\u001b[37m\u001b[0m \u001b[1m1s\u001b[0m 52ms/step - categorical_accuracy: 0.9165 - loss: 0.2477 - val_categorical_accuracy: 0.9187 - val_loss: 0.2611\n",
      "Epoch 110/300\n",
      "\u001b[1m27/27\u001b[0m \u001b[32m━━━━━━━━━━━━━━━━━━━━\u001b[0m\u001b[37m\u001b[0m \u001b[1m1s\u001b[0m 50ms/step - categorical_accuracy: 0.9317 - loss: 0.2149 - val_categorical_accuracy: 0.9139 - val_loss: 0.2933\n",
      "Epoch 111/300\n",
      "\u001b[1m27/27\u001b[0m \u001b[32m━━━━━━━━━━━━━━━━━━━━\u001b[0m\u001b[37m\u001b[0m \u001b[1m1s\u001b[0m 51ms/step - categorical_accuracy: 0.8570 - loss: 0.4137 - val_categorical_accuracy: 0.8469 - val_loss: 0.3451\n",
      "Epoch 112/300\n",
      "\u001b[1m27/27\u001b[0m \u001b[32m━━━━━━━━━━━━━━━━━━━━\u001b[0m\u001b[37m\u001b[0m \u001b[1m1s\u001b[0m 49ms/step - categorical_accuracy: 0.8994 - loss: 0.2953 - val_categorical_accuracy: 0.9091 - val_loss: 0.2591\n",
      "Epoch 113/300\n",
      "\u001b[1m27/27\u001b[0m \u001b[32m━━━━━━━━━━━━━━━━━━━━\u001b[0m\u001b[37m\u001b[0m \u001b[1m1s\u001b[0m 49ms/step - categorical_accuracy: 0.9201 - loss: 0.2330 - val_categorical_accuracy: 0.9234 - val_loss: 0.2332\n",
      "Epoch 114/300\n",
      "\u001b[1m27/27\u001b[0m \u001b[32m━━━━━━━━━━━━━━━━━━━━\u001b[0m\u001b[37m\u001b[0m \u001b[1m1s\u001b[0m 50ms/step - categorical_accuracy: 0.9079 - loss: 0.2663 - val_categorical_accuracy: 0.8947 - val_loss: 0.3306\n",
      "Epoch 115/300\n",
      "\u001b[1m27/27\u001b[0m \u001b[32m━━━━━━━━━━━━━━━━━━━━\u001b[0m\u001b[37m\u001b[0m \u001b[1m1s\u001b[0m 50ms/step - categorical_accuracy: 0.9190 - loss: 0.2450 - val_categorical_accuracy: 0.9187 - val_loss: 0.2950\n",
      "Epoch 116/300\n",
      "\u001b[1m27/27\u001b[0m \u001b[32m━━━━━━━━━━━━━━━━━━━━\u001b[0m\u001b[37m\u001b[0m \u001b[1m1s\u001b[0m 51ms/step - categorical_accuracy: 0.9365 - loss: 0.2029 - val_categorical_accuracy: 0.9234 - val_loss: 0.2191\n",
      "Epoch 117/300\n",
      "\u001b[1m27/27\u001b[0m \u001b[32m━━━━━━━━━━━━━━━━━━━━\u001b[0m\u001b[37m\u001b[0m \u001b[1m1s\u001b[0m 50ms/step - categorical_accuracy: 0.9321 - loss: 0.1866 - val_categorical_accuracy: 0.9187 - val_loss: 0.2217\n",
      "Epoch 118/300\n",
      "\u001b[1m27/27\u001b[0m \u001b[32m━━━━━━━━━━━━━━━━━━━━\u001b[0m\u001b[37m\u001b[0m \u001b[1m1s\u001b[0m 51ms/step - categorical_accuracy: 0.9276 - loss: 0.1938 - val_categorical_accuracy: 0.9426 - val_loss: 0.1770\n",
      "Epoch 119/300\n",
      "\u001b[1m27/27\u001b[0m \u001b[32m━━━━━━━━━━━━━━━━━━━━\u001b[0m\u001b[37m\u001b[0m \u001b[1m1s\u001b[0m 52ms/step - categorical_accuracy: 0.9582 - loss: 0.1438 - val_categorical_accuracy: 0.9426 - val_loss: 0.1954\n",
      "Epoch 120/300\n",
      "\u001b[1m27/27\u001b[0m \u001b[32m━━━━━━━━━━━━━━━━━━━━\u001b[0m\u001b[37m\u001b[0m \u001b[1m1s\u001b[0m 50ms/step - categorical_accuracy: 0.9547 - loss: 0.1528 - val_categorical_accuracy: 0.9043 - val_loss: 0.3555\n",
      "Epoch 121/300\n",
      "\u001b[1m27/27\u001b[0m \u001b[32m━━━━━━━━━━━━━━━━━━━━\u001b[0m\u001b[37m\u001b[0m \u001b[1m1s\u001b[0m 51ms/step - categorical_accuracy: 0.8965 - loss: 0.3121 - val_categorical_accuracy: 0.8373 - val_loss: 0.4879\n",
      "Epoch 122/300\n",
      "\u001b[1m27/27\u001b[0m \u001b[32m━━━━━━━━━━━━━━━━━━━━\u001b[0m\u001b[37m\u001b[0m \u001b[1m1s\u001b[0m 50ms/step - categorical_accuracy: 0.8574 - loss: 0.4665 - val_categorical_accuracy: 0.9474 - val_loss: 0.1749\n",
      "Epoch 123/300\n",
      "\u001b[1m27/27\u001b[0m \u001b[32m━━━━━━━━━━━━━━━━━━━━\u001b[0m\u001b[37m\u001b[0m \u001b[1m1s\u001b[0m 54ms/step - categorical_accuracy: 0.9389 - loss: 0.1914 - val_categorical_accuracy: 0.9426 - val_loss: 0.1571\n",
      "Epoch 124/300\n",
      "\u001b[1m27/27\u001b[0m \u001b[32m━━━━━━━━━━━━━━━━━━━━\u001b[0m\u001b[37m\u001b[0m \u001b[1m1s\u001b[0m 51ms/step - categorical_accuracy: 0.9724 - loss: 0.1139 - val_categorical_accuracy: 0.9569 - val_loss: 0.1685\n",
      "Epoch 125/300\n",
      "\u001b[1m27/27\u001b[0m \u001b[32m━━━━━━━━━━━━━━━━━━━━\u001b[0m\u001b[37m\u001b[0m \u001b[1m1s\u001b[0m 50ms/step - categorical_accuracy: 0.9141 - loss: 0.2301 - val_categorical_accuracy: 0.8852 - val_loss: 0.2452\n",
      "Epoch 126/300\n",
      "\u001b[1m27/27\u001b[0m \u001b[32m━━━━━━━━━━━━━━━━━━━━\u001b[0m\u001b[37m\u001b[0m \u001b[1m1s\u001b[0m 50ms/step - categorical_accuracy: 0.9451 - loss: 0.1593 - val_categorical_accuracy: 0.9522 - val_loss: 0.1255\n",
      "Epoch 127/300\n",
      "\u001b[1m27/27\u001b[0m \u001b[32m━━━━━━━━━━━━━━━━━━━━\u001b[0m\u001b[37m\u001b[0m \u001b[1m1s\u001b[0m 51ms/step - categorical_accuracy: 0.9560 - loss: 0.1464 - val_categorical_accuracy: 0.9282 - val_loss: 0.2191\n",
      "Epoch 128/300\n",
      "\u001b[1m27/27\u001b[0m \u001b[32m━━━━━━━━━━━━━━━━━━━━\u001b[0m\u001b[37m\u001b[0m \u001b[1m2s\u001b[0m 54ms/step - categorical_accuracy: 0.9436 - loss: 0.1332 - val_categorical_accuracy: 0.9522 - val_loss: 0.1629\n",
      "Epoch 129/300\n",
      "\u001b[1m27/27\u001b[0m \u001b[32m━━━━━━━━━━━━━━━━━━━━\u001b[0m\u001b[37m\u001b[0m \u001b[1m2s\u001b[0m 63ms/step - categorical_accuracy: 0.8717 - loss: 0.3786 - val_categorical_accuracy: 0.9187 - val_loss: 0.2403\n",
      "Epoch 130/300\n",
      "\u001b[1m27/27\u001b[0m \u001b[32m━━━━━━━━━━━━━━━━━━━━\u001b[0m\u001b[37m\u001b[0m \u001b[1m2s\u001b[0m 68ms/step - categorical_accuracy: 0.9412 - loss: 0.1857 - val_categorical_accuracy: 0.9426 - val_loss: 0.1479\n",
      "Epoch 131/300\n",
      "\u001b[1m27/27\u001b[0m \u001b[32m━━━━━━━━━━━━━━━━━━━━\u001b[0m\u001b[37m\u001b[0m \u001b[1m2s\u001b[0m 60ms/step - categorical_accuracy: 0.9737 - loss: 0.1092 - val_categorical_accuracy: 0.9378 - val_loss: 0.1728\n",
      "Epoch 132/300\n",
      "\u001b[1m27/27\u001b[0m \u001b[32m━━━━━━━━━━━━━━━━━━━━\u001b[0m\u001b[37m\u001b[0m \u001b[1m2s\u001b[0m 67ms/step - categorical_accuracy: 0.9702 - loss: 0.1085 - val_categorical_accuracy: 0.9569 - val_loss: 0.1288\n",
      "Epoch 133/300\n",
      "\u001b[1m27/27\u001b[0m \u001b[32m━━━━━━━━━━━━━━━━━━━━\u001b[0m\u001b[37m\u001b[0m \u001b[1m2s\u001b[0m 63ms/step - categorical_accuracy: 0.9817 - loss: 0.0815 - val_categorical_accuracy: 0.8804 - val_loss: 0.3460\n",
      "Epoch 134/300\n",
      "\u001b[1m27/27\u001b[0m \u001b[32m━━━━━━━━━━━━━━━━━━━━\u001b[0m\u001b[37m\u001b[0m \u001b[1m2s\u001b[0m 58ms/step - categorical_accuracy: 0.9582 - loss: 0.1570 - val_categorical_accuracy: 0.9617 - val_loss: 0.1392\n",
      "Epoch 135/300\n",
      "\u001b[1m27/27\u001b[0m \u001b[32m━━━━━━━━━━━━━━━━━━━━\u001b[0m\u001b[37m\u001b[0m \u001b[1m1s\u001b[0m 50ms/step - categorical_accuracy: 0.9812 - loss: 0.0751 - val_categorical_accuracy: 0.9617 - val_loss: 0.1359\n",
      "Epoch 136/300\n",
      "\u001b[1m27/27\u001b[0m \u001b[32m━━━━━━━━━━━━━━━━━━━━\u001b[0m\u001b[37m\u001b[0m \u001b[1m1s\u001b[0m 51ms/step - categorical_accuracy: 0.9665 - loss: 0.1029 - val_categorical_accuracy: 0.8900 - val_loss: 0.3284\n",
      "Epoch 137/300\n",
      "\u001b[1m27/27\u001b[0m \u001b[32m━━━━━━━━━━━━━━━━━━━━\u001b[0m\u001b[37m\u001b[0m \u001b[1m1s\u001b[0m 52ms/step - categorical_accuracy: 0.9643 - loss: 0.1339 - val_categorical_accuracy: 0.8900 - val_loss: 0.2910\n",
      "Epoch 138/300\n",
      "\u001b[1m27/27\u001b[0m \u001b[32m━━━━━━━━━━━━━━━━━━━━\u001b[0m\u001b[37m\u001b[0m \u001b[1m1s\u001b[0m 51ms/step - categorical_accuracy: 0.9543 - loss: 0.1168 - val_categorical_accuracy: 0.9426 - val_loss: 0.1721\n",
      "Epoch 139/300\n",
      "\u001b[1m27/27\u001b[0m \u001b[32m━━━━━━━━━━━━━━━━━━━━\u001b[0m\u001b[37m\u001b[0m \u001b[1m1s\u001b[0m 49ms/step - categorical_accuracy: 0.9642 - loss: 0.0992 - val_categorical_accuracy: 0.9426 - val_loss: 0.1358\n",
      "Epoch 140/300\n",
      "\u001b[1m27/27\u001b[0m \u001b[32m━━━━━━━━━━━━━━━━━━━━\u001b[0m\u001b[37m\u001b[0m \u001b[1m1s\u001b[0m 50ms/step - categorical_accuracy: 0.9770 - loss: 0.0580 - val_categorical_accuracy: 0.9330 - val_loss: 0.1832\n",
      "Epoch 141/300\n",
      "\u001b[1m27/27\u001b[0m \u001b[32m━━━━━━━━━━━━━━━━━━━━\u001b[0m\u001b[37m\u001b[0m \u001b[1m2s\u001b[0m 58ms/step - categorical_accuracy: 0.9802 - loss: 0.0709 - val_categorical_accuracy: 0.9330 - val_loss: 0.1870\n",
      "Epoch 142/300\n",
      "\u001b[1m27/27\u001b[0m \u001b[32m━━━━━━━━━━━━━━━━━━━━\u001b[0m\u001b[37m\u001b[0m \u001b[1m1s\u001b[0m 46ms/step - categorical_accuracy: 0.9606 - loss: 0.1081 - val_categorical_accuracy: 0.9426 - val_loss: 0.1943\n",
      "Epoch 143/300\n",
      "\u001b[1m27/27\u001b[0m \u001b[32m━━━━━━━━━━━━━━━━━━━━\u001b[0m\u001b[37m\u001b[0m \u001b[1m1s\u001b[0m 45ms/step - categorical_accuracy: 0.8985 - loss: 0.3054 - val_categorical_accuracy: 0.9234 - val_loss: 0.3057\n",
      "Epoch 144/300\n",
      "\u001b[1m27/27\u001b[0m \u001b[32m━━━━━━━━━━━━━━━━━━━━\u001b[0m\u001b[37m\u001b[0m \u001b[1m1s\u001b[0m 46ms/step - categorical_accuracy: 0.9370 - loss: 0.2311 - val_categorical_accuracy: 0.9043 - val_loss: 0.2780\n",
      "Epoch 145/300\n",
      "\u001b[1m27/27\u001b[0m \u001b[32m━━━━━━━━━━━━━━━━━━━━\u001b[0m\u001b[37m\u001b[0m \u001b[1m1s\u001b[0m 45ms/step - categorical_accuracy: 0.9717 - loss: 0.1279 - val_categorical_accuracy: 0.9378 - val_loss: 0.1750\n",
      "Epoch 146/300\n",
      "\u001b[1m27/27\u001b[0m \u001b[32m━━━━━━━━━━━━━━━━━━━━\u001b[0m\u001b[37m\u001b[0m \u001b[1m1s\u001b[0m 45ms/step - categorical_accuracy: 0.9680 - loss: 0.1008 - val_categorical_accuracy: 0.9426 - val_loss: 0.2032\n",
      "Epoch 147/300\n",
      "\u001b[1m27/27\u001b[0m \u001b[32m━━━━━━━━━━━━━━━━━━━━\u001b[0m\u001b[37m\u001b[0m \u001b[1m1s\u001b[0m 45ms/step - categorical_accuracy: 0.9760 - loss: 0.0722 - val_categorical_accuracy: 0.8900 - val_loss: 0.3716\n",
      "Epoch 148/300\n",
      "\u001b[1m27/27\u001b[0m \u001b[32m━━━━━━━━━━━━━━━━━━━━\u001b[0m\u001b[37m\u001b[0m \u001b[1m1s\u001b[0m 45ms/step - categorical_accuracy: 0.9574 - loss: 0.1229 - val_categorical_accuracy: 0.9474 - val_loss: 0.1558\n",
      "Epoch 149/300\n",
      "\u001b[1m27/27\u001b[0m \u001b[32m━━━━━━━━━━━━━━━━━━━━\u001b[0m\u001b[37m\u001b[0m \u001b[1m1s\u001b[0m 45ms/step - categorical_accuracy: 0.9850 - loss: 0.0595 - val_categorical_accuracy: 0.9522 - val_loss: 0.2130\n",
      "Epoch 150/300\n",
      "\u001b[1m27/27\u001b[0m \u001b[32m━━━━━━━━━━━━━━━━━━━━\u001b[0m\u001b[37m\u001b[0m \u001b[1m1s\u001b[0m 44ms/step - categorical_accuracy: 0.9838 - loss: 0.0595 - val_categorical_accuracy: 0.9330 - val_loss: 0.2649\n",
      "Epoch 151/300\n",
      "\u001b[1m27/27\u001b[0m \u001b[32m━━━━━━━━━━━━━━━━━━━━\u001b[0m\u001b[37m\u001b[0m \u001b[1m1s\u001b[0m 45ms/step - categorical_accuracy: 0.9817 - loss: 0.0577 - val_categorical_accuracy: 0.9139 - val_loss: 0.3596\n",
      "Epoch 152/300\n",
      "\u001b[1m27/27\u001b[0m \u001b[32m━━━━━━━━━━━━━━━━━━━━\u001b[0m\u001b[37m\u001b[0m \u001b[1m1s\u001b[0m 44ms/step - categorical_accuracy: 0.9642 - loss: 0.1212 - val_categorical_accuracy: 0.8756 - val_loss: 0.4129\n",
      "Epoch 153/300\n",
      "\u001b[1m27/27\u001b[0m \u001b[32m━━━━━━━━━━━━━━━━━━━━\u001b[0m\u001b[37m\u001b[0m \u001b[1m1s\u001b[0m 45ms/step - categorical_accuracy: 0.8470 - loss: 0.4269 - val_categorical_accuracy: 0.9522 - val_loss: 0.2379\n",
      "Epoch 154/300\n",
      "\u001b[1m27/27\u001b[0m \u001b[32m━━━━━━━━━━━━━━━━━━━━\u001b[0m\u001b[37m\u001b[0m \u001b[1m1s\u001b[0m 45ms/step - categorical_accuracy: 0.9505 - loss: 0.1592 - val_categorical_accuracy: 0.9474 - val_loss: 0.1852\n",
      "Epoch 155/300\n",
      "\u001b[1m27/27\u001b[0m \u001b[32m━━━━━━━━━━━━━━━━━━━━\u001b[0m\u001b[37m\u001b[0m \u001b[1m1s\u001b[0m 47ms/step - categorical_accuracy: 0.9727 - loss: 0.0882 - val_categorical_accuracy: 0.9091 - val_loss: 0.2502\n",
      "Epoch 156/300\n",
      "\u001b[1m27/27\u001b[0m \u001b[32m━━━━━━━━━━━━━━━━━━━━\u001b[0m\u001b[37m\u001b[0m \u001b[1m1s\u001b[0m 47ms/step - categorical_accuracy: 0.9747 - loss: 0.0750 - val_categorical_accuracy: 0.8612 - val_loss: 0.4690\n",
      "Epoch 157/300\n",
      "\u001b[1m27/27\u001b[0m \u001b[32m━━━━━━━━━━━━━━━━━━━━\u001b[0m\u001b[37m\u001b[0m \u001b[1m1s\u001b[0m 48ms/step - categorical_accuracy: 0.9240 - loss: 0.1865 - val_categorical_accuracy: 0.9187 - val_loss: 0.1900\n",
      "Epoch 158/300\n",
      "\u001b[1m27/27\u001b[0m \u001b[32m━━━━━━━━━━━━━━━━━━━━\u001b[0m\u001b[37m\u001b[0m \u001b[1m1s\u001b[0m 46ms/step - categorical_accuracy: 0.9614 - loss: 0.1121 - val_categorical_accuracy: 0.9665 - val_loss: 0.1229\n",
      "Epoch 159/300\n",
      "\u001b[1m27/27\u001b[0m \u001b[32m━━━━━━━━━━━━━━━━━━━━\u001b[0m\u001b[37m\u001b[0m \u001b[1m1s\u001b[0m 44ms/step - categorical_accuracy: 0.9828 - loss: 0.0742 - val_categorical_accuracy: 0.8900 - val_loss: 0.4542\n",
      "Epoch 160/300\n",
      "\u001b[1m27/27\u001b[0m \u001b[32m━━━━━━━━━━━━━━━━━━━━\u001b[0m\u001b[37m\u001b[0m \u001b[1m1s\u001b[0m 44ms/step - categorical_accuracy: 0.9481 - loss: 0.1302 - val_categorical_accuracy: 0.9282 - val_loss: 0.1708\n",
      "Epoch 161/300\n",
      "\u001b[1m27/27\u001b[0m \u001b[32m━━━━━━━━━━━━━━━━━━━━\u001b[0m\u001b[37m\u001b[0m \u001b[1m1s\u001b[0m 44ms/step - categorical_accuracy: 0.9627 - loss: 0.1304 - val_categorical_accuracy: 0.8995 - val_loss: 0.3505\n",
      "Epoch 162/300\n",
      "\u001b[1m27/27\u001b[0m \u001b[32m━━━━━━━━━━━━━━━━━━━━\u001b[0m\u001b[37m\u001b[0m \u001b[1m1s\u001b[0m 45ms/step - categorical_accuracy: 0.9628 - loss: 0.1095 - val_categorical_accuracy: 0.9282 - val_loss: 0.2284\n",
      "Epoch 163/300\n",
      "\u001b[1m27/27\u001b[0m \u001b[32m━━━━━━━━━━━━━━━━━━━━\u001b[0m\u001b[37m\u001b[0m \u001b[1m1s\u001b[0m 44ms/step - categorical_accuracy: 0.9739 - loss: 0.0803 - val_categorical_accuracy: 0.9665 - val_loss: 0.1589\n",
      "Epoch 164/300\n",
      "\u001b[1m27/27\u001b[0m \u001b[32m━━━━━━━━━━━━━━━━━━━━\u001b[0m\u001b[37m\u001b[0m \u001b[1m1s\u001b[0m 45ms/step - categorical_accuracy: 0.9780 - loss: 0.0614 - val_categorical_accuracy: 0.9378 - val_loss: 0.2176\n",
      "Epoch 165/300\n",
      "\u001b[1m27/27\u001b[0m \u001b[32m━━━━━━━━━━━━━━━━━━━━\u001b[0m\u001b[37m\u001b[0m \u001b[1m1s\u001b[0m 45ms/step - categorical_accuracy: 0.9793 - loss: 0.0718 - val_categorical_accuracy: 0.9187 - val_loss: 0.2988\n",
      "Epoch 166/300\n",
      "\u001b[1m27/27\u001b[0m \u001b[32m━━━━━━━━━━━━━━━━━━━━\u001b[0m\u001b[37m\u001b[0m \u001b[1m1s\u001b[0m 44ms/step - categorical_accuracy: 0.9573 - loss: 0.1376 - val_categorical_accuracy: 0.8756 - val_loss: 0.4542\n",
      "Epoch 167/300\n",
      "\u001b[1m27/27\u001b[0m \u001b[32m━━━━━━━━━━━━━━━━━━━━\u001b[0m\u001b[37m\u001b[0m \u001b[1m1s\u001b[0m 44ms/step - categorical_accuracy: 0.9313 - loss: 0.2246 - val_categorical_accuracy: 0.9187 - val_loss: 0.2422\n",
      "Epoch 168/300\n",
      "\u001b[1m27/27\u001b[0m \u001b[32m━━━━━━━━━━━━━━━━━━━━\u001b[0m\u001b[37m\u001b[0m \u001b[1m1s\u001b[0m 45ms/step - categorical_accuracy: 0.9455 - loss: 0.1588 - val_categorical_accuracy: 0.8804 - val_loss: 0.4774\n",
      "Epoch 169/300\n",
      "\u001b[1m27/27\u001b[0m \u001b[32m━━━━━━━━━━━━━━━━━━━━\u001b[0m\u001b[37m\u001b[0m \u001b[1m1s\u001b[0m 45ms/step - categorical_accuracy: 0.9515 - loss: 0.1310 - val_categorical_accuracy: 0.9474 - val_loss: 0.1832\n",
      "Epoch 170/300\n",
      "\u001b[1m27/27\u001b[0m \u001b[32m━━━━━━━━━━━━━━━━━━━━\u001b[0m\u001b[37m\u001b[0m \u001b[1m2s\u001b[0m 57ms/step - categorical_accuracy: 0.9584 - loss: 0.0970 - val_categorical_accuracy: 0.9091 - val_loss: 0.3097\n",
      "Epoch 171/300\n",
      "\u001b[1m27/27\u001b[0m \u001b[32m━━━━━━━━━━━━━━━━━━━━\u001b[0m\u001b[37m\u001b[0m \u001b[1m1s\u001b[0m 54ms/step - categorical_accuracy: 0.9742 - loss: 0.0771 - val_categorical_accuracy: 0.8756 - val_loss: 0.5374\n",
      "Epoch 172/300\n",
      "\u001b[1m27/27\u001b[0m \u001b[32m━━━━━━━━━━━━━━━━━━━━\u001b[0m\u001b[37m\u001b[0m \u001b[1m1s\u001b[0m 52ms/step - categorical_accuracy: 0.9476 - loss: 0.1057 - val_categorical_accuracy: 0.9187 - val_loss: 0.3736\n",
      "Epoch 173/300\n",
      "\u001b[1m27/27\u001b[0m \u001b[32m━━━━━━━━━━━━━━━━━━━━\u001b[0m\u001b[37m\u001b[0m \u001b[1m1s\u001b[0m 51ms/step - categorical_accuracy: 0.9580 - loss: 0.1245 - val_categorical_accuracy: 0.9474 - val_loss: 0.1528\n",
      "Epoch 174/300\n",
      "\u001b[1m27/27\u001b[0m \u001b[32m━━━━━━━━━━━━━━━━━━━━\u001b[0m\u001b[37m\u001b[0m \u001b[1m1s\u001b[0m 51ms/step - categorical_accuracy: 0.9561 - loss: 0.1453 - val_categorical_accuracy: 0.9474 - val_loss: 0.1637\n",
      "Epoch 175/300\n",
      "\u001b[1m27/27\u001b[0m \u001b[32m━━━━━━━━━━━━━━━━━━━━\u001b[0m\u001b[37m\u001b[0m \u001b[1m2s\u001b[0m 56ms/step - categorical_accuracy: 0.9809 - loss: 0.0721 - val_categorical_accuracy: 0.8325 - val_loss: 0.5848\n",
      "Epoch 176/300\n",
      "\u001b[1m27/27\u001b[0m \u001b[32m━━━━━━━━━━━━━━━━━━━━\u001b[0m\u001b[37m\u001b[0m \u001b[1m1s\u001b[0m 53ms/step - categorical_accuracy: 0.9527 - loss: 0.1140 - val_categorical_accuracy: 0.9139 - val_loss: 0.2978\n",
      "Epoch 177/300\n",
      "\u001b[1m27/27\u001b[0m \u001b[32m━━━━━━━━━━━━━━━━━━━━\u001b[0m\u001b[37m\u001b[0m \u001b[1m1s\u001b[0m 53ms/step - categorical_accuracy: 0.9692 - loss: 0.0810 - val_categorical_accuracy: 0.8373 - val_loss: 0.5654\n",
      "Epoch 178/300\n",
      "\u001b[1m27/27\u001b[0m \u001b[32m━━━━━━━━━━━━━━━━━━━━\u001b[0m\u001b[37m\u001b[0m \u001b[1m1s\u001b[0m 49ms/step - categorical_accuracy: 0.9502 - loss: 0.1138 - val_categorical_accuracy: 0.9282 - val_loss: 0.4076\n",
      "Epoch 179/300\n",
      "\u001b[1m27/27\u001b[0m \u001b[32m━━━━━━━━━━━━━━━━━━━━\u001b[0m\u001b[37m\u001b[0m \u001b[1m1s\u001b[0m 51ms/step - categorical_accuracy: 0.9836 - loss: 0.0620 - val_categorical_accuracy: 0.8469 - val_loss: 0.6856\n",
      "Epoch 180/300\n",
      "\u001b[1m27/27\u001b[0m \u001b[32m━━━━━━━━━━━━━━━━━━━━\u001b[0m\u001b[37m\u001b[0m \u001b[1m1s\u001b[0m 50ms/step - categorical_accuracy: 0.9394 - loss: 0.1497 - val_categorical_accuracy: 0.9474 - val_loss: 0.1317\n",
      "Epoch 181/300\n",
      "\u001b[1m27/27\u001b[0m \u001b[32m━━━━━━━━━━━━━━━━━━━━\u001b[0m\u001b[37m\u001b[0m \u001b[1m1s\u001b[0m 51ms/step - categorical_accuracy: 0.9609 - loss: 0.0937 - val_categorical_accuracy: 0.9378 - val_loss: 0.2820\n",
      "Epoch 182/300\n",
      "\u001b[1m27/27\u001b[0m \u001b[32m━━━━━━━━━━━━━━━━━━━━\u001b[0m\u001b[37m\u001b[0m \u001b[1m1s\u001b[0m 51ms/step - categorical_accuracy: 0.9847 - loss: 0.0514 - val_categorical_accuracy: 0.8421 - val_loss: 0.7514\n",
      "Epoch 183/300\n",
      "\u001b[1m27/27\u001b[0m \u001b[32m━━━━━━━━━━━━━━━━━━━━\u001b[0m\u001b[37m\u001b[0m \u001b[1m1s\u001b[0m 50ms/step - categorical_accuracy: 0.9329 - loss: 0.1519 - val_categorical_accuracy: 0.9474 - val_loss: 0.1702\n",
      "Epoch 184/300\n",
      "\u001b[1m27/27\u001b[0m \u001b[32m━━━━━━━━━━━━━━━━━━━━\u001b[0m\u001b[37m\u001b[0m \u001b[1m1s\u001b[0m 50ms/step - categorical_accuracy: 0.9815 - loss: 0.0597 - val_categorical_accuracy: 0.9426 - val_loss: 0.1814\n",
      "Epoch 185/300\n",
      "\u001b[1m27/27\u001b[0m \u001b[32m━━━━━━━━━━━━━━━━━━━━\u001b[0m\u001b[37m\u001b[0m \u001b[1m1s\u001b[0m 51ms/step - categorical_accuracy: 0.9714 - loss: 0.0725 - val_categorical_accuracy: 0.9426 - val_loss: 0.2089\n",
      "Epoch 186/300\n",
      "\u001b[1m27/27\u001b[0m \u001b[32m━━━━━━━━━━━━━━━━━━━━\u001b[0m\u001b[37m\u001b[0m \u001b[1m1s\u001b[0m 50ms/step - categorical_accuracy: 0.9872 - loss: 0.0426 - val_categorical_accuracy: 0.9282 - val_loss: 0.2592\n",
      "Epoch 187/300\n",
      "\u001b[1m27/27\u001b[0m \u001b[32m━━━━━━━━━━━━━━━━━━━━\u001b[0m\u001b[37m\u001b[0m \u001b[1m1s\u001b[0m 49ms/step - categorical_accuracy: 0.9815 - loss: 0.0479 - val_categorical_accuracy: 0.8660 - val_loss: 0.4927\n",
      "Epoch 188/300\n",
      "\u001b[1m27/27\u001b[0m \u001b[32m━━━━━━━━━━━━━━━━━━━━\u001b[0m\u001b[37m\u001b[0m \u001b[1m1s\u001b[0m 52ms/step - categorical_accuracy: 0.9717 - loss: 0.0712 - val_categorical_accuracy: 0.9282 - val_loss: 0.2077\n",
      "Epoch 189/300\n",
      "\u001b[1m27/27\u001b[0m \u001b[32m━━━━━━━━━━━━━━━━━━━━\u001b[0m\u001b[37m\u001b[0m \u001b[1m1s\u001b[0m 50ms/step - categorical_accuracy: 0.9735 - loss: 0.0629 - val_categorical_accuracy: 0.8708 - val_loss: 0.4911\n",
      "Epoch 190/300\n",
      "\u001b[1m27/27\u001b[0m \u001b[32m━━━━━━━━━━━━━━━━━━━━\u001b[0m\u001b[37m\u001b[0m \u001b[1m1s\u001b[0m 50ms/step - categorical_accuracy: 0.9596 - loss: 0.0957 - val_categorical_accuracy: 0.9139 - val_loss: 0.3047\n",
      "Epoch 191/300\n",
      "\u001b[1m27/27\u001b[0m \u001b[32m━━━━━━━━━━━━━━━━━━━━\u001b[0m\u001b[37m\u001b[0m \u001b[1m1s\u001b[0m 51ms/step - categorical_accuracy: 0.9240 - loss: 0.2736 - val_categorical_accuracy: 0.8660 - val_loss: 0.4681\n",
      "Epoch 192/300\n",
      "\u001b[1m27/27\u001b[0m \u001b[32m━━━━━━━━━━━━━━━━━━━━\u001b[0m\u001b[37m\u001b[0m \u001b[1m1s\u001b[0m 51ms/step - categorical_accuracy: 0.9657 - loss: 0.1145 - val_categorical_accuracy: 0.8804 - val_loss: 0.5975\n",
      "Epoch 193/300\n",
      "\u001b[1m27/27\u001b[0m \u001b[32m━━━━━━━━━━━━━━━━━━━━\u001b[0m\u001b[37m\u001b[0m \u001b[1m1s\u001b[0m 50ms/step - categorical_accuracy: 0.9325 - loss: 0.2523 - val_categorical_accuracy: 0.9187 - val_loss: 0.3333\n",
      "Epoch 194/300\n",
      "\u001b[1m27/27\u001b[0m \u001b[32m━━━━━━━━━━━━━━━━━━━━\u001b[0m\u001b[37m\u001b[0m \u001b[1m1s\u001b[0m 52ms/step - categorical_accuracy: 0.9444 - loss: 0.1505 - val_categorical_accuracy: 0.8804 - val_loss: 0.4520\n",
      "Epoch 195/300\n",
      "\u001b[1m27/27\u001b[0m \u001b[32m━━━━━━━━━━━━━━━━━━━━\u001b[0m\u001b[37m\u001b[0m \u001b[1m2s\u001b[0m 66ms/step - categorical_accuracy: 0.9585 - loss: 0.1226 - val_categorical_accuracy: 0.9617 - val_loss: 0.1403\n",
      "Epoch 196/300\n",
      "\u001b[1m27/27\u001b[0m \u001b[32m━━━━━━━━━━━━━━━━━━━━\u001b[0m\u001b[37m\u001b[0m \u001b[1m2s\u001b[0m 73ms/step - categorical_accuracy: 0.9730 - loss: 0.0647 - val_categorical_accuracy: 0.8278 - val_loss: 0.6868\n",
      "Epoch 197/300\n",
      "\u001b[1m27/27\u001b[0m \u001b[32m━━━━━━━━━━━━━━━━━━━━\u001b[0m\u001b[37m\u001b[0m \u001b[1m2s\u001b[0m 61ms/step - categorical_accuracy: 0.9431 - loss: 0.1410 - val_categorical_accuracy: 0.9522 - val_loss: 0.1993\n",
      "Epoch 198/300\n",
      "\u001b[1m27/27\u001b[0m \u001b[32m━━━━━━━━━━━━━━━━━━━━\u001b[0m\u001b[37m\u001b[0m \u001b[1m2s\u001b[0m 59ms/step - categorical_accuracy: 0.9708 - loss: 0.0914 - val_categorical_accuracy: 0.9426 - val_loss: 0.1667\n",
      "Epoch 199/300\n",
      "\u001b[1m27/27\u001b[0m \u001b[32m━━━━━━━━━━━━━━━━━━━━\u001b[0m\u001b[37m\u001b[0m \u001b[1m2s\u001b[0m 64ms/step - categorical_accuracy: 0.9810 - loss: 0.0533 - val_categorical_accuracy: 0.9569 - val_loss: 0.2102\n",
      "Epoch 200/300\n",
      "\u001b[1m27/27\u001b[0m \u001b[32m━━━━━━━━━━━━━━━━━━━━\u001b[0m\u001b[37m\u001b[0m \u001b[1m2s\u001b[0m 54ms/step - categorical_accuracy: 0.9756 - loss: 0.0614 - val_categorical_accuracy: 0.9569 - val_loss: 0.1499\n",
      "Epoch 201/300\n",
      "\u001b[1m27/27\u001b[0m \u001b[32m━━━━━━━━━━━━━━━━━━━━\u001b[0m\u001b[37m\u001b[0m \u001b[1m2s\u001b[0m 54ms/step - categorical_accuracy: 0.9797 - loss: 0.0613 - val_categorical_accuracy: 0.9426 - val_loss: 0.1947\n",
      "Epoch 202/300\n",
      "\u001b[1m27/27\u001b[0m \u001b[32m━━━━━━━━━━━━━━━━━━━━\u001b[0m\u001b[37m\u001b[0m \u001b[1m1s\u001b[0m 52ms/step - categorical_accuracy: 0.9743 - loss: 0.0782 - val_categorical_accuracy: 0.9282 - val_loss: 0.2258\n",
      "Epoch 203/300\n",
      "\u001b[1m27/27\u001b[0m \u001b[32m━━━━━━━━━━━━━━━━━━━━\u001b[0m\u001b[37m\u001b[0m \u001b[1m1s\u001b[0m 50ms/step - categorical_accuracy: 0.9686 - loss: 0.0914 - val_categorical_accuracy: 0.9330 - val_loss: 0.2215\n",
      "Epoch 204/300\n",
      "\u001b[1m27/27\u001b[0m \u001b[32m━━━━━━━━━━━━━━━━━━━━\u001b[0m\u001b[37m\u001b[0m \u001b[1m1s\u001b[0m 52ms/step - categorical_accuracy: 0.9676 - loss: 0.0789 - val_categorical_accuracy: 0.9378 - val_loss: 0.2062\n",
      "Epoch 205/300\n",
      "\u001b[1m27/27\u001b[0m \u001b[32m━━━━━━━━━━━━━━━━━━━━\u001b[0m\u001b[37m\u001b[0m \u001b[1m1s\u001b[0m 51ms/step - categorical_accuracy: 0.9695 - loss: 0.1053 - val_categorical_accuracy: 0.9234 - val_loss: 0.2549\n",
      "Epoch 206/300\n",
      "\u001b[1m27/27\u001b[0m \u001b[32m━━━━━━━━━━━━━━━━━━━━\u001b[0m\u001b[37m\u001b[0m \u001b[1m1s\u001b[0m 51ms/step - categorical_accuracy: 0.9677 - loss: 0.0961 - val_categorical_accuracy: 0.9282 - val_loss: 0.2191\n",
      "Epoch 207/300\n",
      "\u001b[1m27/27\u001b[0m \u001b[32m━━━━━━━━━━━━━━━━━━━━\u001b[0m\u001b[37m\u001b[0m \u001b[1m1s\u001b[0m 53ms/step - categorical_accuracy: 0.9717 - loss: 0.0583 - val_categorical_accuracy: 0.9617 - val_loss: 0.1623\n",
      "Epoch 208/300\n",
      "\u001b[1m27/27\u001b[0m \u001b[32m━━━━━━━━━━━━━━━━━━━━\u001b[0m\u001b[37m\u001b[0m \u001b[1m1s\u001b[0m 53ms/step - categorical_accuracy: 0.9897 - loss: 0.0298 - val_categorical_accuracy: 0.9713 - val_loss: 0.1428\n",
      "Epoch 209/300\n",
      "\u001b[1m27/27\u001b[0m \u001b[32m━━━━━━━━━━━━━━━━━━━━\u001b[0m\u001b[37m\u001b[0m \u001b[1m1s\u001b[0m 51ms/step - categorical_accuracy: 0.9881 - loss: 0.0226 - val_categorical_accuracy: 0.9617 - val_loss: 0.1484\n",
      "Epoch 210/300\n",
      "\u001b[1m27/27\u001b[0m \u001b[32m━━━━━━━━━━━━━━━━━━━━\u001b[0m\u001b[37m\u001b[0m \u001b[1m1s\u001b[0m 51ms/step - categorical_accuracy: 0.9948 - loss: 0.0140 - val_categorical_accuracy: 0.9569 - val_loss: 0.1606\n",
      "Epoch 211/300\n",
      "\u001b[1m27/27\u001b[0m \u001b[32m━━━━━━━━━━━━━━━━━━━━\u001b[0m\u001b[37m\u001b[0m \u001b[1m1s\u001b[0m 50ms/step - categorical_accuracy: 0.9948 - loss: 0.0099 - val_categorical_accuracy: 0.9522 - val_loss: 0.1963\n",
      "Epoch 212/300\n",
      "\u001b[1m27/27\u001b[0m \u001b[32m━━━━━━━━━━━━━━━━━━━━\u001b[0m\u001b[37m\u001b[0m \u001b[1m1s\u001b[0m 53ms/step - categorical_accuracy: 0.9983 - loss: 0.0098 - val_categorical_accuracy: 0.9522 - val_loss: 0.2140\n",
      "Epoch 213/300\n",
      "\u001b[1m27/27\u001b[0m \u001b[32m━━━━━━━━━━━━━━━━━━━━\u001b[0m\u001b[37m\u001b[0m \u001b[1m1s\u001b[0m 50ms/step - categorical_accuracy: 0.9979 - loss: 0.0086 - val_categorical_accuracy: 0.9522 - val_loss: 0.2626\n",
      "Epoch 214/300\n",
      "\u001b[1m27/27\u001b[0m \u001b[32m━━━━━━━━━━━━━━━━━━━━\u001b[0m\u001b[37m\u001b[0m \u001b[1m1s\u001b[0m 52ms/step - categorical_accuracy: 0.9976 - loss: 0.0087 - val_categorical_accuracy: 0.9617 - val_loss: 0.1655\n",
      "Epoch 215/300\n",
      "\u001b[1m27/27\u001b[0m \u001b[32m━━━━━━━━━━━━━━━━━━━━\u001b[0m\u001b[37m\u001b[0m \u001b[1m1s\u001b[0m 51ms/step - categorical_accuracy: 0.9980 - loss: 0.0137 - val_categorical_accuracy: 0.9330 - val_loss: 0.2539\n",
      "Epoch 216/300\n",
      "\u001b[1m27/27\u001b[0m \u001b[32m━━━━━━━━━━━━━━━━━━━━\u001b[0m\u001b[37m\u001b[0m \u001b[1m2s\u001b[0m 58ms/step - categorical_accuracy: 0.9301 - loss: 0.2451 - val_categorical_accuracy: 0.8900 - val_loss: 0.3677\n",
      "Epoch 217/300\n",
      "\u001b[1m27/27\u001b[0m \u001b[32m━━━━━━━━━━━━━━━━━━━━\u001b[0m\u001b[37m\u001b[0m \u001b[1m1s\u001b[0m 51ms/step - categorical_accuracy: 0.9252 - loss: 0.2094 - val_categorical_accuracy: 0.9665 - val_loss: 0.1167\n",
      "Epoch 218/300\n",
      "\u001b[1m27/27\u001b[0m \u001b[32m━━━━━━━━━━━━━━━━━━━━\u001b[0m\u001b[37m\u001b[0m \u001b[1m1s\u001b[0m 52ms/step - categorical_accuracy: 0.9845 - loss: 0.0460 - val_categorical_accuracy: 0.9713 - val_loss: 0.0981\n",
      "Epoch 219/300\n",
      "\u001b[1m27/27\u001b[0m \u001b[32m━━━━━━━━━━━━━━━━━━━━\u001b[0m\u001b[37m\u001b[0m \u001b[1m1s\u001b[0m 50ms/step - categorical_accuracy: 0.9923 - loss: 0.0255 - val_categorical_accuracy: 0.9761 - val_loss: 0.1228\n",
      "Epoch 220/300\n",
      "\u001b[1m27/27\u001b[0m \u001b[32m━━━━━━━━━━━━━━━━━━━━\u001b[0m\u001b[37m\u001b[0m \u001b[1m1s\u001b[0m 50ms/step - categorical_accuracy: 0.9966 - loss: 0.0176 - val_categorical_accuracy: 0.9809 - val_loss: 0.1321\n",
      "Epoch 221/300\n",
      "\u001b[1m27/27\u001b[0m \u001b[32m━━━━━━━━━━━━━━━━━━━━\u001b[0m\u001b[37m\u001b[0m \u001b[1m1s\u001b[0m 51ms/step - categorical_accuracy: 0.9994 - loss: 0.0147 - val_categorical_accuracy: 0.9809 - val_loss: 0.1446\n",
      "Epoch 222/300\n",
      "\u001b[1m27/27\u001b[0m \u001b[32m━━━━━━━━━━━━━━━━━━━━\u001b[0m\u001b[37m\u001b[0m \u001b[1m1s\u001b[0m 52ms/step - categorical_accuracy: 0.9997 - loss: 0.0096 - val_categorical_accuracy: 0.9761 - val_loss: 0.1387\n",
      "Epoch 223/300\n",
      "\u001b[1m27/27\u001b[0m \u001b[32m━━━━━━━━━━━━━━━━━━━━\u001b[0m\u001b[37m\u001b[0m \u001b[1m1s\u001b[0m 51ms/step - categorical_accuracy: 0.9996 - loss: 0.0100 - val_categorical_accuracy: 0.9761 - val_loss: 0.1650\n",
      "Epoch 224/300\n",
      "\u001b[1m27/27\u001b[0m \u001b[32m━━━━━━━━━━━━━━━━━━━━\u001b[0m\u001b[37m\u001b[0m \u001b[1m1s\u001b[0m 51ms/step - categorical_accuracy: 0.9971 - loss: 0.0102 - val_categorical_accuracy: 0.9713 - val_loss: 0.1473\n",
      "Epoch 225/300\n",
      "\u001b[1m27/27\u001b[0m \u001b[32m━━━━━━━━━━━━━━━━━━━━\u001b[0m\u001b[37m\u001b[0m \u001b[1m1s\u001b[0m 50ms/step - categorical_accuracy: 0.9938 - loss: 0.0145 - val_categorical_accuracy: 0.9665 - val_loss: 0.1881\n",
      "Epoch 226/300\n",
      "\u001b[1m27/27\u001b[0m \u001b[32m━━━━━━━━━━━━━━━━━━━━\u001b[0m\u001b[37m\u001b[0m \u001b[1m1s\u001b[0m 51ms/step - categorical_accuracy: 0.8036 - loss: 0.6743 - val_categorical_accuracy: 0.8517 - val_loss: 0.4513\n",
      "Epoch 227/300\n",
      "\u001b[1m27/27\u001b[0m \u001b[32m━━━━━━━━━━━━━━━━━━━━\u001b[0m\u001b[37m\u001b[0m \u001b[1m1s\u001b[0m 52ms/step - categorical_accuracy: 0.9069 - loss: 0.2759 - val_categorical_accuracy: 0.8278 - val_loss: 0.3940\n",
      "Epoch 228/300\n",
      "\u001b[1m27/27\u001b[0m \u001b[32m━━━━━━━━━━━━━━━━━━━━\u001b[0m\u001b[37m\u001b[0m \u001b[1m1s\u001b[0m 52ms/step - categorical_accuracy: 0.9495 - loss: 0.1425 - val_categorical_accuracy: 0.8852 - val_loss: 0.3231\n",
      "Epoch 229/300\n",
      "\u001b[1m27/27\u001b[0m \u001b[32m━━━━━━━━━━━━━━━━━━━━\u001b[0m\u001b[37m\u001b[0m \u001b[1m1s\u001b[0m 52ms/step - categorical_accuracy: 0.9596 - loss: 0.1136 - val_categorical_accuracy: 0.9378 - val_loss: 0.1803\n",
      "Epoch 230/300\n",
      "\u001b[1m27/27\u001b[0m \u001b[32m━━━━━━━━━━━━━━━━━━━━\u001b[0m\u001b[37m\u001b[0m \u001b[1m1s\u001b[0m 49ms/step - categorical_accuracy: 0.9487 - loss: 0.1302 - val_categorical_accuracy: 0.9474 - val_loss: 0.1440\n",
      "Epoch 231/300\n",
      "\u001b[1m27/27\u001b[0m \u001b[32m━━━━━━━━━━━━━━━━━━━━\u001b[0m\u001b[37m\u001b[0m \u001b[1m1s\u001b[0m 51ms/step - categorical_accuracy: 0.9767 - loss: 0.0719 - val_categorical_accuracy: 0.9043 - val_loss: 0.6960\n",
      "Epoch 232/300\n",
      "\u001b[1m27/27\u001b[0m \u001b[32m━━━━━━━━━━━━━━━━━━━━\u001b[0m\u001b[37m\u001b[0m \u001b[1m1s\u001b[0m 50ms/step - categorical_accuracy: 0.9045 - loss: 0.3885 - val_categorical_accuracy: 0.9282 - val_loss: 0.2245\n",
      "Epoch 233/300\n",
      "\u001b[1m27/27\u001b[0m \u001b[32m━━━━━━━━━━━━━━━━━━━━\u001b[0m\u001b[37m\u001b[0m \u001b[1m1s\u001b[0m 50ms/step - categorical_accuracy: 0.9603 - loss: 0.1181 - val_categorical_accuracy: 0.9617 - val_loss: 0.1248\n",
      "Epoch 234/300\n",
      "\u001b[1m27/27\u001b[0m \u001b[32m━━━━━━━━━━━━━━━━━━━━\u001b[0m\u001b[37m\u001b[0m \u001b[1m1s\u001b[0m 51ms/step - categorical_accuracy: 0.9891 - loss: 0.0465 - val_categorical_accuracy: 0.9713 - val_loss: 0.1156\n",
      "Epoch 235/300\n",
      "\u001b[1m27/27\u001b[0m \u001b[32m━━━━━━━━━━━━━━━━━━━━\u001b[0m\u001b[37m\u001b[0m \u001b[1m1s\u001b[0m 53ms/step - categorical_accuracy: 0.9923 - loss: 0.0306 - val_categorical_accuracy: 0.9617 - val_loss: 0.1174\n",
      "Epoch 236/300\n",
      "\u001b[1m27/27\u001b[0m \u001b[32m━━━━━━━━━━━━━━━━━━━━\u001b[0m\u001b[37m\u001b[0m \u001b[1m1s\u001b[0m 50ms/step - categorical_accuracy: 0.9932 - loss: 0.0226 - val_categorical_accuracy: 0.9761 - val_loss: 0.1064\n",
      "Epoch 237/300\n",
      "\u001b[1m27/27\u001b[0m \u001b[32m━━━━━━━━━━━━━━━━━━━━\u001b[0m\u001b[37m\u001b[0m \u001b[1m1s\u001b[0m 51ms/step - categorical_accuracy: 0.9953 - loss: 0.0182 - val_categorical_accuracy: 0.9761 - val_loss: 0.1149\n",
      "Epoch 238/300\n",
      "\u001b[1m27/27\u001b[0m \u001b[32m━━━━━━━━━━━━━━━━━━━━\u001b[0m\u001b[37m\u001b[0m \u001b[1m1s\u001b[0m 53ms/step - categorical_accuracy: 0.9962 - loss: 0.0165 - val_categorical_accuracy: 0.9713 - val_loss: 0.1265\n",
      "Epoch 239/300\n",
      "\u001b[1m27/27\u001b[0m \u001b[32m━━━━━━━━━━━━━━━━━━━━\u001b[0m\u001b[37m\u001b[0m \u001b[1m1s\u001b[0m 50ms/step - categorical_accuracy: 0.9962 - loss: 0.0140 - val_categorical_accuracy: 0.9569 - val_loss: 0.1275\n",
      "Epoch 240/300\n",
      "\u001b[1m27/27\u001b[0m \u001b[32m━━━━━━━━━━━━━━━━━━━━\u001b[0m\u001b[37m\u001b[0m \u001b[1m1s\u001b[0m 50ms/step - categorical_accuracy: 0.9945 - loss: 0.0138 - val_categorical_accuracy: 0.9761 - val_loss: 0.1246\n",
      "Epoch 241/300\n",
      "\u001b[1m27/27\u001b[0m \u001b[32m━━━━━━━━━━━━━━━━━━━━\u001b[0m\u001b[37m\u001b[0m \u001b[1m1s\u001b[0m 51ms/step - categorical_accuracy: 0.9933 - loss: 0.0132 - val_categorical_accuracy: 0.9665 - val_loss: 0.1310\n",
      "Epoch 242/300\n",
      "\u001b[1m27/27\u001b[0m \u001b[32m━━━━━━━━━━━━━━━━━━━━\u001b[0m\u001b[37m\u001b[0m \u001b[1m1s\u001b[0m 51ms/step - categorical_accuracy: 0.9956 - loss: 0.0114 - val_categorical_accuracy: 0.9713 - val_loss: 0.1305\n",
      "Epoch 243/300\n",
      "\u001b[1m27/27\u001b[0m \u001b[32m━━━━━━━━━━━━━━━━━━━━\u001b[0m\u001b[37m\u001b[0m \u001b[1m1s\u001b[0m 52ms/step - categorical_accuracy: 0.9973 - loss: 0.0100 - val_categorical_accuracy: 0.9665 - val_loss: 0.1333\n",
      "Epoch 244/300\n",
      "\u001b[1m27/27\u001b[0m \u001b[32m━━━━━━━━━━━━━━━━━━━━\u001b[0m\u001b[37m\u001b[0m \u001b[1m1s\u001b[0m 50ms/step - categorical_accuracy: 0.9769 - loss: 0.0871 - val_categorical_accuracy: 0.8804 - val_loss: 0.3335\n",
      "Epoch 245/300\n",
      "\u001b[1m27/27\u001b[0m \u001b[32m━━━━━━━━━━━━━━━━━━━━\u001b[0m\u001b[37m\u001b[0m \u001b[1m1s\u001b[0m 52ms/step - categorical_accuracy: 0.9314 - loss: 0.1748 - val_categorical_accuracy: 0.9665 - val_loss: 0.1128\n",
      "Epoch 246/300\n",
      "\u001b[1m27/27\u001b[0m \u001b[32m━━━━━━━━━━━━━━━━━━━━\u001b[0m\u001b[37m\u001b[0m \u001b[1m1s\u001b[0m 51ms/step - categorical_accuracy: 0.9953 - loss: 0.0317 - val_categorical_accuracy: 0.9713 - val_loss: 0.0889\n",
      "Epoch 247/300\n",
      "\u001b[1m27/27\u001b[0m \u001b[32m━━━━━━━━━━━━━━━━━━━━\u001b[0m\u001b[37m\u001b[0m \u001b[1m1s\u001b[0m 50ms/step - categorical_accuracy: 0.9916 - loss: 0.0204 - val_categorical_accuracy: 0.9665 - val_loss: 0.0970\n",
      "Epoch 248/300\n",
      "\u001b[1m27/27\u001b[0m \u001b[32m━━━━━━━━━━━━━━━━━━━━\u001b[0m\u001b[37m\u001b[0m \u001b[1m1s\u001b[0m 51ms/step - categorical_accuracy: 0.9997 - loss: 0.0113 - val_categorical_accuracy: 0.9761 - val_loss: 0.0902\n",
      "Epoch 249/300\n",
      "\u001b[1m27/27\u001b[0m \u001b[32m━━━━━━━━━━━━━━━━━━━━\u001b[0m\u001b[37m\u001b[0m \u001b[1m1s\u001b[0m 51ms/step - categorical_accuracy: 0.9997 - loss: 0.0080 - val_categorical_accuracy: 0.9713 - val_loss: 0.0949\n",
      "Epoch 250/300\n",
      "\u001b[1m27/27\u001b[0m \u001b[32m━━━━━━━━━━━━━━━━━━━━\u001b[0m\u001b[37m\u001b[0m \u001b[1m1s\u001b[0m 51ms/step - categorical_accuracy: 1.0000 - loss: 0.0064 - val_categorical_accuracy: 0.9713 - val_loss: 0.1015\n",
      "Epoch 251/300\n",
      "\u001b[1m27/27\u001b[0m \u001b[32m━━━━━━━━━━━━━━━━━━━━\u001b[0m\u001b[37m\u001b[0m \u001b[1m1s\u001b[0m 51ms/step - categorical_accuracy: 1.0000 - loss: 0.0054 - val_categorical_accuracy: 0.9713 - val_loss: 0.1015\n",
      "Epoch 252/300\n",
      "\u001b[1m27/27\u001b[0m \u001b[32m━━━━━━━━━━━━━━━━━━━━\u001b[0m\u001b[37m\u001b[0m \u001b[1m1s\u001b[0m 50ms/step - categorical_accuracy: 1.0000 - loss: 0.0046 - val_categorical_accuracy: 0.9713 - val_loss: 0.1091\n",
      "Epoch 253/300\n",
      "\u001b[1m27/27\u001b[0m \u001b[32m━━━━━━━━━━━━━━━━━━━━\u001b[0m\u001b[37m\u001b[0m \u001b[1m1s\u001b[0m 50ms/step - categorical_accuracy: 1.0000 - loss: 0.0041 - val_categorical_accuracy: 0.9713 - val_loss: 0.1063\n",
      "Epoch 254/300\n",
      "\u001b[1m27/27\u001b[0m \u001b[32m━━━━━━━━━━━━━━━━━━━━\u001b[0m\u001b[37m\u001b[0m \u001b[1m1s\u001b[0m 50ms/step - categorical_accuracy: 1.0000 - loss: 0.0039 - val_categorical_accuracy: 0.9713 - val_loss: 0.1070\n",
      "Epoch 255/300\n",
      "\u001b[1m27/27\u001b[0m \u001b[32m━━━━━━━━━━━━━━━━━━━━\u001b[0m\u001b[37m\u001b[0m \u001b[1m1s\u001b[0m 50ms/step - categorical_accuracy: 1.0000 - loss: 0.0029 - val_categorical_accuracy: 0.9665 - val_loss: 0.1098\n",
      "Epoch 256/300\n",
      "\u001b[1m27/27\u001b[0m \u001b[32m━━━━━━━━━━━━━━━━━━━━\u001b[0m\u001b[37m\u001b[0m \u001b[1m1s\u001b[0m 50ms/step - categorical_accuracy: 1.0000 - loss: 0.0024 - val_categorical_accuracy: 0.9665 - val_loss: 0.1106\n",
      "Epoch 257/300\n",
      "\u001b[1m27/27\u001b[0m \u001b[32m━━━━━━━━━━━━━━━━━━━━\u001b[0m\u001b[37m\u001b[0m \u001b[1m1s\u001b[0m 51ms/step - categorical_accuracy: 1.0000 - loss: 0.0021 - val_categorical_accuracy: 0.9665 - val_loss: 0.1121\n",
      "Epoch 258/300\n",
      "\u001b[1m27/27\u001b[0m \u001b[32m━━━━━━━━━━━━━━━━━━━━\u001b[0m\u001b[37m\u001b[0m \u001b[1m1s\u001b[0m 54ms/step - categorical_accuracy: 1.0000 - loss: 0.0019 - val_categorical_accuracy: 0.9713 - val_loss: 0.1125\n",
      "Epoch 259/300\n",
      "\u001b[1m27/27\u001b[0m \u001b[32m━━━━━━━━━━━━━━━━━━━━\u001b[0m\u001b[37m\u001b[0m \u001b[1m1s\u001b[0m 50ms/step - categorical_accuracy: 1.0000 - loss: 0.0017 - val_categorical_accuracy: 0.9713 - val_loss: 0.1131\n",
      "Epoch 260/300\n",
      "\u001b[1m27/27\u001b[0m \u001b[32m━━━━━━━━━━━━━━━━━━━━\u001b[0m\u001b[37m\u001b[0m \u001b[1m1s\u001b[0m 51ms/step - categorical_accuracy: 1.0000 - loss: 0.0016 - val_categorical_accuracy: 0.9665 - val_loss: 0.1146\n",
      "Epoch 261/300\n",
      "\u001b[1m27/27\u001b[0m \u001b[32m━━━━━━━━━━━━━━━━━━━━\u001b[0m\u001b[37m\u001b[0m \u001b[1m1s\u001b[0m 51ms/step - categorical_accuracy: 1.0000 - loss: 0.0013 - val_categorical_accuracy: 0.9713 - val_loss: 0.1166\n",
      "Epoch 262/300\n",
      "\u001b[1m27/27\u001b[0m \u001b[32m━━━━━━━━━━━━━━━━━━━━\u001b[0m\u001b[37m\u001b[0m \u001b[1m1s\u001b[0m 50ms/step - categorical_accuracy: 1.0000 - loss: 0.0012 - val_categorical_accuracy: 0.9713 - val_loss: 0.1162\n",
      "Epoch 263/300\n",
      "\u001b[1m27/27\u001b[0m \u001b[32m━━━━━━━━━━━━━━━━━━━━\u001b[0m\u001b[37m\u001b[0m \u001b[1m1s\u001b[0m 50ms/step - categorical_accuracy: 1.0000 - loss: 0.0011 - val_categorical_accuracy: 0.9713 - val_loss: 0.1172\n",
      "Epoch 264/300\n",
      "\u001b[1m27/27\u001b[0m \u001b[32m━━━━━━━━━━━━━━━━━━━━\u001b[0m\u001b[37m\u001b[0m \u001b[1m1s\u001b[0m 51ms/step - categorical_accuracy: 1.0000 - loss: 0.0010 - val_categorical_accuracy: 0.9713 - val_loss: 0.1176\n",
      "Epoch 265/300\n",
      "\u001b[1m27/27\u001b[0m \u001b[32m━━━━━━━━━━━━━━━━━━━━\u001b[0m\u001b[37m\u001b[0m \u001b[1m1s\u001b[0m 50ms/step - categorical_accuracy: 1.0000 - loss: 9.3835e-04 - val_categorical_accuracy: 0.9713 - val_loss: 0.1185\n",
      "Epoch 266/300\n",
      "\u001b[1m27/27\u001b[0m \u001b[32m━━━━━━━━━━━━━━━━━━━━\u001b[0m\u001b[37m\u001b[0m \u001b[1m1s\u001b[0m 50ms/step - categorical_accuracy: 1.0000 - loss: 8.7943e-04 - val_categorical_accuracy: 0.9713 - val_loss: 0.1198\n",
      "Epoch 267/300\n",
      "\u001b[1m27/27\u001b[0m \u001b[32m━━━━━━━━━━━━━━━━━━━━\u001b[0m\u001b[37m\u001b[0m \u001b[1m1s\u001b[0m 51ms/step - categorical_accuracy: 1.0000 - loss: 8.0472e-04 - val_categorical_accuracy: 0.9713 - val_loss: 0.1199\n",
      "Epoch 268/300\n",
      "\u001b[1m27/27\u001b[0m \u001b[32m━━━━━━━━━━━━━━━━━━━━\u001b[0m\u001b[37m\u001b[0m \u001b[1m1s\u001b[0m 50ms/step - categorical_accuracy: 1.0000 - loss: 7.6796e-04 - val_categorical_accuracy: 0.9713 - val_loss: 0.1205\n",
      "Epoch 269/300\n",
      "\u001b[1m27/27\u001b[0m \u001b[32m━━━━━━━━━━━━━━━━━━━━\u001b[0m\u001b[37m\u001b[0m \u001b[1m1s\u001b[0m 51ms/step - categorical_accuracy: 1.0000 - loss: 6.9832e-04 - val_categorical_accuracy: 0.9713 - val_loss: 0.1208\n",
      "Epoch 270/300\n",
      "\u001b[1m27/27\u001b[0m \u001b[32m━━━━━━━━━━━━━━━━━━━━\u001b[0m\u001b[37m\u001b[0m \u001b[1m1s\u001b[0m 51ms/step - categorical_accuracy: 1.0000 - loss: 6.6070e-04 - val_categorical_accuracy: 0.9713 - val_loss: 0.1228\n",
      "Epoch 271/300\n",
      "\u001b[1m27/27\u001b[0m \u001b[32m━━━━━━━━━━━━━━━━━━━━\u001b[0m\u001b[37m\u001b[0m \u001b[1m1s\u001b[0m 52ms/step - categorical_accuracy: 1.0000 - loss: 6.4102e-04 - val_categorical_accuracy: 0.9665 - val_loss: 0.1181\n",
      "Epoch 272/300\n",
      "\u001b[1m27/27\u001b[0m \u001b[32m━━━━━━━━━━━━━━━━━━━━\u001b[0m\u001b[37m\u001b[0m \u001b[1m1s\u001b[0m 53ms/step - categorical_accuracy: 1.0000 - loss: 9.1139e-04 - val_categorical_accuracy: 0.9665 - val_loss: 0.1236\n",
      "Epoch 273/300\n",
      "\u001b[1m27/27\u001b[0m \u001b[32m━━━━━━━━━━━━━━━━━━━━\u001b[0m\u001b[37m\u001b[0m \u001b[1m1s\u001b[0m 51ms/step - categorical_accuracy: 1.0000 - loss: 0.0022 - val_categorical_accuracy: 0.9378 - val_loss: 0.2672\n",
      "Epoch 274/300\n",
      "\u001b[1m27/27\u001b[0m \u001b[32m━━━━━━━━━━━━━━━━━━━━\u001b[0m\u001b[37m\u001b[0m \u001b[1m1s\u001b[0m 50ms/step - categorical_accuracy: 0.9862 - loss: 0.0759 - val_categorical_accuracy: 0.6842 - val_loss: 2.0234\n",
      "Epoch 275/300\n",
      "\u001b[1m27/27\u001b[0m \u001b[32m━━━━━━━━━━━━━━━━━━━━\u001b[0m\u001b[37m\u001b[0m \u001b[1m1s\u001b[0m 50ms/step - categorical_accuracy: 0.2732 - loss: 2.4438 - val_categorical_accuracy: 0.1914 - val_loss: 2.2555\n",
      "Epoch 276/300\n",
      "\u001b[1m27/27\u001b[0m \u001b[32m━━━━━━━━━━━━━━━━━━━━\u001b[0m\u001b[37m\u001b[0m \u001b[1m1s\u001b[0m 51ms/step - categorical_accuracy: 0.1833 - loss: 2.1284 - val_categorical_accuracy: 0.3158 - val_loss: 1.7128\n",
      "Epoch 277/300\n",
      "\u001b[1m27/27\u001b[0m \u001b[32m━━━━━━━━━━━━━━━━━━━━\u001b[0m\u001b[37m\u001b[0m \u001b[1m1s\u001b[0m 50ms/step - categorical_accuracy: 0.1996 - loss: 3.5389 - val_categorical_accuracy: 0.0478 - val_loss: 2.4430\n",
      "Epoch 278/300\n",
      "\u001b[1m27/27\u001b[0m \u001b[32m━━━━━━━━━━━━━━━━━━━━\u001b[0m\u001b[37m\u001b[0m \u001b[1m1s\u001b[0m 51ms/step - categorical_accuracy: 0.1047 - loss: 20.2531 - val_categorical_accuracy: 0.0813 - val_loss: 2.3189\n",
      "Epoch 279/300\n",
      "\u001b[1m27/27\u001b[0m \u001b[32m━━━━━━━━━━━━━━━━━━━━\u001b[0m\u001b[37m\u001b[0m \u001b[1m1s\u001b[0m 50ms/step - categorical_accuracy: 0.1612 - loss: 2.8353 - val_categorical_accuracy: 0.1483 - val_loss: 2.0623\n",
      "Epoch 280/300\n",
      "\u001b[1m27/27\u001b[0m \u001b[32m━━━━━━━━━━━━━━━━━━━━\u001b[0m\u001b[37m\u001b[0m \u001b[1m1s\u001b[0m 51ms/step - categorical_accuracy: 0.2761 - loss: 1.9906 - val_categorical_accuracy: 0.3541 - val_loss: 2.1247\n",
      "Epoch 281/300\n",
      "\u001b[1m27/27\u001b[0m \u001b[32m━━━━━━━━━━━━━━━━━━━━\u001b[0m\u001b[37m\u001b[0m \u001b[1m1s\u001b[0m 51ms/step - categorical_accuracy: 0.3831 - loss: 1.7667 - val_categorical_accuracy: 0.5072 - val_loss: 1.3703\n",
      "Epoch 282/300\n",
      "\u001b[1m27/27\u001b[0m \u001b[32m━━━━━━━━━━━━━━━━━━━━\u001b[0m\u001b[37m\u001b[0m \u001b[1m1s\u001b[0m 51ms/step - categorical_accuracy: 0.4661 - loss: 1.5900 - val_categorical_accuracy: 0.4115 - val_loss: 1.4300\n",
      "Epoch 283/300\n",
      "\u001b[1m27/27\u001b[0m \u001b[32m━━━━━━━━━━━━━━━━━━━━\u001b[0m\u001b[37m\u001b[0m \u001b[1m1s\u001b[0m 50ms/step - categorical_accuracy: 0.4391 - loss: 1.4147 - val_categorical_accuracy: 0.4833 - val_loss: 1.1162\n",
      "Epoch 284/300\n",
      "\u001b[1m27/27\u001b[0m \u001b[32m━━━━━━━━━━━━━━━━━━━━\u001b[0m\u001b[37m\u001b[0m \u001b[1m1s\u001b[0m 52ms/step - categorical_accuracy: 0.5492 - loss: 1.2076 - val_categorical_accuracy: 0.4880 - val_loss: 1.1295\n",
      "Epoch 285/300\n",
      "\u001b[1m27/27\u001b[0m \u001b[32m━━━━━━━━━━━━━━━━━━━━\u001b[0m\u001b[37m\u001b[0m \u001b[1m1s\u001b[0m 51ms/step - categorical_accuracy: 0.5960 - loss: 1.1264 - val_categorical_accuracy: 0.5455 - val_loss: 1.0520\n",
      "Epoch 286/300\n",
      "\u001b[1m27/27\u001b[0m \u001b[32m━━━━━━━━━━━━━━━━━━━━\u001b[0m\u001b[37m\u001b[0m \u001b[1m1s\u001b[0m 50ms/step - categorical_accuracy: 0.6217 - loss: 1.0443 - val_categorical_accuracy: 0.5598 - val_loss: 0.9859\n",
      "Epoch 287/300\n",
      "\u001b[1m27/27\u001b[0m \u001b[32m━━━━━━━━━━━━━━━━━━━━\u001b[0m\u001b[37m\u001b[0m \u001b[1m1s\u001b[0m 51ms/step - categorical_accuracy: 0.6155 - loss: 0.9459 - val_categorical_accuracy: 0.7033 - val_loss: 0.8091\n",
      "Epoch 288/300\n",
      "\u001b[1m27/27\u001b[0m \u001b[32m━━━━━━━━━━━━━━━━━━━━\u001b[0m\u001b[37m\u001b[0m \u001b[1m1s\u001b[0m 50ms/step - categorical_accuracy: 0.6268 - loss: 0.9572 - val_categorical_accuracy: 0.6746 - val_loss: 0.8294\n",
      "Epoch 289/300\n",
      "\u001b[1m27/27\u001b[0m \u001b[32m━━━━━━━━━━━━━━━━━━━━\u001b[0m\u001b[37m\u001b[0m \u001b[1m1s\u001b[0m 51ms/step - categorical_accuracy: 0.6656 - loss: 0.8578 - val_categorical_accuracy: 0.7177 - val_loss: 0.7366\n",
      "Epoch 290/300\n",
      "\u001b[1m27/27\u001b[0m \u001b[32m━━━━━━━━━━━━━━━━━━━━\u001b[0m\u001b[37m\u001b[0m \u001b[1m1s\u001b[0m 50ms/step - categorical_accuracy: 0.6753 - loss: 0.8325 - val_categorical_accuracy: 0.7368 - val_loss: 0.7220\n",
      "Epoch 291/300\n",
      "\u001b[1m27/27\u001b[0m \u001b[32m━━━━━━━━━━━━━━━━━━━━\u001b[0m\u001b[37m\u001b[0m \u001b[1m1s\u001b[0m 54ms/step - categorical_accuracy: 0.6985 - loss: 0.7766 - val_categorical_accuracy: 0.7512 - val_loss: 0.7085\n",
      "Epoch 292/300\n",
      "\u001b[1m27/27\u001b[0m \u001b[32m━━━━━━━━━━━━━━━━━━━━\u001b[0m\u001b[37m\u001b[0m \u001b[1m1s\u001b[0m 51ms/step - categorical_accuracy: 0.7108 - loss: 0.7419 - val_categorical_accuracy: 0.7416 - val_loss: 0.6844\n",
      "Epoch 293/300\n",
      "\u001b[1m27/27\u001b[0m \u001b[32m━━━━━━━━━━━━━━━━━━━━\u001b[0m\u001b[37m\u001b[0m \u001b[1m1s\u001b[0m 51ms/step - categorical_accuracy: 0.7152 - loss: 0.7217 - val_categorical_accuracy: 0.7321 - val_loss: 0.7322\n",
      "Epoch 294/300\n",
      "\u001b[1m27/27\u001b[0m \u001b[32m━━━━━━━━━━━━━━━━━━━━\u001b[0m\u001b[37m\u001b[0m \u001b[1m1s\u001b[0m 50ms/step - categorical_accuracy: 0.7157 - loss: 0.7096 - val_categorical_accuracy: 0.7656 - val_loss: 0.6291\n",
      "Epoch 295/300\n",
      "\u001b[1m27/27\u001b[0m \u001b[32m━━━━━━━━━━━━━━━━━━━━\u001b[0m\u001b[37m\u001b[0m \u001b[1m1s\u001b[0m 50ms/step - categorical_accuracy: 0.7394 - loss: 0.6292 - val_categorical_accuracy: 0.7416 - val_loss: 0.6747\n",
      "Epoch 296/300\n",
      "\u001b[1m27/27\u001b[0m \u001b[32m━━━━━━━━━━━━━━━━━━━━\u001b[0m\u001b[37m\u001b[0m \u001b[1m1s\u001b[0m 51ms/step - categorical_accuracy: 0.7373 - loss: 0.6499 - val_categorical_accuracy: 0.7560 - val_loss: 0.7161\n",
      "Epoch 297/300\n",
      "\u001b[1m27/27\u001b[0m \u001b[32m━━━━━━━━━━━━━━━━━━━━\u001b[0m\u001b[37m\u001b[0m \u001b[1m1s\u001b[0m 49ms/step - categorical_accuracy: 0.7416 - loss: 0.6338 - val_categorical_accuracy: 0.7273 - val_loss: 0.7194\n",
      "Epoch 298/300\n",
      "\u001b[1m27/27\u001b[0m \u001b[32m━━━━━━━━━━━━━━━━━━━━\u001b[0m\u001b[37m\u001b[0m \u001b[1m1s\u001b[0m 50ms/step - categorical_accuracy: 0.7345 - loss: 0.6080 - val_categorical_accuracy: 0.6890 - val_loss: 0.7486\n",
      "Epoch 299/300\n",
      "\u001b[1m27/27\u001b[0m \u001b[32m━━━━━━━━━━━━━━━━━━━━\u001b[0m\u001b[37m\u001b[0m \u001b[1m1s\u001b[0m 50ms/step - categorical_accuracy: 0.7456 - loss: 0.5993 - val_categorical_accuracy: 0.7608 - val_loss: 0.6596\n",
      "Epoch 300/300\n",
      "\u001b[1m27/27\u001b[0m \u001b[32m━━━━━━━━━━━━━━━━━━━━\u001b[0m\u001b[37m\u001b[0m \u001b[1m1s\u001b[0m 54ms/step - categorical_accuracy: 0.7718 - loss: 0.6044 - val_categorical_accuracy: 0.7895 - val_loss: 0.6080\n"
     ]
    }
   ],
   "source": [
    "LSTM_model_history = LSTM_model.fit(X_train , y_train , epochs = 300 , validation_split= 0.2)"
   ]
  },
  {
   "cell_type": "markdown",
   "metadata": {},
   "source": [
    "Visualizing the outcomes"
   ]
  },
  {
   "cell_type": "code",
   "execution_count": 26,
   "metadata": {},
   "outputs": [
    {
     "data": {
      "text/plain": [
       "<matplotlib.legend.Legend at 0x19255c72d20>"
      ]
     },
     "execution_count": 26,
     "metadata": {},
     "output_type": "execute_result"
    },
    {
     "data": {
      "image/png": "[encoded data removed]",
      "text/plain": [
       "<Figure size 640x480 with 1 Axes>"
      ]
     },
     "metadata": {},
     "output_type": "display_data"
    }
   ],
   "source": [
    "plt.plot(LSTM_model_history.history['categorical_accuracy'] , label = 'training accuracy')\n",
    "plt.plot(LSTM_model_history.history['val_categorical_accuracy'] , label = 'Validation accuracy')\n",
    "plt.legend(loc ='lower right')"
   ]
  },
  {
   "cell_type": "code",
   "execution_count": 27,
   "metadata": {},
   "outputs": [
    {
     "data": {
      "text/plain": [
       "<matplotlib.legend.Legend at 0x193352d8c80>"
      ]
     },
     "execution_count": 27,
     "metadata": {},
     "output_type": "execute_result"
    },
    {
     "data": {
      "image/png": "[encoded data removed]",
      "text/plain": [
       "<Figure size 640x480 with 1 Axes>"
      ]
     },
     "metadata": {},
     "output_type": "display_data"
    }
   ],
   "source": [
    "plt.plot(LSTM_model_history.history['loss'] , label = 'Training Loss')\n",
    "plt.plot(LSTM_model_history.history['val_loss'] , label = 'Validation Loss')\n",
    "plt.legend(loc = 'upper right')"
   ]
  },
  {
   "cell_type": "code",
   "execution_count": 28,
   "metadata": {},
   "outputs": [
    {
     "name": "stdout",
     "output_type": "stream",
     "text": [
      "\u001b[1m2/2\u001b[0m \u001b[32m━━━━━━━━━━━━━━━━━━━━\u001b[0m\u001b[37m\u001b[0m \u001b[1m0s\u001b[0m 29ms/step - categorical_accuracy: 0.6898 - loss: 0.7380\n"
     ]
    },
    {
     "data": {
      "text/plain": [
       "[0.7438979148864746, 0.6909090876579285]"
      ]
     },
     "execution_count": 28,
     "metadata": {},
     "output_type": "execute_result"
    }
   ],
   "source": [
    "LSTM_model.evaluate(X_test , y_test , verbose = 1)"
   ]
  },
  {
   "cell_type": "markdown",
   "metadata": {},
   "source": [
    "#### 3. Predicting Results"
   ]
  },
  {
   "cell_type": "code",
   "execution_count": 29,
   "metadata": {},
   "outputs": [
    {
     "name": "stdout",
     "output_type": "stream",
     "text": [
      "\u001b[1m2/2\u001b[0m \u001b[32m━━━━━━━━━━━━━━━━━━━━\u001b[0m\u001b[37m\u001b[0m \u001b[1m11s\u001b[0m 334ms/step\n"
     ]
    }
   ],
   "source": [
    "predictions = LSTM_model.predict(X_test)"
   ]
  },
  {
   "cell_type": "code",
   "execution_count": 30,
   "metadata": {},
   "outputs": [
    {
     "data": {
      "text/plain": [
       "array([1.6710780e-03, 1.6401605e-04, 2.7900510e-03, 5.5031735e-05,\n",
       "       1.2685429e-07, 2.1369013e-01, 9.1313496e-02, 1.8008593e-07,\n",
       "       1.8197130e-06, 4.7738286e-04, 6.8983668e-01], dtype=float32)"
      ]
     },
     "execution_count": 30,
     "metadata": {},
     "output_type": "execute_result"
    }
   ],
   "source": [
    "predictions[0]"
   ]
  },
  {
   "cell_type": "code",
   "execution_count": 31,
   "metadata": {},
   "outputs": [
    {
     "data": {
      "text/plain": [
       "'I'"
      ]
     },
     "execution_count": 31,
     "metadata": {},
     "output_type": "execute_result"
    }
   ],
   "source": [
    "actions[np.argmax(predictions[0])]"
   ]
  },
  {
   "cell_type": "code",
   "execution_count": 32,
   "metadata": {},
   "outputs": [
    {
     "data": {
      "text/plain": [
       "'I'"
      ]
     },
     "execution_count": 32,
     "metadata": {},
     "output_type": "execute_result"
    }
   ],
   "source": [
    "actions[np.argmax(y_test[0])]"
   ]
  },
  {
   "cell_type": "code",
   "execution_count": 33,
   "metadata": {},
   "outputs": [],
   "source": [
    "results , actual = [] , []\n",
    "\n",
    "for result in predictions:\n",
    "  \n",
    "  outcome = actions[np.argmax(result)]\n",
    "\n",
    "  results.append(outcome)\n",
    "  \n",
    "\n",
    "for i in range(len(y_test)):\n",
    "\n",
    "  act_out = actions[np.argmax(y_test[i])] \n",
    "\n",
    "  actual.append(act_out)\n"
   ]
  },
  {
   "cell_type": "code",
   "execution_count": 34,
   "metadata": {},
   "outputs": [
    {
     "data": {
      "text/plain": [
       "['I',\n",
       " 'I am',\n",
       " 'I am',\n",
       " 'hello',\n",
       " 'I am',\n",
       " 'hello',\n",
       " 'I am',\n",
       " 'Name',\n",
       " 'I',\n",
       " 'Name',\n",
       " 'Nice',\n",
       " 'thankyou',\n",
       " 'Name',\n",
       " 'I',\n",
       " 'Meet',\n",
       " 'Fine',\n",
       " 'I',\n",
       " 'hello',\n",
       " 'sorry',\n",
       " 'hello',\n",
       " 'Fine',\n",
       " 'I',\n",
       " 'hello',\n",
       " 'Fine',\n",
       " 'sorry',\n",
       " 'I am',\n",
       " 'Name',\n",
       " 'I am',\n",
       " 'I',\n",
       " 'I',\n",
       " 'Meet',\n",
       " 'I',\n",
       " 'I am',\n",
       " 'Name',\n",
       " 'sorry',\n",
       " 'Name',\n",
       " 'thankyou',\n",
       " 'sorry',\n",
       " 'Fine',\n",
       " 'I am',\n",
       " 'I',\n",
       " 'Name',\n",
       " 'I am',\n",
       " 'I am',\n",
       " 'Name',\n",
       " 'I',\n",
       " 'thankyou',\n",
       " 'Meet',\n",
       " 'I am',\n",
       " 'I',\n",
       " 'I am',\n",
       " 'sorry',\n",
       " 'Nice',\n",
       " 'Nice',\n",
       " 'I am']"
      ]
     },
     "execution_count": 34,
     "metadata": {},
     "output_type": "execute_result"
    }
   ],
   "source": [
    "results"
   ]
  },
  {
   "cell_type": "code",
   "execution_count": 35,
   "metadata": {},
   "outputs": [
    {
     "data": {
      "text/plain": [
       "['I',\n",
       " 'sorry',\n",
       " 'My',\n",
       " 'hello',\n",
       " 'My',\n",
       " 'hello',\n",
       " 'My',\n",
       " 'Nice',\n",
       " 'You',\n",
       " 'Name',\n",
       " 'Nice',\n",
       " 'thankyou',\n",
       " 'Name',\n",
       " 'I',\n",
       " 'Meet',\n",
       " 'Fine',\n",
       " 'I',\n",
       " 'hello',\n",
       " 'sorry',\n",
       " 'hello',\n",
       " 'Fine',\n",
       " 'I',\n",
       " 'hello',\n",
       " 'I am',\n",
       " 'Meet',\n",
       " 'I am',\n",
       " 'Meet',\n",
       " 'sorry',\n",
       " 'I',\n",
       " 'I',\n",
       " 'Meet',\n",
       " 'I',\n",
       " 'I am',\n",
       " 'Name',\n",
       " 'Name',\n",
       " 'Name',\n",
       " 'thankyou',\n",
       " 'Meet',\n",
       " 'Fine',\n",
       " 'I am',\n",
       " 'You',\n",
       " 'Nice',\n",
       " 'My',\n",
       " 'Fine',\n",
       " 'Name',\n",
       " 'I',\n",
       " 'thankyou',\n",
       " 'Meet',\n",
       " 'I am',\n",
       " 'I',\n",
       " 'I am',\n",
       " 'sorry',\n",
       " 'Nice',\n",
       " 'Nice',\n",
       " 'sorry']"
      ]
     },
     "execution_count": 35,
     "metadata": {},
     "output_type": "execute_result"
    }
   ],
   "source": [
    "actual"
   ]
  },
  {
   "cell_type": "code",
   "execution_count": 36,
   "metadata": {},
   "outputs": [
    {
     "data": {
      "text/plain": [
       "list"
      ]
     },
     "execution_count": 36,
     "metadata": {},
     "output_type": "execute_result"
    }
   ],
   "source": [
    "type(results)"
   ]
  },
  {
   "cell_type": "code",
   "execution_count": 37,
   "metadata": {},
   "outputs": [],
   "source": [
    "comparision_df = pd.DataFrame({'y_true' : actual , 'y_pred': results})"
   ]
  },
  {
   "cell_type": "code",
   "execution_count": 38,
   "metadata": {},
   "outputs": [
    {
     "data": {
      "text/html": [
       "<div>\n",
       "<style scoped>\n",
       "    .dataframe tbody tr th:only-of-type {\n",
       "        vertical-align: middle;\n",
       "    }\n",
       "\n",
       "    .dataframe tbody tr th {\n",
       "        vertical-align: top;\n",
       "    }\n",
       "\n",
       "    .dataframe thead th {\n",
       "        text-align: right;\n",
       "    }\n",
       "</style>\n",
       "<table border=\"1\" class=\"dataframe\">\n",
       "  <thead>\n",
       "    <tr style=\"text-align: right;\">\n",
       "      <th></th>\n",
       "      <th>y_true</th>\n",
       "      <th>y_pred</th>\n",
       "    </tr>\n",
       "  </thead>\n",
       "  <tbody>\n",
       "    <tr>\n",
       "      <th>0</th>\n",
       "      <td>I</td>\n",
       "      <td>I</td>\n",
       "    </tr>\n",
       "    <tr>\n",
       "      <th>1</th>\n",
       "      <td>sorry</td>\n",
       "      <td>I am</td>\n",
       "    </tr>\n",
       "    <tr>\n",
       "      <th>2</th>\n",
       "      <td>My</td>\n",
       "      <td>I am</td>\n",
       "    </tr>\n",
       "    <tr>\n",
       "      <th>3</th>\n",
       "      <td>hello</td>\n",
       "      <td>hello</td>\n",
       "    </tr>\n",
       "    <tr>\n",
       "      <th>4</th>\n",
       "      <td>My</td>\n",
       "      <td>I am</td>\n",
       "    </tr>\n",
       "    <tr>\n",
       "      <th>5</th>\n",
       "      <td>hello</td>\n",
       "      <td>hello</td>\n",
       "    </tr>\n",
       "    <tr>\n",
       "      <th>6</th>\n",
       "      <td>My</td>\n",
       "      <td>I am</td>\n",
       "    </tr>\n",
       "    <tr>\n",
       "      <th>7</th>\n",
       "      <td>Nice</td>\n",
       "      <td>Name</td>\n",
       "    </tr>\n",
       "    <tr>\n",
       "      <th>8</th>\n",
       "      <td>You</td>\n",
       "      <td>I</td>\n",
       "    </tr>\n",
       "    <tr>\n",
       "      <th>9</th>\n",
       "      <td>Name</td>\n",
       "      <td>Name</td>\n",
       "    </tr>\n",
       "    <tr>\n",
       "      <th>10</th>\n",
       "      <td>Nice</td>\n",
       "      <td>Nice</td>\n",
       "    </tr>\n",
       "    <tr>\n",
       "      <th>11</th>\n",
       "      <td>thankyou</td>\n",
       "      <td>thankyou</td>\n",
       "    </tr>\n",
       "    <tr>\n",
       "      <th>12</th>\n",
       "      <td>Name</td>\n",
       "      <td>Name</td>\n",
       "    </tr>\n",
       "    <tr>\n",
       "      <th>13</th>\n",
       "      <td>I</td>\n",
       "      <td>I</td>\n",
       "    </tr>\n",
       "    <tr>\n",
       "      <th>14</th>\n",
       "      <td>Meet</td>\n",
       "      <td>Meet</td>\n",
       "    </tr>\n",
       "    <tr>\n",
       "      <th>15</th>\n",
       "      <td>Fine</td>\n",
       "      <td>Fine</td>\n",
       "    </tr>\n",
       "    <tr>\n",
       "      <th>16</th>\n",
       "      <td>I</td>\n",
       "      <td>I</td>\n",
       "    </tr>\n",
       "    <tr>\n",
       "      <th>17</th>\n",
       "      <td>hello</td>\n",
       "      <td>hello</td>\n",
       "    </tr>\n",
       "    <tr>\n",
       "      <th>18</th>\n",
       "      <td>sorry</td>\n",
       "      <td>sorry</td>\n",
       "    </tr>\n",
       "    <tr>\n",
       "      <th>19</th>\n",
       "      <td>hello</td>\n",
       "      <td>hello</td>\n",
       "    </tr>\n",
       "    <tr>\n",
       "      <th>20</th>\n",
       "      <td>Fine</td>\n",
       "      <td>Fine</td>\n",
       "    </tr>\n",
       "    <tr>\n",
       "      <th>21</th>\n",
       "      <td>I</td>\n",
       "      <td>I</td>\n",
       "    </tr>\n",
       "    <tr>\n",
       "      <th>22</th>\n",
       "      <td>hello</td>\n",
       "      <td>hello</td>\n",
       "    </tr>\n",
       "    <tr>\n",
       "      <th>23</th>\n",
       "      <td>I am</td>\n",
       "      <td>Fine</td>\n",
       "    </tr>\n",
       "    <tr>\n",
       "      <th>24</th>\n",
       "      <td>Meet</td>\n",
       "      <td>sorry</td>\n",
       "    </tr>\n",
       "    <tr>\n",
       "      <th>25</th>\n",
       "      <td>I am</td>\n",
       "      <td>I am</td>\n",
       "    </tr>\n",
       "    <tr>\n",
       "      <th>26</th>\n",
       "      <td>Meet</td>\n",
       "      <td>Name</td>\n",
       "    </tr>\n",
       "    <tr>\n",
       "      <th>27</th>\n",
       "      <td>sorry</td>\n",
       "      <td>I am</td>\n",
       "    </tr>\n",
       "    <tr>\n",
       "      <th>28</th>\n",
       "      <td>I</td>\n",
       "      <td>I</td>\n",
       "    </tr>\n",
       "    <tr>\n",
       "      <th>29</th>\n",
       "      <td>I</td>\n",
       "      <td>I</td>\n",
       "    </tr>\n",
       "    <tr>\n",
       "      <th>30</th>\n",
       "      <td>Meet</td>\n",
       "      <td>Meet</td>\n",
       "    </tr>\n",
       "    <tr>\n",
       "      <th>31</th>\n",
       "      <td>I</td>\n",
       "      <td>I</td>\n",
       "    </tr>\n",
       "    <tr>\n",
       "      <th>32</th>\n",
       "      <td>I am</td>\n",
       "      <td>I am</td>\n",
       "    </tr>\n",
       "    <tr>\n",
       "      <th>33</th>\n",
       "      <td>Name</td>\n",
       "      <td>Name</td>\n",
       "    </tr>\n",
       "    <tr>\n",
       "      <th>34</th>\n",
       "      <td>Name</td>\n",
       "      <td>sorry</td>\n",
       "    </tr>\n",
       "    <tr>\n",
       "      <th>35</th>\n",
       "      <td>Name</td>\n",
       "      <td>Name</td>\n",
       "    </tr>\n",
       "    <tr>\n",
       "      <th>36</th>\n",
       "      <td>thankyou</td>\n",
       "      <td>thankyou</td>\n",
       "    </tr>\n",
       "    <tr>\n",
       "      <th>37</th>\n",
       "      <td>Meet</td>\n",
       "      <td>sorry</td>\n",
       "    </tr>\n",
       "    <tr>\n",
       "      <th>38</th>\n",
       "      <td>Fine</td>\n",
       "      <td>Fine</td>\n",
       "    </tr>\n",
       "    <tr>\n",
       "      <th>39</th>\n",
       "      <td>I am</td>\n",
       "      <td>I am</td>\n",
       "    </tr>\n",
       "    <tr>\n",
       "      <th>40</th>\n",
       "      <td>You</td>\n",
       "      <td>I</td>\n",
       "    </tr>\n",
       "    <tr>\n",
       "      <th>41</th>\n",
       "      <td>Nice</td>\n",
       "      <td>Name</td>\n",
       "    </tr>\n",
       "    <tr>\n",
       "      <th>42</th>\n",
       "      <td>My</td>\n",
       "      <td>I am</td>\n",
       "    </tr>\n",
       "    <tr>\n",
       "      <th>43</th>\n",
       "      <td>Fine</td>\n",
       "      <td>I am</td>\n",
       "    </tr>\n",
       "    <tr>\n",
       "      <th>44</th>\n",
       "      <td>Name</td>\n",
       "      <td>Name</td>\n",
       "    </tr>\n",
       "    <tr>\n",
       "      <th>45</th>\n",
       "      <td>I</td>\n",
       "      <td>I</td>\n",
       "    </tr>\n",
       "    <tr>\n",
       "      <th>46</th>\n",
       "      <td>thankyou</td>\n",
       "      <td>thankyou</td>\n",
       "    </tr>\n",
       "    <tr>\n",
       "      <th>47</th>\n",
       "      <td>Meet</td>\n",
       "      <td>Meet</td>\n",
       "    </tr>\n",
       "    <tr>\n",
       "      <th>48</th>\n",
       "      <td>I am</td>\n",
       "      <td>I am</td>\n",
       "    </tr>\n",
       "    <tr>\n",
       "      <th>49</th>\n",
       "      <td>I</td>\n",
       "      <td>I</td>\n",
       "    </tr>\n",
       "    <tr>\n",
       "      <th>50</th>\n",
       "      <td>I am</td>\n",
       "      <td>I am</td>\n",
       "    </tr>\n",
       "    <tr>\n",
       "      <th>51</th>\n",
       "      <td>sorry</td>\n",
       "      <td>sorry</td>\n",
       "    </tr>\n",
       "    <tr>\n",
       "      <th>52</th>\n",
       "      <td>Nice</td>\n",
       "      <td>Nice</td>\n",
       "    </tr>\n",
       "    <tr>\n",
       "      <th>53</th>\n",
       "      <td>Nice</td>\n",
       "      <td>Nice</td>\n",
       "    </tr>\n",
       "    <tr>\n",
       "      <th>54</th>\n",
       "      <td>sorry</td>\n",
       "      <td>I am</td>\n",
       "    </tr>\n",
       "  </tbody>\n",
       "</table>\n",
       "</div>"
      ],
      "text/plain": [
       "      y_true    y_pred\n",
       "0          I         I\n",
       "1      sorry      I am\n",
       "2         My      I am\n",
       "3      hello     hello\n",
       "4         My      I am\n",
       "5      hello     hello\n",
       "6         My      I am\n",
       "7       Nice      Name\n",
       "8        You         I\n",
       "9       Name      Name\n",
       "10      Nice      Nice\n",
       "11  thankyou  thankyou\n",
       "12      Name      Name\n",
       "13         I         I\n",
       "14      Meet      Meet\n",
       "15      Fine      Fine\n",
       "16         I         I\n",
       "17     hello     hello\n",
       "18     sorry     sorry\n",
       "19     hello     hello\n",
       "20      Fine      Fine\n",
       "21         I         I\n",
       "22     hello     hello\n",
       "23      I am      Fine\n",
       "24      Meet     sorry\n",
       "25      I am      I am\n",
       "26      Meet      Name\n",
       "27     sorry      I am\n",
       "28         I         I\n",
       "29         I         I\n",
       "30      Meet      Meet\n",
       "31         I         I\n",
       "32      I am      I am\n",
       "33      Name      Name\n",
       "34      Name     sorry\n",
       "35      Name      Name\n",
       "36  thankyou  thankyou\n",
       "37      Meet     sorry\n",
       "38      Fine      Fine\n",
       "39      I am      I am\n",
       "40       You         I\n",
       "41      Nice      Name\n",
       "42        My      I am\n",
       "43      Fine      I am\n",
       "44      Name      Name\n",
       "45         I         I\n",
       "46  thankyou  thankyou\n",
       "47      Meet      Meet\n",
       "48      I am      I am\n",
       "49         I         I\n",
       "50      I am      I am\n",
       "51     sorry     sorry\n",
       "52      Nice      Nice\n",
       "53      Nice      Nice\n",
       "54     sorry      I am"
      ]
     },
     "execution_count": 38,
     "metadata": {},
     "output_type": "execute_result"
    }
   ],
   "source": [
    "comparision_df"
   ]
  },
  {
   "cell_type": "markdown",
   "metadata": {},
   "source": [
    "#### 4. Saving the model Weights"
   ]
  },
  {
   "cell_type": "code",
   "execution_count": 39,
   "metadata": {},
   "outputs": [],
   "source": [
    "with open('LSTM_model' , 'wb') as file:\n",
    "  pickle.dump(LSTM_model , file)"
   ]
  },
  {
   "cell_type": "markdown",
   "metadata": {},
   "source": [
    "#### 5.Evaluation using Confusion Matrix and accuracy"
   ]
  },
  {
   "cell_type": "code",
   "execution_count": 40,
   "metadata": {},
   "outputs": [
    {
     "name": "stdout",
     "output_type": "stream",
     "text": [
      "\u001b[1m2/2\u001b[0m \u001b[32m━━━━━━━━━━━━━━━━━━━━\u001b[0m\u001b[37m\u001b[0m \u001b[1m0s\u001b[0m 13ms/step\n"
     ]
    }
   ],
   "source": [
    "y_hat = LSTM_model.predict(X_test)"
   ]
  },
  {
   "cell_type": "code",
   "execution_count": 41,
   "metadata": {},
   "outputs": [
    {
     "data": {
      "text/plain": [
       "array([[1.67107803e-03, 1.64016048e-04, 2.79005105e-03, 5.50317345e-05,\n",
       "        1.26854289e-07, 2.13690132e-01, 9.13134962e-02, 1.80085934e-07,\n",
       "        1.81971302e-06, 4.77382855e-04, 6.89836681e-01],\n",
       "       [1.03536338e-04, 1.33017485e-03, 1.08927919e-03, 2.79845297e-01,\n",
       "        4.44644189e-04, 3.32020409e-02, 3.55582237e-01, 7.85954355e-04,\n",
       "        3.38021875e-03, 3.06699097e-01, 1.75374988e-02],\n",
       "       [4.81032243e-04, 7.25572277e-03, 2.94268489e-01, 2.79876083e-04,\n",
       "        2.79026182e-07, 9.40888673e-02, 5.54739535e-01, 2.51852180e-06,\n",
       "        1.68319908e-04, 3.05361697e-03, 4.56617214e-02],\n",
       "       [9.99998331e-01, 4.59751844e-19, 6.25144576e-13, 1.18615677e-36,\n",
       "        1.09249230e-37, 1.70468047e-06, 3.03183758e-12, 6.17248264e-38,\n",
       "        1.31279846e-24, 7.35177971e-33, 3.44715940e-16],\n",
       "       [2.09698759e-04, 4.70455177e-03, 6.57400861e-02, 2.16321065e-03,\n",
       "        5.64444508e-06, 1.23379655e-01, 5.53072572e-01, 2.20635811e-05,\n",
       "        1.13319384e-03, 1.86840817e-01, 6.27284199e-02],\n",
       "       [9.99999046e-01, 1.88276389e-19, 3.43509726e-13, 1.43504756e-37,\n",
       "        0.00000000e+00, 9.40689517e-07, 1.22339107e-12, 0.00000000e+00,\n",
       "        5.28548590e-25, 1.50686006e-33, 9.25602797e-17],\n",
       "       [1.23412546e-03, 2.63403612e-03, 5.78657798e-02, 5.00536524e-04,\n",
       "        1.58235355e-06, 2.06964597e-01, 4.32750732e-01, 5.65229038e-06,\n",
       "        1.32791349e-04, 1.24402484e-02, 2.85469890e-01],\n",
       "       [1.96756300e-09, 3.78887379e-03, 2.00305816e-09, 4.77186550e-04,\n",
       "        7.64434338e-01, 5.73969601e-08, 1.85175833e-10, 2.17855856e-01,\n",
       "        6.61066361e-03, 7.50317083e-12, 6.83297962e-03],\n",
       "       [4.70187375e-03, 3.31338269e-05, 9.13125055e-04, 2.06714276e-06,\n",
       "        2.94829894e-09, 4.64896381e-01, 5.02565391e-02, 2.68338707e-09,\n",
       "        1.03161859e-07, 1.57984268e-05, 4.79181021e-01],\n",
       "       [4.61961164e-10, 1.53265859e-03, 5.08437648e-09, 5.18254674e-05,\n",
       "        6.73578322e-01, 1.37813370e-08, 2.71662526e-10, 3.18950266e-01,\n",
       "        2.25720205e-03, 1.73078023e-12, 3.62963369e-03],\n",
       "       [8.19062318e-11, 3.11633834e-04, 3.26260974e-09, 2.34644049e-05,\n",
       "        2.84912348e-01, 1.62719282e-09, 8.74722239e-11, 7.11679697e-01,\n",
       "        1.37070252e-04, 7.19844242e-14, 2.93572783e-03],\n",
       "       [3.12196931e-07, 9.98958826e-01, 1.72957196e-04, 4.72437765e-04,\n",
       "        2.56554922e-04, 1.53406943e-09, 3.90311422e-10, 2.58825512e-05,\n",
       "        1.12823836e-04, 1.70498988e-12, 1.13436052e-07],\n",
       "       [5.11953695e-05, 1.62053499e-02, 2.37990698e-05, 1.45188004e-01,\n",
       "        5.87076545e-01, 1.13141618e-03, 4.97111978e-05, 1.29579917e-01,\n",
       "        8.99589583e-02, 2.67328396e-05, 3.07083316e-02],\n",
       "       [3.25102569e-03, 7.86894583e-04, 2.16836249e-03, 4.52246796e-03,\n",
       "        5.21044567e-05, 1.38383269e-01, 5.98871820e-02, 2.54085098e-05,\n",
       "        6.53136376e-05, 1.06678987e-02, 7.80190051e-01],\n",
       "       [6.78403694e-07, 1.22309476e-02, 4.38357893e-06, 1.16610199e-01,\n",
       "        1.67774409e-02, 3.27570051e-05, 1.51410381e-06, 5.79312071e-03,\n",
       "        8.47712934e-01, 7.30200045e-05, 7.63068558e-04],\n",
       "       [2.32125622e-05, 1.06436945e-03, 1.87386631e-03, 3.01836878e-02,\n",
       "        3.09140196e-05, 2.66947411e-02, 3.91378224e-01, 7.94866064e-05,\n",
       "        2.72093224e-03, 5.42056322e-01, 3.89416097e-03],\n",
       "       [1.77113863e-03, 7.04393780e-04, 2.43784883e-03, 4.20229277e-03,\n",
       "        3.11067270e-05, 1.08553566e-01, 7.96406940e-02, 2.14315151e-05,\n",
       "        5.08441735e-05, 1.42264254e-02, 7.88360238e-01],\n",
       "       [9.91132200e-01, 3.56356777e-10, 6.20137234e-06, 1.29568912e-19,\n",
       "        1.30582021e-21, 8.84648040e-03, 1.49482812e-05, 2.93581525e-21,\n",
       "        2.46784574e-14, 7.50354393e-18, 7.80356402e-08],\n",
       "       [4.33208697e-05, 4.37841099e-03, 7.45449433e-05, 8.07093740e-01,\n",
       "        3.22703049e-02, 6.21166080e-03, 2.45984923e-03, 1.72388367e-02,\n",
       "        1.12608261e-01, 7.16165593e-03, 1.04594193e-02],\n",
       "       [9.99972463e-01, 4.12692531e-16, 1.06435825e-10, 5.34638717e-31,\n",
       "        2.77732023e-32, 2.75301227e-05, 3.79127535e-10, 2.52947341e-32,\n",
       "        3.30220881e-21, 4.52520496e-28, 1.68839010e-13],\n",
       "       [2.81283166e-04, 1.70578645e-03, 2.27749022e-03, 9.38759446e-02,\n",
       "        4.38412360e-04, 4.20513786e-02, 3.83771181e-01, 6.18926890e-04,\n",
       "        2.98831984e-03, 4.35982645e-01, 3.60085741e-02],\n",
       "       [3.49487108e-03, 4.93770093e-03, 7.05161737e-03, 6.89452514e-02,\n",
       "        9.33416246e-04, 8.81007463e-02, 2.33064353e-01, 8.41987203e-04,\n",
       "        1.28582260e-03, 1.45397842e-01, 4.45946366e-01],\n",
       "       [9.94869709e-01, 4.39445598e-11, 1.56880913e-06, 2.19393704e-21,\n",
       "        1.76427542e-23, 5.12425276e-03, 4.43156068e-06, 4.16553236e-23,\n",
       "        1.36021495e-15, 1.69066877e-19, 1.37240015e-08],\n",
       "       [3.60534796e-05, 1.20733853e-03, 2.31116661e-03, 2.78444458e-02,\n",
       "        4.31027838e-05, 2.92868037e-02, 3.90471309e-01, 1.05443069e-04,\n",
       "        2.87679723e-03, 5.40185809e-01, 5.63172437e-03],\n",
       "       [4.58992008e-06, 1.06213465e-02, 1.77201800e-05, 5.49543083e-01,\n",
       "        4.10282202e-02, 5.05053787e-04, 5.87878567e-05, 1.26847867e-02,\n",
       "        3.82302314e-01, 4.84756369e-04, 2.74932082e-03],\n",
       "       [2.02517869e-04, 4.29316657e-03, 5.25030717e-02, 3.59509233e-03,\n",
       "        4.75635261e-06, 1.36321291e-01, 5.98032057e-01, 1.73545322e-05,\n",
       "        5.27860771e-04, 1.07256472e-01, 9.72464234e-02],\n",
       "       [7.44027420e-06, 3.16749662e-02, 5.79685684e-06, 2.41634235e-01,\n",
       "        4.23091799e-01, 1.72559274e-04, 3.81652535e-06, 7.09217340e-02,\n",
       "        2.22449705e-01, 6.84883298e-06, 1.00311525e-02],\n",
       "       [3.46179324e-04, 1.93176325e-03, 4.29303246e-03, 6.27412722e-02,\n",
       "        1.18635748e-04, 9.65928584e-02, 5.45597255e-01, 2.05198870e-04,\n",
       "        7.55686779e-04, 1.57943025e-01, 1.29475147e-01],\n",
       "       [1.60483783e-03, 1.20399352e-04, 2.25074636e-03, 3.24104549e-05,\n",
       "        5.90515263e-08, 2.23475575e-01, 8.36691335e-02, 8.31733686e-08,\n",
       "        9.89995556e-07, 2.81211309e-04, 6.88564599e-01],\n",
       "       [1.44208886e-03, 1.46213060e-04, 1.91409141e-03, 8.93955585e-05,\n",
       "        2.37333694e-07, 1.96556717e-01, 7.60710239e-02, 2.64937626e-07,\n",
       "        2.13286216e-06, 7.38531526e-04, 7.23039389e-01],\n",
       "       [8.48354262e-07, 1.13480417e-02, 4.21475306e-05, 5.17231449e-02,\n",
       "        1.89304724e-03, 2.39478220e-04, 5.59663749e-05, 9.32207331e-04,\n",
       "        9.29572999e-01, 3.89045337e-03, 3.01619701e-04],\n",
       "       [4.61015943e-03, 4.90016770e-03, 6.94860751e-03, 6.62048981e-02,\n",
       "        1.16045715e-03, 9.16655809e-02, 1.89128533e-01, 9.19587153e-04,\n",
       "        1.22614705e-03, 1.13421246e-01, 5.19814610e-01],\n",
       "       [1.42595882e-03, 3.59131023e-03, 7.40925316e-03, 3.38489935e-02,\n",
       "        2.26989156e-04, 9.79755819e-02, 3.38048726e-01, 2.93284451e-04,\n",
       "        8.28050426e-04, 1.83258489e-01, 3.33093286e-01],\n",
       "       [1.57985687e-05, 1.14455083e-02, 9.73836723e-06, 4.81931791e-02,\n",
       "        6.82124317e-01, 4.11906658e-04, 1.32827336e-05, 1.15419827e-01,\n",
       "        1.24886297e-01, 7.06261244e-06, 1.74731072e-02],\n",
       "       [1.47543280e-04, 2.26948168e-02, 5.98453371e-05, 5.30924439e-01,\n",
       "        2.80513167e-01, 1.69967825e-03, 2.45065952e-04, 7.80897737e-02,\n",
       "        3.63816768e-02, 6.84390543e-05, 4.91755232e-02],\n",
       "       [1.88273339e-06, 8.20376165e-03, 1.04946230e-06, 1.43556967e-02,\n",
       "        8.31374347e-01, 4.48520550e-05, 6.11632913e-07, 9.43339467e-02,\n",
       "        3.71131971e-02, 1.78538841e-07, 1.45704029e-02],\n",
       "       [3.00480151e-05, 8.96573782e-01, 1.03078693e-01, 7.12524125e-05,\n",
       "        1.43405191e-06, 1.98974732e-07, 2.26654507e-07, 9.67641245e-06,\n",
       "        2.34079242e-04, 4.79078777e-10, 6.11509790e-07],\n",
       "       [8.18085391e-06, 6.56999601e-03, 1.93481712e-04, 6.30265594e-01,\n",
       "        2.47084955e-03, 5.44264121e-03, 9.75742470e-03, 2.20201188e-03,\n",
       "        2.26590618e-01, 1.13439798e-01, 3.05940164e-03],\n",
       "       [2.10902544e-05, 9.86945000e-04, 1.76857854e-03, 2.91931015e-02,\n",
       "        2.62592093e-05, 2.70673241e-02, 4.06164914e-01, 6.80348676e-05,\n",
       "        2.30777916e-03, 5.28343379e-01, 4.05252958e-03],\n",
       "       [1.17687671e-03, 9.79211414e-04, 4.22462747e-02, 6.52464078e-05,\n",
       "        6.44837073e-08, 1.81360528e-01, 3.92857581e-01, 3.35253873e-07,\n",
       "        7.68876635e-06, 7.89814396e-04, 3.80516350e-01],\n",
       "       [9.46734683e-04, 1.61665783e-04, 2.28059688e-03, 1.26579180e-04,\n",
       "        2.59318824e-07, 1.56315073e-01, 9.45341140e-02, 3.55182408e-07,\n",
       "        2.37037125e-06, 1.14532339e-03, 7.44486928e-01],\n",
       "       [1.49216163e-07, 4.81797755e-03, 1.17791849e-07, 1.96092599e-03,\n",
       "        9.05523241e-01, 2.54951556e-06, 1.65022609e-08, 7.12603480e-02,\n",
       "        5.04641654e-03, 1.93995442e-09, 1.13884024e-02],\n",
       "       [1.54058143e-04, 1.26117738e-02, 4.47647631e-01, 5.92735945e-04,\n",
       "        7.92332401e-07, 6.36898428e-02, 4.47842985e-01, 7.12703513e-06,\n",
       "        1.13240327e-03, 1.66907422e-02, 9.62988473e-03],\n",
       "       [1.20207500e-04, 1.47426117e-03, 2.81843450e-03, 4.31585647e-02,\n",
       "        1.01119884e-04, 4.40277532e-02, 4.54061598e-01, 2.04497686e-04,\n",
       "        1.92374177e-03, 4.26445216e-01, 2.56646704e-02],\n",
       "       [1.30292131e-06, 6.27264660e-03, 7.44588760e-07, 1.56868026e-02,\n",
       "        7.37957180e-01, 4.94496380e-05, 7.56493137e-07, 9.44305956e-02,\n",
       "        1.37062371e-01, 3.25936981e-07, 8.53777956e-03],\n",
       "       [3.55060259e-03, 1.68257597e-04, 1.23331719e-03, 1.50245993e-04,\n",
       "        8.51422783e-07, 2.84863502e-01, 4.22280468e-02, 4.26688302e-07,\n",
       "        3.94982317e-06, 6.70931593e-04, 6.67129874e-01],\n",
       "       [1.16865295e-09, 9.99999166e-01, 1.19326060e-07, 3.48962914e-07,\n",
       "        3.12248005e-07, 1.05523502e-15, 6.99919537e-17, 1.45146062e-09,\n",
       "        1.62664116e-09, 2.52344597e-20, 5.72623025e-11],\n",
       "       [6.37798621e-07, 1.55090578e-02, 2.51662314e-05, 3.05562187e-02,\n",
       "        2.43895920e-03, 7.19435557e-05, 7.64752440e-06, 1.12160761e-03,\n",
       "        9.49530125e-01, 4.86588862e-04, 2.52021739e-04],\n",
       "       [6.26572524e-04, 2.42346106e-03, 4.30226559e-03, 5.55573814e-02,\n",
       "        2.51834397e-04, 7.06931874e-02, 4.09239590e-01, 3.61546350e-04,\n",
       "        1.28130056e-03, 3.08177888e-01, 1.47084996e-01],\n",
       "       [1.11449929e-03, 8.64614965e-04, 3.90164903e-03, 3.91491409e-03,\n",
       "        1.91752333e-05, 1.19321354e-01, 1.36233255e-01, 1.99559236e-05,\n",
       "        6.61855156e-05, 2.52624452e-02, 7.09281862e-01],\n",
       "       [1.65555649e-03, 4.53401729e-03, 6.63393550e-03, 1.06183797e-01,\n",
       "        1.09623757e-03, 7.05180019e-02, 3.58175009e-01, 1.33769133e-03,\n",
       "        2.77439761e-03, 2.60792792e-01, 1.86298549e-01],\n",
       "       [1.71034208e-05, 2.07214872e-03, 1.60368116e-04, 8.04964840e-01,\n",
       "        9.68131004e-04, 9.25400201e-03, 3.49306725e-02, 1.47142285e-03,\n",
       "        1.74841154e-02, 1.21326104e-01, 7.35109998e-03],\n",
       "       [2.70262090e-10, 1.47985964e-04, 6.19643625e-09, 8.37256084e-05,\n",
       "        1.11883231e-01, 4.72063189e-09, 1.40801856e-10, 8.82165790e-01,\n",
       "        6.69066212e-05, 2.17621589e-13, 5.65240579e-03],\n",
       "       [8.38979372e-11, 9.89071941e-06, 3.98714128e-09, 1.04592800e-05,\n",
       "        2.77465750e-02, 3.72102599e-10, 1.71903084e-12, 9.68999922e-01,\n",
       "        4.06865320e-06, 9.22857812e-15, 3.22898431e-03],\n",
       "       [2.81657849e-04, 1.66939234e-03, 2.81431945e-03, 1.30909309e-01,\n",
       "        3.17041500e-04, 6.18855581e-02, 5.24816751e-01, 5.35904488e-04,\n",
       "        1.61812489e-03, 2.08644018e-01, 6.65079728e-02]], dtype=float32)"
      ]
     },
     "execution_count": 41,
     "metadata": {},
     "output_type": "execute_result"
    }
   ],
   "source": [
    "y_hat"
   ]
  },
  {
   "cell_type": "code",
   "execution_count": 42,
   "metadata": {},
   "outputs": [],
   "source": [
    "y_hat =  np.argmax(y_hat , axis = 1).tolist()\n",
    "y_true = np.argmax(y_test , axis = 1).tolist()"
   ]
  },
  {
   "cell_type": "code",
   "execution_count": 43,
   "metadata": {},
   "outputs": [
    {
     "name": "stdout",
     "output_type": "stream",
     "text": [
      "[10, 3, 2, 0, 2, 0, 2, 7, 5, 4, 7, 1, 4, 10, 8, 9, 10, 0, 3, 0, 9, 10, 0, 6, 8, 6, 8, 3, 10, 10, 8, 10, 6, 4, 4, 4, 1, 8, 9, 6, 5, 7, 2, 9, 4, 10, 1, 8, 6, 10, 6, 3, 7, 7, 3]\n",
      "[10, 6, 6, 0, 6, 0, 6, 4, 10, 4, 7, 1, 4, 10, 8, 9, 10, 0, 3, 0, 9, 10, 0, 9, 3, 6, 4, 6, 10, 10, 8, 10, 6, 4, 3, 4, 1, 3, 9, 6, 10, 4, 6, 6, 4, 10, 1, 8, 6, 10, 6, 3, 7, 7, 6]\n"
     ]
    }
   ],
   "source": [
    "print(y_true)\n",
    "print(y_hat)"
   ]
  },
  {
   "cell_type": "code",
   "execution_count": 44,
   "metadata": {},
   "outputs": [
    {
     "data": {
      "text/plain": [
       "array([[[50,  0],\n",
       "        [ 0,  5]],\n",
       "\n",
       "       [[52,  0],\n",
       "        [ 0,  3]],\n",
       "\n",
       "       [[51,  0],\n",
       "        [ 4,  0]],\n",
       "\n",
       "       [[47,  3],\n",
       "        [ 3,  2]],\n",
       "\n",
       "       [[46,  3],\n",
       "        [ 1,  5]],\n",
       "\n",
       "       [[53,  0],\n",
       "        [ 2,  0]],\n",
       "\n",
       "       [[41,  8],\n",
       "        [ 1,  5]],\n",
       "\n",
       "       [[50,  0],\n",
       "        [ 2,  3]],\n",
       "\n",
       "       [[49,  0],\n",
       "        [ 3,  3]],\n",
       "\n",
       "       [[50,  1],\n",
       "        [ 1,  3]],\n",
       "\n",
       "       [[44,  2],\n",
       "        [ 0,  9]]], dtype=int64)"
      ]
     },
     "execution_count": 44,
     "metadata": {},
     "output_type": "execute_result"
    }
   ],
   "source": [
    "multilabel_confusion_matrix(y_true , y_hat)\n",
    "\n",
    "# This confusion matrix shows TP and TN for each and every class"
   ]
  },
  {
   "cell_type": "code",
   "execution_count": 45,
   "metadata": {},
   "outputs": [
    {
     "data": {
      "text/plain": [
       "0.6909090909090909"
      ]
     },
     "execution_count": 45,
     "metadata": {},
     "output_type": "execute_result"
    }
   ],
   "source": [
    "accuracy_score(y_true , y_hat)"
   ]
  },
  {
   "cell_type": "code",
   "execution_count": null,
   "metadata": {},
   "outputs": [],
   "source": []
  }
 ],
 "metadata": {
  "kernelspec": {
   "display_name": "Python 3",
   "language": "python",
   "name": "python3"
  },
  "language_info": {
   "codemirror_mode": {
    "name": "ipython",
    "version": 3
   },
   "file_extension": ".py",
   "mimetype": "text/x-python",
   "name": "python",
   "nbconvert_exporter": "python",
   "pygments_lexer": "ipython3",
   "version": "3.12.5"
  }
 },
 "nbformat": 4,
 "nbformat_minor": 2
}
