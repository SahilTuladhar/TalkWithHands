{
 "cells": [
  {
   "cell_type": "code",
   "execution_count": 194,
   "metadata": {},
   "outputs": [],
   "source": [
    "from pymongo import MongoClient\n",
    "import pandas as pd\n",
    "import tensorflow as tf\n",
    "import numpy as np\n",
    "from tqdm import tqdm\n",
    "import matplotlib.pyplot as plt\n",
    "tqdm.pandas()\n",
    "from tensorflow.keras.models import Model , Sequential\n",
    "from tensorflow.keras.layers import Conv2D , MaxPooling2D , Flatten , Dropout , Input , TimeDistributed , Dense , LSTM\n",
    "from tensorflow.keras.callbacks import TensorBoard\n",
    "import os"
   ]
  },
  {
   "cell_type": "code",
   "execution_count": 195,
   "metadata": {},
   "outputs": [],
   "source": [
    "from sklearn.preprocessing import LabelEncoder\n",
    "from sklearn.model_selection import train_test_split\n",
    "from tensorflow.keras.utils import plot_model\n",
    "from tensorflow.keras.callbacks import EarlyStopping"
   ]
  },
  {
   "cell_type": "code",
   "execution_count": 196,
   "metadata": {},
   "outputs": [],
   "source": [
    "#Estbalishing connection to the database\n",
    "connection = MongoClient('localhost' , 27017)\n",
    "db = connection['mydb']\n",
    "collection = db['Batch_Data']"
   ]
  },
  {
   "cell_type": "code",
   "execution_count": 197,
   "metadata": {},
   "outputs": [],
   "source": [
    "#Extracting the data\n",
    "\n",
    "cursor = collection.find({}) \n",
    "batch_df = pd.DataFrame(list(cursor))"
   ]
  },
  {
   "cell_type": "code",
   "execution_count": 198,
   "metadata": {},
   "outputs": [
    {
     "data": {
      "text/html": [
       "<div>\n",
       "<style scoped>\n",
       "    .dataframe tbody tr th:only-of-type {\n",
       "        vertical-align: middle;\n",
       "    }\n",
       "\n",
       "    .dataframe tbody tr th {\n",
       "        vertical-align: top;\n",
       "    }\n",
       "\n",
       "    .dataframe thead th {\n",
       "        text-align: right;\n",
       "    }\n",
       "</style>\n",
       "<table border=\"1\" class=\"dataframe\">\n",
       "  <thead>\n",
       "    <tr style=\"text-align: right;\">\n",
       "      <th></th>\n",
       "      <th>_id</th>\n",
       "      <th>landmarks</th>\n",
       "      <th>label</th>\n",
       "    </tr>\n",
       "  </thead>\n",
       "  <tbody>\n",
       "    <tr>\n",
       "      <th>0</th>\n",
       "      <td>6729ae6b068e5f1de5e9010e</td>\n",
       "      <td>[{'face': [[0.528167724609375, 0.2578373367231...</td>\n",
       "      <td>book</td>\n",
       "    </tr>\n",
       "    <tr>\n",
       "      <th>1</th>\n",
       "      <td>6729ae6b068e5f1de5e9010f</td>\n",
       "      <td>[{'face': [[0.242395827902416, 0.2020864317403...</td>\n",
       "      <td>book</td>\n",
       "    </tr>\n",
       "    <tr>\n",
       "      <th>2</th>\n",
       "      <td>6729ae6b068e5f1de5e90110</td>\n",
       "      <td>[{'face': [[0.4664744738874764, 0.219961448490...</td>\n",
       "      <td>book</td>\n",
       "    </tr>\n",
       "    <tr>\n",
       "      <th>3</th>\n",
       "      <td>6729ae6b068e5f1de5e90111</td>\n",
       "      <td>[{'face': [[0.479362738886966, 0.2433891842543...</td>\n",
       "      <td>book</td>\n",
       "    </tr>\n",
       "    <tr>\n",
       "      <th>4</th>\n",
       "      <td>6729ae6b068e5f1de5e90112</td>\n",
       "      <td>[{'face': [[0.492517174267378, 0.0870498852922...</td>\n",
       "      <td>book</td>\n",
       "    </tr>\n",
       "  </tbody>\n",
       "</table>\n",
       "</div>"
      ],
      "text/plain": [
       "                        _id  \\\n",
       "0  6729ae6b068e5f1de5e9010e   \n",
       "1  6729ae6b068e5f1de5e9010f   \n",
       "2  6729ae6b068e5f1de5e90110   \n",
       "3  6729ae6b068e5f1de5e90111   \n",
       "4  6729ae6b068e5f1de5e90112   \n",
       "\n",
       "                                           landmarks label  \n",
       "0  [{'face': [[0.528167724609375, 0.2578373367231...  book  \n",
       "1  [{'face': [[0.242395827902416, 0.2020864317403...  book  \n",
       "2  [{'face': [[0.4664744738874764, 0.219961448490...  book  \n",
       "3  [{'face': [[0.479362738886966, 0.2433891842543...  book  \n",
       "4  [{'face': [[0.492517174267378, 0.0870498852922...  book  "
      ]
     },
     "execution_count": 198,
     "metadata": {},
     "output_type": "execute_result"
    }
   ],
   "source": [
    "batch_df.head()"
   ]
  },
  {
   "cell_type": "code",
   "execution_count": 199,
   "metadata": {},
   "outputs": [
    {
     "data": {
      "text/plain": [
       "30"
      ]
     },
     "execution_count": 199,
     "metadata": {},
     "output_type": "execute_result"
    }
   ],
   "source": [
    "len(batch_df['landmarks'][0])"
   ]
  },
  {
   "cell_type": "code",
   "execution_count": 200,
   "metadata": {},
   "outputs": [],
   "source": [
    "actions = batch_df['label'].unique()"
   ]
  },
  {
   "cell_type": "code",
   "execution_count": 201,
   "metadata": {},
   "outputs": [],
   "source": [
    "label_map = {label : num for num,label in enumerate(actions)}"
   ]
  },
  {
   "cell_type": "code",
   "execution_count": 202,
   "metadata": {},
   "outputs": [
    {
     "data": {
      "text/plain": [
       "{'book': 0,\n",
       " 'drink': 1,\n",
       " 'computer': 2,\n",
       " 'before': 3,\n",
       " 'chair': 4,\n",
       " 'go': 5,\n",
       " 'clothes': 6,\n",
       " 'who': 7,\n",
       " 'candy': 8}"
      ]
     },
     "execution_count": 202,
     "metadata": {},
     "output_type": "execute_result"
    }
   ],
   "source": [
    "label_map"
   ]
  },
  {
   "cell_type": "code",
   "execution_count": 159,
   "metadata": {},
   "outputs": [],
   "source": [
    "\n",
    "#converting the string values into numeric values\n",
    "\n",
    "label_encoder = LabelEncoder()\n",
    "batch_df['label_encoded'] = label_encoder.fit_transform(batch_df['label'])\n"
   ]
  },
  {
   "cell_type": "code",
   "execution_count": 160,
   "metadata": {},
   "outputs": [
    {
     "data": {
      "text/html": [
       "<div>\n",
       "<style scoped>\n",
       "    .dataframe tbody tr th:only-of-type {\n",
       "        vertical-align: middle;\n",
       "    }\n",
       "\n",
       "    .dataframe tbody tr th {\n",
       "        vertical-align: top;\n",
       "    }\n",
       "\n",
       "    .dataframe thead th {\n",
       "        text-align: right;\n",
       "    }\n",
       "</style>\n",
       "<table border=\"1\" class=\"dataframe\">\n",
       "  <thead>\n",
       "    <tr style=\"text-align: right;\">\n",
       "      <th></th>\n",
       "      <th>_id</th>\n",
       "      <th>landmarks</th>\n",
       "      <th>label</th>\n",
       "      <th>label_encoded</th>\n",
       "    </tr>\n",
       "  </thead>\n",
       "  <tbody>\n",
       "    <tr>\n",
       "      <th>0</th>\n",
       "      <td>672af22fe02a1652aab644af</td>\n",
       "      <td>[{'face': [[0.528167724609375, 0.2578373367231...</td>\n",
       "      <td>book</td>\n",
       "      <td>11</td>\n",
       "    </tr>\n",
       "    <tr>\n",
       "      <th>1</th>\n",
       "      <td>672af22fe02a1652aab644b0</td>\n",
       "      <td>[{'face': [[0.242395827902416, 0.2020864317403...</td>\n",
       "      <td>book</td>\n",
       "      <td>11</td>\n",
       "    </tr>\n",
       "    <tr>\n",
       "      <th>2</th>\n",
       "      <td>672af22fe02a1652aab644b1</td>\n",
       "      <td>[{'face': [[0.4664744738874764, 0.219961448490...</td>\n",
       "      <td>book</td>\n",
       "      <td>11</td>\n",
       "    </tr>\n",
       "    <tr>\n",
       "      <th>3</th>\n",
       "      <td>672af22fe02a1652aab644b2</td>\n",
       "      <td>[{'face': [[0.479362738886966, 0.2433891842543...</td>\n",
       "      <td>book</td>\n",
       "      <td>11</td>\n",
       "    </tr>\n",
       "    <tr>\n",
       "      <th>4</th>\n",
       "      <td>672af22fe02a1652aab644b3</td>\n",
       "      <td>[{'face': [[0.492517174267378, 0.0870498852922...</td>\n",
       "      <td>book</td>\n",
       "      <td>11</td>\n",
       "    </tr>\n",
       "    <tr>\n",
       "      <th>...</th>\n",
       "      <td>...</td>\n",
       "      <td>...</td>\n",
       "      <td>...</td>\n",
       "      <td>...</td>\n",
       "    </tr>\n",
       "    <tr>\n",
       "      <th>995</th>\n",
       "      <td>672af22fe02a1652aab64892</td>\n",
       "      <td>[{'face': [[0.41673927693753626, 0.20555076170...</td>\n",
       "      <td>tell</td>\n",
       "      <td>85</td>\n",
       "    </tr>\n",
       "    <tr>\n",
       "      <th>996</th>\n",
       "      <td>672af22fe02a1652aab64893</td>\n",
       "      <td>[{'face': [[0.5213522366115024, 0.215353012084...</td>\n",
       "      <td>tell</td>\n",
       "      <td>85</td>\n",
       "    </tr>\n",
       "    <tr>\n",
       "      <th>997</th>\n",
       "      <td>672af22fe02a1652aab64894</td>\n",
       "      <td>[{'face': [[0.609763869822351, 0.2657764752705...</td>\n",
       "      <td>tell</td>\n",
       "      <td>85</td>\n",
       "    </tr>\n",
       "    <tr>\n",
       "      <th>998</th>\n",
       "      <td>672af22fe02a1652aab64895</td>\n",
       "      <td>[{'face': [[0.45382191153133605, 0.19372511709...</td>\n",
       "      <td>tell</td>\n",
       "      <td>85</td>\n",
       "    </tr>\n",
       "    <tr>\n",
       "      <th>999</th>\n",
       "      <td>672af22fe02a1652aab64896</td>\n",
       "      <td>[{'face': [[0.4191049717090748, 0.197755966397...</td>\n",
       "      <td>tell</td>\n",
       "      <td>85</td>\n",
       "    </tr>\n",
       "  </tbody>\n",
       "</table>\n",
       "<p>1000 rows × 4 columns</p>\n",
       "</div>"
      ],
      "text/plain": [
       "                          _id  \\\n",
       "0    672af22fe02a1652aab644af   \n",
       "1    672af22fe02a1652aab644b0   \n",
       "2    672af22fe02a1652aab644b1   \n",
       "3    672af22fe02a1652aab644b2   \n",
       "4    672af22fe02a1652aab644b3   \n",
       "..                        ...   \n",
       "995  672af22fe02a1652aab64892   \n",
       "996  672af22fe02a1652aab64893   \n",
       "997  672af22fe02a1652aab64894   \n",
       "998  672af22fe02a1652aab64895   \n",
       "999  672af22fe02a1652aab64896   \n",
       "\n",
       "                                             landmarks label  label_encoded  \n",
       "0    [{'face': [[0.528167724609375, 0.2578373367231...  book             11  \n",
       "1    [{'face': [[0.242395827902416, 0.2020864317403...  book             11  \n",
       "2    [{'face': [[0.4664744738874764, 0.219961448490...  book             11  \n",
       "3    [{'face': [[0.479362738886966, 0.2433891842543...  book             11  \n",
       "4    [{'face': [[0.492517174267378, 0.0870498852922...  book             11  \n",
       "..                                                 ...   ...            ...  \n",
       "995  [{'face': [[0.41673927693753626, 0.20555076170...  tell             85  \n",
       "996  [{'face': [[0.5213522366115024, 0.215353012084...  tell             85  \n",
       "997  [{'face': [[0.609763869822351, 0.2657764752705...  tell             85  \n",
       "998  [{'face': [[0.45382191153133605, 0.19372511709...  tell             85  \n",
       "999  [{'face': [[0.4191049717090748, 0.197755966397...  tell             85  \n",
       "\n",
       "[1000 rows x 4 columns]"
      ]
     },
     "execution_count": 160,
     "metadata": {},
     "output_type": "execute_result"
    }
   ],
   "source": [
    "batch_df"
   ]
  },
  {
   "cell_type": "markdown",
   "metadata": {},
   "source": [
    "Reshaping the Landmarks to align all the landmarks"
   ]
  },
  {
   "cell_type": "code",
   "execution_count": 161,
   "metadata": {},
   "outputs": [],
   "source": [
    "def reshape_landmarks(record):\n",
    "\n",
    " iterations = len(record)\n",
    " \n",
    " concatenated_one_video = []\n",
    "\n",
    " for count in range(iterations):\n",
    " \n",
    "    face_lands = np.array(record[count]['face'])\n",
    "    left_hand_lands = np.array(record[count]['left_hand'])\n",
    "    right_hand_lands = np.array(record[count]['right_hand'])\n",
    "\n",
    "    #Concatinating all the landmarks to the shape (510 , 3)\n",
    "\n",
    "    all_landmarks = np.vstack([face_lands , left_hand_lands , right_hand_lands]) # concatenated landmarks for 1 frame of the video\n",
    "\n",
    "    concatenated_one_video.append(all_landmarks)\n",
    " \n",
    " return np.array(concatenated_one_video)"
   ]
  },
  {
   "cell_type": "code",
   "execution_count": 162,
   "metadata": {},
   "outputs": [
    {
     "name": "stderr",
     "output_type": "stream",
     "text": [
      "100%|██████████| 1000/1000 [00:13<00:00, 75.81it/s]\n"
     ]
    }
   ],
   "source": [
    "batch_df['concatenated_landmarks'] = batch_df['landmarks'].progress_apply(reshape_landmarks)"
   ]
  },
  {
   "cell_type": "code",
   "execution_count": 163,
   "metadata": {},
   "outputs": [
    {
     "data": {
      "text/html": [
       "<div>\n",
       "<style scoped>\n",
       "    .dataframe tbody tr th:only-of-type {\n",
       "        vertical-align: middle;\n",
       "    }\n",
       "\n",
       "    .dataframe tbody tr th {\n",
       "        vertical-align: top;\n",
       "    }\n",
       "\n",
       "    .dataframe thead th {\n",
       "        text-align: right;\n",
       "    }\n",
       "</style>\n",
       "<table border=\"1\" class=\"dataframe\">\n",
       "  <thead>\n",
       "    <tr style=\"text-align: right;\">\n",
       "      <th></th>\n",
       "      <th>_id</th>\n",
       "      <th>landmarks</th>\n",
       "      <th>label</th>\n",
       "      <th>label_encoded</th>\n",
       "      <th>concatenated_landmarks</th>\n",
       "    </tr>\n",
       "  </thead>\n",
       "  <tbody>\n",
       "    <tr>\n",
       "      <th>0</th>\n",
       "      <td>672af22fe02a1652aab644af</td>\n",
       "      <td>[{'face': [[0.528167724609375, 0.2578373367231...</td>\n",
       "      <td>book</td>\n",
       "      <td>11</td>\n",
       "      <td>[[[0.528167724609375, 0.25783733672313774, -0....</td>\n",
       "    </tr>\n",
       "    <tr>\n",
       "      <th>1</th>\n",
       "      <td>672af22fe02a1652aab644b0</td>\n",
       "      <td>[{'face': [[0.242395827902416, 0.2020864317403...</td>\n",
       "      <td>book</td>\n",
       "      <td>11</td>\n",
       "      <td>[[[0.242395827902416, 0.20208643174030372, -0....</td>\n",
       "    </tr>\n",
       "    <tr>\n",
       "      <th>2</th>\n",
       "      <td>672af22fe02a1652aab644b1</td>\n",
       "      <td>[{'face': [[0.4664744738874764, 0.219961448490...</td>\n",
       "      <td>book</td>\n",
       "      <td>11</td>\n",
       "      <td>[[[0.4664744738874764, 0.21996144849046956, -0...</td>\n",
       "    </tr>\n",
       "    <tr>\n",
       "      <th>3</th>\n",
       "      <td>672af22fe02a1652aab644b2</td>\n",
       "      <td>[{'face': [[0.479362738886966, 0.2433891842543...</td>\n",
       "      <td>book</td>\n",
       "      <td>11</td>\n",
       "      <td>[[[0.479362738886966, 0.2433891842543816, -0.0...</td>\n",
       "    </tr>\n",
       "    <tr>\n",
       "      <th>4</th>\n",
       "      <td>672af22fe02a1652aab644b3</td>\n",
       "      <td>[{'face': [[0.492517174267378, 0.0870498852922...</td>\n",
       "      <td>book</td>\n",
       "      <td>11</td>\n",
       "      <td>[[[0.492517174267378, 0.08704988529227371, -0....</td>\n",
       "    </tr>\n",
       "    <tr>\n",
       "      <th>5</th>\n",
       "      <td>672af22fe02a1652aab644b4</td>\n",
       "      <td>[{'face': [[0.5037075336162861, 0.212660868523...</td>\n",
       "      <td>book</td>\n",
       "      <td>11</td>\n",
       "      <td>[[[0.5037075336162861, 0.21266086852352922, -0...</td>\n",
       "    </tr>\n",
       "    <tr>\n",
       "      <th>6</th>\n",
       "      <td>672af22fe02a1652aab644b5</td>\n",
       "      <td>[{'face': [[0.6170888525971184, 0.233574485590...</td>\n",
       "      <td>drink</td>\n",
       "      <td>35</td>\n",
       "      <td>[[[0.6170888525971184, 0.23357448559033542, -0...</td>\n",
       "    </tr>\n",
       "    <tr>\n",
       "      <th>7</th>\n",
       "      <td>672af22fe02a1652aab644b6</td>\n",
       "      <td>[{'face': [[0.5804450504815399, 0.244794918634...</td>\n",
       "      <td>drink</td>\n",
       "      <td>35</td>\n",
       "      <td>[[[0.5804450504815399, 0.24479491863410122, -0...</td>\n",
       "    </tr>\n",
       "    <tr>\n",
       "      <th>8</th>\n",
       "      <td>672af22fe02a1652aab644b7</td>\n",
       "      <td>[{'face': [[0.697213880098783, 0.2216544588257...</td>\n",
       "      <td>drink</td>\n",
       "      <td>35</td>\n",
       "      <td>[[[0.697213880098783, 0.22165445882574958, -0....</td>\n",
       "    </tr>\n",
       "    <tr>\n",
       "      <th>9</th>\n",
       "      <td>672af22fe02a1652aab644b8</td>\n",
       "      <td>[{'face': [[0.4147786676067196, 0.049399815256...</td>\n",
       "      <td>drink</td>\n",
       "      <td>35</td>\n",
       "      <td>[[[0.4147786676067196, 0.04939981525658852, -0...</td>\n",
       "    </tr>\n",
       "    <tr>\n",
       "      <th>10</th>\n",
       "      <td>672af22fe02a1652aab644b9</td>\n",
       "      <td>[{'face': [[0.5595707238291779, 0.201434143842...</td>\n",
       "      <td>drink</td>\n",
       "      <td>35</td>\n",
       "      <td>[[[0.5595707238291779, 0.20143414384279493, -0...</td>\n",
       "    </tr>\n",
       "    <tr>\n",
       "      <th>11</th>\n",
       "      <td>672af22fe02a1652aab644ba</td>\n",
       "      <td>[{'face': [[0.4411439701793639, 0.084535215211...</td>\n",
       "      <td>drink</td>\n",
       "      <td>35</td>\n",
       "      <td>[[[0.4411439701793639, 0.08453521521195119, -0...</td>\n",
       "    </tr>\n",
       "    <tr>\n",
       "      <th>12</th>\n",
       "      <td>672af22fe02a1652aab644bb</td>\n",
       "      <td>[{'face': [[0.30870753912790583, 0.25079494524...</td>\n",
       "      <td>drink</td>\n",
       "      <td>35</td>\n",
       "      <td>[[[0.30870753912790583, 0.25079494524913226, -...</td>\n",
       "    </tr>\n",
       "    <tr>\n",
       "      <th>13</th>\n",
       "      <td>672af22fe02a1652aab644bc</td>\n",
       "      <td>[{'face': [[0.25192412820319027, 0.20768335661...</td>\n",
       "      <td>drink</td>\n",
       "      <td>35</td>\n",
       "      <td>[[[0.25192412820319027, 0.20768335661917256, -...</td>\n",
       "    </tr>\n",
       "    <tr>\n",
       "      <th>14</th>\n",
       "      <td>672af22fe02a1652aab644bd</td>\n",
       "      <td>[{'face': [[0.6390683511815647, 0.333844661712...</td>\n",
       "      <td>drink</td>\n",
       "      <td>35</td>\n",
       "      <td>[[[0.6390683511815647, 0.3338446617126465, -0....</td>\n",
       "    </tr>\n",
       "    <tr>\n",
       "      <th>15</th>\n",
       "      <td>672af22fe02a1652aab644be</td>\n",
       "      <td>[{'face': [[0.6058158874511719, 0.266283976567...</td>\n",
       "      <td>drink</td>\n",
       "      <td>35</td>\n",
       "      <td>[[[0.6058158874511719, 0.266283976567256, -0.0...</td>\n",
       "    </tr>\n",
       "    <tr>\n",
       "      <th>16</th>\n",
       "      <td>672af22fe02a1652aab644bf</td>\n",
       "      <td>[{'face': [[0.6492491381907324, 0.215017076522...</td>\n",
       "      <td>drink</td>\n",
       "      <td>35</td>\n",
       "      <td>[[[0.6492491381907324, 0.21501707652258495, -0...</td>\n",
       "    </tr>\n",
       "    <tr>\n",
       "      <th>17</th>\n",
       "      <td>672af22fe02a1652aab644c0</td>\n",
       "      <td>[{'face': [[0.6362972659664553, 0.176891668683...</td>\n",
       "      <td>drink</td>\n",
       "      <td>35</td>\n",
       "      <td>[[[0.6362972659664553, 0.17689166868353162, -0...</td>\n",
       "    </tr>\n",
       "    <tr>\n",
       "      <th>18</th>\n",
       "      <td>672af22fe02a1652aab644c1</td>\n",
       "      <td>[{'face': [[0, 0, 0], [0, 0, 0], [0, 0, 0], [0...</td>\n",
       "      <td>drink</td>\n",
       "      <td>35</td>\n",
       "      <td>[[[0.0, 0.0, 0.0], [0.0, 0.0, 0.0], [0.0, 0.0,...</td>\n",
       "    </tr>\n",
       "    <tr>\n",
       "      <th>19</th>\n",
       "      <td>672af22fe02a1652aab644c2</td>\n",
       "      <td>[{'face': [[0.5935795390522564, 0.199735452962...</td>\n",
       "      <td>drink</td>\n",
       "      <td>35</td>\n",
       "      <td>[[[0.5935795390522564, 0.19973545296247616, -0...</td>\n",
       "    </tr>\n",
       "  </tbody>\n",
       "</table>\n",
       "</div>"
      ],
      "text/plain": [
       "                         _id  \\\n",
       "0   672af22fe02a1652aab644af   \n",
       "1   672af22fe02a1652aab644b0   \n",
       "2   672af22fe02a1652aab644b1   \n",
       "3   672af22fe02a1652aab644b2   \n",
       "4   672af22fe02a1652aab644b3   \n",
       "5   672af22fe02a1652aab644b4   \n",
       "6   672af22fe02a1652aab644b5   \n",
       "7   672af22fe02a1652aab644b6   \n",
       "8   672af22fe02a1652aab644b7   \n",
       "9   672af22fe02a1652aab644b8   \n",
       "10  672af22fe02a1652aab644b9   \n",
       "11  672af22fe02a1652aab644ba   \n",
       "12  672af22fe02a1652aab644bb   \n",
       "13  672af22fe02a1652aab644bc   \n",
       "14  672af22fe02a1652aab644bd   \n",
       "15  672af22fe02a1652aab644be   \n",
       "16  672af22fe02a1652aab644bf   \n",
       "17  672af22fe02a1652aab644c0   \n",
       "18  672af22fe02a1652aab644c1   \n",
       "19  672af22fe02a1652aab644c2   \n",
       "\n",
       "                                            landmarks  label  label_encoded  \\\n",
       "0   [{'face': [[0.528167724609375, 0.2578373367231...   book             11   \n",
       "1   [{'face': [[0.242395827902416, 0.2020864317403...   book             11   \n",
       "2   [{'face': [[0.4664744738874764, 0.219961448490...   book             11   \n",
       "3   [{'face': [[0.479362738886966, 0.2433891842543...   book             11   \n",
       "4   [{'face': [[0.492517174267378, 0.0870498852922...   book             11   \n",
       "5   [{'face': [[0.5037075336162861, 0.212660868523...   book             11   \n",
       "6   [{'face': [[0.6170888525971184, 0.233574485590...  drink             35   \n",
       "7   [{'face': [[0.5804450504815399, 0.244794918634...  drink             35   \n",
       "8   [{'face': [[0.697213880098783, 0.2216544588257...  drink             35   \n",
       "9   [{'face': [[0.4147786676067196, 0.049399815256...  drink             35   \n",
       "10  [{'face': [[0.5595707238291779, 0.201434143842...  drink             35   \n",
       "11  [{'face': [[0.4411439701793639, 0.084535215211...  drink             35   \n",
       "12  [{'face': [[0.30870753912790583, 0.25079494524...  drink             35   \n",
       "13  [{'face': [[0.25192412820319027, 0.20768335661...  drink             35   \n",
       "14  [{'face': [[0.6390683511815647, 0.333844661712...  drink             35   \n",
       "15  [{'face': [[0.6058158874511719, 0.266283976567...  drink             35   \n",
       "16  [{'face': [[0.6492491381907324, 0.215017076522...  drink             35   \n",
       "17  [{'face': [[0.6362972659664553, 0.176891668683...  drink             35   \n",
       "18  [{'face': [[0, 0, 0], [0, 0, 0], [0, 0, 0], [0...  drink             35   \n",
       "19  [{'face': [[0.5935795390522564, 0.199735452962...  drink             35   \n",
       "\n",
       "                               concatenated_landmarks  \n",
       "0   [[[0.528167724609375, 0.25783733672313774, -0....  \n",
       "1   [[[0.242395827902416, 0.20208643174030372, -0....  \n",
       "2   [[[0.4664744738874764, 0.21996144849046956, -0...  \n",
       "3   [[[0.479362738886966, 0.2433891842543816, -0.0...  \n",
       "4   [[[0.492517174267378, 0.08704988529227371, -0....  \n",
       "5   [[[0.5037075336162861, 0.21266086852352922, -0...  \n",
       "6   [[[0.6170888525971184, 0.23357448559033542, -0...  \n",
       "7   [[[0.5804450504815399, 0.24479491863410122, -0...  \n",
       "8   [[[0.697213880098783, 0.22165445882574958, -0....  \n",
       "9   [[[0.4147786676067196, 0.04939981525658852, -0...  \n",
       "10  [[[0.5595707238291779, 0.20143414384279493, -0...  \n",
       "11  [[[0.4411439701793639, 0.08453521521195119, -0...  \n",
       "12  [[[0.30870753912790583, 0.25079494524913226, -...  \n",
       "13  [[[0.25192412820319027, 0.20768335661917256, -...  \n",
       "14  [[[0.6390683511815647, 0.3338446617126465, -0....  \n",
       "15  [[[0.6058158874511719, 0.266283976567256, -0.0...  \n",
       "16  [[[0.6492491381907324, 0.21501707652258495, -0...  \n",
       "17  [[[0.6362972659664553, 0.17689166868353162, -0...  \n",
       "18  [[[0.0, 0.0, 0.0], [0.0, 0.0, 0.0], [0.0, 0.0,...  \n",
       "19  [[[0.5935795390522564, 0.19973545296247616, -0...  "
      ]
     },
     "execution_count": 163,
     "metadata": {},
     "output_type": "execute_result"
    }
   ],
   "source": [
    "batch_df.head(20)"
   ]
  },
  {
   "cell_type": "code",
   "execution_count": 169,
   "metadata": {},
   "outputs": [
    {
     "name": "stderr",
     "output_type": "stream",
     "text": [
      "100%|██████████| 1000/1000 [00:00<00:00, 500334.49it/s]\n"
     ]
    },
    {
     "data": {
      "text/plain": [
       "0      (30, 510, 3)\n",
       "1      (30, 510, 3)\n",
       "2      (30, 510, 3)\n",
       "3      (30, 510, 3)\n",
       "4      (30, 510, 3)\n",
       "           ...     \n",
       "995    (30, 510, 3)\n",
       "996    (30, 510, 3)\n",
       "997    (30, 510, 3)\n",
       "998    (30, 510, 3)\n",
       "999    (30, 510, 3)\n",
       "Name: concatenated_landmarks, Length: 1000, dtype: object"
      ]
     },
     "execution_count": 169,
     "metadata": {},
     "output_type": "execute_result"
    }
   ],
   "source": [
    "batch_df['concatenated_landmarks'].progress_apply(lambda row : (row).shape )"
   ]
  },
  {
   "cell_type": "code",
   "execution_count": 170,
   "metadata": {},
   "outputs": [
    {
     "data": {
      "text/plain": [
       "(30, 510, 3)"
      ]
     },
     "execution_count": 170,
     "metadata": {},
     "output_type": "execute_result"
    }
   ],
   "source": [
    "batch_df['concatenated_landmarks'][88].shape"
   ]
  },
  {
   "cell_type": "code",
   "execution_count": 171,
   "metadata": {},
   "outputs": [],
   "source": [
    "one_hot_encoded_labels = tf.keras.utils.to_categorical(batch_df['label_encoded'])"
   ]
  },
  {
   "cell_type": "code",
   "execution_count": 172,
   "metadata": {},
   "outputs": [
    {
     "data": {
      "text/plain": [
       "array([[0., 0., 0., ..., 0., 0., 0.],\n",
       "       [0., 0., 0., ..., 0., 0., 0.],\n",
       "       [0., 0., 0., ..., 0., 0., 0.],\n",
       "       ...,\n",
       "       [0., 0., 0., ..., 0., 0., 0.],\n",
       "       [0., 0., 0., ..., 0., 0., 0.],\n",
       "       [0., 0., 0., ..., 0., 0., 0.]])"
      ]
     },
     "execution_count": 172,
     "metadata": {},
     "output_type": "execute_result"
    }
   ],
   "source": [
    "one_hot_encoded_labels"
   ]
  },
  {
   "cell_type": "markdown",
   "metadata": {},
   "source": [
    "Splitting the Data into Train and Test set"
   ]
  },
  {
   "cell_type": "code",
   "execution_count": 173,
   "metadata": {},
   "outputs": [],
   "source": [
    "X = batch_df['concatenated_landmarks']\n",
    "Y = one_hot_encoded_labels\n",
    "\n",
    "# using 75 - 25 train - test split\n",
    "\n",
    "X_train , X_test , Y_train , Y_test = train_test_split(X , Y , test_size= 0.25 , shuffle= True , random_state= 42 )"
   ]
  },
  {
   "cell_type": "code",
   "execution_count": 174,
   "metadata": {},
   "outputs": [],
   "source": [
    "X_train = np.array(X_train.tolist())\n",
    "X_test = np.array(X_test.tolist())"
   ]
  },
  {
   "cell_type": "code",
   "execution_count": 175,
   "metadata": {},
   "outputs": [],
   "source": [
    "#Re-shaping the landmarks from ( 30 , 510 , 3) to (30 , 510 * 3) as LSTM expects 2D data\n",
    "\n",
    "X_train = X_train.reshape(X_train.shape[0], X_train.shape[1] , -1)\n",
    "X_test = X_test.reshape(X_test.shape[0], X_test.shape[1] , -1)"
   ]
  },
  {
   "cell_type": "code",
   "execution_count": 176,
   "metadata": {},
   "outputs": [
    {
     "data": {
      "text/plain": [
       "(750, 30, 1530)"
      ]
     },
     "execution_count": 176,
     "metadata": {},
     "output_type": "execute_result"
    }
   ],
   "source": [
    "X_train.shape"
   ]
  },
  {
   "cell_type": "code",
   "execution_count": 177,
   "metadata": {},
   "outputs": [
    {
     "data": {
      "text/plain": [
       "numpy.ndarray"
      ]
     },
     "execution_count": 177,
     "metadata": {},
     "output_type": "execute_result"
    }
   ],
   "source": [
    "type(X_train)"
   ]
  },
  {
   "cell_type": "code",
   "execution_count": 178,
   "metadata": {},
   "outputs": [
    {
     "data": {
      "text/plain": [
       "0.30509451031684875"
      ]
     },
     "execution_count": 178,
     "metadata": {},
     "output_type": "execute_result"
    }
   ],
   "source": [
    "X_train[1  , 1 , 1 ]"
   ]
  },
  {
   "cell_type": "code",
   "execution_count": 179,
   "metadata": {},
   "outputs": [
    {
     "name": "stdout",
     "output_type": "stream",
     "text": [
      "The Shape of X-Train is: (750, 30, 1530)\n",
      "The Shape of X-Test is: (250, 30, 1530)\n",
      "The Shape of Y-Train is: (750, 99)\n",
      "The Shape of Y-Test is: (250, 99)\n"
     ]
    }
   ],
   "source": [
    "print('The Shape of X-Train is:' , X_train.shape)\n",
    "print('The Shape of X-Test is:' , X_test.shape)\n",
    "print('The Shape of Y-Train is:' , Y_train.shape)\n",
    "print('The Shape of Y-Test is:' , Y_test.shape)"
   ]
  },
  {
   "cell_type": "code",
   "execution_count": 180,
   "metadata": {},
   "outputs": [
    {
     "data": {
      "text/plain": [
       "array([[0., 0., 0., ..., 0., 0., 0.],\n",
       "       [0., 0., 0., ..., 0., 0., 0.],\n",
       "       [0., 0., 0., ..., 0., 0., 0.],\n",
       "       ...,\n",
       "       [0., 0., 0., ..., 0., 0., 0.],\n",
       "       [0., 0., 0., ..., 0., 0., 0.],\n",
       "       [0., 0., 0., ..., 0., 0., 0.]])"
      ]
     },
     "execution_count": 180,
     "metadata": {},
     "output_type": "execute_result"
    }
   ],
   "source": [
    "Y_train"
   ]
  },
  {
   "cell_type": "markdown",
   "metadata": {},
   "source": [
    "Constructing LSTM Model"
   ]
  },
  {
   "cell_type": "code",
   "execution_count": 181,
   "metadata": {},
   "outputs": [],
   "source": [
    "#Monitoring the accuracy while training\n",
    "\n",
    "log_dir = os.path.join('Logs')\n",
    "tb_callback = TensorBoard(log_dir = log_dir)"
   ]
  },
  {
   "cell_type": "code",
   "execution_count": 182,
   "metadata": {},
   "outputs": [
    {
     "data": {
      "text/plain": [
       "(750, 30, 1530)"
      ]
     },
     "execution_count": 182,
     "metadata": {},
     "output_type": "execute_result"
    }
   ],
   "source": [
    "X_train.shape"
   ]
  },
  {
   "cell_type": "code",
   "execution_count": 183,
   "metadata": {},
   "outputs": [
    {
     "name": "stderr",
     "output_type": "stream",
     "text": [
      "c:\\Users\\Sahil\\AppData\\Local\\Programs\\Python\\Python312\\Lib\\site-packages\\keras\\src\\layers\\rnn\\rnn.py:204: UserWarning: Do not pass an `input_shape`/`input_dim` argument to a layer. When using Sequential models, prefer using an `Input(shape)` object as the first layer in the model instead.\n",
      "  super().__init__(**kwargs)\n"
     ]
    }
   ],
   "source": [
    "# Constructing LSTM Model\n",
    "\n",
    "model = Sequential()\n",
    "model.add(LSTM(64, return_sequences= True , activation = 'relu' , input_shape = (30 , 1530)))\n",
    "model.add(LSTM(128 , return_sequences= True , activation = 'relu'))\n",
    "model.add(LSTM(64 , return_sequences= False , activation='relu'))\n",
    "model.add(Dense(64 , activation ='relu'))\n",
    "model.add(Dense(32 , activation = 'relu'))\n",
    "model.add(Dense(actions.shape[0] , activation='softmax'))"
   ]
  },
  {
   "cell_type": "code",
   "execution_count": 184,
   "metadata": {},
   "outputs": [],
   "source": [
    "res = [0.05 , 0.05 , 0.4 , 0.1 , 0.1 ,0.1 ,0.1 , 0.05 ,0.05]"
   ]
  },
  {
   "cell_type": "code",
   "execution_count": 185,
   "metadata": {},
   "outputs": [
    {
     "data": {
      "text/plain": [
       "'computer'"
      ]
     },
     "execution_count": 185,
     "metadata": {},
     "output_type": "execute_result"
    }
   ],
   "source": [
    "actions[np.argmax(res)]"
   ]
  },
  {
   "cell_type": "code",
   "execution_count": 186,
   "metadata": {},
   "outputs": [],
   "source": [
    "# Create an Instance of Early Stopping Callback\n",
    "early_stopping_callback = EarlyStopping(\n",
    " monitor = 'val_loss',\n",
    " patience = 15 , \n",
    " mode = 'min',\n",
    " restore_best_weights = True\n",
    ")"
   ]
  },
  {
   "cell_type": "code",
   "execution_count": 187,
   "metadata": {},
   "outputs": [],
   "source": [
    "#Compiling the Model\n",
    "\n",
    "model.compile(optimizer='Adam' , loss ='categorical_crossentropy' , metrics = ['categorical_accuracy'])"
   ]
  },
  {
   "cell_type": "code",
   "execution_count": 188,
   "metadata": {},
   "outputs": [
    {
     "data": {
      "text/html": [
       "<pre style=\"white-space:pre;overflow-x:auto;line-height:normal;font-family:Menlo,'DejaVu Sans Mono',consolas,'Courier New',monospace\"><span style=\"font-weight: bold\">Model: \"sequential_4\"</span>\n",
       "</pre>\n"
      ],
      "text/plain": [
       "\u001b[1mModel: \"sequential_4\"\u001b[0m\n"
      ]
     },
     "metadata": {},
     "output_type": "display_data"
    },
    {
     "data": {
      "text/html": [
       "<pre style=\"white-space:pre;overflow-x:auto;line-height:normal;font-family:Menlo,'DejaVu Sans Mono',consolas,'Courier New',monospace\">┏━━━━━━━━━━━━━━━━━━━━━━━━━━━━━━━━━┳━━━━━━━━━━━━━━━━━━━━━━━━┳━━━━━━━━━━━━━━━┓\n",
       "┃<span style=\"font-weight: bold\"> Layer (type)                    </span>┃<span style=\"font-weight: bold\"> Output Shape           </span>┃<span style=\"font-weight: bold\">       Param # </span>┃\n",
       "┡━━━━━━━━━━━━━━━━━━━━━━━━━━━━━━━━━╇━━━━━━━━━━━━━━━━━━━━━━━━╇━━━━━━━━━━━━━━━┩\n",
       "│ lstm_12 (<span style=\"color: #0087ff; text-decoration-color: #0087ff\">LSTM</span>)                  │ (<span style=\"color: #00d7ff; text-decoration-color: #00d7ff\">None</span>, <span style=\"color: #00af00; text-decoration-color: #00af00\">30</span>, <span style=\"color: #00af00; text-decoration-color: #00af00\">64</span>)         │       <span style=\"color: #00af00; text-decoration-color: #00af00\">408,320</span> │\n",
       "├─────────────────────────────────┼────────────────────────┼───────────────┤\n",
       "│ lstm_13 (<span style=\"color: #0087ff; text-decoration-color: #0087ff\">LSTM</span>)                  │ (<span style=\"color: #00d7ff; text-decoration-color: #00d7ff\">None</span>, <span style=\"color: #00af00; text-decoration-color: #00af00\">30</span>, <span style=\"color: #00af00; text-decoration-color: #00af00\">128</span>)        │        <span style=\"color: #00af00; text-decoration-color: #00af00\">98,816</span> │\n",
       "├─────────────────────────────────┼────────────────────────┼───────────────┤\n",
       "│ lstm_14 (<span style=\"color: #0087ff; text-decoration-color: #0087ff\">LSTM</span>)                  │ (<span style=\"color: #00d7ff; text-decoration-color: #00d7ff\">None</span>, <span style=\"color: #00af00; text-decoration-color: #00af00\">64</span>)             │        <span style=\"color: #00af00; text-decoration-color: #00af00\">49,408</span> │\n",
       "├─────────────────────────────────┼────────────────────────┼───────────────┤\n",
       "│ dense_12 (<span style=\"color: #0087ff; text-decoration-color: #0087ff\">Dense</span>)                │ (<span style=\"color: #00d7ff; text-decoration-color: #00d7ff\">None</span>, <span style=\"color: #00af00; text-decoration-color: #00af00\">64</span>)             │         <span style=\"color: #00af00; text-decoration-color: #00af00\">4,160</span> │\n",
       "├─────────────────────────────────┼────────────────────────┼───────────────┤\n",
       "│ dense_13 (<span style=\"color: #0087ff; text-decoration-color: #0087ff\">Dense</span>)                │ (<span style=\"color: #00d7ff; text-decoration-color: #00d7ff\">None</span>, <span style=\"color: #00af00; text-decoration-color: #00af00\">32</span>)             │         <span style=\"color: #00af00; text-decoration-color: #00af00\">2,080</span> │\n",
       "├─────────────────────────────────┼────────────────────────┼───────────────┤\n",
       "│ dense_14 (<span style=\"color: #0087ff; text-decoration-color: #0087ff\">Dense</span>)                │ (<span style=\"color: #00d7ff; text-decoration-color: #00d7ff\">None</span>, <span style=\"color: #00af00; text-decoration-color: #00af00\">99</span>)             │         <span style=\"color: #00af00; text-decoration-color: #00af00\">3,267</span> │\n",
       "└─────────────────────────────────┴────────────────────────┴───────────────┘\n",
       "</pre>\n"
      ],
      "text/plain": [
       "┏━━━━━━━━━━━━━━━━━━━━━━━━━━━━━━━━━┳━━━━━━━━━━━━━━━━━━━━━━━━┳━━━━━━━━━━━━━━━┓\n",
       "┃\u001b[1m \u001b[0m\u001b[1mLayer (type)                   \u001b[0m\u001b[1m \u001b[0m┃\u001b[1m \u001b[0m\u001b[1mOutput Shape          \u001b[0m\u001b[1m \u001b[0m┃\u001b[1m \u001b[0m\u001b[1m      Param #\u001b[0m\u001b[1m \u001b[0m┃\n",
       "┡━━━━━━━━━━━━━━━━━━━━━━━━━━━━━━━━━╇━━━━━━━━━━━━━━━━━━━━━━━━╇━━━━━━━━━━━━━━━┩\n",
       "│ lstm_12 (\u001b[38;5;33mLSTM\u001b[0m)                  │ (\u001b[38;5;45mNone\u001b[0m, \u001b[38;5;34m30\u001b[0m, \u001b[38;5;34m64\u001b[0m)         │       \u001b[38;5;34m408,320\u001b[0m │\n",
       "├─────────────────────────────────┼────────────────────────┼───────────────┤\n",
       "│ lstm_13 (\u001b[38;5;33mLSTM\u001b[0m)                  │ (\u001b[38;5;45mNone\u001b[0m, \u001b[38;5;34m30\u001b[0m, \u001b[38;5;34m128\u001b[0m)        │        \u001b[38;5;34m98,816\u001b[0m │\n",
       "├─────────────────────────────────┼────────────────────────┼───────────────┤\n",
       "│ lstm_14 (\u001b[38;5;33mLSTM\u001b[0m)                  │ (\u001b[38;5;45mNone\u001b[0m, \u001b[38;5;34m64\u001b[0m)             │        \u001b[38;5;34m49,408\u001b[0m │\n",
       "├─────────────────────────────────┼────────────────────────┼───────────────┤\n",
       "│ dense_12 (\u001b[38;5;33mDense\u001b[0m)                │ (\u001b[38;5;45mNone\u001b[0m, \u001b[38;5;34m64\u001b[0m)             │         \u001b[38;5;34m4,160\u001b[0m │\n",
       "├─────────────────────────────────┼────────────────────────┼───────────────┤\n",
       "│ dense_13 (\u001b[38;5;33mDense\u001b[0m)                │ (\u001b[38;5;45mNone\u001b[0m, \u001b[38;5;34m32\u001b[0m)             │         \u001b[38;5;34m2,080\u001b[0m │\n",
       "├─────────────────────────────────┼────────────────────────┼───────────────┤\n",
       "│ dense_14 (\u001b[38;5;33mDense\u001b[0m)                │ (\u001b[38;5;45mNone\u001b[0m, \u001b[38;5;34m99\u001b[0m)             │         \u001b[38;5;34m3,267\u001b[0m │\n",
       "└─────────────────────────────────┴────────────────────────┴───────────────┘\n"
      ]
     },
     "metadata": {},
     "output_type": "display_data"
    },
    {
     "data": {
      "text/html": [
       "<pre style=\"white-space:pre;overflow-x:auto;line-height:normal;font-family:Menlo,'DejaVu Sans Mono',consolas,'Courier New',monospace\"><span style=\"font-weight: bold\"> Total params: </span><span style=\"color: #00af00; text-decoration-color: #00af00\">566,051</span> (2.16 MB)\n",
       "</pre>\n"
      ],
      "text/plain": [
       "\u001b[1m Total params: \u001b[0m\u001b[38;5;34m566,051\u001b[0m (2.16 MB)\n"
      ]
     },
     "metadata": {},
     "output_type": "display_data"
    },
    {
     "data": {
      "text/html": [
       "<pre style=\"white-space:pre;overflow-x:auto;line-height:normal;font-family:Menlo,'DejaVu Sans Mono',consolas,'Courier New',monospace\"><span style=\"font-weight: bold\"> Trainable params: </span><span style=\"color: #00af00; text-decoration-color: #00af00\">566,051</span> (2.16 MB)\n",
       "</pre>\n"
      ],
      "text/plain": [
       "\u001b[1m Trainable params: \u001b[0m\u001b[38;5;34m566,051\u001b[0m (2.16 MB)\n"
      ]
     },
     "metadata": {},
     "output_type": "display_data"
    },
    {
     "data": {
      "text/html": [
       "<pre style=\"white-space:pre;overflow-x:auto;line-height:normal;font-family:Menlo,'DejaVu Sans Mono',consolas,'Courier New',monospace\"><span style=\"font-weight: bold\"> Non-trainable params: </span><span style=\"color: #00af00; text-decoration-color: #00af00\">0</span> (0.00 B)\n",
       "</pre>\n"
      ],
      "text/plain": [
       "\u001b[1m Non-trainable params: \u001b[0m\u001b[38;5;34m0\u001b[0m (0.00 B)\n"
      ]
     },
     "metadata": {},
     "output_type": "display_data"
    }
   ],
   "source": [
    "model.summary()"
   ]
  },
  {
   "cell_type": "code",
   "execution_count": 193,
   "metadata": {},
   "outputs": [
    {
     "name": "stdout",
     "output_type": "stream",
     "text": [
      "Epoch 1/2000\n",
      "\u001b[1m12/12\u001b[0m \u001b[32m━━━━━━━━━━━━━━━━━━━━\u001b[0m\u001b[37m\u001b[0m \u001b[1m4s\u001b[0m 86ms/step - categorical_accuracy: 0.0224 - loss: 4.5899 - val_categorical_accuracy: 0.0133 - val_loss: 4.5974\n",
      "Epoch 2/2000\n",
      "\u001b[1m12/12\u001b[0m \u001b[32m━━━━━━━━━━━━━━━━━━━━\u001b[0m\u001b[37m\u001b[0m \u001b[1m1s\u001b[0m 93ms/step - categorical_accuracy: 0.0132 - loss: 4.5883 - val_categorical_accuracy: 0.0133 - val_loss: 4.5955\n",
      "Epoch 3/2000\n",
      "\u001b[1m12/12\u001b[0m \u001b[32m━━━━━━━━━━━━━━━━━━━━\u001b[0m\u001b[37m\u001b[0m \u001b[1m1s\u001b[0m 76ms/step - categorical_accuracy: 0.0174 - loss: 4.5894 - val_categorical_accuracy: 0.0000e+00 - val_loss: 4.6185\n",
      "Epoch 4/2000\n",
      "\u001b[1m12/12\u001b[0m \u001b[32m━━━━━━━━━━━━━━━━━━━━\u001b[0m\u001b[37m\u001b[0m \u001b[1m1s\u001b[0m 68ms/step - categorical_accuracy: 0.0170 - loss: 4.5775 - val_categorical_accuracy: 0.0200 - val_loss: 4.6155\n",
      "Epoch 5/2000\n",
      "\u001b[1m12/12\u001b[0m \u001b[32m━━━━━━━━━━━━━━━━━━━━\u001b[0m\u001b[37m\u001b[0m \u001b[1m1s\u001b[0m 69ms/step - categorical_accuracy: 0.0260 - loss: 4.5819 - val_categorical_accuracy: 0.0133 - val_loss: 4.5837\n",
      "Epoch 6/2000\n",
      "\u001b[1m12/12\u001b[0m \u001b[32m━━━━━━━━━━━━━━━━━━━━\u001b[0m\u001b[37m\u001b[0m \u001b[1m1s\u001b[0m 92ms/step - categorical_accuracy: 0.0273 - loss: 4.5429 - val_categorical_accuracy: 0.0200 - val_loss: 4.5955\n",
      "Epoch 7/2000\n",
      "\u001b[1m12/12\u001b[0m \u001b[32m━━━━━━━━━━━━━━━━━━━━\u001b[0m\u001b[37m\u001b[0m \u001b[1m1s\u001b[0m 91ms/step - categorical_accuracy: 0.0318 - loss: 4.5393 - val_categorical_accuracy: 0.0200 - val_loss: 4.6185\n",
      "Epoch 8/2000\n",
      "\u001b[1m12/12\u001b[0m \u001b[32m━━━━━━━━━━━━━━━━━━━━\u001b[0m\u001b[37m\u001b[0m \u001b[1m1s\u001b[0m 72ms/step - categorical_accuracy: 0.0303 - loss: 4.5655 - val_categorical_accuracy: 0.0067 - val_loss: 4.5918\n",
      "Epoch 9/2000\n",
      "\u001b[1m12/12\u001b[0m \u001b[32m━━━━━━━━━━━━━━━━━━━━\u001b[0m\u001b[37m\u001b[0m \u001b[1m1s\u001b[0m 65ms/step - categorical_accuracy: 0.0278 - loss: 4.5666 - val_categorical_accuracy: 0.0067 - val_loss: 4.5960\n",
      "Epoch 10/2000\n",
      "\u001b[1m12/12\u001b[0m \u001b[32m━━━━━━━━━━━━━━━━━━━━\u001b[0m\u001b[37m\u001b[0m \u001b[1m1s\u001b[0m 63ms/step - categorical_accuracy: 0.0386 - loss: 4.6625 - val_categorical_accuracy: 0.0267 - val_loss: 4.6026\n",
      "Epoch 11/2000\n",
      "\u001b[1m12/12\u001b[0m \u001b[32m━━━━━━━━━━━━━━━━━━━━\u001b[0m\u001b[37m\u001b[0m \u001b[1m1s\u001b[0m 63ms/step - categorical_accuracy: 0.0253 - loss: 4.7882 - val_categorical_accuracy: 0.0133 - val_loss: 4.6632\n",
      "Epoch 12/2000\n",
      "\u001b[1m12/12\u001b[0m \u001b[32m━━━━━━━━━━━━━━━━━━━━\u001b[0m\u001b[37m\u001b[0m \u001b[1m1s\u001b[0m 59ms/step - categorical_accuracy: 0.0327 - loss: 4.6077 - val_categorical_accuracy: 0.0200 - val_loss: 4.6302\n",
      "Epoch 13/2000\n",
      "\u001b[1m12/12\u001b[0m \u001b[32m━━━━━━━━━━━━━━━━━━━━\u001b[0m\u001b[37m\u001b[0m \u001b[1m1s\u001b[0m 58ms/step - categorical_accuracy: 0.0340 - loss: 4.4156 - val_categorical_accuracy: 0.0200 - val_loss: 4.5638\n",
      "Epoch 14/2000\n",
      "\u001b[1m12/12\u001b[0m \u001b[32m━━━━━━━━━━━━━━━━━━━━\u001b[0m\u001b[37m\u001b[0m \u001b[1m1s\u001b[0m 59ms/step - categorical_accuracy: 0.0397 - loss: 4.3851 - val_categorical_accuracy: 0.0333 - val_loss: 4.7484\n",
      "Epoch 15/2000\n",
      "\u001b[1m12/12\u001b[0m \u001b[32m━━━━━━━━━━━━━━━━━━━━\u001b[0m\u001b[37m\u001b[0m \u001b[1m1s\u001b[0m 59ms/step - categorical_accuracy: 0.0237 - loss: 4.4667 - val_categorical_accuracy: 0.0200 - val_loss: 4.5769\n",
      "Epoch 16/2000\n",
      "\u001b[1m12/12\u001b[0m \u001b[32m━━━━━━━━━━━━━━━━━━━━\u001b[0m\u001b[37m\u001b[0m \u001b[1m1s\u001b[0m 63ms/step - categorical_accuracy: 0.0380 - loss: 4.3083 - val_categorical_accuracy: 0.0200 - val_loss: 4.9431\n",
      "Epoch 17/2000\n",
      "\u001b[1m12/12\u001b[0m \u001b[32m━━━━━━━━━━━━━━━━━━━━\u001b[0m\u001b[37m\u001b[0m \u001b[1m1s\u001b[0m 62ms/step - categorical_accuracy: 0.0272 - loss: 12.1638 - val_categorical_accuracy: 0.0067 - val_loss: 25.3632\n",
      "Epoch 18/2000\n",
      "\u001b[1m12/12\u001b[0m \u001b[32m━━━━━━━━━━━━━━━━━━━━\u001b[0m\u001b[37m\u001b[0m \u001b[1m1s\u001b[0m 63ms/step - categorical_accuracy: 0.0043 - loss: 15.9987 - val_categorical_accuracy: 0.0133 - val_loss: 7.4487\n",
      "Epoch 19/2000\n",
      "\u001b[1m12/12\u001b[0m \u001b[32m━━━━━━━━━━━━━━━━━━━━\u001b[0m\u001b[37m\u001b[0m \u001b[1m1s\u001b[0m 62ms/step - categorical_accuracy: 0.0177 - loss: 5.4347 - val_categorical_accuracy: 0.0133 - val_loss: 4.6048\n",
      "Epoch 20/2000\n",
      "\u001b[1m12/12\u001b[0m \u001b[32m━━━━━━━━━━━━━━━━━━━━\u001b[0m\u001b[37m\u001b[0m \u001b[1m1s\u001b[0m 76ms/step - categorical_accuracy: 0.0150 - loss: 4.7086 - val_categorical_accuracy: 0.0133 - val_loss: 4.6373\n",
      "Epoch 21/2000\n",
      "\u001b[1m12/12\u001b[0m \u001b[32m━━━━━━━━━━━━━━━━━━━━\u001b[0m\u001b[37m\u001b[0m \u001b[1m1s\u001b[0m 68ms/step - categorical_accuracy: 0.0138 - loss: 4.5910 - val_categorical_accuracy: 0.0133 - val_loss: 4.6059\n",
      "Epoch 22/2000\n",
      "\u001b[1m12/12\u001b[0m \u001b[32m━━━━━━━━━━━━━━━━━━━━\u001b[0m\u001b[37m\u001b[0m \u001b[1m1s\u001b[0m 60ms/step - categorical_accuracy: 0.0172 - loss: 4.5812 - val_categorical_accuracy: 0.0067 - val_loss: 4.6066\n",
      "Epoch 23/2000\n",
      "\u001b[1m12/12\u001b[0m \u001b[32m━━━━━━━━━━━━━━━━━━━━\u001b[0m\u001b[37m\u001b[0m \u001b[1m1s\u001b[0m 57ms/step - categorical_accuracy: 0.0223 - loss: 4.5758 - val_categorical_accuracy: 0.0067 - val_loss: 4.6072\n",
      "Epoch 24/2000\n",
      "\u001b[1m12/12\u001b[0m \u001b[32m━━━━━━━━━━━━━━━━━━━━\u001b[0m\u001b[37m\u001b[0m \u001b[1m1s\u001b[0m 56ms/step - categorical_accuracy: 0.0170 - loss: 4.5793 - val_categorical_accuracy: 0.0000e+00 - val_loss: 4.6079\n",
      "Epoch 25/2000\n",
      "\u001b[1m12/12\u001b[0m \u001b[32m━━━━━━━━━━━━━━━━━━━━\u001b[0m\u001b[37m\u001b[0m \u001b[1m1s\u001b[0m 59ms/step - categorical_accuracy: 0.0271 - loss: 4.5749 - val_categorical_accuracy: 0.0000e+00 - val_loss: 4.6085\n",
      "Epoch 26/2000\n",
      "\u001b[1m12/12\u001b[0m \u001b[32m━━━━━━━━━━━━━━━━━━━━\u001b[0m\u001b[37m\u001b[0m \u001b[1m1s\u001b[0m 57ms/step - categorical_accuracy: 0.0207 - loss: 4.5798 - val_categorical_accuracy: 0.0067 - val_loss: 4.6092\n",
      "Epoch 27/2000\n",
      "\u001b[1m12/12\u001b[0m \u001b[32m━━━━━━━━━━━━━━━━━━━━\u001b[0m\u001b[37m\u001b[0m \u001b[1m1s\u001b[0m 69ms/step - categorical_accuracy: 0.0170 - loss: 4.5799 - val_categorical_accuracy: 0.0067 - val_loss: 4.6098\n",
      "Epoch 28/2000\n",
      "\u001b[1m12/12\u001b[0m \u001b[32m━━━━━━━━━━━━━━━━━━━━\u001b[0m\u001b[37m\u001b[0m \u001b[1m1s\u001b[0m 103ms/step - categorical_accuracy: 0.0228 - loss: 4.5741 - val_categorical_accuracy: 0.0067 - val_loss: 4.6106\n",
      "Epoch 29/2000\n",
      "\u001b[1m12/12\u001b[0m \u001b[32m━━━━━━━━━━━━━━━━━━━━\u001b[0m\u001b[37m\u001b[0m \u001b[1m1s\u001b[0m 69ms/step - categorical_accuracy: 0.0221 - loss: 4.5718 - val_categorical_accuracy: 0.0067 - val_loss: 4.6111\n",
      "Epoch 30/2000\n",
      "\u001b[1m12/12\u001b[0m \u001b[32m━━━━━━━━━━━━━━━━━━━━\u001b[0m\u001b[37m\u001b[0m \u001b[1m1s\u001b[0m 78ms/step - categorical_accuracy: 0.0223 - loss: 4.5703 - val_categorical_accuracy: 0.0067 - val_loss: 4.6118\n",
      "Epoch 31/2000\n",
      "\u001b[1m12/12\u001b[0m \u001b[32m━━━━━━━━━━━━━━━━━━━━\u001b[0m\u001b[37m\u001b[0m \u001b[1m1s\u001b[0m 68ms/step - categorical_accuracy: 0.0144 - loss: 4.5710 - val_categorical_accuracy: 0.0067 - val_loss: 4.6125\n",
      "Epoch 32/2000\n",
      "\u001b[1m12/12\u001b[0m \u001b[32m━━━━━━━━━━━━━━━━━━━━\u001b[0m\u001b[37m\u001b[0m \u001b[1m1s\u001b[0m 62ms/step - categorical_accuracy: 0.0165 - loss: 4.5711 - val_categorical_accuracy: 0.0067 - val_loss: 4.6131\n",
      "Epoch 33/2000\n",
      "\u001b[1m12/12\u001b[0m \u001b[32m━━━━━━━━━━━━━━━━━━━━\u001b[0m\u001b[37m\u001b[0m \u001b[1m1s\u001b[0m 57ms/step - categorical_accuracy: 0.0207 - loss: 4.5701 - val_categorical_accuracy: 0.0067 - val_loss: 4.6138\n",
      "Epoch 34/2000\n",
      "\u001b[1m12/12\u001b[0m \u001b[32m━━━━━━━━━━━━━━━━━━━━\u001b[0m\u001b[37m\u001b[0m \u001b[1m1s\u001b[0m 62ms/step - categorical_accuracy: 0.0184 - loss: 4.5695 - val_categorical_accuracy: 0.0067 - val_loss: 4.6145\n",
      "Epoch 35/2000\n",
      "\u001b[1m12/12\u001b[0m \u001b[32m━━━━━━━━━━━━━━━━━━━━\u001b[0m\u001b[37m\u001b[0m \u001b[1m1s\u001b[0m 61ms/step - categorical_accuracy: 0.0144 - loss: 4.5661 - val_categorical_accuracy: 0.0067 - val_loss: 4.6151\n",
      "Epoch 36/2000\n",
      "\u001b[1m12/12\u001b[0m \u001b[32m━━━━━━━━━━━━━━━━━━━━\u001b[0m\u001b[37m\u001b[0m \u001b[1m1s\u001b[0m 73ms/step - categorical_accuracy: 0.0224 - loss: 4.5661 - val_categorical_accuracy: 0.0067 - val_loss: 4.6158\n",
      "Epoch 37/2000\n",
      "\u001b[1m12/12\u001b[0m \u001b[32m━━━━━━━━━━━━━━━━━━━━\u001b[0m\u001b[37m\u001b[0m \u001b[1m1s\u001b[0m 64ms/step - categorical_accuracy: 0.0204 - loss: 4.5636 - val_categorical_accuracy: 0.0067 - val_loss: 4.6165\n",
      "Epoch 38/2000\n",
      "\u001b[1m12/12\u001b[0m \u001b[32m━━━━━━━━━━━━━━━━━━━━\u001b[0m\u001b[37m\u001b[0m \u001b[1m1s\u001b[0m 60ms/step - categorical_accuracy: 0.0270 - loss: 4.5606 - val_categorical_accuracy: 0.0067 - val_loss: 4.6172\n",
      "Epoch 39/2000\n",
      "\u001b[1m12/12\u001b[0m \u001b[32m━━━━━━━━━━━━━━━━━━━━\u001b[0m\u001b[37m\u001b[0m \u001b[1m1s\u001b[0m 59ms/step - categorical_accuracy: 0.0208 - loss: 4.5664 - val_categorical_accuracy: 0.0067 - val_loss: 4.6178\n",
      "Epoch 40/2000\n",
      "\u001b[1m12/12\u001b[0m \u001b[32m━━━━━━━━━━━━━━━━━━━━\u001b[0m\u001b[37m\u001b[0m \u001b[1m1s\u001b[0m 59ms/step - categorical_accuracy: 0.0174 - loss: 4.5708 - val_categorical_accuracy: 0.0067 - val_loss: 4.6183\n",
      "Epoch 41/2000\n",
      "\u001b[1m12/12\u001b[0m \u001b[32m━━━━━━━━━━━━━━━━━━━━\u001b[0m\u001b[37m\u001b[0m \u001b[1m1s\u001b[0m 57ms/step - categorical_accuracy: 0.0188 - loss: 4.5637 - val_categorical_accuracy: 0.0067 - val_loss: 4.6189\n",
      "Epoch 42/2000\n",
      "\u001b[1m12/12\u001b[0m \u001b[32m━━━━━━━━━━━━━━━━━━━━\u001b[0m\u001b[37m\u001b[0m \u001b[1m1s\u001b[0m 57ms/step - categorical_accuracy: 0.0176 - loss: 4.5655 - val_categorical_accuracy: 0.0067 - val_loss: 4.6196\n",
      "Epoch 43/2000\n",
      "\u001b[1m12/12\u001b[0m \u001b[32m━━━━━━━━━━━━━━━━━━━━\u001b[0m\u001b[37m\u001b[0m \u001b[1m1s\u001b[0m 59ms/step - categorical_accuracy: 0.0204 - loss: 4.5615 - val_categorical_accuracy: 0.0067 - val_loss: 4.6203\n",
      "Epoch 44/2000\n",
      "\u001b[1m12/12\u001b[0m \u001b[32m━━━━━━━━━━━━━━━━━━━━\u001b[0m\u001b[37m\u001b[0m \u001b[1m1s\u001b[0m 62ms/step - categorical_accuracy: 0.0154 - loss: 4.5642 - val_categorical_accuracy: 0.0067 - val_loss: 4.6210\n",
      "Epoch 45/2000\n",
      "\u001b[1m12/12\u001b[0m \u001b[32m━━━━━━━━━━━━━━━━━━━━\u001b[0m\u001b[37m\u001b[0m \u001b[1m1s\u001b[0m 61ms/step - categorical_accuracy: 0.0129 - loss: 4.5596 - val_categorical_accuracy: 0.0067 - val_loss: 4.6217\n",
      "Epoch 46/2000\n",
      "\u001b[1m12/12\u001b[0m \u001b[32m━━━━━━━━━━━━━━━━━━━━\u001b[0m\u001b[37m\u001b[0m \u001b[1m1s\u001b[0m 58ms/step - categorical_accuracy: 0.0210 - loss: 4.5626 - val_categorical_accuracy: 0.0067 - val_loss: 4.6223\n",
      "Epoch 47/2000\n",
      "\u001b[1m12/12\u001b[0m \u001b[32m━━━━━━━━━━━━━━━━━━━━\u001b[0m\u001b[37m\u001b[0m \u001b[1m1s\u001b[0m 58ms/step - categorical_accuracy: 0.0170 - loss: 4.5596 - val_categorical_accuracy: 0.0067 - val_loss: 4.6229\n",
      "Epoch 48/2000\n",
      "\u001b[1m12/12\u001b[0m \u001b[32m━━━━━━━━━━━━━━━━━━━━\u001b[0m\u001b[37m\u001b[0m \u001b[1m1s\u001b[0m 57ms/step - categorical_accuracy: 0.0214 - loss: 4.5618 - val_categorical_accuracy: 0.0067 - val_loss: 4.6237\n",
      "Epoch 49/2000\n",
      "\u001b[1m12/12\u001b[0m \u001b[32m━━━━━━━━━━━━━━━━━━━━\u001b[0m\u001b[37m\u001b[0m \u001b[1m1s\u001b[0m 55ms/step - categorical_accuracy: 0.0192 - loss: 4.5610 - val_categorical_accuracy: 0.0067 - val_loss: 4.6242\n",
      "Epoch 50/2000\n",
      "\u001b[1m12/12\u001b[0m \u001b[32m━━━━━━━━━━━━━━━━━━━━\u001b[0m\u001b[37m\u001b[0m \u001b[1m1s\u001b[0m 58ms/step - categorical_accuracy: 0.0181 - loss: 4.5624 - val_categorical_accuracy: 0.0067 - val_loss: 4.6248\n",
      "Epoch 51/2000\n",
      "\u001b[1m12/12\u001b[0m \u001b[32m━━━━━━━━━━━━━━━━━━━━\u001b[0m\u001b[37m\u001b[0m \u001b[1m1s\u001b[0m 58ms/step - categorical_accuracy: 0.0182 - loss: 4.5529 - val_categorical_accuracy: 0.0067 - val_loss: 4.6255\n",
      "Epoch 52/2000\n",
      "\u001b[1m12/12\u001b[0m \u001b[32m━━━━━━━━━━━━━━━━━━━━\u001b[0m\u001b[37m\u001b[0m \u001b[1m1s\u001b[0m 56ms/step - categorical_accuracy: 0.0169 - loss: 4.5595 - val_categorical_accuracy: 0.0067 - val_loss: 4.6262\n",
      "Epoch 53/2000\n",
      "\u001b[1m12/12\u001b[0m \u001b[32m━━━━━━━━━━━━━━━━━━━━\u001b[0m\u001b[37m\u001b[0m \u001b[1m1s\u001b[0m 62ms/step - categorical_accuracy: 0.0239 - loss: 4.5534 - val_categorical_accuracy: 0.0067 - val_loss: 4.6268\n",
      "Epoch 54/2000\n",
      "\u001b[1m12/12\u001b[0m \u001b[32m━━━━━━━━━━━━━━━━━━━━\u001b[0m\u001b[37m\u001b[0m \u001b[1m1s\u001b[0m 61ms/step - categorical_accuracy: 0.0153 - loss: 4.5615 - val_categorical_accuracy: 0.0067 - val_loss: 4.6275\n",
      "Epoch 55/2000\n",
      "\u001b[1m12/12\u001b[0m \u001b[32m━━━━━━━━━━━━━━━━━━━━\u001b[0m\u001b[37m\u001b[0m \u001b[1m1s\u001b[0m 62ms/step - categorical_accuracy: 0.0279 - loss: 4.5586 - val_categorical_accuracy: 0.0067 - val_loss: 4.6281\n",
      "Epoch 56/2000\n",
      "\u001b[1m12/12\u001b[0m \u001b[32m━━━━━━━━━━━━━━━━━━━━\u001b[0m\u001b[37m\u001b[0m \u001b[1m1s\u001b[0m 59ms/step - categorical_accuracy: 0.0238 - loss: 4.5559 - val_categorical_accuracy: 0.0067 - val_loss: 4.6287\n",
      "Epoch 57/2000\n",
      "\u001b[1m12/12\u001b[0m \u001b[32m━━━━━━━━━━━━━━━━━━━━\u001b[0m\u001b[37m\u001b[0m \u001b[1m1s\u001b[0m 61ms/step - categorical_accuracy: 0.0176 - loss: 4.5598 - val_categorical_accuracy: 0.0067 - val_loss: 4.6293\n",
      "Epoch 58/2000\n",
      "\u001b[1m12/12\u001b[0m \u001b[32m━━━━━━━━━━━━━━━━━━━━\u001b[0m\u001b[37m\u001b[0m \u001b[1m1s\u001b[0m 62ms/step - categorical_accuracy: 0.0187 - loss: 4.5560 - val_categorical_accuracy: 0.0067 - val_loss: 4.6301\n",
      "Epoch 59/2000\n",
      "\u001b[1m12/12\u001b[0m \u001b[32m━━━━━━━━━━━━━━━━━━━━\u001b[0m\u001b[37m\u001b[0m \u001b[1m1s\u001b[0m 59ms/step - categorical_accuracy: 0.0146 - loss: 4.5525 - val_categorical_accuracy: 0.0067 - val_loss: 4.6307\n",
      "Epoch 60/2000\n",
      "\u001b[1m12/12\u001b[0m \u001b[32m━━━━━━━━━━━━━━━━━━━━\u001b[0m\u001b[37m\u001b[0m \u001b[1m1s\u001b[0m 60ms/step - categorical_accuracy: 0.0253 - loss: 4.5547 - val_categorical_accuracy: 0.0067 - val_loss: 4.6313\n",
      "Epoch 61/2000\n",
      "\u001b[1m12/12\u001b[0m \u001b[32m━━━━━━━━━━━━━━━━━━━━\u001b[0m\u001b[37m\u001b[0m \u001b[1m1s\u001b[0m 56ms/step - categorical_accuracy: 0.0297 - loss: 4.5452 - val_categorical_accuracy: 0.0067 - val_loss: 4.6319\n",
      "Epoch 62/2000\n",
      "\u001b[1m12/12\u001b[0m \u001b[32m━━━━━━━━━━━━━━━━━━━━\u001b[0m\u001b[37m\u001b[0m \u001b[1m1s\u001b[0m 61ms/step - categorical_accuracy: 0.0225 - loss: 4.5541 - val_categorical_accuracy: 0.0067 - val_loss: 4.6327\n",
      "Epoch 63/2000\n",
      "\u001b[1m12/12\u001b[0m \u001b[32m━━━━━━━━━━━━━━━━━━━━\u001b[0m\u001b[37m\u001b[0m \u001b[1m1s\u001b[0m 57ms/step - categorical_accuracy: 0.0178 - loss: 4.5535 - val_categorical_accuracy: 0.0067 - val_loss: 4.6332\n",
      "Epoch 64/2000\n",
      "\u001b[1m12/12\u001b[0m \u001b[32m━━━━━━━━━━━━━━━━━━━━\u001b[0m\u001b[37m\u001b[0m \u001b[1m1s\u001b[0m 57ms/step - categorical_accuracy: 0.0152 - loss: 4.5579 - val_categorical_accuracy: 0.0067 - val_loss: 4.6338\n",
      "Epoch 65/2000\n",
      "\u001b[1m12/12\u001b[0m \u001b[32m━━━━━━━━━━━━━━━━━━━━\u001b[0m\u001b[37m\u001b[0m \u001b[1m1s\u001b[0m 59ms/step - categorical_accuracy: 0.0128 - loss: 4.5480 - val_categorical_accuracy: 0.0067 - val_loss: 4.6345\n",
      "Epoch 66/2000\n",
      "\u001b[1m12/12\u001b[0m \u001b[32m━━━━━━━━━━━━━━━━━━━━\u001b[0m\u001b[37m\u001b[0m \u001b[1m1s\u001b[0m 62ms/step - categorical_accuracy: 0.0227 - loss: 4.5499 - val_categorical_accuracy: 0.0067 - val_loss: 4.6352\n",
      "Epoch 67/2000\n",
      "\u001b[1m12/12\u001b[0m \u001b[32m━━━━━━━━━━━━━━━━━━━━\u001b[0m\u001b[37m\u001b[0m \u001b[1m1s\u001b[0m 55ms/step - categorical_accuracy: 0.0212 - loss: 4.5578 - val_categorical_accuracy: 0.0067 - val_loss: 4.6359\n",
      "Epoch 68/2000\n",
      "\u001b[1m12/12\u001b[0m \u001b[32m━━━━━━━━━━━━━━━━━━━━\u001b[0m\u001b[37m\u001b[0m \u001b[1m1s\u001b[0m 61ms/step - categorical_accuracy: 0.0221 - loss: 4.5483 - val_categorical_accuracy: 0.0067 - val_loss: 4.6365\n",
      "Epoch 69/2000\n",
      "\u001b[1m12/12\u001b[0m \u001b[32m━━━━━━━━━━━━━━━━━━━━\u001b[0m\u001b[37m\u001b[0m \u001b[1m1s\u001b[0m 57ms/step - categorical_accuracy: 0.0182 - loss: 4.5586 - val_categorical_accuracy: 0.0067 - val_loss: 4.6370\n",
      "Epoch 70/2000\n",
      "\u001b[1m12/12\u001b[0m \u001b[32m━━━━━━━━━━━━━━━━━━━━\u001b[0m\u001b[37m\u001b[0m \u001b[1m1s\u001b[0m 56ms/step - categorical_accuracy: 0.0284 - loss: 4.5458 - val_categorical_accuracy: 0.0067 - val_loss: 4.6378\n",
      "Epoch 71/2000\n",
      "\u001b[1m12/12\u001b[0m \u001b[32m━━━━━━━━━━━━━━━━━━━━\u001b[0m\u001b[37m\u001b[0m \u001b[1m1s\u001b[0m 55ms/step - categorical_accuracy: 0.0269 - loss: 4.5489 - val_categorical_accuracy: 0.0067 - val_loss: 4.6382\n",
      "Epoch 72/2000\n",
      "\u001b[1m12/12\u001b[0m \u001b[32m━━━━━━━━━━━━━━━━━━━━\u001b[0m\u001b[37m\u001b[0m \u001b[1m1s\u001b[0m 54ms/step - categorical_accuracy: 0.0238 - loss: 4.5381 - val_categorical_accuracy: 0.0067 - val_loss: 4.6389\n",
      "Epoch 73/2000\n",
      "\u001b[1m12/12\u001b[0m \u001b[32m━━━━━━━━━━━━━━━━━━━━\u001b[0m\u001b[37m\u001b[0m \u001b[1m1s\u001b[0m 56ms/step - categorical_accuracy: 0.0149 - loss: 4.5505 - val_categorical_accuracy: 0.0067 - val_loss: 4.6395\n",
      "Epoch 74/2000\n",
      "\u001b[1m12/12\u001b[0m \u001b[32m━━━━━━━━━━━━━━━━━━━━\u001b[0m\u001b[37m\u001b[0m \u001b[1m1s\u001b[0m 58ms/step - categorical_accuracy: 0.0267 - loss: 4.5422 - val_categorical_accuracy: 0.0067 - val_loss: 4.6402\n",
      "Epoch 75/2000\n",
      "\u001b[1m12/12\u001b[0m \u001b[32m━━━━━━━━━━━━━━━━━━━━\u001b[0m\u001b[37m\u001b[0m \u001b[1m1s\u001b[0m 63ms/step - categorical_accuracy: 0.0176 - loss: 4.5452 - val_categorical_accuracy: 0.0067 - val_loss: 4.6409\n",
      "Epoch 76/2000\n",
      "\u001b[1m12/12\u001b[0m \u001b[32m━━━━━━━━━━━━━━━━━━━━\u001b[0m\u001b[37m\u001b[0m \u001b[1m1s\u001b[0m 61ms/step - categorical_accuracy: 0.0314 - loss: 4.5473 - val_categorical_accuracy: 0.0067 - val_loss: 4.6414\n",
      "Epoch 77/2000\n",
      "\u001b[1m12/12\u001b[0m \u001b[32m━━━━━━━━━━━━━━━━━━━━\u001b[0m\u001b[37m\u001b[0m \u001b[1m1s\u001b[0m 75ms/step - categorical_accuracy: 0.0148 - loss: 4.5514 - val_categorical_accuracy: 0.0067 - val_loss: 4.6421\n",
      "Epoch 78/2000\n",
      "\u001b[1m12/12\u001b[0m \u001b[32m━━━━━━━━━━━━━━━━━━━━\u001b[0m\u001b[37m\u001b[0m \u001b[1m1s\u001b[0m 61ms/step - categorical_accuracy: 0.0181 - loss: 4.5475 - val_categorical_accuracy: 0.0067 - val_loss: 4.6428\n",
      "Epoch 79/2000\n",
      "\u001b[1m12/12\u001b[0m \u001b[32m━━━━━━━━━━━━━━━━━━━━\u001b[0m\u001b[37m\u001b[0m \u001b[1m1s\u001b[0m 63ms/step - categorical_accuracy: 0.0253 - loss: 4.5471 - val_categorical_accuracy: 0.0067 - val_loss: 4.6432\n",
      "Epoch 80/2000\n",
      "\u001b[1m12/12\u001b[0m \u001b[32m━━━━━━━━━━━━━━━━━━━━\u001b[0m\u001b[37m\u001b[0m \u001b[1m1s\u001b[0m 66ms/step - categorical_accuracy: 0.0288 - loss: 4.5427 - val_categorical_accuracy: 0.0067 - val_loss: 4.6439\n",
      "Epoch 81/2000\n",
      "\u001b[1m12/12\u001b[0m \u001b[32m━━━━━━━━━━━━━━━━━━━━\u001b[0m\u001b[37m\u001b[0m \u001b[1m1s\u001b[0m 61ms/step - categorical_accuracy: 0.0153 - loss: 4.5464 - val_categorical_accuracy: 0.0067 - val_loss: 4.6445\n",
      "Epoch 82/2000\n",
      "\u001b[1m12/12\u001b[0m \u001b[32m━━━━━━━━━━━━━━━━━━━━\u001b[0m\u001b[37m\u001b[0m \u001b[1m1s\u001b[0m 58ms/step - categorical_accuracy: 0.0167 - loss: 4.5584 - val_categorical_accuracy: 0.0067 - val_loss: 4.6451\n",
      "Epoch 83/2000\n",
      "\u001b[1m12/12\u001b[0m \u001b[32m━━━━━━━━━━━━━━━━━━━━\u001b[0m\u001b[37m\u001b[0m \u001b[1m1s\u001b[0m 60ms/step - categorical_accuracy: 0.0208 - loss: 4.5457 - val_categorical_accuracy: 0.0067 - val_loss: 4.6456\n",
      "Epoch 84/2000\n",
      "\u001b[1m12/12\u001b[0m \u001b[32m━━━━━━━━━━━━━━━━━━━━\u001b[0m\u001b[37m\u001b[0m \u001b[1m1s\u001b[0m 60ms/step - categorical_accuracy: 0.0142 - loss: 4.5546 - val_categorical_accuracy: 0.0067 - val_loss: 4.6461\n",
      "Epoch 85/2000\n",
      "\u001b[1m12/12\u001b[0m \u001b[32m━━━━━━━━━━━━━━━━━━━━\u001b[0m\u001b[37m\u001b[0m \u001b[1m1s\u001b[0m 62ms/step - categorical_accuracy: 0.0241 - loss: 4.5543 - val_categorical_accuracy: 0.0067 - val_loss: 4.6467\n",
      "Epoch 86/2000\n",
      "\u001b[1m12/12\u001b[0m \u001b[32m━━━━━━━━━━━━━━━━━━━━\u001b[0m\u001b[37m\u001b[0m \u001b[1m1s\u001b[0m 60ms/step - categorical_accuracy: 0.0151 - loss: 4.5434 - val_categorical_accuracy: 0.0067 - val_loss: 4.6473\n",
      "Epoch 87/2000\n",
      "\u001b[1m12/12\u001b[0m \u001b[32m━━━━━━━━━━━━━━━━━━━━\u001b[0m\u001b[37m\u001b[0m \u001b[1m1s\u001b[0m 58ms/step - categorical_accuracy: 0.0159 - loss: 4.5513 - val_categorical_accuracy: 0.0067 - val_loss: 4.6479\n",
      "Epoch 88/2000\n",
      "\u001b[1m12/12\u001b[0m \u001b[32m━━━━━━━━━━━━━━━━━━━━\u001b[0m\u001b[37m\u001b[0m \u001b[1m1s\u001b[0m 56ms/step - categorical_accuracy: 0.0198 - loss: 4.5489 - val_categorical_accuracy: 0.0067 - val_loss: 4.6486\n",
      "Epoch 89/2000\n",
      "\u001b[1m12/12\u001b[0m \u001b[32m━━━━━━━━━━━━━━━━━━━━\u001b[0m\u001b[37m\u001b[0m \u001b[1m1s\u001b[0m 56ms/step - categorical_accuracy: 0.0184 - loss: 4.5479 - val_categorical_accuracy: 0.0067 - val_loss: 4.6491\n",
      "Epoch 90/2000\n",
      "\u001b[1m12/12\u001b[0m \u001b[32m━━━━━━━━━━━━━━━━━━━━\u001b[0m\u001b[37m\u001b[0m \u001b[1m1s\u001b[0m 62ms/step - categorical_accuracy: 0.0103 - loss: 4.5397 - val_categorical_accuracy: 0.0067 - val_loss: 4.6497\n",
      "Epoch 91/2000\n",
      "\u001b[1m12/12\u001b[0m \u001b[32m━━━━━━━━━━━━━━━━━━━━\u001b[0m\u001b[37m\u001b[0m \u001b[1m1s\u001b[0m 55ms/step - categorical_accuracy: 0.0241 - loss: 4.5343 - val_categorical_accuracy: 0.0067 - val_loss: 4.6503\n",
      "Epoch 92/2000\n",
      "\u001b[1m12/12\u001b[0m \u001b[32m━━━━━━━━━━━━━━━━━━━━\u001b[0m\u001b[37m\u001b[0m \u001b[1m1s\u001b[0m 56ms/step - categorical_accuracy: 0.0172 - loss: 4.5478 - val_categorical_accuracy: 0.0067 - val_loss: 4.6509\n",
      "Epoch 93/2000\n",
      "\u001b[1m12/12\u001b[0m \u001b[32m━━━━━━━━━━━━━━━━━━━━\u001b[0m\u001b[37m\u001b[0m \u001b[1m1s\u001b[0m 55ms/step - categorical_accuracy: 0.0310 - loss: 4.5406 - val_categorical_accuracy: 0.0067 - val_loss: 4.6515\n",
      "Epoch 94/2000\n",
      "\u001b[1m12/12\u001b[0m \u001b[32m━━━━━━━━━━━━━━━━━━━━\u001b[0m\u001b[37m\u001b[0m \u001b[1m1s\u001b[0m 72ms/step - categorical_accuracy: 0.0255 - loss: 4.5484 - val_categorical_accuracy: 0.0067 - val_loss: 4.6520\n",
      "Epoch 95/2000\n",
      "\u001b[1m12/12\u001b[0m \u001b[32m━━━━━━━━━━━━━━━━━━━━\u001b[0m\u001b[37m\u001b[0m \u001b[1m1s\u001b[0m 67ms/step - categorical_accuracy: 0.0286 - loss: 4.5361 - val_categorical_accuracy: 0.0067 - val_loss: 4.6526\n",
      "Epoch 96/2000\n",
      "\u001b[1m12/12\u001b[0m \u001b[32m━━━━━━━━━━━━━━━━━━━━\u001b[0m\u001b[37m\u001b[0m \u001b[1m1s\u001b[0m 83ms/step - categorical_accuracy: 0.0251 - loss: 4.5444 - val_categorical_accuracy: 0.0067 - val_loss: 4.6531\n",
      "Epoch 97/2000\n",
      "\u001b[1m12/12\u001b[0m \u001b[32m━━━━━━━━━━━━━━━━━━━━\u001b[0m\u001b[37m\u001b[0m \u001b[1m1s\u001b[0m 82ms/step - categorical_accuracy: 0.0183 - loss: 4.5330 - val_categorical_accuracy: 0.0067 - val_loss: 4.6538\n",
      "Epoch 98/2000\n",
      "\u001b[1m12/12\u001b[0m \u001b[32m━━━━━━━━━━━━━━━━━━━━\u001b[0m\u001b[37m\u001b[0m \u001b[1m1s\u001b[0m 78ms/step - categorical_accuracy: 0.0320 - loss: 4.5383 - val_categorical_accuracy: 0.0067 - val_loss: 4.6543\n",
      "Epoch 99/2000\n",
      "\u001b[1m12/12\u001b[0m \u001b[32m━━━━━━━━━━━━━━━━━━━━\u001b[0m\u001b[37m\u001b[0m \u001b[1m1s\u001b[0m 77ms/step - categorical_accuracy: 0.0260 - loss: 4.5392 - val_categorical_accuracy: 0.0067 - val_loss: 4.6548\n",
      "Epoch 100/2000\n",
      "\u001b[1m12/12\u001b[0m \u001b[32m━━━━━━━━━━━━━━━━━━━━\u001b[0m\u001b[37m\u001b[0m \u001b[1m1s\u001b[0m 80ms/step - categorical_accuracy: 0.0144 - loss: 4.5453 - val_categorical_accuracy: 0.0067 - val_loss: 4.6553\n",
      "Epoch 101/2000\n",
      "\u001b[1m12/12\u001b[0m \u001b[32m━━━━━━━━━━━━━━━━━━━━\u001b[0m\u001b[37m\u001b[0m \u001b[1m1s\u001b[0m 69ms/step - categorical_accuracy: 0.0247 - loss: 4.5388 - val_categorical_accuracy: 0.0067 - val_loss: 4.6559\n",
      "Epoch 102/2000\n",
      "\u001b[1m12/12\u001b[0m \u001b[32m━━━━━━━━━━━━━━━━━━━━\u001b[0m\u001b[37m\u001b[0m \u001b[1m1s\u001b[0m 69ms/step - categorical_accuracy: 0.0189 - loss: 4.5418 - val_categorical_accuracy: 0.0067 - val_loss: 4.6564\n",
      "Epoch 103/2000\n",
      "\u001b[1m12/12\u001b[0m \u001b[32m━━━━━━━━━━━━━━━━━━━━\u001b[0m\u001b[37m\u001b[0m \u001b[1m1s\u001b[0m 72ms/step - categorical_accuracy: 0.0171 - loss: 4.5435 - val_categorical_accuracy: 0.0067 - val_loss: 4.6570\n",
      "Epoch 104/2000\n",
      "\u001b[1m12/12\u001b[0m \u001b[32m━━━━━━━━━━━━━━━━━━━━\u001b[0m\u001b[37m\u001b[0m \u001b[1m1s\u001b[0m 70ms/step - categorical_accuracy: 0.0178 - loss: 4.5343 - val_categorical_accuracy: 0.0067 - val_loss: 4.6577\n",
      "Epoch 105/2000\n",
      "\u001b[1m12/12\u001b[0m \u001b[32m━━━━━━━━━━━━━━━━━━━━\u001b[0m\u001b[37m\u001b[0m \u001b[1m1s\u001b[0m 71ms/step - categorical_accuracy: 0.0297 - loss: 4.5368 - val_categorical_accuracy: 0.0067 - val_loss: 4.6582\n",
      "Epoch 106/2000\n",
      "\u001b[1m12/12\u001b[0m \u001b[32m━━━━━━━━━━━━━━━━━━━━\u001b[0m\u001b[37m\u001b[0m \u001b[1m1s\u001b[0m 76ms/step - categorical_accuracy: 0.0170 - loss: 4.5516 - val_categorical_accuracy: 0.0067 - val_loss: 4.6586\n",
      "Epoch 107/2000\n",
      "\u001b[1m12/12\u001b[0m \u001b[32m━━━━━━━━━━━━━━━━━━━━\u001b[0m\u001b[37m\u001b[0m \u001b[1m1s\u001b[0m 67ms/step - categorical_accuracy: 0.0153 - loss: 4.5410 - val_categorical_accuracy: 0.0067 - val_loss: 4.6591\n",
      "Epoch 108/2000\n",
      "\u001b[1m12/12\u001b[0m \u001b[32m━━━━━━━━━━━━━━━━━━━━\u001b[0m\u001b[37m\u001b[0m \u001b[1m1s\u001b[0m 75ms/step - categorical_accuracy: 0.0201 - loss: 4.5350 - val_categorical_accuracy: 0.0067 - val_loss: 4.6598\n",
      "Epoch 109/2000\n",
      "\u001b[1m12/12\u001b[0m \u001b[32m━━━━━━━━━━━━━━━━━━━━\u001b[0m\u001b[37m\u001b[0m \u001b[1m1s\u001b[0m 73ms/step - categorical_accuracy: 0.0216 - loss: 4.5365 - val_categorical_accuracy: 0.0067 - val_loss: 4.6604\n",
      "Epoch 110/2000\n",
      "\u001b[1m12/12\u001b[0m \u001b[32m━━━━━━━━━━━━━━━━━━━━\u001b[0m\u001b[37m\u001b[0m \u001b[1m1s\u001b[0m 87ms/step - categorical_accuracy: 0.0171 - loss: 4.5416 - val_categorical_accuracy: 0.0067 - val_loss: 4.6608\n",
      "Epoch 111/2000\n",
      "\u001b[1m12/12\u001b[0m \u001b[32m━━━━━━━━━━━━━━━━━━━━\u001b[0m\u001b[37m\u001b[0m \u001b[1m1s\u001b[0m 73ms/step - categorical_accuracy: 0.0198 - loss: 4.5340 - val_categorical_accuracy: 0.0067 - val_loss: 4.6613\n",
      "Epoch 112/2000\n",
      "\u001b[1m12/12\u001b[0m \u001b[32m━━━━━━━━━━━━━━━━━━━━\u001b[0m\u001b[37m\u001b[0m \u001b[1m1s\u001b[0m 63ms/step - categorical_accuracy: 0.0219 - loss: 4.5442 - val_categorical_accuracy: 0.0067 - val_loss: 4.6617\n",
      "Epoch 113/2000\n",
      "\u001b[1m12/12\u001b[0m \u001b[32m━━━━━━━━━━━━━━━━━━━━\u001b[0m\u001b[37m\u001b[0m \u001b[1m1s\u001b[0m 62ms/step - categorical_accuracy: 0.0184 - loss: 4.5346 - val_categorical_accuracy: 0.0067 - val_loss: 4.6622\n",
      "Epoch 114/2000\n",
      "\u001b[1m12/12\u001b[0m \u001b[32m━━━━━━━━━━━━━━━━━━━━\u001b[0m\u001b[37m\u001b[0m \u001b[1m1s\u001b[0m 66ms/step - categorical_accuracy: 0.0225 - loss: 4.5283 - val_categorical_accuracy: 0.0067 - val_loss: 4.6629\n",
      "Epoch 115/2000\n",
      "\u001b[1m12/12\u001b[0m \u001b[32m━━━━━━━━━━━━━━━━━━━━\u001b[0m\u001b[37m\u001b[0m \u001b[1m1s\u001b[0m 70ms/step - categorical_accuracy: 0.0283 - loss: 4.5319 - val_categorical_accuracy: 0.0067 - val_loss: 4.6635\n",
      "Epoch 116/2000\n",
      "\u001b[1m12/12\u001b[0m \u001b[32m━━━━━━━━━━━━━━━━━━━━\u001b[0m\u001b[37m\u001b[0m \u001b[1m1s\u001b[0m 63ms/step - categorical_accuracy: 0.0156 - loss: 4.5319 - val_categorical_accuracy: 0.0067 - val_loss: 4.6639\n",
      "Epoch 117/2000\n",
      "\u001b[1m12/12\u001b[0m \u001b[32m━━━━━━━━━━━━━━━━━━━━\u001b[0m\u001b[37m\u001b[0m \u001b[1m1s\u001b[0m 66ms/step - categorical_accuracy: 0.0184 - loss: 4.5322 - val_categorical_accuracy: 0.0067 - val_loss: 4.6644\n",
      "Epoch 118/2000\n",
      "\u001b[1m12/12\u001b[0m \u001b[32m━━━━━━━━━━━━━━━━━━━━\u001b[0m\u001b[37m\u001b[0m \u001b[1m1s\u001b[0m 67ms/step - categorical_accuracy: 0.0170 - loss: 4.5361 - val_categorical_accuracy: 0.0067 - val_loss: 4.6648\n",
      "Epoch 119/2000\n",
      "\u001b[1m12/12\u001b[0m \u001b[32m━━━━━━━━━━━━━━━━━━━━\u001b[0m\u001b[37m\u001b[0m \u001b[1m1s\u001b[0m 80ms/step - categorical_accuracy: 0.0232 - loss: 4.5393 - val_categorical_accuracy: 0.0067 - val_loss: 4.6654\n",
      "Epoch 120/2000\n",
      "\u001b[1m12/12\u001b[0m \u001b[32m━━━━━━━━━━━━━━━━━━━━\u001b[0m\u001b[37m\u001b[0m \u001b[1m1s\u001b[0m 61ms/step - categorical_accuracy: 0.0170 - loss: 4.5310 - val_categorical_accuracy: 0.0067 - val_loss: 4.6659\n",
      "Epoch 121/2000\n",
      "\u001b[1m12/12\u001b[0m \u001b[32m━━━━━━━━━━━━━━━━━━━━\u001b[0m\u001b[37m\u001b[0m \u001b[1m1s\u001b[0m 72ms/step - categorical_accuracy: 0.0218 - loss: 4.5370 - val_categorical_accuracy: 0.0067 - val_loss: 4.6664\n",
      "Epoch 122/2000\n",
      "\u001b[1m12/12\u001b[0m \u001b[32m━━━━━━━━━━━━━━━━━━━━\u001b[0m\u001b[37m\u001b[0m \u001b[1m1s\u001b[0m 68ms/step - categorical_accuracy: 0.0181 - loss: 4.5282 - val_categorical_accuracy: 0.0067 - val_loss: 4.6669\n",
      "Epoch 123/2000\n",
      "\u001b[1m12/12\u001b[0m \u001b[32m━━━━━━━━━━━━━━━━━━━━\u001b[0m\u001b[37m\u001b[0m \u001b[1m1s\u001b[0m 67ms/step - categorical_accuracy: 0.0278 - loss: 4.5464 - val_categorical_accuracy: 0.0067 - val_loss: 4.6673\n",
      "Epoch 124/2000\n",
      "\u001b[1m12/12\u001b[0m \u001b[32m━━━━━━━━━━━━━━━━━━━━\u001b[0m\u001b[37m\u001b[0m \u001b[1m1s\u001b[0m 72ms/step - categorical_accuracy: 0.0168 - loss: 4.5524 - val_categorical_accuracy: 0.0067 - val_loss: 4.6678\n",
      "Epoch 125/2000\n",
      "\u001b[1m12/12\u001b[0m \u001b[32m━━━━━━━━━━━━━━━━━━━━\u001b[0m\u001b[37m\u001b[0m \u001b[1m1s\u001b[0m 65ms/step - categorical_accuracy: 0.0227 - loss: 4.5355 - val_categorical_accuracy: 0.0067 - val_loss: 4.6684\n",
      "Epoch 126/2000\n",
      "\u001b[1m12/12\u001b[0m \u001b[32m━━━━━━━━━━━━━━━━━━━━\u001b[0m\u001b[37m\u001b[0m \u001b[1m1s\u001b[0m 60ms/step - categorical_accuracy: 0.0225 - loss: 4.5335 - val_categorical_accuracy: 0.0067 - val_loss: 4.6688\n",
      "Epoch 127/2000\n",
      "\u001b[1m12/12\u001b[0m \u001b[32m━━━━━━━━━━━━━━━━━━━━\u001b[0m\u001b[37m\u001b[0m \u001b[1m1s\u001b[0m 60ms/step - categorical_accuracy: 0.0162 - loss: 4.5432 - val_categorical_accuracy: 0.0067 - val_loss: 4.6693\n",
      "Epoch 128/2000\n",
      "\u001b[1m12/12\u001b[0m \u001b[32m━━━━━━━━━━━━━━━━━━━━\u001b[0m\u001b[37m\u001b[0m \u001b[1m1s\u001b[0m 60ms/step - categorical_accuracy: 0.0260 - loss: 4.5272 - val_categorical_accuracy: 0.0067 - val_loss: 4.6698\n",
      "Epoch 129/2000\n",
      "\u001b[1m12/12\u001b[0m \u001b[32m━━━━━━━━━━━━━━━━━━━━\u001b[0m\u001b[37m\u001b[0m \u001b[1m1s\u001b[0m 62ms/step - categorical_accuracy: 0.0223 - loss: 4.5338 - val_categorical_accuracy: 0.0067 - val_loss: 4.6701\n",
      "Epoch 130/2000\n",
      "\u001b[1m12/12\u001b[0m \u001b[32m━━━━━━━━━━━━━━━━━━━━\u001b[0m\u001b[37m\u001b[0m \u001b[1m1s\u001b[0m 57ms/step - categorical_accuracy: 0.0191 - loss: 4.5304 - val_categorical_accuracy: 0.0067 - val_loss: 4.6709\n",
      "Epoch 131/2000\n",
      "\u001b[1m12/12\u001b[0m \u001b[32m━━━━━━━━━━━━━━━━━━━━\u001b[0m\u001b[37m\u001b[0m \u001b[1m1s\u001b[0m 60ms/step - categorical_accuracy: 0.0190 - loss: 4.5336 - val_categorical_accuracy: 0.0067 - val_loss: 4.6712\n",
      "Epoch 132/2000\n",
      "\u001b[1m12/12\u001b[0m \u001b[32m━━━━━━━━━━━━━━━━━━━━\u001b[0m\u001b[37m\u001b[0m \u001b[1m1s\u001b[0m 58ms/step - categorical_accuracy: 0.0140 - loss: 4.5427 - val_categorical_accuracy: 0.0067 - val_loss: 4.6716\n",
      "Epoch 133/2000\n",
      "\u001b[1m12/12\u001b[0m \u001b[32m━━━━━━━━━━━━━━━━━━━━\u001b[0m\u001b[37m\u001b[0m \u001b[1m1s\u001b[0m 61ms/step - categorical_accuracy: 0.0225 - loss: 4.5384 - val_categorical_accuracy: 0.0067 - val_loss: 4.6721\n",
      "Epoch 134/2000\n",
      "\u001b[1m12/12\u001b[0m \u001b[32m━━━━━━━━━━━━━━━━━━━━\u001b[0m\u001b[37m\u001b[0m \u001b[1m1s\u001b[0m 62ms/step - categorical_accuracy: 0.0168 - loss: 4.5343 - val_categorical_accuracy: 0.0067 - val_loss: 4.6725\n",
      "Epoch 135/2000\n",
      "\u001b[1m12/12\u001b[0m \u001b[32m━━━━━━━━━━━━━━━━━━━━\u001b[0m\u001b[37m\u001b[0m \u001b[1m1s\u001b[0m 61ms/step - categorical_accuracy: 0.0211 - loss: 4.5339 - val_categorical_accuracy: 0.0067 - val_loss: 4.6730\n",
      "Epoch 136/2000\n",
      "\u001b[1m12/12\u001b[0m \u001b[32m━━━━━━━━━━━━━━━━━━━━\u001b[0m\u001b[37m\u001b[0m \u001b[1m1s\u001b[0m 59ms/step - categorical_accuracy: 0.0170 - loss: 4.5412 - val_categorical_accuracy: 0.0067 - val_loss: 4.6735\n",
      "Epoch 137/2000\n",
      "\u001b[1m12/12\u001b[0m \u001b[32m━━━━━━━━━━━━━━━━━━━━\u001b[0m\u001b[37m\u001b[0m \u001b[1m1s\u001b[0m 64ms/step - categorical_accuracy: 0.0147 - loss: 4.5354 - val_categorical_accuracy: 0.0067 - val_loss: 4.6740\n",
      "Epoch 138/2000\n",
      "\u001b[1m12/12\u001b[0m \u001b[32m━━━━━━━━━━━━━━━━━━━━\u001b[0m\u001b[37m\u001b[0m \u001b[1m1s\u001b[0m 70ms/step - categorical_accuracy: 0.0223 - loss: 4.5363 - val_categorical_accuracy: 0.0067 - val_loss: 4.6743\n",
      "Epoch 139/2000\n",
      "\u001b[1m12/12\u001b[0m \u001b[32m━━━━━━━━━━━━━━━━━━━━\u001b[0m\u001b[37m\u001b[0m \u001b[1m1s\u001b[0m 67ms/step - categorical_accuracy: 0.0170 - loss: 4.5342 - val_categorical_accuracy: 0.0067 - val_loss: 4.6749\n",
      "Epoch 140/2000\n",
      "\u001b[1m12/12\u001b[0m \u001b[32m━━━━━━━━━━━━━━━━━━━━\u001b[0m\u001b[37m\u001b[0m \u001b[1m1s\u001b[0m 64ms/step - categorical_accuracy: 0.0174 - loss: 4.5439 - val_categorical_accuracy: 0.0067 - val_loss: 4.6753\n",
      "Epoch 141/2000\n",
      "\u001b[1m12/12\u001b[0m \u001b[32m━━━━━━━━━━━━━━━━━━━━\u001b[0m\u001b[37m\u001b[0m \u001b[1m1s\u001b[0m 70ms/step - categorical_accuracy: 0.0250 - loss: 4.5293 - val_categorical_accuracy: 0.0067 - val_loss: 4.6758\n",
      "Epoch 142/2000\n",
      "\u001b[1m12/12\u001b[0m \u001b[32m━━━━━━━━━━━━━━━━━━━━\u001b[0m\u001b[37m\u001b[0m \u001b[1m1s\u001b[0m 68ms/step - categorical_accuracy: 0.0202 - loss: 4.5280 - val_categorical_accuracy: 0.0067 - val_loss: 4.6763\n",
      "Epoch 143/2000\n",
      "\u001b[1m12/12\u001b[0m \u001b[32m━━━━━━━━━━━━━━━━━━━━\u001b[0m\u001b[37m\u001b[0m \u001b[1m1s\u001b[0m 66ms/step - categorical_accuracy: 0.0109 - loss: 4.5429 - val_categorical_accuracy: 0.0067 - val_loss: 4.6766\n",
      "Epoch 144/2000\n",
      "\u001b[1m12/12\u001b[0m \u001b[32m━━━━━━━━━━━━━━━━━━━━\u001b[0m\u001b[37m\u001b[0m \u001b[1m1s\u001b[0m 62ms/step - categorical_accuracy: 0.0280 - loss: 4.5424 - val_categorical_accuracy: 0.0067 - val_loss: 4.6770\n",
      "Epoch 145/2000\n",
      "\u001b[1m12/12\u001b[0m \u001b[32m━━━━━━━━━━━━━━━━━━━━\u001b[0m\u001b[37m\u001b[0m \u001b[1m1s\u001b[0m 63ms/step - categorical_accuracy: 0.0206 - loss: 4.5239 - val_categorical_accuracy: 0.0067 - val_loss: 4.6775\n",
      "Epoch 146/2000\n",
      "\u001b[1m12/12\u001b[0m \u001b[32m━━━━━━━━━━━━━━━━━━━━\u001b[0m\u001b[37m\u001b[0m \u001b[1m1s\u001b[0m 70ms/step - categorical_accuracy: 0.0172 - loss: 4.5379 - val_categorical_accuracy: 0.0067 - val_loss: 4.6780\n",
      "Epoch 147/2000\n",
      "\u001b[1m12/12\u001b[0m \u001b[32m━━━━━━━━━━━━━━━━━━━━\u001b[0m\u001b[37m\u001b[0m \u001b[1m1s\u001b[0m 71ms/step - categorical_accuracy: 0.0205 - loss: 4.5268 - val_categorical_accuracy: 0.0067 - val_loss: 4.6784\n",
      "Epoch 148/2000\n",
      "\u001b[1m12/12\u001b[0m \u001b[32m━━━━━━━━━━━━━━━━━━━━\u001b[0m\u001b[37m\u001b[0m \u001b[1m1s\u001b[0m 63ms/step - categorical_accuracy: 0.0230 - loss: 4.5170 - val_categorical_accuracy: 0.0067 - val_loss: 4.6788\n",
      "Epoch 149/2000\n",
      "\u001b[1m12/12\u001b[0m \u001b[32m━━━━━━━━━━━━━━━━━━━━\u001b[0m\u001b[37m\u001b[0m \u001b[1m1s\u001b[0m 65ms/step - categorical_accuracy: 0.0172 - loss: 4.5315 - val_categorical_accuracy: 0.0067 - val_loss: 4.6792\n",
      "Epoch 150/2000\n",
      "\u001b[1m12/12\u001b[0m \u001b[32m━━━━━━━━━━━━━━━━━━━━\u001b[0m\u001b[37m\u001b[0m \u001b[1m1s\u001b[0m 62ms/step - categorical_accuracy: 0.0170 - loss: 4.5260 - val_categorical_accuracy: 0.0067 - val_loss: 4.6797\n",
      "Epoch 151/2000\n",
      "\u001b[1m12/12\u001b[0m \u001b[32m━━━━━━━━━━━━━━━━━━━━\u001b[0m\u001b[37m\u001b[0m \u001b[1m1s\u001b[0m 64ms/step - categorical_accuracy: 0.0187 - loss: 4.5239 - val_categorical_accuracy: 0.0067 - val_loss: 4.6800\n",
      "Epoch 152/2000\n",
      "\u001b[1m12/12\u001b[0m \u001b[32m━━━━━━━━━━━━━━━━━━━━\u001b[0m\u001b[37m\u001b[0m \u001b[1m1s\u001b[0m 69ms/step - categorical_accuracy: 0.0231 - loss: 4.5267 - val_categorical_accuracy: 0.0067 - val_loss: 4.6803\n",
      "Epoch 153/2000\n",
      "\u001b[1m12/12\u001b[0m \u001b[32m━━━━━━━━━━━━━━━━━━━━\u001b[0m\u001b[37m\u001b[0m \u001b[1m1s\u001b[0m 65ms/step - categorical_accuracy: 0.0211 - loss: 4.5445 - val_categorical_accuracy: 0.0067 - val_loss: 4.6808\n",
      "Epoch 154/2000\n",
      "\u001b[1m12/12\u001b[0m \u001b[32m━━━━━━━━━━━━━━━━━━━━\u001b[0m\u001b[37m\u001b[0m \u001b[1m1s\u001b[0m 69ms/step - categorical_accuracy: 0.0205 - loss: 4.5217 - val_categorical_accuracy: 0.0067 - val_loss: 4.6812\n",
      "Epoch 155/2000\n",
      "\u001b[1m12/12\u001b[0m \u001b[32m━━━━━━━━━━━━━━━━━━━━\u001b[0m\u001b[37m\u001b[0m \u001b[1m1s\u001b[0m 68ms/step - categorical_accuracy: 0.0187 - loss: 4.5270 - val_categorical_accuracy: 0.0067 - val_loss: 4.6817\n",
      "Epoch 156/2000\n",
      "\u001b[1m12/12\u001b[0m \u001b[32m━━━━━━━━━━━━━━━━━━━━\u001b[0m\u001b[37m\u001b[0m \u001b[1m1s\u001b[0m 73ms/step - categorical_accuracy: 0.0182 - loss: 4.5212 - val_categorical_accuracy: 0.0067 - val_loss: 4.6821\n",
      "Epoch 157/2000\n",
      "\u001b[1m12/12\u001b[0m \u001b[32m━━━━━━━━━━━━━━━━━━━━\u001b[0m\u001b[37m\u001b[0m \u001b[1m1s\u001b[0m 62ms/step - categorical_accuracy: 0.0198 - loss: 4.5311 - val_categorical_accuracy: 0.0067 - val_loss: 4.6825\n",
      "Epoch 158/2000\n",
      "\u001b[1m12/12\u001b[0m \u001b[32m━━━━━━━━━━━━━━━━━━━━\u001b[0m\u001b[37m\u001b[0m \u001b[1m1s\u001b[0m 72ms/step - categorical_accuracy: 0.0261 - loss: 4.5345 - val_categorical_accuracy: 0.0067 - val_loss: 4.6828\n",
      "Epoch 159/2000\n",
      "\u001b[1m12/12\u001b[0m \u001b[32m━━━━━━━━━━━━━━━━━━━━\u001b[0m\u001b[37m\u001b[0m \u001b[1m1s\u001b[0m 76ms/step - categorical_accuracy: 0.0233 - loss: 4.5255 - val_categorical_accuracy: 0.0067 - val_loss: 4.6832\n",
      "Epoch 160/2000\n",
      "\u001b[1m12/12\u001b[0m \u001b[32m━━━━━━━━━━━━━━━━━━━━\u001b[0m\u001b[37m\u001b[0m \u001b[1m1s\u001b[0m 66ms/step - categorical_accuracy: 0.0237 - loss: 4.5462 - val_categorical_accuracy: 0.0067 - val_loss: 4.6836\n",
      "Epoch 161/2000\n",
      "\u001b[1m12/12\u001b[0m \u001b[32m━━━━━━━━━━━━━━━━━━━━\u001b[0m\u001b[37m\u001b[0m \u001b[1m1s\u001b[0m 66ms/step - categorical_accuracy: 0.0236 - loss: 4.5256 - val_categorical_accuracy: 0.0067 - val_loss: 4.6841\n",
      "Epoch 162/2000\n",
      "\u001b[1m12/12\u001b[0m \u001b[32m━━━━━━━━━━━━━━━━━━━━\u001b[0m\u001b[37m\u001b[0m \u001b[1m1s\u001b[0m 65ms/step - categorical_accuracy: 0.0208 - loss: 4.5259 - val_categorical_accuracy: 0.0067 - val_loss: 4.6845\n",
      "Epoch 163/2000\n",
      "\u001b[1m12/12\u001b[0m \u001b[32m━━━━━━━━━━━━━━━━━━━━\u001b[0m\u001b[37m\u001b[0m \u001b[1m1s\u001b[0m 64ms/step - categorical_accuracy: 0.0154 - loss: 4.5247 - val_categorical_accuracy: 0.0067 - val_loss: 4.6847\n",
      "Epoch 164/2000\n",
      "\u001b[1m12/12\u001b[0m \u001b[32m━━━━━━━━━━━━━━━━━━━━\u001b[0m\u001b[37m\u001b[0m \u001b[1m1s\u001b[0m 72ms/step - categorical_accuracy: 0.0310 - loss: 4.5235 - val_categorical_accuracy: 0.0067 - val_loss: 4.6851\n",
      "Epoch 165/2000\n",
      "\u001b[1m12/12\u001b[0m \u001b[32m━━━━━━━━━━━━━━━━━━━━\u001b[0m\u001b[37m\u001b[0m \u001b[1m1s\u001b[0m 66ms/step - categorical_accuracy: 0.0223 - loss: 4.5274 - val_categorical_accuracy: 0.0067 - val_loss: 4.6855\n",
      "Epoch 166/2000\n",
      "\u001b[1m12/12\u001b[0m \u001b[32m━━━━━━━━━━━━━━━━━━━━\u001b[0m\u001b[37m\u001b[0m \u001b[1m1s\u001b[0m 73ms/step - categorical_accuracy: 0.0150 - loss: 4.5333 - val_categorical_accuracy: 0.0067 - val_loss: 4.6860\n",
      "Epoch 167/2000\n",
      "\u001b[1m12/12\u001b[0m \u001b[32m━━━━━━━━━━━━━━━━━━━━\u001b[0m\u001b[37m\u001b[0m \u001b[1m1s\u001b[0m 66ms/step - categorical_accuracy: 0.0197 - loss: 4.5363 - val_categorical_accuracy: 0.0067 - val_loss: 4.6862\n",
      "Epoch 168/2000\n",
      "\u001b[1m12/12\u001b[0m \u001b[32m━━━━━━━━━━━━━━━━━━━━\u001b[0m\u001b[37m\u001b[0m \u001b[1m1s\u001b[0m 62ms/step - categorical_accuracy: 0.0210 - loss: 4.5236 - val_categorical_accuracy: 0.0067 - val_loss: 4.6867\n",
      "Epoch 169/2000\n",
      "\u001b[1m12/12\u001b[0m \u001b[32m━━━━━━━━━━━━━━━━━━━━\u001b[0m\u001b[37m\u001b[0m \u001b[1m1s\u001b[0m 62ms/step - categorical_accuracy: 0.0212 - loss: 4.5299 - val_categorical_accuracy: 0.0067 - val_loss: 4.6870\n",
      "Epoch 170/2000\n",
      "\u001b[1m12/12\u001b[0m \u001b[32m━━━━━━━━━━━━━━━━━━━━\u001b[0m\u001b[37m\u001b[0m \u001b[1m1s\u001b[0m 59ms/step - categorical_accuracy: 0.0276 - loss: 4.5302 - val_categorical_accuracy: 0.0067 - val_loss: 4.6873\n",
      "Epoch 171/2000\n",
      "\u001b[1m12/12\u001b[0m \u001b[32m━━━━━━━━━━━━━━━━━━━━\u001b[0m\u001b[37m\u001b[0m \u001b[1m1s\u001b[0m 63ms/step - categorical_accuracy: 0.0155 - loss: 4.5422 - val_categorical_accuracy: 0.0067 - val_loss: 4.6877\n",
      "Epoch 172/2000\n",
      "\u001b[1m12/12\u001b[0m \u001b[32m━━━━━━━━━━━━━━━━━━━━\u001b[0m\u001b[37m\u001b[0m \u001b[1m1s\u001b[0m 61ms/step - categorical_accuracy: 0.0146 - loss: 4.5315 - val_categorical_accuracy: 0.0067 - val_loss: 4.6880\n",
      "Epoch 173/2000\n",
      "\u001b[1m12/12\u001b[0m \u001b[32m━━━━━━━━━━━━━━━━━━━━\u001b[0m\u001b[37m\u001b[0m \u001b[1m1s\u001b[0m 61ms/step - categorical_accuracy: 0.0252 - loss: 4.5241 - val_categorical_accuracy: 0.0067 - val_loss: 4.6884\n",
      "Epoch 174/2000\n",
      "\u001b[1m12/12\u001b[0m \u001b[32m━━━━━━━━━━━━━━━━━━━━\u001b[0m\u001b[37m\u001b[0m \u001b[1m1s\u001b[0m 63ms/step - categorical_accuracy: 0.0184 - loss: 4.5200 - val_categorical_accuracy: 0.0067 - val_loss: 4.6889\n",
      "Epoch 175/2000\n",
      "\u001b[1m12/12\u001b[0m \u001b[32m━━━━━━━━━━━━━━━━━━━━\u001b[0m\u001b[37m\u001b[0m \u001b[1m1s\u001b[0m 64ms/step - categorical_accuracy: 0.0127 - loss: 4.5406 - val_categorical_accuracy: 0.0067 - val_loss: 4.6892\n",
      "Epoch 176/2000\n",
      "\u001b[1m12/12\u001b[0m \u001b[32m━━━━━━━━━━━━━━━━━━━━\u001b[0m\u001b[37m\u001b[0m \u001b[1m1s\u001b[0m 65ms/step - categorical_accuracy: 0.0218 - loss: 4.5214 - val_categorical_accuracy: 0.0067 - val_loss: 4.6897\n",
      "Epoch 177/2000\n",
      "\u001b[1m12/12\u001b[0m \u001b[32m━━━━━━━━━━━━━━━━━━━━\u001b[0m\u001b[37m\u001b[0m \u001b[1m1s\u001b[0m 66ms/step - categorical_accuracy: 0.0237 - loss: 4.5198 - val_categorical_accuracy: 0.0067 - val_loss: 4.6899\n",
      "Epoch 178/2000\n",
      "\u001b[1m12/12\u001b[0m \u001b[32m━━━━━━━━━━━━━━━━━━━━\u001b[0m\u001b[37m\u001b[0m \u001b[1m1s\u001b[0m 69ms/step - categorical_accuracy: 0.0196 - loss: 4.5156 - val_categorical_accuracy: 0.0067 - val_loss: 4.6902\n",
      "Epoch 179/2000\n",
      "\u001b[1m12/12\u001b[0m \u001b[32m━━━━━━━━━━━━━━━━━━━━\u001b[0m\u001b[37m\u001b[0m \u001b[1m1s\u001b[0m 79ms/step - categorical_accuracy: 0.0203 - loss: 4.5312 - val_categorical_accuracy: 0.0067 - val_loss: 4.6906\n",
      "Epoch 180/2000\n",
      "\u001b[1m12/12\u001b[0m \u001b[32m━━━━━━━━━━━━━━━━━━━━\u001b[0m\u001b[37m\u001b[0m \u001b[1m1s\u001b[0m 81ms/step - categorical_accuracy: 0.0203 - loss: 4.5294 - val_categorical_accuracy: 0.0067 - val_loss: 4.6908\n",
      "Epoch 181/2000\n",
      "\u001b[1m12/12\u001b[0m \u001b[32m━━━━━━━━━━━━━━━━━━━━\u001b[0m\u001b[37m\u001b[0m \u001b[1m1s\u001b[0m 72ms/step - categorical_accuracy: 0.0162 - loss: 4.5311 - val_categorical_accuracy: 0.0067 - val_loss: 4.6912\n",
      "Epoch 182/2000\n",
      "\u001b[1m12/12\u001b[0m \u001b[32m━━━━━━━━━━━━━━━━━━━━\u001b[0m\u001b[37m\u001b[0m \u001b[1m1s\u001b[0m 66ms/step - categorical_accuracy: 0.0216 - loss: 4.5316 - val_categorical_accuracy: 0.0067 - val_loss: 4.6915\n",
      "Epoch 183/2000\n",
      "\u001b[1m12/12\u001b[0m \u001b[32m━━━━━━━━━━━━━━━━━━━━\u001b[0m\u001b[37m\u001b[0m \u001b[1m1s\u001b[0m 63ms/step - categorical_accuracy: 0.0145 - loss: 4.5337 - val_categorical_accuracy: 0.0067 - val_loss: 4.6919\n",
      "Epoch 184/2000\n",
      "\u001b[1m12/12\u001b[0m \u001b[32m━━━━━━━━━━━━━━━━━━━━\u001b[0m\u001b[37m\u001b[0m \u001b[1m1s\u001b[0m 59ms/step - categorical_accuracy: 0.0151 - loss: 4.5443 - val_categorical_accuracy: 0.0067 - val_loss: 4.6922\n",
      "Epoch 185/2000\n",
      "\u001b[1m12/12\u001b[0m \u001b[32m━━━━━━━━━━━━━━━━━━━━\u001b[0m\u001b[37m\u001b[0m \u001b[1m1s\u001b[0m 63ms/step - categorical_accuracy: 0.0226 - loss: 4.5292 - val_categorical_accuracy: 0.0067 - val_loss: 4.6927\n",
      "Epoch 186/2000\n",
      "\u001b[1m12/12\u001b[0m \u001b[32m━━━━━━━━━━━━━━━━━━━━\u001b[0m\u001b[37m\u001b[0m \u001b[1m1s\u001b[0m 65ms/step - categorical_accuracy: 0.0153 - loss: 4.5338 - val_categorical_accuracy: 0.0067 - val_loss: 4.6929\n",
      "Epoch 187/2000\n",
      "\u001b[1m12/12\u001b[0m \u001b[32m━━━━━━━━━━━━━━━━━━━━\u001b[0m\u001b[37m\u001b[0m \u001b[1m1s\u001b[0m 55ms/step - categorical_accuracy: 0.0171 - loss: 4.5305 - val_categorical_accuracy: 0.0067 - val_loss: 4.6933\n",
      "Epoch 188/2000\n",
      "\u001b[1m12/12\u001b[0m \u001b[32m━━━━━━━━━━━━━━━━━━━━\u001b[0m\u001b[37m\u001b[0m \u001b[1m1s\u001b[0m 62ms/step - categorical_accuracy: 0.0261 - loss: 4.5168 - val_categorical_accuracy: 0.0067 - val_loss: 4.6936\n",
      "Epoch 189/2000\n",
      "\u001b[1m12/12\u001b[0m \u001b[32m━━━━━━━━━━━━━━━━━━━━\u001b[0m\u001b[37m\u001b[0m \u001b[1m1s\u001b[0m 59ms/step - categorical_accuracy: 0.0138 - loss: 4.5372 - val_categorical_accuracy: 0.0067 - val_loss: 4.6939\n",
      "Epoch 190/2000\n",
      "\u001b[1m12/12\u001b[0m \u001b[32m━━━━━━━━━━━━━━━━━━━━\u001b[0m\u001b[37m\u001b[0m \u001b[1m1s\u001b[0m 54ms/step - categorical_accuracy: 0.0209 - loss: 4.5306 - val_categorical_accuracy: 0.0067 - val_loss: 4.6942\n",
      "Epoch 191/2000\n",
      "\u001b[1m12/12\u001b[0m \u001b[32m━━━━━━━━━━━━━━━━━━━━\u001b[0m\u001b[37m\u001b[0m \u001b[1m1s\u001b[0m 57ms/step - categorical_accuracy: 0.0204 - loss: 4.5278 - val_categorical_accuracy: 0.0067 - val_loss: 4.6945\n",
      "Epoch 192/2000\n",
      "\u001b[1m12/12\u001b[0m \u001b[32m━━━━━━━━━━━━━━━━━━━━\u001b[0m\u001b[37m\u001b[0m \u001b[1m1s\u001b[0m 58ms/step - categorical_accuracy: 0.0186 - loss: 4.5327 - val_categorical_accuracy: 0.0067 - val_loss: 4.6948\n",
      "Epoch 193/2000\n",
      "\u001b[1m12/12\u001b[0m \u001b[32m━━━━━━━━━━━━━━━━━━━━\u001b[0m\u001b[37m\u001b[0m \u001b[1m1s\u001b[0m 55ms/step - categorical_accuracy: 0.0239 - loss: 4.5292 - val_categorical_accuracy: 0.0067 - val_loss: 4.6952\n",
      "Epoch 194/2000\n",
      "\u001b[1m12/12\u001b[0m \u001b[32m━━━━━━━━━━━━━━━━━━━━\u001b[0m\u001b[37m\u001b[0m \u001b[1m1s\u001b[0m 59ms/step - categorical_accuracy: 0.0184 - loss: 4.5202 - val_categorical_accuracy: 0.0067 - val_loss: 4.6956\n",
      "Epoch 195/2000\n",
      "\u001b[1m12/12\u001b[0m \u001b[32m━━━━━━━━━━━━━━━━━━━━\u001b[0m\u001b[37m\u001b[0m \u001b[1m1s\u001b[0m 55ms/step - categorical_accuracy: 0.0322 - loss: 4.5143 - val_categorical_accuracy: 0.0067 - val_loss: 4.6959\n",
      "Epoch 196/2000\n",
      "\u001b[1m12/12\u001b[0m \u001b[32m━━━━━━━━━━━━━━━━━━━━\u001b[0m\u001b[37m\u001b[0m \u001b[1m1s\u001b[0m 55ms/step - categorical_accuracy: 0.0221 - loss: 4.5322 - val_categorical_accuracy: 0.0067 - val_loss: 4.6961\n",
      "Epoch 197/2000\n",
      "\u001b[1m12/12\u001b[0m \u001b[32m━━━━━━━━━━━━━━━━━━━━\u001b[0m\u001b[37m\u001b[0m \u001b[1m1s\u001b[0m 59ms/step - categorical_accuracy: 0.0222 - loss: 4.5249 - val_categorical_accuracy: 0.0067 - val_loss: 4.6964\n",
      "Epoch 198/2000\n",
      "\u001b[1m12/12\u001b[0m \u001b[32m━━━━━━━━━━━━━━━━━━━━\u001b[0m\u001b[37m\u001b[0m \u001b[1m1s\u001b[0m 60ms/step - categorical_accuracy: 0.0229 - loss: 4.5248 - val_categorical_accuracy: 0.0067 - val_loss: 4.6967\n",
      "Epoch 199/2000\n",
      "\u001b[1m12/12\u001b[0m \u001b[32m━━━━━━━━━━━━━━━━━━━━\u001b[0m\u001b[37m\u001b[0m \u001b[1m1s\u001b[0m 63ms/step - categorical_accuracy: 0.0183 - loss: 4.5316 - val_categorical_accuracy: 0.0067 - val_loss: 4.6972\n",
      "Epoch 200/2000\n",
      "\u001b[1m12/12\u001b[0m \u001b[32m━━━━━━━━━━━━━━━━━━━━\u001b[0m\u001b[37m\u001b[0m \u001b[1m1s\u001b[0m 50ms/step - categorical_accuracy: 0.0295 - loss: 4.5174 - val_categorical_accuracy: 0.0067 - val_loss: 4.6974\n",
      "Epoch 201/2000\n",
      "\u001b[1m12/12\u001b[0m \u001b[32m━━━━━━━━━━━━━━━━━━━━\u001b[0m\u001b[37m\u001b[0m \u001b[1m1s\u001b[0m 69ms/step - categorical_accuracy: 0.0243 - loss: 4.5244 - val_categorical_accuracy: 0.0067 - val_loss: 4.6977\n",
      "Epoch 202/2000\n",
      "\u001b[1m12/12\u001b[0m \u001b[32m━━━━━━━━━━━━━━━━━━━━\u001b[0m\u001b[37m\u001b[0m \u001b[1m1s\u001b[0m 57ms/step - categorical_accuracy: 0.0178 - loss: 4.5302 - val_categorical_accuracy: 0.0067 - val_loss: 4.6980\n",
      "Epoch 203/2000\n",
      "\u001b[1m12/12\u001b[0m \u001b[32m━━━━━━━━━━━━━━━━━━━━\u001b[0m\u001b[37m\u001b[0m \u001b[1m1s\u001b[0m 53ms/step - categorical_accuracy: 0.0141 - loss: 4.5186 - val_categorical_accuracy: 0.0067 - val_loss: 4.6984\n",
      "Epoch 204/2000\n",
      "\u001b[1m12/12\u001b[0m \u001b[32m━━━━━━━━━━━━━━━━━━━━\u001b[0m\u001b[37m\u001b[0m \u001b[1m1s\u001b[0m 68ms/step - categorical_accuracy: 0.0204 - loss: 4.5240 - val_categorical_accuracy: 0.0067 - val_loss: 4.6985\n",
      "Epoch 205/2000\n",
      "\u001b[1m12/12\u001b[0m \u001b[32m━━━━━━━━━━━━━━━━━━━━\u001b[0m\u001b[37m\u001b[0m \u001b[1m1s\u001b[0m 68ms/step - categorical_accuracy: 0.0191 - loss: 4.5232 - val_categorical_accuracy: 0.0067 - val_loss: 4.6989\n",
      "Epoch 206/2000\n",
      "\u001b[1m12/12\u001b[0m \u001b[32m━━━━━━━━━━━━━━━━━━━━\u001b[0m\u001b[37m\u001b[0m \u001b[1m1s\u001b[0m 63ms/step - categorical_accuracy: 0.0146 - loss: 4.5429 - val_categorical_accuracy: 0.0067 - val_loss: 4.6991\n",
      "Epoch 207/2000\n",
      "\u001b[1m12/12\u001b[0m \u001b[32m━━━━━━━━━━━━━━━━━━━━\u001b[0m\u001b[37m\u001b[0m \u001b[1m1s\u001b[0m 68ms/step - categorical_accuracy: 0.0241 - loss: 4.5256 - val_categorical_accuracy: 0.0067 - val_loss: 4.6993\n",
      "Epoch 208/2000\n",
      "\u001b[1m12/12\u001b[0m \u001b[32m━━━━━━━━━━━━━━━━━━━━\u001b[0m\u001b[37m\u001b[0m \u001b[1m1s\u001b[0m 60ms/step - categorical_accuracy: 0.0191 - loss: 4.5392 - val_categorical_accuracy: 0.0067 - val_loss: 4.6997\n",
      "Epoch 209/2000\n",
      "\u001b[1m12/12\u001b[0m \u001b[32m━━━━━━━━━━━━━━━━━━━━\u001b[0m\u001b[37m\u001b[0m \u001b[1m1s\u001b[0m 54ms/step - categorical_accuracy: 0.0202 - loss: 4.5055 - val_categorical_accuracy: 0.0067 - val_loss: 4.7000\n",
      "Epoch 210/2000\n",
      "\u001b[1m12/12\u001b[0m \u001b[32m━━━━━━━━━━━━━━━━━━━━\u001b[0m\u001b[37m\u001b[0m \u001b[1m1s\u001b[0m 53ms/step - categorical_accuracy: 0.0243 - loss: 4.5206 - val_categorical_accuracy: 0.0067 - val_loss: 4.7003\n",
      "Epoch 211/2000\n",
      "\u001b[1m12/12\u001b[0m \u001b[32m━━━━━━━━━━━━━━━━━━━━\u001b[0m\u001b[37m\u001b[0m \u001b[1m1s\u001b[0m 52ms/step - categorical_accuracy: 0.0201 - loss: 4.5357 - val_categorical_accuracy: 0.0067 - val_loss: 4.7004\n",
      "Epoch 212/2000\n",
      "\u001b[1m12/12\u001b[0m \u001b[32m━━━━━━━━━━━━━━━━━━━━\u001b[0m\u001b[37m\u001b[0m \u001b[1m1s\u001b[0m 57ms/step - categorical_accuracy: 0.0109 - loss: 4.5395 - val_categorical_accuracy: 0.0067 - val_loss: 4.7008\n",
      "Epoch 213/2000\n",
      "\u001b[1m12/12\u001b[0m \u001b[32m━━━━━━━━━━━━━━━━━━━━\u001b[0m\u001b[37m\u001b[0m \u001b[1m1s\u001b[0m 53ms/step - categorical_accuracy: 0.0228 - loss: 4.5125 - val_categorical_accuracy: 0.0067 - val_loss: 4.7011\n",
      "Epoch 214/2000\n",
      "\u001b[1m12/12\u001b[0m \u001b[32m━━━━━━━━━━━━━━━━━━━━\u001b[0m\u001b[37m\u001b[0m \u001b[1m1s\u001b[0m 64ms/step - categorical_accuracy: 0.0269 - loss: 4.5198 - val_categorical_accuracy: 0.0067 - val_loss: 4.7013\n",
      "Epoch 215/2000\n",
      "\u001b[1m12/12\u001b[0m \u001b[32m━━━━━━━━━━━━━━━━━━━━\u001b[0m\u001b[37m\u001b[0m \u001b[1m1s\u001b[0m 53ms/step - categorical_accuracy: 0.0173 - loss: 4.5432 - val_categorical_accuracy: 0.0067 - val_loss: 4.7016\n",
      "Epoch 216/2000\n",
      "\u001b[1m12/12\u001b[0m \u001b[32m━━━━━━━━━━━━━━━━━━━━\u001b[0m\u001b[37m\u001b[0m \u001b[1m1s\u001b[0m 54ms/step - categorical_accuracy: 0.0224 - loss: 4.5169 - val_categorical_accuracy: 0.0067 - val_loss: 4.7020\n",
      "Epoch 217/2000\n",
      "\u001b[1m12/12\u001b[0m \u001b[32m━━━━━━━━━━━━━━━━━━━━\u001b[0m\u001b[37m\u001b[0m \u001b[1m1s\u001b[0m 55ms/step - categorical_accuracy: 0.0169 - loss: 4.5250 - val_categorical_accuracy: 0.0067 - val_loss: 4.7021\n",
      "Epoch 218/2000\n",
      "\u001b[1m12/12\u001b[0m \u001b[32m━━━━━━━━━━━━━━━━━━━━\u001b[0m\u001b[37m\u001b[0m \u001b[1m1s\u001b[0m 57ms/step - categorical_accuracy: 0.0237 - loss: 4.5301 - val_categorical_accuracy: 0.0067 - val_loss: 4.7024\n",
      "Epoch 219/2000\n",
      "\u001b[1m12/12\u001b[0m \u001b[32m━━━━━━━━━━━━━━━━━━━━\u001b[0m\u001b[37m\u001b[0m \u001b[1m1s\u001b[0m 54ms/step - categorical_accuracy: 0.0173 - loss: 4.5358 - val_categorical_accuracy: 0.0067 - val_loss: 4.7026\n",
      "Epoch 220/2000\n",
      "\u001b[1m12/12\u001b[0m \u001b[32m━━━━━━━━━━━━━━━━━━━━\u001b[0m\u001b[37m\u001b[0m \u001b[1m1s\u001b[0m 53ms/step - categorical_accuracy: 0.0224 - loss: 4.5368 - val_categorical_accuracy: 0.0067 - val_loss: 4.7028\n",
      "Epoch 221/2000\n",
      "\u001b[1m12/12\u001b[0m \u001b[32m━━━━━━━━━━━━━━━━━━━━\u001b[0m\u001b[37m\u001b[0m \u001b[1m1s\u001b[0m 52ms/step - categorical_accuracy: 0.0204 - loss: 4.5280 - val_categorical_accuracy: 0.0067 - val_loss: 4.7031\n",
      "Epoch 222/2000\n",
      "\u001b[1m12/12\u001b[0m \u001b[32m━━━━━━━━━━━━━━━━━━━━\u001b[0m\u001b[37m\u001b[0m \u001b[1m1s\u001b[0m 54ms/step - categorical_accuracy: 0.0130 - loss: 4.5382 - val_categorical_accuracy: 0.0067 - val_loss: 4.7034\n",
      "Epoch 223/2000\n",
      "\u001b[1m12/12\u001b[0m \u001b[32m━━━━━━━━━━━━━━━━━━━━\u001b[0m\u001b[37m\u001b[0m \u001b[1m1s\u001b[0m 57ms/step - categorical_accuracy: 0.0211 - loss: 4.5270 - val_categorical_accuracy: 0.0067 - val_loss: 4.7037\n",
      "Epoch 224/2000\n",
      "\u001b[1m12/12\u001b[0m \u001b[32m━━━━━━━━━━━━━━━━━━━━\u001b[0m\u001b[37m\u001b[0m \u001b[1m1s\u001b[0m 52ms/step - categorical_accuracy: 0.0207 - loss: 4.5330 - val_categorical_accuracy: 0.0067 - val_loss: 4.7038\n",
      "Epoch 225/2000\n",
      "\u001b[1m12/12\u001b[0m \u001b[32m━━━━━━━━━━━━━━━━━━━━\u001b[0m\u001b[37m\u001b[0m \u001b[1m1s\u001b[0m 52ms/step - categorical_accuracy: 0.0195 - loss: 4.5361 - val_categorical_accuracy: 0.0067 - val_loss: 4.7042\n",
      "Epoch 226/2000\n",
      "\u001b[1m12/12\u001b[0m \u001b[32m━━━━━━━━━━━━━━━━━━━━\u001b[0m\u001b[37m\u001b[0m \u001b[1m1s\u001b[0m 64ms/step - categorical_accuracy: 0.0235 - loss: 4.5280 - val_categorical_accuracy: 0.0067 - val_loss: 4.7045\n",
      "Epoch 227/2000\n",
      "\u001b[1m12/12\u001b[0m \u001b[32m━━━━━━━━━━━━━━━━━━━━\u001b[0m\u001b[37m\u001b[0m \u001b[1m1s\u001b[0m 52ms/step - categorical_accuracy: 0.0183 - loss: 4.5381 - val_categorical_accuracy: 0.0067 - val_loss: 4.7046\n",
      "Epoch 228/2000\n",
      "\u001b[1m12/12\u001b[0m \u001b[32m━━━━━━━━━━━━━━━━━━━━\u001b[0m\u001b[37m\u001b[0m \u001b[1m1s\u001b[0m 53ms/step - categorical_accuracy: 0.0249 - loss: 4.5412 - val_categorical_accuracy: 0.0067 - val_loss: 4.7048\n",
      "Epoch 229/2000\n",
      "\u001b[1m12/12\u001b[0m \u001b[32m━━━━━━━━━━━━━━━━━━━━\u001b[0m\u001b[37m\u001b[0m \u001b[1m1s\u001b[0m 71ms/step - categorical_accuracy: 0.0229 - loss: 4.5133 - val_categorical_accuracy: 0.0067 - val_loss: 4.7051\n",
      "Epoch 230/2000\n",
      "\u001b[1m12/12\u001b[0m \u001b[32m━━━━━━━━━━━━━━━━━━━━\u001b[0m\u001b[37m\u001b[0m \u001b[1m1s\u001b[0m 64ms/step - categorical_accuracy: 0.0249 - loss: 4.5098 - val_categorical_accuracy: 0.0067 - val_loss: 4.7053\n",
      "Epoch 231/2000\n",
      "\u001b[1m12/12\u001b[0m \u001b[32m━━━━━━━━━━━━━━━━━━━━\u001b[0m\u001b[37m\u001b[0m \u001b[1m1s\u001b[0m 60ms/step - categorical_accuracy: 0.0182 - loss: 4.5329 - val_categorical_accuracy: 0.0067 - val_loss: 4.7056\n",
      "Epoch 232/2000\n",
      "\u001b[1m12/12\u001b[0m \u001b[32m━━━━━━━━━━━━━━━━━━━━\u001b[0m\u001b[37m\u001b[0m \u001b[1m1s\u001b[0m 53ms/step - categorical_accuracy: 0.0115 - loss: 4.5250 - val_categorical_accuracy: 0.0067 - val_loss: 4.7059\n",
      "Epoch 233/2000\n",
      "\u001b[1m12/12\u001b[0m \u001b[32m━━━━━━━━━━━━━━━━━━━━\u001b[0m\u001b[37m\u001b[0m \u001b[1m1s\u001b[0m 61ms/step - categorical_accuracy: 0.0256 - loss: 4.5258 - val_categorical_accuracy: 0.0067 - val_loss: 4.7061\n",
      "Epoch 234/2000\n",
      "\u001b[1m12/12\u001b[0m \u001b[32m━━━━━━━━━━━━━━━━━━━━\u001b[0m\u001b[37m\u001b[0m \u001b[1m1s\u001b[0m 65ms/step - categorical_accuracy: 0.0110 - loss: 4.5239 - val_categorical_accuracy: 0.0067 - val_loss: 4.7063\n",
      "Epoch 235/2000\n",
      "\u001b[1m12/12\u001b[0m \u001b[32m━━━━━━━━━━━━━━━━━━━━\u001b[0m\u001b[37m\u001b[0m \u001b[1m1s\u001b[0m 61ms/step - categorical_accuracy: 0.0198 - loss: 4.5177 - val_categorical_accuracy: 0.0067 - val_loss: 4.7067\n",
      "Epoch 236/2000\n",
      "\u001b[1m12/12\u001b[0m \u001b[32m━━━━━━━━━━━━━━━━━━━━\u001b[0m\u001b[37m\u001b[0m \u001b[1m1s\u001b[0m 55ms/step - categorical_accuracy: 0.0313 - loss: 4.5337 - val_categorical_accuracy: 0.0067 - val_loss: 4.7069\n",
      "Epoch 237/2000\n",
      "\u001b[1m12/12\u001b[0m \u001b[32m━━━━━━━━━━━━━━━━━━━━\u001b[0m\u001b[37m\u001b[0m \u001b[1m1s\u001b[0m 62ms/step - categorical_accuracy: 0.0234 - loss: 4.5171 - val_categorical_accuracy: 0.0067 - val_loss: 4.7071\n",
      "Epoch 238/2000\n",
      "\u001b[1m12/12\u001b[0m \u001b[32m━━━━━━━━━━━━━━━━━━━━\u001b[0m\u001b[37m\u001b[0m \u001b[1m1s\u001b[0m 59ms/step - categorical_accuracy: 0.0142 - loss: 4.5300 - val_categorical_accuracy: 0.0067 - val_loss: 4.7072\n",
      "Epoch 239/2000\n",
      "\u001b[1m12/12\u001b[0m \u001b[32m━━━━━━━━━━━━━━━━━━━━\u001b[0m\u001b[37m\u001b[0m \u001b[1m1s\u001b[0m 63ms/step - categorical_accuracy: 0.0206 - loss: 4.5353 - val_categorical_accuracy: 0.0067 - val_loss: 4.7075\n",
      "Epoch 240/2000\n",
      "\u001b[1m12/12\u001b[0m \u001b[32m━━━━━━━━━━━━━━━━━━━━\u001b[0m\u001b[37m\u001b[0m \u001b[1m1s\u001b[0m 64ms/step - categorical_accuracy: 0.0148 - loss: 4.5487 - val_categorical_accuracy: 0.0067 - val_loss: 4.7076\n",
      "Epoch 241/2000\n",
      "\u001b[1m12/12\u001b[0m \u001b[32m━━━━━━━━━━━━━━━━━━━━\u001b[0m\u001b[37m\u001b[0m \u001b[1m1s\u001b[0m 58ms/step - categorical_accuracy: 0.0181 - loss: 4.5435 - val_categorical_accuracy: 0.0067 - val_loss: 4.7079\n",
      "Epoch 242/2000\n",
      "\u001b[1m12/12\u001b[0m \u001b[32m━━━━━━━━━━━━━━━━━━━━\u001b[0m\u001b[37m\u001b[0m \u001b[1m1s\u001b[0m 53ms/step - categorical_accuracy: 0.0183 - loss: 4.5238 - val_categorical_accuracy: 0.0067 - val_loss: 4.7084\n",
      "Epoch 243/2000\n",
      "\u001b[1m12/12\u001b[0m \u001b[32m━━━━━━━━━━━━━━━━━━━━\u001b[0m\u001b[37m\u001b[0m \u001b[1m1s\u001b[0m 56ms/step - categorical_accuracy: 0.0278 - loss: 4.5464 - val_categorical_accuracy: 0.0067 - val_loss: 4.7085\n",
      "Epoch 244/2000\n",
      "\u001b[1m12/12\u001b[0m \u001b[32m━━━━━━━━━━━━━━━━━━━━\u001b[0m\u001b[37m\u001b[0m \u001b[1m1s\u001b[0m 57ms/step - categorical_accuracy: 0.0130 - loss: 4.5347 - val_categorical_accuracy: 0.0067 - val_loss: 4.7086\n",
      "Epoch 245/2000\n",
      "\u001b[1m12/12\u001b[0m \u001b[32m━━━━━━━━━━━━━━━━━━━━\u001b[0m\u001b[37m\u001b[0m \u001b[1m1s\u001b[0m 55ms/step - categorical_accuracy: 0.0338 - loss: 4.5238 - val_categorical_accuracy: 0.0067 - val_loss: 4.7089\n",
      "Epoch 246/2000\n",
      "\u001b[1m12/12\u001b[0m \u001b[32m━━━━━━━━━━━━━━━━━━━━\u001b[0m\u001b[37m\u001b[0m \u001b[1m1s\u001b[0m 62ms/step - categorical_accuracy: 0.0217 - loss: 4.5292 - val_categorical_accuracy: 0.0067 - val_loss: 4.7091\n",
      "Epoch 247/2000\n",
      "\u001b[1m12/12\u001b[0m \u001b[32m━━━━━━━━━━━━━━━━━━━━\u001b[0m\u001b[37m\u001b[0m \u001b[1m1s\u001b[0m 59ms/step - categorical_accuracy: 0.0225 - loss: 4.5338 - val_categorical_accuracy: 0.0067 - val_loss: 4.7092\n",
      "Epoch 248/2000\n",
      "\u001b[1m12/12\u001b[0m \u001b[32m━━━━━━━━━━━━━━━━━━━━\u001b[0m\u001b[37m\u001b[0m \u001b[1m1s\u001b[0m 57ms/step - categorical_accuracy: 0.0165 - loss: 4.5274 - val_categorical_accuracy: 0.0067 - val_loss: 4.7094\n",
      "Epoch 249/2000\n",
      "\u001b[1m12/12\u001b[0m \u001b[32m━━━━━━━━━━━━━━━━━━━━\u001b[0m\u001b[37m\u001b[0m \u001b[1m1s\u001b[0m 58ms/step - categorical_accuracy: 0.0174 - loss: 4.5315 - val_categorical_accuracy: 0.0067 - val_loss: 4.7097\n",
      "Epoch 250/2000\n",
      "\u001b[1m12/12\u001b[0m \u001b[32m━━━━━━━━━━━━━━━━━━━━\u001b[0m\u001b[37m\u001b[0m \u001b[1m1s\u001b[0m 62ms/step - categorical_accuracy: 0.0177 - loss: 4.5340 - val_categorical_accuracy: 0.0067 - val_loss: 4.7098\n",
      "Epoch 251/2000\n",
      "\u001b[1m12/12\u001b[0m \u001b[32m━━━━━━━━━━━━━━━━━━━━\u001b[0m\u001b[37m\u001b[0m \u001b[1m1s\u001b[0m 53ms/step - categorical_accuracy: 0.0227 - loss: 4.5344 - val_categorical_accuracy: 0.0067 - val_loss: 4.7099\n",
      "Epoch 252/2000\n",
      "\u001b[1m12/12\u001b[0m \u001b[32m━━━━━━━━━━━━━━━━━━━━\u001b[0m\u001b[37m\u001b[0m \u001b[1m1s\u001b[0m 57ms/step - categorical_accuracy: 0.0174 - loss: 4.5058 - val_categorical_accuracy: 0.0067 - val_loss: 4.7103\n",
      "Epoch 253/2000\n",
      "\u001b[1m12/12\u001b[0m \u001b[32m━━━━━━━━━━━━━━━━━━━━\u001b[0m\u001b[37m\u001b[0m \u001b[1m1s\u001b[0m 57ms/step - categorical_accuracy: 0.0247 - loss: 4.5161 - val_categorical_accuracy: 0.0067 - val_loss: 4.7105\n",
      "Epoch 254/2000\n",
      "\u001b[1m12/12\u001b[0m \u001b[32m━━━━━━━━━━━━━━━━━━━━\u001b[0m\u001b[37m\u001b[0m \u001b[1m1s\u001b[0m 56ms/step - categorical_accuracy: 0.0113 - loss: 4.5198 - val_categorical_accuracy: 0.0067 - val_loss: 4.7107\n",
      "Epoch 255/2000\n",
      "\u001b[1m12/12\u001b[0m \u001b[32m━━━━━━━━━━━━━━━━━━━━\u001b[0m\u001b[37m\u001b[0m \u001b[1m1s\u001b[0m 56ms/step - categorical_accuracy: 0.0168 - loss: 4.5586 - val_categorical_accuracy: 0.0067 - val_loss: 4.7108\n",
      "Epoch 256/2000\n",
      "\u001b[1m12/12\u001b[0m \u001b[32m━━━━━━━━━━━━━━━━━━━━\u001b[0m\u001b[37m\u001b[0m \u001b[1m1s\u001b[0m 57ms/step - categorical_accuracy: 0.0173 - loss: 4.5453 - val_categorical_accuracy: 0.0067 - val_loss: 4.7109\n",
      "Epoch 257/2000\n",
      "\u001b[1m12/12\u001b[0m \u001b[32m━━━━━━━━━━━━━━━━━━━━\u001b[0m\u001b[37m\u001b[0m \u001b[1m1s\u001b[0m 61ms/step - categorical_accuracy: 0.0153 - loss: 4.5232 - val_categorical_accuracy: 0.0067 - val_loss: 4.7113\n",
      "Epoch 258/2000\n",
      "\u001b[1m 5/12\u001b[0m \u001b[32m━━━━━━━━\u001b[0m\u001b[37m━━━━━━━━━━━━\u001b[0m \u001b[1m0s\u001b[0m 51ms/step - categorical_accuracy: 0.0235 - loss: 4.5516  "
     ]
    },
    {
     "ename": "KeyboardInterrupt",
     "evalue": "",
     "output_type": "error",
     "traceback": [
      "\u001b[1;31m---------------------------------------------------------------------------\u001b[0m",
      "\u001b[1;31mKeyboardInterrupt\u001b[0m                         Traceback (most recent call last)",
      "Cell \u001b[1;32mIn[193], line 3\u001b[0m\n\u001b[0;32m      1\u001b[0m \u001b[38;5;66;03m# Fitting the model\u001b[39;00m\n\u001b[1;32m----> 3\u001b[0m model_history \u001b[38;5;241m=\u001b[39m \u001b[43mmodel\u001b[49m\u001b[38;5;241;43m.\u001b[39;49m\u001b[43mfit\u001b[49m\u001b[43m(\u001b[49m\u001b[43mX_train\u001b[49m\u001b[43m \u001b[49m\u001b[43m,\u001b[49m\u001b[43m \u001b[49m\u001b[43mY_train\u001b[49m\u001b[43m \u001b[49m\u001b[43m,\u001b[49m\u001b[43mbatch_size\u001b[49m\u001b[38;5;241;43m=\u001b[39;49m\u001b[38;5;241;43m50\u001b[39;49m\u001b[43m \u001b[49m\u001b[43m,\u001b[49m\u001b[43m \u001b[49m\u001b[43mepochs\u001b[49m\u001b[43m \u001b[49m\u001b[38;5;241;43m=\u001b[39;49m\u001b[43m \u001b[49m\u001b[38;5;241;43m2000\u001b[39;49m\u001b[43m \u001b[49m\u001b[43m,\u001b[49m\u001b[43m \u001b[49m\u001b[43mcallbacks\u001b[49m\u001b[38;5;241;43m=\u001b[39;49m\u001b[43m[\u001b[49m\u001b[43mtb_callback\u001b[49m\u001b[43m]\u001b[49m\u001b[43m \u001b[49m\u001b[43m,\u001b[49m\u001b[43m \u001b[49m\u001b[43mvalidation_split\u001b[49m\u001b[43m \u001b[49m\u001b[38;5;241;43m=\u001b[39;49m\u001b[43m \u001b[49m\u001b[38;5;241;43m0.2\u001b[39;49m\u001b[43m)\u001b[49m\n",
      "File \u001b[1;32mc:\\Users\\Sahil\\AppData\\Local\\Programs\\Python\\Python312\\Lib\\site-packages\\keras\\src\\utils\\traceback_utils.py:117\u001b[0m, in \u001b[0;36mfilter_traceback.<locals>.error_handler\u001b[1;34m(*args, **kwargs)\u001b[0m\n\u001b[0;32m    115\u001b[0m filtered_tb \u001b[38;5;241m=\u001b[39m \u001b[38;5;28;01mNone\u001b[39;00m\n\u001b[0;32m    116\u001b[0m \u001b[38;5;28;01mtry\u001b[39;00m:\n\u001b[1;32m--> 117\u001b[0m     \u001b[38;5;28;01mreturn\u001b[39;00m \u001b[43mfn\u001b[49m\u001b[43m(\u001b[49m\u001b[38;5;241;43m*\u001b[39;49m\u001b[43margs\u001b[49m\u001b[43m,\u001b[49m\u001b[43m \u001b[49m\u001b[38;5;241;43m*\u001b[39;49m\u001b[38;5;241;43m*\u001b[39;49m\u001b[43mkwargs\u001b[49m\u001b[43m)\u001b[49m\n\u001b[0;32m    118\u001b[0m \u001b[38;5;28;01mexcept\u001b[39;00m \u001b[38;5;167;01mException\u001b[39;00m \u001b[38;5;28;01mas\u001b[39;00m e:\n\u001b[0;32m    119\u001b[0m     filtered_tb \u001b[38;5;241m=\u001b[39m _process_traceback_frames(e\u001b[38;5;241m.\u001b[39m__traceback__)\n",
      "File \u001b[1;32mc:\\Users\\Sahil\\AppData\\Local\\Programs\\Python\\Python312\\Lib\\site-packages\\keras\\src\\backend\\tensorflow\\trainer.py:320\u001b[0m, in \u001b[0;36mTensorFlowTrainer.fit\u001b[1;34m(self, x, y, batch_size, epochs, verbose, callbacks, validation_split, validation_data, shuffle, class_weight, sample_weight, initial_epoch, steps_per_epoch, validation_steps, validation_batch_size, validation_freq)\u001b[0m\n\u001b[0;32m    318\u001b[0m \u001b[38;5;28;01mfor\u001b[39;00m step, iterator \u001b[38;5;129;01min\u001b[39;00m epoch_iterator\u001b[38;5;241m.\u001b[39menumerate_epoch():\n\u001b[0;32m    319\u001b[0m     callbacks\u001b[38;5;241m.\u001b[39mon_train_batch_begin(step)\n\u001b[1;32m--> 320\u001b[0m     logs \u001b[38;5;241m=\u001b[39m \u001b[38;5;28;43mself\u001b[39;49m\u001b[38;5;241;43m.\u001b[39;49m\u001b[43mtrain_function\u001b[49m\u001b[43m(\u001b[49m\u001b[43miterator\u001b[49m\u001b[43m)\u001b[49m\n\u001b[0;32m    321\u001b[0m     logs \u001b[38;5;241m=\u001b[39m \u001b[38;5;28mself\u001b[39m\u001b[38;5;241m.\u001b[39m_pythonify_logs(logs)\n\u001b[0;32m    322\u001b[0m     callbacks\u001b[38;5;241m.\u001b[39mon_train_batch_end(step, logs)\n",
      "File \u001b[1;32mc:\\Users\\Sahil\\AppData\\Local\\Programs\\Python\\Python312\\Lib\\site-packages\\tensorflow\\python\\util\\traceback_utils.py:150\u001b[0m, in \u001b[0;36mfilter_traceback.<locals>.error_handler\u001b[1;34m(*args, **kwargs)\u001b[0m\n\u001b[0;32m    148\u001b[0m filtered_tb \u001b[38;5;241m=\u001b[39m \u001b[38;5;28;01mNone\u001b[39;00m\n\u001b[0;32m    149\u001b[0m \u001b[38;5;28;01mtry\u001b[39;00m:\n\u001b[1;32m--> 150\u001b[0m   \u001b[38;5;28;01mreturn\u001b[39;00m \u001b[43mfn\u001b[49m\u001b[43m(\u001b[49m\u001b[38;5;241;43m*\u001b[39;49m\u001b[43margs\u001b[49m\u001b[43m,\u001b[49m\u001b[43m \u001b[49m\u001b[38;5;241;43m*\u001b[39;49m\u001b[38;5;241;43m*\u001b[39;49m\u001b[43mkwargs\u001b[49m\u001b[43m)\u001b[49m\n\u001b[0;32m    151\u001b[0m \u001b[38;5;28;01mexcept\u001b[39;00m \u001b[38;5;167;01mException\u001b[39;00m \u001b[38;5;28;01mas\u001b[39;00m e:\n\u001b[0;32m    152\u001b[0m   filtered_tb \u001b[38;5;241m=\u001b[39m _process_traceback_frames(e\u001b[38;5;241m.\u001b[39m__traceback__)\n",
      "File \u001b[1;32mc:\\Users\\Sahil\\AppData\\Local\\Programs\\Python\\Python312\\Lib\\site-packages\\tensorflow\\python\\eager\\polymorphic_function\\polymorphic_function.py:833\u001b[0m, in \u001b[0;36mFunction.__call__\u001b[1;34m(self, *args, **kwds)\u001b[0m\n\u001b[0;32m    830\u001b[0m compiler \u001b[38;5;241m=\u001b[39m \u001b[38;5;124m\"\u001b[39m\u001b[38;5;124mxla\u001b[39m\u001b[38;5;124m\"\u001b[39m \u001b[38;5;28;01mif\u001b[39;00m \u001b[38;5;28mself\u001b[39m\u001b[38;5;241m.\u001b[39m_jit_compile \u001b[38;5;28;01melse\u001b[39;00m \u001b[38;5;124m\"\u001b[39m\u001b[38;5;124mnonXla\u001b[39m\u001b[38;5;124m\"\u001b[39m\n\u001b[0;32m    832\u001b[0m \u001b[38;5;28;01mwith\u001b[39;00m OptionalXlaContext(\u001b[38;5;28mself\u001b[39m\u001b[38;5;241m.\u001b[39m_jit_compile):\n\u001b[1;32m--> 833\u001b[0m   result \u001b[38;5;241m=\u001b[39m \u001b[38;5;28;43mself\u001b[39;49m\u001b[38;5;241;43m.\u001b[39;49m\u001b[43m_call\u001b[49m\u001b[43m(\u001b[49m\u001b[38;5;241;43m*\u001b[39;49m\u001b[43margs\u001b[49m\u001b[43m,\u001b[49m\u001b[43m \u001b[49m\u001b[38;5;241;43m*\u001b[39;49m\u001b[38;5;241;43m*\u001b[39;49m\u001b[43mkwds\u001b[49m\u001b[43m)\u001b[49m\n\u001b[0;32m    835\u001b[0m new_tracing_count \u001b[38;5;241m=\u001b[39m \u001b[38;5;28mself\u001b[39m\u001b[38;5;241m.\u001b[39mexperimental_get_tracing_count()\n\u001b[0;32m    836\u001b[0m without_tracing \u001b[38;5;241m=\u001b[39m (tracing_count \u001b[38;5;241m==\u001b[39m new_tracing_count)\n",
      "File \u001b[1;32mc:\\Users\\Sahil\\AppData\\Local\\Programs\\Python\\Python312\\Lib\\site-packages\\tensorflow\\python\\eager\\polymorphic_function\\polymorphic_function.py:878\u001b[0m, in \u001b[0;36mFunction._call\u001b[1;34m(self, *args, **kwds)\u001b[0m\n\u001b[0;32m    875\u001b[0m \u001b[38;5;28mself\u001b[39m\u001b[38;5;241m.\u001b[39m_lock\u001b[38;5;241m.\u001b[39mrelease()\n\u001b[0;32m    876\u001b[0m \u001b[38;5;66;03m# In this case we have not created variables on the first call. So we can\u001b[39;00m\n\u001b[0;32m    877\u001b[0m \u001b[38;5;66;03m# run the first trace but we should fail if variables are created.\u001b[39;00m\n\u001b[1;32m--> 878\u001b[0m results \u001b[38;5;241m=\u001b[39m \u001b[43mtracing_compilation\u001b[49m\u001b[38;5;241;43m.\u001b[39;49m\u001b[43mcall_function\u001b[49m\u001b[43m(\u001b[49m\n\u001b[0;32m    879\u001b[0m \u001b[43m    \u001b[49m\u001b[43margs\u001b[49m\u001b[43m,\u001b[49m\u001b[43m \u001b[49m\u001b[43mkwds\u001b[49m\u001b[43m,\u001b[49m\u001b[43m \u001b[49m\u001b[38;5;28;43mself\u001b[39;49m\u001b[38;5;241;43m.\u001b[39;49m\u001b[43m_variable_creation_config\u001b[49m\n\u001b[0;32m    880\u001b[0m \u001b[43m\u001b[49m\u001b[43m)\u001b[49m\n\u001b[0;32m    881\u001b[0m \u001b[38;5;28;01mif\u001b[39;00m \u001b[38;5;28mself\u001b[39m\u001b[38;5;241m.\u001b[39m_created_variables:\n\u001b[0;32m    882\u001b[0m   \u001b[38;5;28;01mraise\u001b[39;00m \u001b[38;5;167;01mValueError\u001b[39;00m(\u001b[38;5;124m\"\u001b[39m\u001b[38;5;124mCreating variables on a non-first call to a function\u001b[39m\u001b[38;5;124m\"\u001b[39m\n\u001b[0;32m    883\u001b[0m                    \u001b[38;5;124m\"\u001b[39m\u001b[38;5;124m decorated with tf.function.\u001b[39m\u001b[38;5;124m\"\u001b[39m)\n",
      "File \u001b[1;32mc:\\Users\\Sahil\\AppData\\Local\\Programs\\Python\\Python312\\Lib\\site-packages\\tensorflow\\python\\eager\\polymorphic_function\\tracing_compilation.py:139\u001b[0m, in \u001b[0;36mcall_function\u001b[1;34m(args, kwargs, tracing_options)\u001b[0m\n\u001b[0;32m    137\u001b[0m bound_args \u001b[38;5;241m=\u001b[39m function\u001b[38;5;241m.\u001b[39mfunction_type\u001b[38;5;241m.\u001b[39mbind(\u001b[38;5;241m*\u001b[39margs, \u001b[38;5;241m*\u001b[39m\u001b[38;5;241m*\u001b[39mkwargs)\n\u001b[0;32m    138\u001b[0m flat_inputs \u001b[38;5;241m=\u001b[39m function\u001b[38;5;241m.\u001b[39mfunction_type\u001b[38;5;241m.\u001b[39munpack_inputs(bound_args)\n\u001b[1;32m--> 139\u001b[0m \u001b[38;5;28;01mreturn\u001b[39;00m \u001b[43mfunction\u001b[49m\u001b[38;5;241;43m.\u001b[39;49m\u001b[43m_call_flat\u001b[49m\u001b[43m(\u001b[49m\u001b[43m  \u001b[49m\u001b[38;5;66;43;03m# pylint: disable=protected-access\u001b[39;49;00m\n\u001b[0;32m    140\u001b[0m \u001b[43m    \u001b[49m\u001b[43mflat_inputs\u001b[49m\u001b[43m,\u001b[49m\u001b[43m \u001b[49m\u001b[43mcaptured_inputs\u001b[49m\u001b[38;5;241;43m=\u001b[39;49m\u001b[43mfunction\u001b[49m\u001b[38;5;241;43m.\u001b[39;49m\u001b[43mcaptured_inputs\u001b[49m\n\u001b[0;32m    141\u001b[0m \u001b[43m\u001b[49m\u001b[43m)\u001b[49m\n",
      "File \u001b[1;32mc:\\Users\\Sahil\\AppData\\Local\\Programs\\Python\\Python312\\Lib\\site-packages\\tensorflow\\python\\eager\\polymorphic_function\\concrete_function.py:1322\u001b[0m, in \u001b[0;36mConcreteFunction._call_flat\u001b[1;34m(self, tensor_inputs, captured_inputs)\u001b[0m\n\u001b[0;32m   1318\u001b[0m possible_gradient_type \u001b[38;5;241m=\u001b[39m gradients_util\u001b[38;5;241m.\u001b[39mPossibleTapeGradientTypes(args)\n\u001b[0;32m   1319\u001b[0m \u001b[38;5;28;01mif\u001b[39;00m (possible_gradient_type \u001b[38;5;241m==\u001b[39m gradients_util\u001b[38;5;241m.\u001b[39mPOSSIBLE_GRADIENT_TYPES_NONE\n\u001b[0;32m   1320\u001b[0m     \u001b[38;5;129;01mand\u001b[39;00m executing_eagerly):\n\u001b[0;32m   1321\u001b[0m   \u001b[38;5;66;03m# No tape is watching; skip to running the function.\u001b[39;00m\n\u001b[1;32m-> 1322\u001b[0m   \u001b[38;5;28;01mreturn\u001b[39;00m \u001b[38;5;28;43mself\u001b[39;49m\u001b[38;5;241;43m.\u001b[39;49m\u001b[43m_inference_function\u001b[49m\u001b[38;5;241;43m.\u001b[39;49m\u001b[43mcall_preflattened\u001b[49m\u001b[43m(\u001b[49m\u001b[43margs\u001b[49m\u001b[43m)\u001b[49m\n\u001b[0;32m   1323\u001b[0m forward_backward \u001b[38;5;241m=\u001b[39m \u001b[38;5;28mself\u001b[39m\u001b[38;5;241m.\u001b[39m_select_forward_and_backward_functions(\n\u001b[0;32m   1324\u001b[0m     args,\n\u001b[0;32m   1325\u001b[0m     possible_gradient_type,\n\u001b[0;32m   1326\u001b[0m     executing_eagerly)\n\u001b[0;32m   1327\u001b[0m forward_function, args_with_tangents \u001b[38;5;241m=\u001b[39m forward_backward\u001b[38;5;241m.\u001b[39mforward()\n",
      "File \u001b[1;32mc:\\Users\\Sahil\\AppData\\Local\\Programs\\Python\\Python312\\Lib\\site-packages\\tensorflow\\python\\eager\\polymorphic_function\\atomic_function.py:216\u001b[0m, in \u001b[0;36mAtomicFunction.call_preflattened\u001b[1;34m(self, args)\u001b[0m\n\u001b[0;32m    214\u001b[0m \u001b[38;5;28;01mdef\u001b[39;00m \u001b[38;5;21mcall_preflattened\u001b[39m(\u001b[38;5;28mself\u001b[39m, args: Sequence[core\u001b[38;5;241m.\u001b[39mTensor]) \u001b[38;5;241m-\u001b[39m\u001b[38;5;241m>\u001b[39m Any:\n\u001b[0;32m    215\u001b[0m \u001b[38;5;250m  \u001b[39m\u001b[38;5;124;03m\"\"\"Calls with flattened tensor inputs and returns the structured output.\"\"\"\u001b[39;00m\n\u001b[1;32m--> 216\u001b[0m   flat_outputs \u001b[38;5;241m=\u001b[39m \u001b[38;5;28;43mself\u001b[39;49m\u001b[38;5;241;43m.\u001b[39;49m\u001b[43mcall_flat\u001b[49m\u001b[43m(\u001b[49m\u001b[38;5;241;43m*\u001b[39;49m\u001b[43margs\u001b[49m\u001b[43m)\u001b[49m\n\u001b[0;32m    217\u001b[0m   \u001b[38;5;28;01mreturn\u001b[39;00m \u001b[38;5;28mself\u001b[39m\u001b[38;5;241m.\u001b[39mfunction_type\u001b[38;5;241m.\u001b[39mpack_output(flat_outputs)\n",
      "File \u001b[1;32mc:\\Users\\Sahil\\AppData\\Local\\Programs\\Python\\Python312\\Lib\\site-packages\\tensorflow\\python\\eager\\polymorphic_function\\atomic_function.py:251\u001b[0m, in \u001b[0;36mAtomicFunction.call_flat\u001b[1;34m(self, *args)\u001b[0m\n\u001b[0;32m    249\u001b[0m \u001b[38;5;28;01mwith\u001b[39;00m record\u001b[38;5;241m.\u001b[39mstop_recording():\n\u001b[0;32m    250\u001b[0m   \u001b[38;5;28;01mif\u001b[39;00m \u001b[38;5;28mself\u001b[39m\u001b[38;5;241m.\u001b[39m_bound_context\u001b[38;5;241m.\u001b[39mexecuting_eagerly():\n\u001b[1;32m--> 251\u001b[0m     outputs \u001b[38;5;241m=\u001b[39m \u001b[38;5;28;43mself\u001b[39;49m\u001b[38;5;241;43m.\u001b[39;49m\u001b[43m_bound_context\u001b[49m\u001b[38;5;241;43m.\u001b[39;49m\u001b[43mcall_function\u001b[49m\u001b[43m(\u001b[49m\n\u001b[0;32m    252\u001b[0m \u001b[43m        \u001b[49m\u001b[38;5;28;43mself\u001b[39;49m\u001b[38;5;241;43m.\u001b[39;49m\u001b[43mname\u001b[49m\u001b[43m,\u001b[49m\n\u001b[0;32m    253\u001b[0m \u001b[43m        \u001b[49m\u001b[38;5;28;43mlist\u001b[39;49m\u001b[43m(\u001b[49m\u001b[43margs\u001b[49m\u001b[43m)\u001b[49m\u001b[43m,\u001b[49m\n\u001b[0;32m    254\u001b[0m \u001b[43m        \u001b[49m\u001b[38;5;28;43mlen\u001b[39;49m\u001b[43m(\u001b[49m\u001b[38;5;28;43mself\u001b[39;49m\u001b[38;5;241;43m.\u001b[39;49m\u001b[43mfunction_type\u001b[49m\u001b[38;5;241;43m.\u001b[39;49m\u001b[43mflat_outputs\u001b[49m\u001b[43m)\u001b[49m\u001b[43m,\u001b[49m\n\u001b[0;32m    255\u001b[0m \u001b[43m    \u001b[49m\u001b[43m)\u001b[49m\n\u001b[0;32m    256\u001b[0m   \u001b[38;5;28;01melse\u001b[39;00m:\n\u001b[0;32m    257\u001b[0m     outputs \u001b[38;5;241m=\u001b[39m make_call_op_in_graph(\n\u001b[0;32m    258\u001b[0m         \u001b[38;5;28mself\u001b[39m,\n\u001b[0;32m    259\u001b[0m         \u001b[38;5;28mlist\u001b[39m(args),\n\u001b[0;32m    260\u001b[0m         \u001b[38;5;28mself\u001b[39m\u001b[38;5;241m.\u001b[39m_bound_context\u001b[38;5;241m.\u001b[39mfunction_call_options\u001b[38;5;241m.\u001b[39mas_attrs(),\n\u001b[0;32m    261\u001b[0m     )\n",
      "File \u001b[1;32mc:\\Users\\Sahil\\AppData\\Local\\Programs\\Python\\Python312\\Lib\\site-packages\\tensorflow\\python\\eager\\context.py:1552\u001b[0m, in \u001b[0;36mContext.call_function\u001b[1;34m(self, name, tensor_inputs, num_outputs)\u001b[0m\n\u001b[0;32m   1550\u001b[0m cancellation_context \u001b[38;5;241m=\u001b[39m cancellation\u001b[38;5;241m.\u001b[39mcontext()\n\u001b[0;32m   1551\u001b[0m \u001b[38;5;28;01mif\u001b[39;00m cancellation_context \u001b[38;5;129;01mis\u001b[39;00m \u001b[38;5;28;01mNone\u001b[39;00m:\n\u001b[1;32m-> 1552\u001b[0m   outputs \u001b[38;5;241m=\u001b[39m \u001b[43mexecute\u001b[49m\u001b[38;5;241;43m.\u001b[39;49m\u001b[43mexecute\u001b[49m\u001b[43m(\u001b[49m\n\u001b[0;32m   1553\u001b[0m \u001b[43m      \u001b[49m\u001b[43mname\u001b[49m\u001b[38;5;241;43m.\u001b[39;49m\u001b[43mdecode\u001b[49m\u001b[43m(\u001b[49m\u001b[38;5;124;43m\"\u001b[39;49m\u001b[38;5;124;43mutf-8\u001b[39;49m\u001b[38;5;124;43m\"\u001b[39;49m\u001b[43m)\u001b[49m\u001b[43m,\u001b[49m\n\u001b[0;32m   1554\u001b[0m \u001b[43m      \u001b[49m\u001b[43mnum_outputs\u001b[49m\u001b[38;5;241;43m=\u001b[39;49m\u001b[43mnum_outputs\u001b[49m\u001b[43m,\u001b[49m\n\u001b[0;32m   1555\u001b[0m \u001b[43m      \u001b[49m\u001b[43minputs\u001b[49m\u001b[38;5;241;43m=\u001b[39;49m\u001b[43mtensor_inputs\u001b[49m\u001b[43m,\u001b[49m\n\u001b[0;32m   1556\u001b[0m \u001b[43m      \u001b[49m\u001b[43mattrs\u001b[49m\u001b[38;5;241;43m=\u001b[39;49m\u001b[43mattrs\u001b[49m\u001b[43m,\u001b[49m\n\u001b[0;32m   1557\u001b[0m \u001b[43m      \u001b[49m\u001b[43mctx\u001b[49m\u001b[38;5;241;43m=\u001b[39;49m\u001b[38;5;28;43mself\u001b[39;49m\u001b[43m,\u001b[49m\n\u001b[0;32m   1558\u001b[0m \u001b[43m  \u001b[49m\u001b[43m)\u001b[49m\n\u001b[0;32m   1559\u001b[0m \u001b[38;5;28;01melse\u001b[39;00m:\n\u001b[0;32m   1560\u001b[0m   outputs \u001b[38;5;241m=\u001b[39m execute\u001b[38;5;241m.\u001b[39mexecute_with_cancellation(\n\u001b[0;32m   1561\u001b[0m       name\u001b[38;5;241m.\u001b[39mdecode(\u001b[38;5;124m\"\u001b[39m\u001b[38;5;124mutf-8\u001b[39m\u001b[38;5;124m\"\u001b[39m),\n\u001b[0;32m   1562\u001b[0m       num_outputs\u001b[38;5;241m=\u001b[39mnum_outputs,\n\u001b[1;32m   (...)\u001b[0m\n\u001b[0;32m   1566\u001b[0m       cancellation_manager\u001b[38;5;241m=\u001b[39mcancellation_context,\n\u001b[0;32m   1567\u001b[0m   )\n",
      "File \u001b[1;32mc:\\Users\\Sahil\\AppData\\Local\\Programs\\Python\\Python312\\Lib\\site-packages\\tensorflow\\python\\eager\\execute.py:53\u001b[0m, in \u001b[0;36mquick_execute\u001b[1;34m(op_name, num_outputs, inputs, attrs, ctx, name)\u001b[0m\n\u001b[0;32m     51\u001b[0m \u001b[38;5;28;01mtry\u001b[39;00m:\n\u001b[0;32m     52\u001b[0m   ctx\u001b[38;5;241m.\u001b[39mensure_initialized()\n\u001b[1;32m---> 53\u001b[0m   tensors \u001b[38;5;241m=\u001b[39m \u001b[43mpywrap_tfe\u001b[49m\u001b[38;5;241;43m.\u001b[39;49m\u001b[43mTFE_Py_Execute\u001b[49m\u001b[43m(\u001b[49m\u001b[43mctx\u001b[49m\u001b[38;5;241;43m.\u001b[39;49m\u001b[43m_handle\u001b[49m\u001b[43m,\u001b[49m\u001b[43m \u001b[49m\u001b[43mdevice_name\u001b[49m\u001b[43m,\u001b[49m\u001b[43m \u001b[49m\u001b[43mop_name\u001b[49m\u001b[43m,\u001b[49m\n\u001b[0;32m     54\u001b[0m \u001b[43m                                      \u001b[49m\u001b[43minputs\u001b[49m\u001b[43m,\u001b[49m\u001b[43m \u001b[49m\u001b[43mattrs\u001b[49m\u001b[43m,\u001b[49m\u001b[43m \u001b[49m\u001b[43mnum_outputs\u001b[49m\u001b[43m)\u001b[49m\n\u001b[0;32m     55\u001b[0m \u001b[38;5;28;01mexcept\u001b[39;00m core\u001b[38;5;241m.\u001b[39m_NotOkStatusException \u001b[38;5;28;01mas\u001b[39;00m e:\n\u001b[0;32m     56\u001b[0m   \u001b[38;5;28;01mif\u001b[39;00m name \u001b[38;5;129;01mis\u001b[39;00m \u001b[38;5;129;01mnot\u001b[39;00m \u001b[38;5;28;01mNone\u001b[39;00m:\n",
      "\u001b[1;31mKeyboardInterrupt\u001b[0m: "
     ]
    }
   ],
   "source": [
    "# Fitting the model\n",
    "\n",
    "model_history = model.fit(X_train , Y_train ,batch_size=50 , epochs = 2000 , callbacks=[tb_callback] , validation_split = 0.2)"
   ]
  },
  {
   "cell_type": "code",
   "execution_count": 190,
   "metadata": {},
   "outputs": [
    {
     "name": "stdout",
     "output_type": "stream",
     "text": [
      "\u001b[1m8/8\u001b[0m \u001b[32m━━━━━━━━━━━━━━━━━━━━\u001b[0m\u001b[37m\u001b[0m \u001b[1m0s\u001b[0m 16ms/step - categorical_accuracy: 0.0064 - loss: 4.5950  \n"
     ]
    },
    {
     "data": {
      "text/plain": [
       "[4.597005844116211, 0.004000000189989805]"
      ]
     },
     "execution_count": 190,
     "metadata": {},
     "output_type": "execute_result"
    }
   ],
   "source": [
    "model.evaluate(X_test , Y_test , verbose = 1)"
   ]
  },
  {
   "cell_type": "code",
   "execution_count": 192,
   "metadata": {},
   "outputs": [
    {
     "data": {
      "text/plain": [
       "<matplotlib.legend.Legend at 0x1e86ede0ec0>"
      ]
     },
     "execution_count": 192,
     "metadata": {},
     "output_type": "execute_result"
    },
    {
     "data": {
      "image/png": "[encoded data removed]",
      "text/plain": [
       "<Figure size 640x480 with 1 Axes>"
      ]
     },
     "metadata": {},
     "output_type": "display_data"
    }
   ],
   "source": [
    "plt.plot(model_history.history['categorical_accuracy'] , label = 'training-accuracies')\n",
    "plt.plot(model_history.history['val_categorical_accuracy'] , label ='testing-accuracies')\n",
    "plt.legend(loc = 'lower right')"
   ]
  },
  {
   "cell_type": "code",
   "execution_count": null,
   "metadata": {},
   "outputs": [
    {
     "data": {
      "text/plain": [
       "<matplotlib.legend.Legend at 0x1bc0c51eb40>"
      ]
     },
     "execution_count": 115,
     "metadata": {},
     "output_type": "execute_result"
    },
    {
     "data": {
      "image/png": "[encoded data removed]",
      "text/plain": [
       "<Figure size 640x480 with 1 Axes>"
      ]
     },
     "metadata": {},
     "output_type": "display_data"
    }
   ],
   "source": [
    "plt.plot(model_history.history['loss'] , label = 'training-loss')\n",
    "plt.plot( model_history.history['val_loss'] , label ='testing-loss')\n",
    "plt.legend(loc = 'upper left')"
   ]
  }
 ],
 "metadata": {
  "kernelspec": {
   "display_name": "Python 3",
   "language": "python",
   "name": "python3"
  },
  "language_info": {
   "codemirror_mode": {
    "name": "ipython",
    "version": 3
   },
   "file_extension": ".py",
   "mimetype": "text/x-python",
   "name": "python",
   "nbconvert_exporter": "python",
   "pygments_lexer": "ipython3",
   "version": "3.12.5"
  }
 },
 "nbformat": 4,
 "nbformat_minor": 2
}
