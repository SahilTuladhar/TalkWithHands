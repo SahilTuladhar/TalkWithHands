{
 "cells": [
  {
   "cell_type": "markdown",
   "metadata": {},
   "source": [
    "# Extracting frames and landmarks from dataset"
   ]
  },
  {
   "cell_type": "code",
   "execution_count": 1,
   "metadata": {},
   "outputs": [],
   "source": [
    "# %load_ext cudf.pandas"
   ]
  },
  {
   "cell_type": "code",
   "execution_count": 2,
   "metadata": {},
   "outputs": [],
   "source": [
    "import numpy as np\n",
    "from tqdm import tqdm\n",
    "tqdm.pandas()\n",
    "import pandas as pd\n",
    "import mediapipe as mp\n",
    "import cv2\n",
    "import matplotlib.pyplot as plt\n",
    "from pymongo import MongoClient\n",
    "import gc\n",
    "import tensorflow as tf"
   ]
  },
  {
   "cell_type": "code",
   "execution_count": 3,
   "metadata": {},
   "outputs": [],
   "source": [
    "mp_holistic = mp.solutions.holistic\n",
    "mp_drawing = mp.solutions.drawing_utils\n",
    "holistic = mp_holistic.Holistic(static_image_mode = False,\n",
    "                                model_complexity = 2)"
   ]
  },
  {
   "cell_type": "code",
   "execution_count": 4,
   "metadata": {},
   "outputs": [],
   "source": [
    "connection = MongoClient('localhost', 27017)\n",
    "db = connection['mydb']\n",
    "collection = db['Sign_Language_Final_Data']"
   ]
  },
  {
   "cell_type": "code",
   "execution_count": 5,
   "metadata": {},
   "outputs": [],
   "source": [
    "cursor = collection.find({})\n",
    "df = pd.DataFrame(list(cursor))"
   ]
  },
  {
   "cell_type": "code",
   "execution_count": 6,
   "metadata": {},
   "outputs": [
    {
     "data": {
      "text/html": [
       "<div>\n",
       "<style scoped>\n",
       "    .dataframe tbody tr th:only-of-type {\n",
       "        vertical-align: middle;\n",
       "    }\n",
       "\n",
       "    .dataframe tbody tr th {\n",
       "        vertical-align: top;\n",
       "    }\n",
       "\n",
       "    .dataframe thead th {\n",
       "        text-align: right;\n",
       "    }\n",
       "</style>\n",
       "<table border=\"1\" class=\"dataframe\">\n",
       "  <thead>\n",
       "    <tr style=\"text-align: right;\">\n",
       "      <th></th>\n",
       "      <th>_id</th>\n",
       "      <th>gloss</th>\n",
       "      <th>bbox</th>\n",
       "      <th>fps</th>\n",
       "      <th>frame_end</th>\n",
       "      <th>frame_start</th>\n",
       "      <th>instance_id</th>\n",
       "      <th>signer_id</th>\n",
       "      <th>source</th>\n",
       "      <th>split</th>\n",
       "      <th>url</th>\n",
       "      <th>variation_id</th>\n",
       "      <th>video_id</th>\n",
       "      <th>is_available</th>\n",
       "    </tr>\n",
       "  </thead>\n",
       "  <tbody>\n",
       "    <tr>\n",
       "      <th>0</th>\n",
       "      <td>671b7bc2c6201c92805b4f99</td>\n",
       "      <td>book</td>\n",
       "      <td>[385, 37, 885, 720]</td>\n",
       "      <td>25</td>\n",
       "      <td>-1</td>\n",
       "      <td>1</td>\n",
       "      <td>0</td>\n",
       "      <td>118</td>\n",
       "      <td>aslbrick</td>\n",
       "      <td>train</td>\n",
       "      <td>http://aslbricks.org/New/ASL-Videos/book.mp4</td>\n",
       "      <td>0</td>\n",
       "      <td>v_id_69241</td>\n",
       "      <td>True</td>\n",
       "    </tr>\n",
       "    <tr>\n",
       "      <th>1</th>\n",
       "      <td>671b7bc2c6201c92805b4f9a</td>\n",
       "      <td>book</td>\n",
       "      <td>[462, 44, 949, 720]</td>\n",
       "      <td>25</td>\n",
       "      <td>-1</td>\n",
       "      <td>1</td>\n",
       "      <td>10</td>\n",
       "      <td>31</td>\n",
       "      <td>signschool</td>\n",
       "      <td>train</td>\n",
       "      <td>https://signstock.blob.core.windows.net/signsc...</td>\n",
       "      <td>0</td>\n",
       "      <td>v_id_07069</td>\n",
       "      <td>True</td>\n",
       "    </tr>\n",
       "    <tr>\n",
       "      <th>2</th>\n",
       "      <td>671b7bc2c6201c92805b4f9b</td>\n",
       "      <td>book</td>\n",
       "      <td>[234, 17, 524, 414]</td>\n",
       "      <td>25</td>\n",
       "      <td>-1</td>\n",
       "      <td>1</td>\n",
       "      <td>17</td>\n",
       "      <td>36</td>\n",
       "      <td>startasl</td>\n",
       "      <td>train</td>\n",
       "      <td>https://s3-us-west-1.amazonaws.com/files.start...</td>\n",
       "      <td>0</td>\n",
       "      <td>v_id_07068</td>\n",
       "      <td>True</td>\n",
       "    </tr>\n",
       "    <tr>\n",
       "      <th>3</th>\n",
       "      <td>671b7bc2c6201c92805b4f9c</td>\n",
       "      <td>book</td>\n",
       "      <td>[131, 26, 526, 480]</td>\n",
       "      <td>25</td>\n",
       "      <td>-1</td>\n",
       "      <td>1</td>\n",
       "      <td>22</td>\n",
       "      <td>59</td>\n",
       "      <td>asldeafined</td>\n",
       "      <td>train</td>\n",
       "      <td>https://media.asldeafined.com/vocabulary/14666...</td>\n",
       "      <td>0</td>\n",
       "      <td>v_id_07070</td>\n",
       "      <td>True</td>\n",
       "    </tr>\n",
       "    <tr>\n",
       "      <th>4</th>\n",
       "      <td>671b7bc2c6201c92805b4f9d</td>\n",
       "      <td>book</td>\n",
       "      <td>[162, 54, 528, 400]</td>\n",
       "      <td>25</td>\n",
       "      <td>-1</td>\n",
       "      <td>1</td>\n",
       "      <td>24</td>\n",
       "      <td>12</td>\n",
       "      <td>aslsearch</td>\n",
       "      <td>val</td>\n",
       "      <td>http://www.aslsearch.com/signs/videos/book.mp4</td>\n",
       "      <td>0</td>\n",
       "      <td>v_id_07099</td>\n",
       "      <td>True</td>\n",
       "    </tr>\n",
       "  </tbody>\n",
       "</table>\n",
       "</div>"
      ],
      "text/plain": [
       "                        _id gloss                 bbox  fps  frame_end  \\\n",
       "0  671b7bc2c6201c92805b4f99  book  [385, 37, 885, 720]   25         -1   \n",
       "1  671b7bc2c6201c92805b4f9a  book  [462, 44, 949, 720]   25         -1   \n",
       "2  671b7bc2c6201c92805b4f9b  book  [234, 17, 524, 414]   25         -1   \n",
       "3  671b7bc2c6201c92805b4f9c  book  [131, 26, 526, 480]   25         -1   \n",
       "4  671b7bc2c6201c92805b4f9d  book  [162, 54, 528, 400]   25         -1   \n",
       "\n",
       "   frame_start  instance_id  signer_id       source  split  \\\n",
       "0            1            0        118     aslbrick  train   \n",
       "1            1           10         31   signschool  train   \n",
       "2            1           17         36     startasl  train   \n",
       "3            1           22         59  asldeafined  train   \n",
       "4            1           24         12    aslsearch    val   \n",
       "\n",
       "                                                 url  variation_id  \\\n",
       "0       http://aslbricks.org/New/ASL-Videos/book.mp4             0   \n",
       "1  https://signstock.blob.core.windows.net/signsc...             0   \n",
       "2  https://s3-us-west-1.amazonaws.com/files.start...             0   \n",
       "3  https://media.asldeafined.com/vocabulary/14666...             0   \n",
       "4     http://www.aslsearch.com/signs/videos/book.mp4             0   \n",
       "\n",
       "     video_id  is_available  \n",
       "0  v_id_69241          True  \n",
       "1  v_id_07069          True  \n",
       "2  v_id_07068          True  \n",
       "3  v_id_07070          True  \n",
       "4  v_id_07099          True  "
      ]
     },
     "execution_count": 6,
     "metadata": {},
     "output_type": "execute_result"
    }
   ],
   "source": [
    "df.head()"
   ]
  },
  {
   "cell_type": "code",
   "execution_count": 7,
   "metadata": {},
   "outputs": [],
   "source": [
    "df.drop(columns = ['_id', 'source', 'url'], inplace = True)"
   ]
  },
  {
   "cell_type": "code",
   "execution_count": 8,
   "metadata": {},
   "outputs": [
    {
     "data": {
      "text/html": [
       "<div>\n",
       "<style scoped>\n",
       "    .dataframe tbody tr th:only-of-type {\n",
       "        vertical-align: middle;\n",
       "    }\n",
       "\n",
       "    .dataframe tbody tr th {\n",
       "        vertical-align: top;\n",
       "    }\n",
       "\n",
       "    .dataframe thead th {\n",
       "        text-align: right;\n",
       "    }\n",
       "</style>\n",
       "<table border=\"1\" class=\"dataframe\">\n",
       "  <thead>\n",
       "    <tr style=\"text-align: right;\">\n",
       "      <th></th>\n",
       "      <th>gloss</th>\n",
       "      <th>bbox</th>\n",
       "      <th>fps</th>\n",
       "      <th>frame_end</th>\n",
       "      <th>frame_start</th>\n",
       "      <th>instance_id</th>\n",
       "      <th>signer_id</th>\n",
       "      <th>split</th>\n",
       "      <th>variation_id</th>\n",
       "      <th>video_id</th>\n",
       "      <th>is_available</th>\n",
       "    </tr>\n",
       "  </thead>\n",
       "  <tbody>\n",
       "    <tr>\n",
       "      <th>0</th>\n",
       "      <td>book</td>\n",
       "      <td>[385, 37, 885, 720]</td>\n",
       "      <td>25</td>\n",
       "      <td>-1</td>\n",
       "      <td>1</td>\n",
       "      <td>0</td>\n",
       "      <td>118</td>\n",
       "      <td>train</td>\n",
       "      <td>0</td>\n",
       "      <td>v_id_69241</td>\n",
       "      <td>True</td>\n",
       "    </tr>\n",
       "    <tr>\n",
       "      <th>1</th>\n",
       "      <td>book</td>\n",
       "      <td>[462, 44, 949, 720]</td>\n",
       "      <td>25</td>\n",
       "      <td>-1</td>\n",
       "      <td>1</td>\n",
       "      <td>10</td>\n",
       "      <td>31</td>\n",
       "      <td>train</td>\n",
       "      <td>0</td>\n",
       "      <td>v_id_07069</td>\n",
       "      <td>True</td>\n",
       "    </tr>\n",
       "    <tr>\n",
       "      <th>2</th>\n",
       "      <td>book</td>\n",
       "      <td>[234, 17, 524, 414]</td>\n",
       "      <td>25</td>\n",
       "      <td>-1</td>\n",
       "      <td>1</td>\n",
       "      <td>17</td>\n",
       "      <td>36</td>\n",
       "      <td>train</td>\n",
       "      <td>0</td>\n",
       "      <td>v_id_07068</td>\n",
       "      <td>True</td>\n",
       "    </tr>\n",
       "    <tr>\n",
       "      <th>3</th>\n",
       "      <td>book</td>\n",
       "      <td>[131, 26, 526, 480]</td>\n",
       "      <td>25</td>\n",
       "      <td>-1</td>\n",
       "      <td>1</td>\n",
       "      <td>22</td>\n",
       "      <td>59</td>\n",
       "      <td>train</td>\n",
       "      <td>0</td>\n",
       "      <td>v_id_07070</td>\n",
       "      <td>True</td>\n",
       "    </tr>\n",
       "    <tr>\n",
       "      <th>4</th>\n",
       "      <td>book</td>\n",
       "      <td>[162, 54, 528, 400]</td>\n",
       "      <td>25</td>\n",
       "      <td>-1</td>\n",
       "      <td>1</td>\n",
       "      <td>24</td>\n",
       "      <td>12</td>\n",
       "      <td>val</td>\n",
       "      <td>0</td>\n",
       "      <td>v_id_07099</td>\n",
       "      <td>True</td>\n",
       "    </tr>\n",
       "  </tbody>\n",
       "</table>\n",
       "</div>"
      ],
      "text/plain": [
       "  gloss                 bbox  fps  frame_end  frame_start  instance_id  \\\n",
       "0  book  [385, 37, 885, 720]   25         -1            1            0   \n",
       "1  book  [462, 44, 949, 720]   25         -1            1           10   \n",
       "2  book  [234, 17, 524, 414]   25         -1            1           17   \n",
       "3  book  [131, 26, 526, 480]   25         -1            1           22   \n",
       "4  book  [162, 54, 528, 400]   25         -1            1           24   \n",
       "\n",
       "   signer_id  split  variation_id    video_id  is_available  \n",
       "0        118  train             0  v_id_69241          True  \n",
       "1         31  train             0  v_id_07069          True  \n",
       "2         36  train             0  v_id_07068          True  \n",
       "3         59  train             0  v_id_07070          True  \n",
       "4         12    val             0  v_id_07099          True  "
      ]
     },
     "execution_count": 8,
     "metadata": {},
     "output_type": "execute_result"
    }
   ],
   "source": [
    "df.head()"
   ]
  },
  {
   "cell_type": "code",
   "execution_count": 9,
   "metadata": {},
   "outputs": [],
   "source": [
    "df['video_id'] = df['video_id'].apply(lambda id: id.replace('v_id_', ''))"
   ]
  },
  {
   "cell_type": "code",
   "execution_count": 10,
   "metadata": {},
   "outputs": [
    {
     "data": {
      "text/html": [
       "<div>\n",
       "<style scoped>\n",
       "    .dataframe tbody tr th:only-of-type {\n",
       "        vertical-align: middle;\n",
       "    }\n",
       "\n",
       "    .dataframe tbody tr th {\n",
       "        vertical-align: top;\n",
       "    }\n",
       "\n",
       "    .dataframe thead th {\n",
       "        text-align: right;\n",
       "    }\n",
       "</style>\n",
       "<table border=\"1\" class=\"dataframe\">\n",
       "  <thead>\n",
       "    <tr style=\"text-align: right;\">\n",
       "      <th></th>\n",
       "      <th>gloss</th>\n",
       "      <th>bbox</th>\n",
       "      <th>fps</th>\n",
       "      <th>frame_end</th>\n",
       "      <th>frame_start</th>\n",
       "      <th>instance_id</th>\n",
       "      <th>signer_id</th>\n",
       "      <th>split</th>\n",
       "      <th>variation_id</th>\n",
       "      <th>video_id</th>\n",
       "      <th>is_available</th>\n",
       "    </tr>\n",
       "  </thead>\n",
       "  <tbody>\n",
       "    <tr>\n",
       "      <th>0</th>\n",
       "      <td>book</td>\n",
       "      <td>[385, 37, 885, 720]</td>\n",
       "      <td>25</td>\n",
       "      <td>-1</td>\n",
       "      <td>1</td>\n",
       "      <td>0</td>\n",
       "      <td>118</td>\n",
       "      <td>train</td>\n",
       "      <td>0</td>\n",
       "      <td>69241</td>\n",
       "      <td>True</td>\n",
       "    </tr>\n",
       "    <tr>\n",
       "      <th>1</th>\n",
       "      <td>book</td>\n",
       "      <td>[462, 44, 949, 720]</td>\n",
       "      <td>25</td>\n",
       "      <td>-1</td>\n",
       "      <td>1</td>\n",
       "      <td>10</td>\n",
       "      <td>31</td>\n",
       "      <td>train</td>\n",
       "      <td>0</td>\n",
       "      <td>07069</td>\n",
       "      <td>True</td>\n",
       "    </tr>\n",
       "    <tr>\n",
       "      <th>2</th>\n",
       "      <td>book</td>\n",
       "      <td>[234, 17, 524, 414]</td>\n",
       "      <td>25</td>\n",
       "      <td>-1</td>\n",
       "      <td>1</td>\n",
       "      <td>17</td>\n",
       "      <td>36</td>\n",
       "      <td>train</td>\n",
       "      <td>0</td>\n",
       "      <td>07068</td>\n",
       "      <td>True</td>\n",
       "    </tr>\n",
       "    <tr>\n",
       "      <th>3</th>\n",
       "      <td>book</td>\n",
       "      <td>[131, 26, 526, 480]</td>\n",
       "      <td>25</td>\n",
       "      <td>-1</td>\n",
       "      <td>1</td>\n",
       "      <td>22</td>\n",
       "      <td>59</td>\n",
       "      <td>train</td>\n",
       "      <td>0</td>\n",
       "      <td>07070</td>\n",
       "      <td>True</td>\n",
       "    </tr>\n",
       "    <tr>\n",
       "      <th>4</th>\n",
       "      <td>book</td>\n",
       "      <td>[162, 54, 528, 400]</td>\n",
       "      <td>25</td>\n",
       "      <td>-1</td>\n",
       "      <td>1</td>\n",
       "      <td>24</td>\n",
       "      <td>12</td>\n",
       "      <td>val</td>\n",
       "      <td>0</td>\n",
       "      <td>07099</td>\n",
       "      <td>True</td>\n",
       "    </tr>\n",
       "  </tbody>\n",
       "</table>\n",
       "</div>"
      ],
      "text/plain": [
       "  gloss                 bbox  fps  frame_end  frame_start  instance_id  \\\n",
       "0  book  [385, 37, 885, 720]   25         -1            1            0   \n",
       "1  book  [462, 44, 949, 720]   25         -1            1           10   \n",
       "2  book  [234, 17, 524, 414]   25         -1            1           17   \n",
       "3  book  [131, 26, 526, 480]   25         -1            1           22   \n",
       "4  book  [162, 54, 528, 400]   25         -1            1           24   \n",
       "\n",
       "   signer_id  split  variation_id video_id  is_available  \n",
       "0        118  train             0    69241          True  \n",
       "1         31  train             0    07069          True  \n",
       "2         36  train             0    07068          True  \n",
       "3         59  train             0    07070          True  \n",
       "4         12    val             0    07099          True  "
      ]
     },
     "execution_count": 10,
     "metadata": {},
     "output_type": "execute_result"
    }
   ],
   "source": [
    "df.head()"
   ]
  },
  {
   "cell_type": "code",
   "execution_count": 11,
   "metadata": {},
   "outputs": [
    {
     "data": {
      "text/plain": [
       "11980"
      ]
     },
     "execution_count": 11,
     "metadata": {},
     "output_type": "execute_result"
    }
   ],
   "source": [
    "len(df)"
   ]
  },
  {
   "cell_type": "code",
   "execution_count": 12,
   "metadata": {},
   "outputs": [
    {
     "data": {
      "text/plain": [
       "[1, 2, 3]"
      ]
     },
     "execution_count": 12,
     "metadata": {},
     "output_type": "execute_result"
    }
   ],
   "source": [
    "df['frame_start'].unique().tolist()"
   ]
  },
  {
   "cell_type": "code",
   "execution_count": 13,
   "metadata": {},
   "outputs": [
    {
     "data": {
      "text/plain": [
       "[-1]"
      ]
     },
     "execution_count": 13,
     "metadata": {},
     "output_type": "execute_result"
    }
   ],
   "source": [
    "df['frame_end'].unique().tolist()"
   ]
  },
  {
   "cell_type": "code",
   "execution_count": 14,
   "metadata": {},
   "outputs": [
    {
     "data": {
      "text/plain": [
       "['train', 'val', 'test']"
      ]
     },
     "execution_count": 14,
     "metadata": {},
     "output_type": "execute_result"
    }
   ],
   "source": [
    "df['split'].unique().tolist()"
   ]
  },
  {
   "cell_type": "code",
   "execution_count": 15,
   "metadata": {},
   "outputs": [
    {
     "data": {
      "text/plain": [
       "8313"
      ]
     },
     "execution_count": 15,
     "metadata": {},
     "output_type": "execute_result"
    }
   ],
   "source": [
    "(df['split'] == 'train').sum()"
   ]
  },
  {
   "cell_type": "code",
   "execution_count": 16,
   "metadata": {},
   "outputs": [
    {
     "data": {
      "text/plain": [
       "1414"
      ]
     },
     "execution_count": 16,
     "metadata": {},
     "output_type": "execute_result"
    }
   ],
   "source": [
    "(df['split'] == 'test').sum()"
   ]
  },
  {
   "cell_type": "code",
   "execution_count": 17,
   "metadata": {},
   "outputs": [
    {
     "data": {
      "text/plain": [
       "2253"
      ]
     },
     "execution_count": 17,
     "metadata": {},
     "output_type": "execute_result"
    }
   ],
   "source": [
    "(df['split'] == 'val').sum()"
   ]
  },
  {
   "cell_type": "code",
   "execution_count": 18,
   "metadata": {},
   "outputs": [
    {
     "data": {
      "text/plain": [
       "1999"
      ]
     },
     "execution_count": 18,
     "metadata": {},
     "output_type": "execute_result"
    }
   ],
   "source": [
    "df['gloss'].nunique()"
   ]
  },
  {
   "cell_type": "code",
   "execution_count": 19,
   "metadata": {},
   "outputs": [],
   "source": [
    "def count_frames(video_path):\n",
    "    cap = cv2.VideoCapture(video_path)\n",
    "    frame_count = int(cap.get(cv2.CAP_PROP_FRAME_COUNT))\n",
    "    cap.release()\n",
    "\n",
    "\n",
    "    return frame_count"
   ]
  },
  {
   "cell_type": "markdown",
   "metadata": {},
   "source": [
    "### Normalizing the Landmark points\n",
    "- It is a really important step which allows use to generated similar landmark pssotion values for same gestures performed in different orientation by introducing\n",
    "    - Position Invariance\n",
    "    - Scale Invariance"
   ]
  },
  {
   "cell_type": "code",
   "execution_count": 20,
   "metadata": {},
   "outputs": [],
   "source": [
    "def normalize_landmarks(x , y, z , x_min , y_min , x_max , y_max , f_width , f_height):\n",
    "  \n",
    "  # Handle different types of landmark inputs\n",
    "  # if hasattr(landmarks, 'landmark'):\n",
    "  #       landmark_list = [lm for lm in landmarks.landmark]  # For face_landmarks\n",
    "  # else:\n",
    "  #       landmark_list = landmarks  # For hand landmarks that are already a list\n",
    " \n",
    "\n",
    "  \n",
    "\n",
    "  width = x_max - x_min\n",
    "  height = y_max - y_min\n",
    "    \n",
    "  norm_x = ((x *f_width) - x_min)/(width)\n",
    "  norm_y = ((y *f_height) - y_min)/(height)\n",
    "  norm_z = z\n",
    "\n",
    "  normalized = (norm_x , norm_y , norm_z)\n",
    "  \n",
    "  return normalized"
   ]
  },
  {
   "cell_type": "code",
   "execution_count": 21,
   "metadata": {},
   "outputs": [],
   "source": [
    "def format_frames(frame , output_size , x_min , y_min , x_max , y_max , f_width , f_height):\n",
    "  \n",
    "  n_width , n_height = output_size\n",
    "\n",
    "  # Along with resizing the frames we need to rescale the bounding box values\n",
    "\n",
    "  width_scale_factor = (n_width / f_width )\n",
    "  height_scale_factor = (n_height / f_height)\n",
    "\n",
    "  n_x_min = x_min * width_scale_factor\n",
    "  n_y_min =  y_min * height_scale_factor\n",
    "  n_x_max = x_max * width_scale_factor\n",
    "  n_y_max = y_max * height_scale_factor\n",
    "\n",
    "  # frame = tf.image.convert_image_dtype(frame , tf.float32)\n",
    "\n",
    "  frame = cv2.resize(frame , output_size)\n",
    "\n",
    "  return frame ,  n_x_min , n_y_min , n_x_max , n_y_max\n",
    "\n",
    "\n",
    "\n",
    "  "
   ]
  },
  {
   "cell_type": "code",
   "execution_count": 22,
   "metadata": {},
   "outputs": [],
   "source": [
    "# def extract_landmarks(video_id, frame_start, frame_end , label , bb_data):\n",
    "\n",
    "#     #Creating a video path \n",
    "    \n",
    "#     video_path = rf'C:\\Users\\Sahil\\Desktop\\Talkwithhands dataset\\versions\\5\\videos\\{video_id}.mp4'\n",
    "\n",
    "#     cap = cv2.VideoCapture(video_path)\n",
    "\n",
    "#     if not cap.isOpened():\n",
    "#       print(f\"The video {video_id} failed to open\")\n",
    "#       return None\n",
    "    \n",
    "#     frame_width = int(cap.get(cv2.CAP_PROP_FRAME_WIDTH))\n",
    "#     frame_height = int(cap.get(cv2.CAP_PROP_FRAME_HEIGHT))\n",
    "\n",
    "#     x_min , y_min , x_max , y_max = bb_data\n",
    "    \n",
    "#     total_frames = count_frames(video_path)\n",
    "\n",
    "#     if frame_end == -1:\n",
    "#         frame_end = total_frames - 1\n",
    "\n",
    "#     landmarks_sequence = []\n",
    "    \n",
    "#     cap.set(cv2.CAP_PROP_POS_FRAMES, frame_start)\n",
    "\n",
    "#     while cap.isOpened() and frame_start <= frame_end:\n",
    "#         current_frame = int(cap.get(cv2.CAP_PROP_POS_FRAMES))\n",
    "\n",
    "#         if current_frame > frame_end:\n",
    "#             break\n",
    "        \n",
    "#         ret, frame = cap.read()\n",
    "#         if not ret:\n",
    "#             break\n",
    "\n",
    "#         #Crop the image using bounding box \n",
    "#         cropped_frame = frame[y_min:y_max , x_min:x_max]\n",
    "\n",
    "#         image_rgb = cv2.cvtColor(cropped_frame, cv2.COLOR_BGR2RGB)\n",
    "\n",
    "#         results = holistic.process(image_rgb)\n",
    "\n",
    "#         frame_landmarks = {} #stores face and hand landmarks for a frame\n",
    "\n",
    "#         if results.face_landmarks:\n",
    "#             frame_landmarks[\"face\"] = normalize_landmarks(results.face_landmarks,x_min , y_min , x_max , y_max ,frame_width , frame_height)\n",
    "#         if results.left_hand_landmarks:\n",
    "#             frame_landmarks[\"left_hand\"] = normalize_landmarks(results.left_hand_landmarks.landmark,x_min , y_min , x_max , y_max,frame_width , frame_height)\n",
    "#         if results.right_hand_landmarks:\n",
    "#             frame_landmarks[\"right_hand\"] = normalize_landmarks(results.right_hand_landmarks,x_min , y_min , x_max , y_max,frame_width , frame_height)\n",
    "        \n",
    "        \n",
    "#         landmarks_sequence.append(frame_landmarks)\n",
    "\n",
    "#     cap.release()\n",
    "\n",
    "#     #Creating a dict element for each video \n",
    "#     video_landmark_dict_element = {\n",
    "#         'landmarks' : landmarks_sequence , \n",
    "#         'label': label\n",
    "#     }\n",
    "\n",
    "\n",
    "#     return video_landmark_dict_element"
   ]
  },
  {
   "cell_type": "code",
   "execution_count": 23,
   "metadata": {},
   "outputs": [],
   "source": [
    "def extract_landmarks(video_id, frame_start, frame_end , label , bb_data  ):\n",
    "\n",
    "    #Creating a video path \n",
    "    \n",
    "    video_path = rf'C:\\Users\\Sahil\\Desktop\\Talkwithhands dataset\\versions\\5\\videos\\{video_id}.mp4'\n",
    "\n",
    "    cap = cv2.VideoCapture(video_path)\n",
    "\n",
    "    if not cap.isOpened():\n",
    "      print(f\"The video {video_id} failed to open\")\n",
    "      return None\n",
    "    \n",
    "    frame_width = int(cap.get(cv2.CAP_PROP_FRAME_WIDTH))\n",
    "    frame_height = int(cap.get(cv2.CAP_PROP_FRAME_HEIGHT))\n",
    "\n",
    "\n",
    "    x_min , y_min , x_max , y_max = bb_data\n",
    "    \n",
    "    total_frames = count_frames(video_path)\n",
    "\n",
    "    if frame_end == -1:\n",
    "        frame_end = total_frames - 1\n",
    "\n",
    "    landmarks_sequence = []\n",
    "    \n",
    "    cap.set(cv2.CAP_PROP_POS_FRAMES, frame_start)\n",
    "      \n",
    "    sequence_length = 30 \n",
    "\n",
    "    skip_frames_window = max(int(total_frames/sequence_length) , 1)\n",
    "\n",
    "    #Iteratig through the video to extract fixed number of frames\n",
    "    for frame_counter in range(sequence_length):\n",
    "        current_frame = cap.set(cv2.CAP_PROP_POS_FRAMES , frame_counter * skip_frames_window)\n",
    "\n",
    "        if current_frame > frame_end:\n",
    "            break\n",
    "        \n",
    "        ret, frame = cap.read()\n",
    "        if not ret:\n",
    "            break\n",
    "\n",
    "        #Resizing and scaling bouding box\n",
    "\n",
    "        frame , n_x_min , n_y_min , n_x_max , n_y_max = format_frames(frame , output_size=(224 , 224) , x_min=x_min ,y_min= y_min ,x_max= x_max , y_max=y_max ,f_width= frame_width ,f_height= frame_height)\n",
    "\n",
    "        #Crop the image using bounding box \n",
    "        cropped_frame = frame[int(n_y_min):int(n_y_max) ,int(n_x_min):int(n_x_max)]\n",
    "\n",
    "        image_rgb = cv2.cvtColor(cropped_frame, cv2.COLOR_BGR2RGB)\n",
    "\n",
    "        results = holistic.process(image_rgb)\n",
    "\n",
    "        frame_landmarks = {} #stores face and hand landmarks for a frame\n",
    "\n",
    "        if results.face_landmarks:\n",
    "            frame_landmarks[\"face\"] = [normalize_landmarks(lm.x, lm.y, lm.z , n_x_min , n_y_min , n_x_max , n_y_max , f_width= 224, f_height=224) for lm in results.face_landmarks.landmark]\n",
    "        \n",
    "        else: \n",
    "            frame_landmarks['face'] = [( 0 , 0 , 0) for _ in range(468)]\n",
    "\n",
    "        if results.left_hand_landmarks:\n",
    "            frame_landmarks[\"left_hand\"] = [normalize_landmarks(lm.x, lm.y, lm.z , n_x_min , n_y_min , n_x_max , n_y_max , f_width=224 , f_height=224) for lm in results.left_hand_landmarks.landmark]\n",
    "\n",
    "        else:\n",
    "            frame_landmarks['left_hand'] = [( 0 , 0 , 0) for _ in range(21)]\n",
    "\n",
    "        if results.right_hand_landmarks:\n",
    "            frame_landmarks[\"right_hand\"] = [normalize_landmarks(lm.x, lm.y, lm.z , n_x_min , n_y_min , n_x_max , y_max , f_width=224 , f_height=224) for lm in results.right_hand_landmarks.landmark]\n",
    "        \n",
    "        else:\n",
    "            frame_landmarks['right_hand'] = [( 0 , 0 , 0) for _ in range(21)]\n",
    "        \n",
    "        landmarks_sequence.append(frame_landmarks)\n",
    "    \n",
    "    while len(landmarks_sequence) < sequence_length:\n",
    "\n",
    "        zero_landmarks = { \n",
    "            'face' : [(0 , 0 , 0) for _ in range(468)],\n",
    "            'left_hand' : [(0 , 0 , 0) for _ in range(21)],\n",
    "            'right_hand' : [(0 , 0 , 0) for _ in range(21) ]\n",
    "        \n",
    "        }\n",
    "\n",
    "        landmarks_sequence.append(zero_landmarks)\n",
    "\n",
    "    cap.release()\n",
    "\n",
    "    #Creating a dict element for each video \n",
    "    video_landmark_dict_element = {\n",
    "        'landmarks' : landmarks_sequence , \n",
    "        'label': label\n",
    "    }\n",
    "\n",
    "\n",
    "    return video_landmark_dict_element"
   ]
  },
  {
   "cell_type": "code",
   "execution_count": 24,
   "metadata": {},
   "outputs": [],
   "source": [
    "batch_df = df[:1000]"
   ]
  },
  {
   "cell_type": "code",
   "execution_count": 25,
   "metadata": {},
   "outputs": [
    {
     "data": {
      "text/html": [
       "<div>\n",
       "<style scoped>\n",
       "    .dataframe tbody tr th:only-of-type {\n",
       "        vertical-align: middle;\n",
       "    }\n",
       "\n",
       "    .dataframe tbody tr th {\n",
       "        vertical-align: top;\n",
       "    }\n",
       "\n",
       "    .dataframe thead th {\n",
       "        text-align: right;\n",
       "    }\n",
       "</style>\n",
       "<table border=\"1\" class=\"dataframe\">\n",
       "  <thead>\n",
       "    <tr style=\"text-align: right;\">\n",
       "      <th></th>\n",
       "      <th>gloss</th>\n",
       "      <th>bbox</th>\n",
       "      <th>fps</th>\n",
       "      <th>frame_end</th>\n",
       "      <th>frame_start</th>\n",
       "      <th>instance_id</th>\n",
       "      <th>signer_id</th>\n",
       "      <th>split</th>\n",
       "      <th>variation_id</th>\n",
       "      <th>video_id</th>\n",
       "      <th>is_available</th>\n",
       "    </tr>\n",
       "  </thead>\n",
       "  <tbody>\n",
       "    <tr>\n",
       "      <th>0</th>\n",
       "      <td>book</td>\n",
       "      <td>[385, 37, 885, 720]</td>\n",
       "      <td>25</td>\n",
       "      <td>-1</td>\n",
       "      <td>1</td>\n",
       "      <td>0</td>\n",
       "      <td>118</td>\n",
       "      <td>train</td>\n",
       "      <td>0</td>\n",
       "      <td>69241</td>\n",
       "      <td>True</td>\n",
       "    </tr>\n",
       "    <tr>\n",
       "      <th>1</th>\n",
       "      <td>book</td>\n",
       "      <td>[462, 44, 949, 720]</td>\n",
       "      <td>25</td>\n",
       "      <td>-1</td>\n",
       "      <td>1</td>\n",
       "      <td>10</td>\n",
       "      <td>31</td>\n",
       "      <td>train</td>\n",
       "      <td>0</td>\n",
       "      <td>07069</td>\n",
       "      <td>True</td>\n",
       "    </tr>\n",
       "    <tr>\n",
       "      <th>2</th>\n",
       "      <td>book</td>\n",
       "      <td>[234, 17, 524, 414]</td>\n",
       "      <td>25</td>\n",
       "      <td>-1</td>\n",
       "      <td>1</td>\n",
       "      <td>17</td>\n",
       "      <td>36</td>\n",
       "      <td>train</td>\n",
       "      <td>0</td>\n",
       "      <td>07068</td>\n",
       "      <td>True</td>\n",
       "    </tr>\n",
       "    <tr>\n",
       "      <th>3</th>\n",
       "      <td>book</td>\n",
       "      <td>[131, 26, 526, 480]</td>\n",
       "      <td>25</td>\n",
       "      <td>-1</td>\n",
       "      <td>1</td>\n",
       "      <td>22</td>\n",
       "      <td>59</td>\n",
       "      <td>train</td>\n",
       "      <td>0</td>\n",
       "      <td>07070</td>\n",
       "      <td>True</td>\n",
       "    </tr>\n",
       "    <tr>\n",
       "      <th>4</th>\n",
       "      <td>book</td>\n",
       "      <td>[162, 54, 528, 400]</td>\n",
       "      <td>25</td>\n",
       "      <td>-1</td>\n",
       "      <td>1</td>\n",
       "      <td>24</td>\n",
       "      <td>12</td>\n",
       "      <td>val</td>\n",
       "      <td>0</td>\n",
       "      <td>07099</td>\n",
       "      <td>True</td>\n",
       "    </tr>\n",
       "    <tr>\n",
       "      <th>...</th>\n",
       "      <td>...</td>\n",
       "      <td>...</td>\n",
       "      <td>...</td>\n",
       "      <td>...</td>\n",
       "      <td>...</td>\n",
       "      <td>...</td>\n",
       "      <td>...</td>\n",
       "      <td>...</td>\n",
       "      <td>...</td>\n",
       "      <td>...</td>\n",
       "      <td>...</td>\n",
       "    </tr>\n",
       "    <tr>\n",
       "      <th>995</th>\n",
       "      <td>tell</td>\n",
       "      <td>[80, 14, 228, 192]</td>\n",
       "      <td>25</td>\n",
       "      <td>-1</td>\n",
       "      <td>1</td>\n",
       "      <td>7</td>\n",
       "      <td>11</td>\n",
       "      <td>train</td>\n",
       "      <td>0</td>\n",
       "      <td>57284</td>\n",
       "      <td>True</td>\n",
       "    </tr>\n",
       "    <tr>\n",
       "      <th>996</th>\n",
       "      <td>tell</td>\n",
       "      <td>[69, 11, 209, 192]</td>\n",
       "      <td>25</td>\n",
       "      <td>-1</td>\n",
       "      <td>1</td>\n",
       "      <td>8</td>\n",
       "      <td>11</td>\n",
       "      <td>val</td>\n",
       "      <td>0</td>\n",
       "      <td>57285</td>\n",
       "      <td>True</td>\n",
       "    </tr>\n",
       "    <tr>\n",
       "      <th>997</th>\n",
       "      <td>tell</td>\n",
       "      <td>[62, 6, 245, 240]</td>\n",
       "      <td>25</td>\n",
       "      <td>-1</td>\n",
       "      <td>1</td>\n",
       "      <td>9</td>\n",
       "      <td>0</td>\n",
       "      <td>train</td>\n",
       "      <td>0</td>\n",
       "      <td>57276</td>\n",
       "      <td>True</td>\n",
       "    </tr>\n",
       "    <tr>\n",
       "      <th>998</th>\n",
       "      <td>tell</td>\n",
       "      <td>[73, 13, 209, 192]</td>\n",
       "      <td>25</td>\n",
       "      <td>-1</td>\n",
       "      <td>1</td>\n",
       "      <td>11</td>\n",
       "      <td>11</td>\n",
       "      <td>train</td>\n",
       "      <td>0</td>\n",
       "      <td>57286</td>\n",
       "      <td>True</td>\n",
       "    </tr>\n",
       "    <tr>\n",
       "      <th>999</th>\n",
       "      <td>tell</td>\n",
       "      <td>[76, 11, 211, 192]</td>\n",
       "      <td>25</td>\n",
       "      <td>-1</td>\n",
       "      <td>1</td>\n",
       "      <td>12</td>\n",
       "      <td>11</td>\n",
       "      <td>train</td>\n",
       "      <td>0</td>\n",
       "      <td>57287</td>\n",
       "      <td>True</td>\n",
       "    </tr>\n",
       "  </tbody>\n",
       "</table>\n",
       "<p>1000 rows × 11 columns</p>\n",
       "</div>"
      ],
      "text/plain": [
       "    gloss                 bbox  fps  frame_end  frame_start  instance_id  \\\n",
       "0    book  [385, 37, 885, 720]   25         -1            1            0   \n",
       "1    book  [462, 44, 949, 720]   25         -1            1           10   \n",
       "2    book  [234, 17, 524, 414]   25         -1            1           17   \n",
       "3    book  [131, 26, 526, 480]   25         -1            1           22   \n",
       "4    book  [162, 54, 528, 400]   25         -1            1           24   \n",
       "..    ...                  ...  ...        ...          ...          ...   \n",
       "995  tell   [80, 14, 228, 192]   25         -1            1            7   \n",
       "996  tell   [69, 11, 209, 192]   25         -1            1            8   \n",
       "997  tell    [62, 6, 245, 240]   25         -1            1            9   \n",
       "998  tell   [73, 13, 209, 192]   25         -1            1           11   \n",
       "999  tell   [76, 11, 211, 192]   25         -1            1           12   \n",
       "\n",
       "     signer_id  split  variation_id video_id  is_available  \n",
       "0          118  train             0    69241          True  \n",
       "1           31  train             0    07069          True  \n",
       "2           36  train             0    07068          True  \n",
       "3           59  train             0    07070          True  \n",
       "4           12    val             0    07099          True  \n",
       "..         ...    ...           ...      ...           ...  \n",
       "995         11  train             0    57284          True  \n",
       "996         11    val             0    57285          True  \n",
       "997          0  train             0    57276          True  \n",
       "998         11  train             0    57286          True  \n",
       "999         11  train             0    57287          True  \n",
       "\n",
       "[1000 rows x 11 columns]"
      ]
     },
     "execution_count": 25,
     "metadata": {},
     "output_type": "execute_result"
    }
   ],
   "source": [
    "batch_df"
   ]
  },
  {
   "cell_type": "code",
   "execution_count": 26,
   "metadata": {},
   "outputs": [
    {
     "name": "stderr",
     "output_type": "stream",
     "text": [
      "  0%|          | 0/1000 [00:00<?, ?it/s]c:\\Users\\Sahil\\AppData\\Local\\Programs\\Python\\Python312\\Lib\\site-packages\\google\\protobuf\\symbol_database.py:55: UserWarning: SymbolDatabase.GetPrototype() is deprecated. Please use message_factory.GetMessageClass() instead. SymbolDatabase.GetPrototype() will be removed soon.\n",
      "  warnings.warn('SymbolDatabase.GetPrototype() is deprecated. Please '\n",
      "100%|██████████| 1000/1000 [1:07:26<00:00,  4.05s/it]\n"
     ]
    },
    {
     "data": {
      "text/plain": [
       "0      None\n",
       "1      None\n",
       "2      None\n",
       "3      None\n",
       "4      None\n",
       "       ... \n",
       "995    None\n",
       "996    None\n",
       "997    None\n",
       "998    None\n",
       "999    None\n",
       "Length: 1000, dtype: object"
      ]
     },
     "execution_count": 26,
     "metadata": {},
     "output_type": "execute_result"
    }
   ],
   "source": [
    "#Defining an empty list to store data of each video as a dict element\n",
    "video_data = []\n",
    "\n",
    "# Applying the pre-processing function to every record\n",
    "\n",
    "batch_df.progress_apply(lambda record : video_data.append(\n",
    " extract_landmarks(\n",
    "  video_id= record['video_id'],\n",
    "  frame_start= record['frame_start'],\n",
    "  frame_end= record['frame_end'],\n",
    "  label= record['gloss'],\n",
    "  bb_data = record['bbox']\n",
    " )\n",
    ") , axis = 1)\n"
   ]
  },
  {
   "cell_type": "code",
   "execution_count": 27,
   "metadata": {},
   "outputs": [
    {
     "data": {
      "text/plain": [
       "list"
      ]
     },
     "execution_count": 27,
     "metadata": {},
     "output_type": "execute_result"
    }
   ],
   "source": [
    "type(video_data)"
   ]
  },
  {
   "cell_type": "code",
   "execution_count": 28,
   "metadata": {},
   "outputs": [
    {
     "data": {
      "text/plain": [
       "1000"
      ]
     },
     "execution_count": 28,
     "metadata": {},
     "output_type": "execute_result"
    }
   ],
   "source": [
    "len(video_data)"
   ]
  },
  {
   "cell_type": "code",
   "execution_count": 29,
   "metadata": {},
   "outputs": [
    {
     "data": {
      "text/plain": [
       "dict"
      ]
     },
     "execution_count": 29,
     "metadata": {},
     "output_type": "execute_result"
    }
   ],
   "source": [
    "type(video_data[0])"
   ]
  },
  {
   "cell_type": "code",
   "execution_count": 30,
   "metadata": {},
   "outputs": [],
   "source": [
    "preprocessed_batch_df = pd.DataFrame(video_data)"
   ]
  },
  {
   "cell_type": "code",
   "execution_count": 31,
   "metadata": {},
   "outputs": [
    {
     "data": {
      "text/html": [
       "<div>\n",
       "<style scoped>\n",
       "    .dataframe tbody tr th:only-of-type {\n",
       "        vertical-align: middle;\n",
       "    }\n",
       "\n",
       "    .dataframe tbody tr th {\n",
       "        vertical-align: top;\n",
       "    }\n",
       "\n",
       "    .dataframe thead th {\n",
       "        text-align: right;\n",
       "    }\n",
       "</style>\n",
       "<table border=\"1\" class=\"dataframe\">\n",
       "  <thead>\n",
       "    <tr style=\"text-align: right;\">\n",
       "      <th></th>\n",
       "      <th>landmarks</th>\n",
       "      <th>label</th>\n",
       "    </tr>\n",
       "  </thead>\n",
       "  <tbody>\n",
       "    <tr>\n",
       "      <th>0</th>\n",
       "      <td>[{'face': [(0.528167724609375, 0.2578373367231...</td>\n",
       "      <td>book</td>\n",
       "    </tr>\n",
       "    <tr>\n",
       "      <th>1</th>\n",
       "      <td>[{'face': [(0.242395827902416, 0.2020864317403...</td>\n",
       "      <td>book</td>\n",
       "    </tr>\n",
       "    <tr>\n",
       "      <th>2</th>\n",
       "      <td>[{'face': [(0.4664744738874764, 0.219961448490...</td>\n",
       "      <td>book</td>\n",
       "    </tr>\n",
       "    <tr>\n",
       "      <th>3</th>\n",
       "      <td>[{'face': [(0.479362738886966, 0.2433891842543...</td>\n",
       "      <td>book</td>\n",
       "    </tr>\n",
       "    <tr>\n",
       "      <th>4</th>\n",
       "      <td>[{'face': [(0.492517174267378, 0.0870498852922...</td>\n",
       "      <td>book</td>\n",
       "    </tr>\n",
       "    <tr>\n",
       "      <th>...</th>\n",
       "      <td>...</td>\n",
       "      <td>...</td>\n",
       "    </tr>\n",
       "    <tr>\n",
       "      <th>995</th>\n",
       "      <td>[{'face': [(0.41673927693753626, 0.20555076170...</td>\n",
       "      <td>tell</td>\n",
       "    </tr>\n",
       "    <tr>\n",
       "      <th>996</th>\n",
       "      <td>[{'face': [(0.5213522366115024, 0.215353012084...</td>\n",
       "      <td>tell</td>\n",
       "    </tr>\n",
       "    <tr>\n",
       "      <th>997</th>\n",
       "      <td>[{'face': [(0.609763869822351, 0.2657764752705...</td>\n",
       "      <td>tell</td>\n",
       "    </tr>\n",
       "    <tr>\n",
       "      <th>998</th>\n",
       "      <td>[{'face': [(0.45382191153133605, 0.19372511709...</td>\n",
       "      <td>tell</td>\n",
       "    </tr>\n",
       "    <tr>\n",
       "      <th>999</th>\n",
       "      <td>[{'face': [(0.4191049717090748, 0.197755966397...</td>\n",
       "      <td>tell</td>\n",
       "    </tr>\n",
       "  </tbody>\n",
       "</table>\n",
       "<p>1000 rows × 2 columns</p>\n",
       "</div>"
      ],
      "text/plain": [
       "                                             landmarks label\n",
       "0    [{'face': [(0.528167724609375, 0.2578373367231...  book\n",
       "1    [{'face': [(0.242395827902416, 0.2020864317403...  book\n",
       "2    [{'face': [(0.4664744738874764, 0.219961448490...  book\n",
       "3    [{'face': [(0.479362738886966, 0.2433891842543...  book\n",
       "4    [{'face': [(0.492517174267378, 0.0870498852922...  book\n",
       "..                                                 ...   ...\n",
       "995  [{'face': [(0.41673927693753626, 0.20555076170...  tell\n",
       "996  [{'face': [(0.5213522366115024, 0.215353012084...  tell\n",
       "997  [{'face': [(0.609763869822351, 0.2657764752705...  tell\n",
       "998  [{'face': [(0.45382191153133605, 0.19372511709...  tell\n",
       "999  [{'face': [(0.4191049717090748, 0.197755966397...  tell\n",
       "\n",
       "[1000 rows x 2 columns]"
      ]
     },
     "execution_count": 31,
     "metadata": {},
     "output_type": "execute_result"
    }
   ],
   "source": [
    "preprocessed_batch_df"
   ]
  },
  {
   "cell_type": "code",
   "execution_count": 32,
   "metadata": {},
   "outputs": [],
   "source": [
    "preprocessed_data_dict = preprocessed_batch_df.to_dict(\"records\")"
   ]
  },
  {
   "cell_type": "markdown",
   "metadata": {},
   "source": [
    "Writing the preprocessed batch data to mongoDB\n"
   ]
  },
  {
   "cell_type": "code",
   "execution_count": 33,
   "metadata": {},
   "outputs": [],
   "source": [
    "# Establishing connection\n",
    "\n",
    "connection = MongoClient('localhost' , 27017)\n",
    "db = connection['mydb']\n",
    "collection = db['1000_Batch_Data']"
   ]
  },
  {
   "cell_type": "code",
   "execution_count": 34,
   "metadata": {},
   "outputs": [
    {
     "data": {
      "text/plain": [
       "InsertManyResult([ObjectId('672af22fe02a1652aab644af'), ObjectId('672af22fe02a1652aab644b0'), ObjectId('672af22fe02a1652aab644b1'), ObjectId('672af22fe02a1652aab644b2'), ObjectId('672af22fe02a1652aab644b3'), ObjectId('672af22fe02a1652aab644b4'), ObjectId('672af22fe02a1652aab644b5'), ObjectId('672af22fe02a1652aab644b6'), ObjectId('672af22fe02a1652aab644b7'), ObjectId('672af22fe02a1652aab644b8'), ObjectId('672af22fe02a1652aab644b9'), ObjectId('672af22fe02a1652aab644ba'), ObjectId('672af22fe02a1652aab644bb'), ObjectId('672af22fe02a1652aab644bc'), ObjectId('672af22fe02a1652aab644bd'), ObjectId('672af22fe02a1652aab644be'), ObjectId('672af22fe02a1652aab644bf'), ObjectId('672af22fe02a1652aab644c0'), ObjectId('672af22fe02a1652aab644c1'), ObjectId('672af22fe02a1652aab644c2'), ObjectId('672af22fe02a1652aab644c3'), ObjectId('672af22fe02a1652aab644c4'), ObjectId('672af22fe02a1652aab644c5'), ObjectId('672af22fe02a1652aab644c6'), ObjectId('672af22fe02a1652aab644c7'), ObjectId('672af22fe02a1652aab644c8'), ObjectId('672af22fe02a1652aab644c9'), ObjectId('672af22fe02a1652aab644ca'), ObjectId('672af22fe02a1652aab644cb'), ObjectId('672af22fe02a1652aab644cc'), ObjectId('672af22fe02a1652aab644cd'), ObjectId('672af22fe02a1652aab644ce'), ObjectId('672af22fe02a1652aab644cf'), ObjectId('672af22fe02a1652aab644d0'), ObjectId('672af22fe02a1652aab644d1'), ObjectId('672af22fe02a1652aab644d2'), ObjectId('672af22fe02a1652aab644d3'), ObjectId('672af22fe02a1652aab644d4'), ObjectId('672af22fe02a1652aab644d5'), ObjectId('672af22fe02a1652aab644d6'), ObjectId('672af22fe02a1652aab644d7'), ObjectId('672af22fe02a1652aab644d8'), ObjectId('672af22fe02a1652aab644d9'), ObjectId('672af22fe02a1652aab644da'), ObjectId('672af22fe02a1652aab644db'), ObjectId('672af22fe02a1652aab644dc'), ObjectId('672af22fe02a1652aab644dd'), ObjectId('672af22fe02a1652aab644de'), ObjectId('672af22fe02a1652aab644df'), ObjectId('672af22fe02a1652aab644e0'), ObjectId('672af22fe02a1652aab644e1'), ObjectId('672af22fe02a1652aab644e2'), ObjectId('672af22fe02a1652aab644e3'), ObjectId('672af22fe02a1652aab644e4'), ObjectId('672af22fe02a1652aab644e5'), ObjectId('672af22fe02a1652aab644e6'), ObjectId('672af22fe02a1652aab644e7'), ObjectId('672af22fe02a1652aab644e8'), ObjectId('672af22fe02a1652aab644e9'), ObjectId('672af22fe02a1652aab644ea'), ObjectId('672af22fe02a1652aab644eb'), ObjectId('672af22fe02a1652aab644ec'), ObjectId('672af22fe02a1652aab644ed'), ObjectId('672af22fe02a1652aab644ee'), ObjectId('672af22fe02a1652aab644ef'), ObjectId('672af22fe02a1652aab644f0'), ObjectId('672af22fe02a1652aab644f1'), ObjectId('672af22fe02a1652aab644f2'), ObjectId('672af22fe02a1652aab644f3'), ObjectId('672af22fe02a1652aab644f4'), ObjectId('672af22fe02a1652aab644f5'), ObjectId('672af22fe02a1652aab644f6'), ObjectId('672af22fe02a1652aab644f7'), ObjectId('672af22fe02a1652aab644f8'), ObjectId('672af22fe02a1652aab644f9'), ObjectId('672af22fe02a1652aab644fa'), ObjectId('672af22fe02a1652aab644fb'), ObjectId('672af22fe02a1652aab644fc'), ObjectId('672af22fe02a1652aab644fd'), ObjectId('672af22fe02a1652aab644fe'), ObjectId('672af22fe02a1652aab644ff'), ObjectId('672af22fe02a1652aab64500'), ObjectId('672af22fe02a1652aab64501'), ObjectId('672af22fe02a1652aab64502'), ObjectId('672af22fe02a1652aab64503'), ObjectId('672af22fe02a1652aab64504'), ObjectId('672af22fe02a1652aab64505'), ObjectId('672af22fe02a1652aab64506'), ObjectId('672af22fe02a1652aab64507'), ObjectId('672af22fe02a1652aab64508'), ObjectId('672af22fe02a1652aab64509'), ObjectId('672af22fe02a1652aab6450a'), ObjectId('672af22fe02a1652aab6450b'), ObjectId('672af22fe02a1652aab6450c'), ObjectId('672af22fe02a1652aab6450d'), ObjectId('672af22fe02a1652aab6450e'), ObjectId('672af22fe02a1652aab6450f'), ObjectId('672af22fe02a1652aab64510'), ObjectId('672af22fe02a1652aab64511'), ObjectId('672af22fe02a1652aab64512'), ObjectId('672af22fe02a1652aab64513'), ObjectId('672af22fe02a1652aab64514'), ObjectId('672af22fe02a1652aab64515'), ObjectId('672af22fe02a1652aab64516'), ObjectId('672af22fe02a1652aab64517'), ObjectId('672af22fe02a1652aab64518'), ObjectId('672af22fe02a1652aab64519'), ObjectId('672af22fe02a1652aab6451a'), ObjectId('672af22fe02a1652aab6451b'), ObjectId('672af22fe02a1652aab6451c'), ObjectId('672af22fe02a1652aab6451d'), ObjectId('672af22fe02a1652aab6451e'), ObjectId('672af22fe02a1652aab6451f'), ObjectId('672af22fe02a1652aab64520'), ObjectId('672af22fe02a1652aab64521'), ObjectId('672af22fe02a1652aab64522'), ObjectId('672af22fe02a1652aab64523'), ObjectId('672af22fe02a1652aab64524'), ObjectId('672af22fe02a1652aab64525'), ObjectId('672af22fe02a1652aab64526'), ObjectId('672af22fe02a1652aab64527'), ObjectId('672af22fe02a1652aab64528'), ObjectId('672af22fe02a1652aab64529'), ObjectId('672af22fe02a1652aab6452a'), ObjectId('672af22fe02a1652aab6452b'), ObjectId('672af22fe02a1652aab6452c'), ObjectId('672af22fe02a1652aab6452d'), ObjectId('672af22fe02a1652aab6452e'), ObjectId('672af22fe02a1652aab6452f'), ObjectId('672af22fe02a1652aab64530'), ObjectId('672af22fe02a1652aab64531'), ObjectId('672af22fe02a1652aab64532'), ObjectId('672af22fe02a1652aab64533'), ObjectId('672af22fe02a1652aab64534'), ObjectId('672af22fe02a1652aab64535'), ObjectId('672af22fe02a1652aab64536'), ObjectId('672af22fe02a1652aab64537'), ObjectId('672af22fe02a1652aab64538'), ObjectId('672af22fe02a1652aab64539'), ObjectId('672af22fe02a1652aab6453a'), ObjectId('672af22fe02a1652aab6453b'), ObjectId('672af22fe02a1652aab6453c'), ObjectId('672af22fe02a1652aab6453d'), ObjectId('672af22fe02a1652aab6453e'), ObjectId('672af22fe02a1652aab6453f'), ObjectId('672af22fe02a1652aab64540'), ObjectId('672af22fe02a1652aab64541'), ObjectId('672af22fe02a1652aab64542'), ObjectId('672af22fe02a1652aab64543'), ObjectId('672af22fe02a1652aab64544'), ObjectId('672af22fe02a1652aab64545'), ObjectId('672af22fe02a1652aab64546'), ObjectId('672af22fe02a1652aab64547'), ObjectId('672af22fe02a1652aab64548'), ObjectId('672af22fe02a1652aab64549'), ObjectId('672af22fe02a1652aab6454a'), ObjectId('672af22fe02a1652aab6454b'), ObjectId('672af22fe02a1652aab6454c'), ObjectId('672af22fe02a1652aab6454d'), ObjectId('672af22fe02a1652aab6454e'), ObjectId('672af22fe02a1652aab6454f'), ObjectId('672af22fe02a1652aab64550'), ObjectId('672af22fe02a1652aab64551'), ObjectId('672af22fe02a1652aab64552'), ObjectId('672af22fe02a1652aab64553'), ObjectId('672af22fe02a1652aab64554'), ObjectId('672af22fe02a1652aab64555'), ObjectId('672af22fe02a1652aab64556'), ObjectId('672af22fe02a1652aab64557'), ObjectId('672af22fe02a1652aab64558'), ObjectId('672af22fe02a1652aab64559'), ObjectId('672af22fe02a1652aab6455a'), ObjectId('672af22fe02a1652aab6455b'), ObjectId('672af22fe02a1652aab6455c'), ObjectId('672af22fe02a1652aab6455d'), ObjectId('672af22fe02a1652aab6455e'), ObjectId('672af22fe02a1652aab6455f'), ObjectId('672af22fe02a1652aab64560'), ObjectId('672af22fe02a1652aab64561'), ObjectId('672af22fe02a1652aab64562'), ObjectId('672af22fe02a1652aab64563'), ObjectId('672af22fe02a1652aab64564'), ObjectId('672af22fe02a1652aab64565'), ObjectId('672af22fe02a1652aab64566'), ObjectId('672af22fe02a1652aab64567'), ObjectId('672af22fe02a1652aab64568'), ObjectId('672af22fe02a1652aab64569'), ObjectId('672af22fe02a1652aab6456a'), ObjectId('672af22fe02a1652aab6456b'), ObjectId('672af22fe02a1652aab6456c'), ObjectId('672af22fe02a1652aab6456d'), ObjectId('672af22fe02a1652aab6456e'), ObjectId('672af22fe02a1652aab6456f'), ObjectId('672af22fe02a1652aab64570'), ObjectId('672af22fe02a1652aab64571'), ObjectId('672af22fe02a1652aab64572'), ObjectId('672af22fe02a1652aab64573'), ObjectId('672af22fe02a1652aab64574'), ObjectId('672af22fe02a1652aab64575'), ObjectId('672af22fe02a1652aab64576'), ObjectId('672af22fe02a1652aab64577'), ObjectId('672af22fe02a1652aab64578'), ObjectId('672af22fe02a1652aab64579'), ObjectId('672af22fe02a1652aab6457a'), ObjectId('672af22fe02a1652aab6457b'), ObjectId('672af22fe02a1652aab6457c'), ObjectId('672af22fe02a1652aab6457d'), ObjectId('672af22fe02a1652aab6457e'), ObjectId('672af22fe02a1652aab6457f'), ObjectId('672af22fe02a1652aab64580'), ObjectId('672af22fe02a1652aab64581'), ObjectId('672af22fe02a1652aab64582'), ObjectId('672af22fe02a1652aab64583'), ObjectId('672af22fe02a1652aab64584'), ObjectId('672af22fe02a1652aab64585'), ObjectId('672af22fe02a1652aab64586'), ObjectId('672af22fe02a1652aab64587'), ObjectId('672af22fe02a1652aab64588'), ObjectId('672af22fe02a1652aab64589'), ObjectId('672af22fe02a1652aab6458a'), ObjectId('672af22fe02a1652aab6458b'), ObjectId('672af22fe02a1652aab6458c'), ObjectId('672af22fe02a1652aab6458d'), ObjectId('672af22fe02a1652aab6458e'), ObjectId('672af22fe02a1652aab6458f'), ObjectId('672af22fe02a1652aab64590'), ObjectId('672af22fe02a1652aab64591'), ObjectId('672af22fe02a1652aab64592'), ObjectId('672af22fe02a1652aab64593'), ObjectId('672af22fe02a1652aab64594'), ObjectId('672af22fe02a1652aab64595'), ObjectId('672af22fe02a1652aab64596'), ObjectId('672af22fe02a1652aab64597'), ObjectId('672af22fe02a1652aab64598'), ObjectId('672af22fe02a1652aab64599'), ObjectId('672af22fe02a1652aab6459a'), ObjectId('672af22fe02a1652aab6459b'), ObjectId('672af22fe02a1652aab6459c'), ObjectId('672af22fe02a1652aab6459d'), ObjectId('672af22fe02a1652aab6459e'), ObjectId('672af22fe02a1652aab6459f'), ObjectId('672af22fe02a1652aab645a0'), ObjectId('672af22fe02a1652aab645a1'), ObjectId('672af22fe02a1652aab645a2'), ObjectId('672af22fe02a1652aab645a3'), ObjectId('672af22fe02a1652aab645a4'), ObjectId('672af22fe02a1652aab645a5'), ObjectId('672af22fe02a1652aab645a6'), ObjectId('672af22fe02a1652aab645a7'), ObjectId('672af22fe02a1652aab645a8'), ObjectId('672af22fe02a1652aab645a9'), ObjectId('672af22fe02a1652aab645aa'), ObjectId('672af22fe02a1652aab645ab'), ObjectId('672af22fe02a1652aab645ac'), ObjectId('672af22fe02a1652aab645ad'), ObjectId('672af22fe02a1652aab645ae'), ObjectId('672af22fe02a1652aab645af'), ObjectId('672af22fe02a1652aab645b0'), ObjectId('672af22fe02a1652aab645b1'), ObjectId('672af22fe02a1652aab645b2'), ObjectId('672af22fe02a1652aab645b3'), ObjectId('672af22fe02a1652aab645b4'), ObjectId('672af22fe02a1652aab645b5'), ObjectId('672af22fe02a1652aab645b6'), ObjectId('672af22fe02a1652aab645b7'), ObjectId('672af22fe02a1652aab645b8'), ObjectId('672af22fe02a1652aab645b9'), ObjectId('672af22fe02a1652aab645ba'), ObjectId('672af22fe02a1652aab645bb'), ObjectId('672af22fe02a1652aab645bc'), ObjectId('672af22fe02a1652aab645bd'), ObjectId('672af22fe02a1652aab645be'), ObjectId('672af22fe02a1652aab645bf'), ObjectId('672af22fe02a1652aab645c0'), ObjectId('672af22fe02a1652aab645c1'), ObjectId('672af22fe02a1652aab645c2'), ObjectId('672af22fe02a1652aab645c3'), ObjectId('672af22fe02a1652aab645c4'), ObjectId('672af22fe02a1652aab645c5'), ObjectId('672af22fe02a1652aab645c6'), ObjectId('672af22fe02a1652aab645c7'), ObjectId('672af22fe02a1652aab645c8'), ObjectId('672af22fe02a1652aab645c9'), ObjectId('672af22fe02a1652aab645ca'), ObjectId('672af22fe02a1652aab645cb'), ObjectId('672af22fe02a1652aab645cc'), ObjectId('672af22fe02a1652aab645cd'), ObjectId('672af22fe02a1652aab645ce'), ObjectId('672af22fe02a1652aab645cf'), ObjectId('672af22fe02a1652aab645d0'), ObjectId('672af22fe02a1652aab645d1'), ObjectId('672af22fe02a1652aab645d2'), ObjectId('672af22fe02a1652aab645d3'), ObjectId('672af22fe02a1652aab645d4'), ObjectId('672af22fe02a1652aab645d5'), ObjectId('672af22fe02a1652aab645d6'), ObjectId('672af22fe02a1652aab645d7'), ObjectId('672af22fe02a1652aab645d8'), ObjectId('672af22fe02a1652aab645d9'), ObjectId('672af22fe02a1652aab645da'), ObjectId('672af22fe02a1652aab645db'), ObjectId('672af22fe02a1652aab645dc'), ObjectId('672af22fe02a1652aab645dd'), ObjectId('672af22fe02a1652aab645de'), ObjectId('672af22fe02a1652aab645df'), ObjectId('672af22fe02a1652aab645e0'), ObjectId('672af22fe02a1652aab645e1'), ObjectId('672af22fe02a1652aab645e2'), ObjectId('672af22fe02a1652aab645e3'), ObjectId('672af22fe02a1652aab645e4'), ObjectId('672af22fe02a1652aab645e5'), ObjectId('672af22fe02a1652aab645e6'), ObjectId('672af22fe02a1652aab645e7'), ObjectId('672af22fe02a1652aab645e8'), ObjectId('672af22fe02a1652aab645e9'), ObjectId('672af22fe02a1652aab645ea'), ObjectId('672af22fe02a1652aab645eb'), ObjectId('672af22fe02a1652aab645ec'), ObjectId('672af22fe02a1652aab645ed'), ObjectId('672af22fe02a1652aab645ee'), ObjectId('672af22fe02a1652aab645ef'), ObjectId('672af22fe02a1652aab645f0'), ObjectId('672af22fe02a1652aab645f1'), ObjectId('672af22fe02a1652aab645f2'), ObjectId('672af22fe02a1652aab645f3'), ObjectId('672af22fe02a1652aab645f4'), ObjectId('672af22fe02a1652aab645f5'), ObjectId('672af22fe02a1652aab645f6'), ObjectId('672af22fe02a1652aab645f7'), ObjectId('672af22fe02a1652aab645f8'), ObjectId('672af22fe02a1652aab645f9'), ObjectId('672af22fe02a1652aab645fa'), ObjectId('672af22fe02a1652aab645fb'), ObjectId('672af22fe02a1652aab645fc'), ObjectId('672af22fe02a1652aab645fd'), ObjectId('672af22fe02a1652aab645fe'), ObjectId('672af22fe02a1652aab645ff'), ObjectId('672af22fe02a1652aab64600'), ObjectId('672af22fe02a1652aab64601'), ObjectId('672af22fe02a1652aab64602'), ObjectId('672af22fe02a1652aab64603'), ObjectId('672af22fe02a1652aab64604'), ObjectId('672af22fe02a1652aab64605'), ObjectId('672af22fe02a1652aab64606'), ObjectId('672af22fe02a1652aab64607'), ObjectId('672af22fe02a1652aab64608'), ObjectId('672af22fe02a1652aab64609'), ObjectId('672af22fe02a1652aab6460a'), ObjectId('672af22fe02a1652aab6460b'), ObjectId('672af22fe02a1652aab6460c'), ObjectId('672af22fe02a1652aab6460d'), ObjectId('672af22fe02a1652aab6460e'), ObjectId('672af22fe02a1652aab6460f'), ObjectId('672af22fe02a1652aab64610'), ObjectId('672af22fe02a1652aab64611'), ObjectId('672af22fe02a1652aab64612'), ObjectId('672af22fe02a1652aab64613'), ObjectId('672af22fe02a1652aab64614'), ObjectId('672af22fe02a1652aab64615'), ObjectId('672af22fe02a1652aab64616'), ObjectId('672af22fe02a1652aab64617'), ObjectId('672af22fe02a1652aab64618'), ObjectId('672af22fe02a1652aab64619'), ObjectId('672af22fe02a1652aab6461a'), ObjectId('672af22fe02a1652aab6461b'), ObjectId('672af22fe02a1652aab6461c'), ObjectId('672af22fe02a1652aab6461d'), ObjectId('672af22fe02a1652aab6461e'), ObjectId('672af22fe02a1652aab6461f'), ObjectId('672af22fe02a1652aab64620'), ObjectId('672af22fe02a1652aab64621'), ObjectId('672af22fe02a1652aab64622'), ObjectId('672af22fe02a1652aab64623'), ObjectId('672af22fe02a1652aab64624'), ObjectId('672af22fe02a1652aab64625'), ObjectId('672af22fe02a1652aab64626'), ObjectId('672af22fe02a1652aab64627'), ObjectId('672af22fe02a1652aab64628'), ObjectId('672af22fe02a1652aab64629'), ObjectId('672af22fe02a1652aab6462a'), ObjectId('672af22fe02a1652aab6462b'), ObjectId('672af22fe02a1652aab6462c'), ObjectId('672af22fe02a1652aab6462d'), ObjectId('672af22fe02a1652aab6462e'), ObjectId('672af22fe02a1652aab6462f'), ObjectId('672af22fe02a1652aab64630'), ObjectId('672af22fe02a1652aab64631'), ObjectId('672af22fe02a1652aab64632'), ObjectId('672af22fe02a1652aab64633'), ObjectId('672af22fe02a1652aab64634'), ObjectId('672af22fe02a1652aab64635'), ObjectId('672af22fe02a1652aab64636'), ObjectId('672af22fe02a1652aab64637'), ObjectId('672af22fe02a1652aab64638'), ObjectId('672af22fe02a1652aab64639'), ObjectId('672af22fe02a1652aab6463a'), ObjectId('672af22fe02a1652aab6463b'), ObjectId('672af22fe02a1652aab6463c'), ObjectId('672af22fe02a1652aab6463d'), ObjectId('672af22fe02a1652aab6463e'), ObjectId('672af22fe02a1652aab6463f'), ObjectId('672af22fe02a1652aab64640'), ObjectId('672af22fe02a1652aab64641'), ObjectId('672af22fe02a1652aab64642'), ObjectId('672af22fe02a1652aab64643'), ObjectId('672af22fe02a1652aab64644'), ObjectId('672af22fe02a1652aab64645'), ObjectId('672af22fe02a1652aab64646'), ObjectId('672af22fe02a1652aab64647'), ObjectId('672af22fe02a1652aab64648'), ObjectId('672af22fe02a1652aab64649'), ObjectId('672af22fe02a1652aab6464a'), ObjectId('672af22fe02a1652aab6464b'), ObjectId('672af22fe02a1652aab6464c'), ObjectId('672af22fe02a1652aab6464d'), ObjectId('672af22fe02a1652aab6464e'), ObjectId('672af22fe02a1652aab6464f'), ObjectId('672af22fe02a1652aab64650'), ObjectId('672af22fe02a1652aab64651'), ObjectId('672af22fe02a1652aab64652'), ObjectId('672af22fe02a1652aab64653'), ObjectId('672af22fe02a1652aab64654'), ObjectId('672af22fe02a1652aab64655'), ObjectId('672af22fe02a1652aab64656'), ObjectId('672af22fe02a1652aab64657'), ObjectId('672af22fe02a1652aab64658'), ObjectId('672af22fe02a1652aab64659'), ObjectId('672af22fe02a1652aab6465a'), ObjectId('672af22fe02a1652aab6465b'), ObjectId('672af22fe02a1652aab6465c'), ObjectId('672af22fe02a1652aab6465d'), ObjectId('672af22fe02a1652aab6465e'), ObjectId('672af22fe02a1652aab6465f'), ObjectId('672af22fe02a1652aab64660'), ObjectId('672af22fe02a1652aab64661'), ObjectId('672af22fe02a1652aab64662'), ObjectId('672af22fe02a1652aab64663'), ObjectId('672af22fe02a1652aab64664'), ObjectId('672af22fe02a1652aab64665'), ObjectId('672af22fe02a1652aab64666'), ObjectId('672af22fe02a1652aab64667'), ObjectId('672af22fe02a1652aab64668'), ObjectId('672af22fe02a1652aab64669'), ObjectId('672af22fe02a1652aab6466a'), ObjectId('672af22fe02a1652aab6466b'), ObjectId('672af22fe02a1652aab6466c'), ObjectId('672af22fe02a1652aab6466d'), ObjectId('672af22fe02a1652aab6466e'), ObjectId('672af22fe02a1652aab6466f'), ObjectId('672af22fe02a1652aab64670'), ObjectId('672af22fe02a1652aab64671'), ObjectId('672af22fe02a1652aab64672'), ObjectId('672af22fe02a1652aab64673'), ObjectId('672af22fe02a1652aab64674'), ObjectId('672af22fe02a1652aab64675'), ObjectId('672af22fe02a1652aab64676'), ObjectId('672af22fe02a1652aab64677'), ObjectId('672af22fe02a1652aab64678'), ObjectId('672af22fe02a1652aab64679'), ObjectId('672af22fe02a1652aab6467a'), ObjectId('672af22fe02a1652aab6467b'), ObjectId('672af22fe02a1652aab6467c'), ObjectId('672af22fe02a1652aab6467d'), ObjectId('672af22fe02a1652aab6467e'), ObjectId('672af22fe02a1652aab6467f'), ObjectId('672af22fe02a1652aab64680'), ObjectId('672af22fe02a1652aab64681'), ObjectId('672af22fe02a1652aab64682'), ObjectId('672af22fe02a1652aab64683'), ObjectId('672af22fe02a1652aab64684'), ObjectId('672af22fe02a1652aab64685'), ObjectId('672af22fe02a1652aab64686'), ObjectId('672af22fe02a1652aab64687'), ObjectId('672af22fe02a1652aab64688'), ObjectId('672af22fe02a1652aab64689'), ObjectId('672af22fe02a1652aab6468a'), ObjectId('672af22fe02a1652aab6468b'), ObjectId('672af22fe02a1652aab6468c'), ObjectId('672af22fe02a1652aab6468d'), ObjectId('672af22fe02a1652aab6468e'), ObjectId('672af22fe02a1652aab6468f'), ObjectId('672af22fe02a1652aab64690'), ObjectId('672af22fe02a1652aab64691'), ObjectId('672af22fe02a1652aab64692'), ObjectId('672af22fe02a1652aab64693'), ObjectId('672af22fe02a1652aab64694'), ObjectId('672af22fe02a1652aab64695'), ObjectId('672af22fe02a1652aab64696'), ObjectId('672af22fe02a1652aab64697'), ObjectId('672af22fe02a1652aab64698'), ObjectId('672af22fe02a1652aab64699'), ObjectId('672af22fe02a1652aab6469a'), ObjectId('672af22fe02a1652aab6469b'), ObjectId('672af22fe02a1652aab6469c'), ObjectId('672af22fe02a1652aab6469d'), ObjectId('672af22fe02a1652aab6469e'), ObjectId('672af22fe02a1652aab6469f'), ObjectId('672af22fe02a1652aab646a0'), ObjectId('672af22fe02a1652aab646a1'), ObjectId('672af22fe02a1652aab646a2'), ObjectId('672af22fe02a1652aab646a3'), ObjectId('672af22fe02a1652aab646a4'), ObjectId('672af22fe02a1652aab646a5'), ObjectId('672af22fe02a1652aab646a6'), ObjectId('672af22fe02a1652aab646a7'), ObjectId('672af22fe02a1652aab646a8'), ObjectId('672af22fe02a1652aab646a9'), ObjectId('672af22fe02a1652aab646aa'), ObjectId('672af22fe02a1652aab646ab'), ObjectId('672af22fe02a1652aab646ac'), ObjectId('672af22fe02a1652aab646ad'), ObjectId('672af22fe02a1652aab646ae'), ObjectId('672af22fe02a1652aab646af'), ObjectId('672af22fe02a1652aab646b0'), ObjectId('672af22fe02a1652aab646b1'), ObjectId('672af22fe02a1652aab646b2'), ObjectId('672af22fe02a1652aab646b3'), ObjectId('672af22fe02a1652aab646b4'), ObjectId('672af22fe02a1652aab646b5'), ObjectId('672af22fe02a1652aab646b6'), ObjectId('672af22fe02a1652aab646b7'), ObjectId('672af22fe02a1652aab646b8'), ObjectId('672af22fe02a1652aab646b9'), ObjectId('672af22fe02a1652aab646ba'), ObjectId('672af22fe02a1652aab646bb'), ObjectId('672af22fe02a1652aab646bc'), ObjectId('672af22fe02a1652aab646bd'), ObjectId('672af22fe02a1652aab646be'), ObjectId('672af22fe02a1652aab646bf'), ObjectId('672af22fe02a1652aab646c0'), ObjectId('672af22fe02a1652aab646c1'), ObjectId('672af22fe02a1652aab646c2'), ObjectId('672af22fe02a1652aab646c3'), ObjectId('672af22fe02a1652aab646c4'), ObjectId('672af22fe02a1652aab646c5'), ObjectId('672af22fe02a1652aab646c6'), ObjectId('672af22fe02a1652aab646c7'), ObjectId('672af22fe02a1652aab646c8'), ObjectId('672af22fe02a1652aab646c9'), ObjectId('672af22fe02a1652aab646ca'), ObjectId('672af22fe02a1652aab646cb'), ObjectId('672af22fe02a1652aab646cc'), ObjectId('672af22fe02a1652aab646cd'), ObjectId('672af22fe02a1652aab646ce'), ObjectId('672af22fe02a1652aab646cf'), ObjectId('672af22fe02a1652aab646d0'), ObjectId('672af22fe02a1652aab646d1'), ObjectId('672af22fe02a1652aab646d2'), ObjectId('672af22fe02a1652aab646d3'), ObjectId('672af22fe02a1652aab646d4'), ObjectId('672af22fe02a1652aab646d5'), ObjectId('672af22fe02a1652aab646d6'), ObjectId('672af22fe02a1652aab646d7'), ObjectId('672af22fe02a1652aab646d8'), ObjectId('672af22fe02a1652aab646d9'), ObjectId('672af22fe02a1652aab646da'), ObjectId('672af22fe02a1652aab646db'), ObjectId('672af22fe02a1652aab646dc'), ObjectId('672af22fe02a1652aab646dd'), ObjectId('672af22fe02a1652aab646de'), ObjectId('672af22fe02a1652aab646df'), ObjectId('672af22fe02a1652aab646e0'), ObjectId('672af22fe02a1652aab646e1'), ObjectId('672af22fe02a1652aab646e2'), ObjectId('672af22fe02a1652aab646e3'), ObjectId('672af22fe02a1652aab646e4'), ObjectId('672af22fe02a1652aab646e5'), ObjectId('672af22fe02a1652aab646e6'), ObjectId('672af22fe02a1652aab646e7'), ObjectId('672af22fe02a1652aab646e8'), ObjectId('672af22fe02a1652aab646e9'), ObjectId('672af22fe02a1652aab646ea'), ObjectId('672af22fe02a1652aab646eb'), ObjectId('672af22fe02a1652aab646ec'), ObjectId('672af22fe02a1652aab646ed'), ObjectId('672af22fe02a1652aab646ee'), ObjectId('672af22fe02a1652aab646ef'), ObjectId('672af22fe02a1652aab646f0'), ObjectId('672af22fe02a1652aab646f1'), ObjectId('672af22fe02a1652aab646f2'), ObjectId('672af22fe02a1652aab646f3'), ObjectId('672af22fe02a1652aab646f4'), ObjectId('672af22fe02a1652aab646f5'), ObjectId('672af22fe02a1652aab646f6'), ObjectId('672af22fe02a1652aab646f7'), ObjectId('672af22fe02a1652aab646f8'), ObjectId('672af22fe02a1652aab646f9'), ObjectId('672af22fe02a1652aab646fa'), ObjectId('672af22fe02a1652aab646fb'), ObjectId('672af22fe02a1652aab646fc'), ObjectId('672af22fe02a1652aab646fd'), ObjectId('672af22fe02a1652aab646fe'), ObjectId('672af22fe02a1652aab646ff'), ObjectId('672af22fe02a1652aab64700'), ObjectId('672af22fe02a1652aab64701'), ObjectId('672af22fe02a1652aab64702'), ObjectId('672af22fe02a1652aab64703'), ObjectId('672af22fe02a1652aab64704'), ObjectId('672af22fe02a1652aab64705'), ObjectId('672af22fe02a1652aab64706'), ObjectId('672af22fe02a1652aab64707'), ObjectId('672af22fe02a1652aab64708'), ObjectId('672af22fe02a1652aab64709'), ObjectId('672af22fe02a1652aab6470a'), ObjectId('672af22fe02a1652aab6470b'), ObjectId('672af22fe02a1652aab6470c'), ObjectId('672af22fe02a1652aab6470d'), ObjectId('672af22fe02a1652aab6470e'), ObjectId('672af22fe02a1652aab6470f'), ObjectId('672af22fe02a1652aab64710'), ObjectId('672af22fe02a1652aab64711'), ObjectId('672af22fe02a1652aab64712'), ObjectId('672af22fe02a1652aab64713'), ObjectId('672af22fe02a1652aab64714'), ObjectId('672af22fe02a1652aab64715'), ObjectId('672af22fe02a1652aab64716'), ObjectId('672af22fe02a1652aab64717'), ObjectId('672af22fe02a1652aab64718'), ObjectId('672af22fe02a1652aab64719'), ObjectId('672af22fe02a1652aab6471a'), ObjectId('672af22fe02a1652aab6471b'), ObjectId('672af22fe02a1652aab6471c'), ObjectId('672af22fe02a1652aab6471d'), ObjectId('672af22fe02a1652aab6471e'), ObjectId('672af22fe02a1652aab6471f'), ObjectId('672af22fe02a1652aab64720'), ObjectId('672af22fe02a1652aab64721'), ObjectId('672af22fe02a1652aab64722'), ObjectId('672af22fe02a1652aab64723'), ObjectId('672af22fe02a1652aab64724'), ObjectId('672af22fe02a1652aab64725'), ObjectId('672af22fe02a1652aab64726'), ObjectId('672af22fe02a1652aab64727'), ObjectId('672af22fe02a1652aab64728'), ObjectId('672af22fe02a1652aab64729'), ObjectId('672af22fe02a1652aab6472a'), ObjectId('672af22fe02a1652aab6472b'), ObjectId('672af22fe02a1652aab6472c'), ObjectId('672af22fe02a1652aab6472d'), ObjectId('672af22fe02a1652aab6472e'), ObjectId('672af22fe02a1652aab6472f'), ObjectId('672af22fe02a1652aab64730'), ObjectId('672af22fe02a1652aab64731'), ObjectId('672af22fe02a1652aab64732'), ObjectId('672af22fe02a1652aab64733'), ObjectId('672af22fe02a1652aab64734'), ObjectId('672af22fe02a1652aab64735'), ObjectId('672af22fe02a1652aab64736'), ObjectId('672af22fe02a1652aab64737'), ObjectId('672af22fe02a1652aab64738'), ObjectId('672af22fe02a1652aab64739'), ObjectId('672af22fe02a1652aab6473a'), ObjectId('672af22fe02a1652aab6473b'), ObjectId('672af22fe02a1652aab6473c'), ObjectId('672af22fe02a1652aab6473d'), ObjectId('672af22fe02a1652aab6473e'), ObjectId('672af22fe02a1652aab6473f'), ObjectId('672af22fe02a1652aab64740'), ObjectId('672af22fe02a1652aab64741'), ObjectId('672af22fe02a1652aab64742'), ObjectId('672af22fe02a1652aab64743'), ObjectId('672af22fe02a1652aab64744'), ObjectId('672af22fe02a1652aab64745'), ObjectId('672af22fe02a1652aab64746'), ObjectId('672af22fe02a1652aab64747'), ObjectId('672af22fe02a1652aab64748'), ObjectId('672af22fe02a1652aab64749'), ObjectId('672af22fe02a1652aab6474a'), ObjectId('672af22fe02a1652aab6474b'), ObjectId('672af22fe02a1652aab6474c'), ObjectId('672af22fe02a1652aab6474d'), ObjectId('672af22fe02a1652aab6474e'), ObjectId('672af22fe02a1652aab6474f'), ObjectId('672af22fe02a1652aab64750'), ObjectId('672af22fe02a1652aab64751'), ObjectId('672af22fe02a1652aab64752'), ObjectId('672af22fe02a1652aab64753'), ObjectId('672af22fe02a1652aab64754'), ObjectId('672af22fe02a1652aab64755'), ObjectId('672af22fe02a1652aab64756'), ObjectId('672af22fe02a1652aab64757'), ObjectId('672af22fe02a1652aab64758'), ObjectId('672af22fe02a1652aab64759'), ObjectId('672af22fe02a1652aab6475a'), ObjectId('672af22fe02a1652aab6475b'), ObjectId('672af22fe02a1652aab6475c'), ObjectId('672af22fe02a1652aab6475d'), ObjectId('672af22fe02a1652aab6475e'), ObjectId('672af22fe02a1652aab6475f'), ObjectId('672af22fe02a1652aab64760'), ObjectId('672af22fe02a1652aab64761'), ObjectId('672af22fe02a1652aab64762'), ObjectId('672af22fe02a1652aab64763'), ObjectId('672af22fe02a1652aab64764'), ObjectId('672af22fe02a1652aab64765'), ObjectId('672af22fe02a1652aab64766'), ObjectId('672af22fe02a1652aab64767'), ObjectId('672af22fe02a1652aab64768'), ObjectId('672af22fe02a1652aab64769'), ObjectId('672af22fe02a1652aab6476a'), ObjectId('672af22fe02a1652aab6476b'), ObjectId('672af22fe02a1652aab6476c'), ObjectId('672af22fe02a1652aab6476d'), ObjectId('672af22fe02a1652aab6476e'), ObjectId('672af22fe02a1652aab6476f'), ObjectId('672af22fe02a1652aab64770'), ObjectId('672af22fe02a1652aab64771'), ObjectId('672af22fe02a1652aab64772'), ObjectId('672af22fe02a1652aab64773'), ObjectId('672af22fe02a1652aab64774'), ObjectId('672af22fe02a1652aab64775'), ObjectId('672af22fe02a1652aab64776'), ObjectId('672af22fe02a1652aab64777'), ObjectId('672af22fe02a1652aab64778'), ObjectId('672af22fe02a1652aab64779'), ObjectId('672af22fe02a1652aab6477a'), ObjectId('672af22fe02a1652aab6477b'), ObjectId('672af22fe02a1652aab6477c'), ObjectId('672af22fe02a1652aab6477d'), ObjectId('672af22fe02a1652aab6477e'), ObjectId('672af22fe02a1652aab6477f'), ObjectId('672af22fe02a1652aab64780'), ObjectId('672af22fe02a1652aab64781'), ObjectId('672af22fe02a1652aab64782'), ObjectId('672af22fe02a1652aab64783'), ObjectId('672af22fe02a1652aab64784'), ObjectId('672af22fe02a1652aab64785'), ObjectId('672af22fe02a1652aab64786'), ObjectId('672af22fe02a1652aab64787'), ObjectId('672af22fe02a1652aab64788'), ObjectId('672af22fe02a1652aab64789'), ObjectId('672af22fe02a1652aab6478a'), ObjectId('672af22fe02a1652aab6478b'), ObjectId('672af22fe02a1652aab6478c'), ObjectId('672af22fe02a1652aab6478d'), ObjectId('672af22fe02a1652aab6478e'), ObjectId('672af22fe02a1652aab6478f'), ObjectId('672af22fe02a1652aab64790'), ObjectId('672af22fe02a1652aab64791'), ObjectId('672af22fe02a1652aab64792'), ObjectId('672af22fe02a1652aab64793'), ObjectId('672af22fe02a1652aab64794'), ObjectId('672af22fe02a1652aab64795'), ObjectId('672af22fe02a1652aab64796'), ObjectId('672af22fe02a1652aab64797'), ObjectId('672af22fe02a1652aab64798'), ObjectId('672af22fe02a1652aab64799'), ObjectId('672af22fe02a1652aab6479a'), ObjectId('672af22fe02a1652aab6479b'), ObjectId('672af22fe02a1652aab6479c'), ObjectId('672af22fe02a1652aab6479d'), ObjectId('672af22fe02a1652aab6479e'), ObjectId('672af22fe02a1652aab6479f'), ObjectId('672af22fe02a1652aab647a0'), ObjectId('672af22fe02a1652aab647a1'), ObjectId('672af22fe02a1652aab647a2'), ObjectId('672af22fe02a1652aab647a3'), ObjectId('672af22fe02a1652aab647a4'), ObjectId('672af22fe02a1652aab647a5'), ObjectId('672af22fe02a1652aab647a6'), ObjectId('672af22fe02a1652aab647a7'), ObjectId('672af22fe02a1652aab647a8'), ObjectId('672af22fe02a1652aab647a9'), ObjectId('672af22fe02a1652aab647aa'), ObjectId('672af22fe02a1652aab647ab'), ObjectId('672af22fe02a1652aab647ac'), ObjectId('672af22fe02a1652aab647ad'), ObjectId('672af22fe02a1652aab647ae'), ObjectId('672af22fe02a1652aab647af'), ObjectId('672af22fe02a1652aab647b0'), ObjectId('672af22fe02a1652aab647b1'), ObjectId('672af22fe02a1652aab647b2'), ObjectId('672af22fe02a1652aab647b3'), ObjectId('672af22fe02a1652aab647b4'), ObjectId('672af22fe02a1652aab647b5'), ObjectId('672af22fe02a1652aab647b6'), ObjectId('672af22fe02a1652aab647b7'), ObjectId('672af22fe02a1652aab647b8'), ObjectId('672af22fe02a1652aab647b9'), ObjectId('672af22fe02a1652aab647ba'), ObjectId('672af22fe02a1652aab647bb'), ObjectId('672af22fe02a1652aab647bc'), ObjectId('672af22fe02a1652aab647bd'), ObjectId('672af22fe02a1652aab647be'), ObjectId('672af22fe02a1652aab647bf'), ObjectId('672af22fe02a1652aab647c0'), ObjectId('672af22fe02a1652aab647c1'), ObjectId('672af22fe02a1652aab647c2'), ObjectId('672af22fe02a1652aab647c3'), ObjectId('672af22fe02a1652aab647c4'), ObjectId('672af22fe02a1652aab647c5'), ObjectId('672af22fe02a1652aab647c6'), ObjectId('672af22fe02a1652aab647c7'), ObjectId('672af22fe02a1652aab647c8'), ObjectId('672af22fe02a1652aab647c9'), ObjectId('672af22fe02a1652aab647ca'), ObjectId('672af22fe02a1652aab647cb'), ObjectId('672af22fe02a1652aab647cc'), ObjectId('672af22fe02a1652aab647cd'), ObjectId('672af22fe02a1652aab647ce'), ObjectId('672af22fe02a1652aab647cf'), ObjectId('672af22fe02a1652aab647d0'), ObjectId('672af22fe02a1652aab647d1'), ObjectId('672af22fe02a1652aab647d2'), ObjectId('672af22fe02a1652aab647d3'), ObjectId('672af22fe02a1652aab647d4'), ObjectId('672af22fe02a1652aab647d5'), ObjectId('672af22fe02a1652aab647d6'), ObjectId('672af22fe02a1652aab647d7'), ObjectId('672af22fe02a1652aab647d8'), ObjectId('672af22fe02a1652aab647d9'), ObjectId('672af22fe02a1652aab647da'), ObjectId('672af22fe02a1652aab647db'), ObjectId('672af22fe02a1652aab647dc'), ObjectId('672af22fe02a1652aab647dd'), ObjectId('672af22fe02a1652aab647de'), ObjectId('672af22fe02a1652aab647df'), ObjectId('672af22fe02a1652aab647e0'), ObjectId('672af22fe02a1652aab647e1'), ObjectId('672af22fe02a1652aab647e2'), ObjectId('672af22fe02a1652aab647e3'), ObjectId('672af22fe02a1652aab647e4'), ObjectId('672af22fe02a1652aab647e5'), ObjectId('672af22fe02a1652aab647e6'), ObjectId('672af22fe02a1652aab647e7'), ObjectId('672af22fe02a1652aab647e8'), ObjectId('672af22fe02a1652aab647e9'), ObjectId('672af22fe02a1652aab647ea'), ObjectId('672af22fe02a1652aab647eb'), ObjectId('672af22fe02a1652aab647ec'), ObjectId('672af22fe02a1652aab647ed'), ObjectId('672af22fe02a1652aab647ee'), ObjectId('672af22fe02a1652aab647ef'), ObjectId('672af22fe02a1652aab647f0'), ObjectId('672af22fe02a1652aab647f1'), ObjectId('672af22fe02a1652aab647f2'), ObjectId('672af22fe02a1652aab647f3'), ObjectId('672af22fe02a1652aab647f4'), ObjectId('672af22fe02a1652aab647f5'), ObjectId('672af22fe02a1652aab647f6'), ObjectId('672af22fe02a1652aab647f7'), ObjectId('672af22fe02a1652aab647f8'), ObjectId('672af22fe02a1652aab647f9'), ObjectId('672af22fe02a1652aab647fa'), ObjectId('672af22fe02a1652aab647fb'), ObjectId('672af22fe02a1652aab647fc'), ObjectId('672af22fe02a1652aab647fd'), ObjectId('672af22fe02a1652aab647fe'), ObjectId('672af22fe02a1652aab647ff'), ObjectId('672af22fe02a1652aab64800'), ObjectId('672af22fe02a1652aab64801'), ObjectId('672af22fe02a1652aab64802'), ObjectId('672af22fe02a1652aab64803'), ObjectId('672af22fe02a1652aab64804'), ObjectId('672af22fe02a1652aab64805'), ObjectId('672af22fe02a1652aab64806'), ObjectId('672af22fe02a1652aab64807'), ObjectId('672af22fe02a1652aab64808'), ObjectId('672af22fe02a1652aab64809'), ObjectId('672af22fe02a1652aab6480a'), ObjectId('672af22fe02a1652aab6480b'), ObjectId('672af22fe02a1652aab6480c'), ObjectId('672af22fe02a1652aab6480d'), ObjectId('672af22fe02a1652aab6480e'), ObjectId('672af22fe02a1652aab6480f'), ObjectId('672af22fe02a1652aab64810'), ObjectId('672af22fe02a1652aab64811'), ObjectId('672af22fe02a1652aab64812'), ObjectId('672af22fe02a1652aab64813'), ObjectId('672af22fe02a1652aab64814'), ObjectId('672af22fe02a1652aab64815'), ObjectId('672af22fe02a1652aab64816'), ObjectId('672af22fe02a1652aab64817'), ObjectId('672af22fe02a1652aab64818'), ObjectId('672af22fe02a1652aab64819'), ObjectId('672af22fe02a1652aab6481a'), ObjectId('672af22fe02a1652aab6481b'), ObjectId('672af22fe02a1652aab6481c'), ObjectId('672af22fe02a1652aab6481d'), ObjectId('672af22fe02a1652aab6481e'), ObjectId('672af22fe02a1652aab6481f'), ObjectId('672af22fe02a1652aab64820'), ObjectId('672af22fe02a1652aab64821'), ObjectId('672af22fe02a1652aab64822'), ObjectId('672af22fe02a1652aab64823'), ObjectId('672af22fe02a1652aab64824'), ObjectId('672af22fe02a1652aab64825'), ObjectId('672af22fe02a1652aab64826'), ObjectId('672af22fe02a1652aab64827'), ObjectId('672af22fe02a1652aab64828'), ObjectId('672af22fe02a1652aab64829'), ObjectId('672af22fe02a1652aab6482a'), ObjectId('672af22fe02a1652aab6482b'), ObjectId('672af22fe02a1652aab6482c'), ObjectId('672af22fe02a1652aab6482d'), ObjectId('672af22fe02a1652aab6482e'), ObjectId('672af22fe02a1652aab6482f'), ObjectId('672af22fe02a1652aab64830'), ObjectId('672af22fe02a1652aab64831'), ObjectId('672af22fe02a1652aab64832'), ObjectId('672af22fe02a1652aab64833'), ObjectId('672af22fe02a1652aab64834'), ObjectId('672af22fe02a1652aab64835'), ObjectId('672af22fe02a1652aab64836'), ObjectId('672af22fe02a1652aab64837'), ObjectId('672af22fe02a1652aab64838'), ObjectId('672af22fe02a1652aab64839'), ObjectId('672af22fe02a1652aab6483a'), ObjectId('672af22fe02a1652aab6483b'), ObjectId('672af22fe02a1652aab6483c'), ObjectId('672af22fe02a1652aab6483d'), ObjectId('672af22fe02a1652aab6483e'), ObjectId('672af22fe02a1652aab6483f'), ObjectId('672af22fe02a1652aab64840'), ObjectId('672af22fe02a1652aab64841'), ObjectId('672af22fe02a1652aab64842'), ObjectId('672af22fe02a1652aab64843'), ObjectId('672af22fe02a1652aab64844'), ObjectId('672af22fe02a1652aab64845'), ObjectId('672af22fe02a1652aab64846'), ObjectId('672af22fe02a1652aab64847'), ObjectId('672af22fe02a1652aab64848'), ObjectId('672af22fe02a1652aab64849'), ObjectId('672af22fe02a1652aab6484a'), ObjectId('672af22fe02a1652aab6484b'), ObjectId('672af22fe02a1652aab6484c'), ObjectId('672af22fe02a1652aab6484d'), ObjectId('672af22fe02a1652aab6484e'), ObjectId('672af22fe02a1652aab6484f'), ObjectId('672af22fe02a1652aab64850'), ObjectId('672af22fe02a1652aab64851'), ObjectId('672af22fe02a1652aab64852'), ObjectId('672af22fe02a1652aab64853'), ObjectId('672af22fe02a1652aab64854'), ObjectId('672af22fe02a1652aab64855'), ObjectId('672af22fe02a1652aab64856'), ObjectId('672af22fe02a1652aab64857'), ObjectId('672af22fe02a1652aab64858'), ObjectId('672af22fe02a1652aab64859'), ObjectId('672af22fe02a1652aab6485a'), ObjectId('672af22fe02a1652aab6485b'), ObjectId('672af22fe02a1652aab6485c'), ObjectId('672af22fe02a1652aab6485d'), ObjectId('672af22fe02a1652aab6485e'), ObjectId('672af22fe02a1652aab6485f'), ObjectId('672af22fe02a1652aab64860'), ObjectId('672af22fe02a1652aab64861'), ObjectId('672af22fe02a1652aab64862'), ObjectId('672af22fe02a1652aab64863'), ObjectId('672af22fe02a1652aab64864'), ObjectId('672af22fe02a1652aab64865'), ObjectId('672af22fe02a1652aab64866'), ObjectId('672af22fe02a1652aab64867'), ObjectId('672af22fe02a1652aab64868'), ObjectId('672af22fe02a1652aab64869'), ObjectId('672af22fe02a1652aab6486a'), ObjectId('672af22fe02a1652aab6486b'), ObjectId('672af22fe02a1652aab6486c'), ObjectId('672af22fe02a1652aab6486d'), ObjectId('672af22fe02a1652aab6486e'), ObjectId('672af22fe02a1652aab6486f'), ObjectId('672af22fe02a1652aab64870'), ObjectId('672af22fe02a1652aab64871'), ObjectId('672af22fe02a1652aab64872'), ObjectId('672af22fe02a1652aab64873'), ObjectId('672af22fe02a1652aab64874'), ObjectId('672af22fe02a1652aab64875'), ObjectId('672af22fe02a1652aab64876'), ObjectId('672af22fe02a1652aab64877'), ObjectId('672af22fe02a1652aab64878'), ObjectId('672af22fe02a1652aab64879'), ObjectId('672af22fe02a1652aab6487a'), ObjectId('672af22fe02a1652aab6487b'), ObjectId('672af22fe02a1652aab6487c'), ObjectId('672af22fe02a1652aab6487d'), ObjectId('672af22fe02a1652aab6487e'), ObjectId('672af22fe02a1652aab6487f'), ObjectId('672af22fe02a1652aab64880'), ObjectId('672af22fe02a1652aab64881'), ObjectId('672af22fe02a1652aab64882'), ObjectId('672af22fe02a1652aab64883'), ObjectId('672af22fe02a1652aab64884'), ObjectId('672af22fe02a1652aab64885'), ObjectId('672af22fe02a1652aab64886'), ObjectId('672af22fe02a1652aab64887'), ObjectId('672af22fe02a1652aab64888'), ObjectId('672af22fe02a1652aab64889'), ObjectId('672af22fe02a1652aab6488a'), ObjectId('672af22fe02a1652aab6488b'), ObjectId('672af22fe02a1652aab6488c'), ObjectId('672af22fe02a1652aab6488d'), ObjectId('672af22fe02a1652aab6488e'), ObjectId('672af22fe02a1652aab6488f'), ObjectId('672af22fe02a1652aab64890'), ObjectId('672af22fe02a1652aab64891'), ObjectId('672af22fe02a1652aab64892'), ObjectId('672af22fe02a1652aab64893'), ObjectId('672af22fe02a1652aab64894'), ObjectId('672af22fe02a1652aab64895'), ObjectId('672af22fe02a1652aab64896')], acknowledged=True)"
      ]
     },
     "execution_count": 34,
     "metadata": {},
     "output_type": "execute_result"
    }
   ],
   "source": [
    "# inserting the data in the form of dictionary\n",
    "\n",
    "collection.insert_many(preprocessed_data_dict)"
   ]
  },
  {
   "cell_type": "code",
   "execution_count": 35,
   "metadata": {},
   "outputs": [],
   "source": [
    "# #Defining an empty list to store data of each video as a dict element\n",
    "# video_data = []\n",
    "\n",
    "# # Applying the pre-processing function to every record\n",
    "\n",
    "# df.progress_apply(lambda record : video_data.append(\n",
    "#  extract_landmarks(\n",
    "#   video_id= record['video_id'],\n",
    "#   frame_start= record['frame_start'],\n",
    "#   frame_end= record['frame_end'],\n",
    "#   label= record['gloss'],\n",
    "#   bb_data = record['bbox']\n",
    "#  )\n",
    "# ) , axis = 1)\n"
   ]
  },
  {
   "cell_type": "code",
   "execution_count": 36,
   "metadata": {},
   "outputs": [
    {
     "name": "stdout",
     "output_type": "stream",
     "text": [
      "Index(['gloss', 'bbox', 'fps', 'frame_end', 'frame_start', 'instance_id',\n",
      "       'signer_id', 'split', 'variation_id', 'video_id', 'is_available'],\n",
      "      dtype='object')\n"
     ]
    }
   ],
   "source": [
    "print(df.columns)"
   ]
  }
 ],
 "metadata": {
  "kernelspec": {
   "display_name": "Python 3",
   "language": "python",
   "name": "python3"
  },
  "language_info": {
   "codemirror_mode": {
    "name": "ipython",
    "version": 3
   },
   "file_extension": ".py",
   "mimetype": "text/x-python",
   "name": "python",
   "nbconvert_exporter": "python",
   "pygments_lexer": "ipython3",
   "version": "3.12.5"
  }
 },
 "nbformat": 4,
 "nbformat_minor": 2
}
